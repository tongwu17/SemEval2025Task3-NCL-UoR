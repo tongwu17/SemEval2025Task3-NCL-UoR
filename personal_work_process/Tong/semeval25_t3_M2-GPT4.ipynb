{
 "cells": [
  {
   "cell_type": "markdown",
   "metadata": {
    "id": "N5DW1dH2ylAz"
   },
   "source": [
    "# Hallucination Detection"
   ]
  },
  {
   "cell_type": "markdown",
   "metadata": {
    "id": "w26wYl8ar0z4"
   },
   "source": [
    "1. Extractor Keywords (GPT-3.5-turbo)\n",
    "\n",
    "2. Acquire External Knowledge (Google CSE API)\n",
    "  \n",
    "3. Use (model_input, model_output_text, context) to detect hallucination words and their probabilities via GPT-4-turbo.\n",
    "\n",
    "4. Merge overlapping words and compute their probabilities using Exponentiation.\n",
    "\n",
    "5. Create Soft Labels: Identify hallucination word positions in the model_output_text and combine them with their computed probabilities."
   ]
  },
  {
   "cell_type": "code",
   "metadata": {
    "id": "a9059ef3-3823-43d9-98af-6e00cb192ed8",
    "ExecuteTime": {
     "end_time": "2025-01-23T02:13:09.577770Z",
     "start_time": "2025-01-23T02:13:09.568851Z"
    }
   },
   "source": [
    "from openai import OpenAI\n",
    "import requests\n",
    "import httpx\n",
    "import json\n",
    "import pandas as pd\n",
    "from tqdm import tqdm\n",
    "import ast\n",
    "from scorer import recompute_hard_labels, load_jsonl_file_to_records, score_iou, score_cor, main\n",
    "import numpy as np\n",
    "from langdetect import detect, LangDetectException\n",
    "import re\n",
    "import os\n",
    "import glob\n",
    "import re"
   ],
   "outputs": [],
   "execution_count": 18
  },
  {
   "cell_type": "code",
   "metadata": {
    "id": "ae31781a-f87b-4c25-8193-394d3df3d9f3",
    "ExecuteTime": {
     "end_time": "2025-01-23T02:13:09.584879Z",
     "start_time": "2025-01-23T02:13:09.582796Z"
    }
   },
   "source": [
    "# set OpenAI API and proxies\n",
    "api_key = \"\"\n",
    "\n",
    "# proxies = {\n",
    "#     \"http\": \"http://127.0.0.1:10809\",\n",
    "#     \"https\": \"http://127.0.0.1:10809\"\n",
    "# }"
   ],
   "outputs": [],
   "execution_count": 19
  },
  {
   "cell_type": "code",
   "metadata": {
    "id": "3e2dda00-3efb-41d4-8a62-13fb8ce288df",
    "ExecuteTime": {
     "end_time": "2025-01-23T02:13:09.594417Z",
     "start_time": "2025-01-23T02:13:09.592103Z"
    }
   },
   "source": [
    "prompt_template = \"\"\"\n",
    "You are an AI model output evaluation expert, responsible for detecting hallucinated words in model output and assigning accurate probability scores to each hallucination.\n",
    "\n",
    "Below is the input information:\n",
    "- **Language**: {language} (e.g., en(English), ar(Arabic), es(Spanish), etc.)\n",
    "- **Question**: {question}\n",
    "- **Model Output**: {output}\n",
    "- **Background Knowledge** (if available): {context}\n",
    "\n",
    "### **Task**:\n",
    "Your task is to:\n",
    "1. **Identify hallucinated words or phrases** in the model output based on the question and background knowledge.\n",
    "   - A word or phrase is considered a hallucination if it:\n",
    "     - Contradicts the background knowledge.\n",
    "     - Is unverifiable or fabricated.\n",
    "     - Contains logical inconsistencies.\n",
    "2. **Assign a probability score** to each hallucinated word or phrase according to the following criteria:\n",
    "   - **Probability > 0.7**: Severe factual errors or contradictions.\n",
    "   - **Probability 0.5 - 0.7**: Unverifiable or speculative content.\n",
    "   - **Probability 0.3 - 0.5**: Minor inconsistencies or unverifiable details.\n",
    "   - **Probability 0.1 - 0.3**: Minor inaccuracies or vague ambiguities.\n",
    "   - **Do not label words with probability ≤ 0.1** (i.e., verifiable facts).\n",
    "\n",
    "### **Additional Instructions**:\n",
    "- Do **not** mark redundant or overly generic words (e.g., \"the\", \"a\", \"and\") as hallucinations unless they introduce factual errors.\n",
    "- Pay special attention to:\n",
    "  - **Numerical data** (e.g., dates, quantities, percentages).\n",
    "  - **Named entities** (e.g., people, organizations, locations).\n",
    "  - **Logical contradictions** (e.g., self-contradictions within the text).\n",
    "- If background knowledge is absent, base your judgment solely on internal consistency.\n",
    "\n",
    "### **Example**:\n",
    "#### Input:\n",
    "- **Question**: \"What year did Einstein win the Nobel Prize?\"\n",
    "- **Model Output**: \"Einstein won the Nobel Prize in Physics in 1922 for his discovery of the photoelectric effect.\"\n",
    "- **Background Knowledge**: \"Einstein won the Nobel Prize in Physics in 1921.\"\n",
    "\n",
    "#### Output:\n",
    "[\n",
    "    {{\"word\": \"1922\", \"prob\": 0.9}}\n",
    "]\n",
    "\n",
    "### **Output Format**:\n",
    "Return the result as a JSON array:\n",
    "[\n",
    "    {{\"word\": <example_word>, \"prob\": <probability>}},\n",
    "    {{\"word\": <another_word>, \"prob\": <probability>}}\n",
    "]\n",
    "\n",
    "### Important:\n",
    "- Provide precise word-level annotations.\n",
    "- Do not include any text or explanations outside the JSON array.\n",
    "\"\"\"\n"
   ],
   "outputs": [],
   "execution_count": 20
  },
  {
   "cell_type": "code",
   "metadata": {
    "id": "a1f1b5a7-5cae-4720-bb34-8a0ac6726511",
    "ExecuteTime": {
     "end_time": "2025-01-23T02:13:09.603533Z",
     "start_time": "2025-01-23T02:13:09.599287Z"
    }
   },
   "source": [
    "def evaluate_with_selfcheck(question, output, context=\"\", language=\"en\", n=5, retries=3):\n",
    "\n",
    "    if context is None:\n",
    "        context = \"\"\n",
    "\n",
    "    language = language.lower()\n",
    "\n",
    "    prompt = prompt_template.format(question=question, output=output, context=context, language=language)\n",
    "\n",
    "    for attempt in range(retries):\n",
    "        try:\n",
    "            response = requests.post(\n",
    "                \"https://api.openai.com/v1/chat/completions\",\n",
    "                headers={\n",
    "                    \"Authorization\": f\"Bearer {api_key}\",\n",
    "                    \"Content-Type\": \"application/json\"\n",
    "                },\n",
    "                json={\n",
    "                    \"model\": \"gpt-4-turbo\",\n",
    "                    \"messages\": [{\"role\": \"user\", \"content\": prompt}],\n",
    "                    \"n\": n\n",
    "                },\n",
    "                # proxies=proxies\n",
    "            )\n",
    "\n",
    "            if response.status_code == 200:\n",
    "                content = response.json()[\"choices\"][0][\"message\"][\"content\"]\n",
    "                \n",
    "                # Step 1: Extract JSON content using regex\n",
    "                json_matches = re.findall(r'\\[\\s*\\{.*?\\}\\s*\\]', content, re.DOTALL)\n",
    "\n",
    "                if not json_matches:\n",
    "                    print(f\"No valid JSON found in content: {content}\")\n",
    "                    # return []\n",
    "\n",
    "                # Step 2: Parse the first matched JSON\n",
    "                json_content = json_matches[0].strip()  # Remove leading/trailing whitespace\n",
    "                try:\n",
    "                    json_data = json.loads(json_content.strip('```json').strip('```').strip())\n",
    "                    return json_data\n",
    "                except json.JSONDecodeError as e:\n",
    "                    print(f\"Failed to parse JSON content: {json_content}. Error: {e}\")\n",
    "                    # return []\n",
    "            else:\n",
    "                print(f\"Request failed with status code: {response.status_code}\")\n",
    "                print(f\"Response: {response.text}\")\n",
    "                # return []\n",
    "\n",
    "        except requests.exceptions.RequestException as e:\n",
    "            print(f\"Request failed: {e}\")\n",
    "            # return []\n",
    "\n",
    "    print(\"Retry limit exceeded, returning empty result\")\n",
    "    return []"
   ],
   "outputs": [],
   "execution_count": 21
  },
  {
   "cell_type": "code",
   "metadata": {
    "id": "724b9954-9519-4991-9346-4c178e035888",
    "ExecuteTime": {
     "end_time": "2025-01-23T02:13:09.612961Z",
     "start_time": "2025-01-23T02:13:09.607902Z"
    }
   },
   "source": [
    "# Locate word positions in the original text\n",
    "def locate_word_positions(words_with_probs, model_output_text):\n",
    "    ranges = []\n",
    "    for item in words_with_probs:\n",
    "        word = item[\"word\"]\n",
    "        prob = item[\"prob\"]\n",
    "        start_idx = model_output_text.find(word)\n",
    "        while start_idx != -1:\n",
    "            end_idx = start_idx + len(word)\n",
    "            ranges.append((start_idx, end_idx, prob))\n",
    "            start_idx = model_output_text.find(word, end_idx)\n",
    "    return ranges\n",
    "\n",
    "# Merge overlapping ranges\n",
    "def merge_ranges(ranges):\n",
    "    if not ranges:\n",
    "        return []\n",
    "    # Sort ranges by start position\n",
    "    ranges.sort(key=lambda x: x[0])\n",
    "    merged = [ranges[0]]\n",
    "    for current in ranges[1:]:\n",
    "        last = merged[-1]\n",
    "        if current[0] <= last[1]:  # Overlapping\n",
    "            new_end = max(last[1], current[1])\n",
    "            new_prob = (last[2] + current[2]) / 2  # Average probabilities\n",
    "            merged[-1] = (last[0], new_end, new_prob)\n",
    "        else:\n",
    "            merged.append(current)\n",
    "    return merged\n",
    "\n",
    "# Compute average probabilities with enhanced overlap weighting\n",
    "def compute_average_probability_v3(merged_ranges, all_ranges):\n",
    "    avg_probs = []\n",
    "    for m_start, m_end, _ in merged_ranges:\n",
    "        total_prob = 0\n",
    "        total_overlap_weight = 0\n",
    "\n",
    "        for r_start, r_end, prob in all_ranges:\n",
    "            # Calculate overlap length\n",
    "            overlap_start = max(m_start, r_start)\n",
    "            overlap_end = min(m_end, r_end)\n",
    "            overlap_length = max(0, overlap_end - overlap_start)\n",
    "\n",
    "            # Add weighted contribution (consider overlap frequency)\n",
    "            if overlap_length > 0:\n",
    "                weight = overlap_length  # Base weight is overlap length\n",
    "                total_prob += prob * weight\n",
    "                total_overlap_weight += weight\n",
    "\n",
    "        # Adjust probability by total weight (with enhancement factor)\n",
    "        if total_overlap_weight > 0:\n",
    "            final_prob = (total_prob / total_overlap_weight) ** 1.2  # Enhancing frequent overlaps\n",
    "        else:\n",
    "            final_prob = 0  # No overlap, probability is zero\n",
    "\n",
    "        avg_probs.append(final_prob)\n",
    "    return avg_probs\n",
    "\n",
    "# Main function to process hallucination detection\n",
    "def process_hallucination_detection(question, model_output_text, context, language):\n",
    "    # Call GPT model to get hallucinated words and probabilities\n",
    "    hallucination_results = evaluate_with_selfcheck(question, model_output_text, context, language)\n",
    "\n",
    "    # Ensure hallucination_results is a list\n",
    "    if not isinstance(hallucination_results, list):\n",
    "        print(f\"Hallucination results is not a list: {hallucination_results}\")\n",
    "        return []\n",
    "\n",
    "    # Filter out hallucinations with probability <= 0.1\n",
    "    hallucinations = [item for item in hallucination_results if isinstance(item, dict) and item.get(\"prob\", 0) > 0.1]\n",
    "\n",
    "    # Locate hallucination positions in the model output text\n",
    "    hallucination_ranges = locate_word_positions(hallucinations, model_output_text)\n",
    "    # print(\"Hallucination Ranges:\", hallucination_ranges)\n",
    "\n",
    "    # Merge overlapping ranges\n",
    "    merged_ranges = merge_ranges(hallucination_ranges)\n",
    "    # print(\"Merged Ranges:\", merged_ranges)\n",
    "\n",
    "    # Compute final probabilities for merged ranges\n",
    "    final_probabilities = compute_average_probability_v3(merged_ranges, hallucination_ranges)\n",
    "\n",
    "    # Prepare final output\n",
    "    result = []\n",
    "    for i, (start, end, _) in enumerate(merged_ranges):\n",
    "        result.append({\n",
    "            \"start\": start,\n",
    "            \"end\": end,\n",
    "            \"prob\": final_probabilities[i]\n",
    "        })\n",
    "    return result"
   ],
   "outputs": [],
   "execution_count": 22
  },
  {
   "cell_type": "code",
   "metadata": {
    "id": "9533e57e-f1f0-4ba3-8c8e-36717a126456",
    "ExecuteTime": {
     "end_time": "2025-01-23T02:13:09.621Z",
     "start_time": "2025-01-23T02:13:09.617096Z"
    }
   },
   "source": [
    "def process_dataset(input_folder, output_folder):\n",
    "    os.makedirs(output_folder, exist_ok=True)\n",
    "    input_files = glob.glob(os.path.join(input_folder, \"*.jsonl\"))\n",
    "\n",
    "    with tqdm(total=len(input_files), desc=\"Processing Files\", unit=\"file\") as file_progress:\n",
    "        for file_path in input_files:\n",
    "            with open(file_path, 'r', encoding='utf-8') as f:\n",
    "                data = [json.loads(line) for line in f]\n",
    "\n",
    "            output_data = []\n",
    "\n",
    "            with tqdm(total=len(data), desc=f\"Processing {os.path.basename(file_path)}\", unit=\"entry\", leave=False) as entry_progress:\n",
    "                for entry in data:\n",
    "                    try:\n",
    "                        question = entry.get(\"model_input\", \"\")\n",
    "                        model_output_text = entry.get(\"model_output_text\", \"\")\n",
    "                        context = entry.get(\"wikipedia_context\", \"\")\n",
    "                        language = entry.get(\"lang\", \"\").lower()\n",
    "\n",
    "                        soft_labels = process_hallucination_detection(\n",
    "                            question, model_output_text, context, language\n",
    "                        )\n",
    "                        hard_labels = recompute_hard_labels(soft_labels)\n",
    "\n",
    "                        output_entry = {\n",
    "                            \"id\": entry.get(\"id\"),\n",
    "                            \"lang\": entry.get(\"lang\"),\n",
    "                            \"model_input\": entry.get(\"model_input\"),\n",
    "                            \"model_output_text\": entry.get(\"model_output_text\"),\n",
    "                            \"model_id\": entry.get(\"model_id\"),\n",
    "                            \"soft_labels\": soft_labels,\n",
    "                            \"hard_labels\": hard_labels,\n",
    "                            \"model_output_logits\": entry.get(\"model_output_logits\"),\n",
    "                            \"model_output_tokens\": entry.get(\"model_output_tokens\")\n",
    "                        }\n",
    "\n",
    "                        output_data.append(output_entry)\n",
    "\n",
    "                    except Exception as e:\n",
    "                        print(f\"Error processing entry {entry.get('id')}: {e}\")\n",
    "\n",
    "                    entry_progress.update(1)\n",
    "\n",
    "            output_file = os.path.join(output_folder, os.path.basename(file_path))\n",
    "            with open(output_file, 'w', encoding='utf-8') as f:\n",
    "                for item in output_data:\n",
    "                    f.write(json.dumps(item, ensure_ascii=False) + '\\n')\n",
    "\n",
    "            file_progress.update(1)\n",
    "            print(f\"Processed and saved: {output_file}\")"
   ],
   "outputs": [],
   "execution_count": 23
  },
  {
   "cell_type": "code",
   "metadata": {
    "id": "9b3bc93a-a6f0-45b5-8048-931fc24a9e45",
    "outputId": "e445706d-3837-48d8-d746-cea5fac77555",
    "scrolled": true,
    "ExecuteTime": {
     "end_time": "2025-01-23T04:37:24.276395Z",
     "start_time": "2025-01-23T02:13:09.625346Z"
    }
   },
   "source": [
    "# test unlabeled dataset\n",
    "input_folder = \"data/test_exknowledge_m1/\"\n",
    "output_folder = \"data/test_detect_gpt4_m2/\"\n",
    "\n",
    "# val dataset\n",
    "# input_folder = \"data/val_exknowledge_m1/\"\n",
    "# output_folder = \"data/val_detect_gpt4_m2/\"\n",
    "\n",
    "process_dataset(input_folder, output_folder)"
   ],
   "outputs": [
    {
     "name": "stderr",
     "output_type": "stream",
     "text": [
      "Processing Files:   0%|          | 0/14 [00:00<?, ?file/s]\n",
      "Processing mushroom.fr-tst.v1.jsonl:   0%|          | 0/150 [00:00<?, ?entry/s]\u001B[A\n",
      "Processing mushroom.fr-tst.v1.jsonl:   1%|          | 1/150 [00:06<15:32,  6.26s/entry]\u001B[A\n",
      "Processing mushroom.fr-tst.v1.jsonl:   1%|▏         | 2/150 [00:09<10:55,  4.43s/entry]\u001B[A\n",
      "Processing mushroom.fr-tst.v1.jsonl:   2%|▏         | 3/150 [00:12<09:37,  3.93s/entry]\u001B[A\n",
      "Processing mushroom.fr-tst.v1.jsonl:   3%|▎         | 4/150 [00:18<11:29,  4.72s/entry]\u001B[A\n",
      "Processing mushroom.fr-tst.v1.jsonl:   3%|▎         | 5/150 [00:27<14:41,  6.08s/entry]\u001B[A\n",
      "Processing mushroom.fr-tst.v1.jsonl:   4%|▍         | 6/150 [00:29<11:35,  4.83s/entry]\u001B[A\n",
      "Processing mushroom.fr-tst.v1.jsonl:   5%|▍         | 7/150 [00:31<09:30,  3.99s/entry]\u001B[A\n",
      "Processing mushroom.fr-tst.v1.jsonl:   5%|▌         | 8/150 [00:34<08:13,  3.47s/entry]\u001B[A\n",
      "Processing mushroom.fr-tst.v1.jsonl:   6%|▌         | 9/150 [00:36<07:23,  3.15s/entry]\u001B[A\n",
      "Processing mushroom.fr-tst.v1.jsonl:   7%|▋         | 10/150 [00:39<07:24,  3.17s/entry]\u001B[A\n",
      "Processing mushroom.fr-tst.v1.jsonl:   7%|▋         | 11/150 [00:45<09:19,  4.03s/entry]\u001B[A\n",
      "Processing mushroom.fr-tst.v1.jsonl:   8%|▊         | 12/150 [00:58<14:58,  6.51s/entry]\u001B[A\n",
      "Processing mushroom.fr-tst.v1.jsonl:   9%|▊         | 13/150 [01:05<15:11,  6.66s/entry]\u001B[A\n",
      "Processing mushroom.fr-tst.v1.jsonl:   9%|▉         | 14/150 [01:14<16:44,  7.38s/entry]\u001B[A\n",
      "Processing mushroom.fr-tst.v1.jsonl:  10%|█         | 15/150 [01:19<15:09,  6.74s/entry]\u001B[A\n",
      "Processing mushroom.fr-tst.v1.jsonl:  11%|█         | 16/150 [01:22<12:52,  5.76s/entry]\u001B[A\n",
      "Processing mushroom.fr-tst.v1.jsonl:  11%|█▏        | 17/150 [01:25<10:52,  4.91s/entry]\u001B[A\n",
      "Processing mushroom.fr-tst.v1.jsonl:  12%|█▏        | 18/150 [01:27<09:01,  4.11s/entry]\u001B[A\n",
      "Processing mushroom.fr-tst.v1.jsonl:  13%|█▎        | 19/150 [01:32<09:15,  4.24s/entry]\u001B[A\n",
      "Processing mushroom.fr-tst.v1.jsonl:  13%|█▎        | 20/150 [01:35<08:32,  3.95s/entry]\u001B[A\n",
      "Processing mushroom.fr-tst.v1.jsonl:  14%|█▍        | 21/150 [01:40<08:48,  4.09s/entry]\u001B[A\n",
      "Processing mushroom.fr-tst.v1.jsonl:  15%|█▍        | 22/150 [01:49<11:54,  5.58s/entry]\u001B[A\n",
      "Processing mushroom.fr-tst.v1.jsonl:  15%|█▌        | 23/150 [01:51<09:41,  4.58s/entry]\u001B[A\n",
      "Processing mushroom.fr-tst.v1.jsonl:  16%|█▌        | 24/150 [01:54<08:53,  4.23s/entry]\u001B[A\n",
      "Processing mushroom.fr-tst.v1.jsonl:  17%|█▋        | 25/150 [01:57<07:39,  3.67s/entry]\u001B[A\n",
      "Processing mushroom.fr-tst.v1.jsonl:  17%|█▋        | 26/150 [02:02<08:29,  4.11s/entry]\u001B[A\n",
      "Processing mushroom.fr-tst.v1.jsonl:  18%|█▊        | 27/150 [02:06<08:34,  4.18s/entry]\u001B[A\n",
      "Processing mushroom.fr-tst.v1.jsonl:  19%|█▊        | 28/150 [02:09<07:26,  3.66s/entry]\u001B[A\n",
      "Processing mushroom.fr-tst.v1.jsonl:  19%|█▉        | 29/150 [02:11<06:31,  3.24s/entry]\u001B[A\n",
      "Processing mushroom.fr-tst.v1.jsonl:  20%|██        | 30/150 [02:13<05:39,  2.83s/entry]\u001B[A"
     ]
    },
    {
     "name": "stdout",
     "output_type": "stream",
     "text": [
      "Request failed: ('Connection aborted.', RemoteDisconnected('Remote end closed connection without response'))\n"
     ]
    },
    {
     "name": "stderr",
     "output_type": "stream",
     "text": [
      "\n",
      "Processing mushroom.fr-tst.v1.jsonl:  21%|██        | 31/150 [02:38<18:39,  9.40s/entry]\u001B[A\n",
      "Processing mushroom.fr-tst.v1.jsonl:  21%|██▏       | 32/150 [02:41<14:48,  7.53s/entry]\u001B[A\n",
      "Processing mushroom.fr-tst.v1.jsonl:  22%|██▏       | 33/150 [02:44<12:23,  6.35s/entry]\u001B[A\n",
      "Processing mushroom.fr-tst.v1.jsonl:  23%|██▎       | 34/150 [02:46<09:30,  4.92s/entry]\u001B[A"
     ]
    },
    {
     "name": "stdout",
     "output_type": "stream",
     "text": [
      "No valid JSON found in content: []\n",
      "Error processing entry tst-fr-34: list index out of range\n"
     ]
    },
    {
     "name": "stderr",
     "output_type": "stream",
     "text": [
      "\n",
      "Processing mushroom.fr-tst.v1.jsonl:  23%|██▎       | 35/150 [02:49<08:12,  4.28s/entry]\u001B[A\n",
      "Processing mushroom.fr-tst.v1.jsonl:  24%|██▍       | 36/150 [02:51<06:58,  3.67s/entry]\u001B[A\n",
      "Processing mushroom.fr-tst.v1.jsonl:  25%|██▍       | 37/150 [02:56<07:30,  3.99s/entry]\u001B[A\n",
      "Processing mushroom.fr-tst.v1.jsonl:  25%|██▌       | 38/150 [03:01<07:54,  4.23s/entry]\u001B[A\n",
      "Processing mushroom.fr-tst.v1.jsonl:  26%|██▌       | 39/150 [03:02<06:21,  3.44s/entry]\u001B[A"
     ]
    },
    {
     "name": "stdout",
     "output_type": "stream",
     "text": [
      "No valid JSON found in content: []\n",
      "\n",
      "Error processing entry tst-fr-39: list index out of range\n"
     ]
    },
    {
     "name": "stderr",
     "output_type": "stream",
     "text": [
      "\n",
      "Processing mushroom.fr-tst.v1.jsonl:  27%|██▋       | 40/150 [03:11<09:30,  5.19s/entry]\u001B[A\n",
      "Processing mushroom.fr-tst.v1.jsonl:  27%|██▋       | 41/150 [03:15<08:37,  4.74s/entry]\u001B[A\n",
      "Processing mushroom.fr-tst.v1.jsonl:  28%|██▊       | 42/150 [03:21<09:12,  5.11s/entry]\u001B[A\n",
      "Processing mushroom.fr-tst.v1.jsonl:  29%|██▊       | 43/150 [03:26<08:50,  4.95s/entry]\u001B[A\n",
      "Processing mushroom.fr-tst.v1.jsonl:  29%|██▉       | 44/150 [03:34<10:28,  5.92s/entry]\u001B[A\n",
      "Processing mushroom.fr-tst.v1.jsonl:  30%|███       | 45/150 [03:38<09:28,  5.41s/entry]\u001B[A\n",
      "Processing mushroom.fr-tst.v1.jsonl:  31%|███       | 46/150 [03:45<10:05,  5.82s/entry]\u001B[A\n",
      "Processing mushroom.fr-tst.v1.jsonl:  31%|███▏      | 47/150 [03:47<08:20,  4.86s/entry]\u001B[A\n",
      "Processing mushroom.fr-tst.v1.jsonl:  32%|███▏      | 48/150 [03:52<08:02,  4.73s/entry]\u001B[A\n",
      "Processing mushroom.fr-tst.v1.jsonl:  33%|███▎      | 49/150 [03:57<08:22,  4.98s/entry]\u001B[A\n",
      "Processing mushroom.fr-tst.v1.jsonl:  33%|███▎      | 50/150 [04:00<07:17,  4.38s/entry]\u001B[A\n",
      "Processing mushroom.fr-tst.v1.jsonl:  34%|███▍      | 51/150 [04:03<06:23,  3.87s/entry]\u001B[A"
     ]
    },
    {
     "name": "stdout",
     "output_type": "stream",
     "text": [
      "No valid JSON found in content: []\n",
      "\n",
      "Error processing entry tst-fr-51: list index out of range\n"
     ]
    },
    {
     "name": "stderr",
     "output_type": "stream",
     "text": [
      "\n",
      "Processing mushroom.fr-tst.v1.jsonl:  35%|███▍      | 52/150 [04:11<08:06,  4.96s/entry]\u001B[A\n",
      "Processing mushroom.fr-tst.v1.jsonl:  35%|███▌      | 53/150 [04:13<06:42,  4.15s/entry]\u001B[A\n",
      "Processing mushroom.fr-tst.v1.jsonl:  36%|███▌      | 54/150 [04:16<06:02,  3.78s/entry]\u001B[A\n",
      "Processing mushroom.fr-tst.v1.jsonl:  37%|███▋      | 55/150 [04:19<05:52,  3.71s/entry]\u001B[A\n",
      "Processing mushroom.fr-tst.v1.jsonl:  37%|███▋      | 56/150 [04:24<06:13,  3.98s/entry]\u001B[A\n",
      "Processing mushroom.fr-tst.v1.jsonl:  38%|███▊      | 57/150 [04:26<05:10,  3.34s/entry]\u001B[A\n",
      "Processing mushroom.fr-tst.v1.jsonl:  39%|███▊      | 58/150 [04:30<05:39,  3.69s/entry]\u001B[A\n",
      "Processing mushroom.fr-tst.v1.jsonl:  39%|███▉      | 59/150 [04:37<07:01,  4.63s/entry]\u001B[A\n",
      "Processing mushroom.fr-tst.v1.jsonl:  40%|████      | 60/150 [04:40<06:09,  4.11s/entry]\u001B[A"
     ]
    },
    {
     "name": "stdout",
     "output_type": "stream",
     "text": [
      "Request failed: ('Connection aborted.', RemoteDisconnected('Remote end closed connection without response'))\n",
      "Request failed: ('Connection aborted.', RemoteDisconnected('Remote end closed connection without response'))\n"
     ]
    },
    {
     "name": "stderr",
     "output_type": "stream",
     "text": [
      "\n",
      "Processing mushroom.fr-tst.v1.jsonl:  41%|████      | 61/150 [05:16<20:15, 13.66s/entry]\u001B[A\n",
      "Processing mushroom.fr-tst.v1.jsonl:  41%|████▏     | 62/150 [05:18<14:57, 10.20s/entry]\u001B[A\n",
      "Processing mushroom.fr-tst.v1.jsonl:  42%|████▏     | 63/150 [05:20<11:14,  7.75s/entry]\u001B[A\n",
      "Processing mushroom.fr-tst.v1.jsonl:  43%|████▎     | 64/150 [05:23<08:50,  6.17s/entry]\u001B[A\n",
      "Processing mushroom.fr-tst.v1.jsonl:  43%|████▎     | 65/150 [05:26<07:30,  5.29s/entry]\u001B[A\n",
      "Processing mushroom.fr-tst.v1.jsonl:  44%|████▍     | 66/150 [05:34<08:28,  6.06s/entry]\u001B[A\n",
      "Processing mushroom.fr-tst.v1.jsonl:  45%|████▍     | 67/150 [05:40<08:29,  6.13s/entry]\u001B[A\n",
      "Processing mushroom.fr-tst.v1.jsonl:  45%|████▌     | 68/150 [05:46<08:16,  6.06s/entry]\u001B[A\n",
      "Processing mushroom.fr-tst.v1.jsonl:  46%|████▌     | 69/150 [05:50<07:32,  5.58s/entry]\u001B[A\n",
      "Processing mushroom.fr-tst.v1.jsonl:  47%|████▋     | 70/150 [05:53<06:12,  4.66s/entry]\u001B[A\n",
      "Processing mushroom.fr-tst.v1.jsonl:  47%|████▋     | 71/150 [05:55<05:16,  4.01s/entry]\u001B[A\n",
      "Processing mushroom.fr-tst.v1.jsonl:  48%|████▊     | 72/150 [05:58<04:33,  3.51s/entry]\u001B[A\n",
      "Processing mushroom.fr-tst.v1.jsonl:  49%|████▊     | 73/150 [06:00<03:55,  3.06s/entry]\u001B[A\n",
      "Processing mushroom.fr-tst.v1.jsonl:  49%|████▉     | 74/150 [06:05<04:49,  3.81s/entry]\u001B[A\n",
      "Processing mushroom.fr-tst.v1.jsonl:  50%|█████     | 75/150 [06:11<05:23,  4.31s/entry]\u001B[A\n",
      "Processing mushroom.fr-tst.v1.jsonl:  51%|█████     | 76/150 [06:13<04:39,  3.77s/entry]\u001B[A\n",
      "Processing mushroom.fr-tst.v1.jsonl:  51%|█████▏    | 77/150 [06:17<04:37,  3.80s/entry]\u001B[A\n",
      "Processing mushroom.fr-tst.v1.jsonl:  52%|█████▏    | 78/150 [06:20<04:07,  3.44s/entry]\u001B[A\n",
      "Processing mushroom.fr-tst.v1.jsonl:  53%|█████▎    | 79/150 [06:31<06:42,  5.67s/entry]\u001B[A\n",
      "Processing mushroom.fr-tst.v1.jsonl:  53%|█████▎    | 80/150 [06:42<08:41,  7.44s/entry]\u001B[A\n",
      "Processing mushroom.fr-tst.v1.jsonl:  54%|█████▍    | 81/150 [06:46<07:23,  6.43s/entry]\u001B[A\n",
      "Processing mushroom.fr-tst.v1.jsonl:  55%|█████▍    | 82/150 [06:51<06:44,  5.95s/entry]\u001B[A\n",
      "Processing mushroom.fr-tst.v1.jsonl:  55%|█████▌    | 83/150 [06:54<05:33,  4.98s/entry]\u001B[A\n",
      "Processing mushroom.fr-tst.v1.jsonl:  56%|█████▌    | 84/150 [06:55<04:20,  3.95s/entry]\u001B[A"
     ]
    },
    {
     "name": "stdout",
     "output_type": "stream",
     "text": [
      "No valid JSON found in content: []\n",
      "Error processing entry tst-fr-84: list index out of range\n"
     ]
    },
    {
     "name": "stderr",
     "output_type": "stream",
     "text": [
      "\n",
      "Processing mushroom.fr-tst.v1.jsonl:  57%|█████▋    | 85/150 [07:05<06:03,  5.59s/entry]\u001B[A\n",
      "Processing mushroom.fr-tst.v1.jsonl:  57%|█████▋    | 86/150 [07:07<05:03,  4.74s/entry]\u001B[A\n",
      "Processing mushroom.fr-tst.v1.jsonl:  58%|█████▊    | 87/150 [07:13<05:22,  5.12s/entry]\u001B[A\n",
      "Processing mushroom.fr-tst.v1.jsonl:  59%|█████▊    | 88/150 [07:26<07:26,  7.20s/entry]\u001B[A\n",
      "Processing mushroom.fr-tst.v1.jsonl:  59%|█████▉    | 89/150 [07:30<06:21,  6.25s/entry]\u001B[A\n",
      "Processing mushroom.fr-tst.v1.jsonl:  60%|██████    | 90/150 [07:33<05:15,  5.26s/entry]\u001B[A\n",
      "Processing mushroom.fr-tst.v1.jsonl:  61%|██████    | 91/150 [07:35<04:18,  4.37s/entry]\u001B[A\n",
      "Processing mushroom.fr-tst.v1.jsonl:  61%|██████▏   | 92/150 [07:38<03:57,  4.09s/entry]\u001B[A"
     ]
    },
    {
     "name": "stdout",
     "output_type": "stream",
     "text": [
      "No valid JSON found in content: []\n",
      "\n",
      "Error processing entry tst-fr-92: list index out of range\n"
     ]
    },
    {
     "name": "stderr",
     "output_type": "stream",
     "text": [
      "\n",
      "Processing mushroom.fr-tst.v1.jsonl:  62%|██████▏   | 93/150 [07:42<03:46,  3.98s/entry]\u001B[A\n",
      "Processing mushroom.fr-tst.v1.jsonl:  63%|██████▎   | 94/150 [07:44<03:15,  3.48s/entry]\u001B[A\n",
      "Processing mushroom.fr-tst.v1.jsonl:  63%|██████▎   | 95/150 [07:47<03:04,  3.35s/entry]\u001B[A\n",
      "Processing mushroom.fr-tst.v1.jsonl:  64%|██████▍   | 96/150 [07:51<03:06,  3.45s/entry]\u001B[A\n",
      "Processing mushroom.fr-tst.v1.jsonl:  65%|██████▍   | 97/150 [07:54<02:49,  3.19s/entry]\u001B[A\n",
      "Processing mushroom.fr-tst.v1.jsonl:  65%|██████▌   | 98/150 [07:56<02:30,  2.90s/entry]\u001B[A\n",
      "Processing mushroom.fr-tst.v1.jsonl:  66%|██████▌   | 99/150 [07:59<02:34,  3.03s/entry]\u001B[A\n",
      "Processing mushroom.fr-tst.v1.jsonl:  67%|██████▋   | 100/150 [08:02<02:29,  2.98s/entry]\u001B[A\n",
      "Processing mushroom.fr-tst.v1.jsonl:  67%|██████▋   | 101/150 [08:08<03:14,  3.96s/entry]\u001B[A\n",
      "Processing mushroom.fr-tst.v1.jsonl:  68%|██████▊   | 102/150 [08:12<03:06,  3.88s/entry]\u001B[A\n",
      "Processing mushroom.fr-tst.v1.jsonl:  69%|██████▊   | 103/150 [08:14<02:39,  3.40s/entry]\u001B[A\n",
      "Processing mushroom.fr-tst.v1.jsonl:  69%|██████▉   | 104/150 [08:16<02:17,  2.98s/entry]\u001B[A\n",
      "Processing mushroom.fr-tst.v1.jsonl:  70%|███████   | 105/150 [08:23<02:58,  3.98s/entry]\u001B[A\n",
      "Processing mushroom.fr-tst.v1.jsonl:  71%|███████   | 106/150 [08:25<02:33,  3.49s/entry]\u001B[A\n",
      "Processing mushroom.fr-tst.v1.jsonl:  71%|███████▏  | 107/150 [08:41<05:10,  7.23s/entry]\u001B[A\n",
      "Processing mushroom.fr-tst.v1.jsonl:  72%|███████▏  | 108/150 [08:44<04:11,  5.99s/entry]\u001B[A\n",
      "Processing mushroom.fr-tst.v1.jsonl:  73%|███████▎  | 109/150 [08:50<04:05,  5.98s/entry]\u001B[A\n",
      "Processing mushroom.fr-tst.v1.jsonl:  73%|███████▎  | 110/150 [08:53<03:18,  4.96s/entry]\u001B[A\n",
      "Processing mushroom.fr-tst.v1.jsonl:  74%|███████▍  | 111/150 [08:55<02:48,  4.32s/entry]\u001B[A\n",
      "Processing mushroom.fr-tst.v1.jsonl:  75%|███████▍  | 112/150 [08:59<02:31,  3.98s/entry]\u001B[A\n",
      "Processing mushroom.fr-tst.v1.jsonl:  75%|███████▌  | 113/150 [09:01<02:08,  3.47s/entry]\u001B[A\n",
      "Processing mushroom.fr-tst.v1.jsonl:  76%|███████▌  | 114/150 [09:03<01:51,  3.09s/entry]\u001B[A\n",
      "Processing mushroom.fr-tst.v1.jsonl:  77%|███████▋  | 115/150 [09:08<02:04,  3.55s/entry]\u001B[A\n",
      "Processing mushroom.fr-tst.v1.jsonl:  77%|███████▋  | 116/150 [09:15<02:34,  4.56s/entry]\u001B[A\n",
      "Processing mushroom.fr-tst.v1.jsonl:  78%|███████▊  | 117/150 [09:17<02:06,  3.84s/entry]\u001B[A\n",
      "Processing mushroom.fr-tst.v1.jsonl:  79%|███████▊  | 118/150 [09:19<01:52,  3.52s/entry]\u001B[A\n",
      "Processing mushroom.fr-tst.v1.jsonl:  79%|███████▉  | 119/150 [09:25<02:06,  4.07s/entry]\u001B[A\n",
      "Processing mushroom.fr-tst.v1.jsonl:  80%|████████  | 120/150 [09:28<01:56,  3.87s/entry]\u001B[A\n",
      "Processing mushroom.fr-tst.v1.jsonl:  81%|████████  | 121/150 [09:41<03:12,  6.65s/entry]\u001B[A"
     ]
    },
    {
     "name": "stdout",
     "output_type": "stream",
     "text": [
      "No valid JSON found in content: []\n",
      "\n",
      "Error processing entry tst-fr-121: list index out of range\n"
     ]
    },
    {
     "name": "stderr",
     "output_type": "stream",
     "text": [
      "\n",
      "Processing mushroom.fr-tst.v1.jsonl:  81%|████████▏ | 122/150 [09:47<02:57,  6.33s/entry]\u001B[A\n",
      "Processing mushroom.fr-tst.v1.jsonl:  82%|████████▏ | 123/150 [09:53<02:52,  6.38s/entry]\u001B[A\n",
      "Processing mushroom.fr-tst.v1.jsonl:  83%|████████▎ | 124/150 [09:57<02:20,  5.41s/entry]\u001B[A"
     ]
    },
    {
     "name": "stdout",
     "output_type": "stream",
     "text": [
      "No valid JSON found in content: []\n",
      "\n",
      "Error processing entry tst-fr-124: list index out of range\n"
     ]
    },
    {
     "name": "stderr",
     "output_type": "stream",
     "text": [
      "\n",
      "Processing mushroom.fr-tst.v1.jsonl:  83%|████████▎ | 125/150 [10:02<02:16,  5.48s/entry]\u001B[A\n",
      "Processing mushroom.fr-tst.v1.jsonl:  84%|████████▍ | 126/150 [10:06<01:56,  4.84s/entry]\u001B[A"
     ]
    },
    {
     "name": "stdout",
     "output_type": "stream",
     "text": [
      "No valid JSON found in content: []\n",
      "\n",
      "Error processing entry tst-fr-126: list index out of range\n"
     ]
    },
    {
     "name": "stderr",
     "output_type": "stream",
     "text": [
      "\n",
      "Processing mushroom.fr-tst.v1.jsonl:  85%|████████▍ | 127/150 [10:11<01:56,  5.06s/entry]\u001B[A\n",
      "Processing mushroom.fr-tst.v1.jsonl:  85%|████████▌ | 128/150 [10:16<01:53,  5.14s/entry]\u001B[A\n",
      "Processing mushroom.fr-tst.v1.jsonl:  86%|████████▌ | 129/150 [10:21<01:47,  5.10s/entry]\u001B[A\n",
      "Processing mushroom.fr-tst.v1.jsonl:  87%|████████▋ | 130/150 [10:26<01:41,  5.05s/entry]\u001B[A\n",
      "Processing mushroom.fr-tst.v1.jsonl:  87%|████████▋ | 131/150 [10:30<01:28,  4.64s/entry]\u001B[A\n",
      "Processing mushroom.fr-tst.v1.jsonl:  88%|████████▊ | 132/150 [10:33<01:14,  4.12s/entry]\u001B[A\n",
      "Processing mushroom.fr-tst.v1.jsonl:  89%|████████▊ | 133/150 [10:36<01:03,  3.74s/entry]\u001B[A\n",
      "Processing mushroom.fr-tst.v1.jsonl:  89%|████████▉ | 134/150 [10:43<01:18,  4.89s/entry]\u001B[A\n",
      "Processing mushroom.fr-tst.v1.jsonl:  90%|█████████ | 135/150 [10:47<01:07,  4.52s/entry]\u001B[A\n",
      "Processing mushroom.fr-tst.v1.jsonl:  91%|█████████ | 136/150 [10:49<00:53,  3.83s/entry]\u001B[A\n",
      "Processing mushroom.fr-tst.v1.jsonl:  91%|█████████▏| 137/150 [10:52<00:45,  3.48s/entry]\u001B[A\n",
      "Processing mushroom.fr-tst.v1.jsonl:  92%|█████████▏| 138/150 [10:55<00:38,  3.23s/entry]\u001B[A\n",
      "Processing mushroom.fr-tst.v1.jsonl:  93%|█████████▎| 139/150 [10:57<00:31,  2.90s/entry]\u001B[A\n",
      "Processing mushroom.fr-tst.v1.jsonl:  93%|█████████▎| 140/150 [11:00<00:29,  2.99s/entry]\u001B[A\n",
      "Processing mushroom.fr-tst.v1.jsonl:  94%|█████████▍| 141/150 [11:03<00:27,  3.02s/entry]\u001B[A\n",
      "Processing mushroom.fr-tst.v1.jsonl:  95%|█████████▍| 142/150 [11:06<00:24,  3.08s/entry]\u001B[A\n",
      "Processing mushroom.fr-tst.v1.jsonl:  95%|█████████▌| 143/150 [11:09<00:19,  2.82s/entry]\u001B[A\n",
      "Processing mushroom.fr-tst.v1.jsonl:  96%|█████████▌| 144/150 [11:11<00:16,  2.81s/entry]\u001B[A\n",
      "Processing mushroom.fr-tst.v1.jsonl:  97%|█████████▋| 145/150 [11:15<00:15,  3.12s/entry]\u001B[A\n",
      "Processing mushroom.fr-tst.v1.jsonl:  97%|█████████▋| 146/150 [11:17<00:11,  2.82s/entry]\u001B[A\n",
      "Processing mushroom.fr-tst.v1.jsonl:  98%|█████████▊| 147/150 [11:26<00:13,  4.53s/entry]\u001B[A\n",
      "Processing mushroom.fr-tst.v1.jsonl:  99%|█████████▊| 148/150 [11:27<00:07,  3.67s/entry]\u001B[A"
     ]
    },
    {
     "name": "stdout",
     "output_type": "stream",
     "text": [
      "No valid JSON found in content: []\n",
      "Error processing entry tst-fr-148: list index out of range\n"
     ]
    },
    {
     "name": "stderr",
     "output_type": "stream",
     "text": [
      "\n",
      "Processing mushroom.fr-tst.v1.jsonl:  99%|█████████▉| 149/150 [11:30<00:03,  3.48s/entry]\u001B[A\n",
      "Processing mushroom.fr-tst.v1.jsonl: 100%|██████████| 150/150 [11:33<00:00,  3.17s/entry]\u001B[A\n",
      "Processing Files:   7%|▋         | 1/14 [11:33<2:30:14, 693.42s/file]                    \u001B[A"
     ]
    },
    {
     "name": "stdout",
     "output_type": "stream",
     "text": [
      "Processed and saved: data/test_detect_gpt4_m2/mushroom.fr-tst.v1.jsonl\n"
     ]
    },
    {
     "name": "stderr",
     "output_type": "stream",
     "text": [
      "\n",
      "Processing mushroom.es-tst.v1.jsonl:   0%|          | 0/152 [00:00<?, ?entry/s]\u001B[A\n",
      "Processing mushroom.es-tst.v1.jsonl:   1%|          | 1/152 [00:02<06:54,  2.75s/entry]\u001B[A\n",
      "Processing mushroom.es-tst.v1.jsonl:   1%|▏         | 2/152 [00:04<05:56,  2.38s/entry]\u001B[A\n",
      "Processing mushroom.es-tst.v1.jsonl:   2%|▏         | 3/152 [00:10<09:25,  3.80s/entry]\u001B[A\n",
      "Processing mushroom.es-tst.v1.jsonl:   3%|▎         | 4/152 [00:13<09:05,  3.69s/entry]\u001B[A\n",
      "Processing mushroom.es-tst.v1.jsonl:   3%|▎         | 5/152 [00:28<18:56,  7.73s/entry]\u001B[A\n",
      "Processing mushroom.es-tst.v1.jsonl:   4%|▍         | 6/152 [00:32<15:13,  6.26s/entry]\u001B[A\n",
      "Processing mushroom.es-tst.v1.jsonl:   5%|▍         | 7/152 [00:40<16:43,  6.92s/entry]\u001B[A\n",
      "Processing mushroom.es-tst.v1.jsonl:   5%|▌         | 8/152 [00:43<13:56,  5.81s/entry]\u001B[A\n",
      "Processing mushroom.es-tst.v1.jsonl:   6%|▌         | 9/152 [00:50<14:37,  6.14s/entry]\u001B[A\n",
      "Processing mushroom.es-tst.v1.jsonl:   7%|▋         | 10/152 [00:53<12:11,  5.15s/entry]\u001B[A\n",
      "Processing mushroom.es-tst.v1.jsonl:   7%|▋         | 11/152 [00:56<10:05,  4.29s/entry]\u001B[A"
     ]
    },
    {
     "name": "stdout",
     "output_type": "stream",
     "text": [
      "No valid JSON found in content: []\n",
      "\n",
      "Error processing entry tst-es-11: list index out of range\n"
     ]
    },
    {
     "name": "stderr",
     "output_type": "stream",
     "text": [
      "\n",
      "Processing mushroom.es-tst.v1.jsonl:   8%|▊         | 12/152 [01:00<09:59,  4.28s/entry]\u001B[A\n",
      "Processing mushroom.es-tst.v1.jsonl:   9%|▊         | 13/152 [01:03<09:10,  3.96s/entry]\u001B[A\n",
      "Processing mushroom.es-tst.v1.jsonl:   9%|▉         | 14/152 [01:06<08:09,  3.55s/entry]\u001B[A\n",
      "Processing mushroom.es-tst.v1.jsonl:  10%|▉         | 15/152 [01:08<07:03,  3.09s/entry]\u001B[A\n",
      "Processing mushroom.es-tst.v1.jsonl:  11%|█         | 16/152 [01:13<08:21,  3.69s/entry]\u001B[A\n",
      "Processing mushroom.es-tst.v1.jsonl:  11%|█         | 17/152 [01:16<08:02,  3.57s/entry]\u001B[A"
     ]
    },
    {
     "name": "stdout",
     "output_type": "stream",
     "text": [
      "No valid JSON found in content: []\n",
      "\n",
      "Error processing entry tst-es-17: list index out of range\n"
     ]
    },
    {
     "name": "stderr",
     "output_type": "stream",
     "text": [
      "\n",
      "Processing mushroom.es-tst.v1.jsonl:  12%|█▏        | 18/152 [01:20<08:34,  3.84s/entry]\u001B[A\n",
      "Processing mushroom.es-tst.v1.jsonl:  12%|█▎        | 19/152 [01:25<09:03,  4.09s/entry]\u001B[A\n",
      "Processing mushroom.es-tst.v1.jsonl:  13%|█▎        | 20/152 [01:28<08:04,  3.67s/entry]\u001B[A"
     ]
    },
    {
     "name": "stdout",
     "output_type": "stream",
     "text": [
      "No valid JSON found in content: []\n",
      "Error processing entry tst-es-20: list index out of range\n"
     ]
    },
    {
     "name": "stderr",
     "output_type": "stream",
     "text": [
      "\n",
      "Processing mushroom.es-tst.v1.jsonl:  14%|█▍        | 21/152 [01:30<07:10,  3.28s/entry]\u001B[A\n",
      "Processing mushroom.es-tst.v1.jsonl:  14%|█▍        | 22/152 [01:32<06:15,  2.89s/entry]\u001B[A\n",
      "Processing mushroom.es-tst.v1.jsonl:  15%|█▌        | 23/152 [01:36<06:51,  3.19s/entry]\u001B[A\n",
      "Processing mushroom.es-tst.v1.jsonl:  16%|█▌        | 24/152 [01:39<06:21,  2.98s/entry]\u001B[A\n",
      "Processing mushroom.es-tst.v1.jsonl:  16%|█▋        | 25/152 [01:42<06:28,  3.06s/entry]\u001B[A\n",
      "Processing mushroom.es-tst.v1.jsonl:  17%|█▋        | 26/152 [01:51<10:30,  5.01s/entry]\u001B[A\n",
      "Processing mushroom.es-tst.v1.jsonl:  18%|█▊        | 27/152 [01:56<10:23,  4.99s/entry]\u001B[A\n",
      "Processing mushroom.es-tst.v1.jsonl:  18%|█▊        | 28/152 [01:59<08:39,  4.19s/entry]\u001B[A\n",
      "Processing mushroom.es-tst.v1.jsonl:  19%|█▉        | 29/152 [02:02<08:18,  4.06s/entry]\u001B[A\n",
      "Processing mushroom.es-tst.v1.jsonl:  20%|█▉        | 30/152 [02:06<07:46,  3.83s/entry]\u001B[A\n",
      "Processing mushroom.es-tst.v1.jsonl:  20%|██        | 31/152 [02:10<08:03,  3.99s/entry]\u001B[A\n",
      "Processing mushroom.es-tst.v1.jsonl:  21%|██        | 32/152 [02:17<09:58,  4.99s/entry]\u001B[A\n",
      "Processing mushroom.es-tst.v1.jsonl:  22%|██▏       | 33/152 [02:24<10:37,  5.36s/entry]\u001B[A\n",
      "Processing mushroom.es-tst.v1.jsonl:  22%|██▏       | 34/152 [02:27<09:12,  4.68s/entry]\u001B[A\n",
      "Processing mushroom.es-tst.v1.jsonl:  23%|██▎       | 35/152 [02:29<07:45,  3.98s/entry]\u001B[A\n",
      "Processing mushroom.es-tst.v1.jsonl:  24%|██▎       | 36/152 [02:32<07:04,  3.66s/entry]\u001B[A\n",
      "Processing mushroom.es-tst.v1.jsonl:  24%|██▍       | 37/152 [02:35<06:23,  3.33s/entry]\u001B[A\n",
      "Processing mushroom.es-tst.v1.jsonl:  25%|██▌       | 38/152 [02:39<06:51,  3.61s/entry]\u001B[A\n",
      "Processing mushroom.es-tst.v1.jsonl:  26%|██▌       | 39/152 [02:41<06:04,  3.22s/entry]\u001B[A\n",
      "Processing mushroom.es-tst.v1.jsonl:  26%|██▋       | 40/152 [02:43<05:32,  2.97s/entry]\u001B[A\n",
      "Processing mushroom.es-tst.v1.jsonl:  27%|██▋       | 41/152 [02:46<05:25,  2.93s/entry]\u001B[A\n",
      "Processing mushroom.es-tst.v1.jsonl:  28%|██▊       | 42/152 [02:49<05:00,  2.73s/entry]\u001B[A\n",
      "Processing mushroom.es-tst.v1.jsonl:  28%|██▊       | 43/152 [02:51<04:39,  2.56s/entry]\u001B[A"
     ]
    },
    {
     "name": "stdout",
     "output_type": "stream",
     "text": [
      "No valid JSON found in content: []\n",
      "\n",
      "Error processing entry tst-es-43: list index out of range\n"
     ]
    },
    {
     "name": "stderr",
     "output_type": "stream",
     "text": [
      "\n",
      "Processing mushroom.es-tst.v1.jsonl:  29%|██▉       | 44/152 [02:54<04:47,  2.66s/entry]\u001B[A\n",
      "Processing mushroom.es-tst.v1.jsonl:  30%|██▉       | 45/152 [02:58<05:36,  3.14s/entry]\u001B[A\n",
      "Processing mushroom.es-tst.v1.jsonl:  30%|███       | 46/152 [03:05<07:47,  4.41s/entry]\u001B[A\n",
      "Processing mushroom.es-tst.v1.jsonl:  31%|███       | 47/152 [03:07<06:29,  3.71s/entry]\u001B[A\n",
      "Processing mushroom.es-tst.v1.jsonl:  32%|███▏      | 48/152 [03:12<06:51,  3.96s/entry]\u001B[A\n",
      "Processing mushroom.es-tst.v1.jsonl:  32%|███▏      | 49/152 [03:15<06:25,  3.75s/entry]\u001B[A\n",
      "Processing mushroom.es-tst.v1.jsonl:  33%|███▎      | 50/152 [03:18<06:04,  3.58s/entry]\u001B[A\n",
      "Processing mushroom.es-tst.v1.jsonl:  34%|███▎      | 51/152 [03:26<08:03,  4.79s/entry]\u001B[A\n",
      "Processing mushroom.es-tst.v1.jsonl:  34%|███▍      | 52/152 [03:33<09:03,  5.43s/entry]\u001B[A\n",
      "Processing mushroom.es-tst.v1.jsonl:  35%|███▍      | 53/152 [03:37<08:16,  5.02s/entry]\u001B[A\n",
      "Processing mushroom.es-tst.v1.jsonl:  36%|███▌      | 54/152 [03:44<09:20,  5.72s/entry]\u001B[A\n",
      "Processing mushroom.es-tst.v1.jsonl:  36%|███▌      | 55/152 [03:51<09:58,  6.17s/entry]\u001B[A\n",
      "Processing mushroom.es-tst.v1.jsonl:  37%|███▋      | 56/152 [03:54<08:18,  5.19s/entry]\u001B[A\n",
      "Processing mushroom.es-tst.v1.jsonl:  38%|███▊      | 57/152 [03:58<07:25,  4.69s/entry]\u001B[A\n",
      "Processing mushroom.es-tst.v1.jsonl:  38%|███▊      | 58/152 [04:02<07:08,  4.56s/entry]\u001B[A"
     ]
    },
    {
     "name": "stdout",
     "output_type": "stream",
     "text": [
      "No valid JSON found in content: []\n",
      "\n",
      "Error processing entry tst-es-58: list index out of range\n"
     ]
    },
    {
     "name": "stderr",
     "output_type": "stream",
     "text": [
      "\n",
      "Processing mushroom.es-tst.v1.jsonl:  39%|███▉      | 59/152 [04:08<07:30,  4.84s/entry]\u001B[A\n",
      "Processing mushroom.es-tst.v1.jsonl:  39%|███▉      | 60/152 [04:10<06:10,  4.03s/entry]\u001B[A\n",
      "Processing mushroom.es-tst.v1.jsonl:  40%|████      | 61/152 [04:13<05:55,  3.91s/entry]\u001B[A"
     ]
    },
    {
     "name": "stdout",
     "output_type": "stream",
     "text": [
      "No valid JSON found in content: []\n",
      "\n",
      "Error processing entry tst-es-61: list index out of range\n"
     ]
    },
    {
     "name": "stderr",
     "output_type": "stream",
     "text": [
      "\n",
      "Processing mushroom.es-tst.v1.jsonl:  41%|████      | 62/152 [04:18<06:08,  4.10s/entry]\u001B[A\n",
      "Processing mushroom.es-tst.v1.jsonl:  41%|████▏     | 63/152 [04:25<07:22,  4.97s/entry]\u001B[A\n",
      "Processing mushroom.es-tst.v1.jsonl:  42%|████▏     | 64/152 [04:30<07:10,  4.89s/entry]\u001B[A\n",
      "Processing mushroom.es-tst.v1.jsonl:  43%|████▎     | 65/152 [04:33<06:27,  4.46s/entry]\u001B[A\n",
      "Processing mushroom.es-tst.v1.jsonl:  43%|████▎     | 66/152 [04:36<05:34,  3.89s/entry]\u001B[A\n",
      "Processing mushroom.es-tst.v1.jsonl:  44%|████▍     | 67/152 [04:38<04:45,  3.36s/entry]\u001B[A\n",
      "Processing mushroom.es-tst.v1.jsonl:  45%|████▍     | 68/152 [04:44<05:48,  4.15s/entry]\u001B[A\n",
      "Processing mushroom.es-tst.v1.jsonl:  45%|████▌     | 69/152 [04:47<05:25,  3.92s/entry]\u001B[A\n",
      "Processing mushroom.es-tst.v1.jsonl:  46%|████▌     | 70/152 [04:50<04:43,  3.45s/entry]\u001B[A\n",
      "Processing mushroom.es-tst.v1.jsonl:  47%|████▋     | 71/152 [04:53<04:48,  3.57s/entry]\u001B[A\n",
      "Processing mushroom.es-tst.v1.jsonl:  47%|████▋     | 72/152 [04:59<05:31,  4.14s/entry]\u001B[A"
     ]
    },
    {
     "name": "stdout",
     "output_type": "stream",
     "text": [
      "No valid JSON found in content: []\n",
      "\n",
      "Error processing entry tst-es-72: list index out of range\n"
     ]
    },
    {
     "name": "stderr",
     "output_type": "stream",
     "text": [
      "\n",
      "Processing mushroom.es-tst.v1.jsonl:  48%|████▊     | 73/152 [05:04<05:45,  4.38s/entry]\u001B[A\n",
      "Processing mushroom.es-tst.v1.jsonl:  49%|████▊     | 74/152 [05:09<06:00,  4.62s/entry]\u001B[A\n",
      "Processing mushroom.es-tst.v1.jsonl:  49%|████▉     | 75/152 [05:13<05:37,  4.38s/entry]\u001B[A\n",
      "Processing mushroom.es-tst.v1.jsonl:  50%|█████     | 76/152 [05:16<05:14,  4.13s/entry]\u001B[A\n",
      "Processing mushroom.es-tst.v1.jsonl:  51%|█████     | 77/152 [05:21<05:14,  4.19s/entry]\u001B[A\n",
      "Processing mushroom.es-tst.v1.jsonl:  51%|█████▏    | 78/152 [05:24<04:51,  3.94s/entry]\u001B[A\n",
      "Processing mushroom.es-tst.v1.jsonl:  52%|█████▏    | 79/152 [05:28<04:38,  3.82s/entry]\u001B[A\n",
      "Processing mushroom.es-tst.v1.jsonl:  53%|█████▎    | 80/152 [05:31<04:34,  3.82s/entry]\u001B[A"
     ]
    },
    {
     "name": "stdout",
     "output_type": "stream",
     "text": [
      "No valid JSON found in content: []\n",
      "\n",
      "Error processing entry tst-es-80: list index out of range\n"
     ]
    },
    {
     "name": "stderr",
     "output_type": "stream",
     "text": [
      "\n",
      "Processing mushroom.es-tst.v1.jsonl:  53%|█████▎    | 81/152 [05:37<05:00,  4.24s/entry]\u001B[A\n",
      "Processing mushroom.es-tst.v1.jsonl:  54%|█████▍    | 82/152 [05:40<04:31,  3.88s/entry]\u001B[A\n",
      "Processing mushroom.es-tst.v1.jsonl:  55%|█████▍    | 83/152 [05:44<04:39,  4.06s/entry]\u001B[A\n",
      "Processing mushroom.es-tst.v1.jsonl:  55%|█████▌    | 84/152 [05:46<04:00,  3.53s/entry]\u001B[A\n",
      "Processing mushroom.es-tst.v1.jsonl:  56%|█████▌    | 85/152 [05:50<03:53,  3.48s/entry]\u001B[A\n",
      "Processing mushroom.es-tst.v1.jsonl:  57%|█████▋    | 86/152 [05:55<04:24,  4.01s/entry]\u001B[A\n",
      "Processing mushroom.es-tst.v1.jsonl:  57%|█████▋    | 87/152 [05:57<03:35,  3.32s/entry]\u001B[A"
     ]
    },
    {
     "name": "stdout",
     "output_type": "stream",
     "text": [
      "No valid JSON found in content: []\n",
      "Error processing entry tst-es-87: list index out of range\n"
     ]
    },
    {
     "name": "stderr",
     "output_type": "stream",
     "text": [
      "\n",
      "Processing mushroom.es-tst.v1.jsonl:  58%|█████▊    | 88/152 [06:03<04:25,  4.16s/entry]\u001B[A"
     ]
    },
    {
     "name": "stdout",
     "output_type": "stream",
     "text": [
      "No valid JSON found in content: []\n",
      "\n",
      "Error processing entry tst-es-88: list index out of range\n"
     ]
    },
    {
     "name": "stderr",
     "output_type": "stream",
     "text": [
      "\n",
      "Processing mushroom.es-tst.v1.jsonl:  59%|█████▊    | 89/152 [06:06<04:05,  3.89s/entry]\u001B[A\n",
      "Processing mushroom.es-tst.v1.jsonl:  59%|█████▉    | 90/152 [06:10<03:57,  3.83s/entry]\u001B[A\n",
      "Processing mushroom.es-tst.v1.jsonl:  60%|█████▉    | 91/152 [06:12<03:22,  3.32s/entry]\u001B[A\n",
      "Processing mushroom.es-tst.v1.jsonl:  61%|██████    | 92/152 [06:19<04:27,  4.46s/entry]\u001B[A\n",
      "Processing mushroom.es-tst.v1.jsonl:  61%|██████    | 93/152 [06:25<04:50,  4.92s/entry]\u001B[A\n",
      "Processing mushroom.es-tst.v1.jsonl:  62%|██████▏   | 94/152 [06:30<04:46,  4.94s/entry]\u001B[A\n",
      "Processing mushroom.es-tst.v1.jsonl:  62%|██████▎   | 95/152 [06:35<04:33,  4.81s/entry]\u001B[A\n",
      "Processing mushroom.es-tst.v1.jsonl:  63%|██████▎   | 96/152 [06:38<04:08,  4.44s/entry]\u001B[A\n",
      "Processing mushroom.es-tst.v1.jsonl:  64%|██████▍   | 97/152 [06:40<03:28,  3.80s/entry]\u001B[A\n",
      "Processing mushroom.es-tst.v1.jsonl:  64%|██████▍   | 98/152 [06:43<03:01,  3.36s/entry]\u001B[A\n",
      "Processing mushroom.es-tst.v1.jsonl:  65%|██████▌   | 99/152 [06:49<03:42,  4.19s/entry]\u001B[A\n",
      "Processing mushroom.es-tst.v1.jsonl:  66%|██████▌   | 100/152 [06:51<03:00,  3.48s/entry]\u001B[A"
     ]
    },
    {
     "name": "stdout",
     "output_type": "stream",
     "text": [
      "No valid JSON found in content: []\n",
      "Error processing entry tst-es-100: list index out of range\n"
     ]
    },
    {
     "name": "stderr",
     "output_type": "stream",
     "text": [
      "\n",
      "Processing mushroom.es-tst.v1.jsonl:  66%|██████▋   | 101/152 [06:53<02:35,  3.05s/entry]\u001B[A\n",
      "Processing mushroom.es-tst.v1.jsonl:  67%|██████▋   | 102/152 [06:58<02:59,  3.60s/entry]\u001B[A\n",
      "Processing mushroom.es-tst.v1.jsonl:  68%|██████▊   | 103/152 [07:02<03:12,  3.94s/entry]\u001B[A\n",
      "Processing mushroom.es-tst.v1.jsonl:  68%|██████▊   | 104/152 [07:04<02:33,  3.21s/entry]\u001B[A"
     ]
    },
    {
     "name": "stdout",
     "output_type": "stream",
     "text": [
      "No valid JSON found in content: []\n",
      "Error processing entry tst-es-104: list index out of range\n"
     ]
    },
    {
     "name": "stderr",
     "output_type": "stream",
     "text": [
      "\n",
      "Processing mushroom.es-tst.v1.jsonl:  69%|██████▉   | 105/152 [07:06<02:08,  2.74s/entry]\u001B[A"
     ]
    },
    {
     "name": "stdout",
     "output_type": "stream",
     "text": [
      "No valid JSON found in content: []\n",
      "\n",
      "Error processing entry tst-es-105: list index out of range\n"
     ]
    },
    {
     "name": "stderr",
     "output_type": "stream",
     "text": [
      "\n",
      "Processing mushroom.es-tst.v1.jsonl:  70%|██████▉   | 106/152 [07:08<01:59,  2.59s/entry]\u001B[A"
     ]
    },
    {
     "name": "stdout",
     "output_type": "stream",
     "text": [
      "Request failed: ('Connection aborted.', RemoteDisconnected('Remote end closed connection without response'))\n",
      "Request failed: ('Connection aborted.', RemoteDisconnected('Remote end closed connection without response'))\n"
     ]
    },
    {
     "name": "stderr",
     "output_type": "stream",
     "text": [
      "\n",
      "Processing mushroom.es-tst.v1.jsonl:  70%|███████   | 107/152 [07:57<12:31, 16.71s/entry]\u001B[A"
     ]
    },
    {
     "name": "stdout",
     "output_type": "stream",
     "text": [
      "Request failed: ('Connection aborted.', RemoteDisconnected('Remote end closed connection without response'))\n",
      "Retry limit exceeded, returning empty result\n"
     ]
    },
    {
     "name": "stderr",
     "output_type": "stream",
     "text": [
      "\n",
      "Processing mushroom.es-tst.v1.jsonl:  71%|███████   | 108/152 [08:00<09:13, 12.59s/entry]\u001B[A\n",
      "Processing mushroom.es-tst.v1.jsonl:  72%|███████▏  | 109/152 [08:03<06:50,  9.56s/entry]\u001B[A\n",
      "Processing mushroom.es-tst.v1.jsonl:  72%|███████▏  | 110/152 [08:06<05:19,  7.61s/entry]\u001B[A\n",
      "Processing mushroom.es-tst.v1.jsonl:  73%|███████▎  | 111/152 [08:15<05:33,  8.12s/entry]\u001B[A\n",
      "Processing mushroom.es-tst.v1.jsonl:  74%|███████▎  | 112/152 [08:18<04:19,  6.48s/entry]\u001B[A\n",
      "Processing mushroom.es-tst.v1.jsonl:  74%|███████▍  | 113/152 [08:19<03:14,  4.99s/entry]\u001B[A"
     ]
    },
    {
     "name": "stdout",
     "output_type": "stream",
     "text": [
      "No valid JSON found in content: []\n",
      "\n",
      "Error processing entry tst-es-113: list index out of range\n"
     ]
    },
    {
     "name": "stderr",
     "output_type": "stream",
     "text": [
      "\n",
      "Processing mushroom.es-tst.v1.jsonl:  75%|███████▌  | 114/152 [08:26<03:22,  5.33s/entry]\u001B[A\n",
      "Processing mushroom.es-tst.v1.jsonl:  76%|███████▌  | 115/152 [08:30<03:13,  5.22s/entry]\u001B[A\n",
      "Processing mushroom.es-tst.v1.jsonl:  76%|███████▋  | 116/152 [08:33<02:39,  4.43s/entry]\u001B[A\n",
      "Processing mushroom.es-tst.v1.jsonl:  77%|███████▋  | 117/152 [08:37<02:28,  4.24s/entry]\u001B[A"
     ]
    },
    {
     "name": "stdout",
     "output_type": "stream",
     "text": [
      "No valid JSON found in content: []\n",
      "Error processing entry tst-es-117: list index out of range\n"
     ]
    },
    {
     "name": "stderr",
     "output_type": "stream",
     "text": [
      "\n",
      "Processing mushroom.es-tst.v1.jsonl:  78%|███████▊  | 118/152 [08:39<02:02,  3.59s/entry]\u001B[A\n",
      "Processing mushroom.es-tst.v1.jsonl:  78%|███████▊  | 119/152 [08:42<01:50,  3.36s/entry]\u001B[A\n",
      "Processing mushroom.es-tst.v1.jsonl:  79%|███████▉  | 120/152 [08:47<02:09,  4.04s/entry]\u001B[A\n",
      "Processing mushroom.es-tst.v1.jsonl:  80%|███████▉  | 121/152 [08:50<01:53,  3.68s/entry]\u001B[A\n",
      "Processing mushroom.es-tst.v1.jsonl:  80%|████████  | 122/152 [08:53<01:41,  3.39s/entry]\u001B[A\n",
      "Processing mushroom.es-tst.v1.jsonl:  81%|████████  | 123/152 [08:55<01:22,  2.86s/entry]\u001B[A"
     ]
    },
    {
     "name": "stdout",
     "output_type": "stream",
     "text": [
      "No valid JSON found in content: []\n",
      "Error processing entry tst-es-123: list index out of range\n"
     ]
    },
    {
     "name": "stderr",
     "output_type": "stream",
     "text": [
      "\n",
      "Processing mushroom.es-tst.v1.jsonl:  82%|████████▏ | 124/152 [08:58<01:22,  2.95s/entry]\u001B[A\n",
      "Processing mushroom.es-tst.v1.jsonl:  82%|████████▏ | 125/152 [09:02<01:26,  3.22s/entry]\u001B[A\n",
      "Processing mushroom.es-tst.v1.jsonl:  83%|████████▎ | 126/152 [09:07<01:38,  3.79s/entry]\u001B[A\n",
      "Processing mushroom.es-tst.v1.jsonl:  84%|████████▎ | 127/152 [09:14<02:00,  4.83s/entry]\u001B[A"
     ]
    },
    {
     "name": "stdout",
     "output_type": "stream",
     "text": [
      "No valid JSON found in content: []\n",
      "\n",
      "Error processing entry tst-es-127: list index out of range\n"
     ]
    },
    {
     "name": "stderr",
     "output_type": "stream",
     "text": [
      "\n",
      "Processing mushroom.es-tst.v1.jsonl:  84%|████████▍ | 128/152 [09:16<01:37,  4.06s/entry]\u001B[A\n",
      "Processing mushroom.es-tst.v1.jsonl:  85%|████████▍ | 129/152 [09:19<01:25,  3.73s/entry]\u001B[A\n",
      "Processing mushroom.es-tst.v1.jsonl:  86%|████████▌ | 130/152 [09:23<01:21,  3.69s/entry]\u001B[A\n",
      "Processing mushroom.es-tst.v1.jsonl:  86%|████████▌ | 131/152 [09:26<01:16,  3.64s/entry]\u001B[A\n",
      "Processing mushroom.es-tst.v1.jsonl:  87%|████████▋ | 132/152 [09:30<01:10,  3.52s/entry]\u001B[A\n",
      "Processing mushroom.es-tst.v1.jsonl:  88%|████████▊ | 133/152 [09:33<01:05,  3.43s/entry]\u001B[A\n",
      "Processing mushroom.es-tst.v1.jsonl:  88%|████████▊ | 134/152 [09:40<01:20,  4.47s/entry]\u001B[A\n",
      "Processing mushroom.es-tst.v1.jsonl:  89%|████████▉ | 135/152 [09:48<01:35,  5.61s/entry]\u001B[A\n",
      "Processing mushroom.es-tst.v1.jsonl:  89%|████████▉ | 136/152 [09:51<01:17,  4.86s/entry]\u001B[A\n",
      "Processing mushroom.es-tst.v1.jsonl:  90%|█████████ | 137/152 [09:58<01:21,  5.43s/entry]\u001B[A\n",
      "Processing mushroom.es-tst.v1.jsonl:  91%|█████████ | 138/152 [10:00<01:01,  4.38s/entry]\u001B[A\n",
      "Processing mushroom.es-tst.v1.jsonl:  91%|█████████▏| 139/152 [10:08<01:11,  5.49s/entry]\u001B[A\n",
      "Processing mushroom.es-tst.v1.jsonl:  92%|█████████▏| 140/152 [10:12<01:01,  5.16s/entry]\u001B[A\n",
      "Processing mushroom.es-tst.v1.jsonl:  93%|█████████▎| 141/152 [10:17<00:55,  5.03s/entry]\u001B[A\n",
      "Processing mushroom.es-tst.v1.jsonl:  93%|█████████▎| 142/152 [10:23<00:52,  5.26s/entry]\u001B[A\n",
      "Processing mushroom.es-tst.v1.jsonl:  94%|█████████▍| 143/152 [10:28<00:47,  5.24s/entry]\u001B[A\n",
      "Processing mushroom.es-tst.v1.jsonl:  95%|█████████▍| 144/152 [10:31<00:36,  4.54s/entry]\u001B[A\n",
      "Processing mushroom.es-tst.v1.jsonl:  95%|█████████▌| 145/152 [10:36<00:32,  4.59s/entry]\u001B[A\n",
      "Processing mushroom.es-tst.v1.jsonl:  96%|█████████▌| 146/152 [10:39<00:25,  4.30s/entry]\u001B[A\n",
      "Processing mushroom.es-tst.v1.jsonl:  97%|█████████▋| 147/152 [10:45<00:23,  4.70s/entry]\u001B[A\n",
      "Processing mushroom.es-tst.v1.jsonl:  97%|█████████▋| 148/152 [10:47<00:15,  3.95s/entry]\u001B[A\n",
      "Processing mushroom.es-tst.v1.jsonl:  98%|█████████▊| 149/152 [10:53<00:13,  4.46s/entry]\u001B[A\n",
      "Processing mushroom.es-tst.v1.jsonl:  99%|█████████▊| 150/152 [10:57<00:08,  4.38s/entry]\u001B[A"
     ]
    },
    {
     "name": "stdout",
     "output_type": "stream",
     "text": [
      "No valid JSON found in content: []\n",
      "\n",
      "Error processing entry tst-es-150: list index out of range\n"
     ]
    },
    {
     "name": "stderr",
     "output_type": "stream",
     "text": [
      "\n",
      "Processing mushroom.es-tst.v1.jsonl:  99%|█████████▉| 151/152 [11:01<00:04,  4.30s/entry]\u001B[A\n",
      "Processing mushroom.es-tst.v1.jsonl: 100%|██████████| 152/152 [11:04<00:00,  3.92s/entry]\u001B[A\n",
      "Processing Files:  14%|█▍        | 2/14 [22:37<2:15:16, 676.42s/file]                    \u001B[A"
     ]
    },
    {
     "name": "stdout",
     "output_type": "stream",
     "text": [
      "Processed and saved: data/test_detect_gpt4_m2/mushroom.es-tst.v1.jsonl\n"
     ]
    },
    {
     "name": "stderr",
     "output_type": "stream",
     "text": [
      "\n",
      "Processing mushroom.eu-tst.v1.jsonl:   0%|          | 0/99 [00:00<?, ?entry/s]\u001B[A\n",
      "Processing mushroom.eu-tst.v1.jsonl:   1%|          | 1/99 [00:03<05:55,  3.63s/entry]\u001B[A\n",
      "Processing mushroom.eu-tst.v1.jsonl:   2%|▏         | 2/99 [00:07<05:43,  3.54s/entry]\u001B[A\n",
      "Processing mushroom.eu-tst.v1.jsonl:   3%|▎         | 3/99 [00:10<05:33,  3.47s/entry]\u001B[A\n",
      "Processing mushroom.eu-tst.v1.jsonl:   4%|▍         | 4/99 [00:13<04:53,  3.09s/entry]\u001B[A\n",
      "Processing mushroom.eu-tst.v1.jsonl:   5%|▌         | 5/99 [00:15<04:33,  2.91s/entry]\u001B[A\n",
      "Processing mushroom.eu-tst.v1.jsonl:   6%|▌         | 6/99 [00:18<04:19,  2.79s/entry]\u001B[A\n",
      "Processing mushroom.eu-tst.v1.jsonl:   7%|▋         | 7/99 [00:22<05:05,  3.32s/entry]\u001B[A\n",
      "Processing mushroom.eu-tst.v1.jsonl:   8%|▊         | 8/99 [00:24<04:11,  2.77s/entry]\u001B[A"
     ]
    },
    {
     "name": "stdout",
     "output_type": "stream",
     "text": [
      "No valid JSON found in content: []\n",
      "Error processing entry tst-eu-8: list index out of range\n"
     ]
    },
    {
     "name": "stderr",
     "output_type": "stream",
     "text": [
      "\n",
      "Processing mushroom.eu-tst.v1.jsonl:   9%|▉         | 9/99 [00:27<04:13,  2.81s/entry]\u001B[A\n",
      "Processing mushroom.eu-tst.v1.jsonl:  10%|█         | 10/99 [00:29<04:08,  2.79s/entry]\u001B[A\n",
      "Processing mushroom.eu-tst.v1.jsonl:  11%|█         | 11/99 [00:35<05:27,  3.72s/entry]\u001B[A\n",
      "Processing mushroom.eu-tst.v1.jsonl:  12%|█▏        | 12/99 [00:37<04:26,  3.06s/entry]\u001B[A"
     ]
    },
    {
     "name": "stdout",
     "output_type": "stream",
     "text": [
      "No valid JSON found in content: []\n",
      "Error processing entry tst-eu-12: list index out of range\n"
     ]
    },
    {
     "name": "stderr",
     "output_type": "stream",
     "text": [
      "\n",
      "Processing mushroom.eu-tst.v1.jsonl:  13%|█▎        | 13/99 [00:40<04:42,  3.28s/entry]\u001B[A\n",
      "Processing mushroom.eu-tst.v1.jsonl:  14%|█▍        | 14/99 [00:45<05:14,  3.70s/entry]\u001B[A\n",
      "Processing mushroom.eu-tst.v1.jsonl:  15%|█▌        | 15/99 [00:48<04:57,  3.55s/entry]\u001B[A\n",
      "Processing mushroom.eu-tst.v1.jsonl:  16%|█▌        | 16/99 [00:52<04:52,  3.52s/entry]\u001B[A\n",
      "Processing mushroom.eu-tst.v1.jsonl:  17%|█▋        | 17/99 [00:54<04:15,  3.12s/entry]\u001B[A\n",
      "Processing mushroom.eu-tst.v1.jsonl:  18%|█▊        | 18/99 [00:56<03:52,  2.87s/entry]\u001B[A\n",
      "Processing mushroom.eu-tst.v1.jsonl:  19%|█▉        | 19/99 [00:59<03:56,  2.96s/entry]\u001B[A\n",
      "Processing mushroom.eu-tst.v1.jsonl:  20%|██        | 20/99 [01:01<03:29,  2.66s/entry]\u001B[A\n",
      "Processing mushroom.eu-tst.v1.jsonl:  21%|██        | 21/99 [01:04<03:20,  2.56s/entry]\u001B[A\n",
      "Processing mushroom.eu-tst.v1.jsonl:  22%|██▏       | 22/99 [01:06<03:11,  2.49s/entry]\u001B[A\n",
      "Processing mushroom.eu-tst.v1.jsonl:  23%|██▎       | 23/99 [01:08<03:02,  2.40s/entry]\u001B[A\n",
      "Processing mushroom.eu-tst.v1.jsonl:  24%|██▍       | 24/99 [01:11<03:15,  2.61s/entry]\u001B[A\n",
      "Processing mushroom.eu-tst.v1.jsonl:  25%|██▌       | 25/99 [01:13<02:54,  2.36s/entry]\u001B[A\n",
      "Processing mushroom.eu-tst.v1.jsonl:  26%|██▋       | 26/99 [01:15<02:50,  2.34s/entry]\u001B[A"
     ]
    },
    {
     "name": "stdout",
     "output_type": "stream",
     "text": [
      "No valid JSON found in content: []\n",
      "\n",
      "Error processing entry tst-eu-26: list index out of range\n"
     ]
    },
    {
     "name": "stderr",
     "output_type": "stream",
     "text": [
      "\n",
      "Processing mushroom.eu-tst.v1.jsonl:  27%|██▋       | 27/99 [01:21<04:01,  3.35s/entry]\u001B[A\n",
      "Processing mushroom.eu-tst.v1.jsonl:  28%|██▊       | 28/99 [01:23<03:35,  3.03s/entry]\u001B[A"
     ]
    },
    {
     "name": "stdout",
     "output_type": "stream",
     "text": [
      "No valid JSON found in content: []\n",
      "\n",
      "Error processing entry tst-eu-28: list index out of range\n"
     ]
    },
    {
     "name": "stderr",
     "output_type": "stream",
     "text": [
      "\n",
      "Processing mushroom.eu-tst.v1.jsonl:  29%|██▉       | 29/99 [01:27<03:53,  3.33s/entry]\u001B[A\n",
      "Processing mushroom.eu-tst.v1.jsonl:  30%|███       | 30/99 [01:32<04:06,  3.57s/entry]\u001B[A\n",
      "Processing mushroom.eu-tst.v1.jsonl:  31%|███▏      | 31/99 [01:38<05:08,  4.54s/entry]\u001B[A"
     ]
    },
    {
     "name": "stdout",
     "output_type": "stream",
     "text": [
      "No valid JSON found in content: []\n",
      "\n",
      "Error processing entry tst-eu-31: list index out of range\n"
     ]
    },
    {
     "name": "stderr",
     "output_type": "stream",
     "text": [
      "\n",
      "Processing mushroom.eu-tst.v1.jsonl:  32%|███▏      | 32/99 [01:44<05:16,  4.73s/entry]\u001B[A\n",
      "Processing mushroom.eu-tst.v1.jsonl:  33%|███▎      | 33/99 [01:51<06:03,  5.51s/entry]\u001B[A"
     ]
    },
    {
     "name": "stdout",
     "output_type": "stream",
     "text": [
      "No valid JSON found in content: []\n",
      "\n",
      "Error processing entry tst-eu-33: list index out of range\n"
     ]
    },
    {
     "name": "stderr",
     "output_type": "stream",
     "text": [
      "\n",
      "Processing mushroom.eu-tst.v1.jsonl:  34%|███▍      | 34/99 [01:54<05:03,  4.67s/entry]\u001B[A\n",
      "Processing mushroom.eu-tst.v1.jsonl:  35%|███▌      | 35/99 [01:56<04:19,  4.06s/entry]\u001B[A\n",
      "Processing mushroom.eu-tst.v1.jsonl:  36%|███▋      | 36/99 [01:59<03:42,  3.53s/entry]\u001B[A\n",
      "Processing mushroom.eu-tst.v1.jsonl:  37%|███▋      | 37/99 [02:01<03:16,  3.16s/entry]\u001B[A\n",
      "Processing mushroom.eu-tst.v1.jsonl:  38%|███▊      | 38/99 [02:07<04:00,  3.94s/entry]\u001B[A\n",
      "Processing mushroom.eu-tst.v1.jsonl:  39%|███▉      | 39/99 [02:09<03:33,  3.56s/entry]\u001B[A\n",
      "Processing mushroom.eu-tst.v1.jsonl:  40%|████      | 40/99 [02:16<04:24,  4.48s/entry]\u001B[A\n",
      "Processing mushroom.eu-tst.v1.jsonl:  41%|████▏     | 41/99 [02:20<04:07,  4.26s/entry]\u001B[A\n",
      "Processing mushroom.eu-tst.v1.jsonl:  42%|████▏     | 42/99 [02:25<04:29,  4.73s/entry]\u001B[A\n",
      "Processing mushroom.eu-tst.v1.jsonl:  43%|████▎     | 43/99 [02:33<05:06,  5.47s/entry]\u001B[A\n",
      "Processing mushroom.eu-tst.v1.jsonl:  44%|████▍     | 44/99 [02:34<03:55,  4.29s/entry]\u001B[A"
     ]
    },
    {
     "name": "stdout",
     "output_type": "stream",
     "text": [
      "No valid JSON found in content: []\n",
      "\n",
      "Error processing entry tst-eu-44: list index out of range\n"
     ]
    },
    {
     "name": "stderr",
     "output_type": "stream",
     "text": [
      "\n",
      "Processing mushroom.eu-tst.v1.jsonl:  45%|████▌     | 45/99 [02:37<03:33,  3.95s/entry]\u001B[A\n",
      "Processing mushroom.eu-tst.v1.jsonl:  46%|████▋     | 46/99 [02:39<03:00,  3.40s/entry]\u001B[A\n",
      "Processing mushroom.eu-tst.v1.jsonl:  47%|████▋     | 47/99 [02:43<03:03,  3.53s/entry]\u001B[A\n",
      "Processing mushroom.eu-tst.v1.jsonl:  48%|████▊     | 48/99 [02:48<03:18,  3.89s/entry]\u001B[A\n",
      "Processing mushroom.eu-tst.v1.jsonl:  49%|████▉     | 49/99 [02:52<03:09,  3.80s/entry]\u001B[A\n",
      "Processing mushroom.eu-tst.v1.jsonl:  51%|█████     | 50/99 [02:57<03:23,  4.15s/entry]\u001B[A\n",
      "Processing mushroom.eu-tst.v1.jsonl:  52%|█████▏    | 51/99 [02:59<02:57,  3.69s/entry]\u001B[A\n",
      "Processing mushroom.eu-tst.v1.jsonl:  53%|█████▎    | 52/99 [03:04<03:14,  4.14s/entry]\u001B[A\n",
      "Processing mushroom.eu-tst.v1.jsonl:  54%|█████▎    | 53/99 [03:10<03:23,  4.43s/entry]\u001B[A\n",
      "Processing mushroom.eu-tst.v1.jsonl:  55%|█████▍    | 54/99 [03:16<03:44,  4.99s/entry]\u001B[A\n",
      "Processing mushroom.eu-tst.v1.jsonl:  56%|█████▌    | 55/99 [03:18<03:04,  4.19s/entry]\u001B[A\n",
      "Processing mushroom.eu-tst.v1.jsonl:  57%|█████▋    | 56/99 [03:22<02:50,  3.97s/entry]\u001B[A\n",
      "Processing mushroom.eu-tst.v1.jsonl:  58%|█████▊    | 57/99 [03:25<02:37,  3.75s/entry]\u001B[A"
     ]
    },
    {
     "name": "stdout",
     "output_type": "stream",
     "text": [
      "No valid JSON found in content: []\n",
      "\n",
      "Error processing entry tst-eu-57: list index out of range\n"
     ]
    },
    {
     "name": "stderr",
     "output_type": "stream",
     "text": [
      "\n",
      "Processing mushroom.eu-tst.v1.jsonl:  59%|█████▊    | 58/99 [03:27<02:11,  3.22s/entry]\u001B[A\n",
      "Processing mushroom.eu-tst.v1.jsonl:  60%|█████▉    | 59/99 [03:29<01:50,  2.77s/entry]\u001B[A"
     ]
    },
    {
     "name": "stdout",
     "output_type": "stream",
     "text": [
      "No valid JSON found in content: []\n",
      "Error processing entry tst-eu-59: list index out of range\n"
     ]
    },
    {
     "name": "stderr",
     "output_type": "stream",
     "text": [
      "\n",
      "Processing mushroom.eu-tst.v1.jsonl:  61%|██████    | 60/99 [03:32<01:58,  3.03s/entry]\u001B[A"
     ]
    },
    {
     "name": "stdout",
     "output_type": "stream",
     "text": [
      "No valid JSON found in content: []\n",
      "\n",
      "Error processing entry tst-eu-60: list index out of range\n"
     ]
    },
    {
     "name": "stderr",
     "output_type": "stream",
     "text": [
      "\n",
      "Processing mushroom.eu-tst.v1.jsonl:  62%|██████▏   | 61/99 [03:35<01:50,  2.90s/entry]\u001B[A\n",
      "Processing mushroom.eu-tst.v1.jsonl:  63%|██████▎   | 62/99 [03:38<01:49,  2.95s/entry]\u001B[A\n",
      "Processing mushroom.eu-tst.v1.jsonl:  64%|██████▎   | 63/99 [03:41<01:43,  2.88s/entry]\u001B[A\n",
      "Processing mushroom.eu-tst.v1.jsonl:  65%|██████▍   | 64/99 [03:44<01:51,  3.18s/entry]\u001B[A\n",
      "Processing mushroom.eu-tst.v1.jsonl:  66%|██████▌   | 65/99 [03:47<01:38,  2.91s/entry]\u001B[A\n",
      "Processing mushroom.eu-tst.v1.jsonl:  67%|██████▋   | 66/99 [03:49<01:32,  2.80s/entry]\u001B[A\n",
      "Processing mushroom.eu-tst.v1.jsonl:  68%|██████▊   | 67/99 [03:52<01:30,  2.83s/entry]\u001B[A"
     ]
    },
    {
     "name": "stdout",
     "output_type": "stream",
     "text": [
      "No valid JSON found in content: []\n",
      "\n",
      "Error processing entry tst-eu-68: list index out of range\n"
     ]
    },
    {
     "name": "stderr",
     "output_type": "stream",
     "text": [
      "\n",
      "Processing mushroom.eu-tst.v1.jsonl:  69%|██████▊   | 68/99 [03:58<01:58,  3.83s/entry]\u001B[A\n",
      "Processing mushroom.eu-tst.v1.jsonl:  70%|██████▉   | 69/99 [04:01<01:41,  3.38s/entry]\u001B[A\n",
      "Processing mushroom.eu-tst.v1.jsonl:  71%|███████   | 70/99 [04:03<01:28,  3.07s/entry]\u001B[A"
     ]
    },
    {
     "name": "stdout",
     "output_type": "stream",
     "text": [
      "No valid JSON found in content: []\n",
      "\n",
      "Error processing entry tst-eu-71: list index out of range\n"
     ]
    },
    {
     "name": "stderr",
     "output_type": "stream",
     "text": [
      "\n",
      "Processing mushroom.eu-tst.v1.jsonl:  72%|███████▏  | 71/99 [04:05<01:17,  2.76s/entry]\u001B[A"
     ]
    },
    {
     "name": "stdout",
     "output_type": "stream",
     "text": [
      "No valid JSON found in content: []\n",
      "\n",
      "Error processing entry tst-eu-72: list index out of range\n"
     ]
    },
    {
     "name": "stderr",
     "output_type": "stream",
     "text": [
      "\n",
      "Processing mushroom.eu-tst.v1.jsonl:  73%|███████▎  | 72/99 [04:11<01:39,  3.67s/entry]\u001B[A\n",
      "Processing mushroom.eu-tst.v1.jsonl:  74%|███████▎  | 73/99 [04:13<01:25,  3.29s/entry]\u001B[A\n",
      "Processing mushroom.eu-tst.v1.jsonl:  75%|███████▍  | 74/99 [04:17<01:27,  3.51s/entry]\u001B[A\n",
      "Processing mushroom.eu-tst.v1.jsonl:  76%|███████▌  | 75/99 [04:28<02:13,  5.56s/entry]\u001B[A"
     ]
    },
    {
     "name": "stdout",
     "output_type": "stream",
     "text": [
      "No valid JSON found in content: []\n",
      "\n",
      "Error processing entry tst-eu-76: list index out of range\n"
     ]
    },
    {
     "name": "stderr",
     "output_type": "stream",
     "text": [
      "\n",
      "Processing mushroom.eu-tst.v1.jsonl:  77%|███████▋  | 76/99 [04:32<01:57,  5.10s/entry]\u001B[A\n",
      "Processing mushroom.eu-tst.v1.jsonl:  78%|███████▊  | 77/99 [04:34<01:33,  4.23s/entry]\u001B[A\n",
      "Processing mushroom.eu-tst.v1.jsonl:  79%|███████▉  | 78/99 [04:48<02:31,  7.23s/entry]\u001B[A\n",
      "Processing mushroom.eu-tst.v1.jsonl:  80%|███████▉  | 79/99 [04:53<02:13,  6.68s/entry]\u001B[A\n",
      "Processing mushroom.eu-tst.v1.jsonl:  81%|████████  | 80/99 [04:56<01:42,  5.38s/entry]\u001B[A\n",
      "Processing mushroom.eu-tst.v1.jsonl:  82%|████████▏ | 81/99 [04:58<01:18,  4.39s/entry]\u001B[A\n",
      "Processing mushroom.eu-tst.v1.jsonl:  83%|████████▎ | 82/99 [05:00<01:03,  3.74s/entry]\u001B[A\n",
      "Processing mushroom.eu-tst.v1.jsonl:  84%|████████▍ | 83/99 [05:04<01:02,  3.90s/entry]\u001B[A\n",
      "Processing mushroom.eu-tst.v1.jsonl:  85%|████████▍ | 84/99 [05:07<00:54,  3.65s/entry]\u001B[A"
     ]
    },
    {
     "name": "stdout",
     "output_type": "stream",
     "text": [
      "No valid JSON found in content: []\n",
      "\n",
      "Error processing entry tst-eu-85: list index out of range\n"
     ]
    },
    {
     "name": "stderr",
     "output_type": "stream",
     "text": [
      "\n",
      "Processing mushroom.eu-tst.v1.jsonl:  86%|████████▌ | 85/99 [05:11<00:51,  3.71s/entry]\u001B[A"
     ]
    },
    {
     "name": "stdout",
     "output_type": "stream",
     "text": [
      "No valid JSON found in content: []\n",
      "Error processing entry tst-eu-86: list index out of range\n"
     ]
    },
    {
     "name": "stderr",
     "output_type": "stream",
     "text": [
      "\n",
      "Processing mushroom.eu-tst.v1.jsonl:  87%|████████▋ | 86/99 [05:14<00:44,  3.40s/entry]\u001B[A\n",
      "Processing mushroom.eu-tst.v1.jsonl:  88%|████████▊ | 87/99 [05:18<00:43,  3.60s/entry]\u001B[A\n",
      "Processing mushroom.eu-tst.v1.jsonl:  89%|████████▉ | 88/99 [05:21<00:36,  3.29s/entry]\u001B[A\n",
      "Processing mushroom.eu-tst.v1.jsonl:  90%|████████▉ | 89/99 [05:23<00:30,  3.09s/entry]\u001B[A\n",
      "Processing mushroom.eu-tst.v1.jsonl:  91%|█████████ | 90/99 [05:27<00:30,  3.41s/entry]\u001B[A\n",
      "Processing mushroom.eu-tst.v1.jsonl:  92%|█████████▏| 91/99 [05:30<00:25,  3.23s/entry]\u001B[A\n",
      "Processing mushroom.eu-tst.v1.jsonl:  93%|█████████▎| 92/99 [05:34<00:24,  3.51s/entry]\u001B[A\n",
      "Processing mushroom.eu-tst.v1.jsonl:  94%|█████████▍| 93/99 [05:38<00:20,  3.42s/entry]\u001B[A"
     ]
    },
    {
     "name": "stdout",
     "output_type": "stream",
     "text": [
      "No valid JSON found in content: []\n",
      "\n",
      "Error processing entry tst-eu-94: list index out of range\n"
     ]
    },
    {
     "name": "stderr",
     "output_type": "stream",
     "text": [
      "\n",
      "Processing mushroom.eu-tst.v1.jsonl:  95%|█████████▍| 94/99 [05:46<00:24,  4.82s/entry]\u001B[A\n",
      "Processing mushroom.eu-tst.v1.jsonl:  96%|█████████▌| 95/99 [05:49<00:17,  4.39s/entry]\u001B[A\n",
      "Processing mushroom.eu-tst.v1.jsonl:  97%|█████████▋| 96/99 [05:52<00:12,  4.10s/entry]\u001B[A\n",
      "Processing mushroom.eu-tst.v1.jsonl:  98%|█████████▊| 97/99 [05:55<00:07,  3.66s/entry]\u001B[A\n",
      "Processing mushroom.eu-tst.v1.jsonl:  99%|█████████▉| 98/99 [05:59<00:03,  3.85s/entry]\u001B[A\n",
      "Processing mushroom.eu-tst.v1.jsonl: 100%|██████████| 99/99 [06:02<00:00,  3.42s/entry]\u001B[A\n",
      "Processing Files:  21%|██▏       | 3/14 [28:40<1:37:42, 532.97s/file]                  \u001B[A"
     ]
    },
    {
     "name": "stdout",
     "output_type": "stream",
     "text": [
      "Processed and saved: data/test_detect_gpt4_m2/mushroom.eu-tst.v1.jsonl\n"
     ]
    },
    {
     "name": "stderr",
     "output_type": "stream",
     "text": [
      "\n",
      "Processing mushroom.ar-tst.v1.jsonl:   0%|          | 0/150 [00:00<?, ?entry/s]\u001B[A\n",
      "Processing mushroom.ar-tst.v1.jsonl:   1%|          | 1/150 [00:03<09:52,  3.98s/entry]\u001B[A\n",
      "Processing mushroom.ar-tst.v1.jsonl:   1%|▏         | 2/150 [00:09<11:43,  4.75s/entry]\u001B[A\n",
      "Processing mushroom.ar-tst.v1.jsonl:   2%|▏         | 3/150 [00:15<13:46,  5.63s/entry]\u001B[A\n",
      "Processing mushroom.ar-tst.v1.jsonl:   3%|▎         | 4/150 [00:18<11:11,  4.60s/entry]\u001B[A\n",
      "Processing mushroom.ar-tst.v1.jsonl:   3%|▎         | 5/150 [00:23<11:05,  4.59s/entry]\u001B[A\n",
      "Processing mushroom.ar-tst.v1.jsonl:   4%|▍         | 6/150 [00:27<10:10,  4.24s/entry]\u001B[A\n",
      "Processing mushroom.ar-tst.v1.jsonl:   5%|▍         | 7/150 [00:32<11:14,  4.72s/entry]\u001B[A\n",
      "Processing mushroom.ar-tst.v1.jsonl:   5%|▌         | 8/150 [00:34<08:49,  3.73s/entry]\u001B[A"
     ]
    },
    {
     "name": "stdout",
     "output_type": "stream",
     "text": [
      "No valid JSON found in content: []\n",
      "Error processing entry tst-ar-8: list index out of range\n"
     ]
    },
    {
     "name": "stderr",
     "output_type": "stream",
     "text": [
      "\n",
      "Processing mushroom.ar-tst.v1.jsonl:   6%|▌         | 9/150 [00:37<08:20,  3.55s/entry]\u001B[A\n",
      "Processing mushroom.ar-tst.v1.jsonl:   7%|▋         | 10/150 [00:42<09:16,  3.97s/entry]\u001B[A\n",
      "Processing mushroom.ar-tst.v1.jsonl:   7%|▋         | 11/150 [00:46<09:10,  3.96s/entry]\u001B[A\n",
      "Processing mushroom.ar-tst.v1.jsonl:   8%|▊         | 12/150 [00:49<08:21,  3.64s/entry]\u001B[A\n",
      "Processing mushroom.ar-tst.v1.jsonl:   9%|▊         | 13/150 [00:55<09:49,  4.30s/entry]\u001B[A\n",
      "Processing mushroom.ar-tst.v1.jsonl:   9%|▉         | 14/150 [00:58<09:18,  4.11s/entry]\u001B[A\n",
      "Processing mushroom.ar-tst.v1.jsonl:  10%|█         | 15/150 [01:03<09:29,  4.22s/entry]\u001B[A\n",
      "Processing mushroom.ar-tst.v1.jsonl:  11%|█         | 16/150 [01:07<09:33,  4.28s/entry]\u001B[A\n",
      "Processing mushroom.ar-tst.v1.jsonl:  11%|█▏        | 17/150 [01:09<07:59,  3.60s/entry]\u001B[A\n",
      "Processing mushroom.ar-tst.v1.jsonl:  12%|█▏        | 18/150 [01:13<07:56,  3.61s/entry]\u001B[A\n",
      "Processing mushroom.ar-tst.v1.jsonl:  13%|█▎        | 19/150 [01:16<07:21,  3.37s/entry]\u001B[A\n",
      "Processing mushroom.ar-tst.v1.jsonl:  13%|█▎        | 20/150 [01:19<07:31,  3.47s/entry]\u001B[A\n",
      "Processing mushroom.ar-tst.v1.jsonl:  14%|█▍        | 21/150 [01:24<07:57,  3.70s/entry]\u001B[A\n",
      "Processing mushroom.ar-tst.v1.jsonl:  15%|█▍        | 22/150 [01:27<07:40,  3.60s/entry]\u001B[A\n",
      "Processing mushroom.ar-tst.v1.jsonl:  15%|█▌        | 23/150 [01:29<06:54,  3.27s/entry]\u001B[A\n",
      "Processing mushroom.ar-tst.v1.jsonl:  16%|█▌        | 24/150 [01:32<06:22,  3.04s/entry]\u001B[A\n",
      "Processing mushroom.ar-tst.v1.jsonl:  17%|█▋        | 25/150 [01:34<05:51,  2.81s/entry]\u001B[A\n",
      "Processing mushroom.ar-tst.v1.jsonl:  17%|█▋        | 26/150 [01:39<07:16,  3.52s/entry]\u001B[A\n",
      "Processing mushroom.ar-tst.v1.jsonl:  18%|█▊        | 27/150 [01:43<07:06,  3.46s/entry]\u001B[A\n",
      "Processing mushroom.ar-tst.v1.jsonl:  19%|█▊        | 28/150 [01:45<06:08,  3.02s/entry]\u001B[A\n",
      "Processing mushroom.ar-tst.v1.jsonl:  19%|█▉        | 29/150 [01:49<06:58,  3.46s/entry]\u001B[A\n",
      "Processing mushroom.ar-tst.v1.jsonl:  20%|██        | 30/150 [01:53<06:53,  3.44s/entry]\u001B[A\n",
      "Processing mushroom.ar-tst.v1.jsonl:  21%|██        | 31/150 [01:56<06:52,  3.47s/entry]\u001B[A\n",
      "Processing mushroom.ar-tst.v1.jsonl:  21%|██▏       | 32/150 [02:00<07:04,  3.60s/entry]\u001B[A\n",
      "Processing mushroom.ar-tst.v1.jsonl:  22%|██▏       | 33/150 [02:03<06:40,  3.42s/entry]\u001B[A\n",
      "Processing mushroom.ar-tst.v1.jsonl:  23%|██▎       | 34/150 [02:09<08:05,  4.18s/entry]\u001B[A\n",
      "Processing mushroom.ar-tst.v1.jsonl:  23%|██▎       | 35/150 [02:12<07:35,  3.96s/entry]\u001B[A\n",
      "Processing mushroom.ar-tst.v1.jsonl:  24%|██▍       | 36/150 [02:17<07:46,  4.09s/entry]\u001B[A\n",
      "Processing mushroom.ar-tst.v1.jsonl:  25%|██▍       | 37/150 [02:25<09:50,  5.23s/entry]\u001B[A\n",
      "Processing mushroom.ar-tst.v1.jsonl:  25%|██▌       | 38/150 [02:33<11:10,  5.99s/entry]\u001B[A\n",
      "Processing mushroom.ar-tst.v1.jsonl:  26%|██▌       | 39/150 [02:35<09:17,  5.02s/entry]\u001B[A\n",
      "Processing mushroom.ar-tst.v1.jsonl:  27%|██▋       | 40/150 [02:40<08:53,  4.85s/entry]\u001B[A\n",
      "Processing mushroom.ar-tst.v1.jsonl:  27%|██▋       | 41/150 [02:46<09:39,  5.32s/entry]\u001B[A\n",
      "Processing mushroom.ar-tst.v1.jsonl:  28%|██▊       | 42/150 [02:51<09:20,  5.19s/entry]\u001B[A\n",
      "Processing mushroom.ar-tst.v1.jsonl:  29%|██▊       | 43/150 [02:53<07:45,  4.35s/entry]\u001B[A\n",
      "Processing mushroom.ar-tst.v1.jsonl:  29%|██▉       | 44/150 [03:01<09:30,  5.38s/entry]\u001B[A\n",
      "Processing mushroom.ar-tst.v1.jsonl:  30%|███       | 45/150 [03:04<07:49,  4.48s/entry]\u001B[A"
     ]
    },
    {
     "name": "stdout",
     "output_type": "stream",
     "text": [
      "No valid JSON found in content: []\n",
      "\n",
      "Error processing entry tst-ar-45: list index out of range\n"
     ]
    },
    {
     "name": "stderr",
     "output_type": "stream",
     "text": [
      "\n",
      "Processing mushroom.ar-tst.v1.jsonl:  31%|███       | 46/150 [03:08<07:47,  4.49s/entry]\u001B[A\n",
      "Processing mushroom.ar-tst.v1.jsonl:  31%|███▏      | 47/150 [03:11<06:57,  4.05s/entry]\u001B[A\n",
      "Processing mushroom.ar-tst.v1.jsonl:  32%|███▏      | 48/150 [03:14<06:31,  3.84s/entry]\u001B[A\n",
      "Processing mushroom.ar-tst.v1.jsonl:  33%|███▎      | 49/150 [03:19<06:34,  3.90s/entry]\u001B[A\n",
      "Processing mushroom.ar-tst.v1.jsonl:  33%|███▎      | 50/150 [03:26<08:24,  5.05s/entry]\u001B[A\n",
      "Processing mushroom.ar-tst.v1.jsonl:  34%|███▍      | 51/150 [03:29<07:06,  4.31s/entry]\u001B[A\n",
      "Processing mushroom.ar-tst.v1.jsonl:  35%|███▍      | 52/150 [03:31<05:56,  3.64s/entry]\u001B[A\n",
      "Processing mushroom.ar-tst.v1.jsonl:  35%|███▌      | 53/150 [03:38<07:21,  4.56s/entry]\u001B[A\n",
      "Processing mushroom.ar-tst.v1.jsonl:  36%|███▌      | 54/150 [03:39<05:50,  3.65s/entry]\u001B[A"
     ]
    },
    {
     "name": "stdout",
     "output_type": "stream",
     "text": [
      "No valid JSON found in content: []\n",
      "\n",
      "Error processing entry tst-ar-54: list index out of range\n"
     ]
    },
    {
     "name": "stderr",
     "output_type": "stream",
     "text": [
      "\n",
      "Processing mushroom.ar-tst.v1.jsonl:  37%|███▋      | 55/150 [03:42<05:35,  3.53s/entry]\u001B[A\n",
      "Processing mushroom.ar-tst.v1.jsonl:  37%|███▋      | 56/150 [03:46<05:20,  3.41s/entry]\u001B[A\n",
      "Processing mushroom.ar-tst.v1.jsonl:  38%|███▊      | 57/150 [03:50<05:55,  3.82s/entry]\u001B[A\n",
      "Processing mushroom.ar-tst.v1.jsonl:  39%|███▊      | 58/150 [03:54<05:46,  3.76s/entry]\u001B[A\n",
      "Processing mushroom.ar-tst.v1.jsonl:  39%|███▉      | 59/150 [04:00<06:47,  4.48s/entry]\u001B[A\n",
      "Processing mushroom.ar-tst.v1.jsonl:  40%|████      | 60/150 [04:04<06:39,  4.44s/entry]\u001B[A\n",
      "Processing mushroom.ar-tst.v1.jsonl:  41%|████      | 61/150 [04:07<05:33,  3.75s/entry]\u001B[A\n",
      "Processing mushroom.ar-tst.v1.jsonl:  41%|████▏     | 62/150 [04:10<05:25,  3.70s/entry]\u001B[A\n",
      "Processing mushroom.ar-tst.v1.jsonl:  42%|████▏     | 63/150 [04:14<05:23,  3.71s/entry]\u001B[A\n",
      "Processing mushroom.ar-tst.v1.jsonl:  43%|████▎     | 64/150 [04:19<05:43,  4.00s/entry]\u001B[A\n",
      "Processing mushroom.ar-tst.v1.jsonl:  43%|████▎     | 65/150 [04:22<05:34,  3.94s/entry]\u001B[A\n",
      "Processing mushroom.ar-tst.v1.jsonl:  44%|████▍     | 66/150 [04:25<04:58,  3.55s/entry]\u001B[A\n",
      "Processing mushroom.ar-tst.v1.jsonl:  45%|████▍     | 67/150 [04:28<04:48,  3.48s/entry]\u001B[A\n",
      "Processing mushroom.ar-tst.v1.jsonl:  45%|████▌     | 68/150 [04:31<04:23,  3.22s/entry]\u001B[A\n",
      "Processing mushroom.ar-tst.v1.jsonl:  46%|████▌     | 69/150 [04:33<03:56,  2.92s/entry]\u001B[A"
     ]
    },
    {
     "name": "stdout",
     "output_type": "stream",
     "text": [
      "No valid JSON found in content: []\n",
      "\n",
      "Error processing entry tst-ar-69: list index out of range\n"
     ]
    },
    {
     "name": "stderr",
     "output_type": "stream",
     "text": [
      "\n",
      "Processing mushroom.ar-tst.v1.jsonl:  47%|████▋     | 70/150 [04:36<04:03,  3.04s/entry]\u001B[A\n",
      "Processing mushroom.ar-tst.v1.jsonl:  47%|████▋     | 71/150 [04:39<03:53,  2.95s/entry]\u001B[A\n",
      "Processing mushroom.ar-tst.v1.jsonl:  48%|████▊     | 72/150 [04:49<06:23,  4.92s/entry]\u001B[A\n",
      "Processing mushroom.ar-tst.v1.jsonl:  49%|████▊     | 73/150 [04:51<05:24,  4.22s/entry]\u001B[A\n",
      "Processing mushroom.ar-tst.v1.jsonl:  49%|████▉     | 74/150 [04:54<04:43,  3.73s/entry]\u001B[A\n",
      "Processing mushroom.ar-tst.v1.jsonl:  50%|█████     | 75/150 [04:59<05:08,  4.11s/entry]\u001B[A\n",
      "Processing mushroom.ar-tst.v1.jsonl:  51%|█████     | 76/150 [05:02<04:41,  3.80s/entry]\u001B[A\n",
      "Processing mushroom.ar-tst.v1.jsonl:  51%|█████▏    | 77/150 [05:04<04:06,  3.38s/entry]\u001B[A\n",
      "Processing mushroom.ar-tst.v1.jsonl:  52%|█████▏    | 78/150 [05:07<03:55,  3.27s/entry]\u001B[A\n",
      "Processing mushroom.ar-tst.v1.jsonl:  53%|█████▎    | 79/150 [05:11<03:57,  3.34s/entry]\u001B[A\n",
      "Processing mushroom.ar-tst.v1.jsonl:  53%|█████▎    | 80/150 [05:16<04:38,  3.98s/entry]\u001B[A\n",
      "Processing mushroom.ar-tst.v1.jsonl:  54%|█████▍    | 81/150 [05:21<04:38,  4.03s/entry]\u001B[A\n",
      "Processing mushroom.ar-tst.v1.jsonl:  55%|█████▍    | 82/150 [05:23<04:06,  3.62s/entry]\u001B[A\n",
      "Processing mushroom.ar-tst.v1.jsonl:  55%|█████▌    | 83/150 [05:29<04:50,  4.34s/entry]\u001B[A\n",
      "Processing mushroom.ar-tst.v1.jsonl:  56%|█████▌    | 84/150 [05:32<04:20,  3.95s/entry]\u001B[A\n",
      "Processing mushroom.ar-tst.v1.jsonl:  57%|█████▋    | 85/150 [05:38<04:55,  4.55s/entry]\u001B[A\n",
      "Processing mushroom.ar-tst.v1.jsonl:  57%|█████▋    | 86/150 [05:49<06:50,  6.42s/entry]\u001B[A\n",
      "Processing mushroom.ar-tst.v1.jsonl:  58%|█████▊    | 87/150 [05:52<05:35,  5.32s/entry]\u001B[A\n",
      "Processing mushroom.ar-tst.v1.jsonl:  59%|█████▊    | 88/150 [05:58<05:45,  5.57s/entry]\u001B[A\n",
      "Processing mushroom.ar-tst.v1.jsonl:  59%|█████▉    | 89/150 [06:06<06:35,  6.48s/entry]\u001B[A\n",
      "Processing mushroom.ar-tst.v1.jsonl:  60%|██████    | 90/150 [06:11<06:01,  6.03s/entry]\u001B[A\n",
      "Processing mushroom.ar-tst.v1.jsonl:  61%|██████    | 91/150 [06:15<05:13,  5.31s/entry]\u001B[A\n",
      "Processing mushroom.ar-tst.v1.jsonl:  61%|██████▏   | 92/150 [06:20<04:59,  5.16s/entry]\u001B[A\n",
      "Processing mushroom.ar-tst.v1.jsonl:  62%|██████▏   | 93/150 [06:22<04:01,  4.23s/entry]\u001B[A\n",
      "Processing mushroom.ar-tst.v1.jsonl:  63%|██████▎   | 94/150 [06:27<04:18,  4.62s/entry]\u001B[A\n",
      "Processing mushroom.ar-tst.v1.jsonl:  63%|██████▎   | 95/150 [06:30<03:40,  4.01s/entry]\u001B[A\n",
      "Processing mushroom.ar-tst.v1.jsonl:  64%|██████▍   | 96/150 [06:33<03:18,  3.68s/entry]\u001B[A\n",
      "Processing mushroom.ar-tst.v1.jsonl:  65%|██████▍   | 97/150 [06:35<02:51,  3.24s/entry]\u001B[A\n",
      "Processing mushroom.ar-tst.v1.jsonl:  65%|██████▌   | 98/150 [06:39<02:57,  3.41s/entry]\u001B[A\n",
      "Processing mushroom.ar-tst.v1.jsonl:  66%|██████▌   | 99/150 [06:44<03:16,  3.85s/entry]\u001B[A\n",
      "Processing mushroom.ar-tst.v1.jsonl:  67%|██████▋   | 100/150 [06:51<04:07,  4.95s/entry]\u001B[A\n",
      "Processing mushroom.ar-tst.v1.jsonl:  67%|██████▋   | 101/150 [07:02<05:21,  6.56s/entry]\u001B[A\n",
      "Processing mushroom.ar-tst.v1.jsonl:  68%|██████▊   | 102/150 [07:05<04:32,  5.68s/entry]\u001B[A\n",
      "Processing mushroom.ar-tst.v1.jsonl:  69%|██████▊   | 103/150 [07:09<04:02,  5.15s/entry]\u001B[A\n",
      "Processing mushroom.ar-tst.v1.jsonl:  69%|██████▉   | 104/150 [07:12<03:16,  4.28s/entry]\u001B[A\n",
      "Processing mushroom.ar-tst.v1.jsonl:  70%|███████   | 105/150 [07:14<02:43,  3.64s/entry]\u001B[A\n",
      "Processing mushroom.ar-tst.v1.jsonl:  71%|███████   | 106/150 [07:17<02:42,  3.68s/entry]\u001B[A\n",
      "Processing mushroom.ar-tst.v1.jsonl:  71%|███████▏  | 107/150 [07:20<02:27,  3.42s/entry]\u001B[A\n",
      "Processing mushroom.ar-tst.v1.jsonl:  72%|███████▏  | 108/150 [07:25<02:42,  3.87s/entry]\u001B[A\n",
      "Processing mushroom.ar-tst.v1.jsonl:  73%|███████▎  | 109/150 [07:31<02:57,  4.32s/entry]\u001B[A\n",
      "Processing mushroom.ar-tst.v1.jsonl:  73%|███████▎  | 110/150 [07:33<02:26,  3.67s/entry]\u001B[A\n",
      "Processing mushroom.ar-tst.v1.jsonl:  74%|███████▍  | 111/150 [07:38<02:36,  4.01s/entry]\u001B[A\n",
      "Processing mushroom.ar-tst.v1.jsonl:  75%|███████▍  | 112/150 [07:44<03:05,  4.89s/entry]\u001B[A\n",
      "Processing mushroom.ar-tst.v1.jsonl:  75%|███████▌  | 113/150 [07:51<03:18,  5.35s/entry]\u001B[A\n",
      "Processing mushroom.ar-tst.v1.jsonl:  76%|███████▌  | 114/150 [07:54<02:47,  4.66s/entry]\u001B[A\n",
      "Processing mushroom.ar-tst.v1.jsonl:  77%|███████▋  | 115/150 [08:03<03:31,  6.05s/entry]\u001B[A\n",
      "Processing mushroom.ar-tst.v1.jsonl:  77%|███████▋  | 116/150 [08:06<02:50,  5.02s/entry]\u001B[A\n",
      "Processing mushroom.ar-tst.v1.jsonl:  78%|███████▊  | 117/150 [08:09<02:27,  4.48s/entry]\u001B[A\n",
      "Processing mushroom.ar-tst.v1.jsonl:  79%|███████▊  | 118/150 [08:11<01:59,  3.74s/entry]\u001B[A\n",
      "Processing mushroom.ar-tst.v1.jsonl:  79%|███████▉  | 119/150 [08:14<01:48,  3.49s/entry]\u001B[A\n",
      "Processing mushroom.ar-tst.v1.jsonl:  80%|████████  | 120/150 [08:20<02:09,  4.32s/entry]\u001B[A\n",
      "Processing mushroom.ar-tst.v1.jsonl:  81%|████████  | 121/150 [08:24<02:04,  4.29s/entry]\u001B[A\n",
      "Processing mushroom.ar-tst.v1.jsonl:  81%|████████▏ | 122/150 [08:31<02:18,  4.95s/entry]\u001B[A\n",
      "Processing mushroom.ar-tst.v1.jsonl:  82%|████████▏ | 123/150 [08:33<01:51,  4.13s/entry]\u001B[A\n",
      "Processing mushroom.ar-tst.v1.jsonl:  83%|████████▎ | 124/150 [08:37<01:47,  4.15s/entry]\u001B[A\n",
      "Processing mushroom.ar-tst.v1.jsonl:  83%|████████▎ | 125/150 [08:40<01:35,  3.82s/entry]\u001B[A\n",
      "Processing mushroom.ar-tst.v1.jsonl:  84%|████████▍ | 126/150 [08:45<01:34,  3.94s/entry]\u001B[A\n",
      "Processing mushroom.ar-tst.v1.jsonl:  85%|████████▍ | 127/150 [08:52<01:54,  4.97s/entry]\u001B[A\n",
      "Processing mushroom.ar-tst.v1.jsonl:  85%|████████▌ | 128/150 [08:56<01:40,  4.56s/entry]\u001B[A\n",
      "Processing mushroom.ar-tst.v1.jsonl:  86%|████████▌ | 129/150 [08:59<01:29,  4.25s/entry]\u001B[A\n",
      "Processing mushroom.ar-tst.v1.jsonl:  87%|████████▋ | 130/150 [09:06<01:43,  5.15s/entry]\u001B[A\n",
      "Processing mushroom.ar-tst.v1.jsonl:  87%|████████▋ | 131/150 [09:11<01:35,  5.03s/entry]\u001B[A\n",
      "Processing mushroom.ar-tst.v1.jsonl:  88%|████████▊ | 132/150 [09:14<01:19,  4.42s/entry]\u001B[A\n",
      "Processing mushroom.ar-tst.v1.jsonl:  89%|████████▊ | 133/150 [09:18<01:13,  4.32s/entry]\u001B[A\n",
      "Processing mushroom.ar-tst.v1.jsonl:  89%|████████▉ | 134/150 [09:22<01:04,  4.03s/entry]\u001B[A\n",
      "Processing mushroom.ar-tst.v1.jsonl:  90%|█████████ | 135/150 [09:23<00:49,  3.31s/entry]\u001B[A"
     ]
    },
    {
     "name": "stdout",
     "output_type": "stream",
     "text": [
      "No valid JSON found in content: []\n",
      "\n",
      "Error processing entry tst-ar-135: list index out of range\n"
     ]
    },
    {
     "name": "stderr",
     "output_type": "stream",
     "text": [
      "\n",
      "Processing mushroom.ar-tst.v1.jsonl:  91%|█████████ | 136/150 [09:26<00:44,  3.20s/entry]\u001B[A\n",
      "Processing mushroom.ar-tst.v1.jsonl:  91%|█████████▏| 137/150 [09:31<00:48,  3.73s/entry]\u001B[A\n",
      "Processing mushroom.ar-tst.v1.jsonl:  92%|█████████▏| 138/150 [09:38<00:55,  4.59s/entry]\u001B[A\n",
      "Processing mushroom.ar-tst.v1.jsonl:  93%|█████████▎| 139/150 [09:41<00:47,  4.30s/entry]\u001B[A\n",
      "Processing mushroom.ar-tst.v1.jsonl:  93%|█████████▎| 140/150 [09:45<00:42,  4.21s/entry]\u001B[A\n",
      "Processing mushroom.ar-tst.v1.jsonl:  94%|█████████▍| 141/150 [09:49<00:36,  4.05s/entry]\u001B[A\n",
      "Processing mushroom.ar-tst.v1.jsonl:  95%|█████████▍| 142/150 [09:51<00:27,  3.46s/entry]\u001B[A\n",
      "Processing mushroom.ar-tst.v1.jsonl:  95%|█████████▌| 143/150 [09:53<00:21,  3.04s/entry]\u001B[A\n",
      "Processing mushroom.ar-tst.v1.jsonl:  96%|█████████▌| 144/150 [09:56<00:18,  3.07s/entry]\u001B[A\n",
      "Processing mushroom.ar-tst.v1.jsonl:  97%|█████████▋| 145/150 [09:59<00:14,  2.95s/entry]\u001B[A\n",
      "Processing mushroom.ar-tst.v1.jsonl:  97%|█████████▋| 146/150 [10:07<00:17,  4.41s/entry]\u001B[A\n",
      "Processing mushroom.ar-tst.v1.jsonl:  98%|█████████▊| 147/150 [10:09<00:11,  3.77s/entry]\u001B[A\n",
      "Processing mushroom.ar-tst.v1.jsonl:  99%|█████████▊| 148/150 [10:12<00:07,  3.63s/entry]\u001B[A\n",
      "Processing mushroom.ar-tst.v1.jsonl:  99%|█████████▉| 149/150 [10:14<00:03,  3.17s/entry]\u001B[A"
     ]
    },
    {
     "name": "stdout",
     "output_type": "stream",
     "text": [
      "No valid JSON found in content: []\n",
      "\n",
      "Error processing entry tst-ar-149: list index out of range\n"
     ]
    },
    {
     "name": "stderr",
     "output_type": "stream",
     "text": [
      "\n",
      "Processing mushroom.ar-tst.v1.jsonl: 100%|██████████| 150/150 [10:17<00:00,  2.99s/entry]\u001B[A\n",
      "Processing Files:  29%|██▊       | 4/14 [38:57<1:34:23, 566.35s/file]                    \u001B[A"
     ]
    },
    {
     "name": "stdout",
     "output_type": "stream",
     "text": [
      "Processed and saved: data/test_detect_gpt4_m2/mushroom.ar-tst.v1.jsonl\n"
     ]
    },
    {
     "name": "stderr",
     "output_type": "stream",
     "text": [
      "\n",
      "Processing mushroom.fa-tst.v1.jsonl:   0%|          | 0/100 [00:00<?, ?entry/s]\u001B[A\n",
      "Processing mushroom.fa-tst.v1.jsonl:   1%|          | 1/100 [00:02<04:46,  2.89s/entry]\u001B[A\n",
      "Processing mushroom.fa-tst.v1.jsonl:   2%|▏         | 2/100 [00:05<04:32,  2.78s/entry]\u001B[A\n",
      "Processing mushroom.fa-tst.v1.jsonl:   3%|▎         | 3/100 [00:13<08:10,  5.05s/entry]\u001B[A\n",
      "Processing mushroom.fa-tst.v1.jsonl:   4%|▍         | 4/100 [00:17<07:12,  4.51s/entry]\u001B[A\n",
      "Processing mushroom.fa-tst.v1.jsonl:   5%|▌         | 5/100 [00:19<06:11,  3.91s/entry]\u001B[A"
     ]
    },
    {
     "name": "stdout",
     "output_type": "stream",
     "text": [
      "No valid JSON found in content: []\n",
      "\n",
      "Error processing entry tst-fa-5: list index out of range\n"
     ]
    },
    {
     "name": "stderr",
     "output_type": "stream",
     "text": [
      "\n",
      "Processing mushroom.fa-tst.v1.jsonl:   6%|▌         | 6/100 [00:22<05:40,  3.63s/entry]\u001B[A\n",
      "Processing mushroom.fa-tst.v1.jsonl:   7%|▋         | 7/100 [00:26<05:37,  3.63s/entry]\u001B[A\n",
      "Processing mushroom.fa-tst.v1.jsonl:   8%|▊         | 8/100 [00:30<05:47,  3.78s/entry]\u001B[A\n",
      "Processing mushroom.fa-tst.v1.jsonl:   9%|▉         | 9/100 [00:33<05:02,  3.32s/entry]\u001B[A\n",
      "Processing mushroom.fa-tst.v1.jsonl:  10%|█         | 10/100 [00:35<04:45,  3.17s/entry]\u001B[A\n",
      "Processing mushroom.fa-tst.v1.jsonl:  11%|█         | 11/100 [00:39<04:52,  3.28s/entry]\u001B[A\n",
      "Processing mushroom.fa-tst.v1.jsonl:  12%|█▏        | 12/100 [00:41<04:15,  2.91s/entry]\u001B[A\n",
      "Processing mushroom.fa-tst.v1.jsonl:  13%|█▎        | 13/100 [00:44<04:21,  3.00s/entry]\u001B[A"
     ]
    },
    {
     "name": "stdout",
     "output_type": "stream",
     "text": [
      "No valid JSON found in content: []\n",
      "Error processing entry tst-fa-13: list index out of range\n"
     ]
    },
    {
     "name": "stderr",
     "output_type": "stream",
     "text": [
      "\n",
      "Processing mushroom.fa-tst.v1.jsonl:  14%|█▍        | 14/100 [00:47<04:08,  2.88s/entry]\u001B[A\n",
      "Processing mushroom.fa-tst.v1.jsonl:  15%|█▌        | 15/100 [00:50<04:23,  3.10s/entry]\u001B[A\n",
      "Processing mushroom.fa-tst.v1.jsonl:  16%|█▌        | 16/100 [00:53<04:02,  2.89s/entry]\u001B[A\n",
      "Processing mushroom.fa-tst.v1.jsonl:  17%|█▋        | 17/100 [00:55<03:39,  2.64s/entry]\u001B[A\n",
      "Processing mushroom.fa-tst.v1.jsonl:  18%|█▊        | 18/100 [00:58<04:00,  2.94s/entry]\u001B[A\n",
      "Processing mushroom.fa-tst.v1.jsonl:  19%|█▉        | 19/100 [01:03<04:30,  3.34s/entry]\u001B[A\n",
      "Processing mushroom.fa-tst.v1.jsonl:  20%|██        | 20/100 [01:05<04:01,  3.02s/entry]\u001B[A\n",
      "Processing mushroom.fa-tst.v1.jsonl:  21%|██        | 21/100 [01:07<03:43,  2.83s/entry]\u001B[A\n",
      "Processing mushroom.fa-tst.v1.jsonl:  22%|██▏       | 22/100 [01:10<03:29,  2.69s/entry]\u001B[A\n",
      "Processing mushroom.fa-tst.v1.jsonl:  23%|██▎       | 23/100 [01:12<03:16,  2.55s/entry]\u001B[A\n",
      "Processing mushroom.fa-tst.v1.jsonl:  24%|██▍       | 24/100 [01:14<03:02,  2.40s/entry]\u001B[A\n",
      "Processing mushroom.fa-tst.v1.jsonl:  25%|██▌       | 25/100 [01:16<03:01,  2.42s/entry]\u001B[A\n",
      "Processing mushroom.fa-tst.v1.jsonl:  26%|██▌       | 26/100 [01:25<05:10,  4.20s/entry]\u001B[A\n",
      "Processing mushroom.fa-tst.v1.jsonl:  27%|██▋       | 27/100 [01:27<04:30,  3.71s/entry]\u001B[A\n",
      "Processing mushroom.fa-tst.v1.jsonl:  28%|██▊       | 28/100 [01:31<04:15,  3.55s/entry]\u001B[A\n",
      "Processing mushroom.fa-tst.v1.jsonl:  29%|██▉       | 29/100 [01:33<03:42,  3.14s/entry]\u001B[A\n",
      "Processing mushroom.fa-tst.v1.jsonl:  30%|███       | 30/100 [01:37<03:52,  3.32s/entry]\u001B[A\n",
      "Processing mushroom.fa-tst.v1.jsonl:  31%|███       | 31/100 [01:40<03:47,  3.30s/entry]\u001B[A\n",
      "Processing mushroom.fa-tst.v1.jsonl:  32%|███▏      | 32/100 [01:46<04:49,  4.25s/entry]\u001B[A\n",
      "Processing mushroom.fa-tst.v1.jsonl:  33%|███▎      | 33/100 [01:50<04:31,  4.05s/entry]\u001B[A\n",
      "Processing mushroom.fa-tst.v1.jsonl:  34%|███▍      | 34/100 [01:52<03:56,  3.59s/entry]\u001B[A\n",
      "Processing mushroom.fa-tst.v1.jsonl:  35%|███▌      | 35/100 [01:55<03:27,  3.20s/entry]\u001B[A"
     ]
    },
    {
     "name": "stdout",
     "output_type": "stream",
     "text": [
      "No valid JSON found in content: []\n",
      "Error processing entry tst-fa-35: list index out of range\n"
     ]
    },
    {
     "name": "stderr",
     "output_type": "stream",
     "text": [
      "\n",
      "Processing mushroom.fa-tst.v1.jsonl:  36%|███▌      | 36/100 [01:57<03:13,  3.03s/entry]\u001B[A\n",
      "Processing mushroom.fa-tst.v1.jsonl:  37%|███▋      | 37/100 [02:01<03:20,  3.19s/entry]\u001B[A\n",
      "Processing mushroom.fa-tst.v1.jsonl:  38%|███▊      | 38/100 [02:05<03:43,  3.60s/entry]\u001B[A\n",
      "Processing mushroom.fa-tst.v1.jsonl:  39%|███▉      | 39/100 [02:08<03:14,  3.19s/entry]\u001B[A\n",
      "Processing mushroom.fa-tst.v1.jsonl:  40%|████      | 40/100 [02:11<03:12,  3.21s/entry]\u001B[A\n",
      "Processing mushroom.fa-tst.v1.jsonl:  41%|████      | 41/100 [02:15<03:20,  3.41s/entry]\u001B[A\n",
      "Processing mushroom.fa-tst.v1.jsonl:  42%|████▏     | 42/100 [02:22<04:23,  4.55s/entry]\u001B[A\n",
      "Processing mushroom.fa-tst.v1.jsonl:  43%|████▎     | 43/100 [02:24<03:41,  3.89s/entry]\u001B[A\n",
      "Processing mushroom.fa-tst.v1.jsonl:  44%|████▍     | 44/100 [02:27<03:10,  3.39s/entry]\u001B[A\n",
      "Processing mushroom.fa-tst.v1.jsonl:  45%|████▌     | 45/100 [02:29<02:48,  3.06s/entry]\u001B[A"
     ]
    },
    {
     "name": "stdout",
     "output_type": "stream",
     "text": [
      "No valid JSON found in content: []\n",
      "\n",
      "Error processing entry tst-fa-45: list index out of range\n"
     ]
    },
    {
     "name": "stderr",
     "output_type": "stream",
     "text": [
      "\n",
      "Processing mushroom.fa-tst.v1.jsonl:  46%|████▌     | 46/100 [02:32<02:47,  3.10s/entry]\u001B[A\n",
      "Processing mushroom.fa-tst.v1.jsonl:  47%|████▋     | 47/100 [02:34<02:33,  2.90s/entry]\u001B[A\n",
      "Processing mushroom.fa-tst.v1.jsonl:  48%|████▊     | 48/100 [02:39<02:53,  3.34s/entry]\u001B[A\n",
      "Processing mushroom.fa-tst.v1.jsonl:  49%|████▉     | 49/100 [02:41<02:40,  3.15s/entry]\u001B[A\n",
      "Processing mushroom.fa-tst.v1.jsonl:  50%|█████     | 50/100 [02:46<02:55,  3.51s/entry]\u001B[A\n",
      "Processing mushroom.fa-tst.v1.jsonl:  51%|█████     | 51/100 [02:49<02:48,  3.44s/entry]\u001B[A\n",
      "Processing mushroom.fa-tst.v1.jsonl:  52%|█████▏    | 52/100 [02:52<02:38,  3.30s/entry]\u001B[A\n",
      "Processing mushroom.fa-tst.v1.jsonl:  53%|█████▎    | 53/100 [02:55<02:23,  3.05s/entry]\u001B[A\n",
      "Processing mushroom.fa-tst.v1.jsonl:  54%|█████▍    | 54/100 [03:00<02:47,  3.63s/entry]\u001B[A\n",
      "Processing mushroom.fa-tst.v1.jsonl:  55%|█████▌    | 55/100 [03:02<02:26,  3.26s/entry]\u001B[A\n",
      "Processing mushroom.fa-tst.v1.jsonl:  56%|█████▌    | 56/100 [03:04<02:11,  2.99s/entry]\u001B[A\n",
      "Processing mushroom.fa-tst.v1.jsonl:  57%|█████▋    | 57/100 [03:07<02:06,  2.95s/entry]\u001B[A\n",
      "Processing mushroom.fa-tst.v1.jsonl:  58%|█████▊    | 58/100 [03:09<01:47,  2.56s/entry]\u001B[A"
     ]
    },
    {
     "name": "stdout",
     "output_type": "stream",
     "text": [
      "No valid JSON found in content: []\n",
      "Error processing entry tst-fa-58: list index out of range\n"
     ]
    },
    {
     "name": "stderr",
     "output_type": "stream",
     "text": [
      "\n",
      "Processing mushroom.fa-tst.v1.jsonl:  59%|█████▉    | 59/100 [03:11<01:44,  2.56s/entry]\u001B[A\n",
      "Processing mushroom.fa-tst.v1.jsonl:  60%|██████    | 60/100 [03:14<01:43,  2.59s/entry]\u001B[A\n",
      "Processing mushroom.fa-tst.v1.jsonl:  61%|██████    | 61/100 [03:16<01:36,  2.48s/entry]\u001B[A\n",
      "Processing mushroom.fa-tst.v1.jsonl:  62%|██████▏   | 62/100 [03:21<01:54,  3.02s/entry]\u001B[A\n",
      "Processing mushroom.fa-tst.v1.jsonl:  63%|██████▎   | 63/100 [03:23<01:44,  2.83s/entry]\u001B[A\n",
      "Processing mushroom.fa-tst.v1.jsonl:  64%|██████▍   | 64/100 [03:26<01:41,  2.83s/entry]\u001B[A"
     ]
    },
    {
     "name": "stdout",
     "output_type": "stream",
     "text": [
      "No valid JSON found in content: []\n",
      "\n",
      "Error processing entry tst-fa-64: list index out of range\n"
     ]
    },
    {
     "name": "stderr",
     "output_type": "stream",
     "text": [
      "\n",
      "Processing mushroom.fa-tst.v1.jsonl:  65%|██████▌   | 65/100 [03:29<01:38,  2.82s/entry]\u001B[A"
     ]
    },
    {
     "name": "stdout",
     "output_type": "stream",
     "text": [
      "No valid JSON found in content: []\n",
      "\n",
      "Error processing entry tst-fa-65: list index out of range\n"
     ]
    },
    {
     "name": "stderr",
     "output_type": "stream",
     "text": [
      "\n",
      "Processing mushroom.fa-tst.v1.jsonl:  66%|██████▌   | 66/100 [03:31<01:30,  2.65s/entry]\u001B[A\n",
      "Processing mushroom.fa-tst.v1.jsonl:  67%|██████▋   | 67/100 [03:33<01:22,  2.49s/entry]\u001B[A\n",
      "Processing mushroom.fa-tst.v1.jsonl:  68%|██████▊   | 68/100 [03:37<01:37,  3.04s/entry]\u001B[A\n",
      "Processing mushroom.fa-tst.v1.jsonl:  69%|██████▉   | 69/100 [03:41<01:36,  3.11s/entry]\u001B[A\n",
      "Processing mushroom.fa-tst.v1.jsonl:  70%|███████   | 70/100 [03:43<01:23,  2.79s/entry]\u001B[A\n",
      "Processing mushroom.fa-tst.v1.jsonl:  71%|███████   | 71/100 [03:45<01:20,  2.79s/entry]\u001B[A\n",
      "Processing mushroom.fa-tst.v1.jsonl:  72%|███████▏  | 72/100 [03:48<01:14,  2.65s/entry]\u001B[A\n",
      "Processing mushroom.fa-tst.v1.jsonl:  73%|███████▎  | 73/100 [03:50<01:12,  2.69s/entry]\u001B[A\n",
      "Processing mushroom.fa-tst.v1.jsonl:  74%|███████▍  | 74/100 [03:56<01:35,  3.67s/entry]\u001B[A\n",
      "Processing mushroom.fa-tst.v1.jsonl:  75%|███████▌  | 75/100 [03:59<01:21,  3.28s/entry]\u001B[A\n",
      "Processing mushroom.fa-tst.v1.jsonl:  76%|███████▌  | 76/100 [04:03<01:24,  3.50s/entry]\u001B[A\n",
      "Processing mushroom.fa-tst.v1.jsonl:  77%|███████▋  | 77/100 [04:05<01:10,  3.07s/entry]\u001B[A\n",
      "Processing mushroom.fa-tst.v1.jsonl:  78%|███████▊  | 78/100 [04:08<01:07,  3.08s/entry]\u001B[A"
     ]
    },
    {
     "name": "stdout",
     "output_type": "stream",
     "text": [
      "No valid JSON found in content: []\n",
      "\n",
      "Error processing entry tst-fa-78: list index out of range\n"
     ]
    },
    {
     "name": "stderr",
     "output_type": "stream",
     "text": [
      "\n",
      "Processing mushroom.fa-tst.v1.jsonl:  79%|███████▉  | 79/100 [04:11<01:02,  2.97s/entry]\u001B[A"
     ]
    },
    {
     "name": "stdout",
     "output_type": "stream",
     "text": [
      "No valid JSON found in content: []\n",
      "\n",
      "Error processing entry tst-fa-79: list index out of range\n"
     ]
    },
    {
     "name": "stderr",
     "output_type": "stream",
     "text": [
      "\n",
      "Processing mushroom.fa-tst.v1.jsonl:  80%|████████  | 80/100 [04:14<01:02,  3.15s/entry]\u001B[A\n",
      "Processing mushroom.fa-tst.v1.jsonl:  81%|████████  | 81/100 [04:18<01:02,  3.30s/entry]\u001B[A\n",
      "Processing mushroom.fa-tst.v1.jsonl:  82%|████████▏ | 82/100 [04:21<00:56,  3.12s/entry]\u001B[A"
     ]
    },
    {
     "name": "stdout",
     "output_type": "stream",
     "text": [
      "No valid JSON found in content: []\n",
      "\n",
      "Error processing entry tst-fa-82: list index out of range\n"
     ]
    },
    {
     "name": "stderr",
     "output_type": "stream",
     "text": [
      "\n",
      "Processing mushroom.fa-tst.v1.jsonl:  83%|████████▎ | 83/100 [04:24<00:52,  3.08s/entry]\u001B[A\n",
      "Processing mushroom.fa-tst.v1.jsonl:  84%|████████▍ | 84/100 [04:26<00:45,  2.86s/entry]\u001B[A"
     ]
    },
    {
     "name": "stdout",
     "output_type": "stream",
     "text": [
      "No valid JSON found in content: []\n",
      "\n",
      "Error processing entry tst-fa-84: list index out of range\n"
     ]
    },
    {
     "name": "stderr",
     "output_type": "stream",
     "text": [
      "\n",
      "Processing mushroom.fa-tst.v1.jsonl:  85%|████████▌ | 85/100 [04:28<00:39,  2.65s/entry]\u001B[A\n",
      "Processing mushroom.fa-tst.v1.jsonl:  86%|████████▌ | 86/100 [04:30<00:34,  2.45s/entry]\u001B[A\n",
      "Processing mushroom.fa-tst.v1.jsonl:  87%|████████▋ | 87/100 [04:33<00:31,  2.46s/entry]\u001B[A\n",
      "Processing mushroom.fa-tst.v1.jsonl:  88%|████████▊ | 88/100 [04:34<00:27,  2.29s/entry]\u001B[A\n",
      "Processing mushroom.fa-tst.v1.jsonl:  89%|████████▉ | 89/100 [04:37<00:24,  2.25s/entry]\u001B[A\n",
      "Processing mushroom.fa-tst.v1.jsonl:  90%|█████████ | 90/100 [04:39<00:23,  2.31s/entry]\u001B[A\n",
      "Processing mushroom.fa-tst.v1.jsonl:  91%|█████████ | 91/100 [04:42<00:21,  2.41s/entry]\u001B[A"
     ]
    },
    {
     "name": "stdout",
     "output_type": "stream",
     "text": [
      "No valid JSON found in content: []\n",
      "\n",
      "Error processing entry tst-fa-91: list index out of range\n"
     ]
    },
    {
     "name": "stderr",
     "output_type": "stream",
     "text": [
      "\n",
      "Processing mushroom.fa-tst.v1.jsonl:  92%|█████████▏| 92/100 [04:44<00:18,  2.31s/entry]\u001B[A\n",
      "Processing mushroom.fa-tst.v1.jsonl:  93%|█████████▎| 93/100 [04:47<00:17,  2.47s/entry]\u001B[A\n",
      "Processing mushroom.fa-tst.v1.jsonl:  94%|█████████▍| 94/100 [04:49<00:14,  2.39s/entry]\u001B[A\n",
      "Processing mushroom.fa-tst.v1.jsonl:  95%|█████████▌| 95/100 [04:52<00:12,  2.52s/entry]\u001B[A\n",
      "Processing mushroom.fa-tst.v1.jsonl:  96%|█████████▌| 96/100 [04:55<00:11,  2.84s/entry]\u001B[A\n",
      "Processing mushroom.fa-tst.v1.jsonl:  97%|█████████▋| 97/100 [04:57<00:07,  2.45s/entry]\u001B[A"
     ]
    },
    {
     "name": "stdout",
     "output_type": "stream",
     "text": [
      "No valid JSON found in content: []\n",
      "\n",
      "Error processing entry tst-fa-97: list index out of range\n"
     ]
    },
    {
     "name": "stderr",
     "output_type": "stream",
     "text": [
      "\n",
      "Processing mushroom.fa-tst.v1.jsonl:  98%|█████████▊| 98/100 [05:00<00:05,  2.62s/entry]\u001B[A\n",
      "Processing mushroom.fa-tst.v1.jsonl:  99%|█████████▉| 99/100 [05:03<00:02,  2.80s/entry]\u001B[A\n",
      "Processing mushroom.fa-tst.v1.jsonl: 100%|██████████| 100/100 [05:07<00:00,  3.07s/entry]\u001B[A\n",
      "Processing Files:  36%|███▌      | 5/14 [44:04<1:10:56, 472.92s/file]                    \u001B[A"
     ]
    },
    {
     "name": "stdout",
     "output_type": "stream",
     "text": [
      "Processed and saved: data/test_detect_gpt4_m2/mushroom.fa-tst.v1.jsonl\n"
     ]
    },
    {
     "name": "stderr",
     "output_type": "stream",
     "text": [
      "\n",
      "Processing mushroom.de-tst.v1.jsonl:   0%|          | 0/150 [00:00<?, ?entry/s]\u001B[A\n",
      "Processing mushroom.de-tst.v1.jsonl:   1%|          | 1/150 [00:04<11:37,  4.68s/entry]\u001B[A\n",
      "Processing mushroom.de-tst.v1.jsonl:   1%|▏         | 2/150 [00:07<08:54,  3.61s/entry]\u001B[A\n",
      "Processing mushroom.de-tst.v1.jsonl:   2%|▏         | 3/150 [00:10<07:49,  3.19s/entry]\u001B[A\n",
      "Processing mushroom.de-tst.v1.jsonl:   3%|▎         | 4/150 [00:13<08:06,  3.33s/entry]\u001B[A\n",
      "Processing mushroom.de-tst.v1.jsonl:   3%|▎         | 5/150 [00:16<07:32,  3.12s/entry]\u001B[A\n",
      "Processing mushroom.de-tst.v1.jsonl:   4%|▍         | 6/150 [00:19<07:24,  3.09s/entry]\u001B[A\n",
      "Processing mushroom.de-tst.v1.jsonl:   5%|▍         | 7/150 [00:22<07:10,  3.01s/entry]\u001B[A\n",
      "Processing mushroom.de-tst.v1.jsonl:   5%|▌         | 8/150 [00:28<09:26,  3.99s/entry]\u001B[A\n",
      "Processing mushroom.de-tst.v1.jsonl:   6%|▌         | 9/150 [00:37<13:08,  5.59s/entry]\u001B[A\n",
      "Processing mushroom.de-tst.v1.jsonl:   7%|▋         | 10/150 [00:41<11:46,  5.05s/entry]\u001B[A\n",
      "Processing mushroom.de-tst.v1.jsonl:   7%|▋         | 11/150 [00:45<10:43,  4.63s/entry]\u001B[A\n",
      "Processing mushroom.de-tst.v1.jsonl:   8%|▊         | 12/150 [00:48<09:54,  4.31s/entry]\u001B[A\n",
      "Processing mushroom.de-tst.v1.jsonl:   9%|▊         | 13/150 [00:51<08:55,  3.91s/entry]\u001B[A\n",
      "Processing mushroom.de-tst.v1.jsonl:   9%|▉         | 14/150 [00:55<08:39,  3.82s/entry]\u001B[A\n",
      "Processing mushroom.de-tst.v1.jsonl:  10%|█         | 15/150 [00:57<07:30,  3.34s/entry]\u001B[A\n",
      "Processing mushroom.de-tst.v1.jsonl:  11%|█         | 16/150 [01:00<07:24,  3.32s/entry]\u001B[A\n",
      "Processing mushroom.de-tst.v1.jsonl:  11%|█▏        | 17/150 [01:03<06:45,  3.05s/entry]\u001B[A\n",
      "Processing mushroom.de-tst.v1.jsonl:  12%|█▏        | 18/150 [01:05<06:10,  2.81s/entry]\u001B[A"
     ]
    },
    {
     "name": "stdout",
     "output_type": "stream",
     "text": [
      "Request failed: ('Connection aborted.', RemoteDisconnected('Remote end closed connection without response'))\n",
      "Request failed: ('Connection aborted.', RemoteDisconnected('Remote end closed connection without response'))\n"
     ]
    },
    {
     "name": "stderr",
     "output_type": "stream",
     "text": [
      "\n",
      "Processing mushroom.de-tst.v1.jsonl:  13%|█▎        | 19/150 [01:52<35:22, 16.20s/entry]\u001B[A"
     ]
    },
    {
     "name": "stdout",
     "output_type": "stream",
     "text": [
      "Request failed: ('Connection aborted.', RemoteDisconnected('Remote end closed connection without response'))\n",
      "Retry limit exceeded, returning empty result\n"
     ]
    },
    {
     "name": "stderr",
     "output_type": "stream",
     "text": [
      "\n",
      "Processing mushroom.de-tst.v1.jsonl:  13%|█▎        | 20/150 [01:54<25:56, 11.97s/entry]\u001B[A\n",
      "Processing mushroom.de-tst.v1.jsonl:  14%|█▍        | 21/150 [01:59<21:05,  9.81s/entry]\u001B[A\n",
      "Processing mushroom.de-tst.v1.jsonl:  15%|█▍        | 22/150 [02:03<17:05,  8.01s/entry]\u001B[A\n",
      "Processing mushroom.de-tst.v1.jsonl:  15%|█▌        | 23/150 [02:06<13:33,  6.40s/entry]\u001B[A\n",
      "Processing mushroom.de-tst.v1.jsonl:  16%|█▌        | 24/150 [02:10<12:17,  5.85s/entry]\u001B[A\n",
      "Processing mushroom.de-tst.v1.jsonl:  17%|█▋        | 25/150 [02:14<10:56,  5.26s/entry]\u001B[A\n",
      "Processing mushroom.de-tst.v1.jsonl:  17%|█▋        | 26/150 [02:17<09:13,  4.46s/entry]\u001B[A\n",
      "Processing mushroom.de-tst.v1.jsonl:  18%|█▊        | 27/150 [02:20<08:20,  4.07s/entry]\u001B[A\n",
      "Processing mushroom.de-tst.v1.jsonl:  19%|█▊        | 28/150 [02:23<07:41,  3.78s/entry]\u001B[A\n",
      "Processing mushroom.de-tst.v1.jsonl:  19%|█▉        | 29/150 [02:25<06:48,  3.38s/entry]\u001B[A\n",
      "Processing mushroom.de-tst.v1.jsonl:  20%|██        | 30/150 [02:29<06:55,  3.46s/entry]\u001B[A\n",
      "Processing mushroom.de-tst.v1.jsonl:  21%|██        | 31/150 [02:32<06:39,  3.35s/entry]\u001B[A\n",
      "Processing mushroom.de-tst.v1.jsonl:  21%|██▏       | 32/150 [02:34<05:29,  2.79s/entry]\u001B[A"
     ]
    },
    {
     "name": "stdout",
     "output_type": "stream",
     "text": [
      "No valid JSON found in content: []\n",
      "\n",
      "Error processing entry tst-de-32: list index out of range\n"
     ]
    },
    {
     "name": "stderr",
     "output_type": "stream",
     "text": [
      "\n",
      "Processing mushroom.de-tst.v1.jsonl:  22%|██▏       | 33/150 [02:37<06:01,  3.09s/entry]\u001B[A\n",
      "Processing mushroom.de-tst.v1.jsonl:  23%|██▎       | 34/150 [02:42<07:00,  3.63s/entry]\u001B[A\n",
      "Processing mushroom.de-tst.v1.jsonl:  23%|██▎       | 35/150 [02:47<07:30,  3.92s/entry]\u001B[A\n",
      "Processing mushroom.de-tst.v1.jsonl:  24%|██▍       | 36/150 [02:49<06:08,  3.23s/entry]\u001B[A"
     ]
    },
    {
     "name": "stdout",
     "output_type": "stream",
     "text": [
      "No valid JSON found in content: []\n",
      "Error processing entry tst-de-36: list index out of range\n"
     ]
    },
    {
     "name": "stderr",
     "output_type": "stream",
     "text": [
      "\n",
      "Processing mushroom.de-tst.v1.jsonl:  25%|██▍       | 37/150 [02:52<05:55,  3.14s/entry]\u001B[A\n",
      "Processing mushroom.de-tst.v1.jsonl:  25%|██▌       | 38/150 [02:54<05:34,  2.98s/entry]\u001B[A\n",
      "Processing mushroom.de-tst.v1.jsonl:  26%|██▌       | 39/150 [02:57<05:22,  2.91s/entry]\u001B[A\n",
      "Processing mushroom.de-tst.v1.jsonl:  27%|██▋       | 40/150 [02:59<04:51,  2.65s/entry]\u001B[A\n",
      "Processing mushroom.de-tst.v1.jsonl:  27%|██▋       | 41/150 [03:04<06:01,  3.32s/entry]\u001B[A\n",
      "Processing mushroom.de-tst.v1.jsonl:  28%|██▊       | 42/150 [03:06<05:21,  2.98s/entry]\u001B[A\n",
      "Processing mushroom.de-tst.v1.jsonl:  29%|██▊       | 43/150 [03:13<07:22,  4.14s/entry]\u001B[A\n",
      "Processing mushroom.de-tst.v1.jsonl:  29%|██▉       | 44/150 [03:15<06:13,  3.53s/entry]\u001B[A\n",
      "Processing mushroom.de-tst.v1.jsonl:  30%|███       | 45/150 [03:18<05:52,  3.36s/entry]\u001B[A\n",
      "Processing mushroom.de-tst.v1.jsonl:  31%|███       | 46/150 [03:26<08:30,  4.91s/entry]\u001B[A\n",
      "Processing mushroom.de-tst.v1.jsonl:  31%|███▏      | 47/150 [03:31<08:22,  4.88s/entry]\u001B[A\n",
      "Processing mushroom.de-tst.v1.jsonl:  32%|███▏      | 48/150 [03:35<07:43,  4.55s/entry]\u001B[A\n",
      "Processing mushroom.de-tst.v1.jsonl:  33%|███▎      | 49/150 [03:41<08:27,  5.02s/entry]\u001B[A\n",
      "Processing mushroom.de-tst.v1.jsonl:  33%|███▎      | 50/150 [03:51<10:40,  6.41s/entry]\u001B[A\n",
      "Processing mushroom.de-tst.v1.jsonl:  34%|███▍      | 51/150 [03:56<10:12,  6.19s/entry]\u001B[A\n",
      "Processing mushroom.de-tst.v1.jsonl:  35%|███▍      | 52/150 [04:03<10:24,  6.37s/entry]\u001B[A\n",
      "Processing mushroom.de-tst.v1.jsonl:  35%|███▌      | 53/150 [04:10<10:29,  6.49s/entry]\u001B[A"
     ]
    },
    {
     "name": "stdout",
     "output_type": "stream",
     "text": [
      "No valid JSON found in content: []\n",
      "\n",
      "Error processing entry tst-de-53: list index out of range\n"
     ]
    },
    {
     "name": "stderr",
     "output_type": "stream",
     "text": [
      "\n",
      "Processing mushroom.de-tst.v1.jsonl:  36%|███▌      | 54/150 [04:18<10:54,  6.82s/entry]\u001B[A\n",
      "Processing mushroom.de-tst.v1.jsonl:  37%|███▋      | 55/150 [04:25<11:08,  7.03s/entry]\u001B[A\n",
      "Processing mushroom.de-tst.v1.jsonl:  37%|███▋      | 56/150 [04:29<09:43,  6.21s/entry]\u001B[A\n",
      "Processing mushroom.de-tst.v1.jsonl:  38%|███▊      | 57/150 [04:34<08:39,  5.59s/entry]\u001B[A\n",
      "Processing mushroom.de-tst.v1.jsonl:  39%|███▊      | 58/150 [04:36<07:11,  4.69s/entry]\u001B[A\n",
      "Processing mushroom.de-tst.v1.jsonl:  39%|███▉      | 59/150 [04:43<08:13,  5.42s/entry]\u001B[A\n",
      "Processing mushroom.de-tst.v1.jsonl:  40%|████      | 60/150 [04:45<06:40,  4.45s/entry]\u001B[A\n",
      "Processing mushroom.de-tst.v1.jsonl:  41%|████      | 61/150 [04:48<05:52,  3.97s/entry]\u001B[A\n",
      "Processing mushroom.de-tst.v1.jsonl:  41%|████▏     | 62/150 [04:50<04:59,  3.41s/entry]\u001B[A\n",
      "Processing mushroom.de-tst.v1.jsonl:  42%|████▏     | 63/150 [04:54<05:14,  3.61s/entry]\u001B[A\n",
      "Processing mushroom.de-tst.v1.jsonl:  43%|████▎     | 64/150 [04:58<05:11,  3.62s/entry]\u001B[A"
     ]
    },
    {
     "name": "stdout",
     "output_type": "stream",
     "text": [
      "Request failed: ('Connection aborted.', RemoteDisconnected('Remote end closed connection without response'))\n"
     ]
    },
    {
     "name": "stderr",
     "output_type": "stream",
     "text": [
      "\n",
      "Processing mushroom.de-tst.v1.jsonl:  43%|████▎     | 65/150 [05:24<14:37, 10.32s/entry]\u001B[A\n",
      "Processing mushroom.de-tst.v1.jsonl:  44%|████▍     | 66/150 [05:26<10:45,  7.68s/entry]\u001B[A"
     ]
    },
    {
     "name": "stdout",
     "output_type": "stream",
     "text": [
      "No valid JSON found in content: []\n",
      "Error processing entry tst-de-66: list index out of range\n"
     ]
    },
    {
     "name": "stderr",
     "output_type": "stream",
     "text": [
      "\n",
      "Processing mushroom.de-tst.v1.jsonl:  45%|████▍     | 67/150 [05:28<08:16,  5.99s/entry]\u001B[A\n",
      "Processing mushroom.de-tst.v1.jsonl:  45%|████▌     | 68/150 [05:30<06:31,  4.77s/entry]\u001B[A"
     ]
    },
    {
     "name": "stdout",
     "output_type": "stream",
     "text": [
      "No valid JSON found in content: []\n",
      "Error processing entry tst-de-68: list index out of range\n"
     ]
    },
    {
     "name": "stderr",
     "output_type": "stream",
     "text": [
      "\n",
      "Processing mushroom.de-tst.v1.jsonl:  46%|████▌     | 69/150 [05:37<07:20,  5.44s/entry]\u001B[A\n",
      "Processing mushroom.de-tst.v1.jsonl:  47%|████▋     | 70/150 [05:39<06:12,  4.66s/entry]\u001B[A\n",
      "Processing mushroom.de-tst.v1.jsonl:  47%|████▋     | 71/150 [05:43<05:49,  4.42s/entry]\u001B[A\n",
      "Processing mushroom.de-tst.v1.jsonl:  48%|████▊     | 72/150 [05:49<06:10,  4.75s/entry]\u001B[A\n",
      "Processing mushroom.de-tst.v1.jsonl:  49%|████▊     | 73/150 [05:55<06:35,  5.14s/entry]\u001B[A\n",
      "Processing mushroom.de-tst.v1.jsonl:  49%|████▉     | 74/150 [05:59<06:08,  4.85s/entry]\u001B[A\n",
      "Processing mushroom.de-tst.v1.jsonl:  50%|█████     | 75/150 [06:02<05:27,  4.36s/entry]\u001B[A\n",
      "Processing mushroom.de-tst.v1.jsonl:  51%|█████     | 76/150 [06:05<04:52,  3.95s/entry]\u001B[A\n",
      "Processing mushroom.de-tst.v1.jsonl:  51%|█████▏    | 77/150 [06:09<04:46,  3.93s/entry]\u001B[A\n",
      "Processing mushroom.de-tst.v1.jsonl:  52%|█████▏    | 78/150 [06:14<04:57,  4.13s/entry]\u001B[A\n",
      "Processing mushroom.de-tst.v1.jsonl:  53%|█████▎    | 79/150 [06:17<04:41,  3.96s/entry]\u001B[A\n",
      "Processing mushroom.de-tst.v1.jsonl:  53%|█████▎    | 80/150 [06:20<04:16,  3.67s/entry]\u001B[A\n",
      "Processing mushroom.de-tst.v1.jsonl:  54%|█████▍    | 81/150 [06:23<03:51,  3.35s/entry]\u001B[A\n",
      "Processing mushroom.de-tst.v1.jsonl:  55%|█████▍    | 82/150 [06:26<03:40,  3.25s/entry]\u001B[A\n",
      "Processing mushroom.de-tst.v1.jsonl:  55%|█████▌    | 83/150 [06:28<03:18,  2.97s/entry]\u001B[A\n",
      "Processing mushroom.de-tst.v1.jsonl:  56%|█████▌    | 84/150 [06:31<03:05,  2.81s/entry]\u001B[A\n",
      "Processing mushroom.de-tst.v1.jsonl:  57%|█████▋    | 85/150 [06:33<02:53,  2.66s/entry]\u001B[A\n",
      "Processing mushroom.de-tst.v1.jsonl:  57%|█████▋    | 86/150 [06:40<04:07,  3.87s/entry]\u001B[A\n",
      "Processing mushroom.de-tst.v1.jsonl:  58%|█████▊    | 87/150 [06:42<03:28,  3.32s/entry]\u001B[A\n",
      "Processing mushroom.de-tst.v1.jsonl:  59%|█████▊    | 88/150 [06:44<03:06,  3.00s/entry]\u001B[A"
     ]
    },
    {
     "name": "stdout",
     "output_type": "stream",
     "text": [
      "No valid JSON found in content: []\n",
      "\n",
      "Error processing entry tst-de-88: list index out of range\n"
     ]
    },
    {
     "name": "stderr",
     "output_type": "stream",
     "text": [
      "\n",
      "Processing mushroom.de-tst.v1.jsonl:  59%|█████▉    | 89/150 [06:46<02:52,  2.82s/entry]\u001B[A\n",
      "Processing mushroom.de-tst.v1.jsonl:  60%|██████    | 90/150 [06:50<02:56,  2.95s/entry]\u001B[A\n",
      "Processing mushroom.de-tst.v1.jsonl:  61%|██████    | 91/150 [06:52<02:41,  2.74s/entry]\u001B[A"
     ]
    },
    {
     "name": "stdout",
     "output_type": "stream",
     "text": [
      "No valid JSON found in content: []\n",
      "\n",
      "Error processing entry tst-de-91: list index out of range\n"
     ]
    },
    {
     "name": "stderr",
     "output_type": "stream",
     "text": [
      "\n",
      "Processing mushroom.de-tst.v1.jsonl:  61%|██████▏   | 92/150 [06:54<02:33,  2.65s/entry]\u001B[A\n",
      "Processing mushroom.de-tst.v1.jsonl:  62%|██████▏   | 93/150 [06:59<03:02,  3.21s/entry]\u001B[A\n",
      "Processing mushroom.de-tst.v1.jsonl:  63%|██████▎   | 94/150 [07:01<02:41,  2.88s/entry]\u001B[A\n",
      "Processing mushroom.de-tst.v1.jsonl:  63%|██████▎   | 95/150 [07:04<02:36,  2.84s/entry]\u001B[A\n",
      "Processing mushroom.de-tst.v1.jsonl:  64%|██████▍   | 96/150 [07:08<02:51,  3.18s/entry]\u001B[A\n",
      "Processing mushroom.de-tst.v1.jsonl:  65%|██████▍   | 97/150 [07:10<02:43,  3.08s/entry]\u001B[A\n",
      "Processing mushroom.de-tst.v1.jsonl:  65%|██████▌   | 98/150 [07:14<02:40,  3.08s/entry]\u001B[A\n",
      "Processing mushroom.de-tst.v1.jsonl:  66%|██████▌   | 99/150 [07:15<02:15,  2.66s/entry]\u001B[A"
     ]
    },
    {
     "name": "stdout",
     "output_type": "stream",
     "text": [
      "No valid JSON found in content: []\n",
      "Error processing entry tst-de-99: list index out of range\n"
     ]
    },
    {
     "name": "stderr",
     "output_type": "stream",
     "text": [
      "\n",
      "Processing mushroom.de-tst.v1.jsonl:  67%|██████▋   | 100/150 [07:19<02:35,  3.12s/entry]\u001B[A\n",
      "Processing mushroom.de-tst.v1.jsonl:  67%|██████▋   | 101/150 [07:23<02:44,  3.35s/entry]\u001B[A\n",
      "Processing mushroom.de-tst.v1.jsonl:  68%|██████▊   | 102/150 [07:27<02:52,  3.59s/entry]\u001B[A\n",
      "Processing mushroom.de-tst.v1.jsonl:  69%|██████▊   | 103/150 [07:29<02:26,  3.12s/entry]\u001B[A\n",
      "Processing mushroom.de-tst.v1.jsonl:  69%|██████▉   | 104/150 [07:34<02:42,  3.53s/entry]\u001B[A\n",
      "Processing mushroom.de-tst.v1.jsonl:  70%|███████   | 105/150 [07:39<02:55,  3.90s/entry]\u001B[A\n",
      "Processing mushroom.de-tst.v1.jsonl:  71%|███████   | 106/150 [07:51<04:37,  6.30s/entry]\u001B[A\n",
      "Processing mushroom.de-tst.v1.jsonl:  71%|███████▏  | 107/150 [07:55<04:03,  5.67s/entry]\u001B[A\n",
      "Processing mushroom.de-tst.v1.jsonl:  72%|███████▏  | 108/150 [07:58<03:32,  5.07s/entry]\u001B[A\n",
      "Processing mushroom.de-tst.v1.jsonl:  73%|███████▎  | 109/150 [08:02<03:07,  4.58s/entry]\u001B[A\n",
      "Processing mushroom.de-tst.v1.jsonl:  73%|███████▎  | 110/150 [08:04<02:32,  3.82s/entry]\u001B[A\n",
      "Processing mushroom.de-tst.v1.jsonl:  74%|███████▍  | 111/150 [08:07<02:22,  3.65s/entry]\u001B[A\n",
      "Processing mushroom.de-tst.v1.jsonl:  75%|███████▍  | 112/150 [08:13<02:43,  4.30s/entry]\u001B[A\n",
      "Processing mushroom.de-tst.v1.jsonl:  75%|███████▌  | 113/150 [08:15<02:13,  3.61s/entry]\u001B[A"
     ]
    },
    {
     "name": "stdout",
     "output_type": "stream",
     "text": [
      "No valid JSON found in content: []\n",
      "Error processing entry tst-de-113: list index out of range\n"
     ]
    },
    {
     "name": "stderr",
     "output_type": "stream",
     "text": [
      "\n",
      "Processing mushroom.de-tst.v1.jsonl:  76%|███████▌  | 114/150 [08:17<01:57,  3.25s/entry]\u001B[A\n",
      "Processing mushroom.de-tst.v1.jsonl:  77%|███████▋  | 115/150 [08:21<01:52,  3.23s/entry]\u001B[A\n",
      "Processing mushroom.de-tst.v1.jsonl:  77%|███████▋  | 116/150 [08:26<02:07,  3.76s/entry]\u001B[A\n",
      "Processing mushroom.de-tst.v1.jsonl:  78%|███████▊  | 117/150 [08:29<02:00,  3.64s/entry]\u001B[A\n",
      "Processing mushroom.de-tst.v1.jsonl:  79%|███████▊  | 118/150 [08:32<01:50,  3.46s/entry]\u001B[A\n",
      "Processing mushroom.de-tst.v1.jsonl:  79%|███████▉  | 119/150 [08:36<01:48,  3.50s/entry]\u001B[A\n",
      "Processing mushroom.de-tst.v1.jsonl:  80%|████████  | 120/150 [08:39<01:45,  3.52s/entry]\u001B[A"
     ]
    },
    {
     "name": "stdout",
     "output_type": "stream",
     "text": [
      "No valid JSON found in content: []\n",
      "Error processing entry tst-de-120: list index out of range\n"
     ]
    },
    {
     "name": "stderr",
     "output_type": "stream",
     "text": [
      "\n",
      "Processing mushroom.de-tst.v1.jsonl:  81%|████████  | 121/150 [08:41<01:29,  3.10s/entry]\u001B[A\n",
      "Processing mushroom.de-tst.v1.jsonl:  81%|████████▏ | 122/150 [08:44<01:20,  2.86s/entry]\u001B[A\n",
      "Processing mushroom.de-tst.v1.jsonl:  82%|████████▏ | 123/150 [08:48<01:28,  3.27s/entry]\u001B[A\n",
      "Processing mushroom.de-tst.v1.jsonl:  83%|████████▎ | 124/150 [08:50<01:17,  3.00s/entry]\u001B[A\n",
      "Processing mushroom.de-tst.v1.jsonl:  83%|████████▎ | 125/150 [08:52<01:07,  2.71s/entry]\u001B[A\n",
      "Processing mushroom.de-tst.v1.jsonl:  84%|████████▍ | 126/150 [08:55<01:04,  2.70s/entry]\u001B[A\n",
      "Processing mushroom.de-tst.v1.jsonl:  85%|████████▍ | 127/150 [08:58<01:02,  2.73s/entry]\u001B[A\n",
      "Processing mushroom.de-tst.v1.jsonl:  85%|████████▌ | 128/150 [09:00<00:56,  2.55s/entry]\u001B[A\n",
      "Processing mushroom.de-tst.v1.jsonl:  86%|████████▌ | 129/150 [09:04<01:03,  3.00s/entry]\u001B[A\n",
      "Processing mushroom.de-tst.v1.jsonl:  87%|████████▋ | 130/150 [09:07<01:00,  3.03s/entry]\u001B[A\n",
      "Processing mushroom.de-tst.v1.jsonl:  87%|████████▋ | 131/150 [09:10<00:55,  2.93s/entry]\u001B[A\n",
      "Processing mushroom.de-tst.v1.jsonl:  88%|████████▊ | 132/150 [09:13<00:54,  3.00s/entry]\u001B[A\n",
      "Processing mushroom.de-tst.v1.jsonl:  89%|████████▊ | 133/150 [09:16<00:49,  2.90s/entry]\u001B[A\n",
      "Processing mushroom.de-tst.v1.jsonl:  89%|████████▉ | 134/150 [09:19<00:49,  3.07s/entry]\u001B[A\n",
      "Processing mushroom.de-tst.v1.jsonl:  90%|█████████ | 135/150 [09:23<00:50,  3.35s/entry]\u001B[A\n",
      "Processing mushroom.de-tst.v1.jsonl:  91%|█████████ | 136/150 [09:26<00:46,  3.34s/entry]\u001B[A\n",
      "Processing mushroom.de-tst.v1.jsonl:  91%|█████████▏| 137/150 [09:30<00:44,  3.42s/entry]\u001B[A\n",
      "Processing mushroom.de-tst.v1.jsonl:  92%|█████████▏| 138/150 [09:31<00:34,  2.84s/entry]\u001B[A"
     ]
    },
    {
     "name": "stdout",
     "output_type": "stream",
     "text": [
      "No valid JSON found in content: []\n",
      "Error processing entry tst-de-138: list index out of range\n"
     ]
    },
    {
     "name": "stderr",
     "output_type": "stream",
     "text": [
      "\n",
      "Processing mushroom.de-tst.v1.jsonl:  93%|█████████▎| 139/150 [09:35<00:33,  3.01s/entry]\u001B[A\n",
      "Processing mushroom.de-tst.v1.jsonl:  93%|█████████▎| 140/150 [09:39<00:33,  3.34s/entry]\u001B[A\n",
      "Processing mushroom.de-tst.v1.jsonl:  94%|█████████▍| 141/150 [09:43<00:32,  3.58s/entry]\u001B[A\n",
      "Processing mushroom.de-tst.v1.jsonl:  95%|█████████▍| 142/150 [09:46<00:26,  3.30s/entry]\u001B[A\n",
      "Processing mushroom.de-tst.v1.jsonl:  95%|█████████▌| 143/150 [09:51<00:27,  3.96s/entry]\u001B[A\n",
      "Processing mushroom.de-tst.v1.jsonl:  96%|█████████▌| 144/150 [09:56<00:24,  4.11s/entry]\u001B[A\n",
      "Processing mushroom.de-tst.v1.jsonl:  97%|█████████▋| 145/150 [10:00<00:20,  4.06s/entry]\u001B[A\n",
      "Processing mushroom.de-tst.v1.jsonl:  97%|█████████▋| 146/150 [10:03<00:14,  3.74s/entry]\u001B[A\n",
      "Processing mushroom.de-tst.v1.jsonl:  98%|█████████▊| 147/150 [10:05<00:10,  3.36s/entry]\u001B[A\n",
      "Processing mushroom.de-tst.v1.jsonl:  99%|█████████▊| 148/150 [10:08<00:06,  3.32s/entry]\u001B[A\n",
      "Processing mushroom.de-tst.v1.jsonl:  99%|█████████▉| 149/150 [10:17<00:05,  5.00s/entry]\u001B[A\n",
      "Processing mushroom.de-tst.v1.jsonl: 100%|██████████| 150/150 [10:26<00:00,  6.04s/entry]\u001B[A\n",
      "Processing Files:  43%|████▎     | 6/14 [54:31<1:10:00, 525.04s/file]                    \u001B[A"
     ]
    },
    {
     "name": "stdout",
     "output_type": "stream",
     "text": [
      "Processed and saved: data/test_detect_gpt4_m2/mushroom.de-tst.v1.jsonl\n"
     ]
    },
    {
     "name": "stderr",
     "output_type": "stream",
     "text": [
      "\n",
      "Processing mushroom.zh-tst.v1.jsonl:   0%|          | 0/150 [00:00<?, ?entry/s]\u001B[A\n",
      "Processing mushroom.zh-tst.v1.jsonl:   1%|          | 1/150 [00:03<09:14,  3.72s/entry]\u001B[A\n",
      "Processing mushroom.zh-tst.v1.jsonl:   1%|▏         | 2/150 [00:12<16:17,  6.61s/entry]\u001B[A\n",
      "Processing mushroom.zh-tst.v1.jsonl:   2%|▏         | 3/150 [00:15<12:26,  5.08s/entry]\u001B[A\n",
      "Processing mushroom.zh-tst.v1.jsonl:   3%|▎         | 4/150 [00:30<21:59,  9.04s/entry]\u001B[A\n",
      "Processing mushroom.zh-tst.v1.jsonl:   3%|▎         | 5/150 [00:37<20:12,  8.36s/entry]\u001B[A\n",
      "Processing mushroom.zh-tst.v1.jsonl:   4%|▍         | 6/150 [00:41<16:15,  6.77s/entry]\u001B[A\n",
      "Processing mushroom.zh-tst.v1.jsonl:   5%|▍         | 7/150 [00:47<15:33,  6.53s/entry]\u001B[A"
     ]
    },
    {
     "name": "stdout",
     "output_type": "stream",
     "text": [
      "Request failed: ('Connection aborted.', RemoteDisconnected('Remote end closed connection without response'))\n",
      "Request failed: ('Connection aborted.', RemoteDisconnected('Remote end closed connection without response'))\n"
     ]
    },
    {
     "name": "stderr",
     "output_type": "stream",
     "text": [
      "\n",
      "Processing mushroom.zh-tst.v1.jsonl:   5%|▌         | 8/150 [01:34<46:13, 19.53s/entry]\u001B[A"
     ]
    },
    {
     "name": "stdout",
     "output_type": "stream",
     "text": [
      "Request failed: ('Connection aborted.', RemoteDisconnected('Remote end closed connection without response'))\n",
      "Retry limit exceeded, returning empty result\n"
     ]
    },
    {
     "name": "stderr",
     "output_type": "stream",
     "text": [
      "\n",
      "Processing mushroom.zh-tst.v1.jsonl:   6%|▌         | 9/150 [01:39<35:00, 14.90s/entry]\u001B[A\n",
      "Processing mushroom.zh-tst.v1.jsonl:   7%|▋         | 10/150 [01:44<27:35, 11.82s/entry]\u001B[A\n",
      "Processing mushroom.zh-tst.v1.jsonl:   7%|▋         | 11/150 [01:47<21:08,  9.13s/entry]\u001B[A"
     ]
    },
    {
     "name": "stdout",
     "output_type": "stream",
     "text": [
      "Request failed: ('Connection aborted.', RemoteDisconnected('Remote end closed connection without response'))\n",
      "Request failed: ('Connection aborted.', RemoteDisconnected('Remote end closed connection without response'))\n"
     ]
    },
    {
     "name": "stderr",
     "output_type": "stream",
     "text": [
      "\n",
      "Processing mushroom.zh-tst.v1.jsonl:   8%|▊         | 12/150 [02:34<47:41, 20.74s/entry]\u001B[A"
     ]
    },
    {
     "name": "stdout",
     "output_type": "stream",
     "text": [
      "Request failed: ('Connection aborted.', RemoteDisconnected('Remote end closed connection without response'))\n",
      "Retry limit exceeded, returning empty result\n"
     ]
    },
    {
     "name": "stderr",
     "output_type": "stream",
     "text": [
      "\n",
      "Processing mushroom.zh-tst.v1.jsonl:   9%|▊         | 13/150 [02:43<38:38, 16.92s/entry]\u001B[A\n",
      "Processing mushroom.zh-tst.v1.jsonl:   9%|▉         | 14/150 [02:50<32:10, 14.19s/entry]\u001B[A\n",
      "Processing mushroom.zh-tst.v1.jsonl:  10%|█         | 15/150 [02:55<25:14, 11.22s/entry]\u001B[A\n",
      "Processing mushroom.zh-tst.v1.jsonl:  11%|█         | 16/150 [03:00<20:47,  9.31s/entry]\u001B[A\n",
      "Processing mushroom.zh-tst.v1.jsonl:  11%|█▏        | 17/150 [03:05<18:04,  8.15s/entry]\u001B[A\n",
      "Processing mushroom.zh-tst.v1.jsonl:  12%|█▏        | 18/150 [03:14<18:45,  8.52s/entry]\u001B[A\n",
      "Processing mushroom.zh-tst.v1.jsonl:  13%|█▎        | 19/150 [03:17<14:57,  6.85s/entry]\u001B[A"
     ]
    },
    {
     "name": "stdout",
     "output_type": "stream",
     "text": [
      "No valid JSON found in content: []\n",
      "\n",
      "Error processing entry tst-zh-19: list index out of range\n"
     ]
    },
    {
     "name": "stderr",
     "output_type": "stream",
     "text": [
      "\n",
      "Processing mushroom.zh-tst.v1.jsonl:  13%|█▎        | 20/150 [03:21<12:37,  5.83s/entry]\u001B[A"
     ]
    },
    {
     "name": "stdout",
     "output_type": "stream",
     "text": [
      "No valid JSON found in content: []\n",
      "Error processing entry tst-zh-20: list index out of range\n"
     ]
    },
    {
     "name": "stderr",
     "output_type": "stream",
     "text": [
      "\n",
      "Processing mushroom.zh-tst.v1.jsonl:  14%|█▍        | 21/150 [03:35<18:01,  8.39s/entry]\u001B[A\n",
      "Processing mushroom.zh-tst.v1.jsonl:  15%|█▍        | 22/150 [03:42<16:59,  7.97s/entry]\u001B[A\n",
      "Processing mushroom.zh-tst.v1.jsonl:  15%|█▌        | 23/150 [03:54<19:01,  8.99s/entry]\u001B[A\n",
      "Processing mushroom.zh-tst.v1.jsonl:  16%|█▌        | 24/150 [04:02<18:42,  8.91s/entry]\u001B[A\n",
      "Processing mushroom.zh-tst.v1.jsonl:  17%|█▋        | 25/150 [04:11<18:32,  8.90s/entry]\u001B[A\n",
      "Processing mushroom.zh-tst.v1.jsonl:  17%|█▋        | 26/150 [04:18<17:02,  8.25s/entry]\u001B[A\n",
      "Processing mushroom.zh-tst.v1.jsonl:  18%|█▊        | 27/150 [04:29<18:39,  9.10s/entry]\u001B[A\n",
      "Processing mushroom.zh-tst.v1.jsonl:  19%|█▊        | 28/150 [04:32<14:49,  7.29s/entry]\u001B[A\n",
      "Processing mushroom.zh-tst.v1.jsonl:  19%|█▉        | 29/150 [04:36<12:39,  6.28s/entry]\u001B[A\n",
      "Processing mushroom.zh-tst.v1.jsonl:  20%|██        | 30/150 [04:42<12:22,  6.19s/entry]\u001B[A\n",
      "Processing mushroom.zh-tst.v1.jsonl:  21%|██        | 31/150 [04:54<15:41,  7.91s/entry]\u001B[A"
     ]
    },
    {
     "name": "stdout",
     "output_type": "stream",
     "text": [
      "Request failed: ('Connection aborted.', RemoteDisconnected('Remote end closed connection without response'))\n"
     ]
    },
    {
     "name": "stderr",
     "output_type": "stream",
     "text": [
      "\n",
      "Processing mushroom.zh-tst.v1.jsonl:  21%|██▏       | 32/150 [05:25<29:08, 14.82s/entry]\u001B[A\n",
      "Processing mushroom.zh-tst.v1.jsonl:  22%|██▏       | 33/150 [05:29<22:49, 11.71s/entry]\u001B[A\n",
      "Processing mushroom.zh-tst.v1.jsonl:  23%|██▎       | 34/150 [05:35<19:14,  9.95s/entry]\u001B[A\n",
      "Processing mushroom.zh-tst.v1.jsonl:  23%|██▎       | 35/150 [05:39<15:17,  7.97s/entry]\u001B[A\n",
      "Processing mushroom.zh-tst.v1.jsonl:  24%|██▍       | 36/150 [05:41<12:11,  6.42s/entry]\u001B[A\n",
      "Processing mushroom.zh-tst.v1.jsonl:  25%|██▍       | 37/150 [05:50<13:14,  7.03s/entry]\u001B[A"
     ]
    },
    {
     "name": "stdout",
     "output_type": "stream",
     "text": [
      "Request failed: ('Connection aborted.', RemoteDisconnected('Remote end closed connection without response'))\n",
      "Request failed: ('Connection aborted.', RemoteDisconnected('Remote end closed connection without response'))\n"
     ]
    },
    {
     "name": "stderr",
     "output_type": "stream",
     "text": [
      "\n",
      "Processing mushroom.zh-tst.v1.jsonl:  25%|██▌       | 38/150 [06:37<35:36, 19.08s/entry]\u001B[A"
     ]
    },
    {
     "name": "stdout",
     "output_type": "stream",
     "text": [
      "Request failed: ('Connection aborted.', RemoteDisconnected('Remote end closed connection without response'))\n",
      "Retry limit exceeded, returning empty result\n"
     ]
    },
    {
     "name": "stderr",
     "output_type": "stream",
     "text": [
      "\n",
      "Processing mushroom.zh-tst.v1.jsonl:  26%|██▌       | 39/150 [06:43<28:03, 15.16s/entry]\u001B[A\n",
      "Processing mushroom.zh-tst.v1.jsonl:  27%|██▋       | 40/150 [06:44<20:17, 11.07s/entry]\u001B[A"
     ]
    },
    {
     "name": "stdout",
     "output_type": "stream",
     "text": [
      "No valid JSON found in content: []\n",
      "\n",
      "Error processing entry tst-zh-40: list index out of range\n"
     ]
    },
    {
     "name": "stderr",
     "output_type": "stream",
     "text": [
      "\n",
      "Processing mushroom.zh-tst.v1.jsonl:  27%|██▋       | 41/150 [06:55<19:54, 10.96s/entry]\u001B[A"
     ]
    },
    {
     "name": "stdout",
     "output_type": "stream",
     "text": [
      "Request failed: ('Connection aborted.', RemoteDisconnected('Remote end closed connection without response'))\n",
      "Request failed: ('Connection aborted.', RemoteDisconnected('Remote end closed connection without response'))\n"
     ]
    },
    {
     "name": "stderr",
     "output_type": "stream",
     "text": [
      "\n",
      "Processing mushroom.zh-tst.v1.jsonl:  28%|██▊       | 42/150 [07:42<39:18, 21.83s/entry]\u001B[A"
     ]
    },
    {
     "name": "stdout",
     "output_type": "stream",
     "text": [
      "Request failed: ('Connection aborted.', RemoteDisconnected('Remote end closed connection without response'))\n",
      "Retry limit exceeded, returning empty result\n"
     ]
    },
    {
     "name": "stderr",
     "output_type": "stream",
     "text": [
      "\n",
      "Processing mushroom.zh-tst.v1.jsonl:  29%|██▊       | 43/150 [07:48<30:04, 16.86s/entry]\u001B[A\n",
      "Processing mushroom.zh-tst.v1.jsonl:  29%|██▉       | 44/150 [07:58<26:27, 14.97s/entry]\u001B[A\n",
      "Processing mushroom.zh-tst.v1.jsonl:  30%|███       | 45/150 [08:02<20:25, 11.67s/entry]\u001B[A\n",
      "Processing mushroom.zh-tst.v1.jsonl:  31%|███       | 46/150 [08:07<16:44,  9.66s/entry]\u001B[A\n",
      "Processing mushroom.zh-tst.v1.jsonl:  31%|███▏      | 47/150 [08:11<13:32,  7.88s/entry]\u001B[A"
     ]
    },
    {
     "name": "stdout",
     "output_type": "stream",
     "text": [
      "No valid JSON found in content: []\n",
      "\n",
      "Error processing entry tst-zh-47: list index out of range\n"
     ]
    },
    {
     "name": "stderr",
     "output_type": "stream",
     "text": [
      "\n",
      "Processing mushroom.zh-tst.v1.jsonl:  32%|███▏      | 48/150 [08:15<11:36,  6.83s/entry]\u001B[A"
     ]
    },
    {
     "name": "stdout",
     "output_type": "stream",
     "text": [
      "Request failed: ('Connection aborted.', RemoteDisconnected('Remote end closed connection without response'))\n"
     ]
    },
    {
     "name": "stderr",
     "output_type": "stream",
     "text": [
      "\n",
      "Processing mushroom.zh-tst.v1.jsonl:  33%|███▎      | 49/150 [08:44<22:35, 13.42s/entry]\u001B[A\n",
      "Processing mushroom.zh-tst.v1.jsonl:  33%|███▎      | 50/150 [08:48<17:39, 10.59s/entry]\u001B[A\n",
      "Processing mushroom.zh-tst.v1.jsonl:  34%|███▍      | 51/150 [09:01<18:44, 11.36s/entry]\u001B[A\n",
      "Processing mushroom.zh-tst.v1.jsonl:  35%|███▍      | 52/150 [09:04<14:27,  8.85s/entry]\u001B[A\n",
      "Processing mushroom.zh-tst.v1.jsonl:  35%|███▌      | 53/150 [09:07<11:08,  6.89s/entry]\u001B[A\n",
      "Processing mushroom.zh-tst.v1.jsonl:  36%|███▌      | 54/150 [09:18<13:13,  8.27s/entry]\u001B[A\n",
      "Processing mushroom.zh-tst.v1.jsonl:  37%|███▋      | 55/150 [09:25<12:39,  7.99s/entry]\u001B[A\n",
      "Processing mushroom.zh-tst.v1.jsonl:  37%|███▋      | 56/150 [09:35<13:30,  8.62s/entry]\u001B[A"
     ]
    },
    {
     "name": "stdout",
     "output_type": "stream",
     "text": [
      "Request failed: ('Connection aborted.', RemoteDisconnected('Remote end closed connection without response'))\n"
     ]
    },
    {
     "name": "stderr",
     "output_type": "stream",
     "text": [
      "\n",
      "Processing mushroom.zh-tst.v1.jsonl:  38%|███▊      | 57/150 [10:03<22:05, 14.26s/entry]\u001B[A\n",
      "Processing mushroom.zh-tst.v1.jsonl:  39%|███▊      | 58/150 [10:14<20:22, 13.29s/entry]\u001B[A\n",
      "Processing mushroom.zh-tst.v1.jsonl:  39%|███▉      | 59/150 [10:18<16:11, 10.67s/entry]\u001B[A\n",
      "Processing mushroom.zh-tst.v1.jsonl:  40%|████      | 60/150 [10:21<12:14,  8.16s/entry]\u001B[A\n",
      "Processing mushroom.zh-tst.v1.jsonl:  41%|████      | 61/150 [10:24<09:50,  6.63s/entry]\u001B[A"
     ]
    },
    {
     "name": "stdout",
     "output_type": "stream",
     "text": [
      "Request failed: ('Connection aborted.', RemoteDisconnected('Remote end closed connection without response'))\n"
     ]
    },
    {
     "name": "stderr",
     "output_type": "stream",
     "text": [
      "\n",
      "Processing mushroom.zh-tst.v1.jsonl:  41%|████▏     | 62/150 [10:55<20:27, 13.95s/entry]\u001B[A\n",
      "Processing mushroom.zh-tst.v1.jsonl:  42%|████▏     | 63/150 [10:59<15:55, 10.98s/entry]\u001B[A"
     ]
    },
    {
     "name": "stdout",
     "output_type": "stream",
     "text": [
      "Request failed: ('Connection aborted.', RemoteDisconnected('Remote end closed connection without response'))\n"
     ]
    },
    {
     "name": "stderr",
     "output_type": "stream",
     "text": [
      "\n",
      "Processing mushroom.zh-tst.v1.jsonl:  43%|████▎     | 64/150 [11:27<23:18, 16.26s/entry]\u001B[A\n",
      "Processing mushroom.zh-tst.v1.jsonl:  43%|████▎     | 65/150 [11:39<21:09, 14.93s/entry]\u001B[A"
     ]
    },
    {
     "name": "stdout",
     "output_type": "stream",
     "text": [
      "Request failed: ('Connection aborted.', RemoteDisconnected('Remote end closed connection without response'))\n"
     ]
    },
    {
     "name": "stderr",
     "output_type": "stream",
     "text": [
      "\n",
      "Processing mushroom.zh-tst.v1.jsonl:  44%|████▍     | 66/150 [12:04<25:10, 17.98s/entry]\u001B[A\n",
      "Processing mushroom.zh-tst.v1.jsonl:  45%|████▍     | 67/150 [12:13<20:55, 15.12s/entry]\u001B[A\n",
      "Processing mushroom.zh-tst.v1.jsonl:  45%|████▌     | 68/150 [12:16<15:52, 11.61s/entry]\u001B[A\n",
      "Processing mushroom.zh-tst.v1.jsonl:  46%|████▌     | 69/150 [12:26<14:58, 11.10s/entry]\u001B[A\n",
      "Processing mushroom.zh-tst.v1.jsonl:  47%|████▋     | 70/150 [12:37<14:32, 10.91s/entry]\u001B[A"
     ]
    },
    {
     "name": "stdout",
     "output_type": "stream",
     "text": [
      "Request failed: ('Connection aborted.', RemoteDisconnected('Remote end closed connection without response'))\n",
      "Request failed: ('Connection aborted.', RemoteDisconnected('Remote end closed connection without response'))\n"
     ]
    },
    {
     "name": "stderr",
     "output_type": "stream",
     "text": [
      "\n",
      "Processing mushroom.zh-tst.v1.jsonl:  47%|████▋     | 71/150 [13:24<28:41, 21.79s/entry]\u001B[A"
     ]
    },
    {
     "name": "stdout",
     "output_type": "stream",
     "text": [
      "Request failed: ('Connection aborted.', RemoteDisconnected('Remote end closed connection without response'))\n",
      "Retry limit exceeded, returning empty result\n"
     ]
    },
    {
     "name": "stderr",
     "output_type": "stream",
     "text": [
      "\n",
      "Processing mushroom.zh-tst.v1.jsonl:  48%|████▊     | 72/150 [13:34<23:44, 18.26s/entry]\u001B[A\n",
      "Processing mushroom.zh-tst.v1.jsonl:  49%|████▊     | 73/150 [13:37<17:40, 13.78s/entry]\u001B[A\n",
      "Processing mushroom.zh-tst.v1.jsonl:  49%|████▉     | 74/150 [13:41<13:32, 10.69s/entry]\u001B[A\n",
      "Processing mushroom.zh-tst.v1.jsonl:  50%|█████     | 75/150 [13:53<14:00, 11.21s/entry]\u001B[A\n",
      "Processing mushroom.zh-tst.v1.jsonl:  51%|█████     | 76/150 [14:03<13:21, 10.84s/entry]\u001B[A"
     ]
    },
    {
     "name": "stdout",
     "output_type": "stream",
     "text": [
      "Request failed: ('Connection aborted.', RemoteDisconnected('Remote end closed connection without response'))\n",
      "Request failed: ('Connection aborted.', RemoteDisconnected('Remote end closed connection without response'))\n"
     ]
    },
    {
     "name": "stderr",
     "output_type": "stream",
     "text": [
      "\n",
      "Processing mushroom.zh-tst.v1.jsonl:  51%|█████▏    | 77/150 [14:50<26:26, 21.73s/entry]\u001B[A"
     ]
    },
    {
     "name": "stdout",
     "output_type": "stream",
     "text": [
      "Request failed: ('Connection aborted.', RemoteDisconnected('Remote end closed connection without response'))\n",
      "Retry limit exceeded, returning empty result\n"
     ]
    },
    {
     "name": "stderr",
     "output_type": "stream",
     "text": [
      "\n",
      "Processing mushroom.zh-tst.v1.jsonl:  52%|█████▏    | 78/150 [15:00<21:41, 18.08s/entry]\u001B[A\n",
      "Processing mushroom.zh-tst.v1.jsonl:  53%|█████▎    | 79/150 [15:05<16:41, 14.10s/entry]\u001B[A\n",
      "Processing mushroom.zh-tst.v1.jsonl:  53%|█████▎    | 80/150 [15:13<14:18, 12.26s/entry]\u001B[A"
     ]
    },
    {
     "name": "stdout",
     "output_type": "stream",
     "text": [
      "Request failed: ('Connection aborted.', RemoteDisconnected('Remote end closed connection without response'))\n",
      "Request failed: ('Connection aborted.', RemoteDisconnected('Remote end closed connection without response'))\n"
     ]
    },
    {
     "name": "stderr",
     "output_type": "stream",
     "text": [
      "\n",
      "Processing mushroom.zh-tst.v1.jsonl:  54%|█████▍    | 81/150 [16:00<26:07, 22.72s/entry]\u001B[A"
     ]
    },
    {
     "name": "stdout",
     "output_type": "stream",
     "text": [
      "Request failed: ('Connection aborted.', RemoteDisconnected('Remote end closed connection without response'))\n",
      "Retry limit exceeded, returning empty result\n"
     ]
    },
    {
     "name": "stderr",
     "output_type": "stream",
     "text": [
      "\n",
      "Processing mushroom.zh-tst.v1.jsonl:  55%|█████▍    | 82/150 [16:05<19:47, 17.47s/entry]\u001B[A\n",
      "Processing mushroom.zh-tst.v1.jsonl:  55%|█████▌    | 83/150 [16:12<15:54, 14.25s/entry]\u001B[A\n",
      "Processing mushroom.zh-tst.v1.jsonl:  56%|█████▌    | 84/150 [16:16<12:33, 11.41s/entry]\u001B[A"
     ]
    },
    {
     "name": "stdout",
     "output_type": "stream",
     "text": [
      "Request failed: ('Connection aborted.', RemoteDisconnected('Remote end closed connection without response'))\n",
      "Request failed: ('Connection aborted.', RemoteDisconnected('Remote end closed connection without response'))\n"
     ]
    },
    {
     "name": "stderr",
     "output_type": "stream",
     "text": [
      "\n",
      "Processing mushroom.zh-tst.v1.jsonl:  57%|█████▋    | 85/150 [17:04<23:59, 22.15s/entry]\u001B[A"
     ]
    },
    {
     "name": "stdout",
     "output_type": "stream",
     "text": [
      "Request failed: ('Connection aborted.', RemoteDisconnected('Remote end closed connection without response'))\n",
      "Retry limit exceeded, returning empty result\n"
     ]
    },
    {
     "name": "stderr",
     "output_type": "stream",
     "text": [
      "\n",
      "Processing mushroom.zh-tst.v1.jsonl:  57%|█████▋    | 86/150 [17:12<19:18, 18.09s/entry]\u001B[A\n",
      "Processing mushroom.zh-tst.v1.jsonl:  58%|█████▊    | 87/150 [17:19<15:18, 14.58s/entry]\u001B[A\n",
      "Processing mushroom.zh-tst.v1.jsonl:  59%|█████▊    | 88/150 [17:30<14:09, 13.71s/entry]\u001B[A\n",
      "Processing mushroom.zh-tst.v1.jsonl:  59%|█████▉    | 89/150 [17:36<11:35, 11.40s/entry]\u001B[A\n",
      "Processing mushroom.zh-tst.v1.jsonl:  60%|██████    | 90/150 [17:47<11:07, 11.13s/entry]\u001B[A"
     ]
    },
    {
     "name": "stdout",
     "output_type": "stream",
     "text": [
      "Request failed: ('Connection aborted.', RemoteDisconnected('Remote end closed connection without response'))\n"
     ]
    },
    {
     "name": "stderr",
     "output_type": "stream",
     "text": [
      "\n",
      "Processing mushroom.zh-tst.v1.jsonl:  61%|██████    | 91/150 [18:17<16:40, 16.95s/entry]\u001B[A"
     ]
    },
    {
     "name": "stdout",
     "output_type": "stream",
     "text": [
      "Request failed: ('Connection aborted.', RemoteDisconnected('Remote end closed connection without response'))\n",
      "Request failed: ('Connection aborted.', RemoteDisconnected('Remote end closed connection without response'))\n"
     ]
    },
    {
     "name": "stderr",
     "output_type": "stream",
     "text": [
      "\n",
      "Processing mushroom.zh-tst.v1.jsonl:  61%|██████▏   | 92/150 [19:05<25:12, 26.08s/entry]\u001B[A"
     ]
    },
    {
     "name": "stdout",
     "output_type": "stream",
     "text": [
      "Request failed: ('Connection aborted.', RemoteDisconnected('Remote end closed connection without response'))\n",
      "Retry limit exceeded, returning empty result\n"
     ]
    },
    {
     "name": "stderr",
     "output_type": "stream",
     "text": [
      "\n",
      "Processing mushroom.zh-tst.v1.jsonl:  62%|██████▏   | 93/150 [19:16<20:36, 21.70s/entry]\u001B[A\n",
      "Processing mushroom.zh-tst.v1.jsonl:  63%|██████▎   | 94/150 [19:27<17:17, 18.53s/entry]\u001B[A\n",
      "Processing mushroom.zh-tst.v1.jsonl:  63%|██████▎   | 95/150 [19:34<13:36, 14.85s/entry]\u001B[A\n",
      "Processing mushroom.zh-tst.v1.jsonl:  64%|██████▍   | 96/150 [19:43<11:46, 13.08s/entry]\u001B[A\n",
      "Processing mushroom.zh-tst.v1.jsonl:  65%|██████▍   | 97/150 [19:49<09:40, 10.96s/entry]\u001B[A"
     ]
    },
    {
     "name": "stdout",
     "output_type": "stream",
     "text": [
      "Request failed: ('Connection aborted.', RemoteDisconnected('Remote end closed connection without response'))\n",
      "Request failed: ('Connection aborted.', RemoteDisconnected('Remote end closed connection without response'))\n"
     ]
    },
    {
     "name": "stderr",
     "output_type": "stream",
     "text": [
      "\n",
      "Processing mushroom.zh-tst.v1.jsonl:  65%|██████▌   | 98/150 [20:33<18:06, 20.90s/entry]\u001B[A\n",
      "Processing mushroom.zh-tst.v1.jsonl:  66%|██████▌   | 99/150 [20:45<15:34, 18.33s/entry]\u001B[A\n",
      "Processing mushroom.zh-tst.v1.jsonl:  67%|██████▋   | 100/150 [20:55<13:13, 15.88s/entry]\u001B[A\n",
      "Processing mushroom.zh-tst.v1.jsonl:  67%|██████▋   | 101/150 [21:06<11:44, 14.38s/entry]\u001B[A\n",
      "Processing mushroom.zh-tst.v1.jsonl:  68%|██████▊   | 102/150 [21:11<09:20, 11.68s/entry]\u001B[A\n",
      "Processing mushroom.zh-tst.v1.jsonl:  69%|██████▊   | 103/150 [21:18<07:53, 10.07s/entry]\u001B[A\n",
      "Processing mushroom.zh-tst.v1.jsonl:  69%|██████▉   | 104/150 [21:26<07:18,  9.54s/entry]\u001B[A\n",
      "Processing mushroom.zh-tst.v1.jsonl:  70%|███████   | 105/150 [21:34<06:42,  8.95s/entry]\u001B[A\n",
      "Processing mushroom.zh-tst.v1.jsonl:  71%|███████   | 106/150 [21:45<07:00,  9.56s/entry]\u001B[A"
     ]
    },
    {
     "name": "stdout",
     "output_type": "stream",
     "text": [
      "Request failed: ('Connection aborted.', RemoteDisconnected('Remote end closed connection without response'))\n"
     ]
    },
    {
     "name": "stderr",
     "output_type": "stream",
     "text": [
      "\n",
      "Processing mushroom.zh-tst.v1.jsonl:  71%|███████▏  | 107/150 [22:16<11:30, 16.05s/entry]\u001B[A\n",
      "Processing mushroom.zh-tst.v1.jsonl:  72%|███████▏  | 108/150 [22:26<09:57, 14.23s/entry]\u001B[A\n",
      "Processing mushroom.zh-tst.v1.jsonl:  73%|███████▎  | 109/150 [22:34<08:30, 12.46s/entry]\u001B[A\n",
      "Processing mushroom.zh-tst.v1.jsonl:  73%|███████▎  | 110/150 [22:43<07:39, 11.49s/entry]\u001B[A\n",
      "Processing mushroom.zh-tst.v1.jsonl:  74%|███████▍  | 111/150 [22:49<06:20,  9.75s/entry]\u001B[A\n",
      "Processing mushroom.zh-tst.v1.jsonl:  75%|███████▍  | 112/150 [22:55<05:28,  8.64s/entry]\u001B[A\n",
      "Processing mushroom.zh-tst.v1.jsonl:  75%|███████▌  | 113/150 [23:02<05:03,  8.22s/entry]\u001B[A"
     ]
    },
    {
     "name": "stdout",
     "output_type": "stream",
     "text": [
      "Request failed: ('Connection aborted.', RemoteDisconnected('Remote end closed connection without response'))\n",
      "Request failed: ('Connection aborted.', RemoteDisconnected('Remote end closed connection without response'))\n"
     ]
    },
    {
     "name": "stderr",
     "output_type": "stream",
     "text": [
      "\n",
      "Processing mushroom.zh-tst.v1.jsonl:  76%|███████▌  | 114/150 [23:50<11:58, 19.97s/entry]\u001B[A"
     ]
    },
    {
     "name": "stdout",
     "output_type": "stream",
     "text": [
      "Request failed: ('Connection aborted.', RemoteDisconnected('Remote end closed connection without response'))\n",
      "Retry limit exceeded, returning empty result\n"
     ]
    },
    {
     "name": "stderr",
     "output_type": "stream",
     "text": [
      "\n",
      "Processing mushroom.zh-tst.v1.jsonl:  77%|███████▋  | 115/150 [23:57<09:25, 16.17s/entry]\u001B[A"
     ]
    },
    {
     "name": "stdout",
     "output_type": "stream",
     "text": [
      "No valid JSON found in content: []\n",
      "\n",
      "Error processing entry tst-zh-115: list index out of range\n"
     ]
    },
    {
     "name": "stderr",
     "output_type": "stream",
     "text": [
      "\n",
      "Processing mushroom.zh-tst.v1.jsonl:  77%|███████▋  | 116/150 [23:58<06:40, 11.77s/entry]\u001B[A"
     ]
    },
    {
     "name": "stdout",
     "output_type": "stream",
     "text": [
      "No valid JSON found in content: []\n",
      "\n",
      "Error processing entry tst-zh-116: list index out of range\n"
     ]
    },
    {
     "name": "stderr",
     "output_type": "stream",
     "text": [
      "\n",
      "Processing mushroom.zh-tst.v1.jsonl:  78%|███████▊  | 117/150 [24:12<06:41, 12.16s/entry]\u001B[A\n",
      "Processing mushroom.zh-tst.v1.jsonl:  79%|███████▊  | 118/150 [24:20<05:52, 11.02s/entry]\u001B[A"
     ]
    },
    {
     "name": "stdout",
     "output_type": "stream",
     "text": [
      "Request failed: ('Connection aborted.', RemoteDisconnected('Remote end closed connection without response'))\n"
     ]
    },
    {
     "name": "stderr",
     "output_type": "stream",
     "text": [
      "\n",
      "Processing mushroom.zh-tst.v1.jsonl:  79%|███████▉  | 119/150 [24:43<07:36, 14.72s/entry]\u001B[A\n",
      "Processing mushroom.zh-tst.v1.jsonl:  80%|████████  | 120/150 [24:47<05:46, 11.55s/entry]\u001B[A\n",
      "Processing mushroom.zh-tst.v1.jsonl:  81%|████████  | 121/150 [24:53<04:44,  9.82s/entry]\u001B[A\n",
      "Processing mushroom.zh-tst.v1.jsonl:  81%|████████▏ | 122/150 [25:04<04:42, 10.08s/entry]\u001B[A"
     ]
    },
    {
     "name": "stdout",
     "output_type": "stream",
     "text": [
      "Request failed with status code: 429\n",
      "Response: {\n",
      "    \"error\": {\n",
      "        \"message\": \"You exceeded your current quota, please check your plan and billing details. For more information on this error, read the docs: https://platform.openai.com/docs/guides/error-codes/api-errors.\",\n",
      "        \"type\": \"insufficient_quota\",\n",
      "        \"param\": null,\n",
      "        \"code\": \"insufficient_quota\"\n",
      "    }\n",
      "}\n",
      "\n"
     ]
    },
    {
     "name": "stderr",
     "output_type": "stream",
     "text": [
      "\n",
      "Processing mushroom.zh-tst.v1.jsonl:  82%|████████▏ | 123/150 [25:18<05:07, 11.38s/entry]\u001B[A"
     ]
    },
    {
     "name": "stdout",
     "output_type": "stream",
     "text": [
      "Request failed with status code: 429\n",
      "Response: {\n",
      "    \"error\": {\n",
      "        \"message\": \"You exceeded your current quota, please check your plan and billing details. For more information on this error, read the docs: https://platform.openai.com/docs/guides/error-codes/api-errors.\",\n",
      "        \"type\": \"insufficient_quota\",\n",
      "        \"param\": null,\n",
      "        \"code\": \"insufficient_quota\"\n",
      "    }\n",
      "}\n",
      "\n",
      "Request failed: ('Connection aborted.', RemoteDisconnected('Remote end closed connection without response'))\n"
     ]
    },
    {
     "name": "stderr",
     "output_type": "stream",
     "text": [
      "\n",
      "Processing mushroom.zh-tst.v1.jsonl:  83%|████████▎ | 124/150 [25:51<07:43, 17.82s/entry]\u001B[A"
     ]
    },
    {
     "name": "stdout",
     "output_type": "stream",
     "text": [
      "Request failed: ('Connection aborted.', RemoteDisconnected('Remote end closed connection without response'))\n",
      "Retry limit exceeded, returning empty result\n",
      "Request failed with status code: 429\n",
      "Response: {\n",
      "    \"error\": {\n",
      "        \"message\": \"You exceeded your current quota, please check your plan and billing details. For more information on this error, read the docs: https://platform.openai.com/docs/guides/error-codes/api-errors.\",\n",
      "        \"type\": \"insufficient_quota\",\n",
      "        \"param\": null,\n",
      "        \"code\": \"insufficient_quota\"\n",
      "    }\n",
      "}\n",
      "\n",
      "Request failed: ('Connection aborted.', RemoteDisconnected('Remote end closed connection without response'))\n"
     ]
    },
    {
     "name": "stderr",
     "output_type": "stream",
     "text": [
      "\n",
      "Processing mushroom.zh-tst.v1.jsonl:  83%|████████▎ | 125/150 [26:19<08:40, 20.81s/entry]\u001B[A\n",
      "Processing mushroom.zh-tst.v1.jsonl:  84%|████████▍ | 126/150 [26:28<06:52, 17.19s/entry]\u001B[A"
     ]
    },
    {
     "name": "stdout",
     "output_type": "stream",
     "text": [
      "Request failed: ('Connection aborted.', RemoteDisconnected('Remote end closed connection without response'))\n",
      "Request failed with status code: 429\n",
      "Response: {\n",
      "    \"error\": {\n",
      "        \"message\": \"You exceeded your current quota, please check your plan and billing details. For more information on this error, read the docs: https://platform.openai.com/docs/guides/error-codes/api-errors.\",\n",
      "        \"type\": \"insufficient_quota\",\n",
      "        \"param\": null,\n",
      "        \"code\": \"insufficient_quota\"\n",
      "    }\n",
      "}\n",
      "\n"
     ]
    },
    {
     "name": "stderr",
     "output_type": "stream",
     "text": [
      "\n",
      "Processing mushroom.zh-tst.v1.jsonl:  85%|████████▍ | 127/150 [26:54<07:40, 20.01s/entry]\u001B[A\n",
      "Processing mushroom.zh-tst.v1.jsonl:  85%|████████▌ | 128/150 [27:00<05:44, 15.68s/entry]\u001B[A"
     ]
    },
    {
     "name": "stdout",
     "output_type": "stream",
     "text": [
      "Request failed with status code: 429\n",
      "Response: {\n",
      "    \"error\": {\n",
      "        \"message\": \"You exceeded your current quota, please check your plan and billing details. For more information on this error, read the docs: https://platform.openai.com/docs/guides/error-codes/api-errors.\",\n",
      "        \"type\": \"insufficient_quota\",\n",
      "        \"param\": null,\n",
      "        \"code\": \"insufficient_quota\"\n",
      "    }\n",
      "}\n",
      "\n",
      "Request failed with status code: 429\n",
      "Response: {\n",
      "    \"error\": {\n",
      "        \"message\": \"You exceeded your current quota, please check your plan and billing details. For more information on this error, read the docs: https://platform.openai.com/docs/guides/error-codes/api-errors.\",\n",
      "        \"type\": \"insufficient_quota\",\n",
      "        \"param\": null,\n",
      "        \"code\": \"insufficient_quota\"\n",
      "    }\n",
      "}\n",
      "\n"
     ]
    },
    {
     "name": "stderr",
     "output_type": "stream",
     "text": [
      "\n",
      "Processing mushroom.zh-tst.v1.jsonl:  86%|████████▌ | 129/150 [27:03<04:11, 11.98s/entry]\u001B[A"
     ]
    },
    {
     "name": "stdout",
     "output_type": "stream",
     "text": [
      "Request failed with status code: 429\n",
      "Response: {\n",
      "    \"error\": {\n",
      "        \"message\": \"You exceeded your current quota, please check your plan and billing details. For more information on this error, read the docs: https://platform.openai.com/docs/guides/error-codes/api-errors.\",\n",
      "        \"type\": \"insufficient_quota\",\n",
      "        \"param\": null,\n",
      "        \"code\": \"insufficient_quota\"\n",
      "    }\n",
      "}\n",
      "\n",
      "Retry limit exceeded, returning empty result\n",
      "Request failed with status code: 429\n",
      "Response: {\n",
      "    \"error\": {\n",
      "        \"message\": \"You exceeded your current quota, please check your plan and billing details. For more information on this error, read the docs: https://platform.openai.com/docs/guides/error-codes/api-errors.\",\n",
      "        \"type\": \"insufficient_quota\",\n",
      "        \"param\": null,\n",
      "        \"code\": \"insufficient_quota\"\n",
      "    }\n",
      "}\n",
      "\n",
      "Request failed with status code: 429\n",
      "Response: {\n",
      "    \"error\": {\n",
      "        \"message\": \"You exceeded your current quota, please check your plan and billing details. For more information on this error, read the docs: https://platform.openai.com/docs/guides/error-codes/api-errors.\",\n",
      "        \"type\": \"insufficient_quota\",\n",
      "        \"param\": null,\n",
      "        \"code\": \"insufficient_quota\"\n",
      "    }\n",
      "}\n",
      "\n"
     ]
    },
    {
     "name": "stderr",
     "output_type": "stream",
     "text": [
      "\n",
      "Processing mushroom.zh-tst.v1.jsonl:  87%|████████▋ | 130/150 [27:08<03:15,  9.77s/entry]\u001B[A"
     ]
    },
    {
     "name": "stdout",
     "output_type": "stream",
     "text": [
      "Request failed with status code: 429\n",
      "Response: {\n",
      "    \"error\": {\n",
      "        \"message\": \"You exceeded your current quota, please check your plan and billing details. For more information on this error, read the docs: https://platform.openai.com/docs/guides/error-codes/api-errors.\",\n",
      "        \"type\": \"insufficient_quota\",\n",
      "        \"param\": null,\n",
      "        \"code\": \"insufficient_quota\"\n",
      "    }\n",
      "}\n",
      "\n",
      "Request failed with status code: 429\n",
      "Response: {\n",
      "    \"error\": {\n",
      "        \"message\": \"You exceeded your current quota, please check your plan and billing details. For more information on this error, read the docs: https://platform.openai.com/docs/guides/error-codes/api-errors.\",\n",
      "        \"type\": \"insufficient_quota\",\n",
      "        \"param\": null,\n",
      "        \"code\": \"insufficient_quota\"\n",
      "    }\n",
      "}\n",
      "\n"
     ]
    },
    {
     "name": "stderr",
     "output_type": "stream",
     "text": [
      "\n",
      "Processing mushroom.zh-tst.v1.jsonl:  87%|████████▋ | 131/150 [27:15<02:49,  8.93s/entry]\u001B[A"
     ]
    },
    {
     "name": "stdout",
     "output_type": "stream",
     "text": [
      "Request failed with status code: 429\n",
      "Response: {\n",
      "    \"error\": {\n",
      "        \"message\": \"You exceeded your current quota, please check your plan and billing details. For more information on this error, read the docs: https://platform.openai.com/docs/guides/error-codes/api-errors.\",\n",
      "        \"type\": \"insufficient_quota\",\n",
      "        \"param\": null,\n",
      "        \"code\": \"insufficient_quota\"\n",
      "    }\n",
      "}\n",
      "\n",
      "Request failed with status code: 429\n",
      "Response: {\n",
      "    \"error\": {\n",
      "        \"message\": \"You exceeded your current quota, please check your plan and billing details. For more information on this error, read the docs: https://platform.openai.com/docs/guides/error-codes/api-errors.\",\n",
      "        \"type\": \"insufficient_quota\",\n",
      "        \"param\": null,\n",
      "        \"code\": \"insufficient_quota\"\n",
      "    }\n",
      "}\n",
      "\n"
     ]
    },
    {
     "name": "stderr",
     "output_type": "stream",
     "text": [
      "\n",
      "Processing mushroom.zh-tst.v1.jsonl:  88%|████████▊ | 132/150 [27:18<02:10,  7.23s/entry]\u001B[A"
     ]
    },
    {
     "name": "stdout",
     "output_type": "stream",
     "text": [
      "Request failed with status code: 429\n",
      "Response: {\n",
      "    \"error\": {\n",
      "        \"message\": \"You exceeded your current quota, please check your plan and billing details. For more information on this error, read the docs: https://platform.openai.com/docs/guides/error-codes/api-errors.\",\n",
      "        \"type\": \"insufficient_quota\",\n",
      "        \"param\": null,\n",
      "        \"code\": \"insufficient_quota\"\n",
      "    }\n",
      "}\n",
      "\n",
      "Retry limit exceeded, returning empty result\n",
      "Request failed with status code: 429\n",
      "Response: {\n",
      "    \"error\": {\n",
      "        \"message\": \"You exceeded your current quota, please check your plan and billing details. For more information on this error, read the docs: https://platform.openai.com/docs/guides/error-codes/api-errors.\",\n",
      "        \"type\": \"insufficient_quota\",\n",
      "        \"param\": null,\n",
      "        \"code\": \"insufficient_quota\"\n",
      "    }\n",
      "}\n",
      "\n"
     ]
    },
    {
     "name": "stderr",
     "output_type": "stream",
     "text": [
      "\n",
      "Processing mushroom.zh-tst.v1.jsonl:  89%|████████▊ | 133/150 [27:28<02:15,  7.97s/entry]\u001B[A"
     ]
    },
    {
     "name": "stdout",
     "output_type": "stream",
     "text": [
      "Request failed with status code: 429\n",
      "Response: {\n",
      "    \"error\": {\n",
      "        \"message\": \"You exceeded your current quota, please check your plan and billing details. For more information on this error, read the docs: https://platform.openai.com/docs/guides/error-codes/api-errors.\",\n",
      "        \"type\": \"insufficient_quota\",\n",
      "        \"param\": null,\n",
      "        \"code\": \"insufficient_quota\"\n",
      "    }\n",
      "}\n",
      "\n",
      "Request failed with status code: 429\n",
      "Response: {\n",
      "    \"error\": {\n",
      "        \"message\": \"You exceeded your current quota, please check your plan and billing details. For more information on this error, read the docs: https://platform.openai.com/docs/guides/error-codes/api-errors.\",\n",
      "        \"type\": \"insufficient_quota\",\n",
      "        \"param\": null,\n",
      "        \"code\": \"insufficient_quota\"\n",
      "    }\n",
      "}\n",
      "\n"
     ]
    },
    {
     "name": "stderr",
     "output_type": "stream",
     "text": [
      "\n",
      "Processing mushroom.zh-tst.v1.jsonl:  89%|████████▉ | 134/150 [27:31<01:44,  6.56s/entry]\u001B[A"
     ]
    },
    {
     "name": "stdout",
     "output_type": "stream",
     "text": [
      "Request failed with status code: 429\n",
      "Response: {\n",
      "    \"error\": {\n",
      "        \"message\": \"You exceeded your current quota, please check your plan and billing details. For more information on this error, read the docs: https://platform.openai.com/docs/guides/error-codes/api-errors.\",\n",
      "        \"type\": \"insufficient_quota\",\n",
      "        \"param\": null,\n",
      "        \"code\": \"insufficient_quota\"\n",
      "    }\n",
      "}\n",
      "\n",
      "Retry limit exceeded, returning empty result\n",
      "Request failed with status code: 429\n",
      "Response: {\n",
      "    \"error\": {\n",
      "        \"message\": \"You exceeded your current quota, please check your plan and billing details. For more information on this error, read the docs: https://platform.openai.com/docs/guides/error-codes/api-errors.\",\n",
      "        \"type\": \"insufficient_quota\",\n",
      "        \"param\": null,\n",
      "        \"code\": \"insufficient_quota\"\n",
      "    }\n",
      "}\n",
      "\n",
      "Request failed with status code: 429\n",
      "Response: {\n",
      "    \"error\": {\n",
      "        \"message\": \"You exceeded your current quota, please check your plan and billing details. For more information on this error, read the docs: https://platform.openai.com/docs/guides/error-codes/api-errors.\",\n",
      "        \"type\": \"insufficient_quota\",\n",
      "        \"param\": null,\n",
      "        \"code\": \"insufficient_quota\"\n",
      "    }\n",
      "}\n",
      "\n"
     ]
    },
    {
     "name": "stderr",
     "output_type": "stream",
     "text": [
      "\n",
      "Processing mushroom.zh-tst.v1.jsonl:  90%|█████████ | 135/150 [27:34<01:23,  5.59s/entry]\u001B[A"
     ]
    },
    {
     "name": "stdout",
     "output_type": "stream",
     "text": [
      "Request failed with status code: 429\n",
      "Response: {\n",
      "    \"error\": {\n",
      "        \"message\": \"You exceeded your current quota, please check your plan and billing details. For more information on this error, read the docs: https://platform.openai.com/docs/guides/error-codes/api-errors.\",\n",
      "        \"type\": \"insufficient_quota\",\n",
      "        \"param\": null,\n",
      "        \"code\": \"insufficient_quota\"\n",
      "    }\n",
      "}\n",
      "\n",
      "Retry limit exceeded, returning empty result\n",
      "Request failed with status code: 429\n",
      "Response: {\n",
      "    \"error\": {\n",
      "        \"message\": \"You exceeded your current quota, please check your plan and billing details. For more information on this error, read the docs: https://platform.openai.com/docs/guides/error-codes/api-errors.\",\n",
      "        \"type\": \"insufficient_quota\",\n",
      "        \"param\": null,\n",
      "        \"code\": \"insufficient_quota\"\n",
      "    }\n",
      "}\n",
      "\n",
      "Request failed with status code: 429\n",
      "Response: {\n",
      "    \"error\": {\n",
      "        \"message\": \"You exceeded your current quota, please check your plan and billing details. For more information on this error, read the docs: https://platform.openai.com/docs/guides/error-codes/api-errors.\",\n",
      "        \"type\": \"insufficient_quota\",\n",
      "        \"param\": null,\n",
      "        \"code\": \"insufficient_quota\"\n",
      "    }\n",
      "}\n",
      "\n"
     ]
    },
    {
     "name": "stderr",
     "output_type": "stream",
     "text": [
      "\n",
      "Processing mushroom.zh-tst.v1.jsonl:  91%|█████████ | 136/150 [27:38<01:08,  4.90s/entry]\u001B[A"
     ]
    },
    {
     "name": "stdout",
     "output_type": "stream",
     "text": [
      "Request failed with status code: 429\n",
      "Response: {\n",
      "    \"error\": {\n",
      "        \"message\": \"You exceeded your current quota, please check your plan and billing details. For more information on this error, read the docs: https://platform.openai.com/docs/guides/error-codes/api-errors.\",\n",
      "        \"type\": \"insufficient_quota\",\n",
      "        \"param\": null,\n",
      "        \"code\": \"insufficient_quota\"\n",
      "    }\n",
      "}\n",
      "\n",
      "Retry limit exceeded, returning empty result\n",
      "Request failed with status code: 429\n",
      "Response: {\n",
      "    \"error\": {\n",
      "        \"message\": \"You exceeded your current quota, please check your plan and billing details. For more information on this error, read the docs: https://platform.openai.com/docs/guides/error-codes/api-errors.\",\n",
      "        \"type\": \"insufficient_quota\",\n",
      "        \"param\": null,\n",
      "        \"code\": \"insufficient_quota\"\n",
      "    }\n",
      "}\n",
      "\n",
      "Request failed with status code: 429\n",
      "Response: {\n",
      "    \"error\": {\n",
      "        \"message\": \"You exceeded your current quota, please check your plan and billing details. For more information on this error, read the docs: https://platform.openai.com/docs/guides/error-codes/api-errors.\",\n",
      "        \"type\": \"insufficient_quota\",\n",
      "        \"param\": null,\n",
      "        \"code\": \"insufficient_quota\"\n",
      "    }\n",
      "}\n",
      "\n"
     ]
    },
    {
     "name": "stderr",
     "output_type": "stream",
     "text": [
      "\n",
      "Processing mushroom.zh-tst.v1.jsonl:  91%|█████████▏| 137/150 [27:41<00:57,  4.40s/entry]\u001B[A"
     ]
    },
    {
     "name": "stdout",
     "output_type": "stream",
     "text": [
      "Request failed with status code: 429\n",
      "Response: {\n",
      "    \"error\": {\n",
      "        \"message\": \"You exceeded your current quota, please check your plan and billing details. For more information on this error, read the docs: https://platform.openai.com/docs/guides/error-codes/api-errors.\",\n",
      "        \"type\": \"insufficient_quota\",\n",
      "        \"param\": null,\n",
      "        \"code\": \"insufficient_quota\"\n",
      "    }\n",
      "}\n",
      "\n",
      "Retry limit exceeded, returning empty result\n",
      "Request failed with status code: 429\n",
      "Response: {\n",
      "    \"error\": {\n",
      "        \"message\": \"You exceeded your current quota, please check your plan and billing details. For more information on this error, read the docs: https://platform.openai.com/docs/guides/error-codes/api-errors.\",\n",
      "        \"type\": \"insufficient_quota\",\n",
      "        \"param\": null,\n",
      "        \"code\": \"insufficient_quota\"\n",
      "    }\n",
      "}\n",
      "\n"
     ]
    },
    {
     "name": "stderr",
     "output_type": "stream",
     "text": [
      "\n",
      "Processing mushroom.zh-tst.v1.jsonl:  92%|█████████▏| 138/150 [27:48<01:02,  5.19s/entry]\u001B[A"
     ]
    },
    {
     "name": "stdout",
     "output_type": "stream",
     "text": [
      "Request failed with status code: 429\n",
      "Response: {\n",
      "    \"error\": {\n",
      "        \"message\": \"You exceeded your current quota, please check your plan and billing details. For more information on this error, read the docs: https://platform.openai.com/docs/guides/error-codes/api-errors.\",\n",
      "        \"type\": \"insufficient_quota\",\n",
      "        \"param\": null,\n",
      "        \"code\": \"insufficient_quota\"\n",
      "    }\n",
      "}\n",
      "\n",
      "Request failed with status code: 429\n",
      "Response: {\n",
      "    \"error\": {\n",
      "        \"message\": \"You exceeded your current quota, please check your plan and billing details. For more information on this error, read the docs: https://platform.openai.com/docs/guides/error-codes/api-errors.\",\n",
      "        \"type\": \"insufficient_quota\",\n",
      "        \"param\": null,\n",
      "        \"code\": \"insufficient_quota\"\n",
      "    }\n",
      "}\n",
      "\n"
     ]
    },
    {
     "name": "stderr",
     "output_type": "stream",
     "text": [
      "\n",
      "Processing mushroom.zh-tst.v1.jsonl:  93%|█████████▎| 139/150 [27:58<01:14,  6.79s/entry]\u001B[A"
     ]
    },
    {
     "name": "stdout",
     "output_type": "stream",
     "text": [
      "Request failed with status code: 429\n",
      "Response: {\n",
      "    \"error\": {\n",
      "        \"message\": \"You exceeded your current quota, please check your plan and billing details. For more information on this error, read the docs: https://platform.openai.com/docs/guides/error-codes/api-errors.\",\n",
      "        \"type\": \"insufficient_quota\",\n",
      "        \"param\": null,\n",
      "        \"code\": \"insufficient_quota\"\n",
      "    }\n",
      "}\n",
      "\n",
      "Request failed with status code: 429\n",
      "Response: {\n",
      "    \"error\": {\n",
      "        \"message\": \"You exceeded your current quota, please check your plan and billing details. For more information on this error, read the docs: https://platform.openai.com/docs/guides/error-codes/api-errors.\",\n",
      "        \"type\": \"insufficient_quota\",\n",
      "        \"param\": null,\n",
      "        \"code\": \"insufficient_quota\"\n",
      "    }\n",
      "}\n",
      "\n"
     ]
    },
    {
     "name": "stderr",
     "output_type": "stream",
     "text": [
      "\n",
      "Processing mushroom.zh-tst.v1.jsonl:  93%|█████████▎| 140/150 [28:02<00:57,  5.72s/entry]\u001B[A"
     ]
    },
    {
     "name": "stdout",
     "output_type": "stream",
     "text": [
      "Request failed with status code: 429\n",
      "Response: {\n",
      "    \"error\": {\n",
      "        \"message\": \"You exceeded your current quota, please check your plan and billing details. For more information on this error, read the docs: https://platform.openai.com/docs/guides/error-codes/api-errors.\",\n",
      "        \"type\": \"insufficient_quota\",\n",
      "        \"param\": null,\n",
      "        \"code\": \"insufficient_quota\"\n",
      "    }\n",
      "}\n",
      "\n",
      "Retry limit exceeded, returning empty result\n",
      "Request failed with status code: 429\n",
      "Response: {\n",
      "    \"error\": {\n",
      "        \"message\": \"You exceeded your current quota, please check your plan and billing details. For more information on this error, read the docs: https://platform.openai.com/docs/guides/error-codes/api-errors.\",\n",
      "        \"type\": \"insufficient_quota\",\n",
      "        \"param\": null,\n",
      "        \"code\": \"insufficient_quota\"\n",
      "    }\n",
      "}\n",
      "\n",
      "Request failed with status code: 429\n",
      "Response: {\n",
      "    \"error\": {\n",
      "        \"message\": \"You exceeded your current quota, please check your plan and billing details. For more information on this error, read the docs: https://platform.openai.com/docs/guides/error-codes/api-errors.\",\n",
      "        \"type\": \"insufficient_quota\",\n",
      "        \"param\": null,\n",
      "        \"code\": \"insufficient_quota\"\n",
      "    }\n",
      "}\n",
      "\n"
     ]
    },
    {
     "name": "stderr",
     "output_type": "stream",
     "text": [
      "\n",
      "Processing mushroom.zh-tst.v1.jsonl:  94%|█████████▍| 141/150 [28:05<00:45,  5.11s/entry]\u001B[A"
     ]
    },
    {
     "name": "stdout",
     "output_type": "stream",
     "text": [
      "Request failed with status code: 429\n",
      "Response: {\n",
      "    \"error\": {\n",
      "        \"message\": \"You exceeded your current quota, please check your plan and billing details. For more information on this error, read the docs: https://platform.openai.com/docs/guides/error-codes/api-errors.\",\n",
      "        \"type\": \"insufficient_quota\",\n",
      "        \"param\": null,\n",
      "        \"code\": \"insufficient_quota\"\n",
      "    }\n",
      "}\n",
      "\n",
      "Retry limit exceeded, returning empty result\n",
      "Request failed with status code: 429\n",
      "Response: {\n",
      "    \"error\": {\n",
      "        \"message\": \"You exceeded your current quota, please check your plan and billing details. For more information on this error, read the docs: https://platform.openai.com/docs/guides/error-codes/api-errors.\",\n",
      "        \"type\": \"insufficient_quota\",\n",
      "        \"param\": null,\n",
      "        \"code\": \"insufficient_quota\"\n",
      "    }\n",
      "}\n",
      "\n"
     ]
    },
    {
     "name": "stderr",
     "output_type": "stream",
     "text": [
      "\n",
      "Processing mushroom.zh-tst.v1.jsonl:  95%|█████████▍| 142/150 [28:21<01:05,  8.16s/entry]\u001B[A"
     ]
    },
    {
     "name": "stdout",
     "output_type": "stream",
     "text": [
      "Request failed with status code: 429\n",
      "Response: {\n",
      "    \"error\": {\n",
      "        \"message\": \"You exceeded your current quota, please check your plan and billing details. For more information on this error, read the docs: https://platform.openai.com/docs/guides/error-codes/api-errors.\",\n",
      "        \"type\": \"insufficient_quota\",\n",
      "        \"param\": null,\n",
      "        \"code\": \"insufficient_quota\"\n",
      "    }\n",
      "}\n",
      "\n",
      "Request failed with status code: 429\n",
      "Response: {\n",
      "    \"error\": {\n",
      "        \"message\": \"You exceeded your current quota, please check your plan and billing details. For more information on this error, read the docs: https://platform.openai.com/docs/guides/error-codes/api-errors.\",\n",
      "        \"type\": \"insufficient_quota\",\n",
      "        \"param\": null,\n",
      "        \"code\": \"insufficient_quota\"\n",
      "    }\n",
      "}\n",
      "\n"
     ]
    },
    {
     "name": "stderr",
     "output_type": "stream",
     "text": [
      "\n",
      "Processing mushroom.zh-tst.v1.jsonl:  95%|█████████▌| 143/150 [28:24<00:47,  6.72s/entry]\u001B[A"
     ]
    },
    {
     "name": "stdout",
     "output_type": "stream",
     "text": [
      "Request failed with status code: 429\n",
      "Response: {\n",
      "    \"error\": {\n",
      "        \"message\": \"You exceeded your current quota, please check your plan and billing details. For more information on this error, read the docs: https://platform.openai.com/docs/guides/error-codes/api-errors.\",\n",
      "        \"type\": \"insufficient_quota\",\n",
      "        \"param\": null,\n",
      "        \"code\": \"insufficient_quota\"\n",
      "    }\n",
      "}\n",
      "\n",
      "Retry limit exceeded, returning empty result\n",
      "Request failed with status code: 429\n",
      "Response: {\n",
      "    \"error\": {\n",
      "        \"message\": \"You exceeded your current quota, please check your plan and billing details. For more information on this error, read the docs: https://platform.openai.com/docs/guides/error-codes/api-errors.\",\n",
      "        \"type\": \"insufficient_quota\",\n",
      "        \"param\": null,\n",
      "        \"code\": \"insufficient_quota\"\n",
      "    }\n",
      "}\n",
      "\n",
      "Request failed with status code: 429\n",
      "Response: {\n",
      "    \"error\": {\n",
      "        \"message\": \"You exceeded your current quota, please check your plan and billing details. For more information on this error, read the docs: https://platform.openai.com/docs/guides/error-codes/api-errors.\",\n",
      "        \"type\": \"insufficient_quota\",\n",
      "        \"param\": null,\n",
      "        \"code\": \"insufficient_quota\"\n",
      "    }\n",
      "}\n",
      "\n"
     ]
    },
    {
     "name": "stderr",
     "output_type": "stream",
     "text": [
      "\n",
      "Processing mushroom.zh-tst.v1.jsonl:  96%|█████████▌| 144/150 [28:27<00:34,  5.67s/entry]\u001B[A"
     ]
    },
    {
     "name": "stdout",
     "output_type": "stream",
     "text": [
      "Request failed with status code: 429\n",
      "Response: {\n",
      "    \"error\": {\n",
      "        \"message\": \"You exceeded your current quota, please check your plan and billing details. For more information on this error, read the docs: https://platform.openai.com/docs/guides/error-codes/api-errors.\",\n",
      "        \"type\": \"insufficient_quota\",\n",
      "        \"param\": null,\n",
      "        \"code\": \"insufficient_quota\"\n",
      "    }\n",
      "}\n",
      "\n",
      "Retry limit exceeded, returning empty result\n",
      "Request failed with status code: 429\n",
      "Response: {\n",
      "    \"error\": {\n",
      "        \"message\": \"You exceeded your current quota, please check your plan and billing details. For more information on this error, read the docs: https://platform.openai.com/docs/guides/error-codes/api-errors.\",\n",
      "        \"type\": \"insufficient_quota\",\n",
      "        \"param\": null,\n",
      "        \"code\": \"insufficient_quota\"\n",
      "    }\n",
      "}\n",
      "\n",
      "Request failed with status code: 429\n",
      "Response: {\n",
      "    \"error\": {\n",
      "        \"message\": \"You exceeded your current quota, please check your plan and billing details. For more information on this error, read the docs: https://platform.openai.com/docs/guides/error-codes/api-errors.\",\n",
      "        \"type\": \"insufficient_quota\",\n",
      "        \"param\": null,\n",
      "        \"code\": \"insufficient_quota\"\n",
      "    }\n",
      "}\n",
      "\n"
     ]
    },
    {
     "name": "stderr",
     "output_type": "stream",
     "text": [
      "\n",
      "Processing mushroom.zh-tst.v1.jsonl:  97%|█████████▋| 145/150 [28:31<00:25,  5.00s/entry]\u001B[A"
     ]
    },
    {
     "name": "stdout",
     "output_type": "stream",
     "text": [
      "Request failed with status code: 429\n",
      "Response: {\n",
      "    \"error\": {\n",
      "        \"message\": \"You exceeded your current quota, please check your plan and billing details. For more information on this error, read the docs: https://platform.openai.com/docs/guides/error-codes/api-errors.\",\n",
      "        \"type\": \"insufficient_quota\",\n",
      "        \"param\": null,\n",
      "        \"code\": \"insufficient_quota\"\n",
      "    }\n",
      "}\n",
      "\n",
      "Retry limit exceeded, returning empty result\n",
      "Request failed with status code: 429\n",
      "Response: {\n",
      "    \"error\": {\n",
      "        \"message\": \"You exceeded your current quota, please check your plan and billing details. For more information on this error, read the docs: https://platform.openai.com/docs/guides/error-codes/api-errors.\",\n",
      "        \"type\": \"insufficient_quota\",\n",
      "        \"param\": null,\n",
      "        \"code\": \"insufficient_quota\"\n",
      "    }\n",
      "}\n",
      "\n",
      "Request failed with status code: 429\n",
      "Response: {\n",
      "    \"error\": {\n",
      "        \"message\": \"You exceeded your current quota, please check your plan and billing details. For more information on this error, read the docs: https://platform.openai.com/docs/guides/error-codes/api-errors.\",\n",
      "        \"type\": \"insufficient_quota\",\n",
      "        \"param\": null,\n",
      "        \"code\": \"insufficient_quota\"\n",
      "    }\n",
      "}\n",
      "\n"
     ]
    },
    {
     "name": "stderr",
     "output_type": "stream",
     "text": [
      "\n",
      "Processing mushroom.zh-tst.v1.jsonl:  97%|█████████▋| 146/150 [28:34<00:17,  4.47s/entry]\u001B[A"
     ]
    },
    {
     "name": "stdout",
     "output_type": "stream",
     "text": [
      "Request failed with status code: 429\n",
      "Response: {\n",
      "    \"error\": {\n",
      "        \"message\": \"You exceeded your current quota, please check your plan and billing details. For more information on this error, read the docs: https://platform.openai.com/docs/guides/error-codes/api-errors.\",\n",
      "        \"type\": \"insufficient_quota\",\n",
      "        \"param\": null,\n",
      "        \"code\": \"insufficient_quota\"\n",
      "    }\n",
      "}\n",
      "\n",
      "Retry limit exceeded, returning empty result\n",
      "Request failed with status code: 429\n",
      "Response: {\n",
      "    \"error\": {\n",
      "        \"message\": \"You exceeded your current quota, please check your plan and billing details. For more information on this error, read the docs: https://platform.openai.com/docs/guides/error-codes/api-errors.\",\n",
      "        \"type\": \"insufficient_quota\",\n",
      "        \"param\": null,\n",
      "        \"code\": \"insufficient_quota\"\n",
      "    }\n",
      "}\n",
      "\n",
      "Request failed with status code: 429\n",
      "Response: {\n",
      "    \"error\": {\n",
      "        \"message\": \"You exceeded your current quota, please check your plan and billing details. For more information on this error, read the docs: https://platform.openai.com/docs/guides/error-codes/api-errors.\",\n",
      "        \"type\": \"insufficient_quota\",\n",
      "        \"param\": null,\n",
      "        \"code\": \"insufficient_quota\"\n",
      "    }\n",
      "}\n",
      "\n"
     ]
    },
    {
     "name": "stderr",
     "output_type": "stream",
     "text": [
      "\n",
      "Processing mushroom.zh-tst.v1.jsonl:  98%|█████████▊| 147/150 [28:37<00:12,  4.13s/entry]\u001B[A"
     ]
    },
    {
     "name": "stdout",
     "output_type": "stream",
     "text": [
      "Request failed with status code: 429\n",
      "Response: {\n",
      "    \"error\": {\n",
      "        \"message\": \"You exceeded your current quota, please check your plan and billing details. For more information on this error, read the docs: https://platform.openai.com/docs/guides/error-codes/api-errors.\",\n",
      "        \"type\": \"insufficient_quota\",\n",
      "        \"param\": null,\n",
      "        \"code\": \"insufficient_quota\"\n",
      "    }\n",
      "}\n",
      "\n",
      "Retry limit exceeded, returning empty result\n",
      "Request failed with status code: 429\n",
      "Response: {\n",
      "    \"error\": {\n",
      "        \"message\": \"You exceeded your current quota, please check your plan and billing details. For more information on this error, read the docs: https://platform.openai.com/docs/guides/error-codes/api-errors.\",\n",
      "        \"type\": \"insufficient_quota\",\n",
      "        \"param\": null,\n",
      "        \"code\": \"insufficient_quota\"\n",
      "    }\n",
      "}\n",
      "\n",
      "Request failed with status code: 429\n",
      "Response: {\n",
      "    \"error\": {\n",
      "        \"message\": \"You exceeded your current quota, please check your plan and billing details. For more information on this error, read the docs: https://platform.openai.com/docs/guides/error-codes/api-errors.\",\n",
      "        \"type\": \"insufficient_quota\",\n",
      "        \"param\": null,\n",
      "        \"code\": \"insufficient_quota\"\n",
      "    }\n",
      "}\n",
      "\n"
     ]
    },
    {
     "name": "stderr",
     "output_type": "stream",
     "text": [
      "\n",
      "Processing mushroom.zh-tst.v1.jsonl:  99%|█████████▊| 148/150 [28:40<00:07,  3.86s/entry]\u001B[A"
     ]
    },
    {
     "name": "stdout",
     "output_type": "stream",
     "text": [
      "Request failed with status code: 429\n",
      "Response: {\n",
      "    \"error\": {\n",
      "        \"message\": \"You exceeded your current quota, please check your plan and billing details. For more information on this error, read the docs: https://platform.openai.com/docs/guides/error-codes/api-errors.\",\n",
      "        \"type\": \"insufficient_quota\",\n",
      "        \"param\": null,\n",
      "        \"code\": \"insufficient_quota\"\n",
      "    }\n",
      "}\n",
      "\n",
      "Retry limit exceeded, returning empty result\n",
      "Request failed with status code: 429\n",
      "Response: {\n",
      "    \"error\": {\n",
      "        \"message\": \"You exceeded your current quota, please check your plan and billing details. For more information on this error, read the docs: https://platform.openai.com/docs/guides/error-codes/api-errors.\",\n",
      "        \"type\": \"insufficient_quota\",\n",
      "        \"param\": null,\n",
      "        \"code\": \"insufficient_quota\"\n",
      "    }\n",
      "}\n",
      "\n",
      "Request failed with status code: 429\n",
      "Response: {\n",
      "    \"error\": {\n",
      "        \"message\": \"You exceeded your current quota, please check your plan and billing details. For more information on this error, read the docs: https://platform.openai.com/docs/guides/error-codes/api-errors.\",\n",
      "        \"type\": \"insufficient_quota\",\n",
      "        \"param\": null,\n",
      "        \"code\": \"insufficient_quota\"\n",
      "    }\n",
      "}\n",
      "\n"
     ]
    },
    {
     "name": "stderr",
     "output_type": "stream",
     "text": [
      "\n",
      "Processing mushroom.zh-tst.v1.jsonl:  99%|█████████▉| 149/150 [28:44<00:03,  3.70s/entry]\u001B[A"
     ]
    },
    {
     "name": "stdout",
     "output_type": "stream",
     "text": [
      "Request failed with status code: 429\n",
      "Response: {\n",
      "    \"error\": {\n",
      "        \"message\": \"You exceeded your current quota, please check your plan and billing details. For more information on this error, read the docs: https://platform.openai.com/docs/guides/error-codes/api-errors.\",\n",
      "        \"type\": \"insufficient_quota\",\n",
      "        \"param\": null,\n",
      "        \"code\": \"insufficient_quota\"\n",
      "    }\n",
      "}\n",
      "\n",
      "Retry limit exceeded, returning empty result\n",
      "Request failed with status code: 429\n",
      "Response: {\n",
      "    \"error\": {\n",
      "        \"message\": \"You exceeded your current quota, please check your plan and billing details. For more information on this error, read the docs: https://platform.openai.com/docs/guides/error-codes/api-errors.\",\n",
      "        \"type\": \"insufficient_quota\",\n",
      "        \"param\": null,\n",
      "        \"code\": \"insufficient_quota\"\n",
      "    }\n",
      "}\n",
      "\n",
      "Request failed with status code: 429\n",
      "Response: {\n",
      "    \"error\": {\n",
      "        \"message\": \"You exceeded your current quota, please check your plan and billing details. For more information on this error, read the docs: https://platform.openai.com/docs/guides/error-codes/api-errors.\",\n",
      "        \"type\": \"insufficient_quota\",\n",
      "        \"param\": null,\n",
      "        \"code\": \"insufficient_quota\"\n",
      "    }\n",
      "}\n",
      "\n"
     ]
    },
    {
     "name": "stderr",
     "output_type": "stream",
     "text": [
      "\n",
      "Processing mushroom.zh-tst.v1.jsonl: 100%|██████████| 150/150 [29:02<00:00,  8.00s/entry]\u001B[A\n",
      "Processing Files:  50%|█████     | 7/14 [1:23:33<1:47:40, 922.99s/file]                  \u001B[A"
     ]
    },
    {
     "name": "stdout",
     "output_type": "stream",
     "text": [
      "Request failed: ('Connection aborted.', RemoteDisconnected('Remote end closed connection without response'))\n",
      "Retry limit exceeded, returning empty result\n",
      "Processed and saved: data/test_detect_gpt4_m2/mushroom.zh-tst.v1.jsonl\n"
     ]
    },
    {
     "name": "stderr",
     "output_type": "stream",
     "text": [
      "\n",
      "Processing mushroom.ca-tst.v1.jsonl:   0%|          | 0/100 [00:00<?, ?entry/s]\u001B[A"
     ]
    },
    {
     "name": "stdout",
     "output_type": "stream",
     "text": [
      "Request failed with status code: 429\n",
      "Response: {\n",
      "    \"error\": {\n",
      "        \"message\": \"You exceeded your current quota, please check your plan and billing details. For more information on this error, read the docs: https://platform.openai.com/docs/guides/error-codes/api-errors.\",\n",
      "        \"type\": \"insufficient_quota\",\n",
      "        \"param\": null,\n",
      "        \"code\": \"insufficient_quota\"\n",
      "    }\n",
      "}\n",
      "\n",
      "Request failed with status code: 429\n",
      "Response: {\n",
      "    \"error\": {\n",
      "        \"message\": \"You exceeded your current quota, please check your plan and billing details. For more information on this error, read the docs: https://platform.openai.com/docs/guides/error-codes/api-errors.\",\n",
      "        \"type\": \"insufficient_quota\",\n",
      "        \"param\": null,\n",
      "        \"code\": \"insufficient_quota\"\n",
      "    }\n",
      "}\n",
      "\n"
     ]
    },
    {
     "name": "stderr",
     "output_type": "stream",
     "text": [
      "\n",
      "Processing mushroom.ca-tst.v1.jsonl:   1%|          | 1/100 [00:03<05:26,  3.30s/entry]\u001B[A"
     ]
    },
    {
     "name": "stdout",
     "output_type": "stream",
     "text": [
      "Request failed with status code: 429\n",
      "Response: {\n",
      "    \"error\": {\n",
      "        \"message\": \"You exceeded your current quota, please check your plan and billing details. For more information on this error, read the docs: https://platform.openai.com/docs/guides/error-codes/api-errors.\",\n",
      "        \"type\": \"insufficient_quota\",\n",
      "        \"param\": null,\n",
      "        \"code\": \"insufficient_quota\"\n",
      "    }\n",
      "}\n",
      "\n",
      "Retry limit exceeded, returning empty result\n",
      "Request failed with status code: 429\n",
      "Response: {\n",
      "    \"error\": {\n",
      "        \"message\": \"You exceeded your current quota, please check your plan and billing details. For more information on this error, read the docs: https://platform.openai.com/docs/guides/error-codes/api-errors.\",\n",
      "        \"type\": \"insufficient_quota\",\n",
      "        \"param\": null,\n",
      "        \"code\": \"insufficient_quota\"\n",
      "    }\n",
      "}\n",
      "\n",
      "Request failed with status code: 429\n",
      "Response: {\n",
      "    \"error\": {\n",
      "        \"message\": \"You exceeded your current quota, please check your plan and billing details. For more information on this error, read the docs: https://platform.openai.com/docs/guides/error-codes/api-errors.\",\n",
      "        \"type\": \"insufficient_quota\",\n",
      "        \"param\": null,\n",
      "        \"code\": \"insufficient_quota\"\n",
      "    }\n",
      "}\n",
      "\n"
     ]
    },
    {
     "name": "stderr",
     "output_type": "stream",
     "text": [
      "\n",
      "Processing mushroom.ca-tst.v1.jsonl:   2%|▏         | 2/100 [00:06<05:22,  3.29s/entry]\u001B[A"
     ]
    },
    {
     "name": "stdout",
     "output_type": "stream",
     "text": [
      "Request failed with status code: 429\n",
      "Response: {\n",
      "    \"error\": {\n",
      "        \"message\": \"You exceeded your current quota, please check your plan and billing details. For more information on this error, read the docs: https://platform.openai.com/docs/guides/error-codes/api-errors.\",\n",
      "        \"type\": \"insufficient_quota\",\n",
      "        \"param\": null,\n",
      "        \"code\": \"insufficient_quota\"\n",
      "    }\n",
      "}\n",
      "\n",
      "Retry limit exceeded, returning empty result\n",
      "Request failed with status code: 429\n",
      "Response: {\n",
      "    \"error\": {\n",
      "        \"message\": \"You exceeded your current quota, please check your plan and billing details. For more information on this error, read the docs: https://platform.openai.com/docs/guides/error-codes/api-errors.\",\n",
      "        \"type\": \"insufficient_quota\",\n",
      "        \"param\": null,\n",
      "        \"code\": \"insufficient_quota\"\n",
      "    }\n",
      "}\n",
      "\n",
      "Request failed with status code: 429\n",
      "Response: {\n",
      "    \"error\": {\n",
      "        \"message\": \"You exceeded your current quota, please check your plan and billing details. For more information on this error, read the docs: https://platform.openai.com/docs/guides/error-codes/api-errors.\",\n",
      "        \"type\": \"insufficient_quota\",\n",
      "        \"param\": null,\n",
      "        \"code\": \"insufficient_quota\"\n",
      "    }\n",
      "}\n",
      "\n"
     ]
    },
    {
     "name": "stderr",
     "output_type": "stream",
     "text": [
      "\n",
      "Processing mushroom.ca-tst.v1.jsonl:   3%|▎         | 3/100 [00:09<05:21,  3.32s/entry]\u001B[A"
     ]
    },
    {
     "name": "stdout",
     "output_type": "stream",
     "text": [
      "Request failed with status code: 429\n",
      "Response: {\n",
      "    \"error\": {\n",
      "        \"message\": \"You exceeded your current quota, please check your plan and billing details. For more information on this error, read the docs: https://platform.openai.com/docs/guides/error-codes/api-errors.\",\n",
      "        \"type\": \"insufficient_quota\",\n",
      "        \"param\": null,\n",
      "        \"code\": \"insufficient_quota\"\n",
      "    }\n",
      "}\n",
      "\n",
      "Retry limit exceeded, returning empty result\n",
      "Request failed with status code: 429\n",
      "Response: {\n",
      "    \"error\": {\n",
      "        \"message\": \"You exceeded your current quota, please check your plan and billing details. For more information on this error, read the docs: https://platform.openai.com/docs/guides/error-codes/api-errors.\",\n",
      "        \"type\": \"insufficient_quota\",\n",
      "        \"param\": null,\n",
      "        \"code\": \"insufficient_quota\"\n",
      "    }\n",
      "}\n",
      "\n",
      "Request failed with status code: 429\n",
      "Response: {\n",
      "    \"error\": {\n",
      "        \"message\": \"You exceeded your current quota, please check your plan and billing details. For more information on this error, read the docs: https://platform.openai.com/docs/guides/error-codes/api-errors.\",\n",
      "        \"type\": \"insufficient_quota\",\n",
      "        \"param\": null,\n",
      "        \"code\": \"insufficient_quota\"\n",
      "    }\n",
      "}\n",
      "\n"
     ]
    },
    {
     "name": "stderr",
     "output_type": "stream",
     "text": [
      "\n",
      "Processing mushroom.ca-tst.v1.jsonl:   4%|▍         | 4/100 [00:13<05:17,  3.31s/entry]\u001B[A"
     ]
    },
    {
     "name": "stdout",
     "output_type": "stream",
     "text": [
      "Request failed with status code: 429\n",
      "Response: {\n",
      "    \"error\": {\n",
      "        \"message\": \"You exceeded your current quota, please check your plan and billing details. For more information on this error, read the docs: https://platform.openai.com/docs/guides/error-codes/api-errors.\",\n",
      "        \"type\": \"insufficient_quota\",\n",
      "        \"param\": null,\n",
      "        \"code\": \"insufficient_quota\"\n",
      "    }\n",
      "}\n",
      "\n",
      "Retry limit exceeded, returning empty result\n",
      "Request failed with status code: 429\n",
      "Response: {\n",
      "    \"error\": {\n",
      "        \"message\": \"You exceeded your current quota, please check your plan and billing details. For more information on this error, read the docs: https://platform.openai.com/docs/guides/error-codes/api-errors.\",\n",
      "        \"type\": \"insufficient_quota\",\n",
      "        \"param\": null,\n",
      "        \"code\": \"insufficient_quota\"\n",
      "    }\n",
      "}\n",
      "\n",
      "Request failed with status code: 429\n",
      "Response: {\n",
      "    \"error\": {\n",
      "        \"message\": \"You exceeded your current quota, please check your plan and billing details. For more information on this error, read the docs: https://platform.openai.com/docs/guides/error-codes/api-errors.\",\n",
      "        \"type\": \"insufficient_quota\",\n",
      "        \"param\": null,\n",
      "        \"code\": \"insufficient_quota\"\n",
      "    }\n",
      "}\n",
      "\n"
     ]
    },
    {
     "name": "stderr",
     "output_type": "stream",
     "text": [
      "\n",
      "Processing mushroom.ca-tst.v1.jsonl:   5%|▌         | 5/100 [00:16<05:14,  3.31s/entry]\u001B[A"
     ]
    },
    {
     "name": "stdout",
     "output_type": "stream",
     "text": [
      "Request failed with status code: 429\n",
      "Response: {\n",
      "    \"error\": {\n",
      "        \"message\": \"You exceeded your current quota, please check your plan and billing details. For more information on this error, read the docs: https://platform.openai.com/docs/guides/error-codes/api-errors.\",\n",
      "        \"type\": \"insufficient_quota\",\n",
      "        \"param\": null,\n",
      "        \"code\": \"insufficient_quota\"\n",
      "    }\n",
      "}\n",
      "\n",
      "Retry limit exceeded, returning empty result\n",
      "Request failed with status code: 429\n",
      "Response: {\n",
      "    \"error\": {\n",
      "        \"message\": \"You exceeded your current quota, please check your plan and billing details. For more information on this error, read the docs: https://platform.openai.com/docs/guides/error-codes/api-errors.\",\n",
      "        \"type\": \"insufficient_quota\",\n",
      "        \"param\": null,\n",
      "        \"code\": \"insufficient_quota\"\n",
      "    }\n",
      "}\n",
      "\n",
      "Request failed with status code: 429\n",
      "Response: {\n",
      "    \"error\": {\n",
      "        \"message\": \"You exceeded your current quota, please check your plan and billing details. For more information on this error, read the docs: https://platform.openai.com/docs/guides/error-codes/api-errors.\",\n",
      "        \"type\": \"insufficient_quota\",\n",
      "        \"param\": null,\n",
      "        \"code\": \"insufficient_quota\"\n",
      "    }\n",
      "}\n",
      "\n"
     ]
    },
    {
     "name": "stderr",
     "output_type": "stream",
     "text": [
      "\n",
      "Processing mushroom.ca-tst.v1.jsonl:   6%|▌         | 6/100 [00:19<05:11,  3.31s/entry]\u001B[A"
     ]
    },
    {
     "name": "stdout",
     "output_type": "stream",
     "text": [
      "Request failed with status code: 429\n",
      "Response: {\n",
      "    \"error\": {\n",
      "        \"message\": \"You exceeded your current quota, please check your plan and billing details. For more information on this error, read the docs: https://platform.openai.com/docs/guides/error-codes/api-errors.\",\n",
      "        \"type\": \"insufficient_quota\",\n",
      "        \"param\": null,\n",
      "        \"code\": \"insufficient_quota\"\n",
      "    }\n",
      "}\n",
      "\n",
      "Retry limit exceeded, returning empty result\n",
      "Request failed with status code: 429\n",
      "Response: {\n",
      "    \"error\": {\n",
      "        \"message\": \"You exceeded your current quota, please check your plan and billing details. For more information on this error, read the docs: https://platform.openai.com/docs/guides/error-codes/api-errors.\",\n",
      "        \"type\": \"insufficient_quota\",\n",
      "        \"param\": null,\n",
      "        \"code\": \"insufficient_quota\"\n",
      "    }\n",
      "}\n",
      "\n",
      "Request failed with status code: 429\n",
      "Response: {\n",
      "    \"error\": {\n",
      "        \"message\": \"You exceeded your current quota, please check your plan and billing details. For more information on this error, read the docs: https://platform.openai.com/docs/guides/error-codes/api-errors.\",\n",
      "        \"type\": \"insufficient_quota\",\n",
      "        \"param\": null,\n",
      "        \"code\": \"insufficient_quota\"\n",
      "    }\n",
      "}\n",
      "\n"
     ]
    },
    {
     "name": "stderr",
     "output_type": "stream",
     "text": [
      "\n",
      "Processing mushroom.ca-tst.v1.jsonl:   7%|▋         | 7/100 [00:23<05:09,  3.33s/entry]\u001B[A"
     ]
    },
    {
     "name": "stdout",
     "output_type": "stream",
     "text": [
      "Request failed with status code: 429\n",
      "Response: {\n",
      "    \"error\": {\n",
      "        \"message\": \"You exceeded your current quota, please check your plan and billing details. For more information on this error, read the docs: https://platform.openai.com/docs/guides/error-codes/api-errors.\",\n",
      "        \"type\": \"insufficient_quota\",\n",
      "        \"param\": null,\n",
      "        \"code\": \"insufficient_quota\"\n",
      "    }\n",
      "}\n",
      "\n",
      "Retry limit exceeded, returning empty result\n",
      "Request failed with status code: 429\n",
      "Response: {\n",
      "    \"error\": {\n",
      "        \"message\": \"You exceeded your current quota, please check your plan and billing details. For more information on this error, read the docs: https://platform.openai.com/docs/guides/error-codes/api-errors.\",\n",
      "        \"type\": \"insufficient_quota\",\n",
      "        \"param\": null,\n",
      "        \"code\": \"insufficient_quota\"\n",
      "    }\n",
      "}\n",
      "\n"
     ]
    },
    {
     "name": "stderr",
     "output_type": "stream",
     "text": [
      "\n",
      "Processing mushroom.ca-tst.v1.jsonl:   8%|▊         | 8/100 [00:26<05:19,  3.47s/entry]\u001B[A"
     ]
    },
    {
     "name": "stdout",
     "output_type": "stream",
     "text": [
      "Request failed with status code: 429\n",
      "Response: {\n",
      "    \"error\": {\n",
      "        \"message\": \"You exceeded your current quota, please check your plan and billing details. For more information on this error, read the docs: https://platform.openai.com/docs/guides/error-codes/api-errors.\",\n",
      "        \"type\": \"insufficient_quota\",\n",
      "        \"param\": null,\n",
      "        \"code\": \"insufficient_quota\"\n",
      "    }\n",
      "}\n",
      "\n",
      "Request failed with status code: 429\n",
      "Response: {\n",
      "    \"error\": {\n",
      "        \"message\": \"You exceeded your current quota, please check your plan and billing details. For more information on this error, read the docs: https://platform.openai.com/docs/guides/error-codes/api-errors.\",\n",
      "        \"type\": \"insufficient_quota\",\n",
      "        \"param\": null,\n",
      "        \"code\": \"insufficient_quota\"\n",
      "    }\n",
      "}\n",
      "\n"
     ]
    },
    {
     "name": "stderr",
     "output_type": "stream",
     "text": [
      "\n",
      "Processing mushroom.ca-tst.v1.jsonl:   9%|▉         | 9/100 [00:30<05:11,  3.42s/entry]\u001B[A"
     ]
    },
    {
     "name": "stdout",
     "output_type": "stream",
     "text": [
      "Request failed with status code: 429\n",
      "Response: {\n",
      "    \"error\": {\n",
      "        \"message\": \"You exceeded your current quota, please check your plan and billing details. For more information on this error, read the docs: https://platform.openai.com/docs/guides/error-codes/api-errors.\",\n",
      "        \"type\": \"insufficient_quota\",\n",
      "        \"param\": null,\n",
      "        \"code\": \"insufficient_quota\"\n",
      "    }\n",
      "}\n",
      "\n",
      "Retry limit exceeded, returning empty result\n",
      "Request failed with status code: 429\n",
      "Response: {\n",
      "    \"error\": {\n",
      "        \"message\": \"You exceeded your current quota, please check your plan and billing details. For more information on this error, read the docs: https://platform.openai.com/docs/guides/error-codes/api-errors.\",\n",
      "        \"type\": \"insufficient_quota\",\n",
      "        \"param\": null,\n",
      "        \"code\": \"insufficient_quota\"\n",
      "    }\n",
      "}\n",
      "\n",
      "Request failed with status code: 429\n",
      "Response: {\n",
      "    \"error\": {\n",
      "        \"message\": \"You exceeded your current quota, please check your plan and billing details. For more information on this error, read the docs: https://platform.openai.com/docs/guides/error-codes/api-errors.\",\n",
      "        \"type\": \"insufficient_quota\",\n",
      "        \"param\": null,\n",
      "        \"code\": \"insufficient_quota\"\n",
      "    }\n",
      "}\n",
      "\n"
     ]
    },
    {
     "name": "stderr",
     "output_type": "stream",
     "text": [
      "\n",
      "Processing mushroom.ca-tst.v1.jsonl:  10%|█         | 10/100 [00:33<05:03,  3.38s/entry]\u001B[A"
     ]
    },
    {
     "name": "stdout",
     "output_type": "stream",
     "text": [
      "Request failed with status code: 429\n",
      "Response: {\n",
      "    \"error\": {\n",
      "        \"message\": \"You exceeded your current quota, please check your plan and billing details. For more information on this error, read the docs: https://platform.openai.com/docs/guides/error-codes/api-errors.\",\n",
      "        \"type\": \"insufficient_quota\",\n",
      "        \"param\": null,\n",
      "        \"code\": \"insufficient_quota\"\n",
      "    }\n",
      "}\n",
      "\n",
      "Retry limit exceeded, returning empty result\n",
      "Request failed with status code: 429\n",
      "Response: {\n",
      "    \"error\": {\n",
      "        \"message\": \"You exceeded your current quota, please check your plan and billing details. For more information on this error, read the docs: https://platform.openai.com/docs/guides/error-codes/api-errors.\",\n",
      "        \"type\": \"insufficient_quota\",\n",
      "        \"param\": null,\n",
      "        \"code\": \"insufficient_quota\"\n",
      "    }\n",
      "}\n",
      "\n",
      "Request failed with status code: 429\n",
      "Response: {\n",
      "    \"error\": {\n",
      "        \"message\": \"You exceeded your current quota, please check your plan and billing details. For more information on this error, read the docs: https://platform.openai.com/docs/guides/error-codes/api-errors.\",\n",
      "        \"type\": \"insufficient_quota\",\n",
      "        \"param\": null,\n",
      "        \"code\": \"insufficient_quota\"\n",
      "    }\n",
      "}\n",
      "\n"
     ]
    },
    {
     "name": "stderr",
     "output_type": "stream",
     "text": [
      "\n",
      "Processing mushroom.ca-tst.v1.jsonl:  11%|█         | 11/100 [00:36<04:57,  3.34s/entry]\u001B[A"
     ]
    },
    {
     "name": "stdout",
     "output_type": "stream",
     "text": [
      "Request failed with status code: 429\n",
      "Response: {\n",
      "    \"error\": {\n",
      "        \"message\": \"You exceeded your current quota, please check your plan and billing details. For more information on this error, read the docs: https://platform.openai.com/docs/guides/error-codes/api-errors.\",\n",
      "        \"type\": \"insufficient_quota\",\n",
      "        \"param\": null,\n",
      "        \"code\": \"insufficient_quota\"\n",
      "    }\n",
      "}\n",
      "\n",
      "Retry limit exceeded, returning empty result\n",
      "Request failed with status code: 429\n",
      "Response: {\n",
      "    \"error\": {\n",
      "        \"message\": \"You exceeded your current quota, please check your plan and billing details. For more information on this error, read the docs: https://platform.openai.com/docs/guides/error-codes/api-errors.\",\n",
      "        \"type\": \"insufficient_quota\",\n",
      "        \"param\": null,\n",
      "        \"code\": \"insufficient_quota\"\n",
      "    }\n",
      "}\n",
      "\n",
      "Request failed with status code: 429\n",
      "Response: {\n",
      "    \"error\": {\n",
      "        \"message\": \"You exceeded your current quota, please check your plan and billing details. For more information on this error, read the docs: https://platform.openai.com/docs/guides/error-codes/api-errors.\",\n",
      "        \"type\": \"insufficient_quota\",\n",
      "        \"param\": null,\n",
      "        \"code\": \"insufficient_quota\"\n",
      "    }\n",
      "}\n",
      "\n"
     ]
    },
    {
     "name": "stderr",
     "output_type": "stream",
     "text": [
      "\n",
      "Processing mushroom.ca-tst.v1.jsonl:  12%|█▏        | 12/100 [00:40<04:57,  3.38s/entry]\u001B[A"
     ]
    },
    {
     "name": "stdout",
     "output_type": "stream",
     "text": [
      "Request failed with status code: 429\n",
      "Response: {\n",
      "    \"error\": {\n",
      "        \"message\": \"You exceeded your current quota, please check your plan and billing details. For more information on this error, read the docs: https://platform.openai.com/docs/guides/error-codes/api-errors.\",\n",
      "        \"type\": \"insufficient_quota\",\n",
      "        \"param\": null,\n",
      "        \"code\": \"insufficient_quota\"\n",
      "    }\n",
      "}\n",
      "\n",
      "Retry limit exceeded, returning empty result\n",
      "Request failed with status code: 429\n",
      "Response: {\n",
      "    \"error\": {\n",
      "        \"message\": \"You exceeded your current quota, please check your plan and billing details. For more information on this error, read the docs: https://platform.openai.com/docs/guides/error-codes/api-errors.\",\n",
      "        \"type\": \"insufficient_quota\",\n",
      "        \"param\": null,\n",
      "        \"code\": \"insufficient_quota\"\n",
      "    }\n",
      "}\n",
      "\n",
      "Request failed with status code: 429\n",
      "Response: {\n",
      "    \"error\": {\n",
      "        \"message\": \"You exceeded your current quota, please check your plan and billing details. For more information on this error, read the docs: https://platform.openai.com/docs/guides/error-codes/api-errors.\",\n",
      "        \"type\": \"insufficient_quota\",\n",
      "        \"param\": null,\n",
      "        \"code\": \"insufficient_quota\"\n",
      "    }\n",
      "}\n",
      "\n"
     ]
    },
    {
     "name": "stderr",
     "output_type": "stream",
     "text": [
      "\n",
      "Processing mushroom.ca-tst.v1.jsonl:  13%|█▎        | 13/100 [00:43<04:50,  3.34s/entry]\u001B[A"
     ]
    },
    {
     "name": "stdout",
     "output_type": "stream",
     "text": [
      "Request failed with status code: 429\n",
      "Response: {\n",
      "    \"error\": {\n",
      "        \"message\": \"You exceeded your current quota, please check your plan and billing details. For more information on this error, read the docs: https://platform.openai.com/docs/guides/error-codes/api-errors.\",\n",
      "        \"type\": \"insufficient_quota\",\n",
      "        \"param\": null,\n",
      "        \"code\": \"insufficient_quota\"\n",
      "    }\n",
      "}\n",
      "\n",
      "Retry limit exceeded, returning empty result\n",
      "Request failed with status code: 429\n",
      "Response: {\n",
      "    \"error\": {\n",
      "        \"message\": \"You exceeded your current quota, please check your plan and billing details. For more information on this error, read the docs: https://platform.openai.com/docs/guides/error-codes/api-errors.\",\n",
      "        \"type\": \"insufficient_quota\",\n",
      "        \"param\": null,\n",
      "        \"code\": \"insufficient_quota\"\n",
      "    }\n",
      "}\n",
      "\n",
      "Request failed with status code: 429\n",
      "Response: {\n",
      "    \"error\": {\n",
      "        \"message\": \"You exceeded your current quota, please check your plan and billing details. For more information on this error, read the docs: https://platform.openai.com/docs/guides/error-codes/api-errors.\",\n",
      "        \"type\": \"insufficient_quota\",\n",
      "        \"param\": null,\n",
      "        \"code\": \"insufficient_quota\"\n",
      "    }\n",
      "}\n",
      "\n"
     ]
    },
    {
     "name": "stderr",
     "output_type": "stream",
     "text": [
      "\n",
      "Processing mushroom.ca-tst.v1.jsonl:  14%|█▍        | 14/100 [00:46<04:46,  3.33s/entry]\u001B[A"
     ]
    },
    {
     "name": "stdout",
     "output_type": "stream",
     "text": [
      "Request failed with status code: 429\n",
      "Response: {\n",
      "    \"error\": {\n",
      "        \"message\": \"You exceeded your current quota, please check your plan and billing details. For more information on this error, read the docs: https://platform.openai.com/docs/guides/error-codes/api-errors.\",\n",
      "        \"type\": \"insufficient_quota\",\n",
      "        \"param\": null,\n",
      "        \"code\": \"insufficient_quota\"\n",
      "    }\n",
      "}\n",
      "\n",
      "Retry limit exceeded, returning empty result\n",
      "Request failed with status code: 429\n",
      "Response: {\n",
      "    \"error\": {\n",
      "        \"message\": \"You exceeded your current quota, please check your plan and billing details. For more information on this error, read the docs: https://platform.openai.com/docs/guides/error-codes/api-errors.\",\n",
      "        \"type\": \"insufficient_quota\",\n",
      "        \"param\": null,\n",
      "        \"code\": \"insufficient_quota\"\n",
      "    }\n",
      "}\n",
      "\n",
      "Request failed with status code: 429\n",
      "Response: {\n",
      "    \"error\": {\n",
      "        \"message\": \"You exceeded your current quota, please check your plan and billing details. For more information on this error, read the docs: https://platform.openai.com/docs/guides/error-codes/api-errors.\",\n",
      "        \"type\": \"insufficient_quota\",\n",
      "        \"param\": null,\n",
      "        \"code\": \"insufficient_quota\"\n",
      "    }\n",
      "}\n",
      "\n"
     ]
    },
    {
     "name": "stderr",
     "output_type": "stream",
     "text": [
      "\n",
      "Processing mushroom.ca-tst.v1.jsonl:  15%|█▌        | 15/100 [00:50<04:41,  3.31s/entry]\u001B[A"
     ]
    },
    {
     "name": "stdout",
     "output_type": "stream",
     "text": [
      "Request failed with status code: 429\n",
      "Response: {\n",
      "    \"error\": {\n",
      "        \"message\": \"You exceeded your current quota, please check your plan and billing details. For more information on this error, read the docs: https://platform.openai.com/docs/guides/error-codes/api-errors.\",\n",
      "        \"type\": \"insufficient_quota\",\n",
      "        \"param\": null,\n",
      "        \"code\": \"insufficient_quota\"\n",
      "    }\n",
      "}\n",
      "\n",
      "Retry limit exceeded, returning empty result\n",
      "Request failed with status code: 429\n",
      "Response: {\n",
      "    \"error\": {\n",
      "        \"message\": \"You exceeded your current quota, please check your plan and billing details. For more information on this error, read the docs: https://platform.openai.com/docs/guides/error-codes/api-errors.\",\n",
      "        \"type\": \"insufficient_quota\",\n",
      "        \"param\": null,\n",
      "        \"code\": \"insufficient_quota\"\n",
      "    }\n",
      "}\n",
      "\n",
      "Request failed with status code: 429\n",
      "Response: {\n",
      "    \"error\": {\n",
      "        \"message\": \"You exceeded your current quota, please check your plan and billing details. For more information on this error, read the docs: https://platform.openai.com/docs/guides/error-codes/api-errors.\",\n",
      "        \"type\": \"insufficient_quota\",\n",
      "        \"param\": null,\n",
      "        \"code\": \"insufficient_quota\"\n",
      "    }\n",
      "}\n",
      "\n"
     ]
    },
    {
     "name": "stderr",
     "output_type": "stream",
     "text": [
      "\n",
      "Processing mushroom.ca-tst.v1.jsonl:  16%|█▌        | 16/100 [00:53<04:38,  3.32s/entry]\u001B[A"
     ]
    },
    {
     "name": "stdout",
     "output_type": "stream",
     "text": [
      "Request failed with status code: 429\n",
      "Response: {\n",
      "    \"error\": {\n",
      "        \"message\": \"You exceeded your current quota, please check your plan and billing details. For more information on this error, read the docs: https://platform.openai.com/docs/guides/error-codes/api-errors.\",\n",
      "        \"type\": \"insufficient_quota\",\n",
      "        \"param\": null,\n",
      "        \"code\": \"insufficient_quota\"\n",
      "    }\n",
      "}\n",
      "\n",
      "Retry limit exceeded, returning empty result\n",
      "Request failed with status code: 429\n",
      "Response: {\n",
      "    \"error\": {\n",
      "        \"message\": \"You exceeded your current quota, please check your plan and billing details. For more information on this error, read the docs: https://platform.openai.com/docs/guides/error-codes/api-errors.\",\n",
      "        \"type\": \"insufficient_quota\",\n",
      "        \"param\": null,\n",
      "        \"code\": \"insufficient_quota\"\n",
      "    }\n",
      "}\n",
      "\n",
      "Request failed with status code: 429\n",
      "Response: {\n",
      "    \"error\": {\n",
      "        \"message\": \"You exceeded your current quota, please check your plan and billing details. For more information on this error, read the docs: https://platform.openai.com/docs/guides/error-codes/api-errors.\",\n",
      "        \"type\": \"insufficient_quota\",\n",
      "        \"param\": null,\n",
      "        \"code\": \"insufficient_quota\"\n",
      "    }\n",
      "}\n",
      "\n"
     ]
    },
    {
     "name": "stderr",
     "output_type": "stream",
     "text": [
      "\n",
      "Processing mushroom.ca-tst.v1.jsonl:  17%|█▋        | 17/100 [00:56<04:36,  3.33s/entry]\u001B[A"
     ]
    },
    {
     "name": "stdout",
     "output_type": "stream",
     "text": [
      "Request failed with status code: 429\n",
      "Response: {\n",
      "    \"error\": {\n",
      "        \"message\": \"You exceeded your current quota, please check your plan and billing details. For more information on this error, read the docs: https://platform.openai.com/docs/guides/error-codes/api-errors.\",\n",
      "        \"type\": \"insufficient_quota\",\n",
      "        \"param\": null,\n",
      "        \"code\": \"insufficient_quota\"\n",
      "    }\n",
      "}\n",
      "\n",
      "Retry limit exceeded, returning empty result\n",
      "Request failed with status code: 429\n",
      "Response: {\n",
      "    \"error\": {\n",
      "        \"message\": \"You exceeded your current quota, please check your plan and billing details. For more information on this error, read the docs: https://platform.openai.com/docs/guides/error-codes/api-errors.\",\n",
      "        \"type\": \"insufficient_quota\",\n",
      "        \"param\": null,\n",
      "        \"code\": \"insufficient_quota\"\n",
      "    }\n",
      "}\n",
      "\n",
      "Request failed with status code: 429\n",
      "Response: {\n",
      "    \"error\": {\n",
      "        \"message\": \"You exceeded your current quota, please check your plan and billing details. For more information on this error, read the docs: https://platform.openai.com/docs/guides/error-codes/api-errors.\",\n",
      "        \"type\": \"insufficient_quota\",\n",
      "        \"param\": null,\n",
      "        \"code\": \"insufficient_quota\"\n",
      "    }\n",
      "}\n",
      "\n"
     ]
    },
    {
     "name": "stderr",
     "output_type": "stream",
     "text": [
      "\n",
      "Processing mushroom.ca-tst.v1.jsonl:  18%|█▊        | 18/100 [01:00<04:33,  3.34s/entry]\u001B[A"
     ]
    },
    {
     "name": "stdout",
     "output_type": "stream",
     "text": [
      "Request failed with status code: 429\n",
      "Response: {\n",
      "    \"error\": {\n",
      "        \"message\": \"You exceeded your current quota, please check your plan and billing details. For more information on this error, read the docs: https://platform.openai.com/docs/guides/error-codes/api-errors.\",\n",
      "        \"type\": \"insufficient_quota\",\n",
      "        \"param\": null,\n",
      "        \"code\": \"insufficient_quota\"\n",
      "    }\n",
      "}\n",
      "\n",
      "Retry limit exceeded, returning empty result\n",
      "Request failed with status code: 429\n",
      "Response: {\n",
      "    \"error\": {\n",
      "        \"message\": \"You exceeded your current quota, please check your plan and billing details. For more information on this error, read the docs: https://platform.openai.com/docs/guides/error-codes/api-errors.\",\n",
      "        \"type\": \"insufficient_quota\",\n",
      "        \"param\": null,\n",
      "        \"code\": \"insufficient_quota\"\n",
      "    }\n",
      "}\n",
      "\n",
      "Request failed with status code: 429\n",
      "Response: {\n",
      "    \"error\": {\n",
      "        \"message\": \"You exceeded your current quota, please check your plan and billing details. For more information on this error, read the docs: https://platform.openai.com/docs/guides/error-codes/api-errors.\",\n",
      "        \"type\": \"insufficient_quota\",\n",
      "        \"param\": null,\n",
      "        \"code\": \"insufficient_quota\"\n",
      "    }\n",
      "}\n",
      "\n"
     ]
    },
    {
     "name": "stderr",
     "output_type": "stream",
     "text": [
      "\n",
      "Processing mushroom.ca-tst.v1.jsonl:  19%|█▉        | 19/100 [01:03<04:28,  3.32s/entry]\u001B[A"
     ]
    },
    {
     "name": "stdout",
     "output_type": "stream",
     "text": [
      "Request failed with status code: 429\n",
      "Response: {\n",
      "    \"error\": {\n",
      "        \"message\": \"You exceeded your current quota, please check your plan and billing details. For more information on this error, read the docs: https://platform.openai.com/docs/guides/error-codes/api-errors.\",\n",
      "        \"type\": \"insufficient_quota\",\n",
      "        \"param\": null,\n",
      "        \"code\": \"insufficient_quota\"\n",
      "    }\n",
      "}\n",
      "\n",
      "Retry limit exceeded, returning empty result\n",
      "Request failed with status code: 429\n",
      "Response: {\n",
      "    \"error\": {\n",
      "        \"message\": \"You exceeded your current quota, please check your plan and billing details. For more information on this error, read the docs: https://platform.openai.com/docs/guides/error-codes/api-errors.\",\n",
      "        \"type\": \"insufficient_quota\",\n",
      "        \"param\": null,\n",
      "        \"code\": \"insufficient_quota\"\n",
      "    }\n",
      "}\n",
      "\n",
      "Request failed with status code: 429\n",
      "Response: {\n",
      "    \"error\": {\n",
      "        \"message\": \"You exceeded your current quota, please check your plan and billing details. For more information on this error, read the docs: https://platform.openai.com/docs/guides/error-codes/api-errors.\",\n",
      "        \"type\": \"insufficient_quota\",\n",
      "        \"param\": null,\n",
      "        \"code\": \"insufficient_quota\"\n",
      "    }\n",
      "}\n",
      "\n"
     ]
    },
    {
     "name": "stderr",
     "output_type": "stream",
     "text": [
      "\n",
      "Processing mushroom.ca-tst.v1.jsonl:  20%|██        | 20/100 [01:06<04:26,  3.33s/entry]\u001B[A"
     ]
    },
    {
     "name": "stdout",
     "output_type": "stream",
     "text": [
      "Request failed with status code: 429\n",
      "Response: {\n",
      "    \"error\": {\n",
      "        \"message\": \"You exceeded your current quota, please check your plan and billing details. For more information on this error, read the docs: https://platform.openai.com/docs/guides/error-codes/api-errors.\",\n",
      "        \"type\": \"insufficient_quota\",\n",
      "        \"param\": null,\n",
      "        \"code\": \"insufficient_quota\"\n",
      "    }\n",
      "}\n",
      "\n",
      "Retry limit exceeded, returning empty result\n",
      "Request failed with status code: 429\n",
      "Response: {\n",
      "    \"error\": {\n",
      "        \"message\": \"You exceeded your current quota, please check your plan and billing details. For more information on this error, read the docs: https://platform.openai.com/docs/guides/error-codes/api-errors.\",\n",
      "        \"type\": \"insufficient_quota\",\n",
      "        \"param\": null,\n",
      "        \"code\": \"insufficient_quota\"\n",
      "    }\n",
      "}\n",
      "\n",
      "Request failed with status code: 429\n",
      "Response: {\n",
      "    \"error\": {\n",
      "        \"message\": \"You exceeded your current quota, please check your plan and billing details. For more information on this error, read the docs: https://platform.openai.com/docs/guides/error-codes/api-errors.\",\n",
      "        \"type\": \"insufficient_quota\",\n",
      "        \"param\": null,\n",
      "        \"code\": \"insufficient_quota\"\n",
      "    }\n",
      "}\n",
      "\n"
     ]
    },
    {
     "name": "stderr",
     "output_type": "stream",
     "text": [
      "\n",
      "Processing mushroom.ca-tst.v1.jsonl:  21%|██        | 21/100 [01:10<04:23,  3.34s/entry]\u001B[A"
     ]
    },
    {
     "name": "stdout",
     "output_type": "stream",
     "text": [
      "Request failed with status code: 429\n",
      "Response: {\n",
      "    \"error\": {\n",
      "        \"message\": \"You exceeded your current quota, please check your plan and billing details. For more information on this error, read the docs: https://platform.openai.com/docs/guides/error-codes/api-errors.\",\n",
      "        \"type\": \"insufficient_quota\",\n",
      "        \"param\": null,\n",
      "        \"code\": \"insufficient_quota\"\n",
      "    }\n",
      "}\n",
      "\n",
      "Retry limit exceeded, returning empty result\n",
      "Request failed with status code: 429\n",
      "Response: {\n",
      "    \"error\": {\n",
      "        \"message\": \"You exceeded your current quota, please check your plan and billing details. For more information on this error, read the docs: https://platform.openai.com/docs/guides/error-codes/api-errors.\",\n",
      "        \"type\": \"insufficient_quota\",\n",
      "        \"param\": null,\n",
      "        \"code\": \"insufficient_quota\"\n",
      "    }\n",
      "}\n",
      "\n",
      "Request failed with status code: 429\n",
      "Response: {\n",
      "    \"error\": {\n",
      "        \"message\": \"You exceeded your current quota, please check your plan and billing details. For more information on this error, read the docs: https://platform.openai.com/docs/guides/error-codes/api-errors.\",\n",
      "        \"type\": \"insufficient_quota\",\n",
      "        \"param\": null,\n",
      "        \"code\": \"insufficient_quota\"\n",
      "    }\n",
      "}\n",
      "\n"
     ]
    },
    {
     "name": "stderr",
     "output_type": "stream",
     "text": [
      "\n",
      "Processing mushroom.ca-tst.v1.jsonl:  22%|██▏       | 22/100 [01:13<04:16,  3.29s/entry]\u001B[A"
     ]
    },
    {
     "name": "stdout",
     "output_type": "stream",
     "text": [
      "Request failed with status code: 429\n",
      "Response: {\n",
      "    \"error\": {\n",
      "        \"message\": \"You exceeded your current quota, please check your plan and billing details. For more information on this error, read the docs: https://platform.openai.com/docs/guides/error-codes/api-errors.\",\n",
      "        \"type\": \"insufficient_quota\",\n",
      "        \"param\": null,\n",
      "        \"code\": \"insufficient_quota\"\n",
      "    }\n",
      "}\n",
      "\n",
      "Retry limit exceeded, returning empty result\n",
      "Request failed with status code: 429\n",
      "Response: {\n",
      "    \"error\": {\n",
      "        \"message\": \"You exceeded your current quota, please check your plan and billing details. For more information on this error, read the docs: https://platform.openai.com/docs/guides/error-codes/api-errors.\",\n",
      "        \"type\": \"insufficient_quota\",\n",
      "        \"param\": null,\n",
      "        \"code\": \"insufficient_quota\"\n",
      "    }\n",
      "}\n",
      "\n",
      "Request failed with status code: 429\n",
      "Response: {\n",
      "    \"error\": {\n",
      "        \"message\": \"You exceeded your current quota, please check your plan and billing details. For more information on this error, read the docs: https://platform.openai.com/docs/guides/error-codes/api-errors.\",\n",
      "        \"type\": \"insufficient_quota\",\n",
      "        \"param\": null,\n",
      "        \"code\": \"insufficient_quota\"\n",
      "    }\n",
      "}\n",
      "\n"
     ]
    },
    {
     "name": "stderr",
     "output_type": "stream",
     "text": [
      "\n",
      "Processing mushroom.ca-tst.v1.jsonl:  23%|██▎       | 23/100 [01:16<04:15,  3.31s/entry]\u001B[A"
     ]
    },
    {
     "name": "stdout",
     "output_type": "stream",
     "text": [
      "Request failed with status code: 429\n",
      "Response: {\n",
      "    \"error\": {\n",
      "        \"message\": \"You exceeded your current quota, please check your plan and billing details. For more information on this error, read the docs: https://platform.openai.com/docs/guides/error-codes/api-errors.\",\n",
      "        \"type\": \"insufficient_quota\",\n",
      "        \"param\": null,\n",
      "        \"code\": \"insufficient_quota\"\n",
      "    }\n",
      "}\n",
      "\n",
      "Retry limit exceeded, returning empty result\n",
      "Request failed with status code: 429\n",
      "Response: {\n",
      "    \"error\": {\n",
      "        \"message\": \"You exceeded your current quota, please check your plan and billing details. For more information on this error, read the docs: https://platform.openai.com/docs/guides/error-codes/api-errors.\",\n",
      "        \"type\": \"insufficient_quota\",\n",
      "        \"param\": null,\n",
      "        \"code\": \"insufficient_quota\"\n",
      "    }\n",
      "}\n",
      "\n",
      "Request failed with status code: 429\n",
      "Response: {\n",
      "    \"error\": {\n",
      "        \"message\": \"You exceeded your current quota, please check your plan and billing details. For more information on this error, read the docs: https://platform.openai.com/docs/guides/error-codes/api-errors.\",\n",
      "        \"type\": \"insufficient_quota\",\n",
      "        \"param\": null,\n",
      "        \"code\": \"insufficient_quota\"\n",
      "    }\n",
      "}\n",
      "\n"
     ]
    },
    {
     "name": "stderr",
     "output_type": "stream",
     "text": [
      "\n",
      "Processing mushroom.ca-tst.v1.jsonl:  24%|██▍       | 24/100 [01:20<04:12,  3.32s/entry]\u001B[A"
     ]
    },
    {
     "name": "stdout",
     "output_type": "stream",
     "text": [
      "Request failed with status code: 429\n",
      "Response: {\n",
      "    \"error\": {\n",
      "        \"message\": \"You exceeded your current quota, please check your plan and billing details. For more information on this error, read the docs: https://platform.openai.com/docs/guides/error-codes/api-errors.\",\n",
      "        \"type\": \"insufficient_quota\",\n",
      "        \"param\": null,\n",
      "        \"code\": \"insufficient_quota\"\n",
      "    }\n",
      "}\n",
      "\n",
      "Retry limit exceeded, returning empty result\n",
      "Request failed with status code: 429\n",
      "Response: {\n",
      "    \"error\": {\n",
      "        \"message\": \"You exceeded your current quota, please check your plan and billing details. For more information on this error, read the docs: https://platform.openai.com/docs/guides/error-codes/api-errors.\",\n",
      "        \"type\": \"insufficient_quota\",\n",
      "        \"param\": null,\n",
      "        \"code\": \"insufficient_quota\"\n",
      "    }\n",
      "}\n",
      "\n",
      "Request failed with status code: 429\n",
      "Response: {\n",
      "    \"error\": {\n",
      "        \"message\": \"You exceeded your current quota, please check your plan and billing details. For more information on this error, read the docs: https://platform.openai.com/docs/guides/error-codes/api-errors.\",\n",
      "        \"type\": \"insufficient_quota\",\n",
      "        \"param\": null,\n",
      "        \"code\": \"insufficient_quota\"\n",
      "    }\n",
      "}\n",
      "\n"
     ]
    },
    {
     "name": "stderr",
     "output_type": "stream",
     "text": [
      "\n",
      "Processing mushroom.ca-tst.v1.jsonl:  25%|██▌       | 25/100 [01:23<04:09,  3.32s/entry]\u001B[A"
     ]
    },
    {
     "name": "stdout",
     "output_type": "stream",
     "text": [
      "Request failed with status code: 429\n",
      "Response: {\n",
      "    \"error\": {\n",
      "        \"message\": \"You exceeded your current quota, please check your plan and billing details. For more information on this error, read the docs: https://platform.openai.com/docs/guides/error-codes/api-errors.\",\n",
      "        \"type\": \"insufficient_quota\",\n",
      "        \"param\": null,\n",
      "        \"code\": \"insufficient_quota\"\n",
      "    }\n",
      "}\n",
      "\n",
      "Retry limit exceeded, returning empty result\n",
      "Request failed with status code: 429\n",
      "Response: {\n",
      "    \"error\": {\n",
      "        \"message\": \"You exceeded your current quota, please check your plan and billing details. For more information on this error, read the docs: https://platform.openai.com/docs/guides/error-codes/api-errors.\",\n",
      "        \"type\": \"insufficient_quota\",\n",
      "        \"param\": null,\n",
      "        \"code\": \"insufficient_quota\"\n",
      "    }\n",
      "}\n",
      "\n",
      "Request failed with status code: 429\n",
      "Response: {\n",
      "    \"error\": {\n",
      "        \"message\": \"You exceeded your current quota, please check your plan and billing details. For more information on this error, read the docs: https://platform.openai.com/docs/guides/error-codes/api-errors.\",\n",
      "        \"type\": \"insufficient_quota\",\n",
      "        \"param\": null,\n",
      "        \"code\": \"insufficient_quota\"\n",
      "    }\n",
      "}\n",
      "\n"
     ]
    },
    {
     "name": "stderr",
     "output_type": "stream",
     "text": [
      "\n",
      "Processing mushroom.ca-tst.v1.jsonl:  26%|██▌       | 26/100 [01:26<04:03,  3.29s/entry]\u001B[A"
     ]
    },
    {
     "name": "stdout",
     "output_type": "stream",
     "text": [
      "Request failed with status code: 429\n",
      "Response: {\n",
      "    \"error\": {\n",
      "        \"message\": \"You exceeded your current quota, please check your plan and billing details. For more information on this error, read the docs: https://platform.openai.com/docs/guides/error-codes/api-errors.\",\n",
      "        \"type\": \"insufficient_quota\",\n",
      "        \"param\": null,\n",
      "        \"code\": \"insufficient_quota\"\n",
      "    }\n",
      "}\n",
      "\n",
      "Retry limit exceeded, returning empty result\n",
      "Request failed with status code: 429\n",
      "Response: {\n",
      "    \"error\": {\n",
      "        \"message\": \"You exceeded your current quota, please check your plan and billing details. For more information on this error, read the docs: https://platform.openai.com/docs/guides/error-codes/api-errors.\",\n",
      "        \"type\": \"insufficient_quota\",\n",
      "        \"param\": null,\n",
      "        \"code\": \"insufficient_quota\"\n",
      "    }\n",
      "}\n",
      "\n",
      "Request failed with status code: 429\n",
      "Response: {\n",
      "    \"error\": {\n",
      "        \"message\": \"You exceeded your current quota, please check your plan and billing details. For more information on this error, read the docs: https://platform.openai.com/docs/guides/error-codes/api-errors.\",\n",
      "        \"type\": \"insufficient_quota\",\n",
      "        \"param\": null,\n",
      "        \"code\": \"insufficient_quota\"\n",
      "    }\n",
      "}\n",
      "\n"
     ]
    },
    {
     "name": "stderr",
     "output_type": "stream",
     "text": [
      "\n",
      "Processing mushroom.ca-tst.v1.jsonl:  27%|██▋       | 27/100 [01:29<03:59,  3.28s/entry]\u001B[A"
     ]
    },
    {
     "name": "stdout",
     "output_type": "stream",
     "text": [
      "Request failed with status code: 429\n",
      "Response: {\n",
      "    \"error\": {\n",
      "        \"message\": \"You exceeded your current quota, please check your plan and billing details. For more information on this error, read the docs: https://platform.openai.com/docs/guides/error-codes/api-errors.\",\n",
      "        \"type\": \"insufficient_quota\",\n",
      "        \"param\": null,\n",
      "        \"code\": \"insufficient_quota\"\n",
      "    }\n",
      "}\n",
      "\n",
      "Retry limit exceeded, returning empty result\n",
      "Request failed with status code: 429\n",
      "Response: {\n",
      "    \"error\": {\n",
      "        \"message\": \"You exceeded your current quota, please check your plan and billing details. For more information on this error, read the docs: https://platform.openai.com/docs/guides/error-codes/api-errors.\",\n",
      "        \"type\": \"insufficient_quota\",\n",
      "        \"param\": null,\n",
      "        \"code\": \"insufficient_quota\"\n",
      "    }\n",
      "}\n",
      "\n",
      "Request failed with status code: 429\n",
      "Response: {\n",
      "    \"error\": {\n",
      "        \"message\": \"You exceeded your current quota, please check your plan and billing details. For more information on this error, read the docs: https://platform.openai.com/docs/guides/error-codes/api-errors.\",\n",
      "        \"type\": \"insufficient_quota\",\n",
      "        \"param\": null,\n",
      "        \"code\": \"insufficient_quota\"\n",
      "    }\n",
      "}\n",
      "\n"
     ]
    },
    {
     "name": "stderr",
     "output_type": "stream",
     "text": [
      "\n",
      "Processing mushroom.ca-tst.v1.jsonl:  28%|██▊       | 28/100 [01:33<03:57,  3.30s/entry]\u001B[A"
     ]
    },
    {
     "name": "stdout",
     "output_type": "stream",
     "text": [
      "Request failed with status code: 429\n",
      "Response: {\n",
      "    \"error\": {\n",
      "        \"message\": \"You exceeded your current quota, please check your plan and billing details. For more information on this error, read the docs: https://platform.openai.com/docs/guides/error-codes/api-errors.\",\n",
      "        \"type\": \"insufficient_quota\",\n",
      "        \"param\": null,\n",
      "        \"code\": \"insufficient_quota\"\n",
      "    }\n",
      "}\n",
      "\n",
      "Retry limit exceeded, returning empty result\n",
      "Request failed with status code: 429\n",
      "Response: {\n",
      "    \"error\": {\n",
      "        \"message\": \"You exceeded your current quota, please check your plan and billing details. For more information on this error, read the docs: https://platform.openai.com/docs/guides/error-codes/api-errors.\",\n",
      "        \"type\": \"insufficient_quota\",\n",
      "        \"param\": null,\n",
      "        \"code\": \"insufficient_quota\"\n",
      "    }\n",
      "}\n",
      "\n",
      "Request failed with status code: 429\n",
      "Response: {\n",
      "    \"error\": {\n",
      "        \"message\": \"You exceeded your current quota, please check your plan and billing details. For more information on this error, read the docs: https://platform.openai.com/docs/guides/error-codes/api-errors.\",\n",
      "        \"type\": \"insufficient_quota\",\n",
      "        \"param\": null,\n",
      "        \"code\": \"insufficient_quota\"\n",
      "    }\n",
      "}\n",
      "\n"
     ]
    },
    {
     "name": "stderr",
     "output_type": "stream",
     "text": [
      "\n",
      "Processing mushroom.ca-tst.v1.jsonl:  29%|██▉       | 29/100 [01:36<03:55,  3.32s/entry]\u001B[A"
     ]
    },
    {
     "name": "stdout",
     "output_type": "stream",
     "text": [
      "Request failed with status code: 429\n",
      "Response: {\n",
      "    \"error\": {\n",
      "        \"message\": \"You exceeded your current quota, please check your plan and billing details. For more information on this error, read the docs: https://platform.openai.com/docs/guides/error-codes/api-errors.\",\n",
      "        \"type\": \"insufficient_quota\",\n",
      "        \"param\": null,\n",
      "        \"code\": \"insufficient_quota\"\n",
      "    }\n",
      "}\n",
      "\n",
      "Retry limit exceeded, returning empty result\n",
      "Request failed with status code: 429\n",
      "Response: {\n",
      "    \"error\": {\n",
      "        \"message\": \"You exceeded your current quota, please check your plan and billing details. For more information on this error, read the docs: https://platform.openai.com/docs/guides/error-codes/api-errors.\",\n",
      "        \"type\": \"insufficient_quota\",\n",
      "        \"param\": null,\n",
      "        \"code\": \"insufficient_quota\"\n",
      "    }\n",
      "}\n",
      "\n",
      "Request failed with status code: 429\n",
      "Response: {\n",
      "    \"error\": {\n",
      "        \"message\": \"You exceeded your current quota, please check your plan and billing details. For more information on this error, read the docs: https://platform.openai.com/docs/guides/error-codes/api-errors.\",\n",
      "        \"type\": \"insufficient_quota\",\n",
      "        \"param\": null,\n",
      "        \"code\": \"insufficient_quota\"\n",
      "    }\n",
      "}\n",
      "\n"
     ]
    },
    {
     "name": "stderr",
     "output_type": "stream",
     "text": [
      "\n",
      "Processing mushroom.ca-tst.v1.jsonl:  30%|███       | 30/100 [01:39<03:53,  3.34s/entry]\u001B[A"
     ]
    },
    {
     "name": "stdout",
     "output_type": "stream",
     "text": [
      "Request failed with status code: 429\n",
      "Response: {\n",
      "    \"error\": {\n",
      "        \"message\": \"You exceeded your current quota, please check your plan and billing details. For more information on this error, read the docs: https://platform.openai.com/docs/guides/error-codes/api-errors.\",\n",
      "        \"type\": \"insufficient_quota\",\n",
      "        \"param\": null,\n",
      "        \"code\": \"insufficient_quota\"\n",
      "    }\n",
      "}\n",
      "\n",
      "Retry limit exceeded, returning empty result\n",
      "Request failed with status code: 429\n",
      "Response: {\n",
      "    \"error\": {\n",
      "        \"message\": \"You exceeded your current quota, please check your plan and billing details. For more information on this error, read the docs: https://platform.openai.com/docs/guides/error-codes/api-errors.\",\n",
      "        \"type\": \"insufficient_quota\",\n",
      "        \"param\": null,\n",
      "        \"code\": \"insufficient_quota\"\n",
      "    }\n",
      "}\n",
      "\n",
      "Request failed with status code: 429\n",
      "Response: {\n",
      "    \"error\": {\n",
      "        \"message\": \"You exceeded your current quota, please check your plan and billing details. For more information on this error, read the docs: https://platform.openai.com/docs/guides/error-codes/api-errors.\",\n",
      "        \"type\": \"insufficient_quota\",\n",
      "        \"param\": null,\n",
      "        \"code\": \"insufficient_quota\"\n",
      "    }\n",
      "}\n",
      "\n"
     ]
    },
    {
     "name": "stderr",
     "output_type": "stream",
     "text": [
      "\n",
      "Processing mushroom.ca-tst.v1.jsonl:  31%|███       | 31/100 [01:43<03:49,  3.33s/entry]\u001B[A"
     ]
    },
    {
     "name": "stdout",
     "output_type": "stream",
     "text": [
      "Request failed with status code: 429\n",
      "Response: {\n",
      "    \"error\": {\n",
      "        \"message\": \"You exceeded your current quota, please check your plan and billing details. For more information on this error, read the docs: https://platform.openai.com/docs/guides/error-codes/api-errors.\",\n",
      "        \"type\": \"insufficient_quota\",\n",
      "        \"param\": null,\n",
      "        \"code\": \"insufficient_quota\"\n",
      "    }\n",
      "}\n",
      "\n",
      "Retry limit exceeded, returning empty result\n",
      "Request failed with status code: 429\n",
      "Response: {\n",
      "    \"error\": {\n",
      "        \"message\": \"You exceeded your current quota, please check your plan and billing details. For more information on this error, read the docs: https://platform.openai.com/docs/guides/error-codes/api-errors.\",\n",
      "        \"type\": \"insufficient_quota\",\n",
      "        \"param\": null,\n",
      "        \"code\": \"insufficient_quota\"\n",
      "    }\n",
      "}\n",
      "\n",
      "Request failed with status code: 429\n",
      "Response: {\n",
      "    \"error\": {\n",
      "        \"message\": \"You exceeded your current quota, please check your plan and billing details. For more information on this error, read the docs: https://platform.openai.com/docs/guides/error-codes/api-errors.\",\n",
      "        \"type\": \"insufficient_quota\",\n",
      "        \"param\": null,\n",
      "        \"code\": \"insufficient_quota\"\n",
      "    }\n",
      "}\n",
      "\n"
     ]
    },
    {
     "name": "stderr",
     "output_type": "stream",
     "text": [
      "\n",
      "Processing mushroom.ca-tst.v1.jsonl:  32%|███▏      | 32/100 [01:46<03:52,  3.41s/entry]\u001B[A"
     ]
    },
    {
     "name": "stdout",
     "output_type": "stream",
     "text": [
      "Request failed with status code: 429\n",
      "Response: {\n",
      "    \"error\": {\n",
      "        \"message\": \"You exceeded your current quota, please check your plan and billing details. For more information on this error, read the docs: https://platform.openai.com/docs/guides/error-codes/api-errors.\",\n",
      "        \"type\": \"insufficient_quota\",\n",
      "        \"param\": null,\n",
      "        \"code\": \"insufficient_quota\"\n",
      "    }\n",
      "}\n",
      "\n",
      "Retry limit exceeded, returning empty result\n",
      "Request failed with status code: 429\n",
      "Response: {\n",
      "    \"error\": {\n",
      "        \"message\": \"You exceeded your current quota, please check your plan and billing details. For more information on this error, read the docs: https://platform.openai.com/docs/guides/error-codes/api-errors.\",\n",
      "        \"type\": \"insufficient_quota\",\n",
      "        \"param\": null,\n",
      "        \"code\": \"insufficient_quota\"\n",
      "    }\n",
      "}\n",
      "\n",
      "Request failed with status code: 429\n",
      "Response: {\n",
      "    \"error\": {\n",
      "        \"message\": \"You exceeded your current quota, please check your plan and billing details. For more information on this error, read the docs: https://platform.openai.com/docs/guides/error-codes/api-errors.\",\n",
      "        \"type\": \"insufficient_quota\",\n",
      "        \"param\": null,\n",
      "        \"code\": \"insufficient_quota\"\n",
      "    }\n",
      "}\n",
      "\n"
     ]
    },
    {
     "name": "stderr",
     "output_type": "stream",
     "text": [
      "\n",
      "Processing mushroom.ca-tst.v1.jsonl:  33%|███▎      | 33/100 [01:50<03:46,  3.38s/entry]\u001B[A"
     ]
    },
    {
     "name": "stdout",
     "output_type": "stream",
     "text": [
      "Request failed with status code: 429\n",
      "Response: {\n",
      "    \"error\": {\n",
      "        \"message\": \"You exceeded your current quota, please check your plan and billing details. For more information on this error, read the docs: https://platform.openai.com/docs/guides/error-codes/api-errors.\",\n",
      "        \"type\": \"insufficient_quota\",\n",
      "        \"param\": null,\n",
      "        \"code\": \"insufficient_quota\"\n",
      "    }\n",
      "}\n",
      "\n",
      "Retry limit exceeded, returning empty result\n",
      "Request failed with status code: 429\n",
      "Response: {\n",
      "    \"error\": {\n",
      "        \"message\": \"You exceeded your current quota, please check your plan and billing details. For more information on this error, read the docs: https://platform.openai.com/docs/guides/error-codes/api-errors.\",\n",
      "        \"type\": \"insufficient_quota\",\n",
      "        \"param\": null,\n",
      "        \"code\": \"insufficient_quota\"\n",
      "    }\n",
      "}\n",
      "\n",
      "Request failed with status code: 429\n",
      "Response: {\n",
      "    \"error\": {\n",
      "        \"message\": \"You exceeded your current quota, please check your plan and billing details. For more information on this error, read the docs: https://platform.openai.com/docs/guides/error-codes/api-errors.\",\n",
      "        \"type\": \"insufficient_quota\",\n",
      "        \"param\": null,\n",
      "        \"code\": \"insufficient_quota\"\n",
      "    }\n",
      "}\n",
      "\n"
     ]
    },
    {
     "name": "stderr",
     "output_type": "stream",
     "text": [
      "\n",
      "Processing mushroom.ca-tst.v1.jsonl:  34%|███▍      | 34/100 [01:53<03:40,  3.34s/entry]\u001B[A"
     ]
    },
    {
     "name": "stdout",
     "output_type": "stream",
     "text": [
      "Request failed with status code: 429\n",
      "Response: {\n",
      "    \"error\": {\n",
      "        \"message\": \"You exceeded your current quota, please check your plan and billing details. For more information on this error, read the docs: https://platform.openai.com/docs/guides/error-codes/api-errors.\",\n",
      "        \"type\": \"insufficient_quota\",\n",
      "        \"param\": null,\n",
      "        \"code\": \"insufficient_quota\"\n",
      "    }\n",
      "}\n",
      "\n",
      "Retry limit exceeded, returning empty result\n",
      "Request failed with status code: 429\n",
      "Response: {\n",
      "    \"error\": {\n",
      "        \"message\": \"You exceeded your current quota, please check your plan and billing details. For more information on this error, read the docs: https://platform.openai.com/docs/guides/error-codes/api-errors.\",\n",
      "        \"type\": \"insufficient_quota\",\n",
      "        \"param\": null,\n",
      "        \"code\": \"insufficient_quota\"\n",
      "    }\n",
      "}\n",
      "\n",
      "Request failed with status code: 429\n",
      "Response: {\n",
      "    \"error\": {\n",
      "        \"message\": \"You exceeded your current quota, please check your plan and billing details. For more information on this error, read the docs: https://platform.openai.com/docs/guides/error-codes/api-errors.\",\n",
      "        \"type\": \"insufficient_quota\",\n",
      "        \"param\": null,\n",
      "        \"code\": \"insufficient_quota\"\n",
      "    }\n",
      "}\n",
      "\n"
     ]
    },
    {
     "name": "stderr",
     "output_type": "stream",
     "text": [
      "\n",
      "Processing mushroom.ca-tst.v1.jsonl:  35%|███▌      | 35/100 [01:56<03:36,  3.33s/entry]\u001B[A"
     ]
    },
    {
     "name": "stdout",
     "output_type": "stream",
     "text": [
      "Request failed with status code: 429\n",
      "Response: {\n",
      "    \"error\": {\n",
      "        \"message\": \"You exceeded your current quota, please check your plan and billing details. For more information on this error, read the docs: https://platform.openai.com/docs/guides/error-codes/api-errors.\",\n",
      "        \"type\": \"insufficient_quota\",\n",
      "        \"param\": null,\n",
      "        \"code\": \"insufficient_quota\"\n",
      "    }\n",
      "}\n",
      "\n",
      "Retry limit exceeded, returning empty result\n",
      "Request failed with status code: 429\n",
      "Response: {\n",
      "    \"error\": {\n",
      "        \"message\": \"You exceeded your current quota, please check your plan and billing details. For more information on this error, read the docs: https://platform.openai.com/docs/guides/error-codes/api-errors.\",\n",
      "        \"type\": \"insufficient_quota\",\n",
      "        \"param\": null,\n",
      "        \"code\": \"insufficient_quota\"\n",
      "    }\n",
      "}\n",
      "\n",
      "Request failed with status code: 429\n",
      "Response: {\n",
      "    \"error\": {\n",
      "        \"message\": \"You exceeded your current quota, please check your plan and billing details. For more information on this error, read the docs: https://platform.openai.com/docs/guides/error-codes/api-errors.\",\n",
      "        \"type\": \"insufficient_quota\",\n",
      "        \"param\": null,\n",
      "        \"code\": \"insufficient_quota\"\n",
      "    }\n",
      "}\n",
      "\n"
     ]
    },
    {
     "name": "stderr",
     "output_type": "stream",
     "text": [
      "\n",
      "Processing mushroom.ca-tst.v1.jsonl:  36%|███▌      | 36/100 [01:59<03:31,  3.30s/entry]\u001B[A"
     ]
    },
    {
     "name": "stdout",
     "output_type": "stream",
     "text": [
      "Request failed with status code: 429\n",
      "Response: {\n",
      "    \"error\": {\n",
      "        \"message\": \"You exceeded your current quota, please check your plan and billing details. For more information on this error, read the docs: https://platform.openai.com/docs/guides/error-codes/api-errors.\",\n",
      "        \"type\": \"insufficient_quota\",\n",
      "        \"param\": null,\n",
      "        \"code\": \"insufficient_quota\"\n",
      "    }\n",
      "}\n",
      "\n",
      "Retry limit exceeded, returning empty result\n",
      "Request failed with status code: 429\n",
      "Response: {\n",
      "    \"error\": {\n",
      "        \"message\": \"You exceeded your current quota, please check your plan and billing details. For more information on this error, read the docs: https://platform.openai.com/docs/guides/error-codes/api-errors.\",\n",
      "        \"type\": \"insufficient_quota\",\n",
      "        \"param\": null,\n",
      "        \"code\": \"insufficient_quota\"\n",
      "    }\n",
      "}\n",
      "\n",
      "Request failed with status code: 429\n",
      "Response: {\n",
      "    \"error\": {\n",
      "        \"message\": \"You exceeded your current quota, please check your plan and billing details. For more information on this error, read the docs: https://platform.openai.com/docs/guides/error-codes/api-errors.\",\n",
      "        \"type\": \"insufficient_quota\",\n",
      "        \"param\": null,\n",
      "        \"code\": \"insufficient_quota\"\n",
      "    }\n",
      "}\n",
      "\n"
     ]
    },
    {
     "name": "stderr",
     "output_type": "stream",
     "text": [
      "\n",
      "Processing mushroom.ca-tst.v1.jsonl:  37%|███▋      | 37/100 [02:03<03:28,  3.32s/entry]\u001B[A"
     ]
    },
    {
     "name": "stdout",
     "output_type": "stream",
     "text": [
      "Request failed with status code: 429\n",
      "Response: {\n",
      "    \"error\": {\n",
      "        \"message\": \"You exceeded your current quota, please check your plan and billing details. For more information on this error, read the docs: https://platform.openai.com/docs/guides/error-codes/api-errors.\",\n",
      "        \"type\": \"insufficient_quota\",\n",
      "        \"param\": null,\n",
      "        \"code\": \"insufficient_quota\"\n",
      "    }\n",
      "}\n",
      "\n",
      "Retry limit exceeded, returning empty result\n",
      "Request failed with status code: 429\n",
      "Response: {\n",
      "    \"error\": {\n",
      "        \"message\": \"You exceeded your current quota, please check your plan and billing details. For more information on this error, read the docs: https://platform.openai.com/docs/guides/error-codes/api-errors.\",\n",
      "        \"type\": \"insufficient_quota\",\n",
      "        \"param\": null,\n",
      "        \"code\": \"insufficient_quota\"\n",
      "    }\n",
      "}\n",
      "\n",
      "Request failed with status code: 429\n",
      "Response: {\n",
      "    \"error\": {\n",
      "        \"message\": \"You exceeded your current quota, please check your plan and billing details. For more information on this error, read the docs: https://platform.openai.com/docs/guides/error-codes/api-errors.\",\n",
      "        \"type\": \"insufficient_quota\",\n",
      "        \"param\": null,\n",
      "        \"code\": \"insufficient_quota\"\n",
      "    }\n",
      "}\n",
      "\n"
     ]
    },
    {
     "name": "stderr",
     "output_type": "stream",
     "text": [
      "\n",
      "Processing mushroom.ca-tst.v1.jsonl:  38%|███▊      | 38/100 [02:06<03:25,  3.31s/entry]\u001B[A"
     ]
    },
    {
     "name": "stdout",
     "output_type": "stream",
     "text": [
      "Request failed with status code: 429\n",
      "Response: {\n",
      "    \"error\": {\n",
      "        \"message\": \"You exceeded your current quota, please check your plan and billing details. For more information on this error, read the docs: https://platform.openai.com/docs/guides/error-codes/api-errors.\",\n",
      "        \"type\": \"insufficient_quota\",\n",
      "        \"param\": null,\n",
      "        \"code\": \"insufficient_quota\"\n",
      "    }\n",
      "}\n",
      "\n",
      "Retry limit exceeded, returning empty result\n",
      "Request failed with status code: 429\n",
      "Response: {\n",
      "    \"error\": {\n",
      "        \"message\": \"You exceeded your current quota, please check your plan and billing details. For more information on this error, read the docs: https://platform.openai.com/docs/guides/error-codes/api-errors.\",\n",
      "        \"type\": \"insufficient_quota\",\n",
      "        \"param\": null,\n",
      "        \"code\": \"insufficient_quota\"\n",
      "    }\n",
      "}\n",
      "\n",
      "Request failed with status code: 429\n",
      "Response: {\n",
      "    \"error\": {\n",
      "        \"message\": \"You exceeded your current quota, please check your plan and billing details. For more information on this error, read the docs: https://platform.openai.com/docs/guides/error-codes/api-errors.\",\n",
      "        \"type\": \"insufficient_quota\",\n",
      "        \"param\": null,\n",
      "        \"code\": \"insufficient_quota\"\n",
      "    }\n",
      "}\n",
      "\n"
     ]
    },
    {
     "name": "stderr",
     "output_type": "stream",
     "text": [
      "\n",
      "Processing mushroom.ca-tst.v1.jsonl:  39%|███▉      | 39/100 [02:09<03:20,  3.29s/entry]\u001B[A"
     ]
    },
    {
     "name": "stdout",
     "output_type": "stream",
     "text": [
      "Request failed with status code: 429\n",
      "Response: {\n",
      "    \"error\": {\n",
      "        \"message\": \"You exceeded your current quota, please check your plan and billing details. For more information on this error, read the docs: https://platform.openai.com/docs/guides/error-codes/api-errors.\",\n",
      "        \"type\": \"insufficient_quota\",\n",
      "        \"param\": null,\n",
      "        \"code\": \"insufficient_quota\"\n",
      "    }\n",
      "}\n",
      "\n",
      "Retry limit exceeded, returning empty result\n",
      "Request failed with status code: 429\n",
      "Response: {\n",
      "    \"error\": {\n",
      "        \"message\": \"You exceeded your current quota, please check your plan and billing details. For more information on this error, read the docs: https://platform.openai.com/docs/guides/error-codes/api-errors.\",\n",
      "        \"type\": \"insufficient_quota\",\n",
      "        \"param\": null,\n",
      "        \"code\": \"insufficient_quota\"\n",
      "    }\n",
      "}\n",
      "\n",
      "Request failed with status code: 429\n",
      "Response: {\n",
      "    \"error\": {\n",
      "        \"message\": \"You exceeded your current quota, please check your plan and billing details. For more information on this error, read the docs: https://platform.openai.com/docs/guides/error-codes/api-errors.\",\n",
      "        \"type\": \"insufficient_quota\",\n",
      "        \"param\": null,\n",
      "        \"code\": \"insufficient_quota\"\n",
      "    }\n",
      "}\n",
      "\n"
     ]
    },
    {
     "name": "stderr",
     "output_type": "stream",
     "text": [
      "\n",
      "Processing mushroom.ca-tst.v1.jsonl:  40%|████      | 40/100 [02:13<03:18,  3.30s/entry]\u001B[A"
     ]
    },
    {
     "name": "stdout",
     "output_type": "stream",
     "text": [
      "Request failed with status code: 429\n",
      "Response: {\n",
      "    \"error\": {\n",
      "        \"message\": \"You exceeded your current quota, please check your plan and billing details. For more information on this error, read the docs: https://platform.openai.com/docs/guides/error-codes/api-errors.\",\n",
      "        \"type\": \"insufficient_quota\",\n",
      "        \"param\": null,\n",
      "        \"code\": \"insufficient_quota\"\n",
      "    }\n",
      "}\n",
      "\n",
      "Retry limit exceeded, returning empty result\n",
      "Request failed with status code: 429\n",
      "Response: {\n",
      "    \"error\": {\n",
      "        \"message\": \"You exceeded your current quota, please check your plan and billing details. For more information on this error, read the docs: https://platform.openai.com/docs/guides/error-codes/api-errors.\",\n",
      "        \"type\": \"insufficient_quota\",\n",
      "        \"param\": null,\n",
      "        \"code\": \"insufficient_quota\"\n",
      "    }\n",
      "}\n",
      "\n",
      "Request failed with status code: 429\n",
      "Response: {\n",
      "    \"error\": {\n",
      "        \"message\": \"You exceeded your current quota, please check your plan and billing details. For more information on this error, read the docs: https://platform.openai.com/docs/guides/error-codes/api-errors.\",\n",
      "        \"type\": \"insufficient_quota\",\n",
      "        \"param\": null,\n",
      "        \"code\": \"insufficient_quota\"\n",
      "    }\n",
      "}\n",
      "\n"
     ]
    },
    {
     "name": "stderr",
     "output_type": "stream",
     "text": [
      "\n",
      "Processing mushroom.ca-tst.v1.jsonl:  41%|████      | 41/100 [02:16<03:15,  3.31s/entry]\u001B[A"
     ]
    },
    {
     "name": "stdout",
     "output_type": "stream",
     "text": [
      "Request failed with status code: 429\n",
      "Response: {\n",
      "    \"error\": {\n",
      "        \"message\": \"You exceeded your current quota, please check your plan and billing details. For more information on this error, read the docs: https://platform.openai.com/docs/guides/error-codes/api-errors.\",\n",
      "        \"type\": \"insufficient_quota\",\n",
      "        \"param\": null,\n",
      "        \"code\": \"insufficient_quota\"\n",
      "    }\n",
      "}\n",
      "\n",
      "Retry limit exceeded, returning empty result\n",
      "Request failed with status code: 429\n",
      "Response: {\n",
      "    \"error\": {\n",
      "        \"message\": \"You exceeded your current quota, please check your plan and billing details. For more information on this error, read the docs: https://platform.openai.com/docs/guides/error-codes/api-errors.\",\n",
      "        \"type\": \"insufficient_quota\",\n",
      "        \"param\": null,\n",
      "        \"code\": \"insufficient_quota\"\n",
      "    }\n",
      "}\n",
      "\n",
      "Request failed with status code: 429\n",
      "Response: {\n",
      "    \"error\": {\n",
      "        \"message\": \"You exceeded your current quota, please check your plan and billing details. For more information on this error, read the docs: https://platform.openai.com/docs/guides/error-codes/api-errors.\",\n",
      "        \"type\": \"insufficient_quota\",\n",
      "        \"param\": null,\n",
      "        \"code\": \"insufficient_quota\"\n",
      "    }\n",
      "}\n",
      "\n"
     ]
    },
    {
     "name": "stderr",
     "output_type": "stream",
     "text": [
      "\n",
      "Processing mushroom.ca-tst.v1.jsonl:  42%|████▏     | 42/100 [02:19<03:13,  3.33s/entry]\u001B[A"
     ]
    },
    {
     "name": "stdout",
     "output_type": "stream",
     "text": [
      "Request failed with status code: 429\n",
      "Response: {\n",
      "    \"error\": {\n",
      "        \"message\": \"You exceeded your current quota, please check your plan and billing details. For more information on this error, read the docs: https://platform.openai.com/docs/guides/error-codes/api-errors.\",\n",
      "        \"type\": \"insufficient_quota\",\n",
      "        \"param\": null,\n",
      "        \"code\": \"insufficient_quota\"\n",
      "    }\n",
      "}\n",
      "\n",
      "Retry limit exceeded, returning empty result\n",
      "Request failed with status code: 429\n",
      "Response: {\n",
      "    \"error\": {\n",
      "        \"message\": \"You exceeded your current quota, please check your plan and billing details. For more information on this error, read the docs: https://platform.openai.com/docs/guides/error-codes/api-errors.\",\n",
      "        \"type\": \"insufficient_quota\",\n",
      "        \"param\": null,\n",
      "        \"code\": \"insufficient_quota\"\n",
      "    }\n",
      "}\n",
      "\n",
      "Request failed with status code: 429\n",
      "Response: {\n",
      "    \"error\": {\n",
      "        \"message\": \"You exceeded your current quota, please check your plan and billing details. For more information on this error, read the docs: https://platform.openai.com/docs/guides/error-codes/api-errors.\",\n",
      "        \"type\": \"insufficient_quota\",\n",
      "        \"param\": null,\n",
      "        \"code\": \"insufficient_quota\"\n",
      "    }\n",
      "}\n",
      "\n"
     ]
    },
    {
     "name": "stderr",
     "output_type": "stream",
     "text": [
      "\n",
      "Processing mushroom.ca-tst.v1.jsonl:  43%|████▎     | 43/100 [02:23<03:08,  3.31s/entry]\u001B[A"
     ]
    },
    {
     "name": "stdout",
     "output_type": "stream",
     "text": [
      "Request failed with status code: 429\n",
      "Response: {\n",
      "    \"error\": {\n",
      "        \"message\": \"You exceeded your current quota, please check your plan and billing details. For more information on this error, read the docs: https://platform.openai.com/docs/guides/error-codes/api-errors.\",\n",
      "        \"type\": \"insufficient_quota\",\n",
      "        \"param\": null,\n",
      "        \"code\": \"insufficient_quota\"\n",
      "    }\n",
      "}\n",
      "\n",
      "Retry limit exceeded, returning empty result\n",
      "Request failed with status code: 429\n",
      "Response: {\n",
      "    \"error\": {\n",
      "        \"message\": \"You exceeded your current quota, please check your plan and billing details. For more information on this error, read the docs: https://platform.openai.com/docs/guides/error-codes/api-errors.\",\n",
      "        \"type\": \"insufficient_quota\",\n",
      "        \"param\": null,\n",
      "        \"code\": \"insufficient_quota\"\n",
      "    }\n",
      "}\n",
      "\n",
      "Request failed with status code: 429\n",
      "Response: {\n",
      "    \"error\": {\n",
      "        \"message\": \"You exceeded your current quota, please check your plan and billing details. For more information on this error, read the docs: https://platform.openai.com/docs/guides/error-codes/api-errors.\",\n",
      "        \"type\": \"insufficient_quota\",\n",
      "        \"param\": null,\n",
      "        \"code\": \"insufficient_quota\"\n",
      "    }\n",
      "}\n",
      "\n"
     ]
    },
    {
     "name": "stderr",
     "output_type": "stream",
     "text": [
      "\n",
      "Processing mushroom.ca-tst.v1.jsonl:  44%|████▍     | 44/100 [02:26<03:02,  3.27s/entry]\u001B[A"
     ]
    },
    {
     "name": "stdout",
     "output_type": "stream",
     "text": [
      "Request failed with status code: 429\n",
      "Response: {\n",
      "    \"error\": {\n",
      "        \"message\": \"You exceeded your current quota, please check your plan and billing details. For more information on this error, read the docs: https://platform.openai.com/docs/guides/error-codes/api-errors.\",\n",
      "        \"type\": \"insufficient_quota\",\n",
      "        \"param\": null,\n",
      "        \"code\": \"insufficient_quota\"\n",
      "    }\n",
      "}\n",
      "\n",
      "Retry limit exceeded, returning empty result\n",
      "Request failed with status code: 429\n",
      "Response: {\n",
      "    \"error\": {\n",
      "        \"message\": \"You exceeded your current quota, please check your plan and billing details. For more information on this error, read the docs: https://platform.openai.com/docs/guides/error-codes/api-errors.\",\n",
      "        \"type\": \"insufficient_quota\",\n",
      "        \"param\": null,\n",
      "        \"code\": \"insufficient_quota\"\n",
      "    }\n",
      "}\n",
      "\n",
      "Request failed with status code: 429\n",
      "Response: {\n",
      "    \"error\": {\n",
      "        \"message\": \"You exceeded your current quota, please check your plan and billing details. For more information on this error, read the docs: https://platform.openai.com/docs/guides/error-codes/api-errors.\",\n",
      "        \"type\": \"insufficient_quota\",\n",
      "        \"param\": null,\n",
      "        \"code\": \"insufficient_quota\"\n",
      "    }\n",
      "}\n",
      "\n"
     ]
    },
    {
     "name": "stderr",
     "output_type": "stream",
     "text": [
      "\n",
      "Processing mushroom.ca-tst.v1.jsonl:  45%|████▌     | 45/100 [02:29<03:00,  3.28s/entry]\u001B[A"
     ]
    },
    {
     "name": "stdout",
     "output_type": "stream",
     "text": [
      "Request failed with status code: 429\n",
      "Response: {\n",
      "    \"error\": {\n",
      "        \"message\": \"You exceeded your current quota, please check your plan and billing details. For more information on this error, read the docs: https://platform.openai.com/docs/guides/error-codes/api-errors.\",\n",
      "        \"type\": \"insufficient_quota\",\n",
      "        \"param\": null,\n",
      "        \"code\": \"insufficient_quota\"\n",
      "    }\n",
      "}\n",
      "\n",
      "Retry limit exceeded, returning empty result\n",
      "Request failed with status code: 429\n",
      "Response: {\n",
      "    \"error\": {\n",
      "        \"message\": \"You exceeded your current quota, please check your plan and billing details. For more information on this error, read the docs: https://platform.openai.com/docs/guides/error-codes/api-errors.\",\n",
      "        \"type\": \"insufficient_quota\",\n",
      "        \"param\": null,\n",
      "        \"code\": \"insufficient_quota\"\n",
      "    }\n",
      "}\n",
      "\n",
      "Request failed with status code: 429\n",
      "Response: {\n",
      "    \"error\": {\n",
      "        \"message\": \"You exceeded your current quota, please check your plan and billing details. For more information on this error, read the docs: https://platform.openai.com/docs/guides/error-codes/api-errors.\",\n",
      "        \"type\": \"insufficient_quota\",\n",
      "        \"param\": null,\n",
      "        \"code\": \"insufficient_quota\"\n",
      "    }\n",
      "}\n",
      "\n"
     ]
    },
    {
     "name": "stderr",
     "output_type": "stream",
     "text": [
      "\n",
      "Processing mushroom.ca-tst.v1.jsonl:  46%|████▌     | 46/100 [02:32<02:56,  3.27s/entry]\u001B[A"
     ]
    },
    {
     "name": "stdout",
     "output_type": "stream",
     "text": [
      "Request failed with status code: 429\n",
      "Response: {\n",
      "    \"error\": {\n",
      "        \"message\": \"You exceeded your current quota, please check your plan and billing details. For more information on this error, read the docs: https://platform.openai.com/docs/guides/error-codes/api-errors.\",\n",
      "        \"type\": \"insufficient_quota\",\n",
      "        \"param\": null,\n",
      "        \"code\": \"insufficient_quota\"\n",
      "    }\n",
      "}\n",
      "\n",
      "Retry limit exceeded, returning empty result\n",
      "Request failed with status code: 429\n",
      "Response: {\n",
      "    \"error\": {\n",
      "        \"message\": \"You exceeded your current quota, please check your plan and billing details. For more information on this error, read the docs: https://platform.openai.com/docs/guides/error-codes/api-errors.\",\n",
      "        \"type\": \"insufficient_quota\",\n",
      "        \"param\": null,\n",
      "        \"code\": \"insufficient_quota\"\n",
      "    }\n",
      "}\n",
      "\n",
      "Request failed with status code: 429\n",
      "Response: {\n",
      "    \"error\": {\n",
      "        \"message\": \"You exceeded your current quota, please check your plan and billing details. For more information on this error, read the docs: https://platform.openai.com/docs/guides/error-codes/api-errors.\",\n",
      "        \"type\": \"insufficient_quota\",\n",
      "        \"param\": null,\n",
      "        \"code\": \"insufficient_quota\"\n",
      "    }\n",
      "}\n",
      "\n"
     ]
    },
    {
     "name": "stderr",
     "output_type": "stream",
     "text": [
      "\n",
      "Processing mushroom.ca-tst.v1.jsonl:  47%|████▋     | 47/100 [02:36<02:54,  3.29s/entry]\u001B[A"
     ]
    },
    {
     "name": "stdout",
     "output_type": "stream",
     "text": [
      "Request failed with status code: 429\n",
      "Response: {\n",
      "    \"error\": {\n",
      "        \"message\": \"You exceeded your current quota, please check your plan and billing details. For more information on this error, read the docs: https://platform.openai.com/docs/guides/error-codes/api-errors.\",\n",
      "        \"type\": \"insufficient_quota\",\n",
      "        \"param\": null,\n",
      "        \"code\": \"insufficient_quota\"\n",
      "    }\n",
      "}\n",
      "\n",
      "Retry limit exceeded, returning empty result\n",
      "Request failed with status code: 429\n",
      "Response: {\n",
      "    \"error\": {\n",
      "        \"message\": \"You exceeded your current quota, please check your plan and billing details. For more information on this error, read the docs: https://platform.openai.com/docs/guides/error-codes/api-errors.\",\n",
      "        \"type\": \"insufficient_quota\",\n",
      "        \"param\": null,\n",
      "        \"code\": \"insufficient_quota\"\n",
      "    }\n",
      "}\n",
      "\n",
      "Request failed with status code: 429\n",
      "Response: {\n",
      "    \"error\": {\n",
      "        \"message\": \"You exceeded your current quota, please check your plan and billing details. For more information on this error, read the docs: https://platform.openai.com/docs/guides/error-codes/api-errors.\",\n",
      "        \"type\": \"insufficient_quota\",\n",
      "        \"param\": null,\n",
      "        \"code\": \"insufficient_quota\"\n",
      "    }\n",
      "}\n",
      "\n"
     ]
    },
    {
     "name": "stderr",
     "output_type": "stream",
     "text": [
      "\n",
      "Processing mushroom.ca-tst.v1.jsonl:  48%|████▊     | 48/100 [02:39<02:51,  3.31s/entry]\u001B[A"
     ]
    },
    {
     "name": "stdout",
     "output_type": "stream",
     "text": [
      "Request failed with status code: 429\n",
      "Response: {\n",
      "    \"error\": {\n",
      "        \"message\": \"You exceeded your current quota, please check your plan and billing details. For more information on this error, read the docs: https://platform.openai.com/docs/guides/error-codes/api-errors.\",\n",
      "        \"type\": \"insufficient_quota\",\n",
      "        \"param\": null,\n",
      "        \"code\": \"insufficient_quota\"\n",
      "    }\n",
      "}\n",
      "\n",
      "Retry limit exceeded, returning empty result\n",
      "Request failed with status code: 429\n",
      "Response: {\n",
      "    \"error\": {\n",
      "        \"message\": \"You exceeded your current quota, please check your plan and billing details. For more information on this error, read the docs: https://platform.openai.com/docs/guides/error-codes/api-errors.\",\n",
      "        \"type\": \"insufficient_quota\",\n",
      "        \"param\": null,\n",
      "        \"code\": \"insufficient_quota\"\n",
      "    }\n",
      "}\n",
      "\n",
      "Request failed with status code: 429\n",
      "Response: {\n",
      "    \"error\": {\n",
      "        \"message\": \"You exceeded your current quota, please check your plan and billing details. For more information on this error, read the docs: https://platform.openai.com/docs/guides/error-codes/api-errors.\",\n",
      "        \"type\": \"insufficient_quota\",\n",
      "        \"param\": null,\n",
      "        \"code\": \"insufficient_quota\"\n",
      "    }\n",
      "}\n",
      "\n"
     ]
    },
    {
     "name": "stderr",
     "output_type": "stream",
     "text": [
      "\n",
      "Processing mushroom.ca-tst.v1.jsonl:  49%|████▉     | 49/100 [02:42<02:49,  3.32s/entry]\u001B[A"
     ]
    },
    {
     "name": "stdout",
     "output_type": "stream",
     "text": [
      "Request failed with status code: 429\n",
      "Response: {\n",
      "    \"error\": {\n",
      "        \"message\": \"You exceeded your current quota, please check your plan and billing details. For more information on this error, read the docs: https://platform.openai.com/docs/guides/error-codes/api-errors.\",\n",
      "        \"type\": \"insufficient_quota\",\n",
      "        \"param\": null,\n",
      "        \"code\": \"insufficient_quota\"\n",
      "    }\n",
      "}\n",
      "\n",
      "Retry limit exceeded, returning empty result\n",
      "Request failed with status code: 429\n",
      "Response: {\n",
      "    \"error\": {\n",
      "        \"message\": \"You exceeded your current quota, please check your plan and billing details. For more information on this error, read the docs: https://platform.openai.com/docs/guides/error-codes/api-errors.\",\n",
      "        \"type\": \"insufficient_quota\",\n",
      "        \"param\": null,\n",
      "        \"code\": \"insufficient_quota\"\n",
      "    }\n",
      "}\n",
      "\n",
      "Request failed with status code: 429\n",
      "Response: {\n",
      "    \"error\": {\n",
      "        \"message\": \"You exceeded your current quota, please check your plan and billing details. For more information on this error, read the docs: https://platform.openai.com/docs/guides/error-codes/api-errors.\",\n",
      "        \"type\": \"insufficient_quota\",\n",
      "        \"param\": null,\n",
      "        \"code\": \"insufficient_quota\"\n",
      "    }\n",
      "}\n",
      "\n"
     ]
    },
    {
     "name": "stderr",
     "output_type": "stream",
     "text": [
      "\n",
      "Processing mushroom.ca-tst.v1.jsonl:  50%|█████     | 50/100 [02:46<02:45,  3.30s/entry]\u001B[A"
     ]
    },
    {
     "name": "stdout",
     "output_type": "stream",
     "text": [
      "Request failed with status code: 429\n",
      "Response: {\n",
      "    \"error\": {\n",
      "        \"message\": \"You exceeded your current quota, please check your plan and billing details. For more information on this error, read the docs: https://platform.openai.com/docs/guides/error-codes/api-errors.\",\n",
      "        \"type\": \"insufficient_quota\",\n",
      "        \"param\": null,\n",
      "        \"code\": \"insufficient_quota\"\n",
      "    }\n",
      "}\n",
      "\n",
      "Retry limit exceeded, returning empty result\n",
      "Request failed with status code: 429\n",
      "Response: {\n",
      "    \"error\": {\n",
      "        \"message\": \"You exceeded your current quota, please check your plan and billing details. For more information on this error, read the docs: https://platform.openai.com/docs/guides/error-codes/api-errors.\",\n",
      "        \"type\": \"insufficient_quota\",\n",
      "        \"param\": null,\n",
      "        \"code\": \"insufficient_quota\"\n",
      "    }\n",
      "}\n",
      "\n",
      "Request failed with status code: 429\n",
      "Response: {\n",
      "    \"error\": {\n",
      "        \"message\": \"You exceeded your current quota, please check your plan and billing details. For more information on this error, read the docs: https://platform.openai.com/docs/guides/error-codes/api-errors.\",\n",
      "        \"type\": \"insufficient_quota\",\n",
      "        \"param\": null,\n",
      "        \"code\": \"insufficient_quota\"\n",
      "    }\n",
      "}\n",
      "\n"
     ]
    },
    {
     "name": "stderr",
     "output_type": "stream",
     "text": [
      "\n",
      "Processing mushroom.ca-tst.v1.jsonl:  51%|█████     | 51/100 [02:49<02:40,  3.28s/entry]\u001B[A"
     ]
    },
    {
     "name": "stdout",
     "output_type": "stream",
     "text": [
      "Request failed with status code: 429\n",
      "Response: {\n",
      "    \"error\": {\n",
      "        \"message\": \"You exceeded your current quota, please check your plan and billing details. For more information on this error, read the docs: https://platform.openai.com/docs/guides/error-codes/api-errors.\",\n",
      "        \"type\": \"insufficient_quota\",\n",
      "        \"param\": null,\n",
      "        \"code\": \"insufficient_quota\"\n",
      "    }\n",
      "}\n",
      "\n",
      "Retry limit exceeded, returning empty result\n",
      "Request failed with status code: 429\n",
      "Response: {\n",
      "    \"error\": {\n",
      "        \"message\": \"You exceeded your current quota, please check your plan and billing details. For more information on this error, read the docs: https://platform.openai.com/docs/guides/error-codes/api-errors.\",\n",
      "        \"type\": \"insufficient_quota\",\n",
      "        \"param\": null,\n",
      "        \"code\": \"insufficient_quota\"\n",
      "    }\n",
      "}\n",
      "\n",
      "Request failed with status code: 429\n",
      "Response: {\n",
      "    \"error\": {\n",
      "        \"message\": \"You exceeded your current quota, please check your plan and billing details. For more information on this error, read the docs: https://platform.openai.com/docs/guides/error-codes/api-errors.\",\n",
      "        \"type\": \"insufficient_quota\",\n",
      "        \"param\": null,\n",
      "        \"code\": \"insufficient_quota\"\n",
      "    }\n",
      "}\n",
      "\n"
     ]
    },
    {
     "name": "stderr",
     "output_type": "stream",
     "text": [
      "\n",
      "Processing mushroom.ca-tst.v1.jsonl:  52%|█████▏    | 52/100 [02:52<02:38,  3.31s/entry]\u001B[A"
     ]
    },
    {
     "name": "stdout",
     "output_type": "stream",
     "text": [
      "Request failed with status code: 429\n",
      "Response: {\n",
      "    \"error\": {\n",
      "        \"message\": \"You exceeded your current quota, please check your plan and billing details. For more information on this error, read the docs: https://platform.openai.com/docs/guides/error-codes/api-errors.\",\n",
      "        \"type\": \"insufficient_quota\",\n",
      "        \"param\": null,\n",
      "        \"code\": \"insufficient_quota\"\n",
      "    }\n",
      "}\n",
      "\n",
      "Retry limit exceeded, returning empty result\n",
      "Request failed with status code: 429\n",
      "Response: {\n",
      "    \"error\": {\n",
      "        \"message\": \"You exceeded your current quota, please check your plan and billing details. For more information on this error, read the docs: https://platform.openai.com/docs/guides/error-codes/api-errors.\",\n",
      "        \"type\": \"insufficient_quota\",\n",
      "        \"param\": null,\n",
      "        \"code\": \"insufficient_quota\"\n",
      "    }\n",
      "}\n",
      "\n",
      "Request failed with status code: 429\n",
      "Response: {\n",
      "    \"error\": {\n",
      "        \"message\": \"You exceeded your current quota, please check your plan and billing details. For more information on this error, read the docs: https://platform.openai.com/docs/guides/error-codes/api-errors.\",\n",
      "        \"type\": \"insufficient_quota\",\n",
      "        \"param\": null,\n",
      "        \"code\": \"insufficient_quota\"\n",
      "    }\n",
      "}\n",
      "\n"
     ]
    },
    {
     "name": "stderr",
     "output_type": "stream",
     "text": [
      "\n",
      "Processing mushroom.ca-tst.v1.jsonl:  53%|█████▎    | 53/100 [02:56<02:34,  3.30s/entry]\u001B[A"
     ]
    },
    {
     "name": "stdout",
     "output_type": "stream",
     "text": [
      "Request failed with status code: 429\n",
      "Response: {\n",
      "    \"error\": {\n",
      "        \"message\": \"You exceeded your current quota, please check your plan and billing details. For more information on this error, read the docs: https://platform.openai.com/docs/guides/error-codes/api-errors.\",\n",
      "        \"type\": \"insufficient_quota\",\n",
      "        \"param\": null,\n",
      "        \"code\": \"insufficient_quota\"\n",
      "    }\n",
      "}\n",
      "\n",
      "Retry limit exceeded, returning empty result\n",
      "Request failed with status code: 429\n",
      "Response: {\n",
      "    \"error\": {\n",
      "        \"message\": \"You exceeded your current quota, please check your plan and billing details. For more information on this error, read the docs: https://platform.openai.com/docs/guides/error-codes/api-errors.\",\n",
      "        \"type\": \"insufficient_quota\",\n",
      "        \"param\": null,\n",
      "        \"code\": \"insufficient_quota\"\n",
      "    }\n",
      "}\n",
      "\n",
      "Request failed with status code: 429\n",
      "Response: {\n",
      "    \"error\": {\n",
      "        \"message\": \"You exceeded your current quota, please check your plan and billing details. For more information on this error, read the docs: https://platform.openai.com/docs/guides/error-codes/api-errors.\",\n",
      "        \"type\": \"insufficient_quota\",\n",
      "        \"param\": null,\n",
      "        \"code\": \"insufficient_quota\"\n",
      "    }\n",
      "}\n",
      "\n"
     ]
    },
    {
     "name": "stderr",
     "output_type": "stream",
     "text": [
      "\n",
      "Processing mushroom.ca-tst.v1.jsonl:  54%|█████▍    | 54/100 [02:59<02:31,  3.29s/entry]\u001B[A"
     ]
    },
    {
     "name": "stdout",
     "output_type": "stream",
     "text": [
      "Request failed with status code: 429\n",
      "Response: {\n",
      "    \"error\": {\n",
      "        \"message\": \"You exceeded your current quota, please check your plan and billing details. For more information on this error, read the docs: https://platform.openai.com/docs/guides/error-codes/api-errors.\",\n",
      "        \"type\": \"insufficient_quota\",\n",
      "        \"param\": null,\n",
      "        \"code\": \"insufficient_quota\"\n",
      "    }\n",
      "}\n",
      "\n",
      "Retry limit exceeded, returning empty result\n",
      "Request failed with status code: 429\n",
      "Response: {\n",
      "    \"error\": {\n",
      "        \"message\": \"You exceeded your current quota, please check your plan and billing details. For more information on this error, read the docs: https://platform.openai.com/docs/guides/error-codes/api-errors.\",\n",
      "        \"type\": \"insufficient_quota\",\n",
      "        \"param\": null,\n",
      "        \"code\": \"insufficient_quota\"\n",
      "    }\n",
      "}\n",
      "\n",
      "Request failed with status code: 429\n",
      "Response: {\n",
      "    \"error\": {\n",
      "        \"message\": \"You exceeded your current quota, please check your plan and billing details. For more information on this error, read the docs: https://platform.openai.com/docs/guides/error-codes/api-errors.\",\n",
      "        \"type\": \"insufficient_quota\",\n",
      "        \"param\": null,\n",
      "        \"code\": \"insufficient_quota\"\n",
      "    }\n",
      "}\n",
      "\n"
     ]
    },
    {
     "name": "stderr",
     "output_type": "stream",
     "text": [
      "\n",
      "Processing mushroom.ca-tst.v1.jsonl:  55%|█████▌    | 55/100 [03:02<02:27,  3.29s/entry]\u001B[A"
     ]
    },
    {
     "name": "stdout",
     "output_type": "stream",
     "text": [
      "Request failed with status code: 429\n",
      "Response: {\n",
      "    \"error\": {\n",
      "        \"message\": \"You exceeded your current quota, please check your plan and billing details. For more information on this error, read the docs: https://platform.openai.com/docs/guides/error-codes/api-errors.\",\n",
      "        \"type\": \"insufficient_quota\",\n",
      "        \"param\": null,\n",
      "        \"code\": \"insufficient_quota\"\n",
      "    }\n",
      "}\n",
      "\n",
      "Retry limit exceeded, returning empty result\n",
      "Request failed with status code: 429\n",
      "Response: {\n",
      "    \"error\": {\n",
      "        \"message\": \"You exceeded your current quota, please check your plan and billing details. For more information on this error, read the docs: https://platform.openai.com/docs/guides/error-codes/api-errors.\",\n",
      "        \"type\": \"insufficient_quota\",\n",
      "        \"param\": null,\n",
      "        \"code\": \"insufficient_quota\"\n",
      "    }\n",
      "}\n",
      "\n",
      "Request failed with status code: 429\n",
      "Response: {\n",
      "    \"error\": {\n",
      "        \"message\": \"You exceeded your current quota, please check your plan and billing details. For more information on this error, read the docs: https://platform.openai.com/docs/guides/error-codes/api-errors.\",\n",
      "        \"type\": \"insufficient_quota\",\n",
      "        \"param\": null,\n",
      "        \"code\": \"insufficient_quota\"\n",
      "    }\n",
      "}\n",
      "\n"
     ]
    },
    {
     "name": "stderr",
     "output_type": "stream",
     "text": [
      "\n",
      "Processing mushroom.ca-tst.v1.jsonl:  56%|█████▌    | 56/100 [03:05<02:25,  3.31s/entry]\u001B[A"
     ]
    },
    {
     "name": "stdout",
     "output_type": "stream",
     "text": [
      "Request failed with status code: 429\n",
      "Response: {\n",
      "    \"error\": {\n",
      "        \"message\": \"You exceeded your current quota, please check your plan and billing details. For more information on this error, read the docs: https://platform.openai.com/docs/guides/error-codes/api-errors.\",\n",
      "        \"type\": \"insufficient_quota\",\n",
      "        \"param\": null,\n",
      "        \"code\": \"insufficient_quota\"\n",
      "    }\n",
      "}\n",
      "\n",
      "Retry limit exceeded, returning empty result\n",
      "Request failed with status code: 429\n",
      "Response: {\n",
      "    \"error\": {\n",
      "        \"message\": \"You exceeded your current quota, please check your plan and billing details. For more information on this error, read the docs: https://platform.openai.com/docs/guides/error-codes/api-errors.\",\n",
      "        \"type\": \"insufficient_quota\",\n",
      "        \"param\": null,\n",
      "        \"code\": \"insufficient_quota\"\n",
      "    }\n",
      "}\n",
      "\n",
      "Request failed with status code: 429\n",
      "Response: {\n",
      "    \"error\": {\n",
      "        \"message\": \"You exceeded your current quota, please check your plan and billing details. For more information on this error, read the docs: https://platform.openai.com/docs/guides/error-codes/api-errors.\",\n",
      "        \"type\": \"insufficient_quota\",\n",
      "        \"param\": null,\n",
      "        \"code\": \"insufficient_quota\"\n",
      "    }\n",
      "}\n",
      "\n"
     ]
    },
    {
     "name": "stderr",
     "output_type": "stream",
     "text": [
      "\n",
      "Processing mushroom.ca-tst.v1.jsonl:  57%|█████▋    | 57/100 [03:09<02:23,  3.33s/entry]\u001B[A"
     ]
    },
    {
     "name": "stdout",
     "output_type": "stream",
     "text": [
      "Request failed with status code: 429\n",
      "Response: {\n",
      "    \"error\": {\n",
      "        \"message\": \"You exceeded your current quota, please check your plan and billing details. For more information on this error, read the docs: https://platform.openai.com/docs/guides/error-codes/api-errors.\",\n",
      "        \"type\": \"insufficient_quota\",\n",
      "        \"param\": null,\n",
      "        \"code\": \"insufficient_quota\"\n",
      "    }\n",
      "}\n",
      "\n",
      "Retry limit exceeded, returning empty result\n",
      "Request failed with status code: 429\n",
      "Response: {\n",
      "    \"error\": {\n",
      "        \"message\": \"You exceeded your current quota, please check your plan and billing details. For more information on this error, read the docs: https://platform.openai.com/docs/guides/error-codes/api-errors.\",\n",
      "        \"type\": \"insufficient_quota\",\n",
      "        \"param\": null,\n",
      "        \"code\": \"insufficient_quota\"\n",
      "    }\n",
      "}\n",
      "\n",
      "Request failed with status code: 429\n",
      "Response: {\n",
      "    \"error\": {\n",
      "        \"message\": \"You exceeded your current quota, please check your plan and billing details. For more information on this error, read the docs: https://platform.openai.com/docs/guides/error-codes/api-errors.\",\n",
      "        \"type\": \"insufficient_quota\",\n",
      "        \"param\": null,\n",
      "        \"code\": \"insufficient_quota\"\n",
      "    }\n",
      "}\n",
      "\n"
     ]
    },
    {
     "name": "stderr",
     "output_type": "stream",
     "text": [
      "\n",
      "Processing mushroom.ca-tst.v1.jsonl:  58%|█████▊    | 58/100 [03:12<02:19,  3.32s/entry]\u001B[A"
     ]
    },
    {
     "name": "stdout",
     "output_type": "stream",
     "text": [
      "Request failed with status code: 429\n",
      "Response: {\n",
      "    \"error\": {\n",
      "        \"message\": \"You exceeded your current quota, please check your plan and billing details. For more information on this error, read the docs: https://platform.openai.com/docs/guides/error-codes/api-errors.\",\n",
      "        \"type\": \"insufficient_quota\",\n",
      "        \"param\": null,\n",
      "        \"code\": \"insufficient_quota\"\n",
      "    }\n",
      "}\n",
      "\n",
      "Retry limit exceeded, returning empty result\n",
      "Request failed with status code: 429\n",
      "Response: {\n",
      "    \"error\": {\n",
      "        \"message\": \"You exceeded your current quota, please check your plan and billing details. For more information on this error, read the docs: https://platform.openai.com/docs/guides/error-codes/api-errors.\",\n",
      "        \"type\": \"insufficient_quota\",\n",
      "        \"param\": null,\n",
      "        \"code\": \"insufficient_quota\"\n",
      "    }\n",
      "}\n",
      "\n",
      "Request failed with status code: 429\n",
      "Response: {\n",
      "    \"error\": {\n",
      "        \"message\": \"You exceeded your current quota, please check your plan and billing details. For more information on this error, read the docs: https://platform.openai.com/docs/guides/error-codes/api-errors.\",\n",
      "        \"type\": \"insufficient_quota\",\n",
      "        \"param\": null,\n",
      "        \"code\": \"insufficient_quota\"\n",
      "    }\n",
      "}\n",
      "\n"
     ]
    },
    {
     "name": "stderr",
     "output_type": "stream",
     "text": [
      "\n",
      "Processing mushroom.ca-tst.v1.jsonl:  59%|█████▉    | 59/100 [03:15<02:16,  3.33s/entry]\u001B[A"
     ]
    },
    {
     "name": "stdout",
     "output_type": "stream",
     "text": [
      "Request failed with status code: 429\n",
      "Response: {\n",
      "    \"error\": {\n",
      "        \"message\": \"You exceeded your current quota, please check your plan and billing details. For more information on this error, read the docs: https://platform.openai.com/docs/guides/error-codes/api-errors.\",\n",
      "        \"type\": \"insufficient_quota\",\n",
      "        \"param\": null,\n",
      "        \"code\": \"insufficient_quota\"\n",
      "    }\n",
      "}\n",
      "\n",
      "Retry limit exceeded, returning empty result\n",
      "Request failed with status code: 429\n",
      "Response: {\n",
      "    \"error\": {\n",
      "        \"message\": \"You exceeded your current quota, please check your plan and billing details. For more information on this error, read the docs: https://platform.openai.com/docs/guides/error-codes/api-errors.\",\n",
      "        \"type\": \"insufficient_quota\",\n",
      "        \"param\": null,\n",
      "        \"code\": \"insufficient_quota\"\n",
      "    }\n",
      "}\n",
      "\n",
      "Request failed with status code: 429\n",
      "Response: {\n",
      "    \"error\": {\n",
      "        \"message\": \"You exceeded your current quota, please check your plan and billing details. For more information on this error, read the docs: https://platform.openai.com/docs/guides/error-codes/api-errors.\",\n",
      "        \"type\": \"insufficient_quota\",\n",
      "        \"param\": null,\n",
      "        \"code\": \"insufficient_quota\"\n",
      "    }\n",
      "}\n",
      "\n"
     ]
    },
    {
     "name": "stderr",
     "output_type": "stream",
     "text": [
      "\n",
      "Processing mushroom.ca-tst.v1.jsonl:  60%|██████    | 60/100 [03:19<02:12,  3.31s/entry]\u001B[A"
     ]
    },
    {
     "name": "stdout",
     "output_type": "stream",
     "text": [
      "Request failed with status code: 429\n",
      "Response: {\n",
      "    \"error\": {\n",
      "        \"message\": \"You exceeded your current quota, please check your plan and billing details. For more information on this error, read the docs: https://platform.openai.com/docs/guides/error-codes/api-errors.\",\n",
      "        \"type\": \"insufficient_quota\",\n",
      "        \"param\": null,\n",
      "        \"code\": \"insufficient_quota\"\n",
      "    }\n",
      "}\n",
      "\n",
      "Retry limit exceeded, returning empty result\n",
      "Request failed with status code: 429\n",
      "Response: {\n",
      "    \"error\": {\n",
      "        \"message\": \"You exceeded your current quota, please check your plan and billing details. For more information on this error, read the docs: https://platform.openai.com/docs/guides/error-codes/api-errors.\",\n",
      "        \"type\": \"insufficient_quota\",\n",
      "        \"param\": null,\n",
      "        \"code\": \"insufficient_quota\"\n",
      "    }\n",
      "}\n",
      "\n",
      "Request failed with status code: 429\n",
      "Response: {\n",
      "    \"error\": {\n",
      "        \"message\": \"You exceeded your current quota, please check your plan and billing details. For more information on this error, read the docs: https://platform.openai.com/docs/guides/error-codes/api-errors.\",\n",
      "        \"type\": \"insufficient_quota\",\n",
      "        \"param\": null,\n",
      "        \"code\": \"insufficient_quota\"\n",
      "    }\n",
      "}\n",
      "\n"
     ]
    },
    {
     "name": "stderr",
     "output_type": "stream",
     "text": [
      "\n",
      "Processing mushroom.ca-tst.v1.jsonl:  61%|██████    | 61/100 [03:22<02:09,  3.32s/entry]\u001B[A"
     ]
    },
    {
     "name": "stdout",
     "output_type": "stream",
     "text": [
      "Request failed with status code: 429\n",
      "Response: {\n",
      "    \"error\": {\n",
      "        \"message\": \"You exceeded your current quota, please check your plan and billing details. For more information on this error, read the docs: https://platform.openai.com/docs/guides/error-codes/api-errors.\",\n",
      "        \"type\": \"insufficient_quota\",\n",
      "        \"param\": null,\n",
      "        \"code\": \"insufficient_quota\"\n",
      "    }\n",
      "}\n",
      "\n",
      "Retry limit exceeded, returning empty result\n",
      "Request failed with status code: 429\n",
      "Response: {\n",
      "    \"error\": {\n",
      "        \"message\": \"You exceeded your current quota, please check your plan and billing details. For more information on this error, read the docs: https://platform.openai.com/docs/guides/error-codes/api-errors.\",\n",
      "        \"type\": \"insufficient_quota\",\n",
      "        \"param\": null,\n",
      "        \"code\": \"insufficient_quota\"\n",
      "    }\n",
      "}\n",
      "\n",
      "Request failed with status code: 429\n",
      "Response: {\n",
      "    \"error\": {\n",
      "        \"message\": \"You exceeded your current quota, please check your plan and billing details. For more information on this error, read the docs: https://platform.openai.com/docs/guides/error-codes/api-errors.\",\n",
      "        \"type\": \"insufficient_quota\",\n",
      "        \"param\": null,\n",
      "        \"code\": \"insufficient_quota\"\n",
      "    }\n",
      "}\n",
      "\n"
     ]
    },
    {
     "name": "stderr",
     "output_type": "stream",
     "text": [
      "\n",
      "Processing mushroom.ca-tst.v1.jsonl:  62%|██████▏   | 62/100 [03:25<02:05,  3.31s/entry]\u001B[A"
     ]
    },
    {
     "name": "stdout",
     "output_type": "stream",
     "text": [
      "Request failed with status code: 429\n",
      "Response: {\n",
      "    \"error\": {\n",
      "        \"message\": \"You exceeded your current quota, please check your plan and billing details. For more information on this error, read the docs: https://platform.openai.com/docs/guides/error-codes/api-errors.\",\n",
      "        \"type\": \"insufficient_quota\",\n",
      "        \"param\": null,\n",
      "        \"code\": \"insufficient_quota\"\n",
      "    }\n",
      "}\n",
      "\n",
      "Retry limit exceeded, returning empty result\n",
      "Request failed with status code: 429\n",
      "Response: {\n",
      "    \"error\": {\n",
      "        \"message\": \"You exceeded your current quota, please check your plan and billing details. For more information on this error, read the docs: https://platform.openai.com/docs/guides/error-codes/api-errors.\",\n",
      "        \"type\": \"insufficient_quota\",\n",
      "        \"param\": null,\n",
      "        \"code\": \"insufficient_quota\"\n",
      "    }\n",
      "}\n",
      "\n",
      "Request failed with status code: 429\n",
      "Response: {\n",
      "    \"error\": {\n",
      "        \"message\": \"You exceeded your current quota, please check your plan and billing details. For more information on this error, read the docs: https://platform.openai.com/docs/guides/error-codes/api-errors.\",\n",
      "        \"type\": \"insufficient_quota\",\n",
      "        \"param\": null,\n",
      "        \"code\": \"insufficient_quota\"\n",
      "    }\n",
      "}\n",
      "\n"
     ]
    },
    {
     "name": "stderr",
     "output_type": "stream",
     "text": [
      "\n",
      "Processing mushroom.ca-tst.v1.jsonl:  63%|██████▎   | 63/100 [03:29<02:02,  3.30s/entry]\u001B[A"
     ]
    },
    {
     "name": "stdout",
     "output_type": "stream",
     "text": [
      "Request failed with status code: 429\n",
      "Response: {\n",
      "    \"error\": {\n",
      "        \"message\": \"You exceeded your current quota, please check your plan and billing details. For more information on this error, read the docs: https://platform.openai.com/docs/guides/error-codes/api-errors.\",\n",
      "        \"type\": \"insufficient_quota\",\n",
      "        \"param\": null,\n",
      "        \"code\": \"insufficient_quota\"\n",
      "    }\n",
      "}\n",
      "\n",
      "Retry limit exceeded, returning empty result\n",
      "Request failed with status code: 429\n",
      "Response: {\n",
      "    \"error\": {\n",
      "        \"message\": \"You exceeded your current quota, please check your plan and billing details. For more information on this error, read the docs: https://platform.openai.com/docs/guides/error-codes/api-errors.\",\n",
      "        \"type\": \"insufficient_quota\",\n",
      "        \"param\": null,\n",
      "        \"code\": \"insufficient_quota\"\n",
      "    }\n",
      "}\n",
      "\n",
      "Request failed with status code: 429\n",
      "Response: {\n",
      "    \"error\": {\n",
      "        \"message\": \"You exceeded your current quota, please check your plan and billing details. For more information on this error, read the docs: https://platform.openai.com/docs/guides/error-codes/api-errors.\",\n",
      "        \"type\": \"insufficient_quota\",\n",
      "        \"param\": null,\n",
      "        \"code\": \"insufficient_quota\"\n",
      "    }\n",
      "}\n",
      "\n"
     ]
    },
    {
     "name": "stderr",
     "output_type": "stream",
     "text": [
      "\n",
      "Processing mushroom.ca-tst.v1.jsonl:  64%|██████▍   | 64/100 [03:32<01:58,  3.30s/entry]\u001B[A"
     ]
    },
    {
     "name": "stdout",
     "output_type": "stream",
     "text": [
      "Request failed with status code: 429\n",
      "Response: {\n",
      "    \"error\": {\n",
      "        \"message\": \"You exceeded your current quota, please check your plan and billing details. For more information on this error, read the docs: https://platform.openai.com/docs/guides/error-codes/api-errors.\",\n",
      "        \"type\": \"insufficient_quota\",\n",
      "        \"param\": null,\n",
      "        \"code\": \"insufficient_quota\"\n",
      "    }\n",
      "}\n",
      "\n",
      "Retry limit exceeded, returning empty result\n",
      "Request failed with status code: 429\n",
      "Response: {\n",
      "    \"error\": {\n",
      "        \"message\": \"You exceeded your current quota, please check your plan and billing details. For more information on this error, read the docs: https://platform.openai.com/docs/guides/error-codes/api-errors.\",\n",
      "        \"type\": \"insufficient_quota\",\n",
      "        \"param\": null,\n",
      "        \"code\": \"insufficient_quota\"\n",
      "    }\n",
      "}\n",
      "\n",
      "Request failed with status code: 429\n",
      "Response: {\n",
      "    \"error\": {\n",
      "        \"message\": \"You exceeded your current quota, please check your plan and billing details. For more information on this error, read the docs: https://platform.openai.com/docs/guides/error-codes/api-errors.\",\n",
      "        \"type\": \"insufficient_quota\",\n",
      "        \"param\": null,\n",
      "        \"code\": \"insufficient_quota\"\n",
      "    }\n",
      "}\n",
      "\n"
     ]
    },
    {
     "name": "stderr",
     "output_type": "stream",
     "text": [
      "\n",
      "Processing mushroom.ca-tst.v1.jsonl:  65%|██████▌   | 65/100 [03:35<01:55,  3.29s/entry]\u001B[A"
     ]
    },
    {
     "name": "stdout",
     "output_type": "stream",
     "text": [
      "Request failed with status code: 429\n",
      "Response: {\n",
      "    \"error\": {\n",
      "        \"message\": \"You exceeded your current quota, please check your plan and billing details. For more information on this error, read the docs: https://platform.openai.com/docs/guides/error-codes/api-errors.\",\n",
      "        \"type\": \"insufficient_quota\",\n",
      "        \"param\": null,\n",
      "        \"code\": \"insufficient_quota\"\n",
      "    }\n",
      "}\n",
      "\n",
      "Retry limit exceeded, returning empty result\n",
      "Request failed with status code: 429\n",
      "Response: {\n",
      "    \"error\": {\n",
      "        \"message\": \"You exceeded your current quota, please check your plan and billing details. For more information on this error, read the docs: https://platform.openai.com/docs/guides/error-codes/api-errors.\",\n",
      "        \"type\": \"insufficient_quota\",\n",
      "        \"param\": null,\n",
      "        \"code\": \"insufficient_quota\"\n",
      "    }\n",
      "}\n",
      "\n",
      "Request failed with status code: 429\n",
      "Response: {\n",
      "    \"error\": {\n",
      "        \"message\": \"You exceeded your current quota, please check your plan and billing details. For more information on this error, read the docs: https://platform.openai.com/docs/guides/error-codes/api-errors.\",\n",
      "        \"type\": \"insufficient_quota\",\n",
      "        \"param\": null,\n",
      "        \"code\": \"insufficient_quota\"\n",
      "    }\n",
      "}\n",
      "\n"
     ]
    },
    {
     "name": "stderr",
     "output_type": "stream",
     "text": [
      "\n",
      "Processing mushroom.ca-tst.v1.jsonl:  66%|██████▌   | 66/100 [03:38<01:51,  3.29s/entry]\u001B[A"
     ]
    },
    {
     "name": "stdout",
     "output_type": "stream",
     "text": [
      "Request failed with status code: 429\n",
      "Response: {\n",
      "    \"error\": {\n",
      "        \"message\": \"You exceeded your current quota, please check your plan and billing details. For more information on this error, read the docs: https://platform.openai.com/docs/guides/error-codes/api-errors.\",\n",
      "        \"type\": \"insufficient_quota\",\n",
      "        \"param\": null,\n",
      "        \"code\": \"insufficient_quota\"\n",
      "    }\n",
      "}\n",
      "\n",
      "Retry limit exceeded, returning empty result\n",
      "Request failed with status code: 429\n",
      "Response: {\n",
      "    \"error\": {\n",
      "        \"message\": \"You exceeded your current quota, please check your plan and billing details. For more information on this error, read the docs: https://platform.openai.com/docs/guides/error-codes/api-errors.\",\n",
      "        \"type\": \"insufficient_quota\",\n",
      "        \"param\": null,\n",
      "        \"code\": \"insufficient_quota\"\n",
      "    }\n",
      "}\n",
      "\n",
      "Request failed with status code: 429\n",
      "Response: {\n",
      "    \"error\": {\n",
      "        \"message\": \"You exceeded your current quota, please check your plan and billing details. For more information on this error, read the docs: https://platform.openai.com/docs/guides/error-codes/api-errors.\",\n",
      "        \"type\": \"insufficient_quota\",\n",
      "        \"param\": null,\n",
      "        \"code\": \"insufficient_quota\"\n",
      "    }\n",
      "}\n",
      "\n"
     ]
    },
    {
     "name": "stderr",
     "output_type": "stream",
     "text": [
      "\n",
      "Processing mushroom.ca-tst.v1.jsonl:  67%|██████▋   | 67/100 [03:42<01:48,  3.29s/entry]\u001B[A"
     ]
    },
    {
     "name": "stdout",
     "output_type": "stream",
     "text": [
      "Request failed with status code: 429\n",
      "Response: {\n",
      "    \"error\": {\n",
      "        \"message\": \"You exceeded your current quota, please check your plan and billing details. For more information on this error, read the docs: https://platform.openai.com/docs/guides/error-codes/api-errors.\",\n",
      "        \"type\": \"insufficient_quota\",\n",
      "        \"param\": null,\n",
      "        \"code\": \"insufficient_quota\"\n",
      "    }\n",
      "}\n",
      "\n",
      "Retry limit exceeded, returning empty result\n",
      "Request failed with status code: 429\n",
      "Response: {\n",
      "    \"error\": {\n",
      "        \"message\": \"You exceeded your current quota, please check your plan and billing details. For more information on this error, read the docs: https://platform.openai.com/docs/guides/error-codes/api-errors.\",\n",
      "        \"type\": \"insufficient_quota\",\n",
      "        \"param\": null,\n",
      "        \"code\": \"insufficient_quota\"\n",
      "    }\n",
      "}\n",
      "\n",
      "Request failed with status code: 429\n",
      "Response: {\n",
      "    \"error\": {\n",
      "        \"message\": \"You exceeded your current quota, please check your plan and billing details. For more information on this error, read the docs: https://platform.openai.com/docs/guides/error-codes/api-errors.\",\n",
      "        \"type\": \"insufficient_quota\",\n",
      "        \"param\": null,\n",
      "        \"code\": \"insufficient_quota\"\n",
      "    }\n",
      "}\n",
      "\n"
     ]
    },
    {
     "name": "stderr",
     "output_type": "stream",
     "text": [
      "\n",
      "Processing mushroom.ca-tst.v1.jsonl:  68%|██████▊   | 68/100 [03:45<01:44,  3.27s/entry]\u001B[A"
     ]
    },
    {
     "name": "stdout",
     "output_type": "stream",
     "text": [
      "Request failed with status code: 429\n",
      "Response: {\n",
      "    \"error\": {\n",
      "        \"message\": \"You exceeded your current quota, please check your plan and billing details. For more information on this error, read the docs: https://platform.openai.com/docs/guides/error-codes/api-errors.\",\n",
      "        \"type\": \"insufficient_quota\",\n",
      "        \"param\": null,\n",
      "        \"code\": \"insufficient_quota\"\n",
      "    }\n",
      "}\n",
      "\n",
      "Retry limit exceeded, returning empty result\n",
      "Request failed with status code: 429\n",
      "Response: {\n",
      "    \"error\": {\n",
      "        \"message\": \"You exceeded your current quota, please check your plan and billing details. For more information on this error, read the docs: https://platform.openai.com/docs/guides/error-codes/api-errors.\",\n",
      "        \"type\": \"insufficient_quota\",\n",
      "        \"param\": null,\n",
      "        \"code\": \"insufficient_quota\"\n",
      "    }\n",
      "}\n",
      "\n",
      "Request failed with status code: 429\n",
      "Response: {\n",
      "    \"error\": {\n",
      "        \"message\": \"You exceeded your current quota, please check your plan and billing details. For more information on this error, read the docs: https://platform.openai.com/docs/guides/error-codes/api-errors.\",\n",
      "        \"type\": \"insufficient_quota\",\n",
      "        \"param\": null,\n",
      "        \"code\": \"insufficient_quota\"\n",
      "    }\n",
      "}\n",
      "\n"
     ]
    },
    {
     "name": "stderr",
     "output_type": "stream",
     "text": [
      "\n",
      "Processing mushroom.ca-tst.v1.jsonl:  69%|██████▉   | 69/100 [03:48<01:41,  3.28s/entry]\u001B[A"
     ]
    },
    {
     "name": "stdout",
     "output_type": "stream",
     "text": [
      "Request failed with status code: 429\n",
      "Response: {\n",
      "    \"error\": {\n",
      "        \"message\": \"You exceeded your current quota, please check your plan and billing details. For more information on this error, read the docs: https://platform.openai.com/docs/guides/error-codes/api-errors.\",\n",
      "        \"type\": \"insufficient_quota\",\n",
      "        \"param\": null,\n",
      "        \"code\": \"insufficient_quota\"\n",
      "    }\n",
      "}\n",
      "\n",
      "Retry limit exceeded, returning empty result\n",
      "Request failed with status code: 429\n",
      "Response: {\n",
      "    \"error\": {\n",
      "        \"message\": \"You exceeded your current quota, please check your plan and billing details. For more information on this error, read the docs: https://platform.openai.com/docs/guides/error-codes/api-errors.\",\n",
      "        \"type\": \"insufficient_quota\",\n",
      "        \"param\": null,\n",
      "        \"code\": \"insufficient_quota\"\n",
      "    }\n",
      "}\n",
      "\n",
      "Request failed with status code: 429\n",
      "Response: {\n",
      "    \"error\": {\n",
      "        \"message\": \"You exceeded your current quota, please check your plan and billing details. For more information on this error, read the docs: https://platform.openai.com/docs/guides/error-codes/api-errors.\",\n",
      "        \"type\": \"insufficient_quota\",\n",
      "        \"param\": null,\n",
      "        \"code\": \"insufficient_quota\"\n",
      "    }\n",
      "}\n",
      "\n"
     ]
    },
    {
     "name": "stderr",
     "output_type": "stream",
     "text": [
      "\n",
      "Processing mushroom.ca-tst.v1.jsonl:  70%|███████   | 70/100 [03:52<01:38,  3.28s/entry]\u001B[A"
     ]
    },
    {
     "name": "stdout",
     "output_type": "stream",
     "text": [
      "Request failed with status code: 429\n",
      "Response: {\n",
      "    \"error\": {\n",
      "        \"message\": \"You exceeded your current quota, please check your plan and billing details. For more information on this error, read the docs: https://platform.openai.com/docs/guides/error-codes/api-errors.\",\n",
      "        \"type\": \"insufficient_quota\",\n",
      "        \"param\": null,\n",
      "        \"code\": \"insufficient_quota\"\n",
      "    }\n",
      "}\n",
      "\n",
      "Retry limit exceeded, returning empty result\n",
      "Request failed with status code: 429\n",
      "Response: {\n",
      "    \"error\": {\n",
      "        \"message\": \"You exceeded your current quota, please check your plan and billing details. For more information on this error, read the docs: https://platform.openai.com/docs/guides/error-codes/api-errors.\",\n",
      "        \"type\": \"insufficient_quota\",\n",
      "        \"param\": null,\n",
      "        \"code\": \"insufficient_quota\"\n",
      "    }\n",
      "}\n",
      "\n",
      "Request failed with status code: 429\n",
      "Response: {\n",
      "    \"error\": {\n",
      "        \"message\": \"You exceeded your current quota, please check your plan and billing details. For more information on this error, read the docs: https://platform.openai.com/docs/guides/error-codes/api-errors.\",\n",
      "        \"type\": \"insufficient_quota\",\n",
      "        \"param\": null,\n",
      "        \"code\": \"insufficient_quota\"\n",
      "    }\n",
      "}\n",
      "\n"
     ]
    },
    {
     "name": "stderr",
     "output_type": "stream",
     "text": [
      "\n",
      "Processing mushroom.ca-tst.v1.jsonl:  71%|███████   | 71/100 [03:55<01:38,  3.40s/entry]\u001B[A"
     ]
    },
    {
     "name": "stdout",
     "output_type": "stream",
     "text": [
      "Request failed with status code: 429\n",
      "Response: {\n",
      "    \"error\": {\n",
      "        \"message\": \"You exceeded your current quota, please check your plan and billing details. For more information on this error, read the docs: https://platform.openai.com/docs/guides/error-codes/api-errors.\",\n",
      "        \"type\": \"insufficient_quota\",\n",
      "        \"param\": null,\n",
      "        \"code\": \"insufficient_quota\"\n",
      "    }\n",
      "}\n",
      "\n",
      "Retry limit exceeded, returning empty result\n",
      "Request failed with status code: 429\n",
      "Response: {\n",
      "    \"error\": {\n",
      "        \"message\": \"You exceeded your current quota, please check your plan and billing details. For more information on this error, read the docs: https://platform.openai.com/docs/guides/error-codes/api-errors.\",\n",
      "        \"type\": \"insufficient_quota\",\n",
      "        \"param\": null,\n",
      "        \"code\": \"insufficient_quota\"\n",
      "    }\n",
      "}\n",
      "\n",
      "Request failed with status code: 429\n",
      "Response: {\n",
      "    \"error\": {\n",
      "        \"message\": \"You exceeded your current quota, please check your plan and billing details. For more information on this error, read the docs: https://platform.openai.com/docs/guides/error-codes/api-errors.\",\n",
      "        \"type\": \"insufficient_quota\",\n",
      "        \"param\": null,\n",
      "        \"code\": \"insufficient_quota\"\n",
      "    }\n",
      "}\n",
      "\n"
     ]
    },
    {
     "name": "stderr",
     "output_type": "stream",
     "text": [
      "\n",
      "Processing mushroom.ca-tst.v1.jsonl:  72%|███████▏  | 72/100 [03:59<01:35,  3.40s/entry]\u001B[A"
     ]
    },
    {
     "name": "stdout",
     "output_type": "stream",
     "text": [
      "Request failed with status code: 429\n",
      "Response: {\n",
      "    \"error\": {\n",
      "        \"message\": \"You exceeded your current quota, please check your plan and billing details. For more information on this error, read the docs: https://platform.openai.com/docs/guides/error-codes/api-errors.\",\n",
      "        \"type\": \"insufficient_quota\",\n",
      "        \"param\": null,\n",
      "        \"code\": \"insufficient_quota\"\n",
      "    }\n",
      "}\n",
      "\n",
      "Retry limit exceeded, returning empty result\n",
      "Request failed with status code: 429\n",
      "Response: {\n",
      "    \"error\": {\n",
      "        \"message\": \"You exceeded your current quota, please check your plan and billing details. For more information on this error, read the docs: https://platform.openai.com/docs/guides/error-codes/api-errors.\",\n",
      "        \"type\": \"insufficient_quota\",\n",
      "        \"param\": null,\n",
      "        \"code\": \"insufficient_quota\"\n",
      "    }\n",
      "}\n",
      "\n",
      "Request failed with status code: 429\n",
      "Response: {\n",
      "    \"error\": {\n",
      "        \"message\": \"You exceeded your current quota, please check your plan and billing details. For more information on this error, read the docs: https://platform.openai.com/docs/guides/error-codes/api-errors.\",\n",
      "        \"type\": \"insufficient_quota\",\n",
      "        \"param\": null,\n",
      "        \"code\": \"insufficient_quota\"\n",
      "    }\n",
      "}\n",
      "\n"
     ]
    },
    {
     "name": "stderr",
     "output_type": "stream",
     "text": [
      "\n",
      "Processing mushroom.ca-tst.v1.jsonl:  73%|███████▎  | 73/100 [04:02<01:31,  3.40s/entry]\u001B[A"
     ]
    },
    {
     "name": "stdout",
     "output_type": "stream",
     "text": [
      "Request failed with status code: 429\n",
      "Response: {\n",
      "    \"error\": {\n",
      "        \"message\": \"You exceeded your current quota, please check your plan and billing details. For more information on this error, read the docs: https://platform.openai.com/docs/guides/error-codes/api-errors.\",\n",
      "        \"type\": \"insufficient_quota\",\n",
      "        \"param\": null,\n",
      "        \"code\": \"insufficient_quota\"\n",
      "    }\n",
      "}\n",
      "\n",
      "Retry limit exceeded, returning empty result\n",
      "Request failed with status code: 429\n",
      "Response: {\n",
      "    \"error\": {\n",
      "        \"message\": \"You exceeded your current quota, please check your plan and billing details. For more information on this error, read the docs: https://platform.openai.com/docs/guides/error-codes/api-errors.\",\n",
      "        \"type\": \"insufficient_quota\",\n",
      "        \"param\": null,\n",
      "        \"code\": \"insufficient_quota\"\n",
      "    }\n",
      "}\n",
      "\n",
      "Request failed with status code: 429\n",
      "Response: {\n",
      "    \"error\": {\n",
      "        \"message\": \"You exceeded your current quota, please check your plan and billing details. For more information on this error, read the docs: https://platform.openai.com/docs/guides/error-codes/api-errors.\",\n",
      "        \"type\": \"insufficient_quota\",\n",
      "        \"param\": null,\n",
      "        \"code\": \"insufficient_quota\"\n",
      "    }\n",
      "}\n",
      "\n"
     ]
    },
    {
     "name": "stderr",
     "output_type": "stream",
     "text": [
      "\n",
      "Processing mushroom.ca-tst.v1.jsonl:  74%|███████▍  | 74/100 [04:05<01:27,  3.37s/entry]\u001B[A"
     ]
    },
    {
     "name": "stdout",
     "output_type": "stream",
     "text": [
      "Request failed with status code: 429\n",
      "Response: {\n",
      "    \"error\": {\n",
      "        \"message\": \"You exceeded your current quota, please check your plan and billing details. For more information on this error, read the docs: https://platform.openai.com/docs/guides/error-codes/api-errors.\",\n",
      "        \"type\": \"insufficient_quota\",\n",
      "        \"param\": null,\n",
      "        \"code\": \"insufficient_quota\"\n",
      "    }\n",
      "}\n",
      "\n",
      "Retry limit exceeded, returning empty result\n",
      "Request failed with status code: 429\n",
      "Response: {\n",
      "    \"error\": {\n",
      "        \"message\": \"You exceeded your current quota, please check your plan and billing details. For more information on this error, read the docs: https://platform.openai.com/docs/guides/error-codes/api-errors.\",\n",
      "        \"type\": \"insufficient_quota\",\n",
      "        \"param\": null,\n",
      "        \"code\": \"insufficient_quota\"\n",
      "    }\n",
      "}\n",
      "\n",
      "Request failed with status code: 429\n",
      "Response: {\n",
      "    \"error\": {\n",
      "        \"message\": \"You exceeded your current quota, please check your plan and billing details. For more information on this error, read the docs: https://platform.openai.com/docs/guides/error-codes/api-errors.\",\n",
      "        \"type\": \"insufficient_quota\",\n",
      "        \"param\": null,\n",
      "        \"code\": \"insufficient_quota\"\n",
      "    }\n",
      "}\n",
      "\n"
     ]
    },
    {
     "name": "stderr",
     "output_type": "stream",
     "text": [
      "\n",
      "Processing mushroom.ca-tst.v1.jsonl:  75%|███████▌  | 75/100 [04:10<01:32,  3.69s/entry]\u001B[A"
     ]
    },
    {
     "name": "stdout",
     "output_type": "stream",
     "text": [
      "Request failed with status code: 429\n",
      "Response: {\n",
      "    \"error\": {\n",
      "        \"message\": \"You exceeded your current quota, please check your plan and billing details. For more information on this error, read the docs: https://platform.openai.com/docs/guides/error-codes/api-errors.\",\n",
      "        \"type\": \"insufficient_quota\",\n",
      "        \"param\": null,\n",
      "        \"code\": \"insufficient_quota\"\n",
      "    }\n",
      "}\n",
      "\n",
      "Retry limit exceeded, returning empty result\n",
      "Request failed with status code: 429\n",
      "Response: {\n",
      "    \"error\": {\n",
      "        \"message\": \"You exceeded your current quota, please check your plan and billing details. For more information on this error, read the docs: https://platform.openai.com/docs/guides/error-codes/api-errors.\",\n",
      "        \"type\": \"insufficient_quota\",\n",
      "        \"param\": null,\n",
      "        \"code\": \"insufficient_quota\"\n",
      "    }\n",
      "}\n",
      "\n",
      "Request failed with status code: 429\n",
      "Response: {\n",
      "    \"error\": {\n",
      "        \"message\": \"You exceeded your current quota, please check your plan and billing details. For more information on this error, read the docs: https://platform.openai.com/docs/guides/error-codes/api-errors.\",\n",
      "        \"type\": \"insufficient_quota\",\n",
      "        \"param\": null,\n",
      "        \"code\": \"insufficient_quota\"\n",
      "    }\n",
      "}\n",
      "\n"
     ]
    },
    {
     "name": "stderr",
     "output_type": "stream",
     "text": [
      "\n",
      "Processing mushroom.ca-tst.v1.jsonl:  76%|███████▌  | 76/100 [04:13<01:25,  3.55s/entry]\u001B[A"
     ]
    },
    {
     "name": "stdout",
     "output_type": "stream",
     "text": [
      "Request failed with status code: 429\n",
      "Response: {\n",
      "    \"error\": {\n",
      "        \"message\": \"You exceeded your current quota, please check your plan and billing details. For more information on this error, read the docs: https://platform.openai.com/docs/guides/error-codes/api-errors.\",\n",
      "        \"type\": \"insufficient_quota\",\n",
      "        \"param\": null,\n",
      "        \"code\": \"insufficient_quota\"\n",
      "    }\n",
      "}\n",
      "\n",
      "Retry limit exceeded, returning empty result\n",
      "Request failed with status code: 429\n",
      "Response: {\n",
      "    \"error\": {\n",
      "        \"message\": \"You exceeded your current quota, please check your plan and billing details. For more information on this error, read the docs: https://platform.openai.com/docs/guides/error-codes/api-errors.\",\n",
      "        \"type\": \"insufficient_quota\",\n",
      "        \"param\": null,\n",
      "        \"code\": \"insufficient_quota\"\n",
      "    }\n",
      "}\n",
      "\n",
      "Request failed with status code: 429\n",
      "Response: {\n",
      "    \"error\": {\n",
      "        \"message\": \"You exceeded your current quota, please check your plan and billing details. For more information on this error, read the docs: https://platform.openai.com/docs/guides/error-codes/api-errors.\",\n",
      "        \"type\": \"insufficient_quota\",\n",
      "        \"param\": null,\n",
      "        \"code\": \"insufficient_quota\"\n",
      "    }\n",
      "}\n",
      "\n"
     ]
    },
    {
     "name": "stderr",
     "output_type": "stream",
     "text": [
      "\n",
      "Processing mushroom.ca-tst.v1.jsonl:  77%|███████▋  | 77/100 [04:16<01:19,  3.47s/entry]\u001B[A"
     ]
    },
    {
     "name": "stdout",
     "output_type": "stream",
     "text": [
      "Request failed with status code: 429\n",
      "Response: {\n",
      "    \"error\": {\n",
      "        \"message\": \"You exceeded your current quota, please check your plan and billing details. For more information on this error, read the docs: https://platform.openai.com/docs/guides/error-codes/api-errors.\",\n",
      "        \"type\": \"insufficient_quota\",\n",
      "        \"param\": null,\n",
      "        \"code\": \"insufficient_quota\"\n",
      "    }\n",
      "}\n",
      "\n",
      "Retry limit exceeded, returning empty result\n",
      "Request failed with status code: 429\n",
      "Response: {\n",
      "    \"error\": {\n",
      "        \"message\": \"You exceeded your current quota, please check your plan and billing details. For more information on this error, read the docs: https://platform.openai.com/docs/guides/error-codes/api-errors.\",\n",
      "        \"type\": \"insufficient_quota\",\n",
      "        \"param\": null,\n",
      "        \"code\": \"insufficient_quota\"\n",
      "    }\n",
      "}\n",
      "\n",
      "Request failed with status code: 429\n",
      "Response: {\n",
      "    \"error\": {\n",
      "        \"message\": \"You exceeded your current quota, please check your plan and billing details. For more information on this error, read the docs: https://platform.openai.com/docs/guides/error-codes/api-errors.\",\n",
      "        \"type\": \"insufficient_quota\",\n",
      "        \"param\": null,\n",
      "        \"code\": \"insufficient_quota\"\n",
      "    }\n",
      "}\n",
      "\n"
     ]
    },
    {
     "name": "stderr",
     "output_type": "stream",
     "text": [
      "\n",
      "Processing mushroom.ca-tst.v1.jsonl:  78%|███████▊  | 78/100 [04:20<01:15,  3.42s/entry]\u001B[A"
     ]
    },
    {
     "name": "stdout",
     "output_type": "stream",
     "text": [
      "Request failed with status code: 429\n",
      "Response: {\n",
      "    \"error\": {\n",
      "        \"message\": \"You exceeded your current quota, please check your plan and billing details. For more information on this error, read the docs: https://platform.openai.com/docs/guides/error-codes/api-errors.\",\n",
      "        \"type\": \"insufficient_quota\",\n",
      "        \"param\": null,\n",
      "        \"code\": \"insufficient_quota\"\n",
      "    }\n",
      "}\n",
      "\n",
      "Retry limit exceeded, returning empty result\n",
      "Request failed with status code: 429\n",
      "Response: {\n",
      "    \"error\": {\n",
      "        \"message\": \"You exceeded your current quota, please check your plan and billing details. For more information on this error, read the docs: https://platform.openai.com/docs/guides/error-codes/api-errors.\",\n",
      "        \"type\": \"insufficient_quota\",\n",
      "        \"param\": null,\n",
      "        \"code\": \"insufficient_quota\"\n",
      "    }\n",
      "}\n",
      "\n",
      "Request failed with status code: 429\n",
      "Response: {\n",
      "    \"error\": {\n",
      "        \"message\": \"You exceeded your current quota, please check your plan and billing details. For more information on this error, read the docs: https://platform.openai.com/docs/guides/error-codes/api-errors.\",\n",
      "        \"type\": \"insufficient_quota\",\n",
      "        \"param\": null,\n",
      "        \"code\": \"insufficient_quota\"\n",
      "    }\n",
      "}\n",
      "\n"
     ]
    },
    {
     "name": "stderr",
     "output_type": "stream",
     "text": [
      "\n",
      "Processing mushroom.ca-tst.v1.jsonl:  79%|███████▉  | 79/100 [04:23<01:11,  3.41s/entry]\u001B[A"
     ]
    },
    {
     "name": "stdout",
     "output_type": "stream",
     "text": [
      "Request failed with status code: 429\n",
      "Response: {\n",
      "    \"error\": {\n",
      "        \"message\": \"You exceeded your current quota, please check your plan and billing details. For more information on this error, read the docs: https://platform.openai.com/docs/guides/error-codes/api-errors.\",\n",
      "        \"type\": \"insufficient_quota\",\n",
      "        \"param\": null,\n",
      "        \"code\": \"insufficient_quota\"\n",
      "    }\n",
      "}\n",
      "\n",
      "Retry limit exceeded, returning empty result\n",
      "Request failed with status code: 429\n",
      "Response: {\n",
      "    \"error\": {\n",
      "        \"message\": \"You exceeded your current quota, please check your plan and billing details. For more information on this error, read the docs: https://platform.openai.com/docs/guides/error-codes/api-errors.\",\n",
      "        \"type\": \"insufficient_quota\",\n",
      "        \"param\": null,\n",
      "        \"code\": \"insufficient_quota\"\n",
      "    }\n",
      "}\n",
      "\n",
      "Request failed with status code: 429\n",
      "Response: {\n",
      "    \"error\": {\n",
      "        \"message\": \"You exceeded your current quota, please check your plan and billing details. For more information on this error, read the docs: https://platform.openai.com/docs/guides/error-codes/api-errors.\",\n",
      "        \"type\": \"insufficient_quota\",\n",
      "        \"param\": null,\n",
      "        \"code\": \"insufficient_quota\"\n",
      "    }\n",
      "}\n",
      "\n"
     ]
    },
    {
     "name": "stderr",
     "output_type": "stream",
     "text": [
      "\n",
      "Processing mushroom.ca-tst.v1.jsonl:  80%|████████  | 80/100 [04:26<01:07,  3.40s/entry]\u001B[A"
     ]
    },
    {
     "name": "stdout",
     "output_type": "stream",
     "text": [
      "Request failed with status code: 429\n",
      "Response: {\n",
      "    \"error\": {\n",
      "        \"message\": \"You exceeded your current quota, please check your plan and billing details. For more information on this error, read the docs: https://platform.openai.com/docs/guides/error-codes/api-errors.\",\n",
      "        \"type\": \"insufficient_quota\",\n",
      "        \"param\": null,\n",
      "        \"code\": \"insufficient_quota\"\n",
      "    }\n",
      "}\n",
      "\n",
      "Retry limit exceeded, returning empty result\n",
      "Request failed with status code: 429\n",
      "Response: {\n",
      "    \"error\": {\n",
      "        \"message\": \"You exceeded your current quota, please check your plan and billing details. For more information on this error, read the docs: https://platform.openai.com/docs/guides/error-codes/api-errors.\",\n",
      "        \"type\": \"insufficient_quota\",\n",
      "        \"param\": null,\n",
      "        \"code\": \"insufficient_quota\"\n",
      "    }\n",
      "}\n",
      "\n",
      "Request failed with status code: 429\n",
      "Response: {\n",
      "    \"error\": {\n",
      "        \"message\": \"You exceeded your current quota, please check your plan and billing details. For more information on this error, read the docs: https://platform.openai.com/docs/guides/error-codes/api-errors.\",\n",
      "        \"type\": \"insufficient_quota\",\n",
      "        \"param\": null,\n",
      "        \"code\": \"insufficient_quota\"\n",
      "    }\n",
      "}\n",
      "\n"
     ]
    },
    {
     "name": "stderr",
     "output_type": "stream",
     "text": [
      "\n",
      "Processing mushroom.ca-tst.v1.jsonl:  81%|████████  | 81/100 [04:30<01:04,  3.37s/entry]\u001B[A"
     ]
    },
    {
     "name": "stdout",
     "output_type": "stream",
     "text": [
      "Request failed with status code: 429\n",
      "Response: {\n",
      "    \"error\": {\n",
      "        \"message\": \"You exceeded your current quota, please check your plan and billing details. For more information on this error, read the docs: https://platform.openai.com/docs/guides/error-codes/api-errors.\",\n",
      "        \"type\": \"insufficient_quota\",\n",
      "        \"param\": null,\n",
      "        \"code\": \"insufficient_quota\"\n",
      "    }\n",
      "}\n",
      "\n",
      "Retry limit exceeded, returning empty result\n",
      "Request failed with status code: 429\n",
      "Response: {\n",
      "    \"error\": {\n",
      "        \"message\": \"You exceeded your current quota, please check your plan and billing details. For more information on this error, read the docs: https://platform.openai.com/docs/guides/error-codes/api-errors.\",\n",
      "        \"type\": \"insufficient_quota\",\n",
      "        \"param\": null,\n",
      "        \"code\": \"insufficient_quota\"\n",
      "    }\n",
      "}\n",
      "\n",
      "Request failed with status code: 429\n",
      "Response: {\n",
      "    \"error\": {\n",
      "        \"message\": \"You exceeded your current quota, please check your plan and billing details. For more information on this error, read the docs: https://platform.openai.com/docs/guides/error-codes/api-errors.\",\n",
      "        \"type\": \"insufficient_quota\",\n",
      "        \"param\": null,\n",
      "        \"code\": \"insufficient_quota\"\n",
      "    }\n",
      "}\n",
      "\n"
     ]
    },
    {
     "name": "stderr",
     "output_type": "stream",
     "text": [
      "\n",
      "Processing mushroom.ca-tst.v1.jsonl:  82%|████████▏ | 82/100 [04:33<01:00,  3.38s/entry]\u001B[A"
     ]
    },
    {
     "name": "stdout",
     "output_type": "stream",
     "text": [
      "Request failed with status code: 429\n",
      "Response: {\n",
      "    \"error\": {\n",
      "        \"message\": \"You exceeded your current quota, please check your plan and billing details. For more information on this error, read the docs: https://platform.openai.com/docs/guides/error-codes/api-errors.\",\n",
      "        \"type\": \"insufficient_quota\",\n",
      "        \"param\": null,\n",
      "        \"code\": \"insufficient_quota\"\n",
      "    }\n",
      "}\n",
      "\n",
      "Retry limit exceeded, returning empty result\n",
      "Request failed with status code: 429\n",
      "Response: {\n",
      "    \"error\": {\n",
      "        \"message\": \"You exceeded your current quota, please check your plan and billing details. For more information on this error, read the docs: https://platform.openai.com/docs/guides/error-codes/api-errors.\",\n",
      "        \"type\": \"insufficient_quota\",\n",
      "        \"param\": null,\n",
      "        \"code\": \"insufficient_quota\"\n",
      "    }\n",
      "}\n",
      "\n",
      "Request failed with status code: 429\n",
      "Response: {\n",
      "    \"error\": {\n",
      "        \"message\": \"You exceeded your current quota, please check your plan and billing details. For more information on this error, read the docs: https://platform.openai.com/docs/guides/error-codes/api-errors.\",\n",
      "        \"type\": \"insufficient_quota\",\n",
      "        \"param\": null,\n",
      "        \"code\": \"insufficient_quota\"\n",
      "    }\n",
      "}\n",
      "\n"
     ]
    },
    {
     "name": "stderr",
     "output_type": "stream",
     "text": [
      "\n",
      "Processing mushroom.ca-tst.v1.jsonl:  83%|████████▎ | 83/100 [04:36<00:56,  3.35s/entry]\u001B[A"
     ]
    },
    {
     "name": "stdout",
     "output_type": "stream",
     "text": [
      "Request failed with status code: 429\n",
      "Response: {\n",
      "    \"error\": {\n",
      "        \"message\": \"You exceeded your current quota, please check your plan and billing details. For more information on this error, read the docs: https://platform.openai.com/docs/guides/error-codes/api-errors.\",\n",
      "        \"type\": \"insufficient_quota\",\n",
      "        \"param\": null,\n",
      "        \"code\": \"insufficient_quota\"\n",
      "    }\n",
      "}\n",
      "\n",
      "Retry limit exceeded, returning empty result\n",
      "Request failed with status code: 429\n",
      "Response: {\n",
      "    \"error\": {\n",
      "        \"message\": \"You exceeded your current quota, please check your plan and billing details. For more information on this error, read the docs: https://platform.openai.com/docs/guides/error-codes/api-errors.\",\n",
      "        \"type\": \"insufficient_quota\",\n",
      "        \"param\": null,\n",
      "        \"code\": \"insufficient_quota\"\n",
      "    }\n",
      "}\n",
      "\n",
      "Request failed with status code: 429\n",
      "Response: {\n",
      "    \"error\": {\n",
      "        \"message\": \"You exceeded your current quota, please check your plan and billing details. For more information on this error, read the docs: https://platform.openai.com/docs/guides/error-codes/api-errors.\",\n",
      "        \"type\": \"insufficient_quota\",\n",
      "        \"param\": null,\n",
      "        \"code\": \"insufficient_quota\"\n",
      "    }\n",
      "}\n",
      "\n"
     ]
    },
    {
     "name": "stderr",
     "output_type": "stream",
     "text": [
      "\n",
      "Processing mushroom.ca-tst.v1.jsonl:  84%|████████▍ | 84/100 [04:40<00:53,  3.32s/entry]\u001B[A"
     ]
    },
    {
     "name": "stdout",
     "output_type": "stream",
     "text": [
      "Request failed with status code: 429\n",
      "Response: {\n",
      "    \"error\": {\n",
      "        \"message\": \"You exceeded your current quota, please check your plan and billing details. For more information on this error, read the docs: https://platform.openai.com/docs/guides/error-codes/api-errors.\",\n",
      "        \"type\": \"insufficient_quota\",\n",
      "        \"param\": null,\n",
      "        \"code\": \"insufficient_quota\"\n",
      "    }\n",
      "}\n",
      "\n",
      "Retry limit exceeded, returning empty result\n",
      "Request failed with status code: 429\n",
      "Response: {\n",
      "    \"error\": {\n",
      "        \"message\": \"You exceeded your current quota, please check your plan and billing details. For more information on this error, read the docs: https://platform.openai.com/docs/guides/error-codes/api-errors.\",\n",
      "        \"type\": \"insufficient_quota\",\n",
      "        \"param\": null,\n",
      "        \"code\": \"insufficient_quota\"\n",
      "    }\n",
      "}\n",
      "\n",
      "Request failed with status code: 429\n",
      "Response: {\n",
      "    \"error\": {\n",
      "        \"message\": \"You exceeded your current quota, please check your plan and billing details. For more information on this error, read the docs: https://platform.openai.com/docs/guides/error-codes/api-errors.\",\n",
      "        \"type\": \"insufficient_quota\",\n",
      "        \"param\": null,\n",
      "        \"code\": \"insufficient_quota\"\n",
      "    }\n",
      "}\n",
      "\n"
     ]
    },
    {
     "name": "stderr",
     "output_type": "stream",
     "text": [
      "\n",
      "Processing mushroom.ca-tst.v1.jsonl:  85%|████████▌ | 85/100 [04:43<00:49,  3.30s/entry]\u001B[A"
     ]
    },
    {
     "name": "stdout",
     "output_type": "stream",
     "text": [
      "Request failed with status code: 429\n",
      "Response: {\n",
      "    \"error\": {\n",
      "        \"message\": \"You exceeded your current quota, please check your plan and billing details. For more information on this error, read the docs: https://platform.openai.com/docs/guides/error-codes/api-errors.\",\n",
      "        \"type\": \"insufficient_quota\",\n",
      "        \"param\": null,\n",
      "        \"code\": \"insufficient_quota\"\n",
      "    }\n",
      "}\n",
      "\n",
      "Retry limit exceeded, returning empty result\n",
      "Request failed with status code: 429\n",
      "Response: {\n",
      "    \"error\": {\n",
      "        \"message\": \"You exceeded your current quota, please check your plan and billing details. For more information on this error, read the docs: https://platform.openai.com/docs/guides/error-codes/api-errors.\",\n",
      "        \"type\": \"insufficient_quota\",\n",
      "        \"param\": null,\n",
      "        \"code\": \"insufficient_quota\"\n",
      "    }\n",
      "}\n",
      "\n",
      "Request failed with status code: 429\n",
      "Response: {\n",
      "    \"error\": {\n",
      "        \"message\": \"You exceeded your current quota, please check your plan and billing details. For more information on this error, read the docs: https://platform.openai.com/docs/guides/error-codes/api-errors.\",\n",
      "        \"type\": \"insufficient_quota\",\n",
      "        \"param\": null,\n",
      "        \"code\": \"insufficient_quota\"\n",
      "    }\n",
      "}\n",
      "\n"
     ]
    },
    {
     "name": "stderr",
     "output_type": "stream",
     "text": [
      "\n",
      "Processing mushroom.ca-tst.v1.jsonl:  86%|████████▌ | 86/100 [04:46<00:46,  3.29s/entry]\u001B[A"
     ]
    },
    {
     "name": "stdout",
     "output_type": "stream",
     "text": [
      "Request failed with status code: 429\n",
      "Response: {\n",
      "    \"error\": {\n",
      "        \"message\": \"You exceeded your current quota, please check your plan and billing details. For more information on this error, read the docs: https://platform.openai.com/docs/guides/error-codes/api-errors.\",\n",
      "        \"type\": \"insufficient_quota\",\n",
      "        \"param\": null,\n",
      "        \"code\": \"insufficient_quota\"\n",
      "    }\n",
      "}\n",
      "\n",
      "Retry limit exceeded, returning empty result\n",
      "Request failed with status code: 429\n",
      "Response: {\n",
      "    \"error\": {\n",
      "        \"message\": \"You exceeded your current quota, please check your plan and billing details. For more information on this error, read the docs: https://platform.openai.com/docs/guides/error-codes/api-errors.\",\n",
      "        \"type\": \"insufficient_quota\",\n",
      "        \"param\": null,\n",
      "        \"code\": \"insufficient_quota\"\n",
      "    }\n",
      "}\n",
      "\n",
      "Request failed with status code: 429\n",
      "Response: {\n",
      "    \"error\": {\n",
      "        \"message\": \"You exceeded your current quota, please check your plan and billing details. For more information on this error, read the docs: https://platform.openai.com/docs/guides/error-codes/api-errors.\",\n",
      "        \"type\": \"insufficient_quota\",\n",
      "        \"param\": null,\n",
      "        \"code\": \"insufficient_quota\"\n",
      "    }\n",
      "}\n",
      "\n"
     ]
    },
    {
     "name": "stderr",
     "output_type": "stream",
     "text": [
      "\n",
      "Processing mushroom.ca-tst.v1.jsonl:  87%|████████▋ | 87/100 [04:49<00:42,  3.30s/entry]\u001B[A"
     ]
    },
    {
     "name": "stdout",
     "output_type": "stream",
     "text": [
      "Request failed with status code: 429\n",
      "Response: {\n",
      "    \"error\": {\n",
      "        \"message\": \"You exceeded your current quota, please check your plan and billing details. For more information on this error, read the docs: https://platform.openai.com/docs/guides/error-codes/api-errors.\",\n",
      "        \"type\": \"insufficient_quota\",\n",
      "        \"param\": null,\n",
      "        \"code\": \"insufficient_quota\"\n",
      "    }\n",
      "}\n",
      "\n",
      "Retry limit exceeded, returning empty result\n",
      "Request failed with status code: 429\n",
      "Response: {\n",
      "    \"error\": {\n",
      "        \"message\": \"You exceeded your current quota, please check your plan and billing details. For more information on this error, read the docs: https://platform.openai.com/docs/guides/error-codes/api-errors.\",\n",
      "        \"type\": \"insufficient_quota\",\n",
      "        \"param\": null,\n",
      "        \"code\": \"insufficient_quota\"\n",
      "    }\n",
      "}\n",
      "\n",
      "Request failed with status code: 429\n",
      "Response: {\n",
      "    \"error\": {\n",
      "        \"message\": \"You exceeded your current quota, please check your plan and billing details. For more information on this error, read the docs: https://platform.openai.com/docs/guides/error-codes/api-errors.\",\n",
      "        \"type\": \"insufficient_quota\",\n",
      "        \"param\": null,\n",
      "        \"code\": \"insufficient_quota\"\n",
      "    }\n",
      "}\n",
      "\n"
     ]
    },
    {
     "name": "stderr",
     "output_type": "stream",
     "text": [
      "\n",
      "Processing mushroom.ca-tst.v1.jsonl:  88%|████████▊ | 88/100 [04:53<00:40,  3.38s/entry]\u001B[A"
     ]
    },
    {
     "name": "stdout",
     "output_type": "stream",
     "text": [
      "Request failed with status code: 429\n",
      "Response: {\n",
      "    \"error\": {\n",
      "        \"message\": \"You exceeded your current quota, please check your plan and billing details. For more information on this error, read the docs: https://platform.openai.com/docs/guides/error-codes/api-errors.\",\n",
      "        \"type\": \"insufficient_quota\",\n",
      "        \"param\": null,\n",
      "        \"code\": \"insufficient_quota\"\n",
      "    }\n",
      "}\n",
      "\n",
      "Retry limit exceeded, returning empty result\n",
      "Request failed with status code: 429\n",
      "Response: {\n",
      "    \"error\": {\n",
      "        \"message\": \"You exceeded your current quota, please check your plan and billing details. For more information on this error, read the docs: https://platform.openai.com/docs/guides/error-codes/api-errors.\",\n",
      "        \"type\": \"insufficient_quota\",\n",
      "        \"param\": null,\n",
      "        \"code\": \"insufficient_quota\"\n",
      "    }\n",
      "}\n",
      "\n",
      "Request failed with status code: 429\n",
      "Response: {\n",
      "    \"error\": {\n",
      "        \"message\": \"You exceeded your current quota, please check your plan and billing details. For more information on this error, read the docs: https://platform.openai.com/docs/guides/error-codes/api-errors.\",\n",
      "        \"type\": \"insufficient_quota\",\n",
      "        \"param\": null,\n",
      "        \"code\": \"insufficient_quota\"\n",
      "    }\n",
      "}\n",
      "\n"
     ]
    },
    {
     "name": "stderr",
     "output_type": "stream",
     "text": [
      "\n",
      "Processing mushroom.ca-tst.v1.jsonl:  89%|████████▉ | 89/100 [04:57<00:37,  3.44s/entry]\u001B[A"
     ]
    },
    {
     "name": "stdout",
     "output_type": "stream",
     "text": [
      "Request failed with status code: 429\n",
      "Response: {\n",
      "    \"error\": {\n",
      "        \"message\": \"You exceeded your current quota, please check your plan and billing details. For more information on this error, read the docs: https://platform.openai.com/docs/guides/error-codes/api-errors.\",\n",
      "        \"type\": \"insufficient_quota\",\n",
      "        \"param\": null,\n",
      "        \"code\": \"insufficient_quota\"\n",
      "    }\n",
      "}\n",
      "\n",
      "Retry limit exceeded, returning empty result\n",
      "Request failed with status code: 429\n",
      "Response: {\n",
      "    \"error\": {\n",
      "        \"message\": \"You exceeded your current quota, please check your plan and billing details. For more information on this error, read the docs: https://platform.openai.com/docs/guides/error-codes/api-errors.\",\n",
      "        \"type\": \"insufficient_quota\",\n",
      "        \"param\": null,\n",
      "        \"code\": \"insufficient_quota\"\n",
      "    }\n",
      "}\n",
      "\n",
      "Request failed with status code: 429\n",
      "Response: {\n",
      "    \"error\": {\n",
      "        \"message\": \"You exceeded your current quota, please check your plan and billing details. For more information on this error, read the docs: https://platform.openai.com/docs/guides/error-codes/api-errors.\",\n",
      "        \"type\": \"insufficient_quota\",\n",
      "        \"param\": null,\n",
      "        \"code\": \"insufficient_quota\"\n",
      "    }\n",
      "}\n",
      "\n"
     ]
    },
    {
     "name": "stderr",
     "output_type": "stream",
     "text": [
      "\n",
      "Processing mushroom.ca-tst.v1.jsonl:  90%|█████████ | 90/100 [05:00<00:34,  3.46s/entry]\u001B[A"
     ]
    },
    {
     "name": "stdout",
     "output_type": "stream",
     "text": [
      "Request failed with status code: 429\n",
      "Response: {\n",
      "    \"error\": {\n",
      "        \"message\": \"You exceeded your current quota, please check your plan and billing details. For more information on this error, read the docs: https://platform.openai.com/docs/guides/error-codes/api-errors.\",\n",
      "        \"type\": \"insufficient_quota\",\n",
      "        \"param\": null,\n",
      "        \"code\": \"insufficient_quota\"\n",
      "    }\n",
      "}\n",
      "\n",
      "Retry limit exceeded, returning empty result\n",
      "Request failed with status code: 429\n",
      "Response: {\n",
      "    \"error\": {\n",
      "        \"message\": \"You exceeded your current quota, please check your plan and billing details. For more information on this error, read the docs: https://platform.openai.com/docs/guides/error-codes/api-errors.\",\n",
      "        \"type\": \"insufficient_quota\",\n",
      "        \"param\": null,\n",
      "        \"code\": \"insufficient_quota\"\n",
      "    }\n",
      "}\n",
      "\n",
      "Request failed with status code: 429\n",
      "Response: {\n",
      "    \"error\": {\n",
      "        \"message\": \"You exceeded your current quota, please check your plan and billing details. For more information on this error, read the docs: https://platform.openai.com/docs/guides/error-codes/api-errors.\",\n",
      "        \"type\": \"insufficient_quota\",\n",
      "        \"param\": null,\n",
      "        \"code\": \"insufficient_quota\"\n",
      "    }\n",
      "}\n",
      "\n"
     ]
    },
    {
     "name": "stderr",
     "output_type": "stream",
     "text": [
      "\n",
      "Processing mushroom.ca-tst.v1.jsonl:  91%|█████████ | 91/100 [05:03<00:30,  3.40s/entry]\u001B[A"
     ]
    },
    {
     "name": "stdout",
     "output_type": "stream",
     "text": [
      "Request failed with status code: 429\n",
      "Response: {\n",
      "    \"error\": {\n",
      "        \"message\": \"You exceeded your current quota, please check your plan and billing details. For more information on this error, read the docs: https://platform.openai.com/docs/guides/error-codes/api-errors.\",\n",
      "        \"type\": \"insufficient_quota\",\n",
      "        \"param\": null,\n",
      "        \"code\": \"insufficient_quota\"\n",
      "    }\n",
      "}\n",
      "\n",
      "Retry limit exceeded, returning empty result\n",
      "Request failed with status code: 429\n",
      "Response: {\n",
      "    \"error\": {\n",
      "        \"message\": \"You exceeded your current quota, please check your plan and billing details. For more information on this error, read the docs: https://platform.openai.com/docs/guides/error-codes/api-errors.\",\n",
      "        \"type\": \"insufficient_quota\",\n",
      "        \"param\": null,\n",
      "        \"code\": \"insufficient_quota\"\n",
      "    }\n",
      "}\n",
      "\n",
      "Request failed with status code: 429\n",
      "Response: {\n",
      "    \"error\": {\n",
      "        \"message\": \"You exceeded your current quota, please check your plan and billing details. For more information on this error, read the docs: https://platform.openai.com/docs/guides/error-codes/api-errors.\",\n",
      "        \"type\": \"insufficient_quota\",\n",
      "        \"param\": null,\n",
      "        \"code\": \"insufficient_quota\"\n",
      "    }\n",
      "}\n",
      "\n"
     ]
    },
    {
     "name": "stderr",
     "output_type": "stream",
     "text": [
      "\n",
      "Processing mushroom.ca-tst.v1.jsonl:  92%|█████████▏| 92/100 [05:07<00:27,  3.45s/entry]\u001B[A"
     ]
    },
    {
     "name": "stdout",
     "output_type": "stream",
     "text": [
      "Request failed with status code: 429\n",
      "Response: {\n",
      "    \"error\": {\n",
      "        \"message\": \"You exceeded your current quota, please check your plan and billing details. For more information on this error, read the docs: https://platform.openai.com/docs/guides/error-codes/api-errors.\",\n",
      "        \"type\": \"insufficient_quota\",\n",
      "        \"param\": null,\n",
      "        \"code\": \"insufficient_quota\"\n",
      "    }\n",
      "}\n",
      "\n",
      "Retry limit exceeded, returning empty result\n",
      "Request failed with status code: 429\n",
      "Response: {\n",
      "    \"error\": {\n",
      "        \"message\": \"You exceeded your current quota, please check your plan and billing details. For more information on this error, read the docs: https://platform.openai.com/docs/guides/error-codes/api-errors.\",\n",
      "        \"type\": \"insufficient_quota\",\n",
      "        \"param\": null,\n",
      "        \"code\": \"insufficient_quota\"\n",
      "    }\n",
      "}\n",
      "\n",
      "Request failed with status code: 429\n",
      "Response: {\n",
      "    \"error\": {\n",
      "        \"message\": \"You exceeded your current quota, please check your plan and billing details. For more information on this error, read the docs: https://platform.openai.com/docs/guides/error-codes/api-errors.\",\n",
      "        \"type\": \"insufficient_quota\",\n",
      "        \"param\": null,\n",
      "        \"code\": \"insufficient_quota\"\n",
      "    }\n",
      "}\n",
      "\n"
     ]
    },
    {
     "name": "stderr",
     "output_type": "stream",
     "text": [
      "\n",
      "Processing mushroom.ca-tst.v1.jsonl:  93%|█████████▎| 93/100 [05:10<00:23,  3.40s/entry]\u001B[A"
     ]
    },
    {
     "name": "stdout",
     "output_type": "stream",
     "text": [
      "Request failed with status code: 429\n",
      "Response: {\n",
      "    \"error\": {\n",
      "        \"message\": \"You exceeded your current quota, please check your plan and billing details. For more information on this error, read the docs: https://platform.openai.com/docs/guides/error-codes/api-errors.\",\n",
      "        \"type\": \"insufficient_quota\",\n",
      "        \"param\": null,\n",
      "        \"code\": \"insufficient_quota\"\n",
      "    }\n",
      "}\n",
      "\n",
      "Retry limit exceeded, returning empty result\n",
      "Request failed with status code: 429\n",
      "Response: {\n",
      "    \"error\": {\n",
      "        \"message\": \"You exceeded your current quota, please check your plan and billing details. For more information on this error, read the docs: https://platform.openai.com/docs/guides/error-codes/api-errors.\",\n",
      "        \"type\": \"insufficient_quota\",\n",
      "        \"param\": null,\n",
      "        \"code\": \"insufficient_quota\"\n",
      "    }\n",
      "}\n",
      "\n",
      "Request failed with status code: 429\n",
      "Response: {\n",
      "    \"error\": {\n",
      "        \"message\": \"You exceeded your current quota, please check your plan and billing details. For more information on this error, read the docs: https://platform.openai.com/docs/guides/error-codes/api-errors.\",\n",
      "        \"type\": \"insufficient_quota\",\n",
      "        \"param\": null,\n",
      "        \"code\": \"insufficient_quota\"\n",
      "    }\n",
      "}\n",
      "\n"
     ]
    },
    {
     "name": "stderr",
     "output_type": "stream",
     "text": [
      "\n",
      "Processing mushroom.ca-tst.v1.jsonl:  94%|█████████▍| 94/100 [05:13<00:20,  3.36s/entry]\u001B[A"
     ]
    },
    {
     "name": "stdout",
     "output_type": "stream",
     "text": [
      "Request failed with status code: 429\n",
      "Response: {\n",
      "    \"error\": {\n",
      "        \"message\": \"You exceeded your current quota, please check your plan and billing details. For more information on this error, read the docs: https://platform.openai.com/docs/guides/error-codes/api-errors.\",\n",
      "        \"type\": \"insufficient_quota\",\n",
      "        \"param\": null,\n",
      "        \"code\": \"insufficient_quota\"\n",
      "    }\n",
      "}\n",
      "\n",
      "Retry limit exceeded, returning empty result\n",
      "Request failed with status code: 429\n",
      "Response: {\n",
      "    \"error\": {\n",
      "        \"message\": \"You exceeded your current quota, please check your plan and billing details. For more information on this error, read the docs: https://platform.openai.com/docs/guides/error-codes/api-errors.\",\n",
      "        \"type\": \"insufficient_quota\",\n",
      "        \"param\": null,\n",
      "        \"code\": \"insufficient_quota\"\n",
      "    }\n",
      "}\n",
      "\n",
      "Request failed with status code: 429\n",
      "Response: {\n",
      "    \"error\": {\n",
      "        \"message\": \"You exceeded your current quota, please check your plan and billing details. For more information on this error, read the docs: https://platform.openai.com/docs/guides/error-codes/api-errors.\",\n",
      "        \"type\": \"insufficient_quota\",\n",
      "        \"param\": null,\n",
      "        \"code\": \"insufficient_quota\"\n",
      "    }\n",
      "}\n",
      "\n"
     ]
    },
    {
     "name": "stderr",
     "output_type": "stream",
     "text": [
      "\n",
      "Processing mushroom.ca-tst.v1.jsonl:  95%|█████████▌| 95/100 [05:17<00:16,  3.34s/entry]\u001B[A"
     ]
    },
    {
     "name": "stdout",
     "output_type": "stream",
     "text": [
      "Request failed with status code: 429\n",
      "Response: {\n",
      "    \"error\": {\n",
      "        \"message\": \"You exceeded your current quota, please check your plan and billing details. For more information on this error, read the docs: https://platform.openai.com/docs/guides/error-codes/api-errors.\",\n",
      "        \"type\": \"insufficient_quota\",\n",
      "        \"param\": null,\n",
      "        \"code\": \"insufficient_quota\"\n",
      "    }\n",
      "}\n",
      "\n",
      "Retry limit exceeded, returning empty result\n",
      "Request failed with status code: 429\n",
      "Response: {\n",
      "    \"error\": {\n",
      "        \"message\": \"You exceeded your current quota, please check your plan and billing details. For more information on this error, read the docs: https://platform.openai.com/docs/guides/error-codes/api-errors.\",\n",
      "        \"type\": \"insufficient_quota\",\n",
      "        \"param\": null,\n",
      "        \"code\": \"insufficient_quota\"\n",
      "    }\n",
      "}\n",
      "\n",
      "Request failed with status code: 429\n",
      "Response: {\n",
      "    \"error\": {\n",
      "        \"message\": \"You exceeded your current quota, please check your plan and billing details. For more information on this error, read the docs: https://platform.openai.com/docs/guides/error-codes/api-errors.\",\n",
      "        \"type\": \"insufficient_quota\",\n",
      "        \"param\": null,\n",
      "        \"code\": \"insufficient_quota\"\n",
      "    }\n",
      "}\n",
      "\n"
     ]
    },
    {
     "name": "stderr",
     "output_type": "stream",
     "text": [
      "\n",
      "Processing mushroom.ca-tst.v1.jsonl:  96%|█████████▌| 96/100 [05:20<00:13,  3.31s/entry]\u001B[A"
     ]
    },
    {
     "name": "stdout",
     "output_type": "stream",
     "text": [
      "Request failed with status code: 429\n",
      "Response: {\n",
      "    \"error\": {\n",
      "        \"message\": \"You exceeded your current quota, please check your plan and billing details. For more information on this error, read the docs: https://platform.openai.com/docs/guides/error-codes/api-errors.\",\n",
      "        \"type\": \"insufficient_quota\",\n",
      "        \"param\": null,\n",
      "        \"code\": \"insufficient_quota\"\n",
      "    }\n",
      "}\n",
      "\n",
      "Retry limit exceeded, returning empty result\n",
      "Request failed with status code: 429\n",
      "Response: {\n",
      "    \"error\": {\n",
      "        \"message\": \"You exceeded your current quota, please check your plan and billing details. For more information on this error, read the docs: https://platform.openai.com/docs/guides/error-codes/api-errors.\",\n",
      "        \"type\": \"insufficient_quota\",\n",
      "        \"param\": null,\n",
      "        \"code\": \"insufficient_quota\"\n",
      "    }\n",
      "}\n",
      "\n",
      "Request failed with status code: 429\n",
      "Response: {\n",
      "    \"error\": {\n",
      "        \"message\": \"You exceeded your current quota, please check your plan and billing details. For more information on this error, read the docs: https://platform.openai.com/docs/guides/error-codes/api-errors.\",\n",
      "        \"type\": \"insufficient_quota\",\n",
      "        \"param\": null,\n",
      "        \"code\": \"insufficient_quota\"\n",
      "    }\n",
      "}\n",
      "\n"
     ]
    },
    {
     "name": "stderr",
     "output_type": "stream",
     "text": [
      "\n",
      "Processing mushroom.ca-tst.v1.jsonl:  97%|█████████▋| 97/100 [05:23<00:09,  3.31s/entry]\u001B[A"
     ]
    },
    {
     "name": "stdout",
     "output_type": "stream",
     "text": [
      "Request failed with status code: 429\n",
      "Response: {\n",
      "    \"error\": {\n",
      "        \"message\": \"You exceeded your current quota, please check your plan and billing details. For more information on this error, read the docs: https://platform.openai.com/docs/guides/error-codes/api-errors.\",\n",
      "        \"type\": \"insufficient_quota\",\n",
      "        \"param\": null,\n",
      "        \"code\": \"insufficient_quota\"\n",
      "    }\n",
      "}\n",
      "\n",
      "Retry limit exceeded, returning empty result\n",
      "Request failed with status code: 429\n",
      "Response: {\n",
      "    \"error\": {\n",
      "        \"message\": \"You exceeded your current quota, please check your plan and billing details. For more information on this error, read the docs: https://platform.openai.com/docs/guides/error-codes/api-errors.\",\n",
      "        \"type\": \"insufficient_quota\",\n",
      "        \"param\": null,\n",
      "        \"code\": \"insufficient_quota\"\n",
      "    }\n",
      "}\n",
      "\n",
      "Request failed with status code: 429\n",
      "Response: {\n",
      "    \"error\": {\n",
      "        \"message\": \"You exceeded your current quota, please check your plan and billing details. For more information on this error, read the docs: https://platform.openai.com/docs/guides/error-codes/api-errors.\",\n",
      "        \"type\": \"insufficient_quota\",\n",
      "        \"param\": null,\n",
      "        \"code\": \"insufficient_quota\"\n",
      "    }\n",
      "}\n",
      "\n"
     ]
    },
    {
     "name": "stderr",
     "output_type": "stream",
     "text": [
      "\n",
      "Processing mushroom.ca-tst.v1.jsonl:  98%|█████████▊| 98/100 [05:27<00:06,  3.33s/entry]\u001B[A"
     ]
    },
    {
     "name": "stdout",
     "output_type": "stream",
     "text": [
      "Request failed with status code: 429\n",
      "Response: {\n",
      "    \"error\": {\n",
      "        \"message\": \"You exceeded your current quota, please check your plan and billing details. For more information on this error, read the docs: https://platform.openai.com/docs/guides/error-codes/api-errors.\",\n",
      "        \"type\": \"insufficient_quota\",\n",
      "        \"param\": null,\n",
      "        \"code\": \"insufficient_quota\"\n",
      "    }\n",
      "}\n",
      "\n",
      "Retry limit exceeded, returning empty result\n",
      "Request failed with status code: 429\n",
      "Response: {\n",
      "    \"error\": {\n",
      "        \"message\": \"You exceeded your current quota, please check your plan and billing details. For more information on this error, read the docs: https://platform.openai.com/docs/guides/error-codes/api-errors.\",\n",
      "        \"type\": \"insufficient_quota\",\n",
      "        \"param\": null,\n",
      "        \"code\": \"insufficient_quota\"\n",
      "    }\n",
      "}\n",
      "\n",
      "Request failed with status code: 429\n",
      "Response: {\n",
      "    \"error\": {\n",
      "        \"message\": \"You exceeded your current quota, please check your plan and billing details. For more information on this error, read the docs: https://platform.openai.com/docs/guides/error-codes/api-errors.\",\n",
      "        \"type\": \"insufficient_quota\",\n",
      "        \"param\": null,\n",
      "        \"code\": \"insufficient_quota\"\n",
      "    }\n",
      "}\n",
      "\n"
     ]
    },
    {
     "name": "stderr",
     "output_type": "stream",
     "text": [
      "\n",
      "Processing mushroom.ca-tst.v1.jsonl:  99%|█████████▉| 99/100 [05:30<00:03,  3.32s/entry]\u001B[A"
     ]
    },
    {
     "name": "stdout",
     "output_type": "stream",
     "text": [
      "Request failed with status code: 429\n",
      "Response: {\n",
      "    \"error\": {\n",
      "        \"message\": \"You exceeded your current quota, please check your plan and billing details. For more information on this error, read the docs: https://platform.openai.com/docs/guides/error-codes/api-errors.\",\n",
      "        \"type\": \"insufficient_quota\",\n",
      "        \"param\": null,\n",
      "        \"code\": \"insufficient_quota\"\n",
      "    }\n",
      "}\n",
      "\n",
      "Retry limit exceeded, returning empty result\n",
      "Request failed with status code: 429\n",
      "Response: {\n",
      "    \"error\": {\n",
      "        \"message\": \"You exceeded your current quota, please check your plan and billing details. For more information on this error, read the docs: https://platform.openai.com/docs/guides/error-codes/api-errors.\",\n",
      "        \"type\": \"insufficient_quota\",\n",
      "        \"param\": null,\n",
      "        \"code\": \"insufficient_quota\"\n",
      "    }\n",
      "}\n",
      "\n",
      "Request failed with status code: 429\n",
      "Response: {\n",
      "    \"error\": {\n",
      "        \"message\": \"You exceeded your current quota, please check your plan and billing details. For more information on this error, read the docs: https://platform.openai.com/docs/guides/error-codes/api-errors.\",\n",
      "        \"type\": \"insufficient_quota\",\n",
      "        \"param\": null,\n",
      "        \"code\": \"insufficient_quota\"\n",
      "    }\n",
      "}\n",
      "\n"
     ]
    },
    {
     "name": "stderr",
     "output_type": "stream",
     "text": [
      "\n",
      "Processing mushroom.ca-tst.v1.jsonl: 100%|██████████| 100/100 [05:33<00:00,  3.32s/entry]\u001B[A\n",
      "Processing Files:  57%|█████▋    | 8/14 [1:29:07<1:13:32, 735.43s/file]                  \u001B[A"
     ]
    },
    {
     "name": "stdout",
     "output_type": "stream",
     "text": [
      "Request failed with status code: 429\n",
      "Response: {\n",
      "    \"error\": {\n",
      "        \"message\": \"You exceeded your current quota, please check your plan and billing details. For more information on this error, read the docs: https://platform.openai.com/docs/guides/error-codes/api-errors.\",\n",
      "        \"type\": \"insufficient_quota\",\n",
      "        \"param\": null,\n",
      "        \"code\": \"insufficient_quota\"\n",
      "    }\n",
      "}\n",
      "\n",
      "Retry limit exceeded, returning empty result\n",
      "Processed and saved: data/test_detect_gpt4_m2/mushroom.ca-tst.v1.jsonl\n"
     ]
    },
    {
     "name": "stderr",
     "output_type": "stream",
     "text": [
      "\n",
      "Processing mushroom.hi-tst.v1.jsonl:   0%|          | 0/150 [00:00<?, ?entry/s]\u001B[A"
     ]
    },
    {
     "name": "stdout",
     "output_type": "stream",
     "text": [
      "Request failed with status code: 429\n",
      "Response: {\n",
      "    \"error\": {\n",
      "        \"message\": \"You exceeded your current quota, please check your plan and billing details. For more information on this error, read the docs: https://platform.openai.com/docs/guides/error-codes/api-errors.\",\n",
      "        \"type\": \"insufficient_quota\",\n",
      "        \"param\": null,\n",
      "        \"code\": \"insufficient_quota\"\n",
      "    }\n",
      "}\n",
      "\n",
      "Request failed with status code: 429\n",
      "Response: {\n",
      "    \"error\": {\n",
      "        \"message\": \"You exceeded your current quota, please check your plan and billing details. For more information on this error, read the docs: https://platform.openai.com/docs/guides/error-codes/api-errors.\",\n",
      "        \"type\": \"insufficient_quota\",\n",
      "        \"param\": null,\n",
      "        \"code\": \"insufficient_quota\"\n",
      "    }\n",
      "}\n",
      "\n"
     ]
    },
    {
     "name": "stderr",
     "output_type": "stream",
     "text": [
      "\n",
      "Processing mushroom.hi-tst.v1.jsonl:   1%|          | 1/150 [00:03<08:29,  3.42s/entry]\u001B[A"
     ]
    },
    {
     "name": "stdout",
     "output_type": "stream",
     "text": [
      "Request failed with status code: 429\n",
      "Response: {\n",
      "    \"error\": {\n",
      "        \"message\": \"You exceeded your current quota, please check your plan and billing details. For more information on this error, read the docs: https://platform.openai.com/docs/guides/error-codes/api-errors.\",\n",
      "        \"type\": \"insufficient_quota\",\n",
      "        \"param\": null,\n",
      "        \"code\": \"insufficient_quota\"\n",
      "    }\n",
      "}\n",
      "\n",
      "Retry limit exceeded, returning empty result\n",
      "Request failed with status code: 429\n",
      "Response: {\n",
      "    \"error\": {\n",
      "        \"message\": \"You exceeded your current quota, please check your plan and billing details. For more information on this error, read the docs: https://platform.openai.com/docs/guides/error-codes/api-errors.\",\n",
      "        \"type\": \"insufficient_quota\",\n",
      "        \"param\": null,\n",
      "        \"code\": \"insufficient_quota\"\n",
      "    }\n",
      "}\n",
      "\n",
      "Request failed with status code: 429\n",
      "Response: {\n",
      "    \"error\": {\n",
      "        \"message\": \"You exceeded your current quota, please check your plan and billing details. For more information on this error, read the docs: https://platform.openai.com/docs/guides/error-codes/api-errors.\",\n",
      "        \"type\": \"insufficient_quota\",\n",
      "        \"param\": null,\n",
      "        \"code\": \"insufficient_quota\"\n",
      "    }\n",
      "}\n",
      "\n"
     ]
    },
    {
     "name": "stderr",
     "output_type": "stream",
     "text": [
      "\n",
      "Processing mushroom.hi-tst.v1.jsonl:   1%|▏         | 2/150 [00:06<08:14,  3.34s/entry]\u001B[A"
     ]
    },
    {
     "name": "stdout",
     "output_type": "stream",
     "text": [
      "Request failed with status code: 429\n",
      "Response: {\n",
      "    \"error\": {\n",
      "        \"message\": \"You exceeded your current quota, please check your plan and billing details. For more information on this error, read the docs: https://platform.openai.com/docs/guides/error-codes/api-errors.\",\n",
      "        \"type\": \"insufficient_quota\",\n",
      "        \"param\": null,\n",
      "        \"code\": \"insufficient_quota\"\n",
      "    }\n",
      "}\n",
      "\n",
      "Retry limit exceeded, returning empty result\n",
      "Request failed with status code: 429\n",
      "Response: {\n",
      "    \"error\": {\n",
      "        \"message\": \"You exceeded your current quota, please check your plan and billing details. For more information on this error, read the docs: https://platform.openai.com/docs/guides/error-codes/api-errors.\",\n",
      "        \"type\": \"insufficient_quota\",\n",
      "        \"param\": null,\n",
      "        \"code\": \"insufficient_quota\"\n",
      "    }\n",
      "}\n",
      "\n",
      "Request failed with status code: 429\n",
      "Response: {\n",
      "    \"error\": {\n",
      "        \"message\": \"You exceeded your current quota, please check your plan and billing details. For more information on this error, read the docs: https://platform.openai.com/docs/guides/error-codes/api-errors.\",\n",
      "        \"type\": \"insufficient_quota\",\n",
      "        \"param\": null,\n",
      "        \"code\": \"insufficient_quota\"\n",
      "    }\n",
      "}\n",
      "\n"
     ]
    },
    {
     "name": "stderr",
     "output_type": "stream",
     "text": [
      "\n",
      "Processing mushroom.hi-tst.v1.jsonl:   2%|▏         | 3/150 [00:09<08:02,  3.28s/entry]\u001B[A"
     ]
    },
    {
     "name": "stdout",
     "output_type": "stream",
     "text": [
      "Request failed with status code: 429\n",
      "Response: {\n",
      "    \"error\": {\n",
      "        \"message\": \"You exceeded your current quota, please check your plan and billing details. For more information on this error, read the docs: https://platform.openai.com/docs/guides/error-codes/api-errors.\",\n",
      "        \"type\": \"insufficient_quota\",\n",
      "        \"param\": null,\n",
      "        \"code\": \"insufficient_quota\"\n",
      "    }\n",
      "}\n",
      "\n",
      "Retry limit exceeded, returning empty result\n",
      "Request failed with status code: 429\n",
      "Response: {\n",
      "    \"error\": {\n",
      "        \"message\": \"You exceeded your current quota, please check your plan and billing details. For more information on this error, read the docs: https://platform.openai.com/docs/guides/error-codes/api-errors.\",\n",
      "        \"type\": \"insufficient_quota\",\n",
      "        \"param\": null,\n",
      "        \"code\": \"insufficient_quota\"\n",
      "    }\n",
      "}\n",
      "\n",
      "Request failed with status code: 429\n",
      "Response: {\n",
      "    \"error\": {\n",
      "        \"message\": \"You exceeded your current quota, please check your plan and billing details. For more information on this error, read the docs: https://platform.openai.com/docs/guides/error-codes/api-errors.\",\n",
      "        \"type\": \"insufficient_quota\",\n",
      "        \"param\": null,\n",
      "        \"code\": \"insufficient_quota\"\n",
      "    }\n",
      "}\n",
      "\n"
     ]
    },
    {
     "name": "stderr",
     "output_type": "stream",
     "text": [
      "\n",
      "Processing mushroom.hi-tst.v1.jsonl:   3%|▎         | 4/150 [00:13<08:00,  3.29s/entry]\u001B[A"
     ]
    },
    {
     "name": "stdout",
     "output_type": "stream",
     "text": [
      "Request failed with status code: 429\n",
      "Response: {\n",
      "    \"error\": {\n",
      "        \"message\": \"You exceeded your current quota, please check your plan and billing details. For more information on this error, read the docs: https://platform.openai.com/docs/guides/error-codes/api-errors.\",\n",
      "        \"type\": \"insufficient_quota\",\n",
      "        \"param\": null,\n",
      "        \"code\": \"insufficient_quota\"\n",
      "    }\n",
      "}\n",
      "\n",
      "Retry limit exceeded, returning empty result\n",
      "Request failed with status code: 429\n",
      "Response: {\n",
      "    \"error\": {\n",
      "        \"message\": \"You exceeded your current quota, please check your plan and billing details. For more information on this error, read the docs: https://platform.openai.com/docs/guides/error-codes/api-errors.\",\n",
      "        \"type\": \"insufficient_quota\",\n",
      "        \"param\": null,\n",
      "        \"code\": \"insufficient_quota\"\n",
      "    }\n",
      "}\n",
      "\n",
      "Request failed with status code: 429\n",
      "Response: {\n",
      "    \"error\": {\n",
      "        \"message\": \"You exceeded your current quota, please check your plan and billing details. For more information on this error, read the docs: https://platform.openai.com/docs/guides/error-codes/api-errors.\",\n",
      "        \"type\": \"insufficient_quota\",\n",
      "        \"param\": null,\n",
      "        \"code\": \"insufficient_quota\"\n",
      "    }\n",
      "}\n",
      "\n"
     ]
    },
    {
     "name": "stderr",
     "output_type": "stream",
     "text": [
      "\n",
      "Processing mushroom.hi-tst.v1.jsonl:   3%|▎         | 5/150 [00:16<07:54,  3.27s/entry]\u001B[A"
     ]
    },
    {
     "name": "stdout",
     "output_type": "stream",
     "text": [
      "Request failed with status code: 429\n",
      "Response: {\n",
      "    \"error\": {\n",
      "        \"message\": \"You exceeded your current quota, please check your plan and billing details. For more information on this error, read the docs: https://platform.openai.com/docs/guides/error-codes/api-errors.\",\n",
      "        \"type\": \"insufficient_quota\",\n",
      "        \"param\": null,\n",
      "        \"code\": \"insufficient_quota\"\n",
      "    }\n",
      "}\n",
      "\n",
      "Retry limit exceeded, returning empty result\n",
      "Request failed with status code: 429\n",
      "Response: {\n",
      "    \"error\": {\n",
      "        \"message\": \"You exceeded your current quota, please check your plan and billing details. For more information on this error, read the docs: https://platform.openai.com/docs/guides/error-codes/api-errors.\",\n",
      "        \"type\": \"insufficient_quota\",\n",
      "        \"param\": null,\n",
      "        \"code\": \"insufficient_quota\"\n",
      "    }\n",
      "}\n",
      "\n",
      "Request failed with status code: 429\n",
      "Response: {\n",
      "    \"error\": {\n",
      "        \"message\": \"You exceeded your current quota, please check your plan and billing details. For more information on this error, read the docs: https://platform.openai.com/docs/guides/error-codes/api-errors.\",\n",
      "        \"type\": \"insufficient_quota\",\n",
      "        \"param\": null,\n",
      "        \"code\": \"insufficient_quota\"\n",
      "    }\n",
      "}\n",
      "\n"
     ]
    },
    {
     "name": "stderr",
     "output_type": "stream",
     "text": [
      "\n",
      "Processing mushroom.hi-tst.v1.jsonl:   4%|▍         | 6/150 [00:19<07:47,  3.25s/entry]\u001B[A"
     ]
    },
    {
     "name": "stdout",
     "output_type": "stream",
     "text": [
      "Request failed with status code: 429\n",
      "Response: {\n",
      "    \"error\": {\n",
      "        \"message\": \"You exceeded your current quota, please check your plan and billing details. For more information on this error, read the docs: https://platform.openai.com/docs/guides/error-codes/api-errors.\",\n",
      "        \"type\": \"insufficient_quota\",\n",
      "        \"param\": null,\n",
      "        \"code\": \"insufficient_quota\"\n",
      "    }\n",
      "}\n",
      "\n",
      "Retry limit exceeded, returning empty result\n",
      "Request failed with status code: 429\n",
      "Response: {\n",
      "    \"error\": {\n",
      "        \"message\": \"You exceeded your current quota, please check your plan and billing details. For more information on this error, read the docs: https://platform.openai.com/docs/guides/error-codes/api-errors.\",\n",
      "        \"type\": \"insufficient_quota\",\n",
      "        \"param\": null,\n",
      "        \"code\": \"insufficient_quota\"\n",
      "    }\n",
      "}\n",
      "\n",
      "Request failed with status code: 429\n",
      "Response: {\n",
      "    \"error\": {\n",
      "        \"message\": \"You exceeded your current quota, please check your plan and billing details. For more information on this error, read the docs: https://platform.openai.com/docs/guides/error-codes/api-errors.\",\n",
      "        \"type\": \"insufficient_quota\",\n",
      "        \"param\": null,\n",
      "        \"code\": \"insufficient_quota\"\n",
      "    }\n",
      "}\n",
      "\n"
     ]
    },
    {
     "name": "stderr",
     "output_type": "stream",
     "text": [
      "\n",
      "Processing mushroom.hi-tst.v1.jsonl:   5%|▍         | 7/150 [00:23<07:50,  3.29s/entry]\u001B[A"
     ]
    },
    {
     "name": "stdout",
     "output_type": "stream",
     "text": [
      "Request failed with status code: 429\n",
      "Response: {\n",
      "    \"error\": {\n",
      "        \"message\": \"You exceeded your current quota, please check your plan and billing details. For more information on this error, read the docs: https://platform.openai.com/docs/guides/error-codes/api-errors.\",\n",
      "        \"type\": \"insufficient_quota\",\n",
      "        \"param\": null,\n",
      "        \"code\": \"insufficient_quota\"\n",
      "    }\n",
      "}\n",
      "\n",
      "Retry limit exceeded, returning empty result\n",
      "Request failed with status code: 429\n",
      "Response: {\n",
      "    \"error\": {\n",
      "        \"message\": \"You exceeded your current quota, please check your plan and billing details. For more information on this error, read the docs: https://platform.openai.com/docs/guides/error-codes/api-errors.\",\n",
      "        \"type\": \"insufficient_quota\",\n",
      "        \"param\": null,\n",
      "        \"code\": \"insufficient_quota\"\n",
      "    }\n",
      "}\n",
      "\n",
      "Request failed with status code: 429\n",
      "Response: {\n",
      "    \"error\": {\n",
      "        \"message\": \"You exceeded your current quota, please check your plan and billing details. For more information on this error, read the docs: https://platform.openai.com/docs/guides/error-codes/api-errors.\",\n",
      "        \"type\": \"insufficient_quota\",\n",
      "        \"param\": null,\n",
      "        \"code\": \"insufficient_quota\"\n",
      "    }\n",
      "}\n",
      "\n"
     ]
    },
    {
     "name": "stderr",
     "output_type": "stream",
     "text": [
      "\n",
      "Processing mushroom.hi-tst.v1.jsonl:   5%|▌         | 8/150 [00:26<07:47,  3.29s/entry]\u001B[A"
     ]
    },
    {
     "name": "stdout",
     "output_type": "stream",
     "text": [
      "Request failed with status code: 429\n",
      "Response: {\n",
      "    \"error\": {\n",
      "        \"message\": \"You exceeded your current quota, please check your plan and billing details. For more information on this error, read the docs: https://platform.openai.com/docs/guides/error-codes/api-errors.\",\n",
      "        \"type\": \"insufficient_quota\",\n",
      "        \"param\": null,\n",
      "        \"code\": \"insufficient_quota\"\n",
      "    }\n",
      "}\n",
      "\n",
      "Retry limit exceeded, returning empty result\n",
      "Request failed with status code: 429\n",
      "Response: {\n",
      "    \"error\": {\n",
      "        \"message\": \"You exceeded your current quota, please check your plan and billing details. For more information on this error, read the docs: https://platform.openai.com/docs/guides/error-codes/api-errors.\",\n",
      "        \"type\": \"insufficient_quota\",\n",
      "        \"param\": null,\n",
      "        \"code\": \"insufficient_quota\"\n",
      "    }\n",
      "}\n",
      "\n",
      "Request failed with status code: 429\n",
      "Response: {\n",
      "    \"error\": {\n",
      "        \"message\": \"You exceeded your current quota, please check your plan and billing details. For more information on this error, read the docs: https://platform.openai.com/docs/guides/error-codes/api-errors.\",\n",
      "        \"type\": \"insufficient_quota\",\n",
      "        \"param\": null,\n",
      "        \"code\": \"insufficient_quota\"\n",
      "    }\n",
      "}\n",
      "\n"
     ]
    },
    {
     "name": "stderr",
     "output_type": "stream",
     "text": [
      "\n",
      "Processing mushroom.hi-tst.v1.jsonl:   6%|▌         | 9/150 [00:29<07:44,  3.29s/entry]\u001B[A"
     ]
    },
    {
     "name": "stdout",
     "output_type": "stream",
     "text": [
      "Request failed with status code: 429\n",
      "Response: {\n",
      "    \"error\": {\n",
      "        \"message\": \"You exceeded your current quota, please check your plan and billing details. For more information on this error, read the docs: https://platform.openai.com/docs/guides/error-codes/api-errors.\",\n",
      "        \"type\": \"insufficient_quota\",\n",
      "        \"param\": null,\n",
      "        \"code\": \"insufficient_quota\"\n",
      "    }\n",
      "}\n",
      "\n",
      "Retry limit exceeded, returning empty result\n",
      "Request failed with status code: 429\n",
      "Response: {\n",
      "    \"error\": {\n",
      "        \"message\": \"You exceeded your current quota, please check your plan and billing details. For more information on this error, read the docs: https://platform.openai.com/docs/guides/error-codes/api-errors.\",\n",
      "        \"type\": \"insufficient_quota\",\n",
      "        \"param\": null,\n",
      "        \"code\": \"insufficient_quota\"\n",
      "    }\n",
      "}\n",
      "\n",
      "Request failed with status code: 429\n",
      "Response: {\n",
      "    \"error\": {\n",
      "        \"message\": \"You exceeded your current quota, please check your plan and billing details. For more information on this error, read the docs: https://platform.openai.com/docs/guides/error-codes/api-errors.\",\n",
      "        \"type\": \"insufficient_quota\",\n",
      "        \"param\": null,\n",
      "        \"code\": \"insufficient_quota\"\n",
      "    }\n",
      "}\n",
      "\n"
     ]
    },
    {
     "name": "stderr",
     "output_type": "stream",
     "text": [
      "\n",
      "Processing mushroom.hi-tst.v1.jsonl:   7%|▋         | 10/150 [00:32<07:38,  3.27s/entry]\u001B[A"
     ]
    },
    {
     "name": "stdout",
     "output_type": "stream",
     "text": [
      "Request failed with status code: 429\n",
      "Response: {\n",
      "    \"error\": {\n",
      "        \"message\": \"You exceeded your current quota, please check your plan and billing details. For more information on this error, read the docs: https://platform.openai.com/docs/guides/error-codes/api-errors.\",\n",
      "        \"type\": \"insufficient_quota\",\n",
      "        \"param\": null,\n",
      "        \"code\": \"insufficient_quota\"\n",
      "    }\n",
      "}\n",
      "\n",
      "Retry limit exceeded, returning empty result\n",
      "Request failed with status code: 429\n",
      "Response: {\n",
      "    \"error\": {\n",
      "        \"message\": \"You exceeded your current quota, please check your plan and billing details. For more information on this error, read the docs: https://platform.openai.com/docs/guides/error-codes/api-errors.\",\n",
      "        \"type\": \"insufficient_quota\",\n",
      "        \"param\": null,\n",
      "        \"code\": \"insufficient_quota\"\n",
      "    }\n",
      "}\n",
      "\n",
      "Request failed with status code: 429\n",
      "Response: {\n",
      "    \"error\": {\n",
      "        \"message\": \"You exceeded your current quota, please check your plan and billing details. For more information on this error, read the docs: https://platform.openai.com/docs/guides/error-codes/api-errors.\",\n",
      "        \"type\": \"insufficient_quota\",\n",
      "        \"param\": null,\n",
      "        \"code\": \"insufficient_quota\"\n",
      "    }\n",
      "}\n",
      "\n"
     ]
    },
    {
     "name": "stderr",
     "output_type": "stream",
     "text": [
      "\n",
      "Processing mushroom.hi-tst.v1.jsonl:   7%|▋         | 11/150 [00:36<07:30,  3.24s/entry]\u001B[A"
     ]
    },
    {
     "name": "stdout",
     "output_type": "stream",
     "text": [
      "Request failed with status code: 429\n",
      "Response: {\n",
      "    \"error\": {\n",
      "        \"message\": \"You exceeded your current quota, please check your plan and billing details. For more information on this error, read the docs: https://platform.openai.com/docs/guides/error-codes/api-errors.\",\n",
      "        \"type\": \"insufficient_quota\",\n",
      "        \"param\": null,\n",
      "        \"code\": \"insufficient_quota\"\n",
      "    }\n",
      "}\n",
      "\n",
      "Retry limit exceeded, returning empty result\n",
      "Request failed with status code: 429\n",
      "Response: {\n",
      "    \"error\": {\n",
      "        \"message\": \"You exceeded your current quota, please check your plan and billing details. For more information on this error, read the docs: https://platform.openai.com/docs/guides/error-codes/api-errors.\",\n",
      "        \"type\": \"insufficient_quota\",\n",
      "        \"param\": null,\n",
      "        \"code\": \"insufficient_quota\"\n",
      "    }\n",
      "}\n",
      "\n",
      "Request failed with status code: 429\n",
      "Response: {\n",
      "    \"error\": {\n",
      "        \"message\": \"You exceeded your current quota, please check your plan and billing details. For more information on this error, read the docs: https://platform.openai.com/docs/guides/error-codes/api-errors.\",\n",
      "        \"type\": \"insufficient_quota\",\n",
      "        \"param\": null,\n",
      "        \"code\": \"insufficient_quota\"\n",
      "    }\n",
      "}\n",
      "\n"
     ]
    },
    {
     "name": "stderr",
     "output_type": "stream",
     "text": [
      "\n",
      "Processing mushroom.hi-tst.v1.jsonl:   8%|▊         | 12/150 [00:39<07:30,  3.26s/entry]\u001B[A"
     ]
    },
    {
     "name": "stdout",
     "output_type": "stream",
     "text": [
      "Request failed with status code: 429\n",
      "Response: {\n",
      "    \"error\": {\n",
      "        \"message\": \"You exceeded your current quota, please check your plan and billing details. For more information on this error, read the docs: https://platform.openai.com/docs/guides/error-codes/api-errors.\",\n",
      "        \"type\": \"insufficient_quota\",\n",
      "        \"param\": null,\n",
      "        \"code\": \"insufficient_quota\"\n",
      "    }\n",
      "}\n",
      "\n",
      "Retry limit exceeded, returning empty result\n",
      "Request failed with status code: 429\n",
      "Response: {\n",
      "    \"error\": {\n",
      "        \"message\": \"You exceeded your current quota, please check your plan and billing details. For more information on this error, read the docs: https://platform.openai.com/docs/guides/error-codes/api-errors.\",\n",
      "        \"type\": \"insufficient_quota\",\n",
      "        \"param\": null,\n",
      "        \"code\": \"insufficient_quota\"\n",
      "    }\n",
      "}\n",
      "\n",
      "Request failed with status code: 429\n",
      "Response: {\n",
      "    \"error\": {\n",
      "        \"message\": \"You exceeded your current quota, please check your plan and billing details. For more information on this error, read the docs: https://platform.openai.com/docs/guides/error-codes/api-errors.\",\n",
      "        \"type\": \"insufficient_quota\",\n",
      "        \"param\": null,\n",
      "        \"code\": \"insufficient_quota\"\n",
      "    }\n",
      "}\n",
      "\n"
     ]
    },
    {
     "name": "stderr",
     "output_type": "stream",
     "text": [
      "\n",
      "Processing mushroom.hi-tst.v1.jsonl:   9%|▊         | 13/150 [00:42<07:24,  3.25s/entry]\u001B[A"
     ]
    },
    {
     "name": "stdout",
     "output_type": "stream",
     "text": [
      "Request failed with status code: 429\n",
      "Response: {\n",
      "    \"error\": {\n",
      "        \"message\": \"You exceeded your current quota, please check your plan and billing details. For more information on this error, read the docs: https://platform.openai.com/docs/guides/error-codes/api-errors.\",\n",
      "        \"type\": \"insufficient_quota\",\n",
      "        \"param\": null,\n",
      "        \"code\": \"insufficient_quota\"\n",
      "    }\n",
      "}\n",
      "\n",
      "Retry limit exceeded, returning empty result\n",
      "Request failed with status code: 429\n",
      "Response: {\n",
      "    \"error\": {\n",
      "        \"message\": \"You exceeded your current quota, please check your plan and billing details. For more information on this error, read the docs: https://platform.openai.com/docs/guides/error-codes/api-errors.\",\n",
      "        \"type\": \"insufficient_quota\",\n",
      "        \"param\": null,\n",
      "        \"code\": \"insufficient_quota\"\n",
      "    }\n",
      "}\n",
      "\n",
      "Request failed with status code: 429\n",
      "Response: {\n",
      "    \"error\": {\n",
      "        \"message\": \"You exceeded your current quota, please check your plan and billing details. For more information on this error, read the docs: https://platform.openai.com/docs/guides/error-codes/api-errors.\",\n",
      "        \"type\": \"insufficient_quota\",\n",
      "        \"param\": null,\n",
      "        \"code\": \"insufficient_quota\"\n",
      "    }\n",
      "}\n",
      "\n"
     ]
    },
    {
     "name": "stderr",
     "output_type": "stream",
     "text": [
      "\n",
      "Processing mushroom.hi-tst.v1.jsonl:   9%|▉         | 14/150 [00:46<07:43,  3.41s/entry]\u001B[A"
     ]
    },
    {
     "name": "stdout",
     "output_type": "stream",
     "text": [
      "Request failed with status code: 429\n",
      "Response: {\n",
      "    \"error\": {\n",
      "        \"message\": \"You exceeded your current quota, please check your plan and billing details. For more information on this error, read the docs: https://platform.openai.com/docs/guides/error-codes/api-errors.\",\n",
      "        \"type\": \"insufficient_quota\",\n",
      "        \"param\": null,\n",
      "        \"code\": \"insufficient_quota\"\n",
      "    }\n",
      "}\n",
      "\n",
      "Retry limit exceeded, returning empty result\n",
      "Request failed with status code: 429\n",
      "Response: {\n",
      "    \"error\": {\n",
      "        \"message\": \"You exceeded your current quota, please check your plan and billing details. For more information on this error, read the docs: https://platform.openai.com/docs/guides/error-codes/api-errors.\",\n",
      "        \"type\": \"insufficient_quota\",\n",
      "        \"param\": null,\n",
      "        \"code\": \"insufficient_quota\"\n",
      "    }\n",
      "}\n",
      "\n",
      "Request failed with status code: 429\n",
      "Response: {\n",
      "    \"error\": {\n",
      "        \"message\": \"You exceeded your current quota, please check your plan and billing details. For more information on this error, read the docs: https://platform.openai.com/docs/guides/error-codes/api-errors.\",\n",
      "        \"type\": \"insufficient_quota\",\n",
      "        \"param\": null,\n",
      "        \"code\": \"insufficient_quota\"\n",
      "    }\n",
      "}\n",
      "\n"
     ]
    },
    {
     "name": "stderr",
     "output_type": "stream",
     "text": [
      "\n",
      "Processing mushroom.hi-tst.v1.jsonl:  10%|█         | 15/150 [00:49<07:35,  3.37s/entry]\u001B[A"
     ]
    },
    {
     "name": "stdout",
     "output_type": "stream",
     "text": [
      "Request failed with status code: 429\n",
      "Response: {\n",
      "    \"error\": {\n",
      "        \"message\": \"You exceeded your current quota, please check your plan and billing details. For more information on this error, read the docs: https://platform.openai.com/docs/guides/error-codes/api-errors.\",\n",
      "        \"type\": \"insufficient_quota\",\n",
      "        \"param\": null,\n",
      "        \"code\": \"insufficient_quota\"\n",
      "    }\n",
      "}\n",
      "\n",
      "Retry limit exceeded, returning empty result\n",
      "Request failed with status code: 429\n",
      "Response: {\n",
      "    \"error\": {\n",
      "        \"message\": \"You exceeded your current quota, please check your plan and billing details. For more information on this error, read the docs: https://platform.openai.com/docs/guides/error-codes/api-errors.\",\n",
      "        \"type\": \"insufficient_quota\",\n",
      "        \"param\": null,\n",
      "        \"code\": \"insufficient_quota\"\n",
      "    }\n",
      "}\n",
      "\n",
      "Request failed with status code: 429\n",
      "Response: {\n",
      "    \"error\": {\n",
      "        \"message\": \"You exceeded your current quota, please check your plan and billing details. For more information on this error, read the docs: https://platform.openai.com/docs/guides/error-codes/api-errors.\",\n",
      "        \"type\": \"insufficient_quota\",\n",
      "        \"param\": null,\n",
      "        \"code\": \"insufficient_quota\"\n",
      "    }\n",
      "}\n",
      "\n"
     ]
    },
    {
     "name": "stderr",
     "output_type": "stream",
     "text": [
      "\n",
      "Processing mushroom.hi-tst.v1.jsonl:  11%|█         | 16/150 [00:52<07:30,  3.36s/entry]\u001B[A"
     ]
    },
    {
     "name": "stdout",
     "output_type": "stream",
     "text": [
      "Request failed with status code: 429\n",
      "Response: {\n",
      "    \"error\": {\n",
      "        \"message\": \"You exceeded your current quota, please check your plan and billing details. For more information on this error, read the docs: https://platform.openai.com/docs/guides/error-codes/api-errors.\",\n",
      "        \"type\": \"insufficient_quota\",\n",
      "        \"param\": null,\n",
      "        \"code\": \"insufficient_quota\"\n",
      "    }\n",
      "}\n",
      "\n",
      "Retry limit exceeded, returning empty result\n",
      "Request failed with status code: 429\n",
      "Response: {\n",
      "    \"error\": {\n",
      "        \"message\": \"You exceeded your current quota, please check your plan and billing details. For more information on this error, read the docs: https://platform.openai.com/docs/guides/error-codes/api-errors.\",\n",
      "        \"type\": \"insufficient_quota\",\n",
      "        \"param\": null,\n",
      "        \"code\": \"insufficient_quota\"\n",
      "    }\n",
      "}\n",
      "\n",
      "Request failed with status code: 429\n",
      "Response: {\n",
      "    \"error\": {\n",
      "        \"message\": \"You exceeded your current quota, please check your plan and billing details. For more information on this error, read the docs: https://platform.openai.com/docs/guides/error-codes/api-errors.\",\n",
      "        \"type\": \"insufficient_quota\",\n",
      "        \"param\": null,\n",
      "        \"code\": \"insufficient_quota\"\n",
      "    }\n",
      "}\n",
      "\n"
     ]
    },
    {
     "name": "stderr",
     "output_type": "stream",
     "text": [
      "\n",
      "Processing mushroom.hi-tst.v1.jsonl:  11%|█▏        | 17/150 [00:56<07:26,  3.36s/entry]\u001B[A"
     ]
    },
    {
     "name": "stdout",
     "output_type": "stream",
     "text": [
      "Request failed with status code: 429\n",
      "Response: {\n",
      "    \"error\": {\n",
      "        \"message\": \"You exceeded your current quota, please check your plan and billing details. For more information on this error, read the docs: https://platform.openai.com/docs/guides/error-codes/api-errors.\",\n",
      "        \"type\": \"insufficient_quota\",\n",
      "        \"param\": null,\n",
      "        \"code\": \"insufficient_quota\"\n",
      "    }\n",
      "}\n",
      "\n",
      "Retry limit exceeded, returning empty result\n",
      "Request failed with status code: 429\n",
      "Response: {\n",
      "    \"error\": {\n",
      "        \"message\": \"You exceeded your current quota, please check your plan and billing details. For more information on this error, read the docs: https://platform.openai.com/docs/guides/error-codes/api-errors.\",\n",
      "        \"type\": \"insufficient_quota\",\n",
      "        \"param\": null,\n",
      "        \"code\": \"insufficient_quota\"\n",
      "    }\n",
      "}\n",
      "\n",
      "Request failed with status code: 429\n",
      "Response: {\n",
      "    \"error\": {\n",
      "        \"message\": \"You exceeded your current quota, please check your plan and billing details. For more information on this error, read the docs: https://platform.openai.com/docs/guides/error-codes/api-errors.\",\n",
      "        \"type\": \"insufficient_quota\",\n",
      "        \"param\": null,\n",
      "        \"code\": \"insufficient_quota\"\n",
      "    }\n",
      "}\n",
      "\n"
     ]
    },
    {
     "name": "stderr",
     "output_type": "stream",
     "text": [
      "\n",
      "Processing mushroom.hi-tst.v1.jsonl:  12%|█▏        | 18/150 [00:59<07:18,  3.32s/entry]\u001B[A"
     ]
    },
    {
     "name": "stdout",
     "output_type": "stream",
     "text": [
      "Request failed with status code: 429\n",
      "Response: {\n",
      "    \"error\": {\n",
      "        \"message\": \"You exceeded your current quota, please check your plan and billing details. For more information on this error, read the docs: https://platform.openai.com/docs/guides/error-codes/api-errors.\",\n",
      "        \"type\": \"insufficient_quota\",\n",
      "        \"param\": null,\n",
      "        \"code\": \"insufficient_quota\"\n",
      "    }\n",
      "}\n",
      "\n",
      "Retry limit exceeded, returning empty result\n",
      "Request failed with status code: 429\n",
      "Response: {\n",
      "    \"error\": {\n",
      "        \"message\": \"You exceeded your current quota, please check your plan and billing details. For more information on this error, read the docs: https://platform.openai.com/docs/guides/error-codes/api-errors.\",\n",
      "        \"type\": \"insufficient_quota\",\n",
      "        \"param\": null,\n",
      "        \"code\": \"insufficient_quota\"\n",
      "    }\n",
      "}\n",
      "\n",
      "Request failed with status code: 429\n",
      "Response: {\n",
      "    \"error\": {\n",
      "        \"message\": \"You exceeded your current quota, please check your plan and billing details. For more information on this error, read the docs: https://platform.openai.com/docs/guides/error-codes/api-errors.\",\n",
      "        \"type\": \"insufficient_quota\",\n",
      "        \"param\": null,\n",
      "        \"code\": \"insufficient_quota\"\n",
      "    }\n",
      "}\n",
      "\n"
     ]
    },
    {
     "name": "stderr",
     "output_type": "stream",
     "text": [
      "\n",
      "Processing mushroom.hi-tst.v1.jsonl:  13%|█▎        | 19/150 [01:02<07:15,  3.32s/entry]\u001B[A"
     ]
    },
    {
     "name": "stdout",
     "output_type": "stream",
     "text": [
      "Request failed with status code: 429\n",
      "Response: {\n",
      "    \"error\": {\n",
      "        \"message\": \"You exceeded your current quota, please check your plan and billing details. For more information on this error, read the docs: https://platform.openai.com/docs/guides/error-codes/api-errors.\",\n",
      "        \"type\": \"insufficient_quota\",\n",
      "        \"param\": null,\n",
      "        \"code\": \"insufficient_quota\"\n",
      "    }\n",
      "}\n",
      "\n",
      "Retry limit exceeded, returning empty result\n",
      "Request failed with status code: 429\n",
      "Response: {\n",
      "    \"error\": {\n",
      "        \"message\": \"You exceeded your current quota, please check your plan and billing details. For more information on this error, read the docs: https://platform.openai.com/docs/guides/error-codes/api-errors.\",\n",
      "        \"type\": \"insufficient_quota\",\n",
      "        \"param\": null,\n",
      "        \"code\": \"insufficient_quota\"\n",
      "    }\n",
      "}\n",
      "\n",
      "Request failed with status code: 429\n",
      "Response: {\n",
      "    \"error\": {\n",
      "        \"message\": \"You exceeded your current quota, please check your plan and billing details. For more information on this error, read the docs: https://platform.openai.com/docs/guides/error-codes/api-errors.\",\n",
      "        \"type\": \"insufficient_quota\",\n",
      "        \"param\": null,\n",
      "        \"code\": \"insufficient_quota\"\n",
      "    }\n",
      "}\n",
      "\n"
     ]
    },
    {
     "name": "stderr",
     "output_type": "stream",
     "text": [
      "\n",
      "Processing mushroom.hi-tst.v1.jsonl:  13%|█▎        | 20/150 [01:06<07:10,  3.31s/entry]\u001B[A"
     ]
    },
    {
     "name": "stdout",
     "output_type": "stream",
     "text": [
      "Request failed with status code: 429\n",
      "Response: {\n",
      "    \"error\": {\n",
      "        \"message\": \"You exceeded your current quota, please check your plan and billing details. For more information on this error, read the docs: https://platform.openai.com/docs/guides/error-codes/api-errors.\",\n",
      "        \"type\": \"insufficient_quota\",\n",
      "        \"param\": null,\n",
      "        \"code\": \"insufficient_quota\"\n",
      "    }\n",
      "}\n",
      "\n",
      "Retry limit exceeded, returning empty result\n",
      "Request failed with status code: 429\n",
      "Response: {\n",
      "    \"error\": {\n",
      "        \"message\": \"You exceeded your current quota, please check your plan and billing details. For more information on this error, read the docs: https://platform.openai.com/docs/guides/error-codes/api-errors.\",\n",
      "        \"type\": \"insufficient_quota\",\n",
      "        \"param\": null,\n",
      "        \"code\": \"insufficient_quota\"\n",
      "    }\n",
      "}\n",
      "\n",
      "Request failed with status code: 429\n",
      "Response: {\n",
      "    \"error\": {\n",
      "        \"message\": \"You exceeded your current quota, please check your plan and billing details. For more information on this error, read the docs: https://platform.openai.com/docs/guides/error-codes/api-errors.\",\n",
      "        \"type\": \"insufficient_quota\",\n",
      "        \"param\": null,\n",
      "        \"code\": \"insufficient_quota\"\n",
      "    }\n",
      "}\n",
      "\n"
     ]
    },
    {
     "name": "stderr",
     "output_type": "stream",
     "text": [
      "\n",
      "Processing mushroom.hi-tst.v1.jsonl:  14%|█▍        | 21/150 [01:09<07:08,  3.32s/entry]\u001B[A"
     ]
    },
    {
     "name": "stdout",
     "output_type": "stream",
     "text": [
      "Request failed with status code: 429\n",
      "Response: {\n",
      "    \"error\": {\n",
      "        \"message\": \"You exceeded your current quota, please check your plan and billing details. For more information on this error, read the docs: https://platform.openai.com/docs/guides/error-codes/api-errors.\",\n",
      "        \"type\": \"insufficient_quota\",\n",
      "        \"param\": null,\n",
      "        \"code\": \"insufficient_quota\"\n",
      "    }\n",
      "}\n",
      "\n",
      "Retry limit exceeded, returning empty result\n",
      "Request failed with status code: 429\n",
      "Response: {\n",
      "    \"error\": {\n",
      "        \"message\": \"You exceeded your current quota, please check your plan and billing details. For more information on this error, read the docs: https://platform.openai.com/docs/guides/error-codes/api-errors.\",\n",
      "        \"type\": \"insufficient_quota\",\n",
      "        \"param\": null,\n",
      "        \"code\": \"insufficient_quota\"\n",
      "    }\n",
      "}\n",
      "\n",
      "Request failed with status code: 429\n",
      "Response: {\n",
      "    \"error\": {\n",
      "        \"message\": \"You exceeded your current quota, please check your plan and billing details. For more information on this error, read the docs: https://platform.openai.com/docs/guides/error-codes/api-errors.\",\n",
      "        \"type\": \"insufficient_quota\",\n",
      "        \"param\": null,\n",
      "        \"code\": \"insufficient_quota\"\n",
      "    }\n",
      "}\n",
      "\n"
     ]
    },
    {
     "name": "stderr",
     "output_type": "stream",
     "text": [
      "\n",
      "Processing mushroom.hi-tst.v1.jsonl:  15%|█▍        | 22/150 [01:12<07:03,  3.31s/entry]\u001B[A"
     ]
    },
    {
     "name": "stdout",
     "output_type": "stream",
     "text": [
      "Request failed with status code: 429\n",
      "Response: {\n",
      "    \"error\": {\n",
      "        \"message\": \"You exceeded your current quota, please check your plan and billing details. For more information on this error, read the docs: https://platform.openai.com/docs/guides/error-codes/api-errors.\",\n",
      "        \"type\": \"insufficient_quota\",\n",
      "        \"param\": null,\n",
      "        \"code\": \"insufficient_quota\"\n",
      "    }\n",
      "}\n",
      "\n",
      "Retry limit exceeded, returning empty result\n",
      "Request failed with status code: 429\n",
      "Response: {\n",
      "    \"error\": {\n",
      "        \"message\": \"You exceeded your current quota, please check your plan and billing details. For more information on this error, read the docs: https://platform.openai.com/docs/guides/error-codes/api-errors.\",\n",
      "        \"type\": \"insufficient_quota\",\n",
      "        \"param\": null,\n",
      "        \"code\": \"insufficient_quota\"\n",
      "    }\n",
      "}\n",
      "\n",
      "Request failed with status code: 429\n",
      "Response: {\n",
      "    \"error\": {\n",
      "        \"message\": \"You exceeded your current quota, please check your plan and billing details. For more information on this error, read the docs: https://platform.openai.com/docs/guides/error-codes/api-errors.\",\n",
      "        \"type\": \"insufficient_quota\",\n",
      "        \"param\": null,\n",
      "        \"code\": \"insufficient_quota\"\n",
      "    }\n",
      "}\n",
      "\n"
     ]
    },
    {
     "name": "stderr",
     "output_type": "stream",
     "text": [
      "\n",
      "Processing mushroom.hi-tst.v1.jsonl:  15%|█▌        | 23/150 [01:16<07:03,  3.34s/entry]\u001B[A"
     ]
    },
    {
     "name": "stdout",
     "output_type": "stream",
     "text": [
      "Request failed with status code: 429\n",
      "Response: {\n",
      "    \"error\": {\n",
      "        \"message\": \"You exceeded your current quota, please check your plan and billing details. For more information on this error, read the docs: https://platform.openai.com/docs/guides/error-codes/api-errors.\",\n",
      "        \"type\": \"insufficient_quota\",\n",
      "        \"param\": null,\n",
      "        \"code\": \"insufficient_quota\"\n",
      "    }\n",
      "}\n",
      "\n",
      "Retry limit exceeded, returning empty result\n",
      "Request failed with status code: 429\n",
      "Response: {\n",
      "    \"error\": {\n",
      "        \"message\": \"You exceeded your current quota, please check your plan and billing details. For more information on this error, read the docs: https://platform.openai.com/docs/guides/error-codes/api-errors.\",\n",
      "        \"type\": \"insufficient_quota\",\n",
      "        \"param\": null,\n",
      "        \"code\": \"insufficient_quota\"\n",
      "    }\n",
      "}\n",
      "\n",
      "Request failed with status code: 429\n",
      "Response: {\n",
      "    \"error\": {\n",
      "        \"message\": \"You exceeded your current quota, please check your plan and billing details. For more information on this error, read the docs: https://platform.openai.com/docs/guides/error-codes/api-errors.\",\n",
      "        \"type\": \"insufficient_quota\",\n",
      "        \"param\": null,\n",
      "        \"code\": \"insufficient_quota\"\n",
      "    }\n",
      "}\n",
      "\n"
     ]
    },
    {
     "name": "stderr",
     "output_type": "stream",
     "text": [
      "\n",
      "Processing mushroom.hi-tst.v1.jsonl:  16%|█▌        | 24/150 [01:19<06:57,  3.31s/entry]\u001B[A"
     ]
    },
    {
     "name": "stdout",
     "output_type": "stream",
     "text": [
      "Request failed with status code: 429\n",
      "Response: {\n",
      "    \"error\": {\n",
      "        \"message\": \"You exceeded your current quota, please check your plan and billing details. For more information on this error, read the docs: https://platform.openai.com/docs/guides/error-codes/api-errors.\",\n",
      "        \"type\": \"insufficient_quota\",\n",
      "        \"param\": null,\n",
      "        \"code\": \"insufficient_quota\"\n",
      "    }\n",
      "}\n",
      "\n",
      "Retry limit exceeded, returning empty result\n",
      "Request failed with status code: 429\n",
      "Response: {\n",
      "    \"error\": {\n",
      "        \"message\": \"You exceeded your current quota, please check your plan and billing details. For more information on this error, read the docs: https://platform.openai.com/docs/guides/error-codes/api-errors.\",\n",
      "        \"type\": \"insufficient_quota\",\n",
      "        \"param\": null,\n",
      "        \"code\": \"insufficient_quota\"\n",
      "    }\n",
      "}\n",
      "\n",
      "Request failed with status code: 429\n",
      "Response: {\n",
      "    \"error\": {\n",
      "        \"message\": \"You exceeded your current quota, please check your plan and billing details. For more information on this error, read the docs: https://platform.openai.com/docs/guides/error-codes/api-errors.\",\n",
      "        \"type\": \"insufficient_quota\",\n",
      "        \"param\": null,\n",
      "        \"code\": \"insufficient_quota\"\n",
      "    }\n",
      "}\n",
      "\n"
     ]
    },
    {
     "name": "stderr",
     "output_type": "stream",
     "text": [
      "\n",
      "Processing mushroom.hi-tst.v1.jsonl:  17%|█▋        | 25/150 [01:22<06:57,  3.34s/entry]\u001B[A"
     ]
    },
    {
     "name": "stdout",
     "output_type": "stream",
     "text": [
      "Request failed with status code: 429\n",
      "Response: {\n",
      "    \"error\": {\n",
      "        \"message\": \"You exceeded your current quota, please check your plan and billing details. For more information on this error, read the docs: https://platform.openai.com/docs/guides/error-codes/api-errors.\",\n",
      "        \"type\": \"insufficient_quota\",\n",
      "        \"param\": null,\n",
      "        \"code\": \"insufficient_quota\"\n",
      "    }\n",
      "}\n",
      "\n",
      "Retry limit exceeded, returning empty result\n",
      "Request failed with status code: 429\n",
      "Response: {\n",
      "    \"error\": {\n",
      "        \"message\": \"You exceeded your current quota, please check your plan and billing details. For more information on this error, read the docs: https://platform.openai.com/docs/guides/error-codes/api-errors.\",\n",
      "        \"type\": \"insufficient_quota\",\n",
      "        \"param\": null,\n",
      "        \"code\": \"insufficient_quota\"\n",
      "    }\n",
      "}\n",
      "\n",
      "Request failed with status code: 429\n",
      "Response: {\n",
      "    \"error\": {\n",
      "        \"message\": \"You exceeded your current quota, please check your plan and billing details. For more information on this error, read the docs: https://platform.openai.com/docs/guides/error-codes/api-errors.\",\n",
      "        \"type\": \"insufficient_quota\",\n",
      "        \"param\": null,\n",
      "        \"code\": \"insufficient_quota\"\n",
      "    }\n",
      "}\n",
      "\n"
     ]
    },
    {
     "name": "stderr",
     "output_type": "stream",
     "text": [
      "\n",
      "Processing mushroom.hi-tst.v1.jsonl:  17%|█▋        | 26/150 [01:26<06:52,  3.33s/entry]\u001B[A"
     ]
    },
    {
     "name": "stdout",
     "output_type": "stream",
     "text": [
      "Request failed with status code: 429\n",
      "Response: {\n",
      "    \"error\": {\n",
      "        \"message\": \"You exceeded your current quota, please check your plan and billing details. For more information on this error, read the docs: https://platform.openai.com/docs/guides/error-codes/api-errors.\",\n",
      "        \"type\": \"insufficient_quota\",\n",
      "        \"param\": null,\n",
      "        \"code\": \"insufficient_quota\"\n",
      "    }\n",
      "}\n",
      "\n",
      "Retry limit exceeded, returning empty result\n",
      "Request failed with status code: 429\n",
      "Response: {\n",
      "    \"error\": {\n",
      "        \"message\": \"You exceeded your current quota, please check your plan and billing details. For more information on this error, read the docs: https://platform.openai.com/docs/guides/error-codes/api-errors.\",\n",
      "        \"type\": \"insufficient_quota\",\n",
      "        \"param\": null,\n",
      "        \"code\": \"insufficient_quota\"\n",
      "    }\n",
      "}\n",
      "\n",
      "Request failed with status code: 429\n",
      "Response: {\n",
      "    \"error\": {\n",
      "        \"message\": \"You exceeded your current quota, please check your plan and billing details. For more information on this error, read the docs: https://platform.openai.com/docs/guides/error-codes/api-errors.\",\n",
      "        \"type\": \"insufficient_quota\",\n",
      "        \"param\": null,\n",
      "        \"code\": \"insufficient_quota\"\n",
      "    }\n",
      "}\n",
      "\n"
     ]
    },
    {
     "name": "stderr",
     "output_type": "stream",
     "text": [
      "\n",
      "Processing mushroom.hi-tst.v1.jsonl:  18%|█▊        | 27/150 [01:29<06:49,  3.33s/entry]\u001B[A"
     ]
    },
    {
     "name": "stdout",
     "output_type": "stream",
     "text": [
      "Request failed with status code: 429\n",
      "Response: {\n",
      "    \"error\": {\n",
      "        \"message\": \"You exceeded your current quota, please check your plan and billing details. For more information on this error, read the docs: https://platform.openai.com/docs/guides/error-codes/api-errors.\",\n",
      "        \"type\": \"insufficient_quota\",\n",
      "        \"param\": null,\n",
      "        \"code\": \"insufficient_quota\"\n",
      "    }\n",
      "}\n",
      "\n",
      "Retry limit exceeded, returning empty result\n",
      "Request failed with status code: 429\n",
      "Response: {\n",
      "    \"error\": {\n",
      "        \"message\": \"You exceeded your current quota, please check your plan and billing details. For more information on this error, read the docs: https://platform.openai.com/docs/guides/error-codes/api-errors.\",\n",
      "        \"type\": \"insufficient_quota\",\n",
      "        \"param\": null,\n",
      "        \"code\": \"insufficient_quota\"\n",
      "    }\n",
      "}\n",
      "\n",
      "Request failed with status code: 429\n",
      "Response: {\n",
      "    \"error\": {\n",
      "        \"message\": \"You exceeded your current quota, please check your plan and billing details. For more information on this error, read the docs: https://platform.openai.com/docs/guides/error-codes/api-errors.\",\n",
      "        \"type\": \"insufficient_quota\",\n",
      "        \"param\": null,\n",
      "        \"code\": \"insufficient_quota\"\n",
      "    }\n",
      "}\n",
      "\n"
     ]
    },
    {
     "name": "stderr",
     "output_type": "stream",
     "text": [
      "\n",
      "Processing mushroom.hi-tst.v1.jsonl:  19%|█▊        | 28/150 [01:32<06:43,  3.30s/entry]\u001B[A"
     ]
    },
    {
     "name": "stdout",
     "output_type": "stream",
     "text": [
      "Request failed with status code: 429\n",
      "Response: {\n",
      "    \"error\": {\n",
      "        \"message\": \"You exceeded your current quota, please check your plan and billing details. For more information on this error, read the docs: https://platform.openai.com/docs/guides/error-codes/api-errors.\",\n",
      "        \"type\": \"insufficient_quota\",\n",
      "        \"param\": null,\n",
      "        \"code\": \"insufficient_quota\"\n",
      "    }\n",
      "}\n",
      "\n",
      "Retry limit exceeded, returning empty result\n",
      "Request failed with status code: 429\n",
      "Response: {\n",
      "    \"error\": {\n",
      "        \"message\": \"You exceeded your current quota, please check your plan and billing details. For more information on this error, read the docs: https://platform.openai.com/docs/guides/error-codes/api-errors.\",\n",
      "        \"type\": \"insufficient_quota\",\n",
      "        \"param\": null,\n",
      "        \"code\": \"insufficient_quota\"\n",
      "    }\n",
      "}\n",
      "\n",
      "Request failed with status code: 429\n",
      "Response: {\n",
      "    \"error\": {\n",
      "        \"message\": \"You exceeded your current quota, please check your plan and billing details. For more information on this error, read the docs: https://platform.openai.com/docs/guides/error-codes/api-errors.\",\n",
      "        \"type\": \"insufficient_quota\",\n",
      "        \"param\": null,\n",
      "        \"code\": \"insufficient_quota\"\n",
      "    }\n",
      "}\n",
      "\n"
     ]
    },
    {
     "name": "stderr",
     "output_type": "stream",
     "text": [
      "\n",
      "Processing mushroom.hi-tst.v1.jsonl:  19%|█▉        | 29/150 [01:36<06:41,  3.31s/entry]\u001B[A"
     ]
    },
    {
     "name": "stdout",
     "output_type": "stream",
     "text": [
      "Request failed with status code: 429\n",
      "Response: {\n",
      "    \"error\": {\n",
      "        \"message\": \"You exceeded your current quota, please check your plan and billing details. For more information on this error, read the docs: https://platform.openai.com/docs/guides/error-codes/api-errors.\",\n",
      "        \"type\": \"insufficient_quota\",\n",
      "        \"param\": null,\n",
      "        \"code\": \"insufficient_quota\"\n",
      "    }\n",
      "}\n",
      "\n",
      "Retry limit exceeded, returning empty result\n",
      "Request failed with status code: 429\n",
      "Response: {\n",
      "    \"error\": {\n",
      "        \"message\": \"You exceeded your current quota, please check your plan and billing details. For more information on this error, read the docs: https://platform.openai.com/docs/guides/error-codes/api-errors.\",\n",
      "        \"type\": \"insufficient_quota\",\n",
      "        \"param\": null,\n",
      "        \"code\": \"insufficient_quota\"\n",
      "    }\n",
      "}\n",
      "\n",
      "Request failed with status code: 429\n",
      "Response: {\n",
      "    \"error\": {\n",
      "        \"message\": \"You exceeded your current quota, please check your plan and billing details. For more information on this error, read the docs: https://platform.openai.com/docs/guides/error-codes/api-errors.\",\n",
      "        \"type\": \"insufficient_quota\",\n",
      "        \"param\": null,\n",
      "        \"code\": \"insufficient_quota\"\n",
      "    }\n",
      "}\n",
      "\n"
     ]
    },
    {
     "name": "stderr",
     "output_type": "stream",
     "text": [
      "\n",
      "Processing mushroom.hi-tst.v1.jsonl:  20%|██        | 30/150 [01:39<06:37,  3.31s/entry]\u001B[A"
     ]
    },
    {
     "name": "stdout",
     "output_type": "stream",
     "text": [
      "Request failed with status code: 429\n",
      "Response: {\n",
      "    \"error\": {\n",
      "        \"message\": \"You exceeded your current quota, please check your plan and billing details. For more information on this error, read the docs: https://platform.openai.com/docs/guides/error-codes/api-errors.\",\n",
      "        \"type\": \"insufficient_quota\",\n",
      "        \"param\": null,\n",
      "        \"code\": \"insufficient_quota\"\n",
      "    }\n",
      "}\n",
      "\n",
      "Retry limit exceeded, returning empty result\n",
      "Request failed with status code: 429\n",
      "Response: {\n",
      "    \"error\": {\n",
      "        \"message\": \"You exceeded your current quota, please check your plan and billing details. For more information on this error, read the docs: https://platform.openai.com/docs/guides/error-codes/api-errors.\",\n",
      "        \"type\": \"insufficient_quota\",\n",
      "        \"param\": null,\n",
      "        \"code\": \"insufficient_quota\"\n",
      "    }\n",
      "}\n",
      "\n",
      "Request failed with status code: 429\n",
      "Response: {\n",
      "    \"error\": {\n",
      "        \"message\": \"You exceeded your current quota, please check your plan and billing details. For more information on this error, read the docs: https://platform.openai.com/docs/guides/error-codes/api-errors.\",\n",
      "        \"type\": \"insufficient_quota\",\n",
      "        \"param\": null,\n",
      "        \"code\": \"insufficient_quota\"\n",
      "    }\n",
      "}\n",
      "\n"
     ]
    },
    {
     "name": "stderr",
     "output_type": "stream",
     "text": [
      "\n",
      "Processing mushroom.hi-tst.v1.jsonl:  21%|██        | 31/150 [01:42<06:37,  3.34s/entry]\u001B[A"
     ]
    },
    {
     "name": "stdout",
     "output_type": "stream",
     "text": [
      "Request failed with status code: 429\n",
      "Response: {\n",
      "    \"error\": {\n",
      "        \"message\": \"You exceeded your current quota, please check your plan and billing details. For more information on this error, read the docs: https://platform.openai.com/docs/guides/error-codes/api-errors.\",\n",
      "        \"type\": \"insufficient_quota\",\n",
      "        \"param\": null,\n",
      "        \"code\": \"insufficient_quota\"\n",
      "    }\n",
      "}\n",
      "\n",
      "Retry limit exceeded, returning empty result\n",
      "Request failed with status code: 429\n",
      "Response: {\n",
      "    \"error\": {\n",
      "        \"message\": \"You exceeded your current quota, please check your plan and billing details. For more information on this error, read the docs: https://platform.openai.com/docs/guides/error-codes/api-errors.\",\n",
      "        \"type\": \"insufficient_quota\",\n",
      "        \"param\": null,\n",
      "        \"code\": \"insufficient_quota\"\n",
      "    }\n",
      "}\n",
      "\n",
      "Request failed with status code: 429\n",
      "Response: {\n",
      "    \"error\": {\n",
      "        \"message\": \"You exceeded your current quota, please check your plan and billing details. For more information on this error, read the docs: https://platform.openai.com/docs/guides/error-codes/api-errors.\",\n",
      "        \"type\": \"insufficient_quota\",\n",
      "        \"param\": null,\n",
      "        \"code\": \"insufficient_quota\"\n",
      "    }\n",
      "}\n",
      "\n"
     ]
    },
    {
     "name": "stderr",
     "output_type": "stream",
     "text": [
      "\n",
      "Processing mushroom.hi-tst.v1.jsonl:  21%|██▏       | 32/150 [01:46<06:33,  3.33s/entry]\u001B[A"
     ]
    },
    {
     "name": "stdout",
     "output_type": "stream",
     "text": [
      "Request failed with status code: 429\n",
      "Response: {\n",
      "    \"error\": {\n",
      "        \"message\": \"You exceeded your current quota, please check your plan and billing details. For more information on this error, read the docs: https://platform.openai.com/docs/guides/error-codes/api-errors.\",\n",
      "        \"type\": \"insufficient_quota\",\n",
      "        \"param\": null,\n",
      "        \"code\": \"insufficient_quota\"\n",
      "    }\n",
      "}\n",
      "\n",
      "Retry limit exceeded, returning empty result\n",
      "Request failed with status code: 429\n",
      "Response: {\n",
      "    \"error\": {\n",
      "        \"message\": \"You exceeded your current quota, please check your plan and billing details. For more information on this error, read the docs: https://platform.openai.com/docs/guides/error-codes/api-errors.\",\n",
      "        \"type\": \"insufficient_quota\",\n",
      "        \"param\": null,\n",
      "        \"code\": \"insufficient_quota\"\n",
      "    }\n",
      "}\n",
      "\n",
      "Request failed with status code: 429\n",
      "Response: {\n",
      "    \"error\": {\n",
      "        \"message\": \"You exceeded your current quota, please check your plan and billing details. For more information on this error, read the docs: https://platform.openai.com/docs/guides/error-codes/api-errors.\",\n",
      "        \"type\": \"insufficient_quota\",\n",
      "        \"param\": null,\n",
      "        \"code\": \"insufficient_quota\"\n",
      "    }\n",
      "}\n",
      "\n"
     ]
    },
    {
     "name": "stderr",
     "output_type": "stream",
     "text": [
      "\n",
      "Processing mushroom.hi-tst.v1.jsonl:  22%|██▏       | 33/150 [01:49<06:28,  3.32s/entry]\u001B[A"
     ]
    },
    {
     "name": "stdout",
     "output_type": "stream",
     "text": [
      "Request failed with status code: 429\n",
      "Response: {\n",
      "    \"error\": {\n",
      "        \"message\": \"You exceeded your current quota, please check your plan and billing details. For more information on this error, read the docs: https://platform.openai.com/docs/guides/error-codes/api-errors.\",\n",
      "        \"type\": \"insufficient_quota\",\n",
      "        \"param\": null,\n",
      "        \"code\": \"insufficient_quota\"\n",
      "    }\n",
      "}\n",
      "\n",
      "Retry limit exceeded, returning empty result\n",
      "Request failed with status code: 429\n",
      "Response: {\n",
      "    \"error\": {\n",
      "        \"message\": \"You exceeded your current quota, please check your plan and billing details. For more information on this error, read the docs: https://platform.openai.com/docs/guides/error-codes/api-errors.\",\n",
      "        \"type\": \"insufficient_quota\",\n",
      "        \"param\": null,\n",
      "        \"code\": \"insufficient_quota\"\n",
      "    }\n",
      "}\n",
      "\n",
      "Request failed with status code: 429\n",
      "Response: {\n",
      "    \"error\": {\n",
      "        \"message\": \"You exceeded your current quota, please check your plan and billing details. For more information on this error, read the docs: https://platform.openai.com/docs/guides/error-codes/api-errors.\",\n",
      "        \"type\": \"insufficient_quota\",\n",
      "        \"param\": null,\n",
      "        \"code\": \"insufficient_quota\"\n",
      "    }\n",
      "}\n",
      "\n"
     ]
    },
    {
     "name": "stderr",
     "output_type": "stream",
     "text": [
      "\n",
      "Processing mushroom.hi-tst.v1.jsonl:  23%|██▎       | 34/150 [01:52<06:25,  3.32s/entry]\u001B[A"
     ]
    },
    {
     "name": "stdout",
     "output_type": "stream",
     "text": [
      "Request failed with status code: 429\n",
      "Response: {\n",
      "    \"error\": {\n",
      "        \"message\": \"You exceeded your current quota, please check your plan and billing details. For more information on this error, read the docs: https://platform.openai.com/docs/guides/error-codes/api-errors.\",\n",
      "        \"type\": \"insufficient_quota\",\n",
      "        \"param\": null,\n",
      "        \"code\": \"insufficient_quota\"\n",
      "    }\n",
      "}\n",
      "\n",
      "Retry limit exceeded, returning empty result\n",
      "Request failed with status code: 429\n",
      "Response: {\n",
      "    \"error\": {\n",
      "        \"message\": \"You exceeded your current quota, please check your plan and billing details. For more information on this error, read the docs: https://platform.openai.com/docs/guides/error-codes/api-errors.\",\n",
      "        \"type\": \"insufficient_quota\",\n",
      "        \"param\": null,\n",
      "        \"code\": \"insufficient_quota\"\n",
      "    }\n",
      "}\n",
      "\n",
      "Request failed with status code: 429\n",
      "Response: {\n",
      "    \"error\": {\n",
      "        \"message\": \"You exceeded your current quota, please check your plan and billing details. For more information on this error, read the docs: https://platform.openai.com/docs/guides/error-codes/api-errors.\",\n",
      "        \"type\": \"insufficient_quota\",\n",
      "        \"param\": null,\n",
      "        \"code\": \"insufficient_quota\"\n",
      "    }\n",
      "}\n",
      "\n"
     ]
    },
    {
     "name": "stderr",
     "output_type": "stream",
     "text": [
      "\n",
      "Processing mushroom.hi-tst.v1.jsonl:  23%|██▎       | 35/150 [01:55<06:19,  3.30s/entry]\u001B[A"
     ]
    },
    {
     "name": "stdout",
     "output_type": "stream",
     "text": [
      "Request failed with status code: 429\n",
      "Response: {\n",
      "    \"error\": {\n",
      "        \"message\": \"You exceeded your current quota, please check your plan and billing details. For more information on this error, read the docs: https://platform.openai.com/docs/guides/error-codes/api-errors.\",\n",
      "        \"type\": \"insufficient_quota\",\n",
      "        \"param\": null,\n",
      "        \"code\": \"insufficient_quota\"\n",
      "    }\n",
      "}\n",
      "\n",
      "Retry limit exceeded, returning empty result\n",
      "Request failed with status code: 429\n",
      "Response: {\n",
      "    \"error\": {\n",
      "        \"message\": \"You exceeded your current quota, please check your plan and billing details. For more information on this error, read the docs: https://platform.openai.com/docs/guides/error-codes/api-errors.\",\n",
      "        \"type\": \"insufficient_quota\",\n",
      "        \"param\": null,\n",
      "        \"code\": \"insufficient_quota\"\n",
      "    }\n",
      "}\n",
      "\n",
      "Request failed with status code: 429\n",
      "Response: {\n",
      "    \"error\": {\n",
      "        \"message\": \"You exceeded your current quota, please check your plan and billing details. For more information on this error, read the docs: https://platform.openai.com/docs/guides/error-codes/api-errors.\",\n",
      "        \"type\": \"insufficient_quota\",\n",
      "        \"param\": null,\n",
      "        \"code\": \"insufficient_quota\"\n",
      "    }\n",
      "}\n",
      "\n"
     ]
    },
    {
     "name": "stderr",
     "output_type": "stream",
     "text": [
      "\n",
      "Processing mushroom.hi-tst.v1.jsonl:  24%|██▍       | 36/150 [01:59<06:17,  3.31s/entry]\u001B[A"
     ]
    },
    {
     "name": "stdout",
     "output_type": "stream",
     "text": [
      "Request failed with status code: 429\n",
      "Response: {\n",
      "    \"error\": {\n",
      "        \"message\": \"You exceeded your current quota, please check your plan and billing details. For more information on this error, read the docs: https://platform.openai.com/docs/guides/error-codes/api-errors.\",\n",
      "        \"type\": \"insufficient_quota\",\n",
      "        \"param\": null,\n",
      "        \"code\": \"insufficient_quota\"\n",
      "    }\n",
      "}\n",
      "\n",
      "Retry limit exceeded, returning empty result\n",
      "Request failed with status code: 429\n",
      "Response: {\n",
      "    \"error\": {\n",
      "        \"message\": \"You exceeded your current quota, please check your plan and billing details. For more information on this error, read the docs: https://platform.openai.com/docs/guides/error-codes/api-errors.\",\n",
      "        \"type\": \"insufficient_quota\",\n",
      "        \"param\": null,\n",
      "        \"code\": \"insufficient_quota\"\n",
      "    }\n",
      "}\n",
      "\n",
      "Request failed with status code: 429\n",
      "Response: {\n",
      "    \"error\": {\n",
      "        \"message\": \"You exceeded your current quota, please check your plan and billing details. For more information on this error, read the docs: https://platform.openai.com/docs/guides/error-codes/api-errors.\",\n",
      "        \"type\": \"insufficient_quota\",\n",
      "        \"param\": null,\n",
      "        \"code\": \"insufficient_quota\"\n",
      "    }\n",
      "}\n",
      "\n"
     ]
    },
    {
     "name": "stderr",
     "output_type": "stream",
     "text": [
      "\n",
      "Processing mushroom.hi-tst.v1.jsonl:  25%|██▍       | 37/150 [02:02<06:14,  3.32s/entry]\u001B[A"
     ]
    },
    {
     "name": "stdout",
     "output_type": "stream",
     "text": [
      "Request failed with status code: 429\n",
      "Response: {\n",
      "    \"error\": {\n",
      "        \"message\": \"You exceeded your current quota, please check your plan and billing details. For more information on this error, read the docs: https://platform.openai.com/docs/guides/error-codes/api-errors.\",\n",
      "        \"type\": \"insufficient_quota\",\n",
      "        \"param\": null,\n",
      "        \"code\": \"insufficient_quota\"\n",
      "    }\n",
      "}\n",
      "\n",
      "Retry limit exceeded, returning empty result\n",
      "Request failed with status code: 429\n",
      "Response: {\n",
      "    \"error\": {\n",
      "        \"message\": \"You exceeded your current quota, please check your plan and billing details. For more information on this error, read the docs: https://platform.openai.com/docs/guides/error-codes/api-errors.\",\n",
      "        \"type\": \"insufficient_quota\",\n",
      "        \"param\": null,\n",
      "        \"code\": \"insufficient_quota\"\n",
      "    }\n",
      "}\n",
      "\n",
      "Request failed with status code: 429\n",
      "Response: {\n",
      "    \"error\": {\n",
      "        \"message\": \"You exceeded your current quota, please check your plan and billing details. For more information on this error, read the docs: https://platform.openai.com/docs/guides/error-codes/api-errors.\",\n",
      "        \"type\": \"insufficient_quota\",\n",
      "        \"param\": null,\n",
      "        \"code\": \"insufficient_quota\"\n",
      "    }\n",
      "}\n",
      "\n"
     ]
    },
    {
     "name": "stderr",
     "output_type": "stream",
     "text": [
      "\n",
      "Processing mushroom.hi-tst.v1.jsonl:  25%|██▌       | 38/150 [02:05<06:11,  3.32s/entry]\u001B[A"
     ]
    },
    {
     "name": "stdout",
     "output_type": "stream",
     "text": [
      "Request failed with status code: 429\n",
      "Response: {\n",
      "    \"error\": {\n",
      "        \"message\": \"You exceeded your current quota, please check your plan and billing details. For more information on this error, read the docs: https://platform.openai.com/docs/guides/error-codes/api-errors.\",\n",
      "        \"type\": \"insufficient_quota\",\n",
      "        \"param\": null,\n",
      "        \"code\": \"insufficient_quota\"\n",
      "    }\n",
      "}\n",
      "\n",
      "Retry limit exceeded, returning empty result\n",
      "Request failed with status code: 429\n",
      "Response: {\n",
      "    \"error\": {\n",
      "        \"message\": \"You exceeded your current quota, please check your plan and billing details. For more information on this error, read the docs: https://platform.openai.com/docs/guides/error-codes/api-errors.\",\n",
      "        \"type\": \"insufficient_quota\",\n",
      "        \"param\": null,\n",
      "        \"code\": \"insufficient_quota\"\n",
      "    }\n",
      "}\n",
      "\n",
      "Request failed with status code: 429\n",
      "Response: {\n",
      "    \"error\": {\n",
      "        \"message\": \"You exceeded your current quota, please check your plan and billing details. For more information on this error, read the docs: https://platform.openai.com/docs/guides/error-codes/api-errors.\",\n",
      "        \"type\": \"insufficient_quota\",\n",
      "        \"param\": null,\n",
      "        \"code\": \"insufficient_quota\"\n",
      "    }\n",
      "}\n",
      "\n"
     ]
    },
    {
     "name": "stderr",
     "output_type": "stream",
     "text": [
      "\n",
      "Processing mushroom.hi-tst.v1.jsonl:  26%|██▌       | 39/150 [02:09<06:07,  3.31s/entry]\u001B[A"
     ]
    },
    {
     "name": "stdout",
     "output_type": "stream",
     "text": [
      "Request failed with status code: 429\n",
      "Response: {\n",
      "    \"error\": {\n",
      "        \"message\": \"You exceeded your current quota, please check your plan and billing details. For more information on this error, read the docs: https://platform.openai.com/docs/guides/error-codes/api-errors.\",\n",
      "        \"type\": \"insufficient_quota\",\n",
      "        \"param\": null,\n",
      "        \"code\": \"insufficient_quota\"\n",
      "    }\n",
      "}\n",
      "\n",
      "Retry limit exceeded, returning empty result\n",
      "Request failed with status code: 429\n",
      "Response: {\n",
      "    \"error\": {\n",
      "        \"message\": \"You exceeded your current quota, please check your plan and billing details. For more information on this error, read the docs: https://platform.openai.com/docs/guides/error-codes/api-errors.\",\n",
      "        \"type\": \"insufficient_quota\",\n",
      "        \"param\": null,\n",
      "        \"code\": \"insufficient_quota\"\n",
      "    }\n",
      "}\n",
      "\n",
      "Request failed with status code: 429\n",
      "Response: {\n",
      "    \"error\": {\n",
      "        \"message\": \"You exceeded your current quota, please check your plan and billing details. For more information on this error, read the docs: https://platform.openai.com/docs/guides/error-codes/api-errors.\",\n",
      "        \"type\": \"insufficient_quota\",\n",
      "        \"param\": null,\n",
      "        \"code\": \"insufficient_quota\"\n",
      "    }\n",
      "}\n",
      "\n"
     ]
    },
    {
     "name": "stderr",
     "output_type": "stream",
     "text": [
      "\n",
      "Processing mushroom.hi-tst.v1.jsonl:  27%|██▋       | 40/150 [02:12<06:05,  3.32s/entry]\u001B[A"
     ]
    },
    {
     "name": "stdout",
     "output_type": "stream",
     "text": [
      "Request failed with status code: 429\n",
      "Response: {\n",
      "    \"error\": {\n",
      "        \"message\": \"You exceeded your current quota, please check your plan and billing details. For more information on this error, read the docs: https://platform.openai.com/docs/guides/error-codes/api-errors.\",\n",
      "        \"type\": \"insufficient_quota\",\n",
      "        \"param\": null,\n",
      "        \"code\": \"insufficient_quota\"\n",
      "    }\n",
      "}\n",
      "\n",
      "Retry limit exceeded, returning empty result\n",
      "Request failed with status code: 429\n",
      "Response: {\n",
      "    \"error\": {\n",
      "        \"message\": \"You exceeded your current quota, please check your plan and billing details. For more information on this error, read the docs: https://platform.openai.com/docs/guides/error-codes/api-errors.\",\n",
      "        \"type\": \"insufficient_quota\",\n",
      "        \"param\": null,\n",
      "        \"code\": \"insufficient_quota\"\n",
      "    }\n",
      "}\n",
      "\n",
      "Request failed with status code: 429\n",
      "Response: {\n",
      "    \"error\": {\n",
      "        \"message\": \"You exceeded your current quota, please check your plan and billing details. For more information on this error, read the docs: https://platform.openai.com/docs/guides/error-codes/api-errors.\",\n",
      "        \"type\": \"insufficient_quota\",\n",
      "        \"param\": null,\n",
      "        \"code\": \"insufficient_quota\"\n",
      "    }\n",
      "}\n",
      "\n"
     ]
    },
    {
     "name": "stderr",
     "output_type": "stream",
     "text": [
      "\n",
      "Processing mushroom.hi-tst.v1.jsonl:  27%|██▋       | 41/150 [02:15<05:59,  3.30s/entry]\u001B[A"
     ]
    },
    {
     "name": "stdout",
     "output_type": "stream",
     "text": [
      "Request failed with status code: 429\n",
      "Response: {\n",
      "    \"error\": {\n",
      "        \"message\": \"You exceeded your current quota, please check your plan and billing details. For more information on this error, read the docs: https://platform.openai.com/docs/guides/error-codes/api-errors.\",\n",
      "        \"type\": \"insufficient_quota\",\n",
      "        \"param\": null,\n",
      "        \"code\": \"insufficient_quota\"\n",
      "    }\n",
      "}\n",
      "\n",
      "Retry limit exceeded, returning empty result\n",
      "Request failed with status code: 429\n",
      "Response: {\n",
      "    \"error\": {\n",
      "        \"message\": \"You exceeded your current quota, please check your plan and billing details. For more information on this error, read the docs: https://platform.openai.com/docs/guides/error-codes/api-errors.\",\n",
      "        \"type\": \"insufficient_quota\",\n",
      "        \"param\": null,\n",
      "        \"code\": \"insufficient_quota\"\n",
      "    }\n",
      "}\n",
      "\n",
      "Request failed with status code: 429\n",
      "Response: {\n",
      "    \"error\": {\n",
      "        \"message\": \"You exceeded your current quota, please check your plan and billing details. For more information on this error, read the docs: https://platform.openai.com/docs/guides/error-codes/api-errors.\",\n",
      "        \"type\": \"insufficient_quota\",\n",
      "        \"param\": null,\n",
      "        \"code\": \"insufficient_quota\"\n",
      "    }\n",
      "}\n",
      "\n"
     ]
    },
    {
     "name": "stderr",
     "output_type": "stream",
     "text": [
      "\n",
      "Processing mushroom.hi-tst.v1.jsonl:  28%|██▊       | 42/150 [02:19<05:56,  3.30s/entry]\u001B[A"
     ]
    },
    {
     "name": "stdout",
     "output_type": "stream",
     "text": [
      "Request failed with status code: 429\n",
      "Response: {\n",
      "    \"error\": {\n",
      "        \"message\": \"You exceeded your current quota, please check your plan and billing details. For more information on this error, read the docs: https://platform.openai.com/docs/guides/error-codes/api-errors.\",\n",
      "        \"type\": \"insufficient_quota\",\n",
      "        \"param\": null,\n",
      "        \"code\": \"insufficient_quota\"\n",
      "    }\n",
      "}\n",
      "\n",
      "Retry limit exceeded, returning empty result\n",
      "Request failed with status code: 429\n",
      "Response: {\n",
      "    \"error\": {\n",
      "        \"message\": \"You exceeded your current quota, please check your plan and billing details. For more information on this error, read the docs: https://platform.openai.com/docs/guides/error-codes/api-errors.\",\n",
      "        \"type\": \"insufficient_quota\",\n",
      "        \"param\": null,\n",
      "        \"code\": \"insufficient_quota\"\n",
      "    }\n",
      "}\n",
      "\n",
      "Request failed with status code: 429\n",
      "Response: {\n",
      "    \"error\": {\n",
      "        \"message\": \"You exceeded your current quota, please check your plan and billing details. For more information on this error, read the docs: https://platform.openai.com/docs/guides/error-codes/api-errors.\",\n",
      "        \"type\": \"insufficient_quota\",\n",
      "        \"param\": null,\n",
      "        \"code\": \"insufficient_quota\"\n",
      "    }\n",
      "}\n",
      "\n"
     ]
    },
    {
     "name": "stderr",
     "output_type": "stream",
     "text": [
      "\n",
      "Processing mushroom.hi-tst.v1.jsonl:  29%|██▊       | 43/150 [02:22<05:55,  3.32s/entry]\u001B[A"
     ]
    },
    {
     "name": "stdout",
     "output_type": "stream",
     "text": [
      "Request failed with status code: 429\n",
      "Response: {\n",
      "    \"error\": {\n",
      "        \"message\": \"You exceeded your current quota, please check your plan and billing details. For more information on this error, read the docs: https://platform.openai.com/docs/guides/error-codes/api-errors.\",\n",
      "        \"type\": \"insufficient_quota\",\n",
      "        \"param\": null,\n",
      "        \"code\": \"insufficient_quota\"\n",
      "    }\n",
      "}\n",
      "\n",
      "Retry limit exceeded, returning empty result\n",
      "Request failed with status code: 429\n",
      "Response: {\n",
      "    \"error\": {\n",
      "        \"message\": \"You exceeded your current quota, please check your plan and billing details. For more information on this error, read the docs: https://platform.openai.com/docs/guides/error-codes/api-errors.\",\n",
      "        \"type\": \"insufficient_quota\",\n",
      "        \"param\": null,\n",
      "        \"code\": \"insufficient_quota\"\n",
      "    }\n",
      "}\n",
      "\n",
      "Request failed with status code: 429\n",
      "Response: {\n",
      "    \"error\": {\n",
      "        \"message\": \"You exceeded your current quota, please check your plan and billing details. For more information on this error, read the docs: https://platform.openai.com/docs/guides/error-codes/api-errors.\",\n",
      "        \"type\": \"insufficient_quota\",\n",
      "        \"param\": null,\n",
      "        \"code\": \"insufficient_quota\"\n",
      "    }\n",
      "}\n",
      "\n"
     ]
    },
    {
     "name": "stderr",
     "output_type": "stream",
     "text": [
      "\n",
      "Processing mushroom.hi-tst.v1.jsonl:  29%|██▉       | 44/150 [02:25<05:49,  3.30s/entry]\u001B[A"
     ]
    },
    {
     "name": "stdout",
     "output_type": "stream",
     "text": [
      "Request failed with status code: 429\n",
      "Response: {\n",
      "    \"error\": {\n",
      "        \"message\": \"You exceeded your current quota, please check your plan and billing details. For more information on this error, read the docs: https://platform.openai.com/docs/guides/error-codes/api-errors.\",\n",
      "        \"type\": \"insufficient_quota\",\n",
      "        \"param\": null,\n",
      "        \"code\": \"insufficient_quota\"\n",
      "    }\n",
      "}\n",
      "\n",
      "Retry limit exceeded, returning empty result\n",
      "Request failed with status code: 429\n",
      "Response: {\n",
      "    \"error\": {\n",
      "        \"message\": \"You exceeded your current quota, please check your plan and billing details. For more information on this error, read the docs: https://platform.openai.com/docs/guides/error-codes/api-errors.\",\n",
      "        \"type\": \"insufficient_quota\",\n",
      "        \"param\": null,\n",
      "        \"code\": \"insufficient_quota\"\n",
      "    }\n",
      "}\n",
      "\n",
      "Request failed with status code: 429\n",
      "Response: {\n",
      "    \"error\": {\n",
      "        \"message\": \"You exceeded your current quota, please check your plan and billing details. For more information on this error, read the docs: https://platform.openai.com/docs/guides/error-codes/api-errors.\",\n",
      "        \"type\": \"insufficient_quota\",\n",
      "        \"param\": null,\n",
      "        \"code\": \"insufficient_quota\"\n",
      "    }\n",
      "}\n",
      "\n"
     ]
    },
    {
     "name": "stderr",
     "output_type": "stream",
     "text": [
      "\n",
      "Processing mushroom.hi-tst.v1.jsonl:  30%|███       | 45/150 [02:29<05:56,  3.40s/entry]\u001B[A"
     ]
    },
    {
     "name": "stdout",
     "output_type": "stream",
     "text": [
      "Request failed with status code: 429\n",
      "Response: {\n",
      "    \"error\": {\n",
      "        \"message\": \"You exceeded your current quota, please check your plan and billing details. For more information on this error, read the docs: https://platform.openai.com/docs/guides/error-codes/api-errors.\",\n",
      "        \"type\": \"insufficient_quota\",\n",
      "        \"param\": null,\n",
      "        \"code\": \"insufficient_quota\"\n",
      "    }\n",
      "}\n",
      "\n",
      "Retry limit exceeded, returning empty result\n",
      "Request failed with status code: 429\n",
      "Response: {\n",
      "    \"error\": {\n",
      "        \"message\": \"You exceeded your current quota, please check your plan and billing details. For more information on this error, read the docs: https://platform.openai.com/docs/guides/error-codes/api-errors.\",\n",
      "        \"type\": \"insufficient_quota\",\n",
      "        \"param\": null,\n",
      "        \"code\": \"insufficient_quota\"\n",
      "    }\n",
      "}\n",
      "\n",
      "Request failed with status code: 429\n",
      "Response: {\n",
      "    \"error\": {\n",
      "        \"message\": \"You exceeded your current quota, please check your plan and billing details. For more information on this error, read the docs: https://platform.openai.com/docs/guides/error-codes/api-errors.\",\n",
      "        \"type\": \"insufficient_quota\",\n",
      "        \"param\": null,\n",
      "        \"code\": \"insufficient_quota\"\n",
      "    }\n",
      "}\n",
      "\n"
     ]
    },
    {
     "name": "stderr",
     "output_type": "stream",
     "text": [
      "\n",
      "Processing mushroom.hi-tst.v1.jsonl:  31%|███       | 46/150 [02:32<05:51,  3.38s/entry]\u001B[A"
     ]
    },
    {
     "name": "stdout",
     "output_type": "stream",
     "text": [
      "Request failed with status code: 429\n",
      "Response: {\n",
      "    \"error\": {\n",
      "        \"message\": \"You exceeded your current quota, please check your plan and billing details. For more information on this error, read the docs: https://platform.openai.com/docs/guides/error-codes/api-errors.\",\n",
      "        \"type\": \"insufficient_quota\",\n",
      "        \"param\": null,\n",
      "        \"code\": \"insufficient_quota\"\n",
      "    }\n",
      "}\n",
      "\n",
      "Retry limit exceeded, returning empty result\n",
      "Request failed with status code: 429\n",
      "Response: {\n",
      "    \"error\": {\n",
      "        \"message\": \"You exceeded your current quota, please check your plan and billing details. For more information on this error, read the docs: https://platform.openai.com/docs/guides/error-codes/api-errors.\",\n",
      "        \"type\": \"insufficient_quota\",\n",
      "        \"param\": null,\n",
      "        \"code\": \"insufficient_quota\"\n",
      "    }\n",
      "}\n",
      "\n",
      "Request failed with status code: 429\n",
      "Response: {\n",
      "    \"error\": {\n",
      "        \"message\": \"You exceeded your current quota, please check your plan and billing details. For more information on this error, read the docs: https://platform.openai.com/docs/guides/error-codes/api-errors.\",\n",
      "        \"type\": \"insufficient_quota\",\n",
      "        \"param\": null,\n",
      "        \"code\": \"insufficient_quota\"\n",
      "    }\n",
      "}\n",
      "\n"
     ]
    },
    {
     "name": "stderr",
     "output_type": "stream",
     "text": [
      "\n",
      "Processing mushroom.hi-tst.v1.jsonl:  31%|███▏      | 47/150 [02:36<05:46,  3.36s/entry]\u001B[A"
     ]
    },
    {
     "name": "stdout",
     "output_type": "stream",
     "text": [
      "Request failed with status code: 429\n",
      "Response: {\n",
      "    \"error\": {\n",
      "        \"message\": \"You exceeded your current quota, please check your plan and billing details. For more information on this error, read the docs: https://platform.openai.com/docs/guides/error-codes/api-errors.\",\n",
      "        \"type\": \"insufficient_quota\",\n",
      "        \"param\": null,\n",
      "        \"code\": \"insufficient_quota\"\n",
      "    }\n",
      "}\n",
      "\n",
      "Retry limit exceeded, returning empty result\n",
      "Request failed with status code: 429\n",
      "Response: {\n",
      "    \"error\": {\n",
      "        \"message\": \"You exceeded your current quota, please check your plan and billing details. For more information on this error, read the docs: https://platform.openai.com/docs/guides/error-codes/api-errors.\",\n",
      "        \"type\": \"insufficient_quota\",\n",
      "        \"param\": null,\n",
      "        \"code\": \"insufficient_quota\"\n",
      "    }\n",
      "}\n",
      "\n",
      "Request failed with status code: 429\n",
      "Response: {\n",
      "    \"error\": {\n",
      "        \"message\": \"You exceeded your current quota, please check your plan and billing details. For more information on this error, read the docs: https://platform.openai.com/docs/guides/error-codes/api-errors.\",\n",
      "        \"type\": \"insufficient_quota\",\n",
      "        \"param\": null,\n",
      "        \"code\": \"insufficient_quota\"\n",
      "    }\n",
      "}\n",
      "\n"
     ]
    },
    {
     "name": "stderr",
     "output_type": "stream",
     "text": [
      "\n",
      "Processing mushroom.hi-tst.v1.jsonl:  32%|███▏      | 48/150 [02:39<05:41,  3.35s/entry]\u001B[A"
     ]
    },
    {
     "name": "stdout",
     "output_type": "stream",
     "text": [
      "Request failed with status code: 429\n",
      "Response: {\n",
      "    \"error\": {\n",
      "        \"message\": \"You exceeded your current quota, please check your plan and billing details. For more information on this error, read the docs: https://platform.openai.com/docs/guides/error-codes/api-errors.\",\n",
      "        \"type\": \"insufficient_quota\",\n",
      "        \"param\": null,\n",
      "        \"code\": \"insufficient_quota\"\n",
      "    }\n",
      "}\n",
      "\n",
      "Retry limit exceeded, returning empty result\n",
      "Request failed with status code: 429\n",
      "Response: {\n",
      "    \"error\": {\n",
      "        \"message\": \"You exceeded your current quota, please check your plan and billing details. For more information on this error, read the docs: https://platform.openai.com/docs/guides/error-codes/api-errors.\",\n",
      "        \"type\": \"insufficient_quota\",\n",
      "        \"param\": null,\n",
      "        \"code\": \"insufficient_quota\"\n",
      "    }\n",
      "}\n",
      "\n",
      "Request failed with status code: 429\n",
      "Response: {\n",
      "    \"error\": {\n",
      "        \"message\": \"You exceeded your current quota, please check your plan and billing details. For more information on this error, read the docs: https://platform.openai.com/docs/guides/error-codes/api-errors.\",\n",
      "        \"type\": \"insufficient_quota\",\n",
      "        \"param\": null,\n",
      "        \"code\": \"insufficient_quota\"\n",
      "    }\n",
      "}\n",
      "\n"
     ]
    },
    {
     "name": "stderr",
     "output_type": "stream",
     "text": [
      "\n",
      "Processing mushroom.hi-tst.v1.jsonl:  33%|███▎      | 49/150 [02:42<05:35,  3.33s/entry]\u001B[A"
     ]
    },
    {
     "name": "stdout",
     "output_type": "stream",
     "text": [
      "Request failed with status code: 429\n",
      "Response: {\n",
      "    \"error\": {\n",
      "        \"message\": \"You exceeded your current quota, please check your plan and billing details. For more information on this error, read the docs: https://platform.openai.com/docs/guides/error-codes/api-errors.\",\n",
      "        \"type\": \"insufficient_quota\",\n",
      "        \"param\": null,\n",
      "        \"code\": \"insufficient_quota\"\n",
      "    }\n",
      "}\n",
      "\n",
      "Retry limit exceeded, returning empty result\n",
      "Request failed with status code: 429\n",
      "Response: {\n",
      "    \"error\": {\n",
      "        \"message\": \"You exceeded your current quota, please check your plan and billing details. For more information on this error, read the docs: https://platform.openai.com/docs/guides/error-codes/api-errors.\",\n",
      "        \"type\": \"insufficient_quota\",\n",
      "        \"param\": null,\n",
      "        \"code\": \"insufficient_quota\"\n",
      "    }\n",
      "}\n",
      "\n",
      "Request failed with status code: 429\n",
      "Response: {\n",
      "    \"error\": {\n",
      "        \"message\": \"You exceeded your current quota, please check your plan and billing details. For more information on this error, read the docs: https://platform.openai.com/docs/guides/error-codes/api-errors.\",\n",
      "        \"type\": \"insufficient_quota\",\n",
      "        \"param\": null,\n",
      "        \"code\": \"insufficient_quota\"\n",
      "    }\n",
      "}\n",
      "\n"
     ]
    },
    {
     "name": "stderr",
     "output_type": "stream",
     "text": [
      "\n",
      "Processing mushroom.hi-tst.v1.jsonl:  33%|███▎      | 50/150 [02:46<05:33,  3.34s/entry]\u001B[A"
     ]
    },
    {
     "name": "stdout",
     "output_type": "stream",
     "text": [
      "Request failed with status code: 429\n",
      "Response: {\n",
      "    \"error\": {\n",
      "        \"message\": \"You exceeded your current quota, please check your plan and billing details. For more information on this error, read the docs: https://platform.openai.com/docs/guides/error-codes/api-errors.\",\n",
      "        \"type\": \"insufficient_quota\",\n",
      "        \"param\": null,\n",
      "        \"code\": \"insufficient_quota\"\n",
      "    }\n",
      "}\n",
      "\n",
      "Retry limit exceeded, returning empty result\n",
      "Request failed with status code: 429\n",
      "Response: {\n",
      "    \"error\": {\n",
      "        \"message\": \"You exceeded your current quota, please check your plan and billing details. For more information on this error, read the docs: https://platform.openai.com/docs/guides/error-codes/api-errors.\",\n",
      "        \"type\": \"insufficient_quota\",\n",
      "        \"param\": null,\n",
      "        \"code\": \"insufficient_quota\"\n",
      "    }\n",
      "}\n",
      "\n",
      "Request failed with status code: 429\n",
      "Response: {\n",
      "    \"error\": {\n",
      "        \"message\": \"You exceeded your current quota, please check your plan and billing details. For more information on this error, read the docs: https://platform.openai.com/docs/guides/error-codes/api-errors.\",\n",
      "        \"type\": \"insufficient_quota\",\n",
      "        \"param\": null,\n",
      "        \"code\": \"insufficient_quota\"\n",
      "    }\n",
      "}\n",
      "\n"
     ]
    },
    {
     "name": "stderr",
     "output_type": "stream",
     "text": [
      "\n",
      "Processing mushroom.hi-tst.v1.jsonl:  34%|███▍      | 51/150 [02:49<05:28,  3.32s/entry]\u001B[A"
     ]
    },
    {
     "name": "stdout",
     "output_type": "stream",
     "text": [
      "Request failed with status code: 429\n",
      "Response: {\n",
      "    \"error\": {\n",
      "        \"message\": \"You exceeded your current quota, please check your plan and billing details. For more information on this error, read the docs: https://platform.openai.com/docs/guides/error-codes/api-errors.\",\n",
      "        \"type\": \"insufficient_quota\",\n",
      "        \"param\": null,\n",
      "        \"code\": \"insufficient_quota\"\n",
      "    }\n",
      "}\n",
      "\n",
      "Retry limit exceeded, returning empty result\n",
      "Request failed with status code: 429\n",
      "Response: {\n",
      "    \"error\": {\n",
      "        \"message\": \"You exceeded your current quota, please check your plan and billing details. For more information on this error, read the docs: https://platform.openai.com/docs/guides/error-codes/api-errors.\",\n",
      "        \"type\": \"insufficient_quota\",\n",
      "        \"param\": null,\n",
      "        \"code\": \"insufficient_quota\"\n",
      "    }\n",
      "}\n",
      "\n",
      "Request failed with status code: 429\n",
      "Response: {\n",
      "    \"error\": {\n",
      "        \"message\": \"You exceeded your current quota, please check your plan and billing details. For more information on this error, read the docs: https://platform.openai.com/docs/guides/error-codes/api-errors.\",\n",
      "        \"type\": \"insufficient_quota\",\n",
      "        \"param\": null,\n",
      "        \"code\": \"insufficient_quota\"\n",
      "    }\n",
      "}\n",
      "\n"
     ]
    },
    {
     "name": "stderr",
     "output_type": "stream",
     "text": [
      "\n",
      "Processing mushroom.hi-tst.v1.jsonl:  35%|███▍      | 52/150 [02:52<05:24,  3.31s/entry]\u001B[A"
     ]
    },
    {
     "name": "stdout",
     "output_type": "stream",
     "text": [
      "Request failed with status code: 429\n",
      "Response: {\n",
      "    \"error\": {\n",
      "        \"message\": \"You exceeded your current quota, please check your plan and billing details. For more information on this error, read the docs: https://platform.openai.com/docs/guides/error-codes/api-errors.\",\n",
      "        \"type\": \"insufficient_quota\",\n",
      "        \"param\": null,\n",
      "        \"code\": \"insufficient_quota\"\n",
      "    }\n",
      "}\n",
      "\n",
      "Retry limit exceeded, returning empty result\n",
      "Request failed with status code: 429\n",
      "Response: {\n",
      "    \"error\": {\n",
      "        \"message\": \"You exceeded your current quota, please check your plan and billing details. For more information on this error, read the docs: https://platform.openai.com/docs/guides/error-codes/api-errors.\",\n",
      "        \"type\": \"insufficient_quota\",\n",
      "        \"param\": null,\n",
      "        \"code\": \"insufficient_quota\"\n",
      "    }\n",
      "}\n",
      "\n",
      "Request failed with status code: 429\n",
      "Response: {\n",
      "    \"error\": {\n",
      "        \"message\": \"You exceeded your current quota, please check your plan and billing details. For more information on this error, read the docs: https://platform.openai.com/docs/guides/error-codes/api-errors.\",\n",
      "        \"type\": \"insufficient_quota\",\n",
      "        \"param\": null,\n",
      "        \"code\": \"insufficient_quota\"\n",
      "    }\n",
      "}\n",
      "\n"
     ]
    },
    {
     "name": "stderr",
     "output_type": "stream",
     "text": [
      "\n",
      "Processing mushroom.hi-tst.v1.jsonl:  35%|███▌      | 53/150 [02:56<05:27,  3.37s/entry]\u001B[A"
     ]
    },
    {
     "name": "stdout",
     "output_type": "stream",
     "text": [
      "Request failed with status code: 429\n",
      "Response: {\n",
      "    \"error\": {\n",
      "        \"message\": \"You exceeded your current quota, please check your plan and billing details. For more information on this error, read the docs: https://platform.openai.com/docs/guides/error-codes/api-errors.\",\n",
      "        \"type\": \"insufficient_quota\",\n",
      "        \"param\": null,\n",
      "        \"code\": \"insufficient_quota\"\n",
      "    }\n",
      "}\n",
      "\n",
      "Retry limit exceeded, returning empty result\n",
      "Request failed with status code: 429\n",
      "Response: {\n",
      "    \"error\": {\n",
      "        \"message\": \"You exceeded your current quota, please check your plan and billing details. For more information on this error, read the docs: https://platform.openai.com/docs/guides/error-codes/api-errors.\",\n",
      "        \"type\": \"insufficient_quota\",\n",
      "        \"param\": null,\n",
      "        \"code\": \"insufficient_quota\"\n",
      "    }\n",
      "}\n",
      "\n",
      "Request failed with status code: 429\n",
      "Response: {\n",
      "    \"error\": {\n",
      "        \"message\": \"You exceeded your current quota, please check your plan and billing details. For more information on this error, read the docs: https://platform.openai.com/docs/guides/error-codes/api-errors.\",\n",
      "        \"type\": \"insufficient_quota\",\n",
      "        \"param\": null,\n",
      "        \"code\": \"insufficient_quota\"\n",
      "    }\n",
      "}\n",
      "\n"
     ]
    },
    {
     "name": "stderr",
     "output_type": "stream",
     "text": [
      "\n",
      "Processing mushroom.hi-tst.v1.jsonl:  36%|███▌      | 54/150 [02:59<05:20,  3.34s/entry]\u001B[A"
     ]
    },
    {
     "name": "stdout",
     "output_type": "stream",
     "text": [
      "Request failed with status code: 429\n",
      "Response: {\n",
      "    \"error\": {\n",
      "        \"message\": \"You exceeded your current quota, please check your plan and billing details. For more information on this error, read the docs: https://platform.openai.com/docs/guides/error-codes/api-errors.\",\n",
      "        \"type\": \"insufficient_quota\",\n",
      "        \"param\": null,\n",
      "        \"code\": \"insufficient_quota\"\n",
      "    }\n",
      "}\n",
      "\n",
      "Retry limit exceeded, returning empty result\n",
      "Request failed with status code: 429\n",
      "Response: {\n",
      "    \"error\": {\n",
      "        \"message\": \"You exceeded your current quota, please check your plan and billing details. For more information on this error, read the docs: https://platform.openai.com/docs/guides/error-codes/api-errors.\",\n",
      "        \"type\": \"insufficient_quota\",\n",
      "        \"param\": null,\n",
      "        \"code\": \"insufficient_quota\"\n",
      "    }\n",
      "}\n",
      "\n",
      "Request failed with status code: 429\n",
      "Response: {\n",
      "    \"error\": {\n",
      "        \"message\": \"You exceeded your current quota, please check your plan and billing details. For more information on this error, read the docs: https://platform.openai.com/docs/guides/error-codes/api-errors.\",\n",
      "        \"type\": \"insufficient_quota\",\n",
      "        \"param\": null,\n",
      "        \"code\": \"insufficient_quota\"\n",
      "    }\n",
      "}\n",
      "\n"
     ]
    },
    {
     "name": "stderr",
     "output_type": "stream",
     "text": [
      "\n",
      "Processing mushroom.hi-tst.v1.jsonl:  37%|███▋      | 55/150 [03:02<05:15,  3.32s/entry]\u001B[A"
     ]
    },
    {
     "name": "stdout",
     "output_type": "stream",
     "text": [
      "Request failed with status code: 429\n",
      "Response: {\n",
      "    \"error\": {\n",
      "        \"message\": \"You exceeded your current quota, please check your plan and billing details. For more information on this error, read the docs: https://platform.openai.com/docs/guides/error-codes/api-errors.\",\n",
      "        \"type\": \"insufficient_quota\",\n",
      "        \"param\": null,\n",
      "        \"code\": \"insufficient_quota\"\n",
      "    }\n",
      "}\n",
      "\n",
      "Retry limit exceeded, returning empty result\n",
      "Request failed with status code: 429\n",
      "Response: {\n",
      "    \"error\": {\n",
      "        \"message\": \"You exceeded your current quota, please check your plan and billing details. For more information on this error, read the docs: https://platform.openai.com/docs/guides/error-codes/api-errors.\",\n",
      "        \"type\": \"insufficient_quota\",\n",
      "        \"param\": null,\n",
      "        \"code\": \"insufficient_quota\"\n",
      "    }\n",
      "}\n",
      "\n",
      "Request failed with status code: 429\n",
      "Response: {\n",
      "    \"error\": {\n",
      "        \"message\": \"You exceeded your current quota, please check your plan and billing details. For more information on this error, read the docs: https://platform.openai.com/docs/guides/error-codes/api-errors.\",\n",
      "        \"type\": \"insufficient_quota\",\n",
      "        \"param\": null,\n",
      "        \"code\": \"insufficient_quota\"\n",
      "    }\n",
      "}\n",
      "\n"
     ]
    },
    {
     "name": "stderr",
     "output_type": "stream",
     "text": [
      "\n",
      "Processing mushroom.hi-tst.v1.jsonl:  37%|███▋      | 56/150 [03:05<05:10,  3.30s/entry]\u001B[A"
     ]
    },
    {
     "name": "stdout",
     "output_type": "stream",
     "text": [
      "Request failed with status code: 429\n",
      "Response: {\n",
      "    \"error\": {\n",
      "        \"message\": \"You exceeded your current quota, please check your plan and billing details. For more information on this error, read the docs: https://platform.openai.com/docs/guides/error-codes/api-errors.\",\n",
      "        \"type\": \"insufficient_quota\",\n",
      "        \"param\": null,\n",
      "        \"code\": \"insufficient_quota\"\n",
      "    }\n",
      "}\n",
      "\n",
      "Retry limit exceeded, returning empty result\n",
      "Request failed with status code: 429\n",
      "Response: {\n",
      "    \"error\": {\n",
      "        \"message\": \"You exceeded your current quota, please check your plan and billing details. For more information on this error, read the docs: https://platform.openai.com/docs/guides/error-codes/api-errors.\",\n",
      "        \"type\": \"insufficient_quota\",\n",
      "        \"param\": null,\n",
      "        \"code\": \"insufficient_quota\"\n",
      "    }\n",
      "}\n",
      "\n",
      "Request failed with status code: 429\n",
      "Response: {\n",
      "    \"error\": {\n",
      "        \"message\": \"You exceeded your current quota, please check your plan and billing details. For more information on this error, read the docs: https://platform.openai.com/docs/guides/error-codes/api-errors.\",\n",
      "        \"type\": \"insufficient_quota\",\n",
      "        \"param\": null,\n",
      "        \"code\": \"insufficient_quota\"\n",
      "    }\n",
      "}\n",
      "\n"
     ]
    },
    {
     "name": "stderr",
     "output_type": "stream",
     "text": [
      "\n",
      "Processing mushroom.hi-tst.v1.jsonl:  38%|███▊      | 57/150 [03:09<05:06,  3.29s/entry]\u001B[A"
     ]
    },
    {
     "name": "stdout",
     "output_type": "stream",
     "text": [
      "Request failed with status code: 429\n",
      "Response: {\n",
      "    \"error\": {\n",
      "        \"message\": \"You exceeded your current quota, please check your plan and billing details. For more information on this error, read the docs: https://platform.openai.com/docs/guides/error-codes/api-errors.\",\n",
      "        \"type\": \"insufficient_quota\",\n",
      "        \"param\": null,\n",
      "        \"code\": \"insufficient_quota\"\n",
      "    }\n",
      "}\n",
      "\n",
      "Retry limit exceeded, returning empty result\n",
      "Request failed with status code: 429\n",
      "Response: {\n",
      "    \"error\": {\n",
      "        \"message\": \"You exceeded your current quota, please check your plan and billing details. For more information on this error, read the docs: https://platform.openai.com/docs/guides/error-codes/api-errors.\",\n",
      "        \"type\": \"insufficient_quota\",\n",
      "        \"param\": null,\n",
      "        \"code\": \"insufficient_quota\"\n",
      "    }\n",
      "}\n",
      "\n",
      "Request failed with status code: 429\n",
      "Response: {\n",
      "    \"error\": {\n",
      "        \"message\": \"You exceeded your current quota, please check your plan and billing details. For more information on this error, read the docs: https://platform.openai.com/docs/guides/error-codes/api-errors.\",\n",
      "        \"type\": \"insufficient_quota\",\n",
      "        \"param\": null,\n",
      "        \"code\": \"insufficient_quota\"\n",
      "    }\n",
      "}\n",
      "\n"
     ]
    },
    {
     "name": "stderr",
     "output_type": "stream",
     "text": [
      "\n",
      "Processing mushroom.hi-tst.v1.jsonl:  39%|███▊      | 58/150 [03:12<05:02,  3.29s/entry]\u001B[A"
     ]
    },
    {
     "name": "stdout",
     "output_type": "stream",
     "text": [
      "Request failed with status code: 429\n",
      "Response: {\n",
      "    \"error\": {\n",
      "        \"message\": \"You exceeded your current quota, please check your plan and billing details. For more information on this error, read the docs: https://platform.openai.com/docs/guides/error-codes/api-errors.\",\n",
      "        \"type\": \"insufficient_quota\",\n",
      "        \"param\": null,\n",
      "        \"code\": \"insufficient_quota\"\n",
      "    }\n",
      "}\n",
      "\n",
      "Retry limit exceeded, returning empty result\n",
      "Request failed with status code: 429\n",
      "Response: {\n",
      "    \"error\": {\n",
      "        \"message\": \"You exceeded your current quota, please check your plan and billing details. For more information on this error, read the docs: https://platform.openai.com/docs/guides/error-codes/api-errors.\",\n",
      "        \"type\": \"insufficient_quota\",\n",
      "        \"param\": null,\n",
      "        \"code\": \"insufficient_quota\"\n",
      "    }\n",
      "}\n",
      "\n",
      "Request failed with status code: 429\n",
      "Response: {\n",
      "    \"error\": {\n",
      "        \"message\": \"You exceeded your current quota, please check your plan and billing details. For more information on this error, read the docs: https://platform.openai.com/docs/guides/error-codes/api-errors.\",\n",
      "        \"type\": \"insufficient_quota\",\n",
      "        \"param\": null,\n",
      "        \"code\": \"insufficient_quota\"\n",
      "    }\n",
      "}\n",
      "\n"
     ]
    },
    {
     "name": "stderr",
     "output_type": "stream",
     "text": [
      "\n",
      "Processing mushroom.hi-tst.v1.jsonl:  39%|███▉      | 59/150 [03:15<04:57,  3.27s/entry]\u001B[A"
     ]
    },
    {
     "name": "stdout",
     "output_type": "stream",
     "text": [
      "Request failed with status code: 429\n",
      "Response: {\n",
      "    \"error\": {\n",
      "        \"message\": \"You exceeded your current quota, please check your plan and billing details. For more information on this error, read the docs: https://platform.openai.com/docs/guides/error-codes/api-errors.\",\n",
      "        \"type\": \"insufficient_quota\",\n",
      "        \"param\": null,\n",
      "        \"code\": \"insufficient_quota\"\n",
      "    }\n",
      "}\n",
      "\n",
      "Retry limit exceeded, returning empty result\n",
      "Request failed with status code: 429\n",
      "Response: {\n",
      "    \"error\": {\n",
      "        \"message\": \"You exceeded your current quota, please check your plan and billing details. For more information on this error, read the docs: https://platform.openai.com/docs/guides/error-codes/api-errors.\",\n",
      "        \"type\": \"insufficient_quota\",\n",
      "        \"param\": null,\n",
      "        \"code\": \"insufficient_quota\"\n",
      "    }\n",
      "}\n",
      "\n",
      "Request failed with status code: 429\n",
      "Response: {\n",
      "    \"error\": {\n",
      "        \"message\": \"You exceeded your current quota, please check your plan and billing details. For more information on this error, read the docs: https://platform.openai.com/docs/guides/error-codes/api-errors.\",\n",
      "        \"type\": \"insufficient_quota\",\n",
      "        \"param\": null,\n",
      "        \"code\": \"insufficient_quota\"\n",
      "    }\n",
      "}\n",
      "\n"
     ]
    },
    {
     "name": "stderr",
     "output_type": "stream",
     "text": [
      "\n",
      "Processing mushroom.hi-tst.v1.jsonl:  40%|████      | 60/150 [03:18<04:54,  3.28s/entry]\u001B[A"
     ]
    },
    {
     "name": "stdout",
     "output_type": "stream",
     "text": [
      "Request failed with status code: 429\n",
      "Response: {\n",
      "    \"error\": {\n",
      "        \"message\": \"You exceeded your current quota, please check your plan and billing details. For more information on this error, read the docs: https://platform.openai.com/docs/guides/error-codes/api-errors.\",\n",
      "        \"type\": \"insufficient_quota\",\n",
      "        \"param\": null,\n",
      "        \"code\": \"insufficient_quota\"\n",
      "    }\n",
      "}\n",
      "\n",
      "Retry limit exceeded, returning empty result\n",
      "Request failed with status code: 429\n",
      "Response: {\n",
      "    \"error\": {\n",
      "        \"message\": \"You exceeded your current quota, please check your plan and billing details. For more information on this error, read the docs: https://platform.openai.com/docs/guides/error-codes/api-errors.\",\n",
      "        \"type\": \"insufficient_quota\",\n",
      "        \"param\": null,\n",
      "        \"code\": \"insufficient_quota\"\n",
      "    }\n",
      "}\n",
      "\n",
      "Request failed with status code: 429\n",
      "Response: {\n",
      "    \"error\": {\n",
      "        \"message\": \"You exceeded your current quota, please check your plan and billing details. For more information on this error, read the docs: https://platform.openai.com/docs/guides/error-codes/api-errors.\",\n",
      "        \"type\": \"insufficient_quota\",\n",
      "        \"param\": null,\n",
      "        \"code\": \"insufficient_quota\"\n",
      "    }\n",
      "}\n",
      "\n"
     ]
    },
    {
     "name": "stderr",
     "output_type": "stream",
     "text": [
      "\n",
      "Processing mushroom.hi-tst.v1.jsonl:  41%|████      | 61/150 [03:22<04:51,  3.28s/entry]\u001B[A"
     ]
    },
    {
     "name": "stdout",
     "output_type": "stream",
     "text": [
      "Request failed with status code: 429\n",
      "Response: {\n",
      "    \"error\": {\n",
      "        \"message\": \"You exceeded your current quota, please check your plan and billing details. For more information on this error, read the docs: https://platform.openai.com/docs/guides/error-codes/api-errors.\",\n",
      "        \"type\": \"insufficient_quota\",\n",
      "        \"param\": null,\n",
      "        \"code\": \"insufficient_quota\"\n",
      "    }\n",
      "}\n",
      "\n",
      "Retry limit exceeded, returning empty result\n",
      "Request failed with status code: 429\n",
      "Response: {\n",
      "    \"error\": {\n",
      "        \"message\": \"You exceeded your current quota, please check your plan and billing details. For more information on this error, read the docs: https://platform.openai.com/docs/guides/error-codes/api-errors.\",\n",
      "        \"type\": \"insufficient_quota\",\n",
      "        \"param\": null,\n",
      "        \"code\": \"insufficient_quota\"\n",
      "    }\n",
      "}\n",
      "\n",
      "Request failed with status code: 429\n",
      "Response: {\n",
      "    \"error\": {\n",
      "        \"message\": \"You exceeded your current quota, please check your plan and billing details. For more information on this error, read the docs: https://platform.openai.com/docs/guides/error-codes/api-errors.\",\n",
      "        \"type\": \"insufficient_quota\",\n",
      "        \"param\": null,\n",
      "        \"code\": \"insufficient_quota\"\n",
      "    }\n",
      "}\n",
      "\n"
     ]
    },
    {
     "name": "stderr",
     "output_type": "stream",
     "text": [
      "\n",
      "Processing mushroom.hi-tst.v1.jsonl:  41%|████▏     | 62/150 [03:25<04:47,  3.27s/entry]\u001B[A"
     ]
    },
    {
     "name": "stdout",
     "output_type": "stream",
     "text": [
      "Request failed with status code: 429\n",
      "Response: {\n",
      "    \"error\": {\n",
      "        \"message\": \"You exceeded your current quota, please check your plan and billing details. For more information on this error, read the docs: https://platform.openai.com/docs/guides/error-codes/api-errors.\",\n",
      "        \"type\": \"insufficient_quota\",\n",
      "        \"param\": null,\n",
      "        \"code\": \"insufficient_quota\"\n",
      "    }\n",
      "}\n",
      "\n",
      "Retry limit exceeded, returning empty result\n",
      "Request failed with status code: 429\n",
      "Response: {\n",
      "    \"error\": {\n",
      "        \"message\": \"You exceeded your current quota, please check your plan and billing details. For more information on this error, read the docs: https://platform.openai.com/docs/guides/error-codes/api-errors.\",\n",
      "        \"type\": \"insufficient_quota\",\n",
      "        \"param\": null,\n",
      "        \"code\": \"insufficient_quota\"\n",
      "    }\n",
      "}\n",
      "\n",
      "Request failed with status code: 429\n",
      "Response: {\n",
      "    \"error\": {\n",
      "        \"message\": \"You exceeded your current quota, please check your plan and billing details. For more information on this error, read the docs: https://platform.openai.com/docs/guides/error-codes/api-errors.\",\n",
      "        \"type\": \"insufficient_quota\",\n",
      "        \"param\": null,\n",
      "        \"code\": \"insufficient_quota\"\n",
      "    }\n",
      "}\n",
      "\n"
     ]
    },
    {
     "name": "stderr",
     "output_type": "stream",
     "text": [
      "\n",
      "Processing mushroom.hi-tst.v1.jsonl:  42%|████▏     | 63/150 [03:28<04:43,  3.25s/entry]\u001B[A"
     ]
    },
    {
     "name": "stdout",
     "output_type": "stream",
     "text": [
      "Request failed with status code: 429\n",
      "Response: {\n",
      "    \"error\": {\n",
      "        \"message\": \"You exceeded your current quota, please check your plan and billing details. For more information on this error, read the docs: https://platform.openai.com/docs/guides/error-codes/api-errors.\",\n",
      "        \"type\": \"insufficient_quota\",\n",
      "        \"param\": null,\n",
      "        \"code\": \"insufficient_quota\"\n",
      "    }\n",
      "}\n",
      "\n",
      "Retry limit exceeded, returning empty result\n",
      "Request failed with status code: 429\n",
      "Response: {\n",
      "    \"error\": {\n",
      "        \"message\": \"You exceeded your current quota, please check your plan and billing details. For more information on this error, read the docs: https://platform.openai.com/docs/guides/error-codes/api-errors.\",\n",
      "        \"type\": \"insufficient_quota\",\n",
      "        \"param\": null,\n",
      "        \"code\": \"insufficient_quota\"\n",
      "    }\n",
      "}\n",
      "\n",
      "Request failed with status code: 429\n",
      "Response: {\n",
      "    \"error\": {\n",
      "        \"message\": \"You exceeded your current quota, please check your plan and billing details. For more information on this error, read the docs: https://platform.openai.com/docs/guides/error-codes/api-errors.\",\n",
      "        \"type\": \"insufficient_quota\",\n",
      "        \"param\": null,\n",
      "        \"code\": \"insufficient_quota\"\n",
      "    }\n",
      "}\n",
      "\n"
     ]
    },
    {
     "name": "stderr",
     "output_type": "stream",
     "text": [
      "\n",
      "Processing mushroom.hi-tst.v1.jsonl:  43%|████▎     | 64/150 [03:32<04:42,  3.28s/entry]\u001B[A"
     ]
    },
    {
     "name": "stdout",
     "output_type": "stream",
     "text": [
      "Request failed with status code: 429\n",
      "Response: {\n",
      "    \"error\": {\n",
      "        \"message\": \"You exceeded your current quota, please check your plan and billing details. For more information on this error, read the docs: https://platform.openai.com/docs/guides/error-codes/api-errors.\",\n",
      "        \"type\": \"insufficient_quota\",\n",
      "        \"param\": null,\n",
      "        \"code\": \"insufficient_quota\"\n",
      "    }\n",
      "}\n",
      "\n",
      "Retry limit exceeded, returning empty result\n",
      "Request failed with status code: 429\n",
      "Response: {\n",
      "    \"error\": {\n",
      "        \"message\": \"You exceeded your current quota, please check your plan and billing details. For more information on this error, read the docs: https://platform.openai.com/docs/guides/error-codes/api-errors.\",\n",
      "        \"type\": \"insufficient_quota\",\n",
      "        \"param\": null,\n",
      "        \"code\": \"insufficient_quota\"\n",
      "    }\n",
      "}\n",
      "\n",
      "Request failed with status code: 429\n",
      "Response: {\n",
      "    \"error\": {\n",
      "        \"message\": \"You exceeded your current quota, please check your plan and billing details. For more information on this error, read the docs: https://platform.openai.com/docs/guides/error-codes/api-errors.\",\n",
      "        \"type\": \"insufficient_quota\",\n",
      "        \"param\": null,\n",
      "        \"code\": \"insufficient_quota\"\n",
      "    }\n",
      "}\n",
      "\n"
     ]
    },
    {
     "name": "stderr",
     "output_type": "stream",
     "text": [
      "\n",
      "Processing mushroom.hi-tst.v1.jsonl:  43%|████▎     | 65/150 [03:35<04:38,  3.28s/entry]\u001B[A"
     ]
    },
    {
     "name": "stdout",
     "output_type": "stream",
     "text": [
      "Request failed with status code: 429\n",
      "Response: {\n",
      "    \"error\": {\n",
      "        \"message\": \"You exceeded your current quota, please check your plan and billing details. For more information on this error, read the docs: https://platform.openai.com/docs/guides/error-codes/api-errors.\",\n",
      "        \"type\": \"insufficient_quota\",\n",
      "        \"param\": null,\n",
      "        \"code\": \"insufficient_quota\"\n",
      "    }\n",
      "}\n",
      "\n",
      "Retry limit exceeded, returning empty result\n",
      "Request failed with status code: 429\n",
      "Response: {\n",
      "    \"error\": {\n",
      "        \"message\": \"You exceeded your current quota, please check your plan and billing details. For more information on this error, read the docs: https://platform.openai.com/docs/guides/error-codes/api-errors.\",\n",
      "        \"type\": \"insufficient_quota\",\n",
      "        \"param\": null,\n",
      "        \"code\": \"insufficient_quota\"\n",
      "    }\n",
      "}\n",
      "\n",
      "Request failed with status code: 429\n",
      "Response: {\n",
      "    \"error\": {\n",
      "        \"message\": \"You exceeded your current quota, please check your plan and billing details. For more information on this error, read the docs: https://platform.openai.com/docs/guides/error-codes/api-errors.\",\n",
      "        \"type\": \"insufficient_quota\",\n",
      "        \"param\": null,\n",
      "        \"code\": \"insufficient_quota\"\n",
      "    }\n",
      "}\n",
      "\n"
     ]
    },
    {
     "name": "stderr",
     "output_type": "stream",
     "text": [
      "\n",
      "Processing mushroom.hi-tst.v1.jsonl:  44%|████▍     | 66/150 [03:38<04:38,  3.31s/entry]\u001B[A"
     ]
    },
    {
     "name": "stdout",
     "output_type": "stream",
     "text": [
      "Request failed with status code: 429\n",
      "Response: {\n",
      "    \"error\": {\n",
      "        \"message\": \"You exceeded your current quota, please check your plan and billing details. For more information on this error, read the docs: https://platform.openai.com/docs/guides/error-codes/api-errors.\",\n",
      "        \"type\": \"insufficient_quota\",\n",
      "        \"param\": null,\n",
      "        \"code\": \"insufficient_quota\"\n",
      "    }\n",
      "}\n",
      "\n",
      "Retry limit exceeded, returning empty result\n",
      "Request failed with status code: 429\n",
      "Response: {\n",
      "    \"error\": {\n",
      "        \"message\": \"You exceeded your current quota, please check your plan and billing details. For more information on this error, read the docs: https://platform.openai.com/docs/guides/error-codes/api-errors.\",\n",
      "        \"type\": \"insufficient_quota\",\n",
      "        \"param\": null,\n",
      "        \"code\": \"insufficient_quota\"\n",
      "    }\n",
      "}\n",
      "\n",
      "Request failed with status code: 429\n",
      "Response: {\n",
      "    \"error\": {\n",
      "        \"message\": \"You exceeded your current quota, please check your plan and billing details. For more information on this error, read the docs: https://platform.openai.com/docs/guides/error-codes/api-errors.\",\n",
      "        \"type\": \"insufficient_quota\",\n",
      "        \"param\": null,\n",
      "        \"code\": \"insufficient_quota\"\n",
      "    }\n",
      "}\n",
      "\n"
     ]
    },
    {
     "name": "stderr",
     "output_type": "stream",
     "text": [
      "\n",
      "Processing mushroom.hi-tst.v1.jsonl:  45%|████▍     | 67/150 [03:42<04:35,  3.32s/entry]\u001B[A"
     ]
    },
    {
     "name": "stdout",
     "output_type": "stream",
     "text": [
      "Request failed with status code: 429\n",
      "Response: {\n",
      "    \"error\": {\n",
      "        \"message\": \"You exceeded your current quota, please check your plan and billing details. For more information on this error, read the docs: https://platform.openai.com/docs/guides/error-codes/api-errors.\",\n",
      "        \"type\": \"insufficient_quota\",\n",
      "        \"param\": null,\n",
      "        \"code\": \"insufficient_quota\"\n",
      "    }\n",
      "}\n",
      "\n",
      "Retry limit exceeded, returning empty result\n",
      "Request failed with status code: 429\n",
      "Response: {\n",
      "    \"error\": {\n",
      "        \"message\": \"You exceeded your current quota, please check your plan and billing details. For more information on this error, read the docs: https://platform.openai.com/docs/guides/error-codes/api-errors.\",\n",
      "        \"type\": \"insufficient_quota\",\n",
      "        \"param\": null,\n",
      "        \"code\": \"insufficient_quota\"\n",
      "    }\n",
      "}\n",
      "\n",
      "Request failed with status code: 429\n",
      "Response: {\n",
      "    \"error\": {\n",
      "        \"message\": \"You exceeded your current quota, please check your plan and billing details. For more information on this error, read the docs: https://platform.openai.com/docs/guides/error-codes/api-errors.\",\n",
      "        \"type\": \"insufficient_quota\",\n",
      "        \"param\": null,\n",
      "        \"code\": \"insufficient_quota\"\n",
      "    }\n",
      "}\n",
      "\n"
     ]
    },
    {
     "name": "stderr",
     "output_type": "stream",
     "text": [
      "\n",
      "Processing mushroom.hi-tst.v1.jsonl:  45%|████▌     | 68/150 [03:45<04:32,  3.32s/entry]\u001B[A"
     ]
    },
    {
     "name": "stdout",
     "output_type": "stream",
     "text": [
      "Request failed with status code: 429\n",
      "Response: {\n",
      "    \"error\": {\n",
      "        \"message\": \"You exceeded your current quota, please check your plan and billing details. For more information on this error, read the docs: https://platform.openai.com/docs/guides/error-codes/api-errors.\",\n",
      "        \"type\": \"insufficient_quota\",\n",
      "        \"param\": null,\n",
      "        \"code\": \"insufficient_quota\"\n",
      "    }\n",
      "}\n",
      "\n",
      "Retry limit exceeded, returning empty result\n",
      "Request failed with status code: 429\n",
      "Response: {\n",
      "    \"error\": {\n",
      "        \"message\": \"You exceeded your current quota, please check your plan and billing details. For more information on this error, read the docs: https://platform.openai.com/docs/guides/error-codes/api-errors.\",\n",
      "        \"type\": \"insufficient_quota\",\n",
      "        \"param\": null,\n",
      "        \"code\": \"insufficient_quota\"\n",
      "    }\n",
      "}\n",
      "\n",
      "Request failed with status code: 429\n",
      "Response: {\n",
      "    \"error\": {\n",
      "        \"message\": \"You exceeded your current quota, please check your plan and billing details. For more information on this error, read the docs: https://platform.openai.com/docs/guides/error-codes/api-errors.\",\n",
      "        \"type\": \"insufficient_quota\",\n",
      "        \"param\": null,\n",
      "        \"code\": \"insufficient_quota\"\n",
      "    }\n",
      "}\n",
      "\n"
     ]
    },
    {
     "name": "stderr",
     "output_type": "stream",
     "text": [
      "\n",
      "Processing mushroom.hi-tst.v1.jsonl:  46%|████▌     | 69/150 [03:48<04:30,  3.34s/entry]\u001B[A"
     ]
    },
    {
     "name": "stdout",
     "output_type": "stream",
     "text": [
      "Request failed with status code: 429\n",
      "Response: {\n",
      "    \"error\": {\n",
      "        \"message\": \"You exceeded your current quota, please check your plan and billing details. For more information on this error, read the docs: https://platform.openai.com/docs/guides/error-codes/api-errors.\",\n",
      "        \"type\": \"insufficient_quota\",\n",
      "        \"param\": null,\n",
      "        \"code\": \"insufficient_quota\"\n",
      "    }\n",
      "}\n",
      "\n",
      "Retry limit exceeded, returning empty result\n",
      "Request failed with status code: 429\n",
      "Response: {\n",
      "    \"error\": {\n",
      "        \"message\": \"You exceeded your current quota, please check your plan and billing details. For more information on this error, read the docs: https://platform.openai.com/docs/guides/error-codes/api-errors.\",\n",
      "        \"type\": \"insufficient_quota\",\n",
      "        \"param\": null,\n",
      "        \"code\": \"insufficient_quota\"\n",
      "    }\n",
      "}\n",
      "\n",
      "Request failed with status code: 429\n",
      "Response: {\n",
      "    \"error\": {\n",
      "        \"message\": \"You exceeded your current quota, please check your plan and billing details. For more information on this error, read the docs: https://platform.openai.com/docs/guides/error-codes/api-errors.\",\n",
      "        \"type\": \"insufficient_quota\",\n",
      "        \"param\": null,\n",
      "        \"code\": \"insufficient_quota\"\n",
      "    }\n",
      "}\n",
      "\n"
     ]
    },
    {
     "name": "stderr",
     "output_type": "stream",
     "text": [
      "\n",
      "Processing mushroom.hi-tst.v1.jsonl:  47%|████▋     | 70/150 [03:52<04:25,  3.32s/entry]\u001B[A"
     ]
    },
    {
     "name": "stdout",
     "output_type": "stream",
     "text": [
      "Request failed with status code: 429\n",
      "Response: {\n",
      "    \"error\": {\n",
      "        \"message\": \"You exceeded your current quota, please check your plan and billing details. For more information on this error, read the docs: https://platform.openai.com/docs/guides/error-codes/api-errors.\",\n",
      "        \"type\": \"insufficient_quota\",\n",
      "        \"param\": null,\n",
      "        \"code\": \"insufficient_quota\"\n",
      "    }\n",
      "}\n",
      "\n",
      "Retry limit exceeded, returning empty result\n",
      "Request failed with status code: 429\n",
      "Response: {\n",
      "    \"error\": {\n",
      "        \"message\": \"You exceeded your current quota, please check your plan and billing details. For more information on this error, read the docs: https://platform.openai.com/docs/guides/error-codes/api-errors.\",\n",
      "        \"type\": \"insufficient_quota\",\n",
      "        \"param\": null,\n",
      "        \"code\": \"insufficient_quota\"\n",
      "    }\n",
      "}\n",
      "\n",
      "Request failed with status code: 429\n",
      "Response: {\n",
      "    \"error\": {\n",
      "        \"message\": \"You exceeded your current quota, please check your plan and billing details. For more information on this error, read the docs: https://platform.openai.com/docs/guides/error-codes/api-errors.\",\n",
      "        \"type\": \"insufficient_quota\",\n",
      "        \"param\": null,\n",
      "        \"code\": \"insufficient_quota\"\n",
      "    }\n",
      "}\n",
      "\n"
     ]
    },
    {
     "name": "stderr",
     "output_type": "stream",
     "text": [
      "\n",
      "Processing mushroom.hi-tst.v1.jsonl:  47%|████▋     | 71/150 [03:55<04:19,  3.28s/entry]\u001B[A"
     ]
    },
    {
     "name": "stdout",
     "output_type": "stream",
     "text": [
      "Request failed with status code: 429\n",
      "Response: {\n",
      "    \"error\": {\n",
      "        \"message\": \"You exceeded your current quota, please check your plan and billing details. For more information on this error, read the docs: https://platform.openai.com/docs/guides/error-codes/api-errors.\",\n",
      "        \"type\": \"insufficient_quota\",\n",
      "        \"param\": null,\n",
      "        \"code\": \"insufficient_quota\"\n",
      "    }\n",
      "}\n",
      "\n",
      "Retry limit exceeded, returning empty result\n",
      "Request failed with status code: 429\n",
      "Response: {\n",
      "    \"error\": {\n",
      "        \"message\": \"You exceeded your current quota, please check your plan and billing details. For more information on this error, read the docs: https://platform.openai.com/docs/guides/error-codes/api-errors.\",\n",
      "        \"type\": \"insufficient_quota\",\n",
      "        \"param\": null,\n",
      "        \"code\": \"insufficient_quota\"\n",
      "    }\n",
      "}\n",
      "\n",
      "Request failed with status code: 429\n",
      "Response: {\n",
      "    \"error\": {\n",
      "        \"message\": \"You exceeded your current quota, please check your plan and billing details. For more information on this error, read the docs: https://platform.openai.com/docs/guides/error-codes/api-errors.\",\n",
      "        \"type\": \"insufficient_quota\",\n",
      "        \"param\": null,\n",
      "        \"code\": \"insufficient_quota\"\n",
      "    }\n",
      "}\n",
      "\n"
     ]
    },
    {
     "name": "stderr",
     "output_type": "stream",
     "text": [
      "\n",
      "Processing mushroom.hi-tst.v1.jsonl:  48%|████▊     | 72/150 [03:58<04:16,  3.29s/entry]\u001B[A"
     ]
    },
    {
     "name": "stdout",
     "output_type": "stream",
     "text": [
      "Request failed with status code: 429\n",
      "Response: {\n",
      "    \"error\": {\n",
      "        \"message\": \"You exceeded your current quota, please check your plan and billing details. For more information on this error, read the docs: https://platform.openai.com/docs/guides/error-codes/api-errors.\",\n",
      "        \"type\": \"insufficient_quota\",\n",
      "        \"param\": null,\n",
      "        \"code\": \"insufficient_quota\"\n",
      "    }\n",
      "}\n",
      "\n",
      "Retry limit exceeded, returning empty result\n",
      "Request failed with status code: 429\n",
      "Response: {\n",
      "    \"error\": {\n",
      "        \"message\": \"You exceeded your current quota, please check your plan and billing details. For more information on this error, read the docs: https://platform.openai.com/docs/guides/error-codes/api-errors.\",\n",
      "        \"type\": \"insufficient_quota\",\n",
      "        \"param\": null,\n",
      "        \"code\": \"insufficient_quota\"\n",
      "    }\n",
      "}\n",
      "\n",
      "Request failed with status code: 429\n",
      "Response: {\n",
      "    \"error\": {\n",
      "        \"message\": \"You exceeded your current quota, please check your plan and billing details. For more information on this error, read the docs: https://platform.openai.com/docs/guides/error-codes/api-errors.\",\n",
      "        \"type\": \"insufficient_quota\",\n",
      "        \"param\": null,\n",
      "        \"code\": \"insufficient_quota\"\n",
      "    }\n",
      "}\n",
      "\n"
     ]
    },
    {
     "name": "stderr",
     "output_type": "stream",
     "text": [
      "\n",
      "Processing mushroom.hi-tst.v1.jsonl:  49%|████▊     | 73/150 [04:01<04:13,  3.30s/entry]\u001B[A"
     ]
    },
    {
     "name": "stdout",
     "output_type": "stream",
     "text": [
      "Request failed with status code: 429\n",
      "Response: {\n",
      "    \"error\": {\n",
      "        \"message\": \"You exceeded your current quota, please check your plan and billing details. For more information on this error, read the docs: https://platform.openai.com/docs/guides/error-codes/api-errors.\",\n",
      "        \"type\": \"insufficient_quota\",\n",
      "        \"param\": null,\n",
      "        \"code\": \"insufficient_quota\"\n",
      "    }\n",
      "}\n",
      "\n",
      "Retry limit exceeded, returning empty result\n",
      "Request failed with status code: 429\n",
      "Response: {\n",
      "    \"error\": {\n",
      "        \"message\": \"You exceeded your current quota, please check your plan and billing details. For more information on this error, read the docs: https://platform.openai.com/docs/guides/error-codes/api-errors.\",\n",
      "        \"type\": \"insufficient_quota\",\n",
      "        \"param\": null,\n",
      "        \"code\": \"insufficient_quota\"\n",
      "    }\n",
      "}\n",
      "\n",
      "Request failed with status code: 429\n",
      "Response: {\n",
      "    \"error\": {\n",
      "        \"message\": \"You exceeded your current quota, please check your plan and billing details. For more information on this error, read the docs: https://platform.openai.com/docs/guides/error-codes/api-errors.\",\n",
      "        \"type\": \"insufficient_quota\",\n",
      "        \"param\": null,\n",
      "        \"code\": \"insufficient_quota\"\n",
      "    }\n",
      "}\n",
      "\n"
     ]
    },
    {
     "name": "stderr",
     "output_type": "stream",
     "text": [
      "\n",
      "Processing mushroom.hi-tst.v1.jsonl:  49%|████▉     | 74/150 [04:05<04:12,  3.32s/entry]\u001B[A"
     ]
    },
    {
     "name": "stdout",
     "output_type": "stream",
     "text": [
      "Request failed with status code: 429\n",
      "Response: {\n",
      "    \"error\": {\n",
      "        \"message\": \"You exceeded your current quota, please check your plan and billing details. For more information on this error, read the docs: https://platform.openai.com/docs/guides/error-codes/api-errors.\",\n",
      "        \"type\": \"insufficient_quota\",\n",
      "        \"param\": null,\n",
      "        \"code\": \"insufficient_quota\"\n",
      "    }\n",
      "}\n",
      "\n",
      "Retry limit exceeded, returning empty result\n",
      "Request failed with status code: 429\n",
      "Response: {\n",
      "    \"error\": {\n",
      "        \"message\": \"You exceeded your current quota, please check your plan and billing details. For more information on this error, read the docs: https://platform.openai.com/docs/guides/error-codes/api-errors.\",\n",
      "        \"type\": \"insufficient_quota\",\n",
      "        \"param\": null,\n",
      "        \"code\": \"insufficient_quota\"\n",
      "    }\n",
      "}\n",
      "\n",
      "Request failed with status code: 429\n",
      "Response: {\n",
      "    \"error\": {\n",
      "        \"message\": \"You exceeded your current quota, please check your plan and billing details. For more information on this error, read the docs: https://platform.openai.com/docs/guides/error-codes/api-errors.\",\n",
      "        \"type\": \"insufficient_quota\",\n",
      "        \"param\": null,\n",
      "        \"code\": \"insufficient_quota\"\n",
      "    }\n",
      "}\n",
      "\n"
     ]
    },
    {
     "name": "stderr",
     "output_type": "stream",
     "text": [
      "\n",
      "Processing mushroom.hi-tst.v1.jsonl:  50%|█████     | 75/150 [04:08<04:08,  3.31s/entry]\u001B[A"
     ]
    },
    {
     "name": "stdout",
     "output_type": "stream",
     "text": [
      "Request failed with status code: 429\n",
      "Response: {\n",
      "    \"error\": {\n",
      "        \"message\": \"You exceeded your current quota, please check your plan and billing details. For more information on this error, read the docs: https://platform.openai.com/docs/guides/error-codes/api-errors.\",\n",
      "        \"type\": \"insufficient_quota\",\n",
      "        \"param\": null,\n",
      "        \"code\": \"insufficient_quota\"\n",
      "    }\n",
      "}\n",
      "\n",
      "Retry limit exceeded, returning empty result\n",
      "Request failed with status code: 429\n",
      "Response: {\n",
      "    \"error\": {\n",
      "        \"message\": \"You exceeded your current quota, please check your plan and billing details. For more information on this error, read the docs: https://platform.openai.com/docs/guides/error-codes/api-errors.\",\n",
      "        \"type\": \"insufficient_quota\",\n",
      "        \"param\": null,\n",
      "        \"code\": \"insufficient_quota\"\n",
      "    }\n",
      "}\n",
      "\n",
      "Request failed with status code: 429\n",
      "Response: {\n",
      "    \"error\": {\n",
      "        \"message\": \"You exceeded your current quota, please check your plan and billing details. For more information on this error, read the docs: https://platform.openai.com/docs/guides/error-codes/api-errors.\",\n",
      "        \"type\": \"insufficient_quota\",\n",
      "        \"param\": null,\n",
      "        \"code\": \"insufficient_quota\"\n",
      "    }\n",
      "}\n",
      "\n"
     ]
    },
    {
     "name": "stderr",
     "output_type": "stream",
     "text": [
      "\n",
      "Processing mushroom.hi-tst.v1.jsonl:  51%|█████     | 76/150 [04:11<04:02,  3.28s/entry]\u001B[A"
     ]
    },
    {
     "name": "stdout",
     "output_type": "stream",
     "text": [
      "Request failed with status code: 429\n",
      "Response: {\n",
      "    \"error\": {\n",
      "        \"message\": \"You exceeded your current quota, please check your plan and billing details. For more information on this error, read the docs: https://platform.openai.com/docs/guides/error-codes/api-errors.\",\n",
      "        \"type\": \"insufficient_quota\",\n",
      "        \"param\": null,\n",
      "        \"code\": \"insufficient_quota\"\n",
      "    }\n",
      "}\n",
      "\n",
      "Retry limit exceeded, returning empty result\n",
      "Request failed with status code: 429\n",
      "Response: {\n",
      "    \"error\": {\n",
      "        \"message\": \"You exceeded your current quota, please check your plan and billing details. For more information on this error, read the docs: https://platform.openai.com/docs/guides/error-codes/api-errors.\",\n",
      "        \"type\": \"insufficient_quota\",\n",
      "        \"param\": null,\n",
      "        \"code\": \"insufficient_quota\"\n",
      "    }\n",
      "}\n",
      "\n",
      "Request failed with status code: 429\n",
      "Response: {\n",
      "    \"error\": {\n",
      "        \"message\": \"You exceeded your current quota, please check your plan and billing details. For more information on this error, read the docs: https://platform.openai.com/docs/guides/error-codes/api-errors.\",\n",
      "        \"type\": \"insufficient_quota\",\n",
      "        \"param\": null,\n",
      "        \"code\": \"insufficient_quota\"\n",
      "    }\n",
      "}\n",
      "\n"
     ]
    },
    {
     "name": "stderr",
     "output_type": "stream",
     "text": [
      "\n",
      "Processing mushroom.hi-tst.v1.jsonl:  51%|█████▏    | 77/150 [04:14<03:58,  3.26s/entry]\u001B[A"
     ]
    },
    {
     "name": "stdout",
     "output_type": "stream",
     "text": [
      "Request failed with status code: 429\n",
      "Response: {\n",
      "    \"error\": {\n",
      "        \"message\": \"You exceeded your current quota, please check your plan and billing details. For more information on this error, read the docs: https://platform.openai.com/docs/guides/error-codes/api-errors.\",\n",
      "        \"type\": \"insufficient_quota\",\n",
      "        \"param\": null,\n",
      "        \"code\": \"insufficient_quota\"\n",
      "    }\n",
      "}\n",
      "\n",
      "Retry limit exceeded, returning empty result\n",
      "Request failed with status code: 429\n",
      "Response: {\n",
      "    \"error\": {\n",
      "        \"message\": \"You exceeded your current quota, please check your plan and billing details. For more information on this error, read the docs: https://platform.openai.com/docs/guides/error-codes/api-errors.\",\n",
      "        \"type\": \"insufficient_quota\",\n",
      "        \"param\": null,\n",
      "        \"code\": \"insufficient_quota\"\n",
      "    }\n",
      "}\n",
      "\n",
      "Request failed with status code: 429\n",
      "Response: {\n",
      "    \"error\": {\n",
      "        \"message\": \"You exceeded your current quota, please check your plan and billing details. For more information on this error, read the docs: https://platform.openai.com/docs/guides/error-codes/api-errors.\",\n",
      "        \"type\": \"insufficient_quota\",\n",
      "        \"param\": null,\n",
      "        \"code\": \"insufficient_quota\"\n",
      "    }\n",
      "}\n",
      "\n"
     ]
    },
    {
     "name": "stderr",
     "output_type": "stream",
     "text": [
      "\n",
      "Processing mushroom.hi-tst.v1.jsonl:  52%|█████▏    | 78/150 [04:18<03:55,  3.27s/entry]\u001B[A"
     ]
    },
    {
     "name": "stdout",
     "output_type": "stream",
     "text": [
      "Request failed with status code: 429\n",
      "Response: {\n",
      "    \"error\": {\n",
      "        \"message\": \"You exceeded your current quota, please check your plan and billing details. For more information on this error, read the docs: https://platform.openai.com/docs/guides/error-codes/api-errors.\",\n",
      "        \"type\": \"insufficient_quota\",\n",
      "        \"param\": null,\n",
      "        \"code\": \"insufficient_quota\"\n",
      "    }\n",
      "}\n",
      "\n",
      "Retry limit exceeded, returning empty result\n",
      "Request failed with status code: 429\n",
      "Response: {\n",
      "    \"error\": {\n",
      "        \"message\": \"You exceeded your current quota, please check your plan and billing details. For more information on this error, read the docs: https://platform.openai.com/docs/guides/error-codes/api-errors.\",\n",
      "        \"type\": \"insufficient_quota\",\n",
      "        \"param\": null,\n",
      "        \"code\": \"insufficient_quota\"\n",
      "    }\n",
      "}\n",
      "\n",
      "Request failed with status code: 429\n",
      "Response: {\n",
      "    \"error\": {\n",
      "        \"message\": \"You exceeded your current quota, please check your plan and billing details. For more information on this error, read the docs: https://platform.openai.com/docs/guides/error-codes/api-errors.\",\n",
      "        \"type\": \"insufficient_quota\",\n",
      "        \"param\": null,\n",
      "        \"code\": \"insufficient_quota\"\n",
      "    }\n",
      "}\n",
      "\n"
     ]
    },
    {
     "name": "stderr",
     "output_type": "stream",
     "text": [
      "\n",
      "Processing mushroom.hi-tst.v1.jsonl:  53%|█████▎    | 79/150 [04:21<03:53,  3.29s/entry]\u001B[A"
     ]
    },
    {
     "name": "stdout",
     "output_type": "stream",
     "text": [
      "Request failed with status code: 429\n",
      "Response: {\n",
      "    \"error\": {\n",
      "        \"message\": \"You exceeded your current quota, please check your plan and billing details. For more information on this error, read the docs: https://platform.openai.com/docs/guides/error-codes/api-errors.\",\n",
      "        \"type\": \"insufficient_quota\",\n",
      "        \"param\": null,\n",
      "        \"code\": \"insufficient_quota\"\n",
      "    }\n",
      "}\n",
      "\n",
      "Retry limit exceeded, returning empty result\n",
      "Request failed with status code: 429\n",
      "Response: {\n",
      "    \"error\": {\n",
      "        \"message\": \"You exceeded your current quota, please check your plan and billing details. For more information on this error, read the docs: https://platform.openai.com/docs/guides/error-codes/api-errors.\",\n",
      "        \"type\": \"insufficient_quota\",\n",
      "        \"param\": null,\n",
      "        \"code\": \"insufficient_quota\"\n",
      "    }\n",
      "}\n",
      "\n",
      "Request failed with status code: 429\n",
      "Response: {\n",
      "    \"error\": {\n",
      "        \"message\": \"You exceeded your current quota, please check your plan and billing details. For more information on this error, read the docs: https://platform.openai.com/docs/guides/error-codes/api-errors.\",\n",
      "        \"type\": \"insufficient_quota\",\n",
      "        \"param\": null,\n",
      "        \"code\": \"insufficient_quota\"\n",
      "    }\n",
      "}\n",
      "\n"
     ]
    },
    {
     "name": "stderr",
     "output_type": "stream",
     "text": [
      "\n",
      "Processing mushroom.hi-tst.v1.jsonl:  53%|█████▎    | 80/150 [04:24<03:50,  3.29s/entry]\u001B[A"
     ]
    },
    {
     "name": "stdout",
     "output_type": "stream",
     "text": [
      "Request failed with status code: 429\n",
      "Response: {\n",
      "    \"error\": {\n",
      "        \"message\": \"You exceeded your current quota, please check your plan and billing details. For more information on this error, read the docs: https://platform.openai.com/docs/guides/error-codes/api-errors.\",\n",
      "        \"type\": \"insufficient_quota\",\n",
      "        \"param\": null,\n",
      "        \"code\": \"insufficient_quota\"\n",
      "    }\n",
      "}\n",
      "\n",
      "Retry limit exceeded, returning empty result\n",
      "Request failed with status code: 429\n",
      "Response: {\n",
      "    \"error\": {\n",
      "        \"message\": \"You exceeded your current quota, please check your plan and billing details. For more information on this error, read the docs: https://platform.openai.com/docs/guides/error-codes/api-errors.\",\n",
      "        \"type\": \"insufficient_quota\",\n",
      "        \"param\": null,\n",
      "        \"code\": \"insufficient_quota\"\n",
      "    }\n",
      "}\n",
      "\n",
      "Request failed with status code: 429\n",
      "Response: {\n",
      "    \"error\": {\n",
      "        \"message\": \"You exceeded your current quota, please check your plan and billing details. For more information on this error, read the docs: https://platform.openai.com/docs/guides/error-codes/api-errors.\",\n",
      "        \"type\": \"insufficient_quota\",\n",
      "        \"param\": null,\n",
      "        \"code\": \"insufficient_quota\"\n",
      "    }\n",
      "}\n",
      "\n"
     ]
    },
    {
     "name": "stderr",
     "output_type": "stream",
     "text": [
      "\n",
      "Processing mushroom.hi-tst.v1.jsonl:  54%|█████▍    | 81/150 [04:28<03:47,  3.30s/entry]\u001B[A"
     ]
    },
    {
     "name": "stdout",
     "output_type": "stream",
     "text": [
      "Request failed with status code: 429\n",
      "Response: {\n",
      "    \"error\": {\n",
      "        \"message\": \"You exceeded your current quota, please check your plan and billing details. For more information on this error, read the docs: https://platform.openai.com/docs/guides/error-codes/api-errors.\",\n",
      "        \"type\": \"insufficient_quota\",\n",
      "        \"param\": null,\n",
      "        \"code\": \"insufficient_quota\"\n",
      "    }\n",
      "}\n",
      "\n",
      "Retry limit exceeded, returning empty result\n",
      "Request failed with status code: 429\n",
      "Response: {\n",
      "    \"error\": {\n",
      "        \"message\": \"You exceeded your current quota, please check your plan and billing details. For more information on this error, read the docs: https://platform.openai.com/docs/guides/error-codes/api-errors.\",\n",
      "        \"type\": \"insufficient_quota\",\n",
      "        \"param\": null,\n",
      "        \"code\": \"insufficient_quota\"\n",
      "    }\n",
      "}\n",
      "\n",
      "Request failed with status code: 429\n",
      "Response: {\n",
      "    \"error\": {\n",
      "        \"message\": \"You exceeded your current quota, please check your plan and billing details. For more information on this error, read the docs: https://platform.openai.com/docs/guides/error-codes/api-errors.\",\n",
      "        \"type\": \"insufficient_quota\",\n",
      "        \"param\": null,\n",
      "        \"code\": \"insufficient_quota\"\n",
      "    }\n",
      "}\n",
      "\n"
     ]
    },
    {
     "name": "stderr",
     "output_type": "stream",
     "text": [
      "\n",
      "Processing mushroom.hi-tst.v1.jsonl:  55%|█████▍    | 82/150 [04:31<03:44,  3.30s/entry]\u001B[A"
     ]
    },
    {
     "name": "stdout",
     "output_type": "stream",
     "text": [
      "Request failed with status code: 429\n",
      "Response: {\n",
      "    \"error\": {\n",
      "        \"message\": \"You exceeded your current quota, please check your plan and billing details. For more information on this error, read the docs: https://platform.openai.com/docs/guides/error-codes/api-errors.\",\n",
      "        \"type\": \"insufficient_quota\",\n",
      "        \"param\": null,\n",
      "        \"code\": \"insufficient_quota\"\n",
      "    }\n",
      "}\n",
      "\n",
      "Retry limit exceeded, returning empty result\n",
      "Request failed with status code: 429\n",
      "Response: {\n",
      "    \"error\": {\n",
      "        \"message\": \"You exceeded your current quota, please check your plan and billing details. For more information on this error, read the docs: https://platform.openai.com/docs/guides/error-codes/api-errors.\",\n",
      "        \"type\": \"insufficient_quota\",\n",
      "        \"param\": null,\n",
      "        \"code\": \"insufficient_quota\"\n",
      "    }\n",
      "}\n",
      "\n",
      "Request failed with status code: 429\n",
      "Response: {\n",
      "    \"error\": {\n",
      "        \"message\": \"You exceeded your current quota, please check your plan and billing details. For more information on this error, read the docs: https://platform.openai.com/docs/guides/error-codes/api-errors.\",\n",
      "        \"type\": \"insufficient_quota\",\n",
      "        \"param\": null,\n",
      "        \"code\": \"insufficient_quota\"\n",
      "    }\n",
      "}\n",
      "\n"
     ]
    },
    {
     "name": "stderr",
     "output_type": "stream",
     "text": [
      "\n",
      "Processing mushroom.hi-tst.v1.jsonl:  55%|█████▌    | 83/150 [04:35<04:02,  3.62s/entry]\u001B[A"
     ]
    },
    {
     "name": "stdout",
     "output_type": "stream",
     "text": [
      "Request failed with status code: 429\n",
      "Response: {\n",
      "    \"error\": {\n",
      "        \"message\": \"You exceeded your current quota, please check your plan and billing details. For more information on this error, read the docs: https://platform.openai.com/docs/guides/error-codes/api-errors.\",\n",
      "        \"type\": \"insufficient_quota\",\n",
      "        \"param\": null,\n",
      "        \"code\": \"insufficient_quota\"\n",
      "    }\n",
      "}\n",
      "\n",
      "Retry limit exceeded, returning empty result\n",
      "Request failed with status code: 429\n",
      "Response: {\n",
      "    \"error\": {\n",
      "        \"message\": \"You exceeded your current quota, please check your plan and billing details. For more information on this error, read the docs: https://platform.openai.com/docs/guides/error-codes/api-errors.\",\n",
      "        \"type\": \"insufficient_quota\",\n",
      "        \"param\": null,\n",
      "        \"code\": \"insufficient_quota\"\n",
      "    }\n",
      "}\n",
      "\n",
      "Request failed with status code: 429\n",
      "Response: {\n",
      "    \"error\": {\n",
      "        \"message\": \"You exceeded your current quota, please check your plan and billing details. For more information on this error, read the docs: https://platform.openai.com/docs/guides/error-codes/api-errors.\",\n",
      "        \"type\": \"insufficient_quota\",\n",
      "        \"param\": null,\n",
      "        \"code\": \"insufficient_quota\"\n",
      "    }\n",
      "}\n",
      "\n"
     ]
    },
    {
     "name": "stderr",
     "output_type": "stream",
     "text": [
      "\n",
      "Processing mushroom.hi-tst.v1.jsonl:  56%|█████▌    | 84/150 [04:39<03:53,  3.54s/entry]\u001B[A"
     ]
    },
    {
     "name": "stdout",
     "output_type": "stream",
     "text": [
      "Request failed with status code: 429\n",
      "Response: {\n",
      "    \"error\": {\n",
      "        \"message\": \"You exceeded your current quota, please check your plan and billing details. For more information on this error, read the docs: https://platform.openai.com/docs/guides/error-codes/api-errors.\",\n",
      "        \"type\": \"insufficient_quota\",\n",
      "        \"param\": null,\n",
      "        \"code\": \"insufficient_quota\"\n",
      "    }\n",
      "}\n",
      "\n",
      "Retry limit exceeded, returning empty result\n",
      "Request failed with status code: 429\n",
      "Response: {\n",
      "    \"error\": {\n",
      "        \"message\": \"You exceeded your current quota, please check your plan and billing details. For more information on this error, read the docs: https://platform.openai.com/docs/guides/error-codes/api-errors.\",\n",
      "        \"type\": \"insufficient_quota\",\n",
      "        \"param\": null,\n",
      "        \"code\": \"insufficient_quota\"\n",
      "    }\n",
      "}\n",
      "\n",
      "Request failed with status code: 429\n",
      "Response: {\n",
      "    \"error\": {\n",
      "        \"message\": \"You exceeded your current quota, please check your plan and billing details. For more information on this error, read the docs: https://platform.openai.com/docs/guides/error-codes/api-errors.\",\n",
      "        \"type\": \"insufficient_quota\",\n",
      "        \"param\": null,\n",
      "        \"code\": \"insufficient_quota\"\n",
      "    }\n",
      "}\n",
      "\n"
     ]
    },
    {
     "name": "stderr",
     "output_type": "stream",
     "text": [
      "\n",
      "Processing mushroom.hi-tst.v1.jsonl:  57%|█████▋    | 85/150 [04:42<03:44,  3.45s/entry]\u001B[A"
     ]
    },
    {
     "name": "stdout",
     "output_type": "stream",
     "text": [
      "Request failed with status code: 429\n",
      "Response: {\n",
      "    \"error\": {\n",
      "        \"message\": \"You exceeded your current quota, please check your plan and billing details. For more information on this error, read the docs: https://platform.openai.com/docs/guides/error-codes/api-errors.\",\n",
      "        \"type\": \"insufficient_quota\",\n",
      "        \"param\": null,\n",
      "        \"code\": \"insufficient_quota\"\n",
      "    }\n",
      "}\n",
      "\n",
      "Retry limit exceeded, returning empty result\n",
      "Request failed with status code: 429\n",
      "Response: {\n",
      "    \"error\": {\n",
      "        \"message\": \"You exceeded your current quota, please check your plan and billing details. For more information on this error, read the docs: https://platform.openai.com/docs/guides/error-codes/api-errors.\",\n",
      "        \"type\": \"insufficient_quota\",\n",
      "        \"param\": null,\n",
      "        \"code\": \"insufficient_quota\"\n",
      "    }\n",
      "}\n",
      "\n",
      "Request failed with status code: 429\n",
      "Response: {\n",
      "    \"error\": {\n",
      "        \"message\": \"You exceeded your current quota, please check your plan and billing details. For more information on this error, read the docs: https://platform.openai.com/docs/guides/error-codes/api-errors.\",\n",
      "        \"type\": \"insufficient_quota\",\n",
      "        \"param\": null,\n",
      "        \"code\": \"insufficient_quota\"\n",
      "    }\n",
      "}\n",
      "\n"
     ]
    },
    {
     "name": "stderr",
     "output_type": "stream",
     "text": [
      "\n",
      "Processing mushroom.hi-tst.v1.jsonl:  57%|█████▋    | 86/150 [04:45<03:37,  3.39s/entry]\u001B[A"
     ]
    },
    {
     "name": "stdout",
     "output_type": "stream",
     "text": [
      "Request failed with status code: 429\n",
      "Response: {\n",
      "    \"error\": {\n",
      "        \"message\": \"You exceeded your current quota, please check your plan and billing details. For more information on this error, read the docs: https://platform.openai.com/docs/guides/error-codes/api-errors.\",\n",
      "        \"type\": \"insufficient_quota\",\n",
      "        \"param\": null,\n",
      "        \"code\": \"insufficient_quota\"\n",
      "    }\n",
      "}\n",
      "\n",
      "Retry limit exceeded, returning empty result\n",
      "Request failed with status code: 429\n",
      "Response: {\n",
      "    \"error\": {\n",
      "        \"message\": \"You exceeded your current quota, please check your plan and billing details. For more information on this error, read the docs: https://platform.openai.com/docs/guides/error-codes/api-errors.\",\n",
      "        \"type\": \"insufficient_quota\",\n",
      "        \"param\": null,\n",
      "        \"code\": \"insufficient_quota\"\n",
      "    }\n",
      "}\n",
      "\n",
      "Request failed with status code: 429\n",
      "Response: {\n",
      "    \"error\": {\n",
      "        \"message\": \"You exceeded your current quota, please check your plan and billing details. For more information on this error, read the docs: https://platform.openai.com/docs/guides/error-codes/api-errors.\",\n",
      "        \"type\": \"insufficient_quota\",\n",
      "        \"param\": null,\n",
      "        \"code\": \"insufficient_quota\"\n",
      "    }\n",
      "}\n",
      "\n"
     ]
    },
    {
     "name": "stderr",
     "output_type": "stream",
     "text": [
      "\n",
      "Processing mushroom.hi-tst.v1.jsonl:  58%|█████▊    | 87/150 [04:48<03:30,  3.34s/entry]\u001B[A"
     ]
    },
    {
     "name": "stdout",
     "output_type": "stream",
     "text": [
      "Request failed with status code: 429\n",
      "Response: {\n",
      "    \"error\": {\n",
      "        \"message\": \"You exceeded your current quota, please check your plan and billing details. For more information on this error, read the docs: https://platform.openai.com/docs/guides/error-codes/api-errors.\",\n",
      "        \"type\": \"insufficient_quota\",\n",
      "        \"param\": null,\n",
      "        \"code\": \"insufficient_quota\"\n",
      "    }\n",
      "}\n",
      "\n",
      "Retry limit exceeded, returning empty result\n",
      "Request failed with status code: 429\n",
      "Response: {\n",
      "    \"error\": {\n",
      "        \"message\": \"You exceeded your current quota, please check your plan and billing details. For more information on this error, read the docs: https://platform.openai.com/docs/guides/error-codes/api-errors.\",\n",
      "        \"type\": \"insufficient_quota\",\n",
      "        \"param\": null,\n",
      "        \"code\": \"insufficient_quota\"\n",
      "    }\n",
      "}\n",
      "\n",
      "Request failed with status code: 429\n",
      "Response: {\n",
      "    \"error\": {\n",
      "        \"message\": \"You exceeded your current quota, please check your plan and billing details. For more information on this error, read the docs: https://platform.openai.com/docs/guides/error-codes/api-errors.\",\n",
      "        \"type\": \"insufficient_quota\",\n",
      "        \"param\": null,\n",
      "        \"code\": \"insufficient_quota\"\n",
      "    }\n",
      "}\n",
      "\n"
     ]
    },
    {
     "name": "stderr",
     "output_type": "stream",
     "text": [
      "\n",
      "Processing mushroom.hi-tst.v1.jsonl:  59%|█████▊    | 88/150 [04:52<03:26,  3.33s/entry]\u001B[A"
     ]
    },
    {
     "name": "stdout",
     "output_type": "stream",
     "text": [
      "Request failed with status code: 429\n",
      "Response: {\n",
      "    \"error\": {\n",
      "        \"message\": \"You exceeded your current quota, please check your plan and billing details. For more information on this error, read the docs: https://platform.openai.com/docs/guides/error-codes/api-errors.\",\n",
      "        \"type\": \"insufficient_quota\",\n",
      "        \"param\": null,\n",
      "        \"code\": \"insufficient_quota\"\n",
      "    }\n",
      "}\n",
      "\n",
      "Retry limit exceeded, returning empty result\n",
      "Request failed with status code: 429\n",
      "Response: {\n",
      "    \"error\": {\n",
      "        \"message\": \"You exceeded your current quota, please check your plan and billing details. For more information on this error, read the docs: https://platform.openai.com/docs/guides/error-codes/api-errors.\",\n",
      "        \"type\": \"insufficient_quota\",\n",
      "        \"param\": null,\n",
      "        \"code\": \"insufficient_quota\"\n",
      "    }\n",
      "}\n",
      "\n",
      "Request failed with status code: 429\n",
      "Response: {\n",
      "    \"error\": {\n",
      "        \"message\": \"You exceeded your current quota, please check your plan and billing details. For more information on this error, read the docs: https://platform.openai.com/docs/guides/error-codes/api-errors.\",\n",
      "        \"type\": \"insufficient_quota\",\n",
      "        \"param\": null,\n",
      "        \"code\": \"insufficient_quota\"\n",
      "    }\n",
      "}\n",
      "\n"
     ]
    },
    {
     "name": "stderr",
     "output_type": "stream",
     "text": [
      "\n",
      "Processing mushroom.hi-tst.v1.jsonl:  59%|█████▉    | 89/150 [04:55<03:22,  3.32s/entry]\u001B[A"
     ]
    },
    {
     "name": "stdout",
     "output_type": "stream",
     "text": [
      "Request failed with status code: 429\n",
      "Response: {\n",
      "    \"error\": {\n",
      "        \"message\": \"You exceeded your current quota, please check your plan and billing details. For more information on this error, read the docs: https://platform.openai.com/docs/guides/error-codes/api-errors.\",\n",
      "        \"type\": \"insufficient_quota\",\n",
      "        \"param\": null,\n",
      "        \"code\": \"insufficient_quota\"\n",
      "    }\n",
      "}\n",
      "\n",
      "Retry limit exceeded, returning empty result\n",
      "Request failed with status code: 429\n",
      "Response: {\n",
      "    \"error\": {\n",
      "        \"message\": \"You exceeded your current quota, please check your plan and billing details. For more information on this error, read the docs: https://platform.openai.com/docs/guides/error-codes/api-errors.\",\n",
      "        \"type\": \"insufficient_quota\",\n",
      "        \"param\": null,\n",
      "        \"code\": \"insufficient_quota\"\n",
      "    }\n",
      "}\n",
      "\n",
      "Request failed with status code: 429\n",
      "Response: {\n",
      "    \"error\": {\n",
      "        \"message\": \"You exceeded your current quota, please check your plan and billing details. For more information on this error, read the docs: https://platform.openai.com/docs/guides/error-codes/api-errors.\",\n",
      "        \"type\": \"insufficient_quota\",\n",
      "        \"param\": null,\n",
      "        \"code\": \"insufficient_quota\"\n",
      "    }\n",
      "}\n",
      "\n"
     ]
    },
    {
     "name": "stderr",
     "output_type": "stream",
     "text": [
      "\n",
      "Processing mushroom.hi-tst.v1.jsonl:  60%|██████    | 90/150 [04:58<03:17,  3.30s/entry]\u001B[A"
     ]
    },
    {
     "name": "stdout",
     "output_type": "stream",
     "text": [
      "Request failed with status code: 429\n",
      "Response: {\n",
      "    \"error\": {\n",
      "        \"message\": \"You exceeded your current quota, please check your plan and billing details. For more information on this error, read the docs: https://platform.openai.com/docs/guides/error-codes/api-errors.\",\n",
      "        \"type\": \"insufficient_quota\",\n",
      "        \"param\": null,\n",
      "        \"code\": \"insufficient_quota\"\n",
      "    }\n",
      "}\n",
      "\n",
      "Retry limit exceeded, returning empty result\n",
      "Request failed with status code: 429\n",
      "Response: {\n",
      "    \"error\": {\n",
      "        \"message\": \"You exceeded your current quota, please check your plan and billing details. For more information on this error, read the docs: https://platform.openai.com/docs/guides/error-codes/api-errors.\",\n",
      "        \"type\": \"insufficient_quota\",\n",
      "        \"param\": null,\n",
      "        \"code\": \"insufficient_quota\"\n",
      "    }\n",
      "}\n",
      "\n",
      "Request failed with status code: 429\n",
      "Response: {\n",
      "    \"error\": {\n",
      "        \"message\": \"You exceeded your current quota, please check your plan and billing details. For more information on this error, read the docs: https://platform.openai.com/docs/guides/error-codes/api-errors.\",\n",
      "        \"type\": \"insufficient_quota\",\n",
      "        \"param\": null,\n",
      "        \"code\": \"insufficient_quota\"\n",
      "    }\n",
      "}\n",
      "\n"
     ]
    },
    {
     "name": "stderr",
     "output_type": "stream",
     "text": [
      "\n",
      "Processing mushroom.hi-tst.v1.jsonl:  61%|██████    | 91/150 [05:03<03:33,  3.63s/entry]\u001B[A"
     ]
    },
    {
     "name": "stdout",
     "output_type": "stream",
     "text": [
      "Request failed with status code: 429\n",
      "Response: {\n",
      "    \"error\": {\n",
      "        \"message\": \"You exceeded your current quota, please check your plan and billing details. For more information on this error, read the docs: https://platform.openai.com/docs/guides/error-codes/api-errors.\",\n",
      "        \"type\": \"insufficient_quota\",\n",
      "        \"param\": null,\n",
      "        \"code\": \"insufficient_quota\"\n",
      "    }\n",
      "}\n",
      "\n",
      "Retry limit exceeded, returning empty result\n",
      "Request failed with status code: 429\n",
      "Response: {\n",
      "    \"error\": {\n",
      "        \"message\": \"You exceeded your current quota, please check your plan and billing details. For more information on this error, read the docs: https://platform.openai.com/docs/guides/error-codes/api-errors.\",\n",
      "        \"type\": \"insufficient_quota\",\n",
      "        \"param\": null,\n",
      "        \"code\": \"insufficient_quota\"\n",
      "    }\n",
      "}\n",
      "\n",
      "Request failed with status code: 429\n",
      "Response: {\n",
      "    \"error\": {\n",
      "        \"message\": \"You exceeded your current quota, please check your plan and billing details. For more information on this error, read the docs: https://platform.openai.com/docs/guides/error-codes/api-errors.\",\n",
      "        \"type\": \"insufficient_quota\",\n",
      "        \"param\": null,\n",
      "        \"code\": \"insufficient_quota\"\n",
      "    }\n",
      "}\n",
      "\n"
     ]
    },
    {
     "name": "stderr",
     "output_type": "stream",
     "text": [
      "\n",
      "Processing mushroom.hi-tst.v1.jsonl:  61%|██████▏   | 92/150 [05:06<03:24,  3.52s/entry]\u001B[A"
     ]
    },
    {
     "name": "stdout",
     "output_type": "stream",
     "text": [
      "Request failed with status code: 429\n",
      "Response: {\n",
      "    \"error\": {\n",
      "        \"message\": \"You exceeded your current quota, please check your plan and billing details. For more information on this error, read the docs: https://platform.openai.com/docs/guides/error-codes/api-errors.\",\n",
      "        \"type\": \"insufficient_quota\",\n",
      "        \"param\": null,\n",
      "        \"code\": \"insufficient_quota\"\n",
      "    }\n",
      "}\n",
      "\n",
      "Retry limit exceeded, returning empty result\n",
      "Request failed with status code: 429\n",
      "Response: {\n",
      "    \"error\": {\n",
      "        \"message\": \"You exceeded your current quota, please check your plan and billing details. For more information on this error, read the docs: https://platform.openai.com/docs/guides/error-codes/api-errors.\",\n",
      "        \"type\": \"insufficient_quota\",\n",
      "        \"param\": null,\n",
      "        \"code\": \"insufficient_quota\"\n",
      "    }\n",
      "}\n",
      "\n",
      "Request failed with status code: 429\n",
      "Response: {\n",
      "    \"error\": {\n",
      "        \"message\": \"You exceeded your current quota, please check your plan and billing details. For more information on this error, read the docs: https://platform.openai.com/docs/guides/error-codes/api-errors.\",\n",
      "        \"type\": \"insufficient_quota\",\n",
      "        \"param\": null,\n",
      "        \"code\": \"insufficient_quota\"\n",
      "    }\n",
      "}\n",
      "\n"
     ]
    },
    {
     "name": "stderr",
     "output_type": "stream",
     "text": [
      "\n",
      "Processing mushroom.hi-tst.v1.jsonl:  62%|██████▏   | 93/150 [05:09<03:15,  3.44s/entry]\u001B[A"
     ]
    },
    {
     "name": "stdout",
     "output_type": "stream",
     "text": [
      "Request failed with status code: 429\n",
      "Response: {\n",
      "    \"error\": {\n",
      "        \"message\": \"You exceeded your current quota, please check your plan and billing details. For more information on this error, read the docs: https://platform.openai.com/docs/guides/error-codes/api-errors.\",\n",
      "        \"type\": \"insufficient_quota\",\n",
      "        \"param\": null,\n",
      "        \"code\": \"insufficient_quota\"\n",
      "    }\n",
      "}\n",
      "\n",
      "Retry limit exceeded, returning empty result\n",
      "Request failed with status code: 429\n",
      "Response: {\n",
      "    \"error\": {\n",
      "        \"message\": \"You exceeded your current quota, please check your plan and billing details. For more information on this error, read the docs: https://platform.openai.com/docs/guides/error-codes/api-errors.\",\n",
      "        \"type\": \"insufficient_quota\",\n",
      "        \"param\": null,\n",
      "        \"code\": \"insufficient_quota\"\n",
      "    }\n",
      "}\n",
      "\n",
      "Request failed with status code: 429\n",
      "Response: {\n",
      "    \"error\": {\n",
      "        \"message\": \"You exceeded your current quota, please check your plan and billing details. For more information on this error, read the docs: https://platform.openai.com/docs/guides/error-codes/api-errors.\",\n",
      "        \"type\": \"insufficient_quota\",\n",
      "        \"param\": null,\n",
      "        \"code\": \"insufficient_quota\"\n",
      "    }\n",
      "}\n",
      "\n"
     ]
    },
    {
     "name": "stderr",
     "output_type": "stream",
     "text": [
      "\n",
      "Processing mushroom.hi-tst.v1.jsonl:  63%|██████▎   | 94/150 [05:12<03:08,  3.37s/entry]\u001B[A"
     ]
    },
    {
     "name": "stdout",
     "output_type": "stream",
     "text": [
      "Request failed with status code: 429\n",
      "Response: {\n",
      "    \"error\": {\n",
      "        \"message\": \"You exceeded your current quota, please check your plan and billing details. For more information on this error, read the docs: https://platform.openai.com/docs/guides/error-codes/api-errors.\",\n",
      "        \"type\": \"insufficient_quota\",\n",
      "        \"param\": null,\n",
      "        \"code\": \"insufficient_quota\"\n",
      "    }\n",
      "}\n",
      "\n",
      "Retry limit exceeded, returning empty result\n",
      "Request failed with status code: 429\n",
      "Response: {\n",
      "    \"error\": {\n",
      "        \"message\": \"You exceeded your current quota, please check your plan and billing details. For more information on this error, read the docs: https://platform.openai.com/docs/guides/error-codes/api-errors.\",\n",
      "        \"type\": \"insufficient_quota\",\n",
      "        \"param\": null,\n",
      "        \"code\": \"insufficient_quota\"\n",
      "    }\n",
      "}\n",
      "\n",
      "Request failed with status code: 429\n",
      "Response: {\n",
      "    \"error\": {\n",
      "        \"message\": \"You exceeded your current quota, please check your plan and billing details. For more information on this error, read the docs: https://platform.openai.com/docs/guides/error-codes/api-errors.\",\n",
      "        \"type\": \"insufficient_quota\",\n",
      "        \"param\": null,\n",
      "        \"code\": \"insufficient_quota\"\n",
      "    }\n",
      "}\n",
      "\n"
     ]
    },
    {
     "name": "stderr",
     "output_type": "stream",
     "text": [
      "\n",
      "Processing mushroom.hi-tst.v1.jsonl:  63%|██████▎   | 95/150 [05:16<03:03,  3.33s/entry]\u001B[A"
     ]
    },
    {
     "name": "stdout",
     "output_type": "stream",
     "text": [
      "Request failed with status code: 429\n",
      "Response: {\n",
      "    \"error\": {\n",
      "        \"message\": \"You exceeded your current quota, please check your plan and billing details. For more information on this error, read the docs: https://platform.openai.com/docs/guides/error-codes/api-errors.\",\n",
      "        \"type\": \"insufficient_quota\",\n",
      "        \"param\": null,\n",
      "        \"code\": \"insufficient_quota\"\n",
      "    }\n",
      "}\n",
      "\n",
      "Retry limit exceeded, returning empty result\n",
      "Request failed with status code: 429\n",
      "Response: {\n",
      "    \"error\": {\n",
      "        \"message\": \"You exceeded your current quota, please check your plan and billing details. For more information on this error, read the docs: https://platform.openai.com/docs/guides/error-codes/api-errors.\",\n",
      "        \"type\": \"insufficient_quota\",\n",
      "        \"param\": null,\n",
      "        \"code\": \"insufficient_quota\"\n",
      "    }\n",
      "}\n",
      "\n",
      "Request failed with status code: 429\n",
      "Response: {\n",
      "    \"error\": {\n",
      "        \"message\": \"You exceeded your current quota, please check your plan and billing details. For more information on this error, read the docs: https://platform.openai.com/docs/guides/error-codes/api-errors.\",\n",
      "        \"type\": \"insufficient_quota\",\n",
      "        \"param\": null,\n",
      "        \"code\": \"insufficient_quota\"\n",
      "    }\n",
      "}\n",
      "\n"
     ]
    },
    {
     "name": "stderr",
     "output_type": "stream",
     "text": [
      "\n",
      "Processing mushroom.hi-tst.v1.jsonl:  64%|██████▍   | 96/150 [05:19<02:59,  3.33s/entry]\u001B[A"
     ]
    },
    {
     "name": "stdout",
     "output_type": "stream",
     "text": [
      "Request failed with status code: 429\n",
      "Response: {\n",
      "    \"error\": {\n",
      "        \"message\": \"You exceeded your current quota, please check your plan and billing details. For more information on this error, read the docs: https://platform.openai.com/docs/guides/error-codes/api-errors.\",\n",
      "        \"type\": \"insufficient_quota\",\n",
      "        \"param\": null,\n",
      "        \"code\": \"insufficient_quota\"\n",
      "    }\n",
      "}\n",
      "\n",
      "Retry limit exceeded, returning empty result\n",
      "Request failed with status code: 429\n",
      "Response: {\n",
      "    \"error\": {\n",
      "        \"message\": \"You exceeded your current quota, please check your plan and billing details. For more information on this error, read the docs: https://platform.openai.com/docs/guides/error-codes/api-errors.\",\n",
      "        \"type\": \"insufficient_quota\",\n",
      "        \"param\": null,\n",
      "        \"code\": \"insufficient_quota\"\n",
      "    }\n",
      "}\n",
      "\n",
      "Request failed with status code: 429\n",
      "Response: {\n",
      "    \"error\": {\n",
      "        \"message\": \"You exceeded your current quota, please check your plan and billing details. For more information on this error, read the docs: https://platform.openai.com/docs/guides/error-codes/api-errors.\",\n",
      "        \"type\": \"insufficient_quota\",\n",
      "        \"param\": null,\n",
      "        \"code\": \"insufficient_quota\"\n",
      "    }\n",
      "}\n",
      "\n"
     ]
    },
    {
     "name": "stderr",
     "output_type": "stream",
     "text": [
      "\n",
      "Processing mushroom.hi-tst.v1.jsonl:  65%|██████▍   | 97/150 [05:22<02:56,  3.33s/entry]\u001B[A"
     ]
    },
    {
     "name": "stdout",
     "output_type": "stream",
     "text": [
      "Request failed with status code: 429\n",
      "Response: {\n",
      "    \"error\": {\n",
      "        \"message\": \"You exceeded your current quota, please check your plan and billing details. For more information on this error, read the docs: https://platform.openai.com/docs/guides/error-codes/api-errors.\",\n",
      "        \"type\": \"insufficient_quota\",\n",
      "        \"param\": null,\n",
      "        \"code\": \"insufficient_quota\"\n",
      "    }\n",
      "}\n",
      "\n",
      "Retry limit exceeded, returning empty result\n",
      "Request failed with status code: 429\n",
      "Response: {\n",
      "    \"error\": {\n",
      "        \"message\": \"You exceeded your current quota, please check your plan and billing details. For more information on this error, read the docs: https://platform.openai.com/docs/guides/error-codes/api-errors.\",\n",
      "        \"type\": \"insufficient_quota\",\n",
      "        \"param\": null,\n",
      "        \"code\": \"insufficient_quota\"\n",
      "    }\n",
      "}\n",
      "\n",
      "Request failed with status code: 429\n",
      "Response: {\n",
      "    \"error\": {\n",
      "        \"message\": \"You exceeded your current quota, please check your plan and billing details. For more information on this error, read the docs: https://platform.openai.com/docs/guides/error-codes/api-errors.\",\n",
      "        \"type\": \"insufficient_quota\",\n",
      "        \"param\": null,\n",
      "        \"code\": \"insufficient_quota\"\n",
      "    }\n",
      "}\n",
      "\n"
     ]
    },
    {
     "name": "stderr",
     "output_type": "stream",
     "text": [
      "\n",
      "Processing mushroom.hi-tst.v1.jsonl:  65%|██████▌   | 98/150 [05:26<02:54,  3.35s/entry]\u001B[A"
     ]
    },
    {
     "name": "stdout",
     "output_type": "stream",
     "text": [
      "Request failed with status code: 429\n",
      "Response: {\n",
      "    \"error\": {\n",
      "        \"message\": \"You exceeded your current quota, please check your plan and billing details. For more information on this error, read the docs: https://platform.openai.com/docs/guides/error-codes/api-errors.\",\n",
      "        \"type\": \"insufficient_quota\",\n",
      "        \"param\": null,\n",
      "        \"code\": \"insufficient_quota\"\n",
      "    }\n",
      "}\n",
      "\n",
      "Retry limit exceeded, returning empty result\n",
      "Request failed with status code: 429\n",
      "Response: {\n",
      "    \"error\": {\n",
      "        \"message\": \"You exceeded your current quota, please check your plan and billing details. For more information on this error, read the docs: https://platform.openai.com/docs/guides/error-codes/api-errors.\",\n",
      "        \"type\": \"insufficient_quota\",\n",
      "        \"param\": null,\n",
      "        \"code\": \"insufficient_quota\"\n",
      "    }\n",
      "}\n",
      "\n",
      "Request failed with status code: 429\n",
      "Response: {\n",
      "    \"error\": {\n",
      "        \"message\": \"You exceeded your current quota, please check your plan and billing details. For more information on this error, read the docs: https://platform.openai.com/docs/guides/error-codes/api-errors.\",\n",
      "        \"type\": \"insufficient_quota\",\n",
      "        \"param\": null,\n",
      "        \"code\": \"insufficient_quota\"\n",
      "    }\n",
      "}\n",
      "\n"
     ]
    },
    {
     "name": "stderr",
     "output_type": "stream",
     "text": [
      "\n",
      "Processing mushroom.hi-tst.v1.jsonl:  66%|██████▌   | 99/150 [05:29<02:50,  3.35s/entry]\u001B[A"
     ]
    },
    {
     "name": "stdout",
     "output_type": "stream",
     "text": [
      "Request failed with status code: 429\n",
      "Response: {\n",
      "    \"error\": {\n",
      "        \"message\": \"You exceeded your current quota, please check your plan and billing details. For more information on this error, read the docs: https://platform.openai.com/docs/guides/error-codes/api-errors.\",\n",
      "        \"type\": \"insufficient_quota\",\n",
      "        \"param\": null,\n",
      "        \"code\": \"insufficient_quota\"\n",
      "    }\n",
      "}\n",
      "\n",
      "Retry limit exceeded, returning empty result\n",
      "Request failed with status code: 429\n",
      "Response: {\n",
      "    \"error\": {\n",
      "        \"message\": \"You exceeded your current quota, please check your plan and billing details. For more information on this error, read the docs: https://platform.openai.com/docs/guides/error-codes/api-errors.\",\n",
      "        \"type\": \"insufficient_quota\",\n",
      "        \"param\": null,\n",
      "        \"code\": \"insufficient_quota\"\n",
      "    }\n",
      "}\n",
      "\n",
      "Request failed with status code: 429\n",
      "Response: {\n",
      "    \"error\": {\n",
      "        \"message\": \"You exceeded your current quota, please check your plan and billing details. For more information on this error, read the docs: https://platform.openai.com/docs/guides/error-codes/api-errors.\",\n",
      "        \"type\": \"insufficient_quota\",\n",
      "        \"param\": null,\n",
      "        \"code\": \"insufficient_quota\"\n",
      "    }\n",
      "}\n",
      "\n"
     ]
    },
    {
     "name": "stderr",
     "output_type": "stream",
     "text": [
      "\n",
      "Processing mushroom.hi-tst.v1.jsonl:  67%|██████▋   | 100/150 [05:32<02:46,  3.33s/entry]\u001B[A"
     ]
    },
    {
     "name": "stdout",
     "output_type": "stream",
     "text": [
      "Request failed with status code: 429\n",
      "Response: {\n",
      "    \"error\": {\n",
      "        \"message\": \"You exceeded your current quota, please check your plan and billing details. For more information on this error, read the docs: https://platform.openai.com/docs/guides/error-codes/api-errors.\",\n",
      "        \"type\": \"insufficient_quota\",\n",
      "        \"param\": null,\n",
      "        \"code\": \"insufficient_quota\"\n",
      "    }\n",
      "}\n",
      "\n",
      "Retry limit exceeded, returning empty result\n",
      "Request failed with status code: 429\n",
      "Response: {\n",
      "    \"error\": {\n",
      "        \"message\": \"You exceeded your current quota, please check your plan and billing details. For more information on this error, read the docs: https://platform.openai.com/docs/guides/error-codes/api-errors.\",\n",
      "        \"type\": \"insufficient_quota\",\n",
      "        \"param\": null,\n",
      "        \"code\": \"insufficient_quota\"\n",
      "    }\n",
      "}\n",
      "\n",
      "Request failed with status code: 429\n",
      "Response: {\n",
      "    \"error\": {\n",
      "        \"message\": \"You exceeded your current quota, please check your plan and billing details. For more information on this error, read the docs: https://platform.openai.com/docs/guides/error-codes/api-errors.\",\n",
      "        \"type\": \"insufficient_quota\",\n",
      "        \"param\": null,\n",
      "        \"code\": \"insufficient_quota\"\n",
      "    }\n",
      "}\n",
      "\n"
     ]
    },
    {
     "name": "stderr",
     "output_type": "stream",
     "text": [
      "\n",
      "Processing mushroom.hi-tst.v1.jsonl:  67%|██████▋   | 101/150 [05:36<02:44,  3.36s/entry]\u001B[A"
     ]
    },
    {
     "name": "stdout",
     "output_type": "stream",
     "text": [
      "Request failed with status code: 429\n",
      "Response: {\n",
      "    \"error\": {\n",
      "        \"message\": \"You exceeded your current quota, please check your plan and billing details. For more information on this error, read the docs: https://platform.openai.com/docs/guides/error-codes/api-errors.\",\n",
      "        \"type\": \"insufficient_quota\",\n",
      "        \"param\": null,\n",
      "        \"code\": \"insufficient_quota\"\n",
      "    }\n",
      "}\n",
      "\n",
      "Retry limit exceeded, returning empty result\n",
      "Request failed with status code: 429\n",
      "Response: {\n",
      "    \"error\": {\n",
      "        \"message\": \"You exceeded your current quota, please check your plan and billing details. For more information on this error, read the docs: https://platform.openai.com/docs/guides/error-codes/api-errors.\",\n",
      "        \"type\": \"insufficient_quota\",\n",
      "        \"param\": null,\n",
      "        \"code\": \"insufficient_quota\"\n",
      "    }\n",
      "}\n",
      "\n",
      "Request failed with status code: 429\n",
      "Response: {\n",
      "    \"error\": {\n",
      "        \"message\": \"You exceeded your current quota, please check your plan and billing details. For more information on this error, read the docs: https://platform.openai.com/docs/guides/error-codes/api-errors.\",\n",
      "        \"type\": \"insufficient_quota\",\n",
      "        \"param\": null,\n",
      "        \"code\": \"insufficient_quota\"\n",
      "    }\n",
      "}\n",
      "\n"
     ]
    },
    {
     "name": "stderr",
     "output_type": "stream",
     "text": [
      "\n",
      "Processing mushroom.hi-tst.v1.jsonl:  68%|██████▊   | 102/150 [05:39<02:43,  3.41s/entry]\u001B[A"
     ]
    },
    {
     "name": "stdout",
     "output_type": "stream",
     "text": [
      "Request failed with status code: 429\n",
      "Response: {\n",
      "    \"error\": {\n",
      "        \"message\": \"You exceeded your current quota, please check your plan and billing details. For more information on this error, read the docs: https://platform.openai.com/docs/guides/error-codes/api-errors.\",\n",
      "        \"type\": \"insufficient_quota\",\n",
      "        \"param\": null,\n",
      "        \"code\": \"insufficient_quota\"\n",
      "    }\n",
      "}\n",
      "\n",
      "Retry limit exceeded, returning empty result\n",
      "Request failed with status code: 429\n",
      "Response: {\n",
      "    \"error\": {\n",
      "        \"message\": \"You exceeded your current quota, please check your plan and billing details. For more information on this error, read the docs: https://platform.openai.com/docs/guides/error-codes/api-errors.\",\n",
      "        \"type\": \"insufficient_quota\",\n",
      "        \"param\": null,\n",
      "        \"code\": \"insufficient_quota\"\n",
      "    }\n",
      "}\n",
      "\n",
      "Request failed with status code: 429\n",
      "Response: {\n",
      "    \"error\": {\n",
      "        \"message\": \"You exceeded your current quota, please check your plan and billing details. For more information on this error, read the docs: https://platform.openai.com/docs/guides/error-codes/api-errors.\",\n",
      "        \"type\": \"insufficient_quota\",\n",
      "        \"param\": null,\n",
      "        \"code\": \"insufficient_quota\"\n",
      "    }\n",
      "}\n",
      "\n"
     ]
    },
    {
     "name": "stderr",
     "output_type": "stream",
     "text": [
      "\n",
      "Processing mushroom.hi-tst.v1.jsonl:  69%|██████▊   | 103/150 [05:42<02:37,  3.36s/entry]\u001B[A"
     ]
    },
    {
     "name": "stdout",
     "output_type": "stream",
     "text": [
      "Request failed with status code: 429\n",
      "Response: {\n",
      "    \"error\": {\n",
      "        \"message\": \"You exceeded your current quota, please check your plan and billing details. For more information on this error, read the docs: https://platform.openai.com/docs/guides/error-codes/api-errors.\",\n",
      "        \"type\": \"insufficient_quota\",\n",
      "        \"param\": null,\n",
      "        \"code\": \"insufficient_quota\"\n",
      "    }\n",
      "}\n",
      "\n",
      "Retry limit exceeded, returning empty result\n",
      "Request failed with status code: 429\n",
      "Response: {\n",
      "    \"error\": {\n",
      "        \"message\": \"You exceeded your current quota, please check your plan and billing details. For more information on this error, read the docs: https://platform.openai.com/docs/guides/error-codes/api-errors.\",\n",
      "        \"type\": \"insufficient_quota\",\n",
      "        \"param\": null,\n",
      "        \"code\": \"insufficient_quota\"\n",
      "    }\n",
      "}\n",
      "\n",
      "Request failed with status code: 429\n",
      "Response: {\n",
      "    \"error\": {\n",
      "        \"message\": \"You exceeded your current quota, please check your plan and billing details. For more information on this error, read the docs: https://platform.openai.com/docs/guides/error-codes/api-errors.\",\n",
      "        \"type\": \"insufficient_quota\",\n",
      "        \"param\": null,\n",
      "        \"code\": \"insufficient_quota\"\n",
      "    }\n",
      "}\n",
      "\n"
     ]
    },
    {
     "name": "stderr",
     "output_type": "stream",
     "text": [
      "\n",
      "Processing mushroom.hi-tst.v1.jsonl:  69%|██████▉   | 104/150 [05:46<02:33,  3.33s/entry]\u001B[A"
     ]
    },
    {
     "name": "stdout",
     "output_type": "stream",
     "text": [
      "Request failed with status code: 429\n",
      "Response: {\n",
      "    \"error\": {\n",
      "        \"message\": \"You exceeded your current quota, please check your plan and billing details. For more information on this error, read the docs: https://platform.openai.com/docs/guides/error-codes/api-errors.\",\n",
      "        \"type\": \"insufficient_quota\",\n",
      "        \"param\": null,\n",
      "        \"code\": \"insufficient_quota\"\n",
      "    }\n",
      "}\n",
      "\n",
      "Retry limit exceeded, returning empty result\n",
      "Request failed with status code: 429\n",
      "Response: {\n",
      "    \"error\": {\n",
      "        \"message\": \"You exceeded your current quota, please check your plan and billing details. For more information on this error, read the docs: https://platform.openai.com/docs/guides/error-codes/api-errors.\",\n",
      "        \"type\": \"insufficient_quota\",\n",
      "        \"param\": null,\n",
      "        \"code\": \"insufficient_quota\"\n",
      "    }\n",
      "}\n",
      "\n",
      "Request failed with status code: 429\n",
      "Response: {\n",
      "    \"error\": {\n",
      "        \"message\": \"You exceeded your current quota, please check your plan and billing details. For more information on this error, read the docs: https://platform.openai.com/docs/guides/error-codes/api-errors.\",\n",
      "        \"type\": \"insufficient_quota\",\n",
      "        \"param\": null,\n",
      "        \"code\": \"insufficient_quota\"\n",
      "    }\n",
      "}\n",
      "\n"
     ]
    },
    {
     "name": "stderr",
     "output_type": "stream",
     "text": [
      "\n",
      "Processing mushroom.hi-tst.v1.jsonl:  70%|███████   | 105/150 [05:49<02:29,  3.32s/entry]\u001B[A"
     ]
    },
    {
     "name": "stdout",
     "output_type": "stream",
     "text": [
      "Request failed with status code: 429\n",
      "Response: {\n",
      "    \"error\": {\n",
      "        \"message\": \"You exceeded your current quota, please check your plan and billing details. For more information on this error, read the docs: https://platform.openai.com/docs/guides/error-codes/api-errors.\",\n",
      "        \"type\": \"insufficient_quota\",\n",
      "        \"param\": null,\n",
      "        \"code\": \"insufficient_quota\"\n",
      "    }\n",
      "}\n",
      "\n",
      "Retry limit exceeded, returning empty result\n",
      "Request failed with status code: 429\n",
      "Response: {\n",
      "    \"error\": {\n",
      "        \"message\": \"You exceeded your current quota, please check your plan and billing details. For more information on this error, read the docs: https://platform.openai.com/docs/guides/error-codes/api-errors.\",\n",
      "        \"type\": \"insufficient_quota\",\n",
      "        \"param\": null,\n",
      "        \"code\": \"insufficient_quota\"\n",
      "    }\n",
      "}\n",
      "\n",
      "Request failed with status code: 429\n",
      "Response: {\n",
      "    \"error\": {\n",
      "        \"message\": \"You exceeded your current quota, please check your plan and billing details. For more information on this error, read the docs: https://platform.openai.com/docs/guides/error-codes/api-errors.\",\n",
      "        \"type\": \"insufficient_quota\",\n",
      "        \"param\": null,\n",
      "        \"code\": \"insufficient_quota\"\n",
      "    }\n",
      "}\n",
      "\n"
     ]
    },
    {
     "name": "stderr",
     "output_type": "stream",
     "text": [
      "\n",
      "Processing mushroom.hi-tst.v1.jsonl:  71%|███████   | 106/150 [05:52<02:26,  3.33s/entry]\u001B[A"
     ]
    },
    {
     "name": "stdout",
     "output_type": "stream",
     "text": [
      "Request failed with status code: 429\n",
      "Response: {\n",
      "    \"error\": {\n",
      "        \"message\": \"You exceeded your current quota, please check your plan and billing details. For more information on this error, read the docs: https://platform.openai.com/docs/guides/error-codes/api-errors.\",\n",
      "        \"type\": \"insufficient_quota\",\n",
      "        \"param\": null,\n",
      "        \"code\": \"insufficient_quota\"\n",
      "    }\n",
      "}\n",
      "\n",
      "Retry limit exceeded, returning empty result\n",
      "Request failed with status code: 429\n",
      "Response: {\n",
      "    \"error\": {\n",
      "        \"message\": \"You exceeded your current quota, please check your plan and billing details. For more information on this error, read the docs: https://platform.openai.com/docs/guides/error-codes/api-errors.\",\n",
      "        \"type\": \"insufficient_quota\",\n",
      "        \"param\": null,\n",
      "        \"code\": \"insufficient_quota\"\n",
      "    }\n",
      "}\n",
      "\n",
      "Request failed with status code: 429\n",
      "Response: {\n",
      "    \"error\": {\n",
      "        \"message\": \"You exceeded your current quota, please check your plan and billing details. For more information on this error, read the docs: https://platform.openai.com/docs/guides/error-codes/api-errors.\",\n",
      "        \"type\": \"insufficient_quota\",\n",
      "        \"param\": null,\n",
      "        \"code\": \"insufficient_quota\"\n",
      "    }\n",
      "}\n",
      "\n"
     ]
    },
    {
     "name": "stderr",
     "output_type": "stream",
     "text": [
      "\n",
      "Processing mushroom.hi-tst.v1.jsonl:  71%|███████▏  | 107/150 [05:56<02:23,  3.33s/entry]\u001B[A"
     ]
    },
    {
     "name": "stdout",
     "output_type": "stream",
     "text": [
      "Request failed with status code: 429\n",
      "Response: {\n",
      "    \"error\": {\n",
      "        \"message\": \"You exceeded your current quota, please check your plan and billing details. For more information on this error, read the docs: https://platform.openai.com/docs/guides/error-codes/api-errors.\",\n",
      "        \"type\": \"insufficient_quota\",\n",
      "        \"param\": null,\n",
      "        \"code\": \"insufficient_quota\"\n",
      "    }\n",
      "}\n",
      "\n",
      "Retry limit exceeded, returning empty result\n",
      "Request failed with status code: 429\n",
      "Response: {\n",
      "    \"error\": {\n",
      "        \"message\": \"You exceeded your current quota, please check your plan and billing details. For more information on this error, read the docs: https://platform.openai.com/docs/guides/error-codes/api-errors.\",\n",
      "        \"type\": \"insufficient_quota\",\n",
      "        \"param\": null,\n",
      "        \"code\": \"insufficient_quota\"\n",
      "    }\n",
      "}\n",
      "\n",
      "Request failed with status code: 429\n",
      "Response: {\n",
      "    \"error\": {\n",
      "        \"message\": \"You exceeded your current quota, please check your plan and billing details. For more information on this error, read the docs: https://platform.openai.com/docs/guides/error-codes/api-errors.\",\n",
      "        \"type\": \"insufficient_quota\",\n",
      "        \"param\": null,\n",
      "        \"code\": \"insufficient_quota\"\n",
      "    }\n",
      "}\n",
      "\n"
     ]
    },
    {
     "name": "stderr",
     "output_type": "stream",
     "text": [
      "\n",
      "Processing mushroom.hi-tst.v1.jsonl:  72%|███████▏  | 108/150 [05:59<02:18,  3.31s/entry]\u001B[A"
     ]
    },
    {
     "name": "stdout",
     "output_type": "stream",
     "text": [
      "Request failed with status code: 429\n",
      "Response: {\n",
      "    \"error\": {\n",
      "        \"message\": \"You exceeded your current quota, please check your plan and billing details. For more information on this error, read the docs: https://platform.openai.com/docs/guides/error-codes/api-errors.\",\n",
      "        \"type\": \"insufficient_quota\",\n",
      "        \"param\": null,\n",
      "        \"code\": \"insufficient_quota\"\n",
      "    }\n",
      "}\n",
      "\n",
      "Retry limit exceeded, returning empty result\n",
      "Request failed with status code: 429\n",
      "Response: {\n",
      "    \"error\": {\n",
      "        \"message\": \"You exceeded your current quota, please check your plan and billing details. For more information on this error, read the docs: https://platform.openai.com/docs/guides/error-codes/api-errors.\",\n",
      "        \"type\": \"insufficient_quota\",\n",
      "        \"param\": null,\n",
      "        \"code\": \"insufficient_quota\"\n",
      "    }\n",
      "}\n",
      "\n",
      "Request failed with status code: 429\n",
      "Response: {\n",
      "    \"error\": {\n",
      "        \"message\": \"You exceeded your current quota, please check your plan and billing details. For more information on this error, read the docs: https://platform.openai.com/docs/guides/error-codes/api-errors.\",\n",
      "        \"type\": \"insufficient_quota\",\n",
      "        \"param\": null,\n",
      "        \"code\": \"insufficient_quota\"\n",
      "    }\n",
      "}\n",
      "\n"
     ]
    },
    {
     "name": "stderr",
     "output_type": "stream",
     "text": [
      "\n",
      "Processing mushroom.hi-tst.v1.jsonl:  73%|███████▎  | 109/150 [06:02<02:16,  3.33s/entry]\u001B[A"
     ]
    },
    {
     "name": "stdout",
     "output_type": "stream",
     "text": [
      "Request failed with status code: 429\n",
      "Response: {\n",
      "    \"error\": {\n",
      "        \"message\": \"You exceeded your current quota, please check your plan and billing details. For more information on this error, read the docs: https://platform.openai.com/docs/guides/error-codes/api-errors.\",\n",
      "        \"type\": \"insufficient_quota\",\n",
      "        \"param\": null,\n",
      "        \"code\": \"insufficient_quota\"\n",
      "    }\n",
      "}\n",
      "\n",
      "Retry limit exceeded, returning empty result\n",
      "Request failed with status code: 429\n",
      "Response: {\n",
      "    \"error\": {\n",
      "        \"message\": \"You exceeded your current quota, please check your plan and billing details. For more information on this error, read the docs: https://platform.openai.com/docs/guides/error-codes/api-errors.\",\n",
      "        \"type\": \"insufficient_quota\",\n",
      "        \"param\": null,\n",
      "        \"code\": \"insufficient_quota\"\n",
      "    }\n",
      "}\n",
      "\n",
      "Request failed with status code: 429\n",
      "Response: {\n",
      "    \"error\": {\n",
      "        \"message\": \"You exceeded your current quota, please check your plan and billing details. For more information on this error, read the docs: https://platform.openai.com/docs/guides/error-codes/api-errors.\",\n",
      "        \"type\": \"insufficient_quota\",\n",
      "        \"param\": null,\n",
      "        \"code\": \"insufficient_quota\"\n",
      "    }\n",
      "}\n",
      "\n"
     ]
    },
    {
     "name": "stderr",
     "output_type": "stream",
     "text": [
      "\n",
      "Processing mushroom.hi-tst.v1.jsonl:  73%|███████▎  | 110/150 [06:06<02:13,  3.34s/entry]\u001B[A"
     ]
    },
    {
     "name": "stdout",
     "output_type": "stream",
     "text": [
      "Request failed with status code: 429\n",
      "Response: {\n",
      "    \"error\": {\n",
      "        \"message\": \"You exceeded your current quota, please check your plan and billing details. For more information on this error, read the docs: https://platform.openai.com/docs/guides/error-codes/api-errors.\",\n",
      "        \"type\": \"insufficient_quota\",\n",
      "        \"param\": null,\n",
      "        \"code\": \"insufficient_quota\"\n",
      "    }\n",
      "}\n",
      "\n",
      "Retry limit exceeded, returning empty result\n",
      "Request failed with status code: 429\n",
      "Response: {\n",
      "    \"error\": {\n",
      "        \"message\": \"You exceeded your current quota, please check your plan and billing details. For more information on this error, read the docs: https://platform.openai.com/docs/guides/error-codes/api-errors.\",\n",
      "        \"type\": \"insufficient_quota\",\n",
      "        \"param\": null,\n",
      "        \"code\": \"insufficient_quota\"\n",
      "    }\n",
      "}\n",
      "\n",
      "Request failed with status code: 429\n",
      "Response: {\n",
      "    \"error\": {\n",
      "        \"message\": \"You exceeded your current quota, please check your plan and billing details. For more information on this error, read the docs: https://platform.openai.com/docs/guides/error-codes/api-errors.\",\n",
      "        \"type\": \"insufficient_quota\",\n",
      "        \"param\": null,\n",
      "        \"code\": \"insufficient_quota\"\n",
      "    }\n",
      "}\n",
      "\n"
     ]
    },
    {
     "name": "stderr",
     "output_type": "stream",
     "text": [
      "\n",
      "Processing mushroom.hi-tst.v1.jsonl:  74%|███████▍  | 111/150 [06:09<02:10,  3.35s/entry]\u001B[A"
     ]
    },
    {
     "name": "stdout",
     "output_type": "stream",
     "text": [
      "Request failed with status code: 429\n",
      "Response: {\n",
      "    \"error\": {\n",
      "        \"message\": \"You exceeded your current quota, please check your plan and billing details. For more information on this error, read the docs: https://platform.openai.com/docs/guides/error-codes/api-errors.\",\n",
      "        \"type\": \"insufficient_quota\",\n",
      "        \"param\": null,\n",
      "        \"code\": \"insufficient_quota\"\n",
      "    }\n",
      "}\n",
      "\n",
      "Retry limit exceeded, returning empty result\n",
      "Request failed with status code: 429\n",
      "Response: {\n",
      "    \"error\": {\n",
      "        \"message\": \"You exceeded your current quota, please check your plan and billing details. For more information on this error, read the docs: https://platform.openai.com/docs/guides/error-codes/api-errors.\",\n",
      "        \"type\": \"insufficient_quota\",\n",
      "        \"param\": null,\n",
      "        \"code\": \"insufficient_quota\"\n",
      "    }\n",
      "}\n",
      "\n",
      "Request failed with status code: 429\n",
      "Response: {\n",
      "    \"error\": {\n",
      "        \"message\": \"You exceeded your current quota, please check your plan and billing details. For more information on this error, read the docs: https://platform.openai.com/docs/guides/error-codes/api-errors.\",\n",
      "        \"type\": \"insufficient_quota\",\n",
      "        \"param\": null,\n",
      "        \"code\": \"insufficient_quota\"\n",
      "    }\n",
      "}\n",
      "\n"
     ]
    },
    {
     "name": "stderr",
     "output_type": "stream",
     "text": [
      "\n",
      "Processing mushroom.hi-tst.v1.jsonl:  75%|███████▍  | 112/150 [06:12<02:06,  3.33s/entry]\u001B[A"
     ]
    },
    {
     "name": "stdout",
     "output_type": "stream",
     "text": [
      "Request failed with status code: 429\n",
      "Response: {\n",
      "    \"error\": {\n",
      "        \"message\": \"You exceeded your current quota, please check your plan and billing details. For more information on this error, read the docs: https://platform.openai.com/docs/guides/error-codes/api-errors.\",\n",
      "        \"type\": \"insufficient_quota\",\n",
      "        \"param\": null,\n",
      "        \"code\": \"insufficient_quota\"\n",
      "    }\n",
      "}\n",
      "\n",
      "Retry limit exceeded, returning empty result\n",
      "Request failed with status code: 429\n",
      "Response: {\n",
      "    \"error\": {\n",
      "        \"message\": \"You exceeded your current quota, please check your plan and billing details. For more information on this error, read the docs: https://platform.openai.com/docs/guides/error-codes/api-errors.\",\n",
      "        \"type\": \"insufficient_quota\",\n",
      "        \"param\": null,\n",
      "        \"code\": \"insufficient_quota\"\n",
      "    }\n",
      "}\n",
      "\n",
      "Request failed with status code: 429\n",
      "Response: {\n",
      "    \"error\": {\n",
      "        \"message\": \"You exceeded your current quota, please check your plan and billing details. For more information on this error, read the docs: https://platform.openai.com/docs/guides/error-codes/api-errors.\",\n",
      "        \"type\": \"insufficient_quota\",\n",
      "        \"param\": null,\n",
      "        \"code\": \"insufficient_quota\"\n",
      "    }\n",
      "}\n",
      "\n"
     ]
    },
    {
     "name": "stderr",
     "output_type": "stream",
     "text": [
      "\n",
      "Processing mushroom.hi-tst.v1.jsonl:  75%|███████▌  | 113/150 [06:16<02:02,  3.30s/entry]\u001B[A"
     ]
    },
    {
     "name": "stdout",
     "output_type": "stream",
     "text": [
      "Request failed with status code: 429\n",
      "Response: {\n",
      "    \"error\": {\n",
      "        \"message\": \"You exceeded your current quota, please check your plan and billing details. For more information on this error, read the docs: https://platform.openai.com/docs/guides/error-codes/api-errors.\",\n",
      "        \"type\": \"insufficient_quota\",\n",
      "        \"param\": null,\n",
      "        \"code\": \"insufficient_quota\"\n",
      "    }\n",
      "}\n",
      "\n",
      "Retry limit exceeded, returning empty result\n",
      "Request failed with status code: 429\n",
      "Response: {\n",
      "    \"error\": {\n",
      "        \"message\": \"You exceeded your current quota, please check your plan and billing details. For more information on this error, read the docs: https://platform.openai.com/docs/guides/error-codes/api-errors.\",\n",
      "        \"type\": \"insufficient_quota\",\n",
      "        \"param\": null,\n",
      "        \"code\": \"insufficient_quota\"\n",
      "    }\n",
      "}\n",
      "\n",
      "Request failed with status code: 429\n",
      "Response: {\n",
      "    \"error\": {\n",
      "        \"message\": \"You exceeded your current quota, please check your plan and billing details. For more information on this error, read the docs: https://platform.openai.com/docs/guides/error-codes/api-errors.\",\n",
      "        \"type\": \"insufficient_quota\",\n",
      "        \"param\": null,\n",
      "        \"code\": \"insufficient_quota\"\n",
      "    }\n",
      "}\n",
      "\n"
     ]
    },
    {
     "name": "stderr",
     "output_type": "stream",
     "text": [
      "\n",
      "Processing mushroom.hi-tst.v1.jsonl:  76%|███████▌  | 114/150 [06:19<01:57,  3.28s/entry]\u001B[A"
     ]
    },
    {
     "name": "stdout",
     "output_type": "stream",
     "text": [
      "Request failed with status code: 429\n",
      "Response: {\n",
      "    \"error\": {\n",
      "        \"message\": \"You exceeded your current quota, please check your plan and billing details. For more information on this error, read the docs: https://platform.openai.com/docs/guides/error-codes/api-errors.\",\n",
      "        \"type\": \"insufficient_quota\",\n",
      "        \"param\": null,\n",
      "        \"code\": \"insufficient_quota\"\n",
      "    }\n",
      "}\n",
      "\n",
      "Retry limit exceeded, returning empty result\n",
      "Request failed with status code: 429\n",
      "Response: {\n",
      "    \"error\": {\n",
      "        \"message\": \"You exceeded your current quota, please check your plan and billing details. For more information on this error, read the docs: https://platform.openai.com/docs/guides/error-codes/api-errors.\",\n",
      "        \"type\": \"insufficient_quota\",\n",
      "        \"param\": null,\n",
      "        \"code\": \"insufficient_quota\"\n",
      "    }\n",
      "}\n",
      "\n",
      "Request failed with status code: 429\n",
      "Response: {\n",
      "    \"error\": {\n",
      "        \"message\": \"You exceeded your current quota, please check your plan and billing details. For more information on this error, read the docs: https://platform.openai.com/docs/guides/error-codes/api-errors.\",\n",
      "        \"type\": \"insufficient_quota\",\n",
      "        \"param\": null,\n",
      "        \"code\": \"insufficient_quota\"\n",
      "    }\n",
      "}\n",
      "\n"
     ]
    },
    {
     "name": "stderr",
     "output_type": "stream",
     "text": [
      "\n",
      "Processing mushroom.hi-tst.v1.jsonl:  77%|███████▋  | 115/150 [06:22<01:54,  3.27s/entry]\u001B[A"
     ]
    },
    {
     "name": "stdout",
     "output_type": "stream",
     "text": [
      "Request failed with status code: 429\n",
      "Response: {\n",
      "    \"error\": {\n",
      "        \"message\": \"You exceeded your current quota, please check your plan and billing details. For more information on this error, read the docs: https://platform.openai.com/docs/guides/error-codes/api-errors.\",\n",
      "        \"type\": \"insufficient_quota\",\n",
      "        \"param\": null,\n",
      "        \"code\": \"insufficient_quota\"\n",
      "    }\n",
      "}\n",
      "\n",
      "Retry limit exceeded, returning empty result\n",
      "Request failed with status code: 429\n",
      "Response: {\n",
      "    \"error\": {\n",
      "        \"message\": \"You exceeded your current quota, please check your plan and billing details. For more information on this error, read the docs: https://platform.openai.com/docs/guides/error-codes/api-errors.\",\n",
      "        \"type\": \"insufficient_quota\",\n",
      "        \"param\": null,\n",
      "        \"code\": \"insufficient_quota\"\n",
      "    }\n",
      "}\n",
      "\n",
      "Request failed with status code: 429\n",
      "Response: {\n",
      "    \"error\": {\n",
      "        \"message\": \"You exceeded your current quota, please check your plan and billing details. For more information on this error, read the docs: https://platform.openai.com/docs/guides/error-codes/api-errors.\",\n",
      "        \"type\": \"insufficient_quota\",\n",
      "        \"param\": null,\n",
      "        \"code\": \"insufficient_quota\"\n",
      "    }\n",
      "}\n",
      "\n"
     ]
    },
    {
     "name": "stderr",
     "output_type": "stream",
     "text": [
      "\n",
      "Processing mushroom.hi-tst.v1.jsonl:  77%|███████▋  | 116/150 [06:25<01:51,  3.28s/entry]\u001B[A"
     ]
    },
    {
     "name": "stdout",
     "output_type": "stream",
     "text": [
      "Request failed with status code: 429\n",
      "Response: {\n",
      "    \"error\": {\n",
      "        \"message\": \"You exceeded your current quota, please check your plan and billing details. For more information on this error, read the docs: https://platform.openai.com/docs/guides/error-codes/api-errors.\",\n",
      "        \"type\": \"insufficient_quota\",\n",
      "        \"param\": null,\n",
      "        \"code\": \"insufficient_quota\"\n",
      "    }\n",
      "}\n",
      "\n",
      "Retry limit exceeded, returning empty result\n",
      "Request failed with status code: 429\n",
      "Response: {\n",
      "    \"error\": {\n",
      "        \"message\": \"You exceeded your current quota, please check your plan and billing details. For more information on this error, read the docs: https://platform.openai.com/docs/guides/error-codes/api-errors.\",\n",
      "        \"type\": \"insufficient_quota\",\n",
      "        \"param\": null,\n",
      "        \"code\": \"insufficient_quota\"\n",
      "    }\n",
      "}\n",
      "\n",
      "Request failed with status code: 429\n",
      "Response: {\n",
      "    \"error\": {\n",
      "        \"message\": \"You exceeded your current quota, please check your plan and billing details. For more information on this error, read the docs: https://platform.openai.com/docs/guides/error-codes/api-errors.\",\n",
      "        \"type\": \"insufficient_quota\",\n",
      "        \"param\": null,\n",
      "        \"code\": \"insufficient_quota\"\n",
      "    }\n",
      "}\n",
      "\n"
     ]
    },
    {
     "name": "stderr",
     "output_type": "stream",
     "text": [
      "\n",
      "Processing mushroom.hi-tst.v1.jsonl:  78%|███████▊  | 117/150 [06:29<01:47,  3.26s/entry]\u001B[A"
     ]
    },
    {
     "name": "stdout",
     "output_type": "stream",
     "text": [
      "Request failed with status code: 429\n",
      "Response: {\n",
      "    \"error\": {\n",
      "        \"message\": \"You exceeded your current quota, please check your plan and billing details. For more information on this error, read the docs: https://platform.openai.com/docs/guides/error-codes/api-errors.\",\n",
      "        \"type\": \"insufficient_quota\",\n",
      "        \"param\": null,\n",
      "        \"code\": \"insufficient_quota\"\n",
      "    }\n",
      "}\n",
      "\n",
      "Retry limit exceeded, returning empty result\n",
      "Request failed with status code: 429\n",
      "Response: {\n",
      "    \"error\": {\n",
      "        \"message\": \"You exceeded your current quota, please check your plan and billing details. For more information on this error, read the docs: https://platform.openai.com/docs/guides/error-codes/api-errors.\",\n",
      "        \"type\": \"insufficient_quota\",\n",
      "        \"param\": null,\n",
      "        \"code\": \"insufficient_quota\"\n",
      "    }\n",
      "}\n",
      "\n",
      "Request failed with status code: 429\n",
      "Response: {\n",
      "    \"error\": {\n",
      "        \"message\": \"You exceeded your current quota, please check your plan and billing details. For more information on this error, read the docs: https://platform.openai.com/docs/guides/error-codes/api-errors.\",\n",
      "        \"type\": \"insufficient_quota\",\n",
      "        \"param\": null,\n",
      "        \"code\": \"insufficient_quota\"\n",
      "    }\n",
      "}\n",
      "\n"
     ]
    },
    {
     "name": "stderr",
     "output_type": "stream",
     "text": [
      "\n",
      "Processing mushroom.hi-tst.v1.jsonl:  79%|███████▊  | 118/150 [06:32<01:44,  3.27s/entry]\u001B[A"
     ]
    },
    {
     "name": "stdout",
     "output_type": "stream",
     "text": [
      "Request failed with status code: 429\n",
      "Response: {\n",
      "    \"error\": {\n",
      "        \"message\": \"You exceeded your current quota, please check your plan and billing details. For more information on this error, read the docs: https://platform.openai.com/docs/guides/error-codes/api-errors.\",\n",
      "        \"type\": \"insufficient_quota\",\n",
      "        \"param\": null,\n",
      "        \"code\": \"insufficient_quota\"\n",
      "    }\n",
      "}\n",
      "\n",
      "Retry limit exceeded, returning empty result\n",
      "Request failed with status code: 429\n",
      "Response: {\n",
      "    \"error\": {\n",
      "        \"message\": \"You exceeded your current quota, please check your plan and billing details. For more information on this error, read the docs: https://platform.openai.com/docs/guides/error-codes/api-errors.\",\n",
      "        \"type\": \"insufficient_quota\",\n",
      "        \"param\": null,\n",
      "        \"code\": \"insufficient_quota\"\n",
      "    }\n",
      "}\n",
      "\n",
      "Request failed with status code: 429\n",
      "Response: {\n",
      "    \"error\": {\n",
      "        \"message\": \"You exceeded your current quota, please check your plan and billing details. For more information on this error, read the docs: https://platform.openai.com/docs/guides/error-codes/api-errors.\",\n",
      "        \"type\": \"insufficient_quota\",\n",
      "        \"param\": null,\n",
      "        \"code\": \"insufficient_quota\"\n",
      "    }\n",
      "}\n",
      "\n"
     ]
    },
    {
     "name": "stderr",
     "output_type": "stream",
     "text": [
      "\n",
      "Processing mushroom.hi-tst.v1.jsonl:  79%|███████▉  | 119/150 [06:35<01:41,  3.28s/entry]\u001B[A"
     ]
    },
    {
     "name": "stdout",
     "output_type": "stream",
     "text": [
      "Request failed with status code: 429\n",
      "Response: {\n",
      "    \"error\": {\n",
      "        \"message\": \"You exceeded your current quota, please check your plan and billing details. For more information on this error, read the docs: https://platform.openai.com/docs/guides/error-codes/api-errors.\",\n",
      "        \"type\": \"insufficient_quota\",\n",
      "        \"param\": null,\n",
      "        \"code\": \"insufficient_quota\"\n",
      "    }\n",
      "}\n",
      "\n",
      "Retry limit exceeded, returning empty result\n",
      "Request failed with status code: 429\n",
      "Response: {\n",
      "    \"error\": {\n",
      "        \"message\": \"You exceeded your current quota, please check your plan and billing details. For more information on this error, read the docs: https://platform.openai.com/docs/guides/error-codes/api-errors.\",\n",
      "        \"type\": \"insufficient_quota\",\n",
      "        \"param\": null,\n",
      "        \"code\": \"insufficient_quota\"\n",
      "    }\n",
      "}\n",
      "\n",
      "Request failed with status code: 429\n",
      "Response: {\n",
      "    \"error\": {\n",
      "        \"message\": \"You exceeded your current quota, please check your plan and billing details. For more information on this error, read the docs: https://platform.openai.com/docs/guides/error-codes/api-errors.\",\n",
      "        \"type\": \"insufficient_quota\",\n",
      "        \"param\": null,\n",
      "        \"code\": \"insufficient_quota\"\n",
      "    }\n",
      "}\n",
      "\n"
     ]
    },
    {
     "name": "stderr",
     "output_type": "stream",
     "text": [
      "\n",
      "Processing mushroom.hi-tst.v1.jsonl:  80%|████████  | 120/150 [06:39<01:38,  3.30s/entry]\u001B[A"
     ]
    },
    {
     "name": "stdout",
     "output_type": "stream",
     "text": [
      "Request failed with status code: 429\n",
      "Response: {\n",
      "    \"error\": {\n",
      "        \"message\": \"You exceeded your current quota, please check your plan and billing details. For more information on this error, read the docs: https://platform.openai.com/docs/guides/error-codes/api-errors.\",\n",
      "        \"type\": \"insufficient_quota\",\n",
      "        \"param\": null,\n",
      "        \"code\": \"insufficient_quota\"\n",
      "    }\n",
      "}\n",
      "\n",
      "Retry limit exceeded, returning empty result\n",
      "Request failed with status code: 429\n",
      "Response: {\n",
      "    \"error\": {\n",
      "        \"message\": \"You exceeded your current quota, please check your plan and billing details. For more information on this error, read the docs: https://platform.openai.com/docs/guides/error-codes/api-errors.\",\n",
      "        \"type\": \"insufficient_quota\",\n",
      "        \"param\": null,\n",
      "        \"code\": \"insufficient_quota\"\n",
      "    }\n",
      "}\n",
      "\n",
      "Request failed with status code: 429\n",
      "Response: {\n",
      "    \"error\": {\n",
      "        \"message\": \"You exceeded your current quota, please check your plan and billing details. For more information on this error, read the docs: https://platform.openai.com/docs/guides/error-codes/api-errors.\",\n",
      "        \"type\": \"insufficient_quota\",\n",
      "        \"param\": null,\n",
      "        \"code\": \"insufficient_quota\"\n",
      "    }\n",
      "}\n",
      "\n"
     ]
    },
    {
     "name": "stderr",
     "output_type": "stream",
     "text": [
      "\n",
      "Processing mushroom.hi-tst.v1.jsonl:  81%|████████  | 121/150 [06:42<01:35,  3.28s/entry]\u001B[A"
     ]
    },
    {
     "name": "stdout",
     "output_type": "stream",
     "text": [
      "Request failed with status code: 429\n",
      "Response: {\n",
      "    \"error\": {\n",
      "        \"message\": \"You exceeded your current quota, please check your plan and billing details. For more information on this error, read the docs: https://platform.openai.com/docs/guides/error-codes/api-errors.\",\n",
      "        \"type\": \"insufficient_quota\",\n",
      "        \"param\": null,\n",
      "        \"code\": \"insufficient_quota\"\n",
      "    }\n",
      "}\n",
      "\n",
      "Retry limit exceeded, returning empty result\n",
      "Request failed with status code: 429\n",
      "Response: {\n",
      "    \"error\": {\n",
      "        \"message\": \"You exceeded your current quota, please check your plan and billing details. For more information on this error, read the docs: https://platform.openai.com/docs/guides/error-codes/api-errors.\",\n",
      "        \"type\": \"insufficient_quota\",\n",
      "        \"param\": null,\n",
      "        \"code\": \"insufficient_quota\"\n",
      "    }\n",
      "}\n",
      "\n",
      "Request failed with status code: 429\n",
      "Response: {\n",
      "    \"error\": {\n",
      "        \"message\": \"You exceeded your current quota, please check your plan and billing details. For more information on this error, read the docs: https://platform.openai.com/docs/guides/error-codes/api-errors.\",\n",
      "        \"type\": \"insufficient_quota\",\n",
      "        \"param\": null,\n",
      "        \"code\": \"insufficient_quota\"\n",
      "    }\n",
      "}\n",
      "\n"
     ]
    },
    {
     "name": "stderr",
     "output_type": "stream",
     "text": [
      "\n",
      "Processing mushroom.hi-tst.v1.jsonl:  81%|████████▏ | 122/150 [06:45<01:32,  3.30s/entry]\u001B[A"
     ]
    },
    {
     "name": "stdout",
     "output_type": "stream",
     "text": [
      "Request failed with status code: 429\n",
      "Response: {\n",
      "    \"error\": {\n",
      "        \"message\": \"You exceeded your current quota, please check your plan and billing details. For more information on this error, read the docs: https://platform.openai.com/docs/guides/error-codes/api-errors.\",\n",
      "        \"type\": \"insufficient_quota\",\n",
      "        \"param\": null,\n",
      "        \"code\": \"insufficient_quota\"\n",
      "    }\n",
      "}\n",
      "\n",
      "Retry limit exceeded, returning empty result\n",
      "Request failed with status code: 429\n",
      "Response: {\n",
      "    \"error\": {\n",
      "        \"message\": \"You exceeded your current quota, please check your plan and billing details. For more information on this error, read the docs: https://platform.openai.com/docs/guides/error-codes/api-errors.\",\n",
      "        \"type\": \"insufficient_quota\",\n",
      "        \"param\": null,\n",
      "        \"code\": \"insufficient_quota\"\n",
      "    }\n",
      "}\n",
      "\n",
      "Request failed with status code: 429\n",
      "Response: {\n",
      "    \"error\": {\n",
      "        \"message\": \"You exceeded your current quota, please check your plan and billing details. For more information on this error, read the docs: https://platform.openai.com/docs/guides/error-codes/api-errors.\",\n",
      "        \"type\": \"insufficient_quota\",\n",
      "        \"param\": null,\n",
      "        \"code\": \"insufficient_quota\"\n",
      "    }\n",
      "}\n",
      "\n"
     ]
    },
    {
     "name": "stderr",
     "output_type": "stream",
     "text": [
      "\n",
      "Processing mushroom.hi-tst.v1.jsonl:  82%|████████▏ | 123/150 [06:49<01:29,  3.33s/entry]\u001B[A"
     ]
    },
    {
     "name": "stdout",
     "output_type": "stream",
     "text": [
      "Request failed with status code: 429\n",
      "Response: {\n",
      "    \"error\": {\n",
      "        \"message\": \"You exceeded your current quota, please check your plan and billing details. For more information on this error, read the docs: https://platform.openai.com/docs/guides/error-codes/api-errors.\",\n",
      "        \"type\": \"insufficient_quota\",\n",
      "        \"param\": null,\n",
      "        \"code\": \"insufficient_quota\"\n",
      "    }\n",
      "}\n",
      "\n",
      "Retry limit exceeded, returning empty result\n",
      "Request failed with status code: 429\n",
      "Response: {\n",
      "    \"error\": {\n",
      "        \"message\": \"You exceeded your current quota, please check your plan and billing details. For more information on this error, read the docs: https://platform.openai.com/docs/guides/error-codes/api-errors.\",\n",
      "        \"type\": \"insufficient_quota\",\n",
      "        \"param\": null,\n",
      "        \"code\": \"insufficient_quota\"\n",
      "    }\n",
      "}\n",
      "\n",
      "Request failed with status code: 429\n",
      "Response: {\n",
      "    \"error\": {\n",
      "        \"message\": \"You exceeded your current quota, please check your plan and billing details. For more information on this error, read the docs: https://platform.openai.com/docs/guides/error-codes/api-errors.\",\n",
      "        \"type\": \"insufficient_quota\",\n",
      "        \"param\": null,\n",
      "        \"code\": \"insufficient_quota\"\n",
      "    }\n",
      "}\n",
      "\n"
     ]
    },
    {
     "name": "stderr",
     "output_type": "stream",
     "text": [
      "\n",
      "Processing mushroom.hi-tst.v1.jsonl:  83%|████████▎ | 124/150 [06:52<01:25,  3.29s/entry]\u001B[A"
     ]
    },
    {
     "name": "stdout",
     "output_type": "stream",
     "text": [
      "Request failed with status code: 429\n",
      "Response: {\n",
      "    \"error\": {\n",
      "        \"message\": \"You exceeded your current quota, please check your plan and billing details. For more information on this error, read the docs: https://platform.openai.com/docs/guides/error-codes/api-errors.\",\n",
      "        \"type\": \"insufficient_quota\",\n",
      "        \"param\": null,\n",
      "        \"code\": \"insufficient_quota\"\n",
      "    }\n",
      "}\n",
      "\n",
      "Retry limit exceeded, returning empty result\n",
      "Request failed with status code: 429\n",
      "Response: {\n",
      "    \"error\": {\n",
      "        \"message\": \"You exceeded your current quota, please check your plan and billing details. For more information on this error, read the docs: https://platform.openai.com/docs/guides/error-codes/api-errors.\",\n",
      "        \"type\": \"insufficient_quota\",\n",
      "        \"param\": null,\n",
      "        \"code\": \"insufficient_quota\"\n",
      "    }\n",
      "}\n",
      "\n",
      "Request failed with status code: 429\n",
      "Response: {\n",
      "    \"error\": {\n",
      "        \"message\": \"You exceeded your current quota, please check your plan and billing details. For more information on this error, read the docs: https://platform.openai.com/docs/guides/error-codes/api-errors.\",\n",
      "        \"type\": \"insufficient_quota\",\n",
      "        \"param\": null,\n",
      "        \"code\": \"insufficient_quota\"\n",
      "    }\n",
      "}\n",
      "\n"
     ]
    },
    {
     "name": "stderr",
     "output_type": "stream",
     "text": [
      "\n",
      "Processing mushroom.hi-tst.v1.jsonl:  83%|████████▎ | 125/150 [06:55<01:22,  3.29s/entry]\u001B[A"
     ]
    },
    {
     "name": "stdout",
     "output_type": "stream",
     "text": [
      "Request failed with status code: 429\n",
      "Response: {\n",
      "    \"error\": {\n",
      "        \"message\": \"You exceeded your current quota, please check your plan and billing details. For more information on this error, read the docs: https://platform.openai.com/docs/guides/error-codes/api-errors.\",\n",
      "        \"type\": \"insufficient_quota\",\n",
      "        \"param\": null,\n",
      "        \"code\": \"insufficient_quota\"\n",
      "    }\n",
      "}\n",
      "\n",
      "Retry limit exceeded, returning empty result\n",
      "Request failed with status code: 429\n",
      "Response: {\n",
      "    \"error\": {\n",
      "        \"message\": \"You exceeded your current quota, please check your plan and billing details. For more information on this error, read the docs: https://platform.openai.com/docs/guides/error-codes/api-errors.\",\n",
      "        \"type\": \"insufficient_quota\",\n",
      "        \"param\": null,\n",
      "        \"code\": \"insufficient_quota\"\n",
      "    }\n",
      "}\n",
      "\n",
      "Request failed with status code: 429\n",
      "Response: {\n",
      "    \"error\": {\n",
      "        \"message\": \"You exceeded your current quota, please check your plan and billing details. For more information on this error, read the docs: https://platform.openai.com/docs/guides/error-codes/api-errors.\",\n",
      "        \"type\": \"insufficient_quota\",\n",
      "        \"param\": null,\n",
      "        \"code\": \"insufficient_quota\"\n",
      "    }\n",
      "}\n",
      "\n"
     ]
    },
    {
     "name": "stderr",
     "output_type": "stream",
     "text": [
      "\n",
      "Processing mushroom.hi-tst.v1.jsonl:  84%|████████▍ | 126/150 [06:58<01:19,  3.29s/entry]\u001B[A"
     ]
    },
    {
     "name": "stdout",
     "output_type": "stream",
     "text": [
      "Request failed with status code: 429\n",
      "Response: {\n",
      "    \"error\": {\n",
      "        \"message\": \"You exceeded your current quota, please check your plan and billing details. For more information on this error, read the docs: https://platform.openai.com/docs/guides/error-codes/api-errors.\",\n",
      "        \"type\": \"insufficient_quota\",\n",
      "        \"param\": null,\n",
      "        \"code\": \"insufficient_quota\"\n",
      "    }\n",
      "}\n",
      "\n",
      "Retry limit exceeded, returning empty result\n",
      "Request failed with status code: 429\n",
      "Response: {\n",
      "    \"error\": {\n",
      "        \"message\": \"You exceeded your current quota, please check your plan and billing details. For more information on this error, read the docs: https://platform.openai.com/docs/guides/error-codes/api-errors.\",\n",
      "        \"type\": \"insufficient_quota\",\n",
      "        \"param\": null,\n",
      "        \"code\": \"insufficient_quota\"\n",
      "    }\n",
      "}\n",
      "\n",
      "Request failed with status code: 429\n",
      "Response: {\n",
      "    \"error\": {\n",
      "        \"message\": \"You exceeded your current quota, please check your plan and billing details. For more information on this error, read the docs: https://platform.openai.com/docs/guides/error-codes/api-errors.\",\n",
      "        \"type\": \"insufficient_quota\",\n",
      "        \"param\": null,\n",
      "        \"code\": \"insufficient_quota\"\n",
      "    }\n",
      "}\n",
      "\n"
     ]
    },
    {
     "name": "stderr",
     "output_type": "stream",
     "text": [
      "\n",
      "Processing mushroom.hi-tst.v1.jsonl:  85%|████████▍ | 127/150 [07:02<01:16,  3.31s/entry]\u001B[A"
     ]
    },
    {
     "name": "stdout",
     "output_type": "stream",
     "text": [
      "Request failed with status code: 429\n",
      "Response: {\n",
      "    \"error\": {\n",
      "        \"message\": \"You exceeded your current quota, please check your plan and billing details. For more information on this error, read the docs: https://platform.openai.com/docs/guides/error-codes/api-errors.\",\n",
      "        \"type\": \"insufficient_quota\",\n",
      "        \"param\": null,\n",
      "        \"code\": \"insufficient_quota\"\n",
      "    }\n",
      "}\n",
      "\n",
      "Retry limit exceeded, returning empty result\n",
      "Request failed with status code: 429\n",
      "Response: {\n",
      "    \"error\": {\n",
      "        \"message\": \"You exceeded your current quota, please check your plan and billing details. For more information on this error, read the docs: https://platform.openai.com/docs/guides/error-codes/api-errors.\",\n",
      "        \"type\": \"insufficient_quota\",\n",
      "        \"param\": null,\n",
      "        \"code\": \"insufficient_quota\"\n",
      "    }\n",
      "}\n",
      "\n",
      "Request failed with status code: 429\n",
      "Response: {\n",
      "    \"error\": {\n",
      "        \"message\": \"You exceeded your current quota, please check your plan and billing details. For more information on this error, read the docs: https://platform.openai.com/docs/guides/error-codes/api-errors.\",\n",
      "        \"type\": \"insufficient_quota\",\n",
      "        \"param\": null,\n",
      "        \"code\": \"insufficient_quota\"\n",
      "    }\n",
      "}\n",
      "\n"
     ]
    },
    {
     "name": "stderr",
     "output_type": "stream",
     "text": [
      "\n",
      "Processing mushroom.hi-tst.v1.jsonl:  85%|████████▌ | 128/150 [07:05<01:13,  3.35s/entry]\u001B[A"
     ]
    },
    {
     "name": "stdout",
     "output_type": "stream",
     "text": [
      "Request failed with status code: 429\n",
      "Response: {\n",
      "    \"error\": {\n",
      "        \"message\": \"You exceeded your current quota, please check your plan and billing details. For more information on this error, read the docs: https://platform.openai.com/docs/guides/error-codes/api-errors.\",\n",
      "        \"type\": \"insufficient_quota\",\n",
      "        \"param\": null,\n",
      "        \"code\": \"insufficient_quota\"\n",
      "    }\n",
      "}\n",
      "\n",
      "Retry limit exceeded, returning empty result\n",
      "Request failed with status code: 429\n",
      "Response: {\n",
      "    \"error\": {\n",
      "        \"message\": \"You exceeded your current quota, please check your plan and billing details. For more information on this error, read the docs: https://platform.openai.com/docs/guides/error-codes/api-errors.\",\n",
      "        \"type\": \"insufficient_quota\",\n",
      "        \"param\": null,\n",
      "        \"code\": \"insufficient_quota\"\n",
      "    }\n",
      "}\n",
      "\n",
      "Request failed with status code: 429\n",
      "Response: {\n",
      "    \"error\": {\n",
      "        \"message\": \"You exceeded your current quota, please check your plan and billing details. For more information on this error, read the docs: https://platform.openai.com/docs/guides/error-codes/api-errors.\",\n",
      "        \"type\": \"insufficient_quota\",\n",
      "        \"param\": null,\n",
      "        \"code\": \"insufficient_quota\"\n",
      "    }\n",
      "}\n",
      "\n"
     ]
    },
    {
     "name": "stderr",
     "output_type": "stream",
     "text": [
      "\n",
      "Processing mushroom.hi-tst.v1.jsonl:  86%|████████▌ | 129/150 [07:08<01:09,  3.31s/entry]\u001B[A"
     ]
    },
    {
     "name": "stdout",
     "output_type": "stream",
     "text": [
      "Request failed with status code: 429\n",
      "Response: {\n",
      "    \"error\": {\n",
      "        \"message\": \"You exceeded your current quota, please check your plan and billing details. For more information on this error, read the docs: https://platform.openai.com/docs/guides/error-codes/api-errors.\",\n",
      "        \"type\": \"insufficient_quota\",\n",
      "        \"param\": null,\n",
      "        \"code\": \"insufficient_quota\"\n",
      "    }\n",
      "}\n",
      "\n",
      "Retry limit exceeded, returning empty result\n",
      "Request failed with status code: 429\n",
      "Response: {\n",
      "    \"error\": {\n",
      "        \"message\": \"You exceeded your current quota, please check your plan and billing details. For more information on this error, read the docs: https://platform.openai.com/docs/guides/error-codes/api-errors.\",\n",
      "        \"type\": \"insufficient_quota\",\n",
      "        \"param\": null,\n",
      "        \"code\": \"insufficient_quota\"\n",
      "    }\n",
      "}\n",
      "\n",
      "Request failed with status code: 429\n",
      "Response: {\n",
      "    \"error\": {\n",
      "        \"message\": \"You exceeded your current quota, please check your plan and billing details. For more information on this error, read the docs: https://platform.openai.com/docs/guides/error-codes/api-errors.\",\n",
      "        \"type\": \"insufficient_quota\",\n",
      "        \"param\": null,\n",
      "        \"code\": \"insufficient_quota\"\n",
      "    }\n",
      "}\n",
      "\n"
     ]
    },
    {
     "name": "stderr",
     "output_type": "stream",
     "text": [
      "\n",
      "Processing mushroom.hi-tst.v1.jsonl:  87%|████████▋ | 130/150 [07:12<01:06,  3.32s/entry]\u001B[A"
     ]
    },
    {
     "name": "stdout",
     "output_type": "stream",
     "text": [
      "Request failed with status code: 429\n",
      "Response: {\n",
      "    \"error\": {\n",
      "        \"message\": \"You exceeded your current quota, please check your plan and billing details. For more information on this error, read the docs: https://platform.openai.com/docs/guides/error-codes/api-errors.\",\n",
      "        \"type\": \"insufficient_quota\",\n",
      "        \"param\": null,\n",
      "        \"code\": \"insufficient_quota\"\n",
      "    }\n",
      "}\n",
      "\n",
      "Retry limit exceeded, returning empty result\n",
      "Request failed with status code: 429\n",
      "Response: {\n",
      "    \"error\": {\n",
      "        \"message\": \"You exceeded your current quota, please check your plan and billing details. For more information on this error, read the docs: https://platform.openai.com/docs/guides/error-codes/api-errors.\",\n",
      "        \"type\": \"insufficient_quota\",\n",
      "        \"param\": null,\n",
      "        \"code\": \"insufficient_quota\"\n",
      "    }\n",
      "}\n",
      "\n",
      "Request failed with status code: 429\n",
      "Response: {\n",
      "    \"error\": {\n",
      "        \"message\": \"You exceeded your current quota, please check your plan and billing details. For more information on this error, read the docs: https://platform.openai.com/docs/guides/error-codes/api-errors.\",\n",
      "        \"type\": \"insufficient_quota\",\n",
      "        \"param\": null,\n",
      "        \"code\": \"insufficient_quota\"\n",
      "    }\n",
      "}\n",
      "\n"
     ]
    },
    {
     "name": "stderr",
     "output_type": "stream",
     "text": [
      "\n",
      "Processing mushroom.hi-tst.v1.jsonl:  87%|████████▋ | 131/150 [07:15<01:03,  3.32s/entry]\u001B[A"
     ]
    },
    {
     "name": "stdout",
     "output_type": "stream",
     "text": [
      "Request failed with status code: 429\n",
      "Response: {\n",
      "    \"error\": {\n",
      "        \"message\": \"You exceeded your current quota, please check your plan and billing details. For more information on this error, read the docs: https://platform.openai.com/docs/guides/error-codes/api-errors.\",\n",
      "        \"type\": \"insufficient_quota\",\n",
      "        \"param\": null,\n",
      "        \"code\": \"insufficient_quota\"\n",
      "    }\n",
      "}\n",
      "\n",
      "Retry limit exceeded, returning empty result\n",
      "Request failed with status code: 429\n",
      "Response: {\n",
      "    \"error\": {\n",
      "        \"message\": \"You exceeded your current quota, please check your plan and billing details. For more information on this error, read the docs: https://platform.openai.com/docs/guides/error-codes/api-errors.\",\n",
      "        \"type\": \"insufficient_quota\",\n",
      "        \"param\": null,\n",
      "        \"code\": \"insufficient_quota\"\n",
      "    }\n",
      "}\n",
      "\n",
      "Request failed with status code: 429\n",
      "Response: {\n",
      "    \"error\": {\n",
      "        \"message\": \"You exceeded your current quota, please check your plan and billing details. For more information on this error, read the docs: https://platform.openai.com/docs/guides/error-codes/api-errors.\",\n",
      "        \"type\": \"insufficient_quota\",\n",
      "        \"param\": null,\n",
      "        \"code\": \"insufficient_quota\"\n",
      "    }\n",
      "}\n",
      "\n"
     ]
    },
    {
     "name": "stderr",
     "output_type": "stream",
     "text": [
      "\n",
      "Processing mushroom.hi-tst.v1.jsonl:  88%|████████▊ | 132/150 [07:18<01:00,  3.33s/entry]\u001B[A"
     ]
    },
    {
     "name": "stdout",
     "output_type": "stream",
     "text": [
      "Request failed with status code: 429\n",
      "Response: {\n",
      "    \"error\": {\n",
      "        \"message\": \"You exceeded your current quota, please check your plan and billing details. For more information on this error, read the docs: https://platform.openai.com/docs/guides/error-codes/api-errors.\",\n",
      "        \"type\": \"insufficient_quota\",\n",
      "        \"param\": null,\n",
      "        \"code\": \"insufficient_quota\"\n",
      "    }\n",
      "}\n",
      "\n",
      "Retry limit exceeded, returning empty result\n",
      "Request failed with status code: 429\n",
      "Response: {\n",
      "    \"error\": {\n",
      "        \"message\": \"You exceeded your current quota, please check your plan and billing details. For more information on this error, read the docs: https://platform.openai.com/docs/guides/error-codes/api-errors.\",\n",
      "        \"type\": \"insufficient_quota\",\n",
      "        \"param\": null,\n",
      "        \"code\": \"insufficient_quota\"\n",
      "    }\n",
      "}\n",
      "\n",
      "Request failed with status code: 429\n",
      "Response: {\n",
      "    \"error\": {\n",
      "        \"message\": \"You exceeded your current quota, please check your plan and billing details. For more information on this error, read the docs: https://platform.openai.com/docs/guides/error-codes/api-errors.\",\n",
      "        \"type\": \"insufficient_quota\",\n",
      "        \"param\": null,\n",
      "        \"code\": \"insufficient_quota\"\n",
      "    }\n",
      "}\n",
      "\n"
     ]
    },
    {
     "name": "stderr",
     "output_type": "stream",
     "text": [
      "\n",
      "Processing mushroom.hi-tst.v1.jsonl:  89%|████████▊ | 133/150 [07:22<00:56,  3.33s/entry]\u001B[A"
     ]
    },
    {
     "name": "stdout",
     "output_type": "stream",
     "text": [
      "Request failed with status code: 429\n",
      "Response: {\n",
      "    \"error\": {\n",
      "        \"message\": \"You exceeded your current quota, please check your plan and billing details. For more information on this error, read the docs: https://platform.openai.com/docs/guides/error-codes/api-errors.\",\n",
      "        \"type\": \"insufficient_quota\",\n",
      "        \"param\": null,\n",
      "        \"code\": \"insufficient_quota\"\n",
      "    }\n",
      "}\n",
      "\n",
      "Retry limit exceeded, returning empty result\n",
      "Request failed with status code: 429\n",
      "Response: {\n",
      "    \"error\": {\n",
      "        \"message\": \"You exceeded your current quota, please check your plan and billing details. For more information on this error, read the docs: https://platform.openai.com/docs/guides/error-codes/api-errors.\",\n",
      "        \"type\": \"insufficient_quota\",\n",
      "        \"param\": null,\n",
      "        \"code\": \"insufficient_quota\"\n",
      "    }\n",
      "}\n",
      "\n",
      "Request failed with status code: 429\n",
      "Response: {\n",
      "    \"error\": {\n",
      "        \"message\": \"You exceeded your current quota, please check your plan and billing details. For more information on this error, read the docs: https://platform.openai.com/docs/guides/error-codes/api-errors.\",\n",
      "        \"type\": \"insufficient_quota\",\n",
      "        \"param\": null,\n",
      "        \"code\": \"insufficient_quota\"\n",
      "    }\n",
      "}\n",
      "\n"
     ]
    },
    {
     "name": "stderr",
     "output_type": "stream",
     "text": [
      "\n",
      "Processing mushroom.hi-tst.v1.jsonl:  89%|████████▉ | 134/150 [07:25<00:53,  3.31s/entry]\u001B[A"
     ]
    },
    {
     "name": "stdout",
     "output_type": "stream",
     "text": [
      "Request failed with status code: 429\n",
      "Response: {\n",
      "    \"error\": {\n",
      "        \"message\": \"You exceeded your current quota, please check your plan and billing details. For more information on this error, read the docs: https://platform.openai.com/docs/guides/error-codes/api-errors.\",\n",
      "        \"type\": \"insufficient_quota\",\n",
      "        \"param\": null,\n",
      "        \"code\": \"insufficient_quota\"\n",
      "    }\n",
      "}\n",
      "\n",
      "Retry limit exceeded, returning empty result\n",
      "Request failed with status code: 429\n",
      "Response: {\n",
      "    \"error\": {\n",
      "        \"message\": \"You exceeded your current quota, please check your plan and billing details. For more information on this error, read the docs: https://platform.openai.com/docs/guides/error-codes/api-errors.\",\n",
      "        \"type\": \"insufficient_quota\",\n",
      "        \"param\": null,\n",
      "        \"code\": \"insufficient_quota\"\n",
      "    }\n",
      "}\n",
      "\n",
      "Request failed with status code: 429\n",
      "Response: {\n",
      "    \"error\": {\n",
      "        \"message\": \"You exceeded your current quota, please check your plan and billing details. For more information on this error, read the docs: https://platform.openai.com/docs/guides/error-codes/api-errors.\",\n",
      "        \"type\": \"insufficient_quota\",\n",
      "        \"param\": null,\n",
      "        \"code\": \"insufficient_quota\"\n",
      "    }\n",
      "}\n",
      "\n"
     ]
    },
    {
     "name": "stderr",
     "output_type": "stream",
     "text": [
      "\n",
      "Processing mushroom.hi-tst.v1.jsonl:  90%|█████████ | 135/150 [07:28<00:49,  3.31s/entry]\u001B[A"
     ]
    },
    {
     "name": "stdout",
     "output_type": "stream",
     "text": [
      "Request failed with status code: 429\n",
      "Response: {\n",
      "    \"error\": {\n",
      "        \"message\": \"You exceeded your current quota, please check your plan and billing details. For more information on this error, read the docs: https://platform.openai.com/docs/guides/error-codes/api-errors.\",\n",
      "        \"type\": \"insufficient_quota\",\n",
      "        \"param\": null,\n",
      "        \"code\": \"insufficient_quota\"\n",
      "    }\n",
      "}\n",
      "\n",
      "Retry limit exceeded, returning empty result\n",
      "Request failed with status code: 429\n",
      "Response: {\n",
      "    \"error\": {\n",
      "        \"message\": \"You exceeded your current quota, please check your plan and billing details. For more information on this error, read the docs: https://platform.openai.com/docs/guides/error-codes/api-errors.\",\n",
      "        \"type\": \"insufficient_quota\",\n",
      "        \"param\": null,\n",
      "        \"code\": \"insufficient_quota\"\n",
      "    }\n",
      "}\n",
      "\n",
      "Request failed with status code: 429\n",
      "Response: {\n",
      "    \"error\": {\n",
      "        \"message\": \"You exceeded your current quota, please check your plan and billing details. For more information on this error, read the docs: https://platform.openai.com/docs/guides/error-codes/api-errors.\",\n",
      "        \"type\": \"insufficient_quota\",\n",
      "        \"param\": null,\n",
      "        \"code\": \"insufficient_quota\"\n",
      "    }\n",
      "}\n",
      "\n"
     ]
    },
    {
     "name": "stderr",
     "output_type": "stream",
     "text": [
      "\n",
      "Processing mushroom.hi-tst.v1.jsonl:  91%|█████████ | 136/150 [07:32<00:46,  3.33s/entry]\u001B[A"
     ]
    },
    {
     "name": "stdout",
     "output_type": "stream",
     "text": [
      "Request failed with status code: 429\n",
      "Response: {\n",
      "    \"error\": {\n",
      "        \"message\": \"You exceeded your current quota, please check your plan and billing details. For more information on this error, read the docs: https://platform.openai.com/docs/guides/error-codes/api-errors.\",\n",
      "        \"type\": \"insufficient_quota\",\n",
      "        \"param\": null,\n",
      "        \"code\": \"insufficient_quota\"\n",
      "    }\n",
      "}\n",
      "\n",
      "Retry limit exceeded, returning empty result\n",
      "Request failed with status code: 429\n",
      "Response: {\n",
      "    \"error\": {\n",
      "        \"message\": \"You exceeded your current quota, please check your plan and billing details. For more information on this error, read the docs: https://platform.openai.com/docs/guides/error-codes/api-errors.\",\n",
      "        \"type\": \"insufficient_quota\",\n",
      "        \"param\": null,\n",
      "        \"code\": \"insufficient_quota\"\n",
      "    }\n",
      "}\n",
      "\n",
      "Request failed with status code: 429\n",
      "Response: {\n",
      "    \"error\": {\n",
      "        \"message\": \"You exceeded your current quota, please check your plan and billing details. For more information on this error, read the docs: https://platform.openai.com/docs/guides/error-codes/api-errors.\",\n",
      "        \"type\": \"insufficient_quota\",\n",
      "        \"param\": null,\n",
      "        \"code\": \"insufficient_quota\"\n",
      "    }\n",
      "}\n",
      "\n"
     ]
    },
    {
     "name": "stderr",
     "output_type": "stream",
     "text": [
      "\n",
      "Processing mushroom.hi-tst.v1.jsonl:  91%|█████████▏| 137/150 [07:35<00:43,  3.31s/entry]\u001B[A"
     ]
    },
    {
     "name": "stdout",
     "output_type": "stream",
     "text": [
      "Request failed with status code: 429\n",
      "Response: {\n",
      "    \"error\": {\n",
      "        \"message\": \"You exceeded your current quota, please check your plan and billing details. For more information on this error, read the docs: https://platform.openai.com/docs/guides/error-codes/api-errors.\",\n",
      "        \"type\": \"insufficient_quota\",\n",
      "        \"param\": null,\n",
      "        \"code\": \"insufficient_quota\"\n",
      "    }\n",
      "}\n",
      "\n",
      "Retry limit exceeded, returning empty result\n",
      "Request failed with status code: 429\n",
      "Response: {\n",
      "    \"error\": {\n",
      "        \"message\": \"You exceeded your current quota, please check your plan and billing details. For more information on this error, read the docs: https://platform.openai.com/docs/guides/error-codes/api-errors.\",\n",
      "        \"type\": \"insufficient_quota\",\n",
      "        \"param\": null,\n",
      "        \"code\": \"insufficient_quota\"\n",
      "    }\n",
      "}\n",
      "\n",
      "Request failed with status code: 429\n",
      "Response: {\n",
      "    \"error\": {\n",
      "        \"message\": \"You exceeded your current quota, please check your plan and billing details. For more information on this error, read the docs: https://platform.openai.com/docs/guides/error-codes/api-errors.\",\n",
      "        \"type\": \"insufficient_quota\",\n",
      "        \"param\": null,\n",
      "        \"code\": \"insufficient_quota\"\n",
      "    }\n",
      "}\n",
      "\n"
     ]
    },
    {
     "name": "stderr",
     "output_type": "stream",
     "text": [
      "\n",
      "Processing mushroom.hi-tst.v1.jsonl:  92%|█████████▏| 138/150 [07:38<00:39,  3.32s/entry]\u001B[A"
     ]
    },
    {
     "name": "stdout",
     "output_type": "stream",
     "text": [
      "Request failed with status code: 429\n",
      "Response: {\n",
      "    \"error\": {\n",
      "        \"message\": \"You exceeded your current quota, please check your plan and billing details. For more information on this error, read the docs: https://platform.openai.com/docs/guides/error-codes/api-errors.\",\n",
      "        \"type\": \"insufficient_quota\",\n",
      "        \"param\": null,\n",
      "        \"code\": \"insufficient_quota\"\n",
      "    }\n",
      "}\n",
      "\n",
      "Retry limit exceeded, returning empty result\n",
      "Request failed with status code: 429\n",
      "Response: {\n",
      "    \"error\": {\n",
      "        \"message\": \"You exceeded your current quota, please check your plan and billing details. For more information on this error, read the docs: https://platform.openai.com/docs/guides/error-codes/api-errors.\",\n",
      "        \"type\": \"insufficient_quota\",\n",
      "        \"param\": null,\n",
      "        \"code\": \"insufficient_quota\"\n",
      "    }\n",
      "}\n",
      "\n",
      "Request failed with status code: 429\n",
      "Response: {\n",
      "    \"error\": {\n",
      "        \"message\": \"You exceeded your current quota, please check your plan and billing details. For more information on this error, read the docs: https://platform.openai.com/docs/guides/error-codes/api-errors.\",\n",
      "        \"type\": \"insufficient_quota\",\n",
      "        \"param\": null,\n",
      "        \"code\": \"insufficient_quota\"\n",
      "    }\n",
      "}\n",
      "\n"
     ]
    },
    {
     "name": "stderr",
     "output_type": "stream",
     "text": [
      "\n",
      "Processing mushroom.hi-tst.v1.jsonl:  93%|█████████▎| 139/150 [07:42<00:36,  3.31s/entry]\u001B[A"
     ]
    },
    {
     "name": "stdout",
     "output_type": "stream",
     "text": [
      "Request failed with status code: 429\n",
      "Response: {\n",
      "    \"error\": {\n",
      "        \"message\": \"You exceeded your current quota, please check your plan and billing details. For more information on this error, read the docs: https://platform.openai.com/docs/guides/error-codes/api-errors.\",\n",
      "        \"type\": \"insufficient_quota\",\n",
      "        \"param\": null,\n",
      "        \"code\": \"insufficient_quota\"\n",
      "    }\n",
      "}\n",
      "\n",
      "Retry limit exceeded, returning empty result\n",
      "Request failed with status code: 429\n",
      "Response: {\n",
      "    \"error\": {\n",
      "        \"message\": \"You exceeded your current quota, please check your plan and billing details. For more information on this error, read the docs: https://platform.openai.com/docs/guides/error-codes/api-errors.\",\n",
      "        \"type\": \"insufficient_quota\",\n",
      "        \"param\": null,\n",
      "        \"code\": \"insufficient_quota\"\n",
      "    }\n",
      "}\n",
      "\n",
      "Request failed with status code: 429\n",
      "Response: {\n",
      "    \"error\": {\n",
      "        \"message\": \"You exceeded your current quota, please check your plan and billing details. For more information on this error, read the docs: https://platform.openai.com/docs/guides/error-codes/api-errors.\",\n",
      "        \"type\": \"insufficient_quota\",\n",
      "        \"param\": null,\n",
      "        \"code\": \"insufficient_quota\"\n",
      "    }\n",
      "}\n",
      "\n"
     ]
    },
    {
     "name": "stderr",
     "output_type": "stream",
     "text": [
      "\n",
      "Processing mushroom.hi-tst.v1.jsonl:  93%|█████████▎| 140/150 [07:45<00:33,  3.33s/entry]\u001B[A"
     ]
    },
    {
     "name": "stdout",
     "output_type": "stream",
     "text": [
      "Request failed with status code: 429\n",
      "Response: {\n",
      "    \"error\": {\n",
      "        \"message\": \"You exceeded your current quota, please check your plan and billing details. For more information on this error, read the docs: https://platform.openai.com/docs/guides/error-codes/api-errors.\",\n",
      "        \"type\": \"insufficient_quota\",\n",
      "        \"param\": null,\n",
      "        \"code\": \"insufficient_quota\"\n",
      "    }\n",
      "}\n",
      "\n",
      "Retry limit exceeded, returning empty result\n",
      "Request failed with status code: 429\n",
      "Response: {\n",
      "    \"error\": {\n",
      "        \"message\": \"You exceeded your current quota, please check your plan and billing details. For more information on this error, read the docs: https://platform.openai.com/docs/guides/error-codes/api-errors.\",\n",
      "        \"type\": \"insufficient_quota\",\n",
      "        \"param\": null,\n",
      "        \"code\": \"insufficient_quota\"\n",
      "    }\n",
      "}\n",
      "\n",
      "Request failed with status code: 429\n",
      "Response: {\n",
      "    \"error\": {\n",
      "        \"message\": \"You exceeded your current quota, please check your plan and billing details. For more information on this error, read the docs: https://platform.openai.com/docs/guides/error-codes/api-errors.\",\n",
      "        \"type\": \"insufficient_quota\",\n",
      "        \"param\": null,\n",
      "        \"code\": \"insufficient_quota\"\n",
      "    }\n",
      "}\n",
      "\n"
     ]
    },
    {
     "name": "stderr",
     "output_type": "stream",
     "text": [
      "\n",
      "Processing mushroom.hi-tst.v1.jsonl:  94%|█████████▍| 141/150 [07:48<00:30,  3.35s/entry]\u001B[A"
     ]
    },
    {
     "name": "stdout",
     "output_type": "stream",
     "text": [
      "Request failed with status code: 429\n",
      "Response: {\n",
      "    \"error\": {\n",
      "        \"message\": \"You exceeded your current quota, please check your plan and billing details. For more information on this error, read the docs: https://platform.openai.com/docs/guides/error-codes/api-errors.\",\n",
      "        \"type\": \"insufficient_quota\",\n",
      "        \"param\": null,\n",
      "        \"code\": \"insufficient_quota\"\n",
      "    }\n",
      "}\n",
      "\n",
      "Retry limit exceeded, returning empty result\n",
      "Request failed with status code: 429\n",
      "Response: {\n",
      "    \"error\": {\n",
      "        \"message\": \"You exceeded your current quota, please check your plan and billing details. For more information on this error, read the docs: https://platform.openai.com/docs/guides/error-codes/api-errors.\",\n",
      "        \"type\": \"insufficient_quota\",\n",
      "        \"param\": null,\n",
      "        \"code\": \"insufficient_quota\"\n",
      "    }\n",
      "}\n",
      "\n",
      "Request failed with status code: 429\n",
      "Response: {\n",
      "    \"error\": {\n",
      "        \"message\": \"You exceeded your current quota, please check your plan and billing details. For more information on this error, read the docs: https://platform.openai.com/docs/guides/error-codes/api-errors.\",\n",
      "        \"type\": \"insufficient_quota\",\n",
      "        \"param\": null,\n",
      "        \"code\": \"insufficient_quota\"\n",
      "    }\n",
      "}\n",
      "\n"
     ]
    },
    {
     "name": "stderr",
     "output_type": "stream",
     "text": [
      "\n",
      "Processing mushroom.hi-tst.v1.jsonl:  95%|█████████▍| 142/150 [07:52<00:26,  3.36s/entry]\u001B[A"
     ]
    },
    {
     "name": "stdout",
     "output_type": "stream",
     "text": [
      "Request failed with status code: 429\n",
      "Response: {\n",
      "    \"error\": {\n",
      "        \"message\": \"You exceeded your current quota, please check your plan and billing details. For more information on this error, read the docs: https://platform.openai.com/docs/guides/error-codes/api-errors.\",\n",
      "        \"type\": \"insufficient_quota\",\n",
      "        \"param\": null,\n",
      "        \"code\": \"insufficient_quota\"\n",
      "    }\n",
      "}\n",
      "\n",
      "Retry limit exceeded, returning empty result\n",
      "Request failed with status code: 429\n",
      "Response: {\n",
      "    \"error\": {\n",
      "        \"message\": \"You exceeded your current quota, please check your plan and billing details. For more information on this error, read the docs: https://platform.openai.com/docs/guides/error-codes/api-errors.\",\n",
      "        \"type\": \"insufficient_quota\",\n",
      "        \"param\": null,\n",
      "        \"code\": \"insufficient_quota\"\n",
      "    }\n",
      "}\n",
      "\n",
      "Request failed with status code: 429\n",
      "Response: {\n",
      "    \"error\": {\n",
      "        \"message\": \"You exceeded your current quota, please check your plan and billing details. For more information on this error, read the docs: https://platform.openai.com/docs/guides/error-codes/api-errors.\",\n",
      "        \"type\": \"insufficient_quota\",\n",
      "        \"param\": null,\n",
      "        \"code\": \"insufficient_quota\"\n",
      "    }\n",
      "}\n",
      "\n"
     ]
    },
    {
     "name": "stderr",
     "output_type": "stream",
     "text": [
      "\n",
      "Processing mushroom.hi-tst.v1.jsonl:  95%|█████████▌| 143/150 [07:55<00:23,  3.35s/entry]\u001B[A"
     ]
    },
    {
     "name": "stdout",
     "output_type": "stream",
     "text": [
      "Request failed with status code: 429\n",
      "Response: {\n",
      "    \"error\": {\n",
      "        \"message\": \"You exceeded your current quota, please check your plan and billing details. For more information on this error, read the docs: https://platform.openai.com/docs/guides/error-codes/api-errors.\",\n",
      "        \"type\": \"insufficient_quota\",\n",
      "        \"param\": null,\n",
      "        \"code\": \"insufficient_quota\"\n",
      "    }\n",
      "}\n",
      "\n",
      "Retry limit exceeded, returning empty result\n",
      "Request failed with status code: 429\n",
      "Response: {\n",
      "    \"error\": {\n",
      "        \"message\": \"You exceeded your current quota, please check your plan and billing details. For more information on this error, read the docs: https://platform.openai.com/docs/guides/error-codes/api-errors.\",\n",
      "        \"type\": \"insufficient_quota\",\n",
      "        \"param\": null,\n",
      "        \"code\": \"insufficient_quota\"\n",
      "    }\n",
      "}\n",
      "\n",
      "Request failed with status code: 429\n",
      "Response: {\n",
      "    \"error\": {\n",
      "        \"message\": \"You exceeded your current quota, please check your plan and billing details. For more information on this error, read the docs: https://platform.openai.com/docs/guides/error-codes/api-errors.\",\n",
      "        \"type\": \"insufficient_quota\",\n",
      "        \"param\": null,\n",
      "        \"code\": \"insufficient_quota\"\n",
      "    }\n",
      "}\n",
      "\n"
     ]
    },
    {
     "name": "stderr",
     "output_type": "stream",
     "text": [
      "\n",
      "Processing mushroom.hi-tst.v1.jsonl:  96%|█████████▌| 144/150 [07:58<00:20,  3.37s/entry]\u001B[A"
     ]
    },
    {
     "name": "stdout",
     "output_type": "stream",
     "text": [
      "Request failed with status code: 429\n",
      "Response: {\n",
      "    \"error\": {\n",
      "        \"message\": \"You exceeded your current quota, please check your plan and billing details. For more information on this error, read the docs: https://platform.openai.com/docs/guides/error-codes/api-errors.\",\n",
      "        \"type\": \"insufficient_quota\",\n",
      "        \"param\": null,\n",
      "        \"code\": \"insufficient_quota\"\n",
      "    }\n",
      "}\n",
      "\n",
      "Retry limit exceeded, returning empty result\n",
      "Request failed with status code: 429\n",
      "Response: {\n",
      "    \"error\": {\n",
      "        \"message\": \"You exceeded your current quota, please check your plan and billing details. For more information on this error, read the docs: https://platform.openai.com/docs/guides/error-codes/api-errors.\",\n",
      "        \"type\": \"insufficient_quota\",\n",
      "        \"param\": null,\n",
      "        \"code\": \"insufficient_quota\"\n",
      "    }\n",
      "}\n",
      "\n",
      "Request failed with status code: 429\n",
      "Response: {\n",
      "    \"error\": {\n",
      "        \"message\": \"You exceeded your current quota, please check your plan and billing details. For more information on this error, read the docs: https://platform.openai.com/docs/guides/error-codes/api-errors.\",\n",
      "        \"type\": \"insufficient_quota\",\n",
      "        \"param\": null,\n",
      "        \"code\": \"insufficient_quota\"\n",
      "    }\n",
      "}\n",
      "\n"
     ]
    },
    {
     "name": "stderr",
     "output_type": "stream",
     "text": [
      "\n",
      "Processing mushroom.hi-tst.v1.jsonl:  97%|█████████▋| 145/150 [08:02<00:16,  3.38s/entry]\u001B[A"
     ]
    },
    {
     "name": "stdout",
     "output_type": "stream",
     "text": [
      "Request failed with status code: 429\n",
      "Response: {\n",
      "    \"error\": {\n",
      "        \"message\": \"You exceeded your current quota, please check your plan and billing details. For more information on this error, read the docs: https://platform.openai.com/docs/guides/error-codes/api-errors.\",\n",
      "        \"type\": \"insufficient_quota\",\n",
      "        \"param\": null,\n",
      "        \"code\": \"insufficient_quota\"\n",
      "    }\n",
      "}\n",
      "\n",
      "Retry limit exceeded, returning empty result\n",
      "Request failed with status code: 429\n",
      "Response: {\n",
      "    \"error\": {\n",
      "        \"message\": \"You exceeded your current quota, please check your plan and billing details. For more information on this error, read the docs: https://platform.openai.com/docs/guides/error-codes/api-errors.\",\n",
      "        \"type\": \"insufficient_quota\",\n",
      "        \"param\": null,\n",
      "        \"code\": \"insufficient_quota\"\n",
      "    }\n",
      "}\n",
      "\n",
      "Request failed with status code: 429\n",
      "Response: {\n",
      "    \"error\": {\n",
      "        \"message\": \"You exceeded your current quota, please check your plan and billing details. For more information on this error, read the docs: https://platform.openai.com/docs/guides/error-codes/api-errors.\",\n",
      "        \"type\": \"insufficient_quota\",\n",
      "        \"param\": null,\n",
      "        \"code\": \"insufficient_quota\"\n",
      "    }\n",
      "}\n",
      "\n"
     ]
    },
    {
     "name": "stderr",
     "output_type": "stream",
     "text": [
      "\n",
      "Processing mushroom.hi-tst.v1.jsonl:  97%|█████████▋| 146/150 [08:05<00:13,  3.39s/entry]\u001B[A"
     ]
    },
    {
     "name": "stdout",
     "output_type": "stream",
     "text": [
      "Request failed with status code: 429\n",
      "Response: {\n",
      "    \"error\": {\n",
      "        \"message\": \"You exceeded your current quota, please check your plan and billing details. For more information on this error, read the docs: https://platform.openai.com/docs/guides/error-codes/api-errors.\",\n",
      "        \"type\": \"insufficient_quota\",\n",
      "        \"param\": null,\n",
      "        \"code\": \"insufficient_quota\"\n",
      "    }\n",
      "}\n",
      "\n",
      "Retry limit exceeded, returning empty result\n",
      "Request failed with status code: 429\n",
      "Response: {\n",
      "    \"error\": {\n",
      "        \"message\": \"You exceeded your current quota, please check your plan and billing details. For more information on this error, read the docs: https://platform.openai.com/docs/guides/error-codes/api-errors.\",\n",
      "        \"type\": \"insufficient_quota\",\n",
      "        \"param\": null,\n",
      "        \"code\": \"insufficient_quota\"\n",
      "    }\n",
      "}\n",
      "\n",
      "Request failed with status code: 429\n",
      "Response: {\n",
      "    \"error\": {\n",
      "        \"message\": \"You exceeded your current quota, please check your plan and billing details. For more information on this error, read the docs: https://platform.openai.com/docs/guides/error-codes/api-errors.\",\n",
      "        \"type\": \"insufficient_quota\",\n",
      "        \"param\": null,\n",
      "        \"code\": \"insufficient_quota\"\n",
      "    }\n",
      "}\n",
      "\n"
     ]
    },
    {
     "name": "stderr",
     "output_type": "stream",
     "text": [
      "\n",
      "Processing mushroom.hi-tst.v1.jsonl:  98%|█████████▊| 147/150 [08:09<00:10,  3.41s/entry]\u001B[A"
     ]
    },
    {
     "name": "stdout",
     "output_type": "stream",
     "text": [
      "Request failed with status code: 429\n",
      "Response: {\n",
      "    \"error\": {\n",
      "        \"message\": \"You exceeded your current quota, please check your plan and billing details. For more information on this error, read the docs: https://platform.openai.com/docs/guides/error-codes/api-errors.\",\n",
      "        \"type\": \"insufficient_quota\",\n",
      "        \"param\": null,\n",
      "        \"code\": \"insufficient_quota\"\n",
      "    }\n",
      "}\n",
      "\n",
      "Retry limit exceeded, returning empty result\n",
      "Request failed with status code: 429\n",
      "Response: {\n",
      "    \"error\": {\n",
      "        \"message\": \"You exceeded your current quota, please check your plan and billing details. For more information on this error, read the docs: https://platform.openai.com/docs/guides/error-codes/api-errors.\",\n",
      "        \"type\": \"insufficient_quota\",\n",
      "        \"param\": null,\n",
      "        \"code\": \"insufficient_quota\"\n",
      "    }\n",
      "}\n",
      "\n",
      "Request failed with status code: 429\n",
      "Response: {\n",
      "    \"error\": {\n",
      "        \"message\": \"You exceeded your current quota, please check your plan and billing details. For more information on this error, read the docs: https://platform.openai.com/docs/guides/error-codes/api-errors.\",\n",
      "        \"type\": \"insufficient_quota\",\n",
      "        \"param\": null,\n",
      "        \"code\": \"insufficient_quota\"\n",
      "    }\n",
      "}\n",
      "\n"
     ]
    },
    {
     "name": "stderr",
     "output_type": "stream",
     "text": [
      "\n",
      "Processing mushroom.hi-tst.v1.jsonl:  99%|█████████▊| 148/150 [08:12<00:06,  3.41s/entry]\u001B[A"
     ]
    },
    {
     "name": "stdout",
     "output_type": "stream",
     "text": [
      "Request failed with status code: 429\n",
      "Response: {\n",
      "    \"error\": {\n",
      "        \"message\": \"You exceeded your current quota, please check your plan and billing details. For more information on this error, read the docs: https://platform.openai.com/docs/guides/error-codes/api-errors.\",\n",
      "        \"type\": \"insufficient_quota\",\n",
      "        \"param\": null,\n",
      "        \"code\": \"insufficient_quota\"\n",
      "    }\n",
      "}\n",
      "\n",
      "Retry limit exceeded, returning empty result\n",
      "Request failed with status code: 429\n",
      "Response: {\n",
      "    \"error\": {\n",
      "        \"message\": \"You exceeded your current quota, please check your plan and billing details. For more information on this error, read the docs: https://platform.openai.com/docs/guides/error-codes/api-errors.\",\n",
      "        \"type\": \"insufficient_quota\",\n",
      "        \"param\": null,\n",
      "        \"code\": \"insufficient_quota\"\n",
      "    }\n",
      "}\n",
      "\n",
      "Request failed with status code: 429\n",
      "Response: {\n",
      "    \"error\": {\n",
      "        \"message\": \"You exceeded your current quota, please check your plan and billing details. For more information on this error, read the docs: https://platform.openai.com/docs/guides/error-codes/api-errors.\",\n",
      "        \"type\": \"insufficient_quota\",\n",
      "        \"param\": null,\n",
      "        \"code\": \"insufficient_quota\"\n",
      "    }\n",
      "}\n",
      "\n"
     ]
    },
    {
     "name": "stderr",
     "output_type": "stream",
     "text": [
      "\n",
      "Processing mushroom.hi-tst.v1.jsonl:  99%|█████████▉| 149/150 [08:15<00:03,  3.39s/entry]\u001B[A"
     ]
    },
    {
     "name": "stdout",
     "output_type": "stream",
     "text": [
      "Request failed with status code: 429\n",
      "Response: {\n",
      "    \"error\": {\n",
      "        \"message\": \"You exceeded your current quota, please check your plan and billing details. For more information on this error, read the docs: https://platform.openai.com/docs/guides/error-codes/api-errors.\",\n",
      "        \"type\": \"insufficient_quota\",\n",
      "        \"param\": null,\n",
      "        \"code\": \"insufficient_quota\"\n",
      "    }\n",
      "}\n",
      "\n",
      "Retry limit exceeded, returning empty result\n",
      "Request failed with status code: 429\n",
      "Response: {\n",
      "    \"error\": {\n",
      "        \"message\": \"You exceeded your current quota, please check your plan and billing details. For more information on this error, read the docs: https://platform.openai.com/docs/guides/error-codes/api-errors.\",\n",
      "        \"type\": \"insufficient_quota\",\n",
      "        \"param\": null,\n",
      "        \"code\": \"insufficient_quota\"\n",
      "    }\n",
      "}\n",
      "\n",
      "Request failed with status code: 429\n",
      "Response: {\n",
      "    \"error\": {\n",
      "        \"message\": \"You exceeded your current quota, please check your plan and billing details. For more information on this error, read the docs: https://platform.openai.com/docs/guides/error-codes/api-errors.\",\n",
      "        \"type\": \"insufficient_quota\",\n",
      "        \"param\": null,\n",
      "        \"code\": \"insufficient_quota\"\n",
      "    }\n",
      "}\n",
      "\n"
     ]
    },
    {
     "name": "stderr",
     "output_type": "stream",
     "text": [
      "\n",
      "Processing mushroom.hi-tst.v1.jsonl: 100%|██████████| 150/150 [08:19<00:00,  3.37s/entry]\u001B[A\n",
      "Processing Files:  64%|██████▍   | 9/14 [1:37:26<55:08, 661.61s/file]                    \u001B[A"
     ]
    },
    {
     "name": "stdout",
     "output_type": "stream",
     "text": [
      "Request failed with status code: 429\n",
      "Response: {\n",
      "    \"error\": {\n",
      "        \"message\": \"You exceeded your current quota, please check your plan and billing details. For more information on this error, read the docs: https://platform.openai.com/docs/guides/error-codes/api-errors.\",\n",
      "        \"type\": \"insufficient_quota\",\n",
      "        \"param\": null,\n",
      "        \"code\": \"insufficient_quota\"\n",
      "    }\n",
      "}\n",
      "\n",
      "Retry limit exceeded, returning empty result\n",
      "Processed and saved: data/test_detect_gpt4_m2/mushroom.hi-tst.v1.jsonl\n"
     ]
    },
    {
     "name": "stderr",
     "output_type": "stream",
     "text": [
      "\n",
      "Processing mushroom.it-tst.v1.jsonl:   0%|          | 0/150 [00:00<?, ?entry/s]\u001B[A"
     ]
    },
    {
     "name": "stdout",
     "output_type": "stream",
     "text": [
      "Request failed with status code: 429\n",
      "Response: {\n",
      "    \"error\": {\n",
      "        \"message\": \"You exceeded your current quota, please check your plan and billing details. For more information on this error, read the docs: https://platform.openai.com/docs/guides/error-codes/api-errors.\",\n",
      "        \"type\": \"insufficient_quota\",\n",
      "        \"param\": null,\n",
      "        \"code\": \"insufficient_quota\"\n",
      "    }\n",
      "}\n",
      "\n",
      "Request failed with status code: 429\n",
      "Response: {\n",
      "    \"error\": {\n",
      "        \"message\": \"You exceeded your current quota, please check your plan and billing details. For more information on this error, read the docs: https://platform.openai.com/docs/guides/error-codes/api-errors.\",\n",
      "        \"type\": \"insufficient_quota\",\n",
      "        \"param\": null,\n",
      "        \"code\": \"insufficient_quota\"\n",
      "    }\n",
      "}\n",
      "\n"
     ]
    },
    {
     "name": "stderr",
     "output_type": "stream",
     "text": [
      "\n",
      "Processing mushroom.it-tst.v1.jsonl:   1%|          | 1/150 [00:03<08:18,  3.35s/entry]\u001B[A"
     ]
    },
    {
     "name": "stdout",
     "output_type": "stream",
     "text": [
      "Request failed with status code: 429\n",
      "Response: {\n",
      "    \"error\": {\n",
      "        \"message\": \"You exceeded your current quota, please check your plan and billing details. For more information on this error, read the docs: https://platform.openai.com/docs/guides/error-codes/api-errors.\",\n",
      "        \"type\": \"insufficient_quota\",\n",
      "        \"param\": null,\n",
      "        \"code\": \"insufficient_quota\"\n",
      "    }\n",
      "}\n",
      "\n",
      "Retry limit exceeded, returning empty result\n",
      "Request failed with status code: 429\n",
      "Response: {\n",
      "    \"error\": {\n",
      "        \"message\": \"You exceeded your current quota, please check your plan and billing details. For more information on this error, read the docs: https://platform.openai.com/docs/guides/error-codes/api-errors.\",\n",
      "        \"type\": \"insufficient_quota\",\n",
      "        \"param\": null,\n",
      "        \"code\": \"insufficient_quota\"\n",
      "    }\n",
      "}\n",
      "\n",
      "Request failed with status code: 429\n",
      "Response: {\n",
      "    \"error\": {\n",
      "        \"message\": \"You exceeded your current quota, please check your plan and billing details. For more information on this error, read the docs: https://platform.openai.com/docs/guides/error-codes/api-errors.\",\n",
      "        \"type\": \"insufficient_quota\",\n",
      "        \"param\": null,\n",
      "        \"code\": \"insufficient_quota\"\n",
      "    }\n",
      "}\n",
      "\n"
     ]
    },
    {
     "name": "stderr",
     "output_type": "stream",
     "text": [
      "\n",
      "Processing mushroom.it-tst.v1.jsonl:   1%|▏         | 2/150 [00:06<08:15,  3.35s/entry]\u001B[A"
     ]
    },
    {
     "name": "stdout",
     "output_type": "stream",
     "text": [
      "Request failed with status code: 429\n",
      "Response: {\n",
      "    \"error\": {\n",
      "        \"message\": \"You exceeded your current quota, please check your plan and billing details. For more information on this error, read the docs: https://platform.openai.com/docs/guides/error-codes/api-errors.\",\n",
      "        \"type\": \"insufficient_quota\",\n",
      "        \"param\": null,\n",
      "        \"code\": \"insufficient_quota\"\n",
      "    }\n",
      "}\n",
      "\n",
      "Retry limit exceeded, returning empty result\n",
      "Request failed with status code: 429\n",
      "Response: {\n",
      "    \"error\": {\n",
      "        \"message\": \"You exceeded your current quota, please check your plan and billing details. For more information on this error, read the docs: https://platform.openai.com/docs/guides/error-codes/api-errors.\",\n",
      "        \"type\": \"insufficient_quota\",\n",
      "        \"param\": null,\n",
      "        \"code\": \"insufficient_quota\"\n",
      "    }\n",
      "}\n",
      "\n",
      "Request failed with status code: 429\n",
      "Response: {\n",
      "    \"error\": {\n",
      "        \"message\": \"You exceeded your current quota, please check your plan and billing details. For more information on this error, read the docs: https://platform.openai.com/docs/guides/error-codes/api-errors.\",\n",
      "        \"type\": \"insufficient_quota\",\n",
      "        \"param\": null,\n",
      "        \"code\": \"insufficient_quota\"\n",
      "    }\n",
      "}\n",
      "\n"
     ]
    },
    {
     "name": "stderr",
     "output_type": "stream",
     "text": [
      "\n",
      "Processing mushroom.it-tst.v1.jsonl:   2%|▏         | 3/150 [00:09<08:07,  3.32s/entry]\u001B[A"
     ]
    },
    {
     "name": "stdout",
     "output_type": "stream",
     "text": [
      "Request failed with status code: 429\n",
      "Response: {\n",
      "    \"error\": {\n",
      "        \"message\": \"You exceeded your current quota, please check your plan and billing details. For more information on this error, read the docs: https://platform.openai.com/docs/guides/error-codes/api-errors.\",\n",
      "        \"type\": \"insufficient_quota\",\n",
      "        \"param\": null,\n",
      "        \"code\": \"insufficient_quota\"\n",
      "    }\n",
      "}\n",
      "\n",
      "Retry limit exceeded, returning empty result\n",
      "Request failed with status code: 429\n",
      "Response: {\n",
      "    \"error\": {\n",
      "        \"message\": \"You exceeded your current quota, please check your plan and billing details. For more information on this error, read the docs: https://platform.openai.com/docs/guides/error-codes/api-errors.\",\n",
      "        \"type\": \"insufficient_quota\",\n",
      "        \"param\": null,\n",
      "        \"code\": \"insufficient_quota\"\n",
      "    }\n",
      "}\n",
      "\n",
      "Request failed with status code: 429\n",
      "Response: {\n",
      "    \"error\": {\n",
      "        \"message\": \"You exceeded your current quota, please check your plan and billing details. For more information on this error, read the docs: https://platform.openai.com/docs/guides/error-codes/api-errors.\",\n",
      "        \"type\": \"insufficient_quota\",\n",
      "        \"param\": null,\n",
      "        \"code\": \"insufficient_quota\"\n",
      "    }\n",
      "}\n",
      "\n"
     ]
    },
    {
     "name": "stderr",
     "output_type": "stream",
     "text": [
      "\n",
      "Processing mushroom.it-tst.v1.jsonl:   3%|▎         | 4/150 [00:13<08:02,  3.31s/entry]\u001B[A"
     ]
    },
    {
     "name": "stdout",
     "output_type": "stream",
     "text": [
      "Request failed with status code: 429\n",
      "Response: {\n",
      "    \"error\": {\n",
      "        \"message\": \"You exceeded your current quota, please check your plan and billing details. For more information on this error, read the docs: https://platform.openai.com/docs/guides/error-codes/api-errors.\",\n",
      "        \"type\": \"insufficient_quota\",\n",
      "        \"param\": null,\n",
      "        \"code\": \"insufficient_quota\"\n",
      "    }\n",
      "}\n",
      "\n",
      "Retry limit exceeded, returning empty result\n",
      "Request failed with status code: 429\n",
      "Response: {\n",
      "    \"error\": {\n",
      "        \"message\": \"You exceeded your current quota, please check your plan and billing details. For more information on this error, read the docs: https://platform.openai.com/docs/guides/error-codes/api-errors.\",\n",
      "        \"type\": \"insufficient_quota\",\n",
      "        \"param\": null,\n",
      "        \"code\": \"insufficient_quota\"\n",
      "    }\n",
      "}\n",
      "\n",
      "Request failed with status code: 429\n",
      "Response: {\n",
      "    \"error\": {\n",
      "        \"message\": \"You exceeded your current quota, please check your plan and billing details. For more information on this error, read the docs: https://platform.openai.com/docs/guides/error-codes/api-errors.\",\n",
      "        \"type\": \"insufficient_quota\",\n",
      "        \"param\": null,\n",
      "        \"code\": \"insufficient_quota\"\n",
      "    }\n",
      "}\n",
      "\n"
     ]
    },
    {
     "name": "stderr",
     "output_type": "stream",
     "text": [
      "\n",
      "Processing mushroom.it-tst.v1.jsonl:   3%|▎         | 5/150 [00:16<08:01,  3.32s/entry]\u001B[A"
     ]
    },
    {
     "name": "stdout",
     "output_type": "stream",
     "text": [
      "Request failed with status code: 429\n",
      "Response: {\n",
      "    \"error\": {\n",
      "        \"message\": \"You exceeded your current quota, please check your plan and billing details. For more information on this error, read the docs: https://platform.openai.com/docs/guides/error-codes/api-errors.\",\n",
      "        \"type\": \"insufficient_quota\",\n",
      "        \"param\": null,\n",
      "        \"code\": \"insufficient_quota\"\n",
      "    }\n",
      "}\n",
      "\n",
      "Retry limit exceeded, returning empty result\n",
      "Request failed with status code: 429\n",
      "Response: {\n",
      "    \"error\": {\n",
      "        \"message\": \"You exceeded your current quota, please check your plan and billing details. For more information on this error, read the docs: https://platform.openai.com/docs/guides/error-codes/api-errors.\",\n",
      "        \"type\": \"insufficient_quota\",\n",
      "        \"param\": null,\n",
      "        \"code\": \"insufficient_quota\"\n",
      "    }\n",
      "}\n",
      "\n",
      "Request failed with status code: 429\n",
      "Response: {\n",
      "    \"error\": {\n",
      "        \"message\": \"You exceeded your current quota, please check your plan and billing details. For more information on this error, read the docs: https://platform.openai.com/docs/guides/error-codes/api-errors.\",\n",
      "        \"type\": \"insufficient_quota\",\n",
      "        \"param\": null,\n",
      "        \"code\": \"insufficient_quota\"\n",
      "    }\n",
      "}\n",
      "\n"
     ]
    },
    {
     "name": "stderr",
     "output_type": "stream",
     "text": [
      "\n",
      "Processing mushroom.it-tst.v1.jsonl:   4%|▍         | 6/150 [00:19<07:54,  3.30s/entry]\u001B[A"
     ]
    },
    {
     "name": "stdout",
     "output_type": "stream",
     "text": [
      "Request failed with status code: 429\n",
      "Response: {\n",
      "    \"error\": {\n",
      "        \"message\": \"You exceeded your current quota, please check your plan and billing details. For more information on this error, read the docs: https://platform.openai.com/docs/guides/error-codes/api-errors.\",\n",
      "        \"type\": \"insufficient_quota\",\n",
      "        \"param\": null,\n",
      "        \"code\": \"insufficient_quota\"\n",
      "    }\n",
      "}\n",
      "\n",
      "Retry limit exceeded, returning empty result\n",
      "Request failed with status code: 429\n",
      "Response: {\n",
      "    \"error\": {\n",
      "        \"message\": \"You exceeded your current quota, please check your plan and billing details. For more information on this error, read the docs: https://platform.openai.com/docs/guides/error-codes/api-errors.\",\n",
      "        \"type\": \"insufficient_quota\",\n",
      "        \"param\": null,\n",
      "        \"code\": \"insufficient_quota\"\n",
      "    }\n",
      "}\n",
      "\n",
      "Request failed with status code: 429\n",
      "Response: {\n",
      "    \"error\": {\n",
      "        \"message\": \"You exceeded your current quota, please check your plan and billing details. For more information on this error, read the docs: https://platform.openai.com/docs/guides/error-codes/api-errors.\",\n",
      "        \"type\": \"insufficient_quota\",\n",
      "        \"param\": null,\n",
      "        \"code\": \"insufficient_quota\"\n",
      "    }\n",
      "}\n",
      "\n"
     ]
    },
    {
     "name": "stderr",
     "output_type": "stream",
     "text": [
      "\n",
      "Processing mushroom.it-tst.v1.jsonl:   5%|▍         | 7/150 [00:23<07:55,  3.33s/entry]\u001B[A"
     ]
    },
    {
     "name": "stdout",
     "output_type": "stream",
     "text": [
      "Request failed with status code: 429\n",
      "Response: {\n",
      "    \"error\": {\n",
      "        \"message\": \"You exceeded your current quota, please check your plan and billing details. For more information on this error, read the docs: https://platform.openai.com/docs/guides/error-codes/api-errors.\",\n",
      "        \"type\": \"insufficient_quota\",\n",
      "        \"param\": null,\n",
      "        \"code\": \"insufficient_quota\"\n",
      "    }\n",
      "}\n",
      "\n",
      "Retry limit exceeded, returning empty result\n",
      "Request failed with status code: 429\n",
      "Response: {\n",
      "    \"error\": {\n",
      "        \"message\": \"You exceeded your current quota, please check your plan and billing details. For more information on this error, read the docs: https://platform.openai.com/docs/guides/error-codes/api-errors.\",\n",
      "        \"type\": \"insufficient_quota\",\n",
      "        \"param\": null,\n",
      "        \"code\": \"insufficient_quota\"\n",
      "    }\n",
      "}\n",
      "\n",
      "Request failed with status code: 429\n",
      "Response: {\n",
      "    \"error\": {\n",
      "        \"message\": \"You exceeded your current quota, please check your plan and billing details. For more information on this error, read the docs: https://platform.openai.com/docs/guides/error-codes/api-errors.\",\n",
      "        \"type\": \"insufficient_quota\",\n",
      "        \"param\": null,\n",
      "        \"code\": \"insufficient_quota\"\n",
      "    }\n",
      "}\n",
      "\n"
     ]
    },
    {
     "name": "stderr",
     "output_type": "stream",
     "text": [
      "\n",
      "Processing mushroom.it-tst.v1.jsonl:   5%|▌         | 8/150 [00:26<07:58,  3.37s/entry]\u001B[A"
     ]
    },
    {
     "name": "stdout",
     "output_type": "stream",
     "text": [
      "Request failed with status code: 429\n",
      "Response: {\n",
      "    \"error\": {\n",
      "        \"message\": \"You exceeded your current quota, please check your plan and billing details. For more information on this error, read the docs: https://platform.openai.com/docs/guides/error-codes/api-errors.\",\n",
      "        \"type\": \"insufficient_quota\",\n",
      "        \"param\": null,\n",
      "        \"code\": \"insufficient_quota\"\n",
      "    }\n",
      "}\n",
      "\n",
      "Retry limit exceeded, returning empty result\n",
      "Request failed with status code: 429\n",
      "Response: {\n",
      "    \"error\": {\n",
      "        \"message\": \"You exceeded your current quota, please check your plan and billing details. For more information on this error, read the docs: https://platform.openai.com/docs/guides/error-codes/api-errors.\",\n",
      "        \"type\": \"insufficient_quota\",\n",
      "        \"param\": null,\n",
      "        \"code\": \"insufficient_quota\"\n",
      "    }\n",
      "}\n",
      "\n",
      "Request failed with status code: 429\n",
      "Response: {\n",
      "    \"error\": {\n",
      "        \"message\": \"You exceeded your current quota, please check your plan and billing details. For more information on this error, read the docs: https://platform.openai.com/docs/guides/error-codes/api-errors.\",\n",
      "        \"type\": \"insufficient_quota\",\n",
      "        \"param\": null,\n",
      "        \"code\": \"insufficient_quota\"\n",
      "    }\n",
      "}\n",
      "\n"
     ]
    },
    {
     "name": "stderr",
     "output_type": "stream",
     "text": [
      "\n",
      "Processing mushroom.it-tst.v1.jsonl:   6%|▌         | 9/150 [00:30<07:55,  3.37s/entry]\u001B[A"
     ]
    },
    {
     "name": "stdout",
     "output_type": "stream",
     "text": [
      "Request failed with status code: 429\n",
      "Response: {\n",
      "    \"error\": {\n",
      "        \"message\": \"You exceeded your current quota, please check your plan and billing details. For more information on this error, read the docs: https://platform.openai.com/docs/guides/error-codes/api-errors.\",\n",
      "        \"type\": \"insufficient_quota\",\n",
      "        \"param\": null,\n",
      "        \"code\": \"insufficient_quota\"\n",
      "    }\n",
      "}\n",
      "\n",
      "Retry limit exceeded, returning empty result\n",
      "Request failed with status code: 429\n",
      "Response: {\n",
      "    \"error\": {\n",
      "        \"message\": \"You exceeded your current quota, please check your plan and billing details. For more information on this error, read the docs: https://platform.openai.com/docs/guides/error-codes/api-errors.\",\n",
      "        \"type\": \"insufficient_quota\",\n",
      "        \"param\": null,\n",
      "        \"code\": \"insufficient_quota\"\n",
      "    }\n",
      "}\n",
      "\n",
      "Request failed with status code: 429\n",
      "Response: {\n",
      "    \"error\": {\n",
      "        \"message\": \"You exceeded your current quota, please check your plan and billing details. For more information on this error, read the docs: https://platform.openai.com/docs/guides/error-codes/api-errors.\",\n",
      "        \"type\": \"insufficient_quota\",\n",
      "        \"param\": null,\n",
      "        \"code\": \"insufficient_quota\"\n",
      "    }\n",
      "}\n",
      "\n"
     ]
    },
    {
     "name": "stderr",
     "output_type": "stream",
     "text": [
      "\n",
      "Processing mushroom.it-tst.v1.jsonl:   7%|▋         | 10/150 [00:33<07:54,  3.39s/entry]\u001B[A"
     ]
    },
    {
     "name": "stdout",
     "output_type": "stream",
     "text": [
      "Request failed with status code: 429\n",
      "Response: {\n",
      "    \"error\": {\n",
      "        \"message\": \"You exceeded your current quota, please check your plan and billing details. For more information on this error, read the docs: https://platform.openai.com/docs/guides/error-codes/api-errors.\",\n",
      "        \"type\": \"insufficient_quota\",\n",
      "        \"param\": null,\n",
      "        \"code\": \"insufficient_quota\"\n",
      "    }\n",
      "}\n",
      "\n",
      "Retry limit exceeded, returning empty result\n",
      "Request failed with status code: 429\n",
      "Response: {\n",
      "    \"error\": {\n",
      "        \"message\": \"You exceeded your current quota, please check your plan and billing details. For more information on this error, read the docs: https://platform.openai.com/docs/guides/error-codes/api-errors.\",\n",
      "        \"type\": \"insufficient_quota\",\n",
      "        \"param\": null,\n",
      "        \"code\": \"insufficient_quota\"\n",
      "    }\n",
      "}\n",
      "\n",
      "Request failed with status code: 429\n",
      "Response: {\n",
      "    \"error\": {\n",
      "        \"message\": \"You exceeded your current quota, please check your plan and billing details. For more information on this error, read the docs: https://platform.openai.com/docs/guides/error-codes/api-errors.\",\n",
      "        \"type\": \"insufficient_quota\",\n",
      "        \"param\": null,\n",
      "        \"code\": \"insufficient_quota\"\n",
      "    }\n",
      "}\n",
      "\n"
     ]
    },
    {
     "name": "stderr",
     "output_type": "stream",
     "text": [
      "\n",
      "Processing mushroom.it-tst.v1.jsonl:   7%|▋         | 11/150 [00:36<07:50,  3.39s/entry]\u001B[A"
     ]
    },
    {
     "name": "stdout",
     "output_type": "stream",
     "text": [
      "Request failed with status code: 429\n",
      "Response: {\n",
      "    \"error\": {\n",
      "        \"message\": \"You exceeded your current quota, please check your plan and billing details. For more information on this error, read the docs: https://platform.openai.com/docs/guides/error-codes/api-errors.\",\n",
      "        \"type\": \"insufficient_quota\",\n",
      "        \"param\": null,\n",
      "        \"code\": \"insufficient_quota\"\n",
      "    }\n",
      "}\n",
      "\n",
      "Retry limit exceeded, returning empty result\n",
      "Request failed with status code: 429\n",
      "Response: {\n",
      "    \"error\": {\n",
      "        \"message\": \"You exceeded your current quota, please check your plan and billing details. For more information on this error, read the docs: https://platform.openai.com/docs/guides/error-codes/api-errors.\",\n",
      "        \"type\": \"insufficient_quota\",\n",
      "        \"param\": null,\n",
      "        \"code\": \"insufficient_quota\"\n",
      "    }\n",
      "}\n",
      "\n",
      "Request failed with status code: 429\n",
      "Response: {\n",
      "    \"error\": {\n",
      "        \"message\": \"You exceeded your current quota, please check your plan and billing details. For more information on this error, read the docs: https://platform.openai.com/docs/guides/error-codes/api-errors.\",\n",
      "        \"type\": \"insufficient_quota\",\n",
      "        \"param\": null,\n",
      "        \"code\": \"insufficient_quota\"\n",
      "    }\n",
      "}\n",
      "\n"
     ]
    },
    {
     "name": "stderr",
     "output_type": "stream",
     "text": [
      "\n",
      "Processing mushroom.it-tst.v1.jsonl:   8%|▊         | 12/150 [00:40<07:41,  3.34s/entry]\u001B[A"
     ]
    },
    {
     "name": "stdout",
     "output_type": "stream",
     "text": [
      "Request failed with status code: 429\n",
      "Response: {\n",
      "    \"error\": {\n",
      "        \"message\": \"You exceeded your current quota, please check your plan and billing details. For more information on this error, read the docs: https://platform.openai.com/docs/guides/error-codes/api-errors.\",\n",
      "        \"type\": \"insufficient_quota\",\n",
      "        \"param\": null,\n",
      "        \"code\": \"insufficient_quota\"\n",
      "    }\n",
      "}\n",
      "\n",
      "Retry limit exceeded, returning empty result\n",
      "Request failed with status code: 429\n",
      "Response: {\n",
      "    \"error\": {\n",
      "        \"message\": \"You exceeded your current quota, please check your plan and billing details. For more information on this error, read the docs: https://platform.openai.com/docs/guides/error-codes/api-errors.\",\n",
      "        \"type\": \"insufficient_quota\",\n",
      "        \"param\": null,\n",
      "        \"code\": \"insufficient_quota\"\n",
      "    }\n",
      "}\n",
      "\n",
      "Request failed with status code: 429\n",
      "Response: {\n",
      "    \"error\": {\n",
      "        \"message\": \"You exceeded your current quota, please check your plan and billing details. For more information on this error, read the docs: https://platform.openai.com/docs/guides/error-codes/api-errors.\",\n",
      "        \"type\": \"insufficient_quota\",\n",
      "        \"param\": null,\n",
      "        \"code\": \"insufficient_quota\"\n",
      "    }\n",
      "}\n",
      "\n"
     ]
    },
    {
     "name": "stderr",
     "output_type": "stream",
     "text": [
      "\n",
      "Processing mushroom.it-tst.v1.jsonl:   9%|▊         | 13/150 [00:43<07:38,  3.34s/entry]\u001B[A"
     ]
    },
    {
     "name": "stdout",
     "output_type": "stream",
     "text": [
      "Request failed with status code: 429\n",
      "Response: {\n",
      "    \"error\": {\n",
      "        \"message\": \"You exceeded your current quota, please check your plan and billing details. For more information on this error, read the docs: https://platform.openai.com/docs/guides/error-codes/api-errors.\",\n",
      "        \"type\": \"insufficient_quota\",\n",
      "        \"param\": null,\n",
      "        \"code\": \"insufficient_quota\"\n",
      "    }\n",
      "}\n",
      "\n",
      "Retry limit exceeded, returning empty result\n",
      "Request failed with status code: 429\n",
      "Response: {\n",
      "    \"error\": {\n",
      "        \"message\": \"You exceeded your current quota, please check your plan and billing details. For more information on this error, read the docs: https://platform.openai.com/docs/guides/error-codes/api-errors.\",\n",
      "        \"type\": \"insufficient_quota\",\n",
      "        \"param\": null,\n",
      "        \"code\": \"insufficient_quota\"\n",
      "    }\n",
      "}\n",
      "\n",
      "Request failed with status code: 429\n",
      "Response: {\n",
      "    \"error\": {\n",
      "        \"message\": \"You exceeded your current quota, please check your plan and billing details. For more information on this error, read the docs: https://platform.openai.com/docs/guides/error-codes/api-errors.\",\n",
      "        \"type\": \"insufficient_quota\",\n",
      "        \"param\": null,\n",
      "        \"code\": \"insufficient_quota\"\n",
      "    }\n",
      "}\n",
      "\n"
     ]
    },
    {
     "name": "stderr",
     "output_type": "stream",
     "text": [
      "\n",
      "Processing mushroom.it-tst.v1.jsonl:   9%|▉         | 14/150 [00:46<07:38,  3.37s/entry]\u001B[A"
     ]
    },
    {
     "name": "stdout",
     "output_type": "stream",
     "text": [
      "Request failed with status code: 429\n",
      "Response: {\n",
      "    \"error\": {\n",
      "        \"message\": \"You exceeded your current quota, please check your plan and billing details. For more information on this error, read the docs: https://platform.openai.com/docs/guides/error-codes/api-errors.\",\n",
      "        \"type\": \"insufficient_quota\",\n",
      "        \"param\": null,\n",
      "        \"code\": \"insufficient_quota\"\n",
      "    }\n",
      "}\n",
      "\n",
      "Retry limit exceeded, returning empty result\n",
      "Request failed with status code: 429\n",
      "Response: {\n",
      "    \"error\": {\n",
      "        \"message\": \"You exceeded your current quota, please check your plan and billing details. For more information on this error, read the docs: https://platform.openai.com/docs/guides/error-codes/api-errors.\",\n",
      "        \"type\": \"insufficient_quota\",\n",
      "        \"param\": null,\n",
      "        \"code\": \"insufficient_quota\"\n",
      "    }\n",
      "}\n",
      "\n",
      "Request failed with status code: 429\n",
      "Response: {\n",
      "    \"error\": {\n",
      "        \"message\": \"You exceeded your current quota, please check your plan and billing details. For more information on this error, read the docs: https://platform.openai.com/docs/guides/error-codes/api-errors.\",\n",
      "        \"type\": \"insufficient_quota\",\n",
      "        \"param\": null,\n",
      "        \"code\": \"insufficient_quota\"\n",
      "    }\n",
      "}\n",
      "\n"
     ]
    },
    {
     "name": "stderr",
     "output_type": "stream",
     "text": [
      "\n",
      "Processing mushroom.it-tst.v1.jsonl:  10%|█         | 15/150 [00:50<07:31,  3.35s/entry]\u001B[A"
     ]
    },
    {
     "name": "stdout",
     "output_type": "stream",
     "text": [
      "Request failed with status code: 429\n",
      "Response: {\n",
      "    \"error\": {\n",
      "        \"message\": \"You exceeded your current quota, please check your plan and billing details. For more information on this error, read the docs: https://platform.openai.com/docs/guides/error-codes/api-errors.\",\n",
      "        \"type\": \"insufficient_quota\",\n",
      "        \"param\": null,\n",
      "        \"code\": \"insufficient_quota\"\n",
      "    }\n",
      "}\n",
      "\n",
      "Retry limit exceeded, returning empty result\n",
      "Request failed with status code: 429\n",
      "Response: {\n",
      "    \"error\": {\n",
      "        \"message\": \"You exceeded your current quota, please check your plan and billing details. For more information on this error, read the docs: https://platform.openai.com/docs/guides/error-codes/api-errors.\",\n",
      "        \"type\": \"insufficient_quota\",\n",
      "        \"param\": null,\n",
      "        \"code\": \"insufficient_quota\"\n",
      "    }\n",
      "}\n",
      "\n",
      "Request failed with status code: 429\n",
      "Response: {\n",
      "    \"error\": {\n",
      "        \"message\": \"You exceeded your current quota, please check your plan and billing details. For more information on this error, read the docs: https://platform.openai.com/docs/guides/error-codes/api-errors.\",\n",
      "        \"type\": \"insufficient_quota\",\n",
      "        \"param\": null,\n",
      "        \"code\": \"insufficient_quota\"\n",
      "    }\n",
      "}\n",
      "\n"
     ]
    },
    {
     "name": "stderr",
     "output_type": "stream",
     "text": [
      "\n",
      "Processing mushroom.it-tst.v1.jsonl:  11%|█         | 16/150 [00:53<07:25,  3.33s/entry]\u001B[A"
     ]
    },
    {
     "name": "stdout",
     "output_type": "stream",
     "text": [
      "Request failed with status code: 429\n",
      "Response: {\n",
      "    \"error\": {\n",
      "        \"message\": \"You exceeded your current quota, please check your plan and billing details. For more information on this error, read the docs: https://platform.openai.com/docs/guides/error-codes/api-errors.\",\n",
      "        \"type\": \"insufficient_quota\",\n",
      "        \"param\": null,\n",
      "        \"code\": \"insufficient_quota\"\n",
      "    }\n",
      "}\n",
      "\n",
      "Retry limit exceeded, returning empty result\n",
      "Request failed with status code: 429\n",
      "Response: {\n",
      "    \"error\": {\n",
      "        \"message\": \"You exceeded your current quota, please check your plan and billing details. For more information on this error, read the docs: https://platform.openai.com/docs/guides/error-codes/api-errors.\",\n",
      "        \"type\": \"insufficient_quota\",\n",
      "        \"param\": null,\n",
      "        \"code\": \"insufficient_quota\"\n",
      "    }\n",
      "}\n",
      "\n",
      "Request failed with status code: 429\n",
      "Response: {\n",
      "    \"error\": {\n",
      "        \"message\": \"You exceeded your current quota, please check your plan and billing details. For more information on this error, read the docs: https://platform.openai.com/docs/guides/error-codes/api-errors.\",\n",
      "        \"type\": \"insufficient_quota\",\n",
      "        \"param\": null,\n",
      "        \"code\": \"insufficient_quota\"\n",
      "    }\n",
      "}\n",
      "\n"
     ]
    },
    {
     "name": "stderr",
     "output_type": "stream",
     "text": [
      "\n",
      "Processing mushroom.it-tst.v1.jsonl:  11%|█▏        | 17/150 [00:56<07:20,  3.32s/entry]\u001B[A"
     ]
    },
    {
     "name": "stdout",
     "output_type": "stream",
     "text": [
      "Request failed with status code: 429\n",
      "Response: {\n",
      "    \"error\": {\n",
      "        \"message\": \"You exceeded your current quota, please check your plan and billing details. For more information on this error, read the docs: https://platform.openai.com/docs/guides/error-codes/api-errors.\",\n",
      "        \"type\": \"insufficient_quota\",\n",
      "        \"param\": null,\n",
      "        \"code\": \"insufficient_quota\"\n",
      "    }\n",
      "}\n",
      "\n",
      "Retry limit exceeded, returning empty result\n",
      "Request failed with status code: 429\n",
      "Response: {\n",
      "    \"error\": {\n",
      "        \"message\": \"You exceeded your current quota, please check your plan and billing details. For more information on this error, read the docs: https://platform.openai.com/docs/guides/error-codes/api-errors.\",\n",
      "        \"type\": \"insufficient_quota\",\n",
      "        \"param\": null,\n",
      "        \"code\": \"insufficient_quota\"\n",
      "    }\n",
      "}\n",
      "\n",
      "Request failed with status code: 429\n",
      "Response: {\n",
      "    \"error\": {\n",
      "        \"message\": \"You exceeded your current quota, please check your plan and billing details. For more information on this error, read the docs: https://platform.openai.com/docs/guides/error-codes/api-errors.\",\n",
      "        \"type\": \"insufficient_quota\",\n",
      "        \"param\": null,\n",
      "        \"code\": \"insufficient_quota\"\n",
      "    }\n",
      "}\n",
      "\n"
     ]
    },
    {
     "name": "stderr",
     "output_type": "stream",
     "text": [
      "\n",
      "Processing mushroom.it-tst.v1.jsonl:  12%|█▏        | 18/150 [01:00<07:18,  3.32s/entry]\u001B[A"
     ]
    },
    {
     "name": "stdout",
     "output_type": "stream",
     "text": [
      "Request failed with status code: 429\n",
      "Response: {\n",
      "    \"error\": {\n",
      "        \"message\": \"You exceeded your current quota, please check your plan and billing details. For more information on this error, read the docs: https://platform.openai.com/docs/guides/error-codes/api-errors.\",\n",
      "        \"type\": \"insufficient_quota\",\n",
      "        \"param\": null,\n",
      "        \"code\": \"insufficient_quota\"\n",
      "    }\n",
      "}\n",
      "\n",
      "Retry limit exceeded, returning empty result\n",
      "Request failed with status code: 429\n",
      "Response: {\n",
      "    \"error\": {\n",
      "        \"message\": \"You exceeded your current quota, please check your plan and billing details. For more information on this error, read the docs: https://platform.openai.com/docs/guides/error-codes/api-errors.\",\n",
      "        \"type\": \"insufficient_quota\",\n",
      "        \"param\": null,\n",
      "        \"code\": \"insufficient_quota\"\n",
      "    }\n",
      "}\n",
      "\n",
      "Request failed with status code: 429\n",
      "Response: {\n",
      "    \"error\": {\n",
      "        \"message\": \"You exceeded your current quota, please check your plan and billing details. For more information on this error, read the docs: https://platform.openai.com/docs/guides/error-codes/api-errors.\",\n",
      "        \"type\": \"insufficient_quota\",\n",
      "        \"param\": null,\n",
      "        \"code\": \"insufficient_quota\"\n",
      "    }\n",
      "}\n",
      "\n"
     ]
    },
    {
     "name": "stderr",
     "output_type": "stream",
     "text": [
      "\n",
      "Processing mushroom.it-tst.v1.jsonl:  13%|█▎        | 19/150 [01:03<07:18,  3.35s/entry]\u001B[A"
     ]
    },
    {
     "name": "stdout",
     "output_type": "stream",
     "text": [
      "Request failed with status code: 429\n",
      "Response: {\n",
      "    \"error\": {\n",
      "        \"message\": \"You exceeded your current quota, please check your plan and billing details. For more information on this error, read the docs: https://platform.openai.com/docs/guides/error-codes/api-errors.\",\n",
      "        \"type\": \"insufficient_quota\",\n",
      "        \"param\": null,\n",
      "        \"code\": \"insufficient_quota\"\n",
      "    }\n",
      "}\n",
      "\n",
      "Retry limit exceeded, returning empty result\n",
      "Request failed with status code: 429\n",
      "Response: {\n",
      "    \"error\": {\n",
      "        \"message\": \"You exceeded your current quota, please check your plan and billing details. For more information on this error, read the docs: https://platform.openai.com/docs/guides/error-codes/api-errors.\",\n",
      "        \"type\": \"insufficient_quota\",\n",
      "        \"param\": null,\n",
      "        \"code\": \"insufficient_quota\"\n",
      "    }\n",
      "}\n",
      "\n",
      "Request failed with status code: 429\n",
      "Response: {\n",
      "    \"error\": {\n",
      "        \"message\": \"You exceeded your current quota, please check your plan and billing details. For more information on this error, read the docs: https://platform.openai.com/docs/guides/error-codes/api-errors.\",\n",
      "        \"type\": \"insufficient_quota\",\n",
      "        \"param\": null,\n",
      "        \"code\": \"insufficient_quota\"\n",
      "    }\n",
      "}\n",
      "\n"
     ]
    },
    {
     "name": "stderr",
     "output_type": "stream",
     "text": [
      "\n",
      "Processing mushroom.it-tst.v1.jsonl:  13%|█▎        | 20/150 [01:06<07:19,  3.38s/entry]\u001B[A"
     ]
    },
    {
     "name": "stdout",
     "output_type": "stream",
     "text": [
      "Request failed with status code: 429\n",
      "Response: {\n",
      "    \"error\": {\n",
      "        \"message\": \"You exceeded your current quota, please check your plan and billing details. For more information on this error, read the docs: https://platform.openai.com/docs/guides/error-codes/api-errors.\",\n",
      "        \"type\": \"insufficient_quota\",\n",
      "        \"param\": null,\n",
      "        \"code\": \"insufficient_quota\"\n",
      "    }\n",
      "}\n",
      "\n",
      "Retry limit exceeded, returning empty result\n",
      "Request failed with status code: 429\n",
      "Response: {\n",
      "    \"error\": {\n",
      "        \"message\": \"You exceeded your current quota, please check your plan and billing details. For more information on this error, read the docs: https://platform.openai.com/docs/guides/error-codes/api-errors.\",\n",
      "        \"type\": \"insufficient_quota\",\n",
      "        \"param\": null,\n",
      "        \"code\": \"insufficient_quota\"\n",
      "    }\n",
      "}\n",
      "\n",
      "Request failed with status code: 429\n",
      "Response: {\n",
      "    \"error\": {\n",
      "        \"message\": \"You exceeded your current quota, please check your plan and billing details. For more information on this error, read the docs: https://platform.openai.com/docs/guides/error-codes/api-errors.\",\n",
      "        \"type\": \"insufficient_quota\",\n",
      "        \"param\": null,\n",
      "        \"code\": \"insufficient_quota\"\n",
      "    }\n",
      "}\n",
      "\n"
     ]
    },
    {
     "name": "stderr",
     "output_type": "stream",
     "text": [
      "\n",
      "Processing mushroom.it-tst.v1.jsonl:  14%|█▍        | 21/150 [01:10<07:15,  3.38s/entry]\u001B[A"
     ]
    },
    {
     "name": "stdout",
     "output_type": "stream",
     "text": [
      "Request failed with status code: 429\n",
      "Response: {\n",
      "    \"error\": {\n",
      "        \"message\": \"You exceeded your current quota, please check your plan and billing details. For more information on this error, read the docs: https://platform.openai.com/docs/guides/error-codes/api-errors.\",\n",
      "        \"type\": \"insufficient_quota\",\n",
      "        \"param\": null,\n",
      "        \"code\": \"insufficient_quota\"\n",
      "    }\n",
      "}\n",
      "\n",
      "Retry limit exceeded, returning empty result\n",
      "Request failed with status code: 429\n",
      "Response: {\n",
      "    \"error\": {\n",
      "        \"message\": \"You exceeded your current quota, please check your plan and billing details. For more information on this error, read the docs: https://platform.openai.com/docs/guides/error-codes/api-errors.\",\n",
      "        \"type\": \"insufficient_quota\",\n",
      "        \"param\": null,\n",
      "        \"code\": \"insufficient_quota\"\n",
      "    }\n",
      "}\n",
      "\n",
      "Request failed with status code: 429\n",
      "Response: {\n",
      "    \"error\": {\n",
      "        \"message\": \"You exceeded your current quota, please check your plan and billing details. For more information on this error, read the docs: https://platform.openai.com/docs/guides/error-codes/api-errors.\",\n",
      "        \"type\": \"insufficient_quota\",\n",
      "        \"param\": null,\n",
      "        \"code\": \"insufficient_quota\"\n",
      "    }\n",
      "}\n",
      "\n"
     ]
    },
    {
     "name": "stderr",
     "output_type": "stream",
     "text": [
      "\n",
      "Processing mushroom.it-tst.v1.jsonl:  15%|█▍        | 22/150 [01:13<07:11,  3.37s/entry]\u001B[A"
     ]
    },
    {
     "name": "stdout",
     "output_type": "stream",
     "text": [
      "Request failed with status code: 429\n",
      "Response: {\n",
      "    \"error\": {\n",
      "        \"message\": \"You exceeded your current quota, please check your plan and billing details. For more information on this error, read the docs: https://platform.openai.com/docs/guides/error-codes/api-errors.\",\n",
      "        \"type\": \"insufficient_quota\",\n",
      "        \"param\": null,\n",
      "        \"code\": \"insufficient_quota\"\n",
      "    }\n",
      "}\n",
      "\n",
      "Retry limit exceeded, returning empty result\n",
      "Request failed with status code: 429\n",
      "Response: {\n",
      "    \"error\": {\n",
      "        \"message\": \"You exceeded your current quota, please check your plan and billing details. For more information on this error, read the docs: https://platform.openai.com/docs/guides/error-codes/api-errors.\",\n",
      "        \"type\": \"insufficient_quota\",\n",
      "        \"param\": null,\n",
      "        \"code\": \"insufficient_quota\"\n",
      "    }\n",
      "}\n",
      "\n",
      "Request failed with status code: 429\n",
      "Response: {\n",
      "    \"error\": {\n",
      "        \"message\": \"You exceeded your current quota, please check your plan and billing details. For more information on this error, read the docs: https://platform.openai.com/docs/guides/error-codes/api-errors.\",\n",
      "        \"type\": \"insufficient_quota\",\n",
      "        \"param\": null,\n",
      "        \"code\": \"insufficient_quota\"\n",
      "    }\n",
      "}\n",
      "\n"
     ]
    },
    {
     "name": "stderr",
     "output_type": "stream",
     "text": [
      "\n",
      "Processing mushroom.it-tst.v1.jsonl:  15%|█▌        | 23/150 [01:17<07:06,  3.36s/entry]\u001B[A"
     ]
    },
    {
     "name": "stdout",
     "output_type": "stream",
     "text": [
      "Request failed with status code: 429\n",
      "Response: {\n",
      "    \"error\": {\n",
      "        \"message\": \"You exceeded your current quota, please check your plan and billing details. For more information on this error, read the docs: https://platform.openai.com/docs/guides/error-codes/api-errors.\",\n",
      "        \"type\": \"insufficient_quota\",\n",
      "        \"param\": null,\n",
      "        \"code\": \"insufficient_quota\"\n",
      "    }\n",
      "}\n",
      "\n",
      "Retry limit exceeded, returning empty result\n",
      "Request failed with status code: 429\n",
      "Response: {\n",
      "    \"error\": {\n",
      "        \"message\": \"You exceeded your current quota, please check your plan and billing details. For more information on this error, read the docs: https://platform.openai.com/docs/guides/error-codes/api-errors.\",\n",
      "        \"type\": \"insufficient_quota\",\n",
      "        \"param\": null,\n",
      "        \"code\": \"insufficient_quota\"\n",
      "    }\n",
      "}\n",
      "\n",
      "Request failed with status code: 429\n",
      "Response: {\n",
      "    \"error\": {\n",
      "        \"message\": \"You exceeded your current quota, please check your plan and billing details. For more information on this error, read the docs: https://platform.openai.com/docs/guides/error-codes/api-errors.\",\n",
      "        \"type\": \"insufficient_quota\",\n",
      "        \"param\": null,\n",
      "        \"code\": \"insufficient_quota\"\n",
      "    }\n",
      "}\n",
      "\n"
     ]
    },
    {
     "name": "stderr",
     "output_type": "stream",
     "text": [
      "\n",
      "Processing mushroom.it-tst.v1.jsonl:  16%|█▌        | 24/150 [01:20<06:59,  3.33s/entry]\u001B[A"
     ]
    },
    {
     "name": "stdout",
     "output_type": "stream",
     "text": [
      "Request failed with status code: 429\n",
      "Response: {\n",
      "    \"error\": {\n",
      "        \"message\": \"You exceeded your current quota, please check your plan and billing details. For more information on this error, read the docs: https://platform.openai.com/docs/guides/error-codes/api-errors.\",\n",
      "        \"type\": \"insufficient_quota\",\n",
      "        \"param\": null,\n",
      "        \"code\": \"insufficient_quota\"\n",
      "    }\n",
      "}\n",
      "\n",
      "Retry limit exceeded, returning empty result\n",
      "Request failed with status code: 429\n",
      "Response: {\n",
      "    \"error\": {\n",
      "        \"message\": \"You exceeded your current quota, please check your plan and billing details. For more information on this error, read the docs: https://platform.openai.com/docs/guides/error-codes/api-errors.\",\n",
      "        \"type\": \"insufficient_quota\",\n",
      "        \"param\": null,\n",
      "        \"code\": \"insufficient_quota\"\n",
      "    }\n",
      "}\n",
      "\n",
      "Request failed with status code: 429\n",
      "Response: {\n",
      "    \"error\": {\n",
      "        \"message\": \"You exceeded your current quota, please check your plan and billing details. For more information on this error, read the docs: https://platform.openai.com/docs/guides/error-codes/api-errors.\",\n",
      "        \"type\": \"insufficient_quota\",\n",
      "        \"param\": null,\n",
      "        \"code\": \"insufficient_quota\"\n",
      "    }\n",
      "}\n",
      "\n"
     ]
    },
    {
     "name": "stderr",
     "output_type": "stream",
     "text": [
      "\n",
      "Processing mushroom.it-tst.v1.jsonl:  17%|█▋        | 25/150 [01:23<07:01,  3.37s/entry]\u001B[A"
     ]
    },
    {
     "name": "stdout",
     "output_type": "stream",
     "text": [
      "Request failed with status code: 429\n",
      "Response: {\n",
      "    \"error\": {\n",
      "        \"message\": \"You exceeded your current quota, please check your plan and billing details. For more information on this error, read the docs: https://platform.openai.com/docs/guides/error-codes/api-errors.\",\n",
      "        \"type\": \"insufficient_quota\",\n",
      "        \"param\": null,\n",
      "        \"code\": \"insufficient_quota\"\n",
      "    }\n",
      "}\n",
      "\n",
      "Retry limit exceeded, returning empty result\n",
      "Request failed with status code: 429\n",
      "Response: {\n",
      "    \"error\": {\n",
      "        \"message\": \"You exceeded your current quota, please check your plan and billing details. For more information on this error, read the docs: https://platform.openai.com/docs/guides/error-codes/api-errors.\",\n",
      "        \"type\": \"insufficient_quota\",\n",
      "        \"param\": null,\n",
      "        \"code\": \"insufficient_quota\"\n",
      "    }\n",
      "}\n",
      "\n",
      "Request failed with status code: 429\n",
      "Response: {\n",
      "    \"error\": {\n",
      "        \"message\": \"You exceeded your current quota, please check your plan and billing details. For more information on this error, read the docs: https://platform.openai.com/docs/guides/error-codes/api-errors.\",\n",
      "        \"type\": \"insufficient_quota\",\n",
      "        \"param\": null,\n",
      "        \"code\": \"insufficient_quota\"\n",
      "    }\n",
      "}\n",
      "\n"
     ]
    },
    {
     "name": "stderr",
     "output_type": "stream",
     "text": [
      "\n",
      "Processing mushroom.it-tst.v1.jsonl:  17%|█▋        | 26/150 [01:27<06:57,  3.37s/entry]\u001B[A"
     ]
    },
    {
     "name": "stdout",
     "output_type": "stream",
     "text": [
      "Request failed with status code: 429\n",
      "Response: {\n",
      "    \"error\": {\n",
      "        \"message\": \"You exceeded your current quota, please check your plan and billing details. For more information on this error, read the docs: https://platform.openai.com/docs/guides/error-codes/api-errors.\",\n",
      "        \"type\": \"insufficient_quota\",\n",
      "        \"param\": null,\n",
      "        \"code\": \"insufficient_quota\"\n",
      "    }\n",
      "}\n",
      "\n",
      "Retry limit exceeded, returning empty result\n",
      "Request failed with status code: 429\n",
      "Response: {\n",
      "    \"error\": {\n",
      "        \"message\": \"You exceeded your current quota, please check your plan and billing details. For more information on this error, read the docs: https://platform.openai.com/docs/guides/error-codes/api-errors.\",\n",
      "        \"type\": \"insufficient_quota\",\n",
      "        \"param\": null,\n",
      "        \"code\": \"insufficient_quota\"\n",
      "    }\n",
      "}\n",
      "\n",
      "Request failed with status code: 429\n",
      "Response: {\n",
      "    \"error\": {\n",
      "        \"message\": \"You exceeded your current quota, please check your plan and billing details. For more information on this error, read the docs: https://platform.openai.com/docs/guides/error-codes/api-errors.\",\n",
      "        \"type\": \"insufficient_quota\",\n",
      "        \"param\": null,\n",
      "        \"code\": \"insufficient_quota\"\n",
      "    }\n",
      "}\n",
      "\n"
     ]
    },
    {
     "name": "stderr",
     "output_type": "stream",
     "text": [
      "\n",
      "Processing mushroom.it-tst.v1.jsonl:  18%|█▊        | 27/150 [01:30<06:52,  3.35s/entry]\u001B[A"
     ]
    },
    {
     "name": "stdout",
     "output_type": "stream",
     "text": [
      "Request failed with status code: 429\n",
      "Response: {\n",
      "    \"error\": {\n",
      "        \"message\": \"You exceeded your current quota, please check your plan and billing details. For more information on this error, read the docs: https://platform.openai.com/docs/guides/error-codes/api-errors.\",\n",
      "        \"type\": \"insufficient_quota\",\n",
      "        \"param\": null,\n",
      "        \"code\": \"insufficient_quota\"\n",
      "    }\n",
      "}\n",
      "\n",
      "Retry limit exceeded, returning empty result\n",
      "Request failed with status code: 429\n",
      "Response: {\n",
      "    \"error\": {\n",
      "        \"message\": \"You exceeded your current quota, please check your plan and billing details. For more information on this error, read the docs: https://platform.openai.com/docs/guides/error-codes/api-errors.\",\n",
      "        \"type\": \"insufficient_quota\",\n",
      "        \"param\": null,\n",
      "        \"code\": \"insufficient_quota\"\n",
      "    }\n",
      "}\n",
      "\n",
      "Request failed with status code: 429\n",
      "Response: {\n",
      "    \"error\": {\n",
      "        \"message\": \"You exceeded your current quota, please check your plan and billing details. For more information on this error, read the docs: https://platform.openai.com/docs/guides/error-codes/api-errors.\",\n",
      "        \"type\": \"insufficient_quota\",\n",
      "        \"param\": null,\n",
      "        \"code\": \"insufficient_quota\"\n",
      "    }\n",
      "}\n",
      "\n"
     ]
    },
    {
     "name": "stderr",
     "output_type": "stream",
     "text": [
      "\n",
      "Processing mushroom.it-tst.v1.jsonl:  19%|█▊        | 28/150 [01:33<06:47,  3.34s/entry]\u001B[A"
     ]
    },
    {
     "name": "stdout",
     "output_type": "stream",
     "text": [
      "Request failed with status code: 429\n",
      "Response: {\n",
      "    \"error\": {\n",
      "        \"message\": \"You exceeded your current quota, please check your plan and billing details. For more information on this error, read the docs: https://platform.openai.com/docs/guides/error-codes/api-errors.\",\n",
      "        \"type\": \"insufficient_quota\",\n",
      "        \"param\": null,\n",
      "        \"code\": \"insufficient_quota\"\n",
      "    }\n",
      "}\n",
      "\n",
      "Retry limit exceeded, returning empty result\n",
      "Request failed with status code: 429\n",
      "Response: {\n",
      "    \"error\": {\n",
      "        \"message\": \"You exceeded your current quota, please check your plan and billing details. For more information on this error, read the docs: https://platform.openai.com/docs/guides/error-codes/api-errors.\",\n",
      "        \"type\": \"insufficient_quota\",\n",
      "        \"param\": null,\n",
      "        \"code\": \"insufficient_quota\"\n",
      "    }\n",
      "}\n",
      "\n",
      "Request failed with status code: 429\n",
      "Response: {\n",
      "    \"error\": {\n",
      "        \"message\": \"You exceeded your current quota, please check your plan and billing details. For more information on this error, read the docs: https://platform.openai.com/docs/guides/error-codes/api-errors.\",\n",
      "        \"type\": \"insufficient_quota\",\n",
      "        \"param\": null,\n",
      "        \"code\": \"insufficient_quota\"\n",
      "    }\n",
      "}\n",
      "\n"
     ]
    },
    {
     "name": "stderr",
     "output_type": "stream",
     "text": [
      "\n",
      "Processing mushroom.it-tst.v1.jsonl:  19%|█▉        | 29/150 [01:37<06:44,  3.35s/entry]\u001B[A"
     ]
    },
    {
     "name": "stdout",
     "output_type": "stream",
     "text": [
      "Request failed with status code: 429\n",
      "Response: {\n",
      "    \"error\": {\n",
      "        \"message\": \"You exceeded your current quota, please check your plan and billing details. For more information on this error, read the docs: https://platform.openai.com/docs/guides/error-codes/api-errors.\",\n",
      "        \"type\": \"insufficient_quota\",\n",
      "        \"param\": null,\n",
      "        \"code\": \"insufficient_quota\"\n",
      "    }\n",
      "}\n",
      "\n",
      "Retry limit exceeded, returning empty result\n",
      "Request failed with status code: 429\n",
      "Response: {\n",
      "    \"error\": {\n",
      "        \"message\": \"You exceeded your current quota, please check your plan and billing details. For more information on this error, read the docs: https://platform.openai.com/docs/guides/error-codes/api-errors.\",\n",
      "        \"type\": \"insufficient_quota\",\n",
      "        \"param\": null,\n",
      "        \"code\": \"insufficient_quota\"\n",
      "    }\n",
      "}\n",
      "\n",
      "Request failed with status code: 429\n",
      "Response: {\n",
      "    \"error\": {\n",
      "        \"message\": \"You exceeded your current quota, please check your plan and billing details. For more information on this error, read the docs: https://platform.openai.com/docs/guides/error-codes/api-errors.\",\n",
      "        \"type\": \"insufficient_quota\",\n",
      "        \"param\": null,\n",
      "        \"code\": \"insufficient_quota\"\n",
      "    }\n",
      "}\n",
      "\n"
     ]
    },
    {
     "name": "stderr",
     "output_type": "stream",
     "text": [
      "\n",
      "Processing mushroom.it-tst.v1.jsonl:  20%|██        | 30/150 [01:40<06:38,  3.32s/entry]\u001B[A"
     ]
    },
    {
     "name": "stdout",
     "output_type": "stream",
     "text": [
      "Request failed with status code: 429\n",
      "Response: {\n",
      "    \"error\": {\n",
      "        \"message\": \"You exceeded your current quota, please check your plan and billing details. For more information on this error, read the docs: https://platform.openai.com/docs/guides/error-codes/api-errors.\",\n",
      "        \"type\": \"insufficient_quota\",\n",
      "        \"param\": null,\n",
      "        \"code\": \"insufficient_quota\"\n",
      "    }\n",
      "}\n",
      "\n",
      "Retry limit exceeded, returning empty result\n",
      "Request failed with status code: 429\n",
      "Response: {\n",
      "    \"error\": {\n",
      "        \"message\": \"You exceeded your current quota, please check your plan and billing details. For more information on this error, read the docs: https://platform.openai.com/docs/guides/error-codes/api-errors.\",\n",
      "        \"type\": \"insufficient_quota\",\n",
      "        \"param\": null,\n",
      "        \"code\": \"insufficient_quota\"\n",
      "    }\n",
      "}\n",
      "\n",
      "Request failed with status code: 429\n",
      "Response: {\n",
      "    \"error\": {\n",
      "        \"message\": \"You exceeded your current quota, please check your plan and billing details. For more information on this error, read the docs: https://platform.openai.com/docs/guides/error-codes/api-errors.\",\n",
      "        \"type\": \"insufficient_quota\",\n",
      "        \"param\": null,\n",
      "        \"code\": \"insufficient_quota\"\n",
      "    }\n",
      "}\n",
      "\n"
     ]
    },
    {
     "name": "stderr",
     "output_type": "stream",
     "text": [
      "\n",
      "Processing mushroom.it-tst.v1.jsonl:  21%|██        | 31/150 [01:43<06:34,  3.32s/entry]\u001B[A"
     ]
    },
    {
     "name": "stdout",
     "output_type": "stream",
     "text": [
      "Request failed with status code: 429\n",
      "Response: {\n",
      "    \"error\": {\n",
      "        \"message\": \"You exceeded your current quota, please check your plan and billing details. For more information on this error, read the docs: https://platform.openai.com/docs/guides/error-codes/api-errors.\",\n",
      "        \"type\": \"insufficient_quota\",\n",
      "        \"param\": null,\n",
      "        \"code\": \"insufficient_quota\"\n",
      "    }\n",
      "}\n",
      "\n",
      "Retry limit exceeded, returning empty result\n",
      "Request failed with status code: 429\n",
      "Response: {\n",
      "    \"error\": {\n",
      "        \"message\": \"You exceeded your current quota, please check your plan and billing details. For more information on this error, read the docs: https://platform.openai.com/docs/guides/error-codes/api-errors.\",\n",
      "        \"type\": \"insufficient_quota\",\n",
      "        \"param\": null,\n",
      "        \"code\": \"insufficient_quota\"\n",
      "    }\n",
      "}\n",
      "\n",
      "Request failed with status code: 429\n",
      "Response: {\n",
      "    \"error\": {\n",
      "        \"message\": \"You exceeded your current quota, please check your plan and billing details. For more information on this error, read the docs: https://platform.openai.com/docs/guides/error-codes/api-errors.\",\n",
      "        \"type\": \"insufficient_quota\",\n",
      "        \"param\": null,\n",
      "        \"code\": \"insufficient_quota\"\n",
      "    }\n",
      "}\n",
      "\n"
     ]
    },
    {
     "name": "stderr",
     "output_type": "stream",
     "text": [
      "\n",
      "Processing mushroom.it-tst.v1.jsonl:  21%|██▏       | 32/150 [01:46<06:28,  3.29s/entry]\u001B[A"
     ]
    },
    {
     "name": "stdout",
     "output_type": "stream",
     "text": [
      "Request failed with status code: 429\n",
      "Response: {\n",
      "    \"error\": {\n",
      "        \"message\": \"You exceeded your current quota, please check your plan and billing details. For more information on this error, read the docs: https://platform.openai.com/docs/guides/error-codes/api-errors.\",\n",
      "        \"type\": \"insufficient_quota\",\n",
      "        \"param\": null,\n",
      "        \"code\": \"insufficient_quota\"\n",
      "    }\n",
      "}\n",
      "\n",
      "Retry limit exceeded, returning empty result\n",
      "Request failed with status code: 429\n",
      "Response: {\n",
      "    \"error\": {\n",
      "        \"message\": \"You exceeded your current quota, please check your plan and billing details. For more information on this error, read the docs: https://platform.openai.com/docs/guides/error-codes/api-errors.\",\n",
      "        \"type\": \"insufficient_quota\",\n",
      "        \"param\": null,\n",
      "        \"code\": \"insufficient_quota\"\n",
      "    }\n",
      "}\n",
      "\n",
      "Request failed with status code: 429\n",
      "Response: {\n",
      "    \"error\": {\n",
      "        \"message\": \"You exceeded your current quota, please check your plan and billing details. For more information on this error, read the docs: https://platform.openai.com/docs/guides/error-codes/api-errors.\",\n",
      "        \"type\": \"insufficient_quota\",\n",
      "        \"param\": null,\n",
      "        \"code\": \"insufficient_quota\"\n",
      "    }\n",
      "}\n",
      "\n"
     ]
    },
    {
     "name": "stderr",
     "output_type": "stream",
     "text": [
      "\n",
      "Processing mushroom.it-tst.v1.jsonl:  22%|██▏       | 33/150 [01:50<06:25,  3.29s/entry]\u001B[A"
     ]
    },
    {
     "name": "stdout",
     "output_type": "stream",
     "text": [
      "Request failed with status code: 429\n",
      "Response: {\n",
      "    \"error\": {\n",
      "        \"message\": \"You exceeded your current quota, please check your plan and billing details. For more information on this error, read the docs: https://platform.openai.com/docs/guides/error-codes/api-errors.\",\n",
      "        \"type\": \"insufficient_quota\",\n",
      "        \"param\": null,\n",
      "        \"code\": \"insufficient_quota\"\n",
      "    }\n",
      "}\n",
      "\n",
      "Retry limit exceeded, returning empty result\n",
      "Request failed with status code: 429\n",
      "Response: {\n",
      "    \"error\": {\n",
      "        \"message\": \"You exceeded your current quota, please check your plan and billing details. For more information on this error, read the docs: https://platform.openai.com/docs/guides/error-codes/api-errors.\",\n",
      "        \"type\": \"insufficient_quota\",\n",
      "        \"param\": null,\n",
      "        \"code\": \"insufficient_quota\"\n",
      "    }\n",
      "}\n",
      "\n",
      "Request failed with status code: 429\n",
      "Response: {\n",
      "    \"error\": {\n",
      "        \"message\": \"You exceeded your current quota, please check your plan and billing details. For more information on this error, read the docs: https://platform.openai.com/docs/guides/error-codes/api-errors.\",\n",
      "        \"type\": \"insufficient_quota\",\n",
      "        \"param\": null,\n",
      "        \"code\": \"insufficient_quota\"\n",
      "    }\n",
      "}\n",
      "\n"
     ]
    },
    {
     "name": "stderr",
     "output_type": "stream",
     "text": [
      "\n",
      "Processing mushroom.it-tst.v1.jsonl:  23%|██▎       | 34/150 [01:53<06:34,  3.40s/entry]\u001B[A"
     ]
    },
    {
     "name": "stdout",
     "output_type": "stream",
     "text": [
      "Request failed with status code: 429\n",
      "Response: {\n",
      "    \"error\": {\n",
      "        \"message\": \"You exceeded your current quota, please check your plan and billing details. For more information on this error, read the docs: https://platform.openai.com/docs/guides/error-codes/api-errors.\",\n",
      "        \"type\": \"insufficient_quota\",\n",
      "        \"param\": null,\n",
      "        \"code\": \"insufficient_quota\"\n",
      "    }\n",
      "}\n",
      "\n",
      "Retry limit exceeded, returning empty result\n",
      "Request failed with status code: 429\n",
      "Response: {\n",
      "    \"error\": {\n",
      "        \"message\": \"You exceeded your current quota, please check your plan and billing details. For more information on this error, read the docs: https://platform.openai.com/docs/guides/error-codes/api-errors.\",\n",
      "        \"type\": \"insufficient_quota\",\n",
      "        \"param\": null,\n",
      "        \"code\": \"insufficient_quota\"\n",
      "    }\n",
      "}\n",
      "\n",
      "Request failed with status code: 429\n",
      "Response: {\n",
      "    \"error\": {\n",
      "        \"message\": \"You exceeded your current quota, please check your plan and billing details. For more information on this error, read the docs: https://platform.openai.com/docs/guides/error-codes/api-errors.\",\n",
      "        \"type\": \"insufficient_quota\",\n",
      "        \"param\": null,\n",
      "        \"code\": \"insufficient_quota\"\n",
      "    }\n",
      "}\n",
      "\n"
     ]
    },
    {
     "name": "stderr",
     "output_type": "stream",
     "text": [
      "\n",
      "Processing mushroom.it-tst.v1.jsonl:  23%|██▎       | 35/150 [01:57<06:26,  3.36s/entry]\u001B[A"
     ]
    },
    {
     "name": "stdout",
     "output_type": "stream",
     "text": [
      "Request failed with status code: 429\n",
      "Response: {\n",
      "    \"error\": {\n",
      "        \"message\": \"You exceeded your current quota, please check your plan and billing details. For more information on this error, read the docs: https://platform.openai.com/docs/guides/error-codes/api-errors.\",\n",
      "        \"type\": \"insufficient_quota\",\n",
      "        \"param\": null,\n",
      "        \"code\": \"insufficient_quota\"\n",
      "    }\n",
      "}\n",
      "\n",
      "Retry limit exceeded, returning empty result\n",
      "Request failed with status code: 429\n",
      "Response: {\n",
      "    \"error\": {\n",
      "        \"message\": \"You exceeded your current quota, please check your plan and billing details. For more information on this error, read the docs: https://platform.openai.com/docs/guides/error-codes/api-errors.\",\n",
      "        \"type\": \"insufficient_quota\",\n",
      "        \"param\": null,\n",
      "        \"code\": \"insufficient_quota\"\n",
      "    }\n",
      "}\n",
      "\n",
      "Request failed with status code: 429\n",
      "Response: {\n",
      "    \"error\": {\n",
      "        \"message\": \"You exceeded your current quota, please check your plan and billing details. For more information on this error, read the docs: https://platform.openai.com/docs/guides/error-codes/api-errors.\",\n",
      "        \"type\": \"insufficient_quota\",\n",
      "        \"param\": null,\n",
      "        \"code\": \"insufficient_quota\"\n",
      "    }\n",
      "}\n",
      "\n"
     ]
    },
    {
     "name": "stderr",
     "output_type": "stream",
     "text": [
      "\n",
      "Processing mushroom.it-tst.v1.jsonl:  24%|██▍       | 36/150 [02:00<06:21,  3.35s/entry]\u001B[A"
     ]
    },
    {
     "name": "stdout",
     "output_type": "stream",
     "text": [
      "Request failed with status code: 429\n",
      "Response: {\n",
      "    \"error\": {\n",
      "        \"message\": \"You exceeded your current quota, please check your plan and billing details. For more information on this error, read the docs: https://platform.openai.com/docs/guides/error-codes/api-errors.\",\n",
      "        \"type\": \"insufficient_quota\",\n",
      "        \"param\": null,\n",
      "        \"code\": \"insufficient_quota\"\n",
      "    }\n",
      "}\n",
      "\n",
      "Retry limit exceeded, returning empty result\n",
      "Request failed with status code: 429\n",
      "Response: {\n",
      "    \"error\": {\n",
      "        \"message\": \"You exceeded your current quota, please check your plan and billing details. For more information on this error, read the docs: https://platform.openai.com/docs/guides/error-codes/api-errors.\",\n",
      "        \"type\": \"insufficient_quota\",\n",
      "        \"param\": null,\n",
      "        \"code\": \"insufficient_quota\"\n",
      "    }\n",
      "}\n",
      "\n",
      "Request failed with status code: 429\n",
      "Response: {\n",
      "    \"error\": {\n",
      "        \"message\": \"You exceeded your current quota, please check your plan and billing details. For more information on this error, read the docs: https://platform.openai.com/docs/guides/error-codes/api-errors.\",\n",
      "        \"type\": \"insufficient_quota\",\n",
      "        \"param\": null,\n",
      "        \"code\": \"insufficient_quota\"\n",
      "    }\n",
      "}\n",
      "\n"
     ]
    },
    {
     "name": "stderr",
     "output_type": "stream",
     "text": [
      "\n",
      "Processing mushroom.it-tst.v1.jsonl:  25%|██▍       | 37/150 [02:03<06:16,  3.33s/entry]\u001B[A"
     ]
    },
    {
     "name": "stdout",
     "output_type": "stream",
     "text": [
      "Request failed with status code: 429\n",
      "Response: {\n",
      "    \"error\": {\n",
      "        \"message\": \"You exceeded your current quota, please check your plan and billing details. For more information on this error, read the docs: https://platform.openai.com/docs/guides/error-codes/api-errors.\",\n",
      "        \"type\": \"insufficient_quota\",\n",
      "        \"param\": null,\n",
      "        \"code\": \"insufficient_quota\"\n",
      "    }\n",
      "}\n",
      "\n",
      "Retry limit exceeded, returning empty result\n",
      "Request failed with status code: 429\n",
      "Response: {\n",
      "    \"error\": {\n",
      "        \"message\": \"You exceeded your current quota, please check your plan and billing details. For more information on this error, read the docs: https://platform.openai.com/docs/guides/error-codes/api-errors.\",\n",
      "        \"type\": \"insufficient_quota\",\n",
      "        \"param\": null,\n",
      "        \"code\": \"insufficient_quota\"\n",
      "    }\n",
      "}\n",
      "\n",
      "Request failed with status code: 429\n",
      "Response: {\n",
      "    \"error\": {\n",
      "        \"message\": \"You exceeded your current quota, please check your plan and billing details. For more information on this error, read the docs: https://platform.openai.com/docs/guides/error-codes/api-errors.\",\n",
      "        \"type\": \"insufficient_quota\",\n",
      "        \"param\": null,\n",
      "        \"code\": \"insufficient_quota\"\n",
      "    }\n",
      "}\n",
      "\n"
     ]
    },
    {
     "name": "stderr",
     "output_type": "stream",
     "text": [
      "\n",
      "Processing mushroom.it-tst.v1.jsonl:  25%|██▌       | 38/150 [02:07<06:16,  3.36s/entry]\u001B[A"
     ]
    },
    {
     "name": "stdout",
     "output_type": "stream",
     "text": [
      "Request failed with status code: 429\n",
      "Response: {\n",
      "    \"error\": {\n",
      "        \"message\": \"You exceeded your current quota, please check your plan and billing details. For more information on this error, read the docs: https://platform.openai.com/docs/guides/error-codes/api-errors.\",\n",
      "        \"type\": \"insufficient_quota\",\n",
      "        \"param\": null,\n",
      "        \"code\": \"insufficient_quota\"\n",
      "    }\n",
      "}\n",
      "\n",
      "Retry limit exceeded, returning empty result\n",
      "Request failed with status code: 429\n",
      "Response: {\n",
      "    \"error\": {\n",
      "        \"message\": \"You exceeded your current quota, please check your plan and billing details. For more information on this error, read the docs: https://platform.openai.com/docs/guides/error-codes/api-errors.\",\n",
      "        \"type\": \"insufficient_quota\",\n",
      "        \"param\": null,\n",
      "        \"code\": \"insufficient_quota\"\n",
      "    }\n",
      "}\n",
      "\n",
      "Request failed with status code: 429\n",
      "Response: {\n",
      "    \"error\": {\n",
      "        \"message\": \"You exceeded your current quota, please check your plan and billing details. For more information on this error, read the docs: https://platform.openai.com/docs/guides/error-codes/api-errors.\",\n",
      "        \"type\": \"insufficient_quota\",\n",
      "        \"param\": null,\n",
      "        \"code\": \"insufficient_quota\"\n",
      "    }\n",
      "}\n",
      "\n"
     ]
    },
    {
     "name": "stderr",
     "output_type": "stream",
     "text": [
      "\n",
      "Processing mushroom.it-tst.v1.jsonl:  26%|██▌       | 39/150 [02:10<06:15,  3.38s/entry]\u001B[A"
     ]
    },
    {
     "name": "stdout",
     "output_type": "stream",
     "text": [
      "Request failed with status code: 429\n",
      "Response: {\n",
      "    \"error\": {\n",
      "        \"message\": \"You exceeded your current quota, please check your plan and billing details. For more information on this error, read the docs: https://platform.openai.com/docs/guides/error-codes/api-errors.\",\n",
      "        \"type\": \"insufficient_quota\",\n",
      "        \"param\": null,\n",
      "        \"code\": \"insufficient_quota\"\n",
      "    }\n",
      "}\n",
      "\n",
      "Retry limit exceeded, returning empty result\n",
      "Request failed with status code: 429\n",
      "Response: {\n",
      "    \"error\": {\n",
      "        \"message\": \"You exceeded your current quota, please check your plan and billing details. For more information on this error, read the docs: https://platform.openai.com/docs/guides/error-codes/api-errors.\",\n",
      "        \"type\": \"insufficient_quota\",\n",
      "        \"param\": null,\n",
      "        \"code\": \"insufficient_quota\"\n",
      "    }\n",
      "}\n",
      "\n",
      "Request failed with status code: 429\n",
      "Response: {\n",
      "    \"error\": {\n",
      "        \"message\": \"You exceeded your current quota, please check your plan and billing details. For more information on this error, read the docs: https://platform.openai.com/docs/guides/error-codes/api-errors.\",\n",
      "        \"type\": \"insufficient_quota\",\n",
      "        \"param\": null,\n",
      "        \"code\": \"insufficient_quota\"\n",
      "    }\n",
      "}\n",
      "\n"
     ]
    },
    {
     "name": "stderr",
     "output_type": "stream",
     "text": [
      "\n",
      "Processing mushroom.it-tst.v1.jsonl:  27%|██▋       | 40/150 [02:13<06:11,  3.38s/entry]\u001B[A"
     ]
    },
    {
     "name": "stdout",
     "output_type": "stream",
     "text": [
      "Request failed with status code: 429\n",
      "Response: {\n",
      "    \"error\": {\n",
      "        \"message\": \"You exceeded your current quota, please check your plan and billing details. For more information on this error, read the docs: https://platform.openai.com/docs/guides/error-codes/api-errors.\",\n",
      "        \"type\": \"insufficient_quota\",\n",
      "        \"param\": null,\n",
      "        \"code\": \"insufficient_quota\"\n",
      "    }\n",
      "}\n",
      "\n",
      "Retry limit exceeded, returning empty result\n",
      "Request failed with status code: 429\n",
      "Response: {\n",
      "    \"error\": {\n",
      "        \"message\": \"You exceeded your current quota, please check your plan and billing details. For more information on this error, read the docs: https://platform.openai.com/docs/guides/error-codes/api-errors.\",\n",
      "        \"type\": \"insufficient_quota\",\n",
      "        \"param\": null,\n",
      "        \"code\": \"insufficient_quota\"\n",
      "    }\n",
      "}\n",
      "\n",
      "Request failed with status code: 429\n",
      "Response: {\n",
      "    \"error\": {\n",
      "        \"message\": \"You exceeded your current quota, please check your plan and billing details. For more information on this error, read the docs: https://platform.openai.com/docs/guides/error-codes/api-errors.\",\n",
      "        \"type\": \"insufficient_quota\",\n",
      "        \"param\": null,\n",
      "        \"code\": \"insufficient_quota\"\n",
      "    }\n",
      "}\n",
      "\n"
     ]
    },
    {
     "name": "stderr",
     "output_type": "stream",
     "text": [
      "\n",
      "Processing mushroom.it-tst.v1.jsonl:  27%|██▋       | 41/150 [02:17<06:08,  3.38s/entry]\u001B[A"
     ]
    },
    {
     "name": "stdout",
     "output_type": "stream",
     "text": [
      "Request failed with status code: 429\n",
      "Response: {\n",
      "    \"error\": {\n",
      "        \"message\": \"You exceeded your current quota, please check your plan and billing details. For more information on this error, read the docs: https://platform.openai.com/docs/guides/error-codes/api-errors.\",\n",
      "        \"type\": \"insufficient_quota\",\n",
      "        \"param\": null,\n",
      "        \"code\": \"insufficient_quota\"\n",
      "    }\n",
      "}\n",
      "\n",
      "Retry limit exceeded, returning empty result\n",
      "Request failed with status code: 429\n",
      "Response: {\n",
      "    \"error\": {\n",
      "        \"message\": \"You exceeded your current quota, please check your plan and billing details. For more information on this error, read the docs: https://platform.openai.com/docs/guides/error-codes/api-errors.\",\n",
      "        \"type\": \"insufficient_quota\",\n",
      "        \"param\": null,\n",
      "        \"code\": \"insufficient_quota\"\n",
      "    }\n",
      "}\n",
      "\n",
      "Request failed with status code: 429\n",
      "Response: {\n",
      "    \"error\": {\n",
      "        \"message\": \"You exceeded your current quota, please check your plan and billing details. For more information on this error, read the docs: https://platform.openai.com/docs/guides/error-codes/api-errors.\",\n",
      "        \"type\": \"insufficient_quota\",\n",
      "        \"param\": null,\n",
      "        \"code\": \"insufficient_quota\"\n",
      "    }\n",
      "}\n",
      "\n"
     ]
    },
    {
     "name": "stderr",
     "output_type": "stream",
     "text": [
      "\n",
      "Processing mushroom.it-tst.v1.jsonl:  28%|██▊       | 42/150 [02:20<06:03,  3.37s/entry]\u001B[A"
     ]
    },
    {
     "name": "stdout",
     "output_type": "stream",
     "text": [
      "Request failed with status code: 429\n",
      "Response: {\n",
      "    \"error\": {\n",
      "        \"message\": \"You exceeded your current quota, please check your plan and billing details. For more information on this error, read the docs: https://platform.openai.com/docs/guides/error-codes/api-errors.\",\n",
      "        \"type\": \"insufficient_quota\",\n",
      "        \"param\": null,\n",
      "        \"code\": \"insufficient_quota\"\n",
      "    }\n",
      "}\n",
      "\n",
      "Retry limit exceeded, returning empty result\n",
      "Request failed with status code: 429\n",
      "Response: {\n",
      "    \"error\": {\n",
      "        \"message\": \"You exceeded your current quota, please check your plan and billing details. For more information on this error, read the docs: https://platform.openai.com/docs/guides/error-codes/api-errors.\",\n",
      "        \"type\": \"insufficient_quota\",\n",
      "        \"param\": null,\n",
      "        \"code\": \"insufficient_quota\"\n",
      "    }\n",
      "}\n",
      "\n",
      "Request failed with status code: 429\n",
      "Response: {\n",
      "    \"error\": {\n",
      "        \"message\": \"You exceeded your current quota, please check your plan and billing details. For more information on this error, read the docs: https://platform.openai.com/docs/guides/error-codes/api-errors.\",\n",
      "        \"type\": \"insufficient_quota\",\n",
      "        \"param\": null,\n",
      "        \"code\": \"insufficient_quota\"\n",
      "    }\n",
      "}\n",
      "\n"
     ]
    },
    {
     "name": "stderr",
     "output_type": "stream",
     "text": [
      "\n",
      "Processing mushroom.it-tst.v1.jsonl:  29%|██▊       | 43/150 [02:24<06:06,  3.43s/entry]\u001B[A"
     ]
    },
    {
     "name": "stdout",
     "output_type": "stream",
     "text": [
      "Request failed with status code: 429\n",
      "Response: {\n",
      "    \"error\": {\n",
      "        \"message\": \"You exceeded your current quota, please check your plan and billing details. For more information on this error, read the docs: https://platform.openai.com/docs/guides/error-codes/api-errors.\",\n",
      "        \"type\": \"insufficient_quota\",\n",
      "        \"param\": null,\n",
      "        \"code\": \"insufficient_quota\"\n",
      "    }\n",
      "}\n",
      "\n",
      "Retry limit exceeded, returning empty result\n",
      "Request failed with status code: 429\n",
      "Response: {\n",
      "    \"error\": {\n",
      "        \"message\": \"You exceeded your current quota, please check your plan and billing details. For more information on this error, read the docs: https://platform.openai.com/docs/guides/error-codes/api-errors.\",\n",
      "        \"type\": \"insufficient_quota\",\n",
      "        \"param\": null,\n",
      "        \"code\": \"insufficient_quota\"\n",
      "    }\n",
      "}\n",
      "\n",
      "Request failed with status code: 429\n",
      "Response: {\n",
      "    \"error\": {\n",
      "        \"message\": \"You exceeded your current quota, please check your plan and billing details. For more information on this error, read the docs: https://platform.openai.com/docs/guides/error-codes/api-errors.\",\n",
      "        \"type\": \"insufficient_quota\",\n",
      "        \"param\": null,\n",
      "        \"code\": \"insufficient_quota\"\n",
      "    }\n",
      "}\n",
      "\n"
     ]
    },
    {
     "name": "stderr",
     "output_type": "stream",
     "text": [
      "\n",
      "Processing mushroom.it-tst.v1.jsonl:  29%|██▉       | 44/150 [02:27<05:58,  3.38s/entry]\u001B[A"
     ]
    },
    {
     "name": "stdout",
     "output_type": "stream",
     "text": [
      "Request failed with status code: 429\n",
      "Response: {\n",
      "    \"error\": {\n",
      "        \"message\": \"You exceeded your current quota, please check your plan and billing details. For more information on this error, read the docs: https://platform.openai.com/docs/guides/error-codes/api-errors.\",\n",
      "        \"type\": \"insufficient_quota\",\n",
      "        \"param\": null,\n",
      "        \"code\": \"insufficient_quota\"\n",
      "    }\n",
      "}\n",
      "\n",
      "Retry limit exceeded, returning empty result\n",
      "Request failed with status code: 429\n",
      "Response: {\n",
      "    \"error\": {\n",
      "        \"message\": \"You exceeded your current quota, please check your plan and billing details. For more information on this error, read the docs: https://platform.openai.com/docs/guides/error-codes/api-errors.\",\n",
      "        \"type\": \"insufficient_quota\",\n",
      "        \"param\": null,\n",
      "        \"code\": \"insufficient_quota\"\n",
      "    }\n",
      "}\n",
      "\n",
      "Request failed with status code: 429\n",
      "Response: {\n",
      "    \"error\": {\n",
      "        \"message\": \"You exceeded your current quota, please check your plan and billing details. For more information on this error, read the docs: https://platform.openai.com/docs/guides/error-codes/api-errors.\",\n",
      "        \"type\": \"insufficient_quota\",\n",
      "        \"param\": null,\n",
      "        \"code\": \"insufficient_quota\"\n",
      "    }\n",
      "}\n",
      "\n"
     ]
    },
    {
     "name": "stderr",
     "output_type": "stream",
     "text": [
      "\n",
      "Processing mushroom.it-tst.v1.jsonl:  30%|███       | 45/150 [02:30<05:52,  3.36s/entry]\u001B[A"
     ]
    },
    {
     "name": "stdout",
     "output_type": "stream",
     "text": [
      "Request failed with status code: 429\n",
      "Response: {\n",
      "    \"error\": {\n",
      "        \"message\": \"You exceeded your current quota, please check your plan and billing details. For more information on this error, read the docs: https://platform.openai.com/docs/guides/error-codes/api-errors.\",\n",
      "        \"type\": \"insufficient_quota\",\n",
      "        \"param\": null,\n",
      "        \"code\": \"insufficient_quota\"\n",
      "    }\n",
      "}\n",
      "\n",
      "Retry limit exceeded, returning empty result\n",
      "Request failed with status code: 429\n",
      "Response: {\n",
      "    \"error\": {\n",
      "        \"message\": \"You exceeded your current quota, please check your plan and billing details. For more information on this error, read the docs: https://platform.openai.com/docs/guides/error-codes/api-errors.\",\n",
      "        \"type\": \"insufficient_quota\",\n",
      "        \"param\": null,\n",
      "        \"code\": \"insufficient_quota\"\n",
      "    }\n",
      "}\n",
      "\n",
      "Request failed with status code: 429\n",
      "Response: {\n",
      "    \"error\": {\n",
      "        \"message\": \"You exceeded your current quota, please check your plan and billing details. For more information on this error, read the docs: https://platform.openai.com/docs/guides/error-codes/api-errors.\",\n",
      "        \"type\": \"insufficient_quota\",\n",
      "        \"param\": null,\n",
      "        \"code\": \"insufficient_quota\"\n",
      "    }\n",
      "}\n",
      "\n"
     ]
    },
    {
     "name": "stderr",
     "output_type": "stream",
     "text": [
      "\n",
      "Processing mushroom.it-tst.v1.jsonl:  31%|███       | 46/150 [02:34<05:50,  3.37s/entry]\u001B[A"
     ]
    },
    {
     "name": "stdout",
     "output_type": "stream",
     "text": [
      "Request failed with status code: 429\n",
      "Response: {\n",
      "    \"error\": {\n",
      "        \"message\": \"You exceeded your current quota, please check your plan and billing details. For more information on this error, read the docs: https://platform.openai.com/docs/guides/error-codes/api-errors.\",\n",
      "        \"type\": \"insufficient_quota\",\n",
      "        \"param\": null,\n",
      "        \"code\": \"insufficient_quota\"\n",
      "    }\n",
      "}\n",
      "\n",
      "Retry limit exceeded, returning empty result\n",
      "Request failed with status code: 429\n",
      "Response: {\n",
      "    \"error\": {\n",
      "        \"message\": \"You exceeded your current quota, please check your plan and billing details. For more information on this error, read the docs: https://platform.openai.com/docs/guides/error-codes/api-errors.\",\n",
      "        \"type\": \"insufficient_quota\",\n",
      "        \"param\": null,\n",
      "        \"code\": \"insufficient_quota\"\n",
      "    }\n",
      "}\n",
      "\n",
      "Request failed with status code: 429\n",
      "Response: {\n",
      "    \"error\": {\n",
      "        \"message\": \"You exceeded your current quota, please check your plan and billing details. For more information on this error, read the docs: https://platform.openai.com/docs/guides/error-codes/api-errors.\",\n",
      "        \"type\": \"insufficient_quota\",\n",
      "        \"param\": null,\n",
      "        \"code\": \"insufficient_quota\"\n",
      "    }\n",
      "}\n",
      "\n"
     ]
    },
    {
     "name": "stderr",
     "output_type": "stream",
     "text": [
      "\n",
      "Processing mushroom.it-tst.v1.jsonl:  31%|███▏      | 47/150 [02:37<05:43,  3.33s/entry]\u001B[A"
     ]
    },
    {
     "name": "stdout",
     "output_type": "stream",
     "text": [
      "Request failed with status code: 429\n",
      "Response: {\n",
      "    \"error\": {\n",
      "        \"message\": \"You exceeded your current quota, please check your plan and billing details. For more information on this error, read the docs: https://platform.openai.com/docs/guides/error-codes/api-errors.\",\n",
      "        \"type\": \"insufficient_quota\",\n",
      "        \"param\": null,\n",
      "        \"code\": \"insufficient_quota\"\n",
      "    }\n",
      "}\n",
      "\n",
      "Retry limit exceeded, returning empty result\n",
      "Request failed with status code: 429\n",
      "Response: {\n",
      "    \"error\": {\n",
      "        \"message\": \"You exceeded your current quota, please check your plan and billing details. For more information on this error, read the docs: https://platform.openai.com/docs/guides/error-codes/api-errors.\",\n",
      "        \"type\": \"insufficient_quota\",\n",
      "        \"param\": null,\n",
      "        \"code\": \"insufficient_quota\"\n",
      "    }\n",
      "}\n",
      "\n",
      "Request failed with status code: 429\n",
      "Response: {\n",
      "    \"error\": {\n",
      "        \"message\": \"You exceeded your current quota, please check your plan and billing details. For more information on this error, read the docs: https://platform.openai.com/docs/guides/error-codes/api-errors.\",\n",
      "        \"type\": \"insufficient_quota\",\n",
      "        \"param\": null,\n",
      "        \"code\": \"insufficient_quota\"\n",
      "    }\n",
      "}\n",
      "\n"
     ]
    },
    {
     "name": "stderr",
     "output_type": "stream",
     "text": [
      "\n",
      "Processing mushroom.it-tst.v1.jsonl:  32%|███▏      | 48/150 [02:40<05:37,  3.30s/entry]\u001B[A"
     ]
    },
    {
     "name": "stdout",
     "output_type": "stream",
     "text": [
      "Request failed with status code: 429\n",
      "Response: {\n",
      "    \"error\": {\n",
      "        \"message\": \"You exceeded your current quota, please check your plan and billing details. For more information on this error, read the docs: https://platform.openai.com/docs/guides/error-codes/api-errors.\",\n",
      "        \"type\": \"insufficient_quota\",\n",
      "        \"param\": null,\n",
      "        \"code\": \"insufficient_quota\"\n",
      "    }\n",
      "}\n",
      "\n",
      "Retry limit exceeded, returning empty result\n",
      "Request failed with status code: 429\n",
      "Response: {\n",
      "    \"error\": {\n",
      "        \"message\": \"You exceeded your current quota, please check your plan and billing details. For more information on this error, read the docs: https://platform.openai.com/docs/guides/error-codes/api-errors.\",\n",
      "        \"type\": \"insufficient_quota\",\n",
      "        \"param\": null,\n",
      "        \"code\": \"insufficient_quota\"\n",
      "    }\n",
      "}\n",
      "\n",
      "Request failed with status code: 429\n",
      "Response: {\n",
      "    \"error\": {\n",
      "        \"message\": \"You exceeded your current quota, please check your plan and billing details. For more information on this error, read the docs: https://platform.openai.com/docs/guides/error-codes/api-errors.\",\n",
      "        \"type\": \"insufficient_quota\",\n",
      "        \"param\": null,\n",
      "        \"code\": \"insufficient_quota\"\n",
      "    }\n",
      "}\n",
      "\n"
     ]
    },
    {
     "name": "stderr",
     "output_type": "stream",
     "text": [
      "\n",
      "Processing mushroom.it-tst.v1.jsonl:  33%|███▎      | 49/150 [02:44<05:33,  3.31s/entry]\u001B[A"
     ]
    },
    {
     "name": "stdout",
     "output_type": "stream",
     "text": [
      "Request failed with status code: 429\n",
      "Response: {\n",
      "    \"error\": {\n",
      "        \"message\": \"You exceeded your current quota, please check your plan and billing details. For more information on this error, read the docs: https://platform.openai.com/docs/guides/error-codes/api-errors.\",\n",
      "        \"type\": \"insufficient_quota\",\n",
      "        \"param\": null,\n",
      "        \"code\": \"insufficient_quota\"\n",
      "    }\n",
      "}\n",
      "\n",
      "Retry limit exceeded, returning empty result\n",
      "Request failed with status code: 429\n",
      "Response: {\n",
      "    \"error\": {\n",
      "        \"message\": \"You exceeded your current quota, please check your plan and billing details. For more information on this error, read the docs: https://platform.openai.com/docs/guides/error-codes/api-errors.\",\n",
      "        \"type\": \"insufficient_quota\",\n",
      "        \"param\": null,\n",
      "        \"code\": \"insufficient_quota\"\n",
      "    }\n",
      "}\n",
      "\n",
      "Request failed with status code: 429\n",
      "Response: {\n",
      "    \"error\": {\n",
      "        \"message\": \"You exceeded your current quota, please check your plan and billing details. For more information on this error, read the docs: https://platform.openai.com/docs/guides/error-codes/api-errors.\",\n",
      "        \"type\": \"insufficient_quota\",\n",
      "        \"param\": null,\n",
      "        \"code\": \"insufficient_quota\"\n",
      "    }\n",
      "}\n",
      "\n"
     ]
    },
    {
     "name": "stderr",
     "output_type": "stream",
     "text": [
      "\n",
      "Processing mushroom.it-tst.v1.jsonl:  33%|███▎      | 50/150 [02:47<05:43,  3.44s/entry]\u001B[A"
     ]
    },
    {
     "name": "stdout",
     "output_type": "stream",
     "text": [
      "Request failed with status code: 429\n",
      "Response: {\n",
      "    \"error\": {\n",
      "        \"message\": \"You exceeded your current quota, please check your plan and billing details. For more information on this error, read the docs: https://platform.openai.com/docs/guides/error-codes/api-errors.\",\n",
      "        \"type\": \"insufficient_quota\",\n",
      "        \"param\": null,\n",
      "        \"code\": \"insufficient_quota\"\n",
      "    }\n",
      "}\n",
      "\n",
      "Retry limit exceeded, returning empty result\n",
      "Request failed with status code: 429\n",
      "Response: {\n",
      "    \"error\": {\n",
      "        \"message\": \"You exceeded your current quota, please check your plan and billing details. For more information on this error, read the docs: https://platform.openai.com/docs/guides/error-codes/api-errors.\",\n",
      "        \"type\": \"insufficient_quota\",\n",
      "        \"param\": null,\n",
      "        \"code\": \"insufficient_quota\"\n",
      "    }\n",
      "}\n",
      "\n",
      "Request failed with status code: 429\n",
      "Response: {\n",
      "    \"error\": {\n",
      "        \"message\": \"You exceeded your current quota, please check your plan and billing details. For more information on this error, read the docs: https://platform.openai.com/docs/guides/error-codes/api-errors.\",\n",
      "        \"type\": \"insufficient_quota\",\n",
      "        \"param\": null,\n",
      "        \"code\": \"insufficient_quota\"\n",
      "    }\n",
      "}\n",
      "\n"
     ]
    },
    {
     "name": "stderr",
     "output_type": "stream",
     "text": [
      "\n",
      "Processing mushroom.it-tst.v1.jsonl:  34%|███▍      | 51/150 [02:51<05:36,  3.39s/entry]\u001B[A"
     ]
    },
    {
     "name": "stdout",
     "output_type": "stream",
     "text": [
      "Request failed with status code: 429\n",
      "Response: {\n",
      "    \"error\": {\n",
      "        \"message\": \"You exceeded your current quota, please check your plan and billing details. For more information on this error, read the docs: https://platform.openai.com/docs/guides/error-codes/api-errors.\",\n",
      "        \"type\": \"insufficient_quota\",\n",
      "        \"param\": null,\n",
      "        \"code\": \"insufficient_quota\"\n",
      "    }\n",
      "}\n",
      "\n",
      "Retry limit exceeded, returning empty result\n",
      "Request failed with status code: 429\n",
      "Response: {\n",
      "    \"error\": {\n",
      "        \"message\": \"You exceeded your current quota, please check your plan and billing details. For more information on this error, read the docs: https://platform.openai.com/docs/guides/error-codes/api-errors.\",\n",
      "        \"type\": \"insufficient_quota\",\n",
      "        \"param\": null,\n",
      "        \"code\": \"insufficient_quota\"\n",
      "    }\n",
      "}\n",
      "\n",
      "Request failed with status code: 429\n",
      "Response: {\n",
      "    \"error\": {\n",
      "        \"message\": \"You exceeded your current quota, please check your plan and billing details. For more information on this error, read the docs: https://platform.openai.com/docs/guides/error-codes/api-errors.\",\n",
      "        \"type\": \"insufficient_quota\",\n",
      "        \"param\": null,\n",
      "        \"code\": \"insufficient_quota\"\n",
      "    }\n",
      "}\n",
      "\n"
     ]
    },
    {
     "name": "stderr",
     "output_type": "stream",
     "text": [
      "\n",
      "Processing mushroom.it-tst.v1.jsonl:  35%|███▍      | 52/150 [02:55<06:04,  3.72s/entry]\u001B[A"
     ]
    },
    {
     "name": "stdout",
     "output_type": "stream",
     "text": [
      "Request failed with status code: 429\n",
      "Response: {\n",
      "    \"error\": {\n",
      "        \"message\": \"You exceeded your current quota, please check your plan and billing details. For more information on this error, read the docs: https://platform.openai.com/docs/guides/error-codes/api-errors.\",\n",
      "        \"type\": \"insufficient_quota\",\n",
      "        \"param\": null,\n",
      "        \"code\": \"insufficient_quota\"\n",
      "    }\n",
      "}\n",
      "\n"
     ]
    },
    {
     "name": "stderr",
     "output_type": "stream",
     "text": [
      "\n",
      "Processing mushroom.it-tst.v1.jsonl:  35%|███▌      | 53/150 [02:59<06:15,  3.87s/entry]\u001B[A"
     ]
    },
    {
     "name": "stdout",
     "output_type": "stream",
     "text": [
      "Request failed with status code: 429\n",
      "Response: {\n",
      "    \"error\": {\n",
      "        \"message\": \"You exceeded your current quota, please check your plan and billing details. For more information on this error, read the docs: https://platform.openai.com/docs/guides/error-codes/api-errors.\",\n",
      "        \"type\": \"insufficient_quota\",\n",
      "        \"param\": null,\n",
      "        \"code\": \"insufficient_quota\"\n",
      "    }\n",
      "}\n",
      "\n"
     ]
    },
    {
     "name": "stderr",
     "output_type": "stream",
     "text": [
      "\n",
      "Processing mushroom.it-tst.v1.jsonl:  36%|███▌      | 54/150 [03:04<06:43,  4.20s/entry]\u001B[A\n",
      "Processing mushroom.it-tst.v1.jsonl:  37%|███▋      | 55/150 [03:08<06:15,  3.95s/entry]\u001B[A\n",
      "Processing mushroom.it-tst.v1.jsonl:  37%|███▋      | 56/150 [03:10<05:40,  3.62s/entry]\u001B[A\n",
      "Processing mushroom.it-tst.v1.jsonl:  38%|███▊      | 57/150 [03:16<06:43,  4.34s/entry]\u001B[A"
     ]
    },
    {
     "name": "stdout",
     "output_type": "stream",
     "text": [
      "Request failed with status code: 429\n",
      "Response: {\n",
      "    \"error\": {\n",
      "        \"message\": \"You exceeded your current quota, please check your plan and billing details. For more information on this error, read the docs: https://platform.openai.com/docs/guides/error-codes/api-errors.\",\n",
      "        \"type\": \"insufficient_quota\",\n",
      "        \"param\": null,\n",
      "        \"code\": \"insufficient_quota\"\n",
      "    }\n",
      "}\n",
      "\n",
      "Request failed with status code: 429\n",
      "Response: {\n",
      "    \"error\": {\n",
      "        \"message\": \"You exceeded your current quota, please check your plan and billing details. For more information on this error, read the docs: https://platform.openai.com/docs/guides/error-codes/api-errors.\",\n",
      "        \"type\": \"insufficient_quota\",\n",
      "        \"param\": null,\n",
      "        \"code\": \"insufficient_quota\"\n",
      "    }\n",
      "}\n",
      "\n"
     ]
    },
    {
     "name": "stderr",
     "output_type": "stream",
     "text": [
      "\n",
      "Processing mushroom.it-tst.v1.jsonl:  39%|███▊      | 58/150 [03:21<06:42,  4.38s/entry]\u001B[A"
     ]
    },
    {
     "name": "stdout",
     "output_type": "stream",
     "text": [
      "Request failed with status code: 429\n",
      "Response: {\n",
      "    \"error\": {\n",
      "        \"message\": \"You exceeded your current quota, please check your plan and billing details. For more information on this error, read the docs: https://platform.openai.com/docs/guides/error-codes/api-errors.\",\n",
      "        \"type\": \"insufficient_quota\",\n",
      "        \"param\": null,\n",
      "        \"code\": \"insufficient_quota\"\n",
      "    }\n",
      "}\n",
      "\n",
      "Request failed with status code: 429\n",
      "Response: {\n",
      "    \"error\": {\n",
      "        \"message\": \"You exceeded your current quota, please check your plan and billing details. For more information on this error, read the docs: https://platform.openai.com/docs/guides/error-codes/api-errors.\",\n",
      "        \"type\": \"insufficient_quota\",\n",
      "        \"param\": null,\n",
      "        \"code\": \"insufficient_quota\"\n",
      "    }\n",
      "}\n",
      "\n"
     ]
    },
    {
     "name": "stderr",
     "output_type": "stream",
     "text": [
      "\n",
      "Processing mushroom.it-tst.v1.jsonl:  39%|███▉      | 59/150 [03:25<06:33,  4.33s/entry]\u001B[A"
     ]
    },
    {
     "name": "stdout",
     "output_type": "stream",
     "text": [
      "Request failed with status code: 429\n",
      "Response: {\n",
      "    \"error\": {\n",
      "        \"message\": \"You exceeded your current quota, please check your plan and billing details. For more information on this error, read the docs: https://platform.openai.com/docs/guides/error-codes/api-errors.\",\n",
      "        \"type\": \"insufficient_quota\",\n",
      "        \"param\": null,\n",
      "        \"code\": \"insufficient_quota\"\n",
      "    }\n",
      "}\n",
      "\n"
     ]
    },
    {
     "name": "stderr",
     "output_type": "stream",
     "text": [
      "\n",
      "Processing mushroom.it-tst.v1.jsonl:  40%|████      | 60/150 [03:29<06:13,  4.15s/entry]\u001B[A"
     ]
    },
    {
     "name": "stdout",
     "output_type": "stream",
     "text": [
      "Request failed with status code: 429\n",
      "Response: {\n",
      "    \"error\": {\n",
      "        \"message\": \"You exceeded your current quota, please check your plan and billing details. For more information on this error, read the docs: https://platform.openai.com/docs/guides/error-codes/api-errors.\",\n",
      "        \"type\": \"insufficient_quota\",\n",
      "        \"param\": null,\n",
      "        \"code\": \"insufficient_quota\"\n",
      "    }\n",
      "}\n",
      "\n",
      "Request failed with status code: 429\n",
      "Response: {\n",
      "    \"error\": {\n",
      "        \"message\": \"You exceeded your current quota, please check your plan and billing details. For more information on this error, read the docs: https://platform.openai.com/docs/guides/error-codes/api-errors.\",\n",
      "        \"type\": \"insufficient_quota\",\n",
      "        \"param\": null,\n",
      "        \"code\": \"insufficient_quota\"\n",
      "    }\n",
      "}\n",
      "\n"
     ]
    },
    {
     "name": "stderr",
     "output_type": "stream",
     "text": [
      "\n",
      "Processing mushroom.it-tst.v1.jsonl:  41%|████      | 61/150 [03:32<05:47,  3.91s/entry]\u001B[A"
     ]
    },
    {
     "name": "stdout",
     "output_type": "stream",
     "text": [
      "Request failed with status code: 429\n",
      "Response: {\n",
      "    \"error\": {\n",
      "        \"message\": \"You exceeded your current quota, please check your plan and billing details. For more information on this error, read the docs: https://platform.openai.com/docs/guides/error-codes/api-errors.\",\n",
      "        \"type\": \"insufficient_quota\",\n",
      "        \"param\": null,\n",
      "        \"code\": \"insufficient_quota\"\n",
      "    }\n",
      "}\n",
      "\n",
      "Retry limit exceeded, returning empty result\n"
     ]
    },
    {
     "name": "stderr",
     "output_type": "stream",
     "text": [
      "\n",
      "Processing mushroom.it-tst.v1.jsonl:  41%|████▏     | 62/150 [03:35<05:19,  3.63s/entry]\u001B[A"
     ]
    },
    {
     "name": "stdout",
     "output_type": "stream",
     "text": [
      "No valid JSON found in content: []\n",
      "\n",
      "Error processing entry tst-it-62: list index out of range\n"
     ]
    },
    {
     "name": "stderr",
     "output_type": "stream",
     "text": [
      "\n",
      "Processing mushroom.it-tst.v1.jsonl:  42%|████▏     | 63/150 [03:38<04:50,  3.34s/entry]\u001B[A\n",
      "Processing mushroom.it-tst.v1.jsonl:  43%|████▎     | 64/150 [03:41<04:46,  3.33s/entry]\u001B[A"
     ]
    },
    {
     "name": "stdout",
     "output_type": "stream",
     "text": [
      "Request failed with status code: 429\n",
      "Response: {\n",
      "    \"error\": {\n",
      "        \"message\": \"You exceeded your current quota, please check your plan and billing details. For more information on this error, read the docs: https://platform.openai.com/docs/guides/error-codes/api-errors.\",\n",
      "        \"type\": \"insufficient_quota\",\n",
      "        \"param\": null,\n",
      "        \"code\": \"insufficient_quota\"\n",
      "    }\n",
      "}\n",
      "\n"
     ]
    },
    {
     "name": "stderr",
     "output_type": "stream",
     "text": [
      "\n",
      "Processing mushroom.it-tst.v1.jsonl:  43%|████▎     | 65/150 [03:48<06:11,  4.37s/entry]\u001B[A\n",
      "Processing mushroom.it-tst.v1.jsonl:  44%|████▍     | 66/150 [03:55<07:05,  5.07s/entry]\u001B[A"
     ]
    },
    {
     "name": "stdout",
     "output_type": "stream",
     "text": [
      "No valid JSON found in content: []\n",
      "\n",
      "Error processing entry tst-it-66: list index out of range\n"
     ]
    },
    {
     "name": "stderr",
     "output_type": "stream",
     "text": [
      "\n",
      "Processing mushroom.it-tst.v1.jsonl:  45%|████▍     | 67/150 [03:57<06:00,  4.35s/entry]\u001B[A\n",
      "Processing mushroom.it-tst.v1.jsonl:  45%|████▌     | 68/150 [04:00<05:08,  3.76s/entry]\u001B[A"
     ]
    },
    {
     "name": "stdout",
     "output_type": "stream",
     "text": [
      "Request failed with status code: 429\n",
      "Response: {\n",
      "    \"error\": {\n",
      "        \"message\": \"You exceeded your current quota, please check your plan and billing details. For more information on this error, read the docs: https://platform.openai.com/docs/guides/error-codes/api-errors.\",\n",
      "        \"type\": \"insufficient_quota\",\n",
      "        \"param\": null,\n",
      "        \"code\": \"insufficient_quota\"\n",
      "    }\n",
      "}\n",
      "\n"
     ]
    },
    {
     "name": "stderr",
     "output_type": "stream",
     "text": [
      "\n",
      "Processing mushroom.it-tst.v1.jsonl:  46%|████▌     | 69/150 [04:03<04:59,  3.70s/entry]\u001B[A"
     ]
    },
    {
     "name": "stdout",
     "output_type": "stream",
     "text": [
      "Request failed with status code: 429\n",
      "Response: {\n",
      "    \"error\": {\n",
      "        \"message\": \"You exceeded your current quota, please check your plan and billing details. For more information on this error, read the docs: https://platform.openai.com/docs/guides/error-codes/api-errors.\",\n",
      "        \"type\": \"insufficient_quota\",\n",
      "        \"param\": null,\n",
      "        \"code\": \"insufficient_quota\"\n",
      "    }\n",
      "}\n",
      "\n",
      "Request failed with status code: 429\n",
      "Response: {\n",
      "    \"error\": {\n",
      "        \"message\": \"You exceeded your current quota, please check your plan and billing details. For more information on this error, read the docs: https://platform.openai.com/docs/guides/error-codes/api-errors.\",\n",
      "        \"type\": \"insufficient_quota\",\n",
      "        \"param\": null,\n",
      "        \"code\": \"insufficient_quota\"\n",
      "    }\n",
      "}\n",
      "\n"
     ]
    },
    {
     "name": "stderr",
     "output_type": "stream",
     "text": [
      "\n",
      "Processing mushroom.it-tst.v1.jsonl:  47%|████▋     | 70/150 [04:09<05:37,  4.22s/entry]\u001B[A\n",
      "Processing mushroom.it-tst.v1.jsonl:  47%|████▋     | 71/150 [04:11<04:46,  3.63s/entry]\u001B[A\n",
      "Processing mushroom.it-tst.v1.jsonl:  48%|████▊     | 72/150 [04:15<04:47,  3.69s/entry]\u001B[A\n",
      "Processing mushroom.it-tst.v1.jsonl:  49%|████▊     | 73/150 [04:18<04:33,  3.55s/entry]\u001B[A\n",
      "Processing mushroom.it-tst.v1.jsonl:  49%|████▉     | 74/150 [04:22<04:28,  3.54s/entry]\u001B[A\n",
      "Processing mushroom.it-tst.v1.jsonl:  50%|█████     | 75/150 [04:24<03:53,  3.11s/entry]\u001B[A\n",
      "Processing mushroom.it-tst.v1.jsonl:  51%|█████     | 76/150 [04:26<03:26,  2.79s/entry]\u001B[A"
     ]
    },
    {
     "name": "stdout",
     "output_type": "stream",
     "text": [
      "No valid JSON found in content: []\n",
      "\n",
      "Error processing entry tst-it-76: list index out of range\n"
     ]
    },
    {
     "name": "stderr",
     "output_type": "stream",
     "text": [
      "\n",
      "Processing mushroom.it-tst.v1.jsonl:  51%|█████▏    | 77/150 [04:29<03:26,  2.83s/entry]\u001B[A\n",
      "Processing mushroom.it-tst.v1.jsonl:  52%|█████▏    | 78/150 [04:33<04:03,  3.38s/entry]\u001B[A\n",
      "Processing mushroom.it-tst.v1.jsonl:  53%|█████▎    | 79/150 [04:35<03:28,  2.94s/entry]\u001B[A\n",
      "Processing mushroom.it-tst.v1.jsonl:  53%|█████▎    | 80/150 [04:38<03:17,  2.82s/entry]\u001B[A\n",
      "Processing mushroom.it-tst.v1.jsonl:  54%|█████▍    | 81/150 [04:40<02:58,  2.58s/entry]\u001B[A"
     ]
    },
    {
     "name": "stdout",
     "output_type": "stream",
     "text": [
      "Request failed with status code: 429\n",
      "Response: {\n",
      "    \"error\": {\n",
      "        \"message\": \"You exceeded your current quota, please check your plan and billing details. For more information on this error, read the docs: https://platform.openai.com/docs/guides/error-codes/api-errors.\",\n",
      "        \"type\": \"insufficient_quota\",\n",
      "        \"param\": null,\n",
      "        \"code\": \"insufficient_quota\"\n",
      "    }\n",
      "}\n",
      "\n"
     ]
    },
    {
     "name": "stderr",
     "output_type": "stream",
     "text": [
      "\n",
      "Processing mushroom.it-tst.v1.jsonl:  55%|█████▍    | 82/150 [04:44<03:38,  3.21s/entry]\u001B[A\n",
      "Processing mushroom.it-tst.v1.jsonl:  55%|█████▌    | 83/150 [04:47<03:29,  3.13s/entry]\u001B[A"
     ]
    },
    {
     "name": "stdout",
     "output_type": "stream",
     "text": [
      "No valid JSON found in content: []\n",
      "\n",
      "Error processing entry tst-it-83: list index out of range\n"
     ]
    },
    {
     "name": "stderr",
     "output_type": "stream",
     "text": [
      "\n",
      "Processing mushroom.it-tst.v1.jsonl:  56%|█████▌    | 84/150 [04:50<03:13,  2.94s/entry]\u001B[A\n",
      "Processing mushroom.it-tst.v1.jsonl:  57%|█████▋    | 85/150 [04:52<02:56,  2.71s/entry]\u001B[A\n",
      "Processing mushroom.it-tst.v1.jsonl:  57%|█████▋    | 86/150 [04:56<03:08,  2.94s/entry]\u001B[A"
     ]
    },
    {
     "name": "stdout",
     "output_type": "stream",
     "text": [
      "Request failed with status code: 429\n",
      "Response: {\n",
      "    \"error\": {\n",
      "        \"message\": \"You exceeded your current quota, please check your plan and billing details. For more information on this error, read the docs: https://platform.openai.com/docs/guides/error-codes/api-errors.\",\n",
      "        \"type\": \"insufficient_quota\",\n",
      "        \"param\": null,\n",
      "        \"code\": \"insufficient_quota\"\n",
      "    }\n",
      "}\n",
      "\n"
     ]
    },
    {
     "name": "stderr",
     "output_type": "stream",
     "text": [
      "\n",
      "Processing mushroom.it-tst.v1.jsonl:  58%|█████▊    | 87/150 [04:59<03:21,  3.21s/entry]\u001B[A\n",
      "Processing mushroom.it-tst.v1.jsonl:  59%|█████▊    | 88/150 [05:01<02:55,  2.83s/entry]\u001B[A\n",
      "Processing mushroom.it-tst.v1.jsonl:  59%|█████▉    | 89/150 [05:05<03:00,  2.96s/entry]\u001B[A\n",
      "Processing mushroom.it-tst.v1.jsonl:  60%|██████    | 90/150 [05:10<03:43,  3.73s/entry]\u001B[A\n",
      "Processing mushroom.it-tst.v1.jsonl:  61%|██████    | 91/150 [05:12<03:12,  3.27s/entry]\u001B[A"
     ]
    },
    {
     "name": "stdout",
     "output_type": "stream",
     "text": [
      "No valid JSON found in content: []\n",
      "\n",
      "Error processing entry tst-it-91: list index out of range\n"
     ]
    },
    {
     "name": "stderr",
     "output_type": "stream",
     "text": [
      "\n",
      "Processing mushroom.it-tst.v1.jsonl:  61%|██████▏   | 92/150 [05:14<02:50,  2.94s/entry]\u001B[A\n",
      "Processing mushroom.it-tst.v1.jsonl:  62%|██████▏   | 93/150 [05:17<02:42,  2.85s/entry]\u001B[A\n",
      "Processing mushroom.it-tst.v1.jsonl:  63%|██████▎   | 94/150 [05:24<03:44,  4.01s/entry]\u001B[A"
     ]
    },
    {
     "name": "stdout",
     "output_type": "stream",
     "text": [
      "Request failed with status code: 429\n",
      "Response: {\n",
      "    \"error\": {\n",
      "        \"message\": \"You exceeded your current quota, please check your plan and billing details. For more information on this error, read the docs: https://platform.openai.com/docs/guides/error-codes/api-errors.\",\n",
      "        \"type\": \"insufficient_quota\",\n",
      "        \"param\": null,\n",
      "        \"code\": \"insufficient_quota\"\n",
      "    }\n",
      "}\n",
      "\n"
     ]
    },
    {
     "name": "stderr",
     "output_type": "stream",
     "text": [
      "\n",
      "Processing mushroom.it-tst.v1.jsonl:  63%|██████▎   | 95/150 [05:27<03:24,  3.72s/entry]\u001B[A"
     ]
    },
    {
     "name": "stdout",
     "output_type": "stream",
     "text": [
      "No valid JSON found in content: []\n",
      "Error processing entry tst-it-95: list index out of range\n",
      "Request failed with status code: 429\n",
      "Response: {\n",
      "    \"error\": {\n",
      "        \"message\": \"You exceeded your current quota, please check your plan and billing details. For more information on this error, read the docs: https://platform.openai.com/docs/guides/error-codes/api-errors.\",\n",
      "        \"type\": \"insufficient_quota\",\n",
      "        \"param\": null,\n",
      "        \"code\": \"insufficient_quota\"\n",
      "    }\n",
      "}\n",
      "\n"
     ]
    },
    {
     "name": "stderr",
     "output_type": "stream",
     "text": [
      "\n",
      "Processing mushroom.it-tst.v1.jsonl:  64%|██████▍   | 96/150 [05:31<03:22,  3.76s/entry]\u001B[A\n",
      "Processing mushroom.it-tst.v1.jsonl:  65%|██████▍   | 97/150 [05:35<03:25,  3.89s/entry]\u001B[A\n",
      "Processing mushroom.it-tst.v1.jsonl:  65%|██████▌   | 98/150 [05:37<02:50,  3.28s/entry]\u001B[A"
     ]
    },
    {
     "name": "stdout",
     "output_type": "stream",
     "text": [
      "No valid JSON found in content: []\n",
      "\n",
      "Error processing entry tst-it-98: list index out of range\n"
     ]
    },
    {
     "name": "stderr",
     "output_type": "stream",
     "text": [
      "\n",
      "Processing mushroom.it-tst.v1.jsonl:  66%|██████▌   | 99/150 [05:39<02:34,  3.02s/entry]\u001B[A\n",
      "Processing mushroom.it-tst.v1.jsonl:  67%|██████▋   | 100/150 [05:41<02:19,  2.79s/entry]\u001B[A\n",
      "Processing mushroom.it-tst.v1.jsonl:  67%|██████▋   | 101/150 [05:44<02:09,  2.64s/entry]\u001B[A"
     ]
    },
    {
     "name": "stdout",
     "output_type": "stream",
     "text": [
      "No valid JSON found in content: []\n",
      "\n",
      "Error processing entry tst-it-101: list index out of range\n"
     ]
    },
    {
     "name": "stderr",
     "output_type": "stream",
     "text": [
      "\n",
      "Processing mushroom.it-tst.v1.jsonl:  68%|██████▊   | 102/150 [05:51<03:08,  3.92s/entry]\u001B[A\n",
      "Processing mushroom.it-tst.v1.jsonl:  69%|██████▊   | 103/150 [05:53<02:39,  3.39s/entry]\u001B[A\n",
      "Processing mushroom.it-tst.v1.jsonl:  69%|██████▉   | 104/150 [05:58<03:00,  3.93s/entry]\u001B[A\n",
      "Processing mushroom.it-tst.v1.jsonl:  70%|███████   | 105/150 [06:04<03:22,  4.50s/entry]\u001B[A\n",
      "Processing mushroom.it-tst.v1.jsonl:  71%|███████   | 106/150 [06:06<02:53,  3.95s/entry]\u001B[A\n",
      "Processing mushroom.it-tst.v1.jsonl:  71%|███████▏  | 107/150 [06:11<02:55,  4.08s/entry]\u001B[A\n",
      "Processing mushroom.it-tst.v1.jsonl:  72%|███████▏  | 108/150 [06:14<02:34,  3.67s/entry]\u001B[A\n",
      "Processing mushroom.it-tst.v1.jsonl:  73%|███████▎  | 109/150 [06:16<02:10,  3.18s/entry]\u001B[A\n",
      "Processing mushroom.it-tst.v1.jsonl:  73%|███████▎  | 110/150 [06:18<01:56,  2.91s/entry]\u001B[A\n",
      "Processing mushroom.it-tst.v1.jsonl:  74%|███████▍  | 111/150 [06:21<02:01,  3.11s/entry]\u001B[A\n",
      "Processing mushroom.it-tst.v1.jsonl:  75%|███████▍  | 112/150 [06:31<03:08,  4.97s/entry]\u001B[A"
     ]
    },
    {
     "name": "stdout",
     "output_type": "stream",
     "text": [
      "Request failed with status code: 429\n",
      "Response: {\n",
      "    \"error\": {\n",
      "        \"message\": \"You exceeded your current quota, please check your plan and billing details. For more information on this error, read the docs: https://platform.openai.com/docs/guides/error-codes/api-errors.\",\n",
      "        \"type\": \"insufficient_quota\",\n",
      "        \"param\": null,\n",
      "        \"code\": \"insufficient_quota\"\n",
      "    }\n",
      "}\n",
      "\n"
     ]
    },
    {
     "name": "stderr",
     "output_type": "stream",
     "text": [
      "\n",
      "Processing mushroom.it-tst.v1.jsonl:  75%|███████▌  | 113/150 [06:34<02:46,  4.51s/entry]\u001B[A"
     ]
    },
    {
     "name": "stdout",
     "output_type": "stream",
     "text": [
      "Request failed with status code: 429\n",
      "Response: {\n",
      "    \"error\": {\n",
      "        \"message\": \"You exceeded your current quota, please check your plan and billing details. For more information on this error, read the docs: https://platform.openai.com/docs/guides/error-codes/api-errors.\",\n",
      "        \"type\": \"insufficient_quota\",\n",
      "        \"param\": null,\n",
      "        \"code\": \"insufficient_quota\"\n",
      "    }\n",
      "}\n",
      "\n"
     ]
    },
    {
     "name": "stderr",
     "output_type": "stream",
     "text": [
      "\n",
      "Processing mushroom.it-tst.v1.jsonl:  76%|███████▌  | 114/150 [06:39<02:48,  4.67s/entry]\u001B[A\n",
      "Processing mushroom.it-tst.v1.jsonl:  77%|███████▋  | 115/150 [06:42<02:28,  4.24s/entry]\u001B[A\n",
      "Processing mushroom.it-tst.v1.jsonl:  77%|███████▋  | 116/150 [06:45<02:02,  3.59s/entry]\u001B[A\n",
      "Processing mushroom.it-tst.v1.jsonl:  78%|███████▊  | 117/150 [06:47<01:51,  3.37s/entry]\u001B[A\n",
      "Processing mushroom.it-tst.v1.jsonl:  79%|███████▊  | 118/150 [06:52<02:03,  3.87s/entry]\u001B[A\n",
      "Processing mushroom.it-tst.v1.jsonl:  79%|███████▉  | 119/150 [06:56<02:00,  3.87s/entry]\u001B[A\n",
      "Processing mushroom.it-tst.v1.jsonl:  80%|████████  | 120/150 [06:58<01:39,  3.32s/entry]\u001B[A\n",
      "Processing mushroom.it-tst.v1.jsonl:  81%|████████  | 121/150 [07:01<01:29,  3.08s/entry]\u001B[A\n",
      "Processing mushroom.it-tst.v1.jsonl:  81%|████████▏ | 122/150 [07:03<01:18,  2.82s/entry]\u001B[A\n",
      "Processing mushroom.it-tst.v1.jsonl:  82%|████████▏ | 123/150 [07:06<01:19,  2.95s/entry]\u001B[A\n",
      "Processing mushroom.it-tst.v1.jsonl:  83%|████████▎ | 124/150 [07:08<01:09,  2.67s/entry]\u001B[A\n",
      "Processing mushroom.it-tst.v1.jsonl:  83%|████████▎ | 125/150 [07:10<01:02,  2.48s/entry]\u001B[A\n",
      "Processing mushroom.it-tst.v1.jsonl:  84%|████████▍ | 126/150 [07:18<01:34,  3.94s/entry]\u001B[A\n",
      "Processing mushroom.it-tst.v1.jsonl:  85%|████████▍ | 127/150 [07:20<01:19,  3.44s/entry]\u001B[A\n",
      "Processing mushroom.it-tst.v1.jsonl:  85%|████████▌ | 128/150 [07:24<01:19,  3.60s/entry]\u001B[A\n",
      "Processing mushroom.it-tst.v1.jsonl:  86%|████████▌ | 129/150 [07:26<01:07,  3.20s/entry]\u001B[A\n",
      "Processing mushroom.it-tst.v1.jsonl:  87%|████████▋ | 130/150 [07:30<01:05,  3.28s/entry]\u001B[A\n",
      "Processing mushroom.it-tst.v1.jsonl:  87%|████████▋ | 131/150 [07:32<00:55,  2.92s/entry]\u001B[A\n",
      "Processing mushroom.it-tst.v1.jsonl:  88%|████████▊ | 132/150 [07:34<00:47,  2.66s/entry]\u001B[A\n",
      "Processing mushroom.it-tst.v1.jsonl:  89%|████████▊ | 133/150 [07:37<00:47,  2.78s/entry]\u001B[A"
     ]
    },
    {
     "name": "stdout",
     "output_type": "stream",
     "text": [
      "No valid JSON found in content: ```json\n",
      "[]\n",
      "```\n",
      "Error processing entry tst-it-133: list index out of range\n"
     ]
    },
    {
     "name": "stderr",
     "output_type": "stream",
     "text": [
      "\n",
      "Processing mushroom.it-tst.v1.jsonl:  89%|████████▉ | 134/150 [07:39<00:39,  2.48s/entry]\u001B[A\n",
      "Processing mushroom.it-tst.v1.jsonl:  90%|█████████ | 135/150 [07:41<00:35,  2.39s/entry]\u001B[A\n",
      "Processing mushroom.it-tst.v1.jsonl:  91%|█████████ | 136/150 [07:43<00:33,  2.41s/entry]\u001B[A"
     ]
    },
    {
     "name": "stdout",
     "output_type": "stream",
     "text": [
      "No valid JSON found in content: []\n",
      "\n",
      "Error processing entry tst-it-136: list index out of range\n"
     ]
    },
    {
     "name": "stderr",
     "output_type": "stream",
     "text": [
      "\n",
      "Processing mushroom.it-tst.v1.jsonl:  91%|█████████▏| 137/150 [07:48<00:40,  3.11s/entry]\u001B[A\n",
      "Processing mushroom.it-tst.v1.jsonl:  92%|█████████▏| 138/150 [07:52<00:38,  3.20s/entry]\u001B[A\n",
      "Processing mushroom.it-tst.v1.jsonl:  93%|█████████▎| 139/150 [07:53<00:30,  2.78s/entry]\u001B[A\n",
      "Processing mushroom.it-tst.v1.jsonl:  93%|█████████▎| 140/150 [07:59<00:37,  3.71s/entry]\u001B[A\n",
      "Processing mushroom.it-tst.v1.jsonl:  94%|█████████▍| 141/150 [08:01<00:29,  3.27s/entry]\u001B[A\n",
      "Processing mushroom.it-tst.v1.jsonl:  95%|█████████▍| 142/150 [08:04<00:23,  2.94s/entry]\u001B[A\n",
      "Processing mushroom.it-tst.v1.jsonl:  95%|█████████▌| 143/150 [08:06<00:18,  2.69s/entry]\u001B[A"
     ]
    },
    {
     "name": "stdout",
     "output_type": "stream",
     "text": [
      "No valid JSON found in content: []\n",
      "Error processing entry tst-it-143: list index out of range\n"
     ]
    },
    {
     "name": "stderr",
     "output_type": "stream",
     "text": [
      "\n",
      "Processing mushroom.it-tst.v1.jsonl:  96%|█████████▌| 144/150 [08:09<00:17,  2.99s/entry]\u001B[A\n",
      "Processing mushroom.it-tst.v1.jsonl:  97%|█████████▋| 145/150 [08:12<00:14,  2.82s/entry]\u001B[A\n",
      "Processing mushroom.it-tst.v1.jsonl:  97%|█████████▋| 146/150 [08:16<00:12,  3.14s/entry]\u001B[A\n",
      "Processing mushroom.it-tst.v1.jsonl:  98%|█████████▊| 147/150 [08:18<00:08,  2.80s/entry]\u001B[A\n",
      "Processing mushroom.it-tst.v1.jsonl:  99%|█████████▊| 148/150 [08:22<00:06,  3.21s/entry]\u001B[A\n",
      "Processing mushroom.it-tst.v1.jsonl:  99%|█████████▉| 149/150 [08:24<00:02,  2.89s/entry]\u001B[A\n",
      "Processing mushroom.it-tst.v1.jsonl: 100%|██████████| 150/150 [08:35<00:00,  5.25s/entry]\u001B[A\n",
      "Processing Files:  71%|███████▏  | 10/14 [1:46:01<41:05, 616.44s/file]                   \u001B[A"
     ]
    },
    {
     "name": "stdout",
     "output_type": "stream",
     "text": [
      "Processed and saved: data/test_detect_gpt4_m2/mushroom.it-tst.v1.jsonl\n"
     ]
    },
    {
     "name": "stderr",
     "output_type": "stream",
     "text": [
      "\n",
      "Processing mushroom.cs-tst.v1.jsonl:   0%|          | 0/100 [00:00<?, ?entry/s]\u001B[A\n",
      "Processing mushroom.cs-tst.v1.jsonl:   1%|          | 1/100 [00:05<09:43,  5.89s/entry]\u001B[A\n",
      "Processing mushroom.cs-tst.v1.jsonl:   2%|▏         | 2/100 [00:17<14:53,  9.12s/entry]\u001B[A\n",
      "Processing mushroom.cs-tst.v1.jsonl:   3%|▎         | 3/100 [00:21<11:19,  7.00s/entry]\u001B[A\n",
      "Processing mushroom.cs-tst.v1.jsonl:   4%|▍         | 4/100 [00:23<07:43,  4.83s/entry]\u001B[A"
     ]
    },
    {
     "name": "stdout",
     "output_type": "stream",
     "text": [
      "No valid JSON found in content: []\n",
      "Error processing entry tst-cs-4: list index out of range\n"
     ]
    },
    {
     "name": "stderr",
     "output_type": "stream",
     "text": [
      "\n",
      "Processing mushroom.cs-tst.v1.jsonl:   5%|▌         | 5/100 [00:28<08:01,  5.07s/entry]\u001B[A\n",
      "Processing mushroom.cs-tst.v1.jsonl:   6%|▌         | 6/100 [00:32<07:20,  4.68s/entry]\u001B[A\n",
      "Processing mushroom.cs-tst.v1.jsonl:   7%|▋         | 7/100 [00:38<07:36,  4.90s/entry]\u001B[A\n",
      "Processing mushroom.cs-tst.v1.jsonl:   8%|▊         | 8/100 [00:41<06:36,  4.30s/entry]\u001B[A\n",
      "Processing mushroom.cs-tst.v1.jsonl:   9%|▉         | 9/100 [00:43<05:41,  3.76s/entry]\u001B[A"
     ]
    },
    {
     "name": "stdout",
     "output_type": "stream",
     "text": [
      "No valid JSON found in content: []\n",
      "\n",
      "Error processing entry tst-cs-9: list index out of range\n"
     ]
    },
    {
     "name": "stderr",
     "output_type": "stream",
     "text": [
      "\n",
      "Processing mushroom.cs-tst.v1.jsonl:  10%|█         | 10/100 [00:49<06:34,  4.38s/entry]\u001B[A\n",
      "Processing mushroom.cs-tst.v1.jsonl:  11%|█         | 11/100 [00:54<06:56,  4.68s/entry]\u001B[A\n",
      "Processing mushroom.cs-tst.v1.jsonl:  12%|█▏        | 12/100 [00:56<05:26,  3.71s/entry]\u001B[A"
     ]
    },
    {
     "name": "stdout",
     "output_type": "stream",
     "text": [
      "No valid JSON found in content: []\n",
      "Error processing entry tst-cs-12: list index out of range\n"
     ]
    },
    {
     "name": "stderr",
     "output_type": "stream",
     "text": [
      "\n",
      "Processing mushroom.cs-tst.v1.jsonl:  13%|█▎        | 13/100 [00:58<04:39,  3.21s/entry]\u001B[A\n",
      "Processing mushroom.cs-tst.v1.jsonl:  14%|█▍        | 14/100 [01:02<04:50,  3.38s/entry]\u001B[A"
     ]
    },
    {
     "name": "stdout",
     "output_type": "stream",
     "text": [
      "No valid JSON found in content: []\n",
      "\n",
      "Error processing entry tst-cs-14: list index out of range\n"
     ]
    },
    {
     "name": "stderr",
     "output_type": "stream",
     "text": [
      "\n",
      "Processing mushroom.cs-tst.v1.jsonl:  15%|█▌        | 15/100 [01:06<05:20,  3.77s/entry]\u001B[A\n",
      "Processing mushroom.cs-tst.v1.jsonl:  16%|█▌        | 16/100 [01:11<05:41,  4.06s/entry]\u001B[A\n",
      "Processing mushroom.cs-tst.v1.jsonl:  17%|█▋        | 17/100 [01:15<05:45,  4.17s/entry]\u001B[A\n",
      "Processing mushroom.cs-tst.v1.jsonl:  18%|█▊        | 18/100 [01:23<06:59,  5.11s/entry]\u001B[A"
     ]
    },
    {
     "name": "stdout",
     "output_type": "stream",
     "text": [
      "Request failed: ('Connection aborted.', RemoteDisconnected('Remote end closed connection without response'))\n"
     ]
    },
    {
     "name": "stderr",
     "output_type": "stream",
     "text": [
      "\n",
      "Processing mushroom.cs-tst.v1.jsonl:  19%|█▉        | 19/100 [01:41<12:06,  8.97s/entry]\u001B[A\n",
      "Processing mushroom.cs-tst.v1.jsonl:  20%|██        | 20/100 [01:44<09:41,  7.26s/entry]\u001B[A\n",
      "Processing mushroom.cs-tst.v1.jsonl:  21%|██        | 21/100 [01:46<07:34,  5.76s/entry]\u001B[A\n",
      "Processing mushroom.cs-tst.v1.jsonl:  22%|██▏       | 22/100 [01:52<07:26,  5.72s/entry]\u001B[A\n",
      "Processing mushroom.cs-tst.v1.jsonl:  23%|██▎       | 23/100 [02:00<08:05,  6.31s/entry]\u001B[A"
     ]
    },
    {
     "name": "stdout",
     "output_type": "stream",
     "text": [
      "No valid JSON found in content: []\n",
      "Error processing entry tst-cs-23: list index out of range\n"
     ]
    },
    {
     "name": "stderr",
     "output_type": "stream",
     "text": [
      "\n",
      "Processing mushroom.cs-tst.v1.jsonl:  24%|██▍       | 24/100 [02:04<07:12,  5.69s/entry]\u001B[A\n",
      "Processing mushroom.cs-tst.v1.jsonl:  25%|██▌       | 25/100 [02:12<08:03,  6.44s/entry]\u001B[A\n",
      "Processing mushroom.cs-tst.v1.jsonl:  26%|██▌       | 26/100 [02:19<08:15,  6.70s/entry]\u001B[A\n",
      "Processing mushroom.cs-tst.v1.jsonl:  27%|██▋       | 27/100 [02:26<08:03,  6.62s/entry]\u001B[A\n",
      "Processing mushroom.cs-tst.v1.jsonl:  28%|██▊       | 28/100 [02:30<07:04,  5.90s/entry]\u001B[A\n",
      "Processing mushroom.cs-tst.v1.jsonl:  29%|██▉       | 29/100 [02:33<05:57,  5.03s/entry]\u001B[A\n",
      "Processing mushroom.cs-tst.v1.jsonl:  30%|███       | 30/100 [02:36<05:09,  4.43s/entry]\u001B[A\n",
      "Processing mushroom.cs-tst.v1.jsonl:  31%|███       | 31/100 [02:40<05:07,  4.45s/entry]\u001B[A"
     ]
    },
    {
     "name": "stdout",
     "output_type": "stream",
     "text": [
      "No valid JSON found in content: []\n",
      "\n",
      "Error processing entry tst-cs-31: list index out of range\n"
     ]
    },
    {
     "name": "stderr",
     "output_type": "stream",
     "text": [
      "\n",
      "Processing mushroom.cs-tst.v1.jsonl:  32%|███▏      | 32/100 [02:48<05:59,  5.29s/entry]\u001B[A\n",
      "Processing mushroom.cs-tst.v1.jsonl:  33%|███▎      | 33/100 [02:53<05:45,  5.16s/entry]\u001B[A\n",
      "Processing mushroom.cs-tst.v1.jsonl:  34%|███▍      | 34/100 [02:55<04:53,  4.45s/entry]\u001B[A\n",
      "Processing mushroom.cs-tst.v1.jsonl:  35%|███▌      | 35/100 [03:05<06:31,  6.02s/entry]\u001B[A\n",
      "Processing mushroom.cs-tst.v1.jsonl:  36%|███▌      | 36/100 [03:07<05:13,  4.89s/entry]\u001B[A\n",
      "Processing mushroom.cs-tst.v1.jsonl:  37%|███▋      | 37/100 [03:09<04:16,  4.07s/entry]\u001B[A\n",
      "Processing mushroom.cs-tst.v1.jsonl:  38%|███▊      | 38/100 [03:12<03:35,  3.48s/entry]\u001B[A\n",
      "Processing mushroom.cs-tst.v1.jsonl:  39%|███▉      | 39/100 [03:14<03:18,  3.25s/entry]\u001B[A\n",
      "Processing mushroom.cs-tst.v1.jsonl:  40%|████      | 40/100 [03:17<03:14,  3.24s/entry]\u001B[A\n",
      "Processing mushroom.cs-tst.v1.jsonl:  41%|████      | 41/100 [03:19<02:42,  2.75s/entry]\u001B[A"
     ]
    },
    {
     "name": "stdout",
     "output_type": "stream",
     "text": [
      "No valid JSON found in content: []\n",
      "\n",
      "Error processing entry tst-cs-41: list index out of range\n"
     ]
    },
    {
     "name": "stderr",
     "output_type": "stream",
     "text": [
      "\n",
      "Processing mushroom.cs-tst.v1.jsonl:  42%|████▏     | 42/100 [03:24<03:16,  3.40s/entry]\u001B[A"
     ]
    },
    {
     "name": "stdout",
     "output_type": "stream",
     "text": [
      "No valid JSON found in content: []\n",
      "\n",
      "Error processing entry tst-cs-42: list index out of range\n"
     ]
    },
    {
     "name": "stderr",
     "output_type": "stream",
     "text": [
      "\n",
      "Processing mushroom.cs-tst.v1.jsonl:  43%|████▎     | 43/100 [03:30<03:57,  4.17s/entry]\u001B[A\n",
      "Processing mushroom.cs-tst.v1.jsonl:  44%|████▍     | 44/100 [03:32<03:12,  3.43s/entry]\u001B[A"
     ]
    },
    {
     "name": "stdout",
     "output_type": "stream",
     "text": [
      "No valid JSON found in content: []\n",
      "Error processing entry tst-cs-44: list index out of range\n"
     ]
    },
    {
     "name": "stderr",
     "output_type": "stream",
     "text": [
      "\n",
      "Processing mushroom.cs-tst.v1.jsonl:  45%|████▌     | 45/100 [03:33<02:38,  2.89s/entry]\u001B[A"
     ]
    },
    {
     "name": "stdout",
     "output_type": "stream",
     "text": [
      "No valid JSON found in content: []\n",
      "Error processing entry tst-cs-45: list index out of range\n"
     ]
    },
    {
     "name": "stderr",
     "output_type": "stream",
     "text": [
      "\n",
      "Processing mushroom.cs-tst.v1.jsonl:  46%|████▌     | 46/100 [03:38<02:59,  3.32s/entry]\u001B[A\n",
      "Processing mushroom.cs-tst.v1.jsonl:  47%|████▋     | 47/100 [03:41<02:51,  3.24s/entry]\u001B[A\n",
      "Processing mushroom.cs-tst.v1.jsonl:  48%|████▊     | 48/100 [03:44<02:55,  3.37s/entry]\u001B[A\n",
      "Processing mushroom.cs-tst.v1.jsonl:  49%|████▉     | 49/100 [03:51<03:36,  4.25s/entry]\u001B[A"
     ]
    },
    {
     "name": "stdout",
     "output_type": "stream",
     "text": [
      "No valid JSON found in content: []\n",
      "\n",
      "Error processing entry tst-cs-49: list index out of range\n"
     ]
    },
    {
     "name": "stderr",
     "output_type": "stream",
     "text": [
      "\n",
      "Processing mushroom.cs-tst.v1.jsonl:  50%|█████     | 50/100 [03:57<04:01,  4.84s/entry]\u001B[A\n",
      "Processing mushroom.cs-tst.v1.jsonl:  51%|█████     | 51/100 [04:01<03:52,  4.75s/entry]\u001B[A\n",
      "Processing mushroom.cs-tst.v1.jsonl:  52%|█████▏    | 52/100 [04:04<03:23,  4.24s/entry]\u001B[A\n",
      "Processing mushroom.cs-tst.v1.jsonl:  53%|█████▎    | 53/100 [04:07<03:02,  3.87s/entry]\u001B[A\n",
      "Processing mushroom.cs-tst.v1.jsonl:  54%|█████▍    | 54/100 [04:11<02:48,  3.66s/entry]\u001B[A\n",
      "Processing mushroom.cs-tst.v1.jsonl:  55%|█████▌    | 55/100 [04:14<02:43,  3.64s/entry]\u001B[A\n",
      "Processing mushroom.cs-tst.v1.jsonl:  56%|█████▌    | 56/100 [04:22<03:34,  4.88s/entry]\u001B[A\n",
      "Processing mushroom.cs-tst.v1.jsonl:  57%|█████▋    | 57/100 [04:24<02:54,  4.06s/entry]\u001B[A\n",
      "Processing mushroom.cs-tst.v1.jsonl:  58%|█████▊    | 58/100 [04:36<04:24,  6.31s/entry]\u001B[A\n",
      "Processing mushroom.cs-tst.v1.jsonl:  59%|█████▉    | 59/100 [04:40<03:55,  5.74s/entry]\u001B[A\n",
      "Processing mushroom.cs-tst.v1.jsonl:  60%|██████    | 60/100 [04:44<03:26,  5.17s/entry]\u001B[A\n",
      "Processing mushroom.cs-tst.v1.jsonl:  61%|██████    | 61/100 [04:50<03:26,  5.30s/entry]\u001B[A\n",
      "Processing mushroom.cs-tst.v1.jsonl:  62%|██████▏   | 62/100 [04:54<03:08,  4.97s/entry]\u001B[A\n",
      "Processing mushroom.cs-tst.v1.jsonl:  63%|██████▎   | 63/100 [04:58<02:52,  4.65s/entry]\u001B[A\n",
      "Processing mushroom.cs-tst.v1.jsonl:  64%|██████▍   | 64/100 [05:01<02:29,  4.14s/entry]\u001B[A\n",
      "Processing mushroom.cs-tst.v1.jsonl:  65%|██████▌   | 65/100 [05:03<02:03,  3.52s/entry]\u001B[A"
     ]
    },
    {
     "name": "stdout",
     "output_type": "stream",
     "text": [
      "No valid JSON found in content: []\n",
      "\n",
      "Error processing entry tst-cs-65: list index out of range\n"
     ]
    },
    {
     "name": "stderr",
     "output_type": "stream",
     "text": [
      "\n",
      "Processing mushroom.cs-tst.v1.jsonl:  66%|██████▌   | 66/100 [05:06<01:53,  3.33s/entry]\u001B[A"
     ]
    },
    {
     "name": "stdout",
     "output_type": "stream",
     "text": [
      "No valid JSON found in content: []\n",
      "\n",
      "Error processing entry tst-cs-66: list index out of range\n"
     ]
    },
    {
     "name": "stderr",
     "output_type": "stream",
     "text": [
      "\n",
      "Processing mushroom.cs-tst.v1.jsonl:  67%|██████▋   | 67/100 [05:07<01:32,  2.81s/entry]\u001B[A"
     ]
    },
    {
     "name": "stdout",
     "output_type": "stream",
     "text": [
      "No valid JSON found in content: []\n",
      "\n",
      "Error processing entry tst-cs-67: list index out of range\n"
     ]
    },
    {
     "name": "stderr",
     "output_type": "stream",
     "text": [
      "\n",
      "Processing mushroom.cs-tst.v1.jsonl:  68%|██████▊   | 68/100 [05:10<01:30,  2.84s/entry]\u001B[A\n",
      "Processing mushroom.cs-tst.v1.jsonl:  69%|██████▉   | 69/100 [05:14<01:42,  3.30s/entry]\u001B[A\n",
      "Processing mushroom.cs-tst.v1.jsonl:  70%|███████   | 70/100 [05:18<01:44,  3.48s/entry]\u001B[A\n",
      "Processing mushroom.cs-tst.v1.jsonl:  71%|███████   | 71/100 [05:22<01:40,  3.46s/entry]\u001B[A"
     ]
    },
    {
     "name": "stdout",
     "output_type": "stream",
     "text": [
      "No valid JSON found in content: []\n",
      "\n",
      "Error processing entry tst-cs-71: list index out of range\n"
     ]
    },
    {
     "name": "stderr",
     "output_type": "stream",
     "text": [
      "\n",
      "Processing mushroom.cs-tst.v1.jsonl:  72%|███████▏  | 72/100 [05:26<01:42,  3.64s/entry]\u001B[A\n",
      "Processing mushroom.cs-tst.v1.jsonl:  73%|███████▎  | 73/100 [05:29<01:37,  3.60s/entry]\u001B[A\n",
      "Processing mushroom.cs-tst.v1.jsonl:  74%|███████▍  | 74/100 [05:34<01:42,  3.96s/entry]\u001B[A\n",
      "Processing mushroom.cs-tst.v1.jsonl:  75%|███████▌  | 75/100 [05:36<01:25,  3.41s/entry]\u001B[A"
     ]
    },
    {
     "name": "stdout",
     "output_type": "stream",
     "text": [
      "No valid JSON found in content: []\n",
      "\n",
      "Error processing entry tst-cs-75: list index out of range\n"
     ]
    },
    {
     "name": "stderr",
     "output_type": "stream",
     "text": [
      "\n",
      "Processing mushroom.cs-tst.v1.jsonl:  76%|███████▌  | 76/100 [05:38<01:11,  2.99s/entry]\u001B[A"
     ]
    },
    {
     "name": "stdout",
     "output_type": "stream",
     "text": [
      "No valid JSON found in content: []\n",
      "Error processing entry tst-cs-76: list index out of range\n"
     ]
    },
    {
     "name": "stderr",
     "output_type": "stream",
     "text": [
      "\n",
      "Processing mushroom.cs-tst.v1.jsonl:  77%|███████▋  | 77/100 [05:42<01:13,  3.18s/entry]\u001B[A\n",
      "Processing mushroom.cs-tst.v1.jsonl:  78%|███████▊  | 78/100 [05:49<01:32,  4.21s/entry]\u001B[A\n",
      "Processing mushroom.cs-tst.v1.jsonl:  79%|███████▉  | 79/100 [05:52<01:21,  3.86s/entry]\u001B[A"
     ]
    },
    {
     "name": "stdout",
     "output_type": "stream",
     "text": [
      "No valid JSON found in content: []\n",
      "\n",
      "Error processing entry tst-cs-79: list index out of range\n"
     ]
    },
    {
     "name": "stderr",
     "output_type": "stream",
     "text": [
      "\n",
      "Processing mushroom.cs-tst.v1.jsonl:  80%|████████  | 80/100 [05:59<01:39,  4.98s/entry]\u001B[A\n",
      "Processing mushroom.cs-tst.v1.jsonl:  81%|████████  | 81/100 [06:03<01:28,  4.65s/entry]\u001B[A\n",
      "Processing mushroom.cs-tst.v1.jsonl:  82%|████████▏ | 82/100 [06:05<01:10,  3.91s/entry]\u001B[A\n",
      "Processing mushroom.cs-tst.v1.jsonl:  83%|████████▎ | 83/100 [06:11<01:15,  4.43s/entry]\u001B[A\n",
      "Processing mushroom.cs-tst.v1.jsonl:  84%|████████▍ | 84/100 [06:13<00:57,  3.60s/entry]\u001B[A"
     ]
    },
    {
     "name": "stdout",
     "output_type": "stream",
     "text": [
      "No valid JSON found in content: []\n",
      "Error processing entry tst-cs-84: list index out of range\n"
     ]
    },
    {
     "name": "stderr",
     "output_type": "stream",
     "text": [
      "\n",
      "Processing mushroom.cs-tst.v1.jsonl:  85%|████████▌ | 85/100 [06:17<00:58,  3.90s/entry]\u001B[A\n",
      "Processing mushroom.cs-tst.v1.jsonl:  86%|████████▌ | 86/100 [06:20<00:50,  3.63s/entry]\u001B[A"
     ]
    },
    {
     "name": "stdout",
     "output_type": "stream",
     "text": [
      "No valid JSON found in content: []\n",
      "Error processing entry tst-cs-86: list index out of range\n"
     ]
    },
    {
     "name": "stderr",
     "output_type": "stream",
     "text": [
      "\n",
      "Processing mushroom.cs-tst.v1.jsonl:  87%|████████▋ | 87/100 [06:27<00:59,  4.56s/entry]\u001B[A\n",
      "Processing mushroom.cs-tst.v1.jsonl:  88%|████████▊ | 88/100 [06:33<01:00,  5.05s/entry]\u001B[A\n",
      "Processing mushroom.cs-tst.v1.jsonl:  89%|████████▉ | 89/100 [06:35<00:46,  4.23s/entry]\u001B[A"
     ]
    },
    {
     "name": "stdout",
     "output_type": "stream",
     "text": [
      "No valid JSON found in content: []\n",
      "\n",
      "Error processing entry tst-cs-89: list index out of range\n"
     ]
    },
    {
     "name": "stderr",
     "output_type": "stream",
     "text": [
      "\n",
      "Processing mushroom.cs-tst.v1.jsonl:  90%|█████████ | 90/100 [06:40<00:44,  4.41s/entry]\u001B[A\n",
      "Processing mushroom.cs-tst.v1.jsonl:  91%|█████████ | 91/100 [06:46<00:42,  4.72s/entry]\u001B[A\n",
      "Processing mushroom.cs-tst.v1.jsonl:  92%|█████████▏| 92/100 [06:55<00:50,  6.26s/entry]\u001B[A\n",
      "Processing mushroom.cs-tst.v1.jsonl:  93%|█████████▎| 93/100 [06:58<00:35,  5.06s/entry]\u001B[A\n",
      "Processing mushroom.cs-tst.v1.jsonl:  94%|█████████▍| 94/100 [07:01<00:27,  4.65s/entry]\u001B[A\n",
      "Processing mushroom.cs-tst.v1.jsonl:  95%|█████████▌| 95/100 [07:04<00:20,  4.03s/entry]\u001B[A"
     ]
    },
    {
     "name": "stdout",
     "output_type": "stream",
     "text": [
      "No valid JSON found in content: []\n",
      "\n",
      "Error processing entry tst-cs-95: list index out of range\n"
     ]
    },
    {
     "name": "stderr",
     "output_type": "stream",
     "text": [
      "\n",
      "Processing mushroom.cs-tst.v1.jsonl:  96%|█████████▌| 96/100 [07:07<00:14,  3.68s/entry]\u001B[A\n",
      "Processing mushroom.cs-tst.v1.jsonl:  97%|█████████▋| 97/100 [07:12<00:12,  4.09s/entry]\u001B[A\n",
      "Processing mushroom.cs-tst.v1.jsonl:  98%|█████████▊| 98/100 [07:21<00:11,  5.56s/entry]\u001B[A\n",
      "Processing mushroom.cs-tst.v1.jsonl:  99%|█████████▉| 99/100 [07:26<00:05,  5.40s/entry]\u001B[A\n",
      "Processing mushroom.cs-tst.v1.jsonl: 100%|██████████| 100/100 [07:32<00:00,  5.58s/entry]\u001B[A\n",
      "Processing Files:  79%|███████▊  | 11/14 [1:53:34<28:18, 566.27s/file]                   \u001B[A"
     ]
    },
    {
     "name": "stdout",
     "output_type": "stream",
     "text": [
      "Processed and saved: data/test_detect_gpt4_m2/mushroom.cs-tst.v1.jsonl\n"
     ]
    },
    {
     "name": "stderr",
     "output_type": "stream",
     "text": [
      "\n",
      "Processing mushroom.sv-tst.v1.jsonl:   0%|          | 0/147 [00:00<?, ?entry/s]\u001B[A\n",
      "Processing mushroom.sv-tst.v1.jsonl:   1%|          | 1/147 [00:02<06:27,  2.65s/entry]\u001B[A\n",
      "Processing mushroom.sv-tst.v1.jsonl:   1%|▏         | 2/147 [00:04<05:53,  2.44s/entry]\u001B[A\n",
      "Processing mushroom.sv-tst.v1.jsonl:   2%|▏         | 3/147 [00:07<06:05,  2.54s/entry]\u001B[A\n",
      "Processing mushroom.sv-tst.v1.jsonl:   3%|▎         | 4/147 [00:10<06:44,  2.83s/entry]\u001B[A\n",
      "Processing mushroom.sv-tst.v1.jsonl:   3%|▎         | 5/147 [00:15<07:50,  3.31s/entry]\u001B[A\n",
      "Processing mushroom.sv-tst.v1.jsonl:   4%|▍         | 6/147 [00:17<07:26,  3.17s/entry]\u001B[A\n",
      "Processing mushroom.sv-tst.v1.jsonl:   5%|▍         | 7/147 [00:23<08:56,  3.83s/entry]\u001B[A\n",
      "Processing mushroom.sv-tst.v1.jsonl:   5%|▌         | 8/147 [00:25<07:34,  3.27s/entry]\u001B[A\n",
      "Processing mushroom.sv-tst.v1.jsonl:   6%|▌         | 9/147 [00:28<07:14,  3.15s/entry]\u001B[A\n",
      "Processing mushroom.sv-tst.v1.jsonl:   7%|▋         | 10/147 [00:31<07:14,  3.17s/entry]\u001B[A\n",
      "Processing mushroom.sv-tst.v1.jsonl:   7%|▋         | 11/147 [00:34<07:09,  3.16s/entry]\u001B[A\n",
      "Processing mushroom.sv-tst.v1.jsonl:   8%|▊         | 12/147 [00:38<07:37,  3.39s/entry]\u001B[A\n",
      "Processing mushroom.sv-tst.v1.jsonl:   9%|▉         | 13/147 [00:41<07:06,  3.18s/entry]\u001B[A\n",
      "Processing mushroom.sv-tst.v1.jsonl:  10%|▉         | 14/147 [00:43<06:31,  2.95s/entry]\u001B[A\n",
      "Processing mushroom.sv-tst.v1.jsonl:  10%|█         | 15/147 [00:46<06:26,  2.93s/entry]\u001B[A\n",
      "Processing mushroom.sv-tst.v1.jsonl:  11%|█         | 16/147 [00:49<06:13,  2.85s/entry]\u001B[A\n",
      "Processing mushroom.sv-tst.v1.jsonl:  12%|█▏        | 17/147 [00:52<06:47,  3.13s/entry]\u001B[A\n",
      "Processing mushroom.sv-tst.v1.jsonl:  12%|█▏        | 18/147 [00:57<07:48,  3.63s/entry]\u001B[A\n",
      "Processing mushroom.sv-tst.v1.jsonl:  13%|█▎        | 19/147 [01:00<07:16,  3.41s/entry]\u001B[A\n",
      "Processing mushroom.sv-tst.v1.jsonl:  14%|█▎        | 20/147 [01:03<06:56,  3.28s/entry]\u001B[A\n",
      "Processing mushroom.sv-tst.v1.jsonl:  14%|█▍        | 21/147 [01:07<07:23,  3.52s/entry]\u001B[A\n",
      "Processing mushroom.sv-tst.v1.jsonl:  15%|█▍        | 22/147 [01:10<06:57,  3.34s/entry]\u001B[A"
     ]
    },
    {
     "name": "stdout",
     "output_type": "stream",
     "text": [
      "No valid JSON found in content: []\n",
      "\n",
      "Error processing entry tst-sv-23: list index out of range\n"
     ]
    },
    {
     "name": "stderr",
     "output_type": "stream",
     "text": [
      "\n",
      "Processing mushroom.sv-tst.v1.jsonl:  16%|█▌        | 23/147 [01:17<08:54,  4.31s/entry]\u001B[A\n",
      "Processing mushroom.sv-tst.v1.jsonl:  16%|█▋        | 24/147 [01:21<08:55,  4.35s/entry]\u001B[A\n",
      "Processing mushroom.sv-tst.v1.jsonl:  17%|█▋        | 25/147 [01:24<08:00,  3.94s/entry]\u001B[A\n",
      "Processing mushroom.sv-tst.v1.jsonl:  18%|█▊        | 26/147 [01:27<07:25,  3.68s/entry]\u001B[A\n",
      "Processing mushroom.sv-tst.v1.jsonl:  18%|█▊        | 27/147 [01:34<09:18,  4.66s/entry]\u001B[A\n",
      "Processing mushroom.sv-tst.v1.jsonl:  19%|█▉        | 28/147 [01:37<08:08,  4.11s/entry]\u001B[A\n",
      "Processing mushroom.sv-tst.v1.jsonl:  20%|█▉        | 29/147 [01:41<07:50,  3.99s/entry]\u001B[A\n",
      "Processing mushroom.sv-tst.v1.jsonl:  20%|██        | 30/147 [01:43<06:46,  3.48s/entry]\u001B[A\n",
      "Processing mushroom.sv-tst.v1.jsonl:  21%|██        | 31/147 [01:45<05:58,  3.09s/entry]\u001B[A\n",
      "Processing mushroom.sv-tst.v1.jsonl:  22%|██▏       | 32/147 [01:50<07:08,  3.73s/entry]\u001B[A\n",
      "Processing mushroom.sv-tst.v1.jsonl:  22%|██▏       | 33/147 [01:53<06:35,  3.47s/entry]\u001B[A\n",
      "Processing mushroom.sv-tst.v1.jsonl:  23%|██▎       | 34/147 [01:58<07:06,  3.78s/entry]\u001B[A\n",
      "Processing mushroom.sv-tst.v1.jsonl:  24%|██▍       | 35/147 [02:00<06:04,  3.25s/entry]\u001B[A\n",
      "Processing mushroom.sv-tst.v1.jsonl:  24%|██▍       | 36/147 [02:04<06:36,  3.57s/entry]\u001B[A\n",
      "Processing mushroom.sv-tst.v1.jsonl:  25%|██▌       | 37/147 [02:07<06:20,  3.46s/entry]\u001B[A\n",
      "Processing mushroom.sv-tst.v1.jsonl:  26%|██▌       | 38/147 [02:09<05:29,  3.02s/entry]\u001B[A\n",
      "Processing mushroom.sv-tst.v1.jsonl:  27%|██▋       | 39/147 [02:12<05:30,  3.06s/entry]\u001B[A\n",
      "Processing mushroom.sv-tst.v1.jsonl:  27%|██▋       | 40/147 [02:18<06:42,  3.76s/entry]\u001B[A\n",
      "Processing mushroom.sv-tst.v1.jsonl:  28%|██▊       | 41/147 [02:20<06:08,  3.47s/entry]\u001B[A\n",
      "Processing mushroom.sv-tst.v1.jsonl:  29%|██▊       | 42/147 [02:23<05:36,  3.21s/entry]\u001B[A\n",
      "Processing mushroom.sv-tst.v1.jsonl:  29%|██▉       | 43/147 [02:28<06:17,  3.63s/entry]\u001B[A\n",
      "Processing mushroom.sv-tst.v1.jsonl:  30%|██▉       | 44/147 [02:30<05:26,  3.17s/entry]\u001B[A"
     ]
    },
    {
     "name": "stdout",
     "output_type": "stream",
     "text": [
      "No valid JSON found in content: []\n",
      "\n",
      "Error processing entry tst-sv-45: list index out of range\n"
     ]
    },
    {
     "name": "stderr",
     "output_type": "stream",
     "text": [
      "\n",
      "Processing mushroom.sv-tst.v1.jsonl:  31%|███       | 45/147 [02:33<05:11,  3.05s/entry]\u001B[A\n",
      "Processing mushroom.sv-tst.v1.jsonl:  31%|███▏      | 46/147 [02:35<04:51,  2.89s/entry]\u001B[A\n",
      "Processing mushroom.sv-tst.v1.jsonl:  32%|███▏      | 47/147 [02:44<07:57,  4.77s/entry]\u001B[A\n",
      "Processing mushroom.sv-tst.v1.jsonl:  33%|███▎      | 48/147 [02:47<06:54,  4.19s/entry]\u001B[A\n",
      "Processing mushroom.sv-tst.v1.jsonl:  33%|███▎      | 49/147 [02:52<07:25,  4.55s/entry]\u001B[A\n",
      "Processing mushroom.sv-tst.v1.jsonl:  34%|███▍      | 50/147 [02:58<07:52,  4.87s/entry]\u001B[A\n",
      "Processing mushroom.sv-tst.v1.jsonl:  35%|███▍      | 51/147 [03:01<06:46,  4.24s/entry]\u001B[A\n",
      "Processing mushroom.sv-tst.v1.jsonl:  35%|███▌      | 52/147 [03:04<06:05,  3.85s/entry]\u001B[A\n",
      "Processing mushroom.sv-tst.v1.jsonl:  36%|███▌      | 53/147 [03:09<06:38,  4.24s/entry]\u001B[A\n",
      "Processing mushroom.sv-tst.v1.jsonl:  37%|███▋      | 54/147 [03:13<06:17,  4.06s/entry]\u001B[A\n",
      "Processing mushroom.sv-tst.v1.jsonl:  37%|███▋      | 55/147 [03:15<05:17,  3.45s/entry]\u001B[A\n",
      "Processing mushroom.sv-tst.v1.jsonl:  38%|███▊      | 56/147 [03:18<05:15,  3.47s/entry]\u001B[A\n",
      "Processing mushroom.sv-tst.v1.jsonl:  39%|███▉      | 57/147 [03:23<05:38,  3.76s/entry]\u001B[A\n",
      "Processing mushroom.sv-tst.v1.jsonl:  39%|███▉      | 58/147 [03:27<05:59,  4.04s/entry]\u001B[A\n",
      "Processing mushroom.sv-tst.v1.jsonl:  40%|████      | 59/147 [03:31<05:48,  3.96s/entry]\u001B[A\n",
      "Processing mushroom.sv-tst.v1.jsonl:  41%|████      | 60/147 [03:37<06:43,  4.64s/entry]\u001B[A\n",
      "Processing mushroom.sv-tst.v1.jsonl:  41%|████▏     | 61/147 [03:43<07:04,  4.93s/entry]\u001B[A\n",
      "Processing mushroom.sv-tst.v1.jsonl:  42%|████▏     | 62/147 [03:46<06:20,  4.47s/entry]\u001B[A\n",
      "Processing mushroom.sv-tst.v1.jsonl:  43%|████▎     | 63/147 [03:52<06:52,  4.92s/entry]\u001B[A\n",
      "Processing mushroom.sv-tst.v1.jsonl:  44%|████▎     | 64/147 [03:55<06:01,  4.35s/entry]\u001B[A\n",
      "Processing mushroom.sv-tst.v1.jsonl:  44%|████▍     | 65/147 [04:00<06:12,  4.54s/entry]\u001B[A\n",
      "Processing mushroom.sv-tst.v1.jsonl:  45%|████▍     | 66/147 [04:03<05:16,  3.90s/entry]\u001B[A\n",
      "Processing mushroom.sv-tst.v1.jsonl:  46%|████▌     | 67/147 [04:07<05:18,  3.98s/entry]\u001B[A\n",
      "Processing mushroom.sv-tst.v1.jsonl:  46%|████▋     | 68/147 [04:10<04:55,  3.74s/entry]\u001B[A\n",
      "Processing mushroom.sv-tst.v1.jsonl:  47%|████▋     | 69/147 [04:13<04:25,  3.40s/entry]\u001B[A\n",
      "Processing mushroom.sv-tst.v1.jsonl:  48%|████▊     | 70/147 [04:15<04:11,  3.26s/entry]\u001B[A\n",
      "Processing mushroom.sv-tst.v1.jsonl:  48%|████▊     | 71/147 [04:18<03:47,  3.00s/entry]\u001B[A\n",
      "Processing mushroom.sv-tst.v1.jsonl:  49%|████▉     | 72/147 [04:25<05:23,  4.32s/entry]\u001B[A\n",
      "Processing mushroom.sv-tst.v1.jsonl:  50%|████▉     | 73/147 [04:29<05:08,  4.17s/entry]\u001B[A\n",
      "Processing mushroom.sv-tst.v1.jsonl:  50%|█████     | 74/147 [04:35<05:36,  4.61s/entry]\u001B[A\n",
      "Processing mushroom.sv-tst.v1.jsonl:  51%|█████     | 75/147 [04:38<05:05,  4.25s/entry]\u001B[A\n",
      "Processing mushroom.sv-tst.v1.jsonl:  52%|█████▏    | 76/147 [04:44<05:39,  4.78s/entry]\u001B[A\n",
      "Processing mushroom.sv-tst.v1.jsonl:  52%|█████▏    | 77/147 [04:50<05:56,  5.09s/entry]\u001B[A\n",
      "Processing mushroom.sv-tst.v1.jsonl:  53%|█████▎    | 78/147 [04:53<04:58,  4.33s/entry]\u001B[A\n",
      "Processing mushroom.sv-tst.v1.jsonl:  54%|█████▎    | 79/147 [04:56<04:37,  4.08s/entry]\u001B[A\n",
      "Processing mushroom.sv-tst.v1.jsonl:  54%|█████▍    | 80/147 [05:02<05:15,  4.71s/entry]\u001B[A\n",
      "Processing mushroom.sv-tst.v1.jsonl:  55%|█████▌    | 81/147 [05:09<06:01,  5.48s/entry]\u001B[A\n",
      "Processing mushroom.sv-tst.v1.jsonl:  56%|█████▌    | 82/147 [05:12<04:53,  4.52s/entry]\u001B[A\n",
      "Processing mushroom.sv-tst.v1.jsonl:  56%|█████▋    | 83/147 [05:14<04:09,  3.90s/entry]\u001B[A\n",
      "Processing mushroom.sv-tst.v1.jsonl:  57%|█████▋    | 84/147 [05:18<04:08,  3.94s/entry]\u001B[A\n",
      "Processing mushroom.sv-tst.v1.jsonl:  58%|█████▊    | 85/147 [05:23<04:24,  4.27s/entry]\u001B[A\n",
      "Processing mushroom.sv-tst.v1.jsonl:  59%|█████▊    | 86/147 [05:28<04:31,  4.45s/entry]\u001B[A\n",
      "Processing mushroom.sv-tst.v1.jsonl:  59%|█████▉    | 87/147 [05:32<04:08,  4.14s/entry]\u001B[A\n",
      "Processing mushroom.sv-tst.v1.jsonl:  60%|█████▉    | 88/147 [05:34<03:25,  3.49s/entry]\u001B[A\n",
      "Processing mushroom.sv-tst.v1.jsonl:  61%|██████    | 89/147 [05:40<04:18,  4.46s/entry]\u001B[A\n",
      "Processing mushroom.sv-tst.v1.jsonl:  61%|██████    | 90/147 [05:42<03:34,  3.77s/entry]\u001B[A\n",
      "Processing mushroom.sv-tst.v1.jsonl:  62%|██████▏   | 91/147 [05:47<03:48,  4.08s/entry]\u001B[A\n",
      "Processing mushroom.sv-tst.v1.jsonl:  63%|██████▎   | 92/147 [05:52<04:00,  4.37s/entry]\u001B[A\n",
      "Processing mushroom.sv-tst.v1.jsonl:  63%|██████▎   | 93/147 [05:54<03:20,  3.72s/entry]\u001B[A\n",
      "Processing mushroom.sv-tst.v1.jsonl:  64%|██████▍   | 94/147 [05:57<03:00,  3.40s/entry]\u001B[A\n",
      "Processing mushroom.sv-tst.v1.jsonl:  65%|██████▍   | 95/147 [05:59<02:32,  2.93s/entry]\u001B[A\n",
      "Processing mushroom.sv-tst.v1.jsonl:  65%|██████▌   | 96/147 [06:01<02:18,  2.72s/entry]\u001B[A\n",
      "Processing mushroom.sv-tst.v1.jsonl:  66%|██████▌   | 97/147 [06:04<02:14,  2.70s/entry]\u001B[A\n",
      "Processing mushroom.sv-tst.v1.jsonl:  67%|██████▋   | 98/147 [06:06<02:10,  2.66s/entry]\u001B[A\n",
      "Processing mushroom.sv-tst.v1.jsonl:  67%|██████▋   | 99/147 [06:11<02:33,  3.20s/entry]\u001B[A\n",
      "Processing mushroom.sv-tst.v1.jsonl:  68%|██████▊   | 100/147 [06:18<03:19,  4.25s/entry]\u001B[A\n",
      "Processing mushroom.sv-tst.v1.jsonl:  69%|██████▊   | 101/147 [06:21<03:01,  3.95s/entry]\u001B[A\n",
      "Processing mushroom.sv-tst.v1.jsonl:  69%|██████▉   | 102/147 [06:24<02:45,  3.67s/entry]\u001B[A\n",
      "Processing mushroom.sv-tst.v1.jsonl:  70%|███████   | 103/147 [06:28<02:47,  3.81s/entry]\u001B[A\n",
      "Processing mushroom.sv-tst.v1.jsonl:  71%|███████   | 104/147 [06:35<03:29,  4.88s/entry]\u001B[A\n",
      "Processing mushroom.sv-tst.v1.jsonl:  71%|███████▏  | 105/147 [06:37<02:47,  4.00s/entry]\u001B[A\n",
      "Processing mushroom.sv-tst.v1.jsonl:  72%|███████▏  | 106/147 [06:41<02:43,  3.98s/entry]\u001B[A\n",
      "Processing mushroom.sv-tst.v1.jsonl:  73%|███████▎  | 107/147 [06:47<03:02,  4.57s/entry]\u001B[A\n",
      "Processing mushroom.sv-tst.v1.jsonl:  73%|███████▎  | 108/147 [06:52<02:58,  4.57s/entry]\u001B[A\n",
      "Processing mushroom.sv-tst.v1.jsonl:  74%|███████▍  | 109/147 [06:55<02:39,  4.20s/entry]\u001B[A\n",
      "Processing mushroom.sv-tst.v1.jsonl:  75%|███████▍  | 110/147 [06:57<02:07,  3.44s/entry]\u001B[A"
     ]
    },
    {
     "name": "stdout",
     "output_type": "stream",
     "text": [
      "No valid JSON found in content: []\n",
      "Error processing entry tst-sv-112: list index out of range\n"
     ]
    },
    {
     "name": "stderr",
     "output_type": "stream",
     "text": [
      "\n",
      "Processing mushroom.sv-tst.v1.jsonl:  76%|███████▌  | 111/147 [07:00<02:06,  3.50s/entry]\u001B[A\n",
      "Processing mushroom.sv-tst.v1.jsonl:  76%|███████▌  | 112/147 [07:03<01:49,  3.13s/entry]\u001B[A\n",
      "Processing mushroom.sv-tst.v1.jsonl:  77%|███████▋  | 113/147 [07:05<01:36,  2.84s/entry]\u001B[A\n",
      "Processing mushroom.sv-tst.v1.jsonl:  78%|███████▊  | 114/147 [07:07<01:26,  2.62s/entry]\u001B[A\n",
      "Processing mushroom.sv-tst.v1.jsonl:  78%|███████▊  | 115/147 [07:12<01:45,  3.28s/entry]\u001B[A\n",
      "Processing mushroom.sv-tst.v1.jsonl:  79%|███████▉  | 116/147 [07:15<01:36,  3.13s/entry]\u001B[A\n",
      "Processing mushroom.sv-tst.v1.jsonl:  80%|███████▉  | 117/147 [07:20<01:56,  3.89s/entry]\u001B[A\n",
      "Processing mushroom.sv-tst.v1.jsonl:  80%|████████  | 118/147 [07:26<02:07,  4.41s/entry]\u001B[A\n",
      "Processing mushroom.sv-tst.v1.jsonl:  81%|████████  | 119/147 [07:29<01:53,  4.06s/entry]\u001B[A\n",
      "Processing mushroom.sv-tst.v1.jsonl:  82%|████████▏ | 120/147 [07:32<01:40,  3.71s/entry]\u001B[A\n",
      "Processing mushroom.sv-tst.v1.jsonl:  82%|████████▏ | 121/147 [07:37<01:44,  4.02s/entry]\u001B[A\n",
      "Processing mushroom.sv-tst.v1.jsonl:  83%|████████▎ | 122/147 [07:41<01:42,  4.09s/entry]\u001B[A\n",
      "Processing mushroom.sv-tst.v1.jsonl:  84%|████████▎ | 123/147 [07:45<01:34,  3.94s/entry]\u001B[A\n",
      "Processing mushroom.sv-tst.v1.jsonl:  84%|████████▍ | 124/147 [07:51<01:48,  4.70s/entry]\u001B[A\n",
      "Processing mushroom.sv-tst.v1.jsonl:  85%|████████▌ | 125/147 [07:54<01:34,  4.28s/entry]\u001B[A\n",
      "Processing mushroom.sv-tst.v1.jsonl:  86%|████████▌ | 126/147 [07:57<01:17,  3.67s/entry]\u001B[A"
     ]
    },
    {
     "name": "stdout",
     "output_type": "stream",
     "text": [
      "No valid JSON found in content: []\n",
      "\n",
      "Error processing entry tst-sv-129: list index out of range\n"
     ]
    },
    {
     "name": "stderr",
     "output_type": "stream",
     "text": [
      "\n",
      "Processing mushroom.sv-tst.v1.jsonl:  86%|████████▋ | 127/147 [08:03<01:29,  4.48s/entry]\u001B[A\n",
      "Processing mushroom.sv-tst.v1.jsonl:  87%|████████▋ | 128/147 [08:06<01:15,  3.99s/entry]\u001B[A\n",
      "Processing mushroom.sv-tst.v1.jsonl:  88%|████████▊ | 129/147 [08:11<01:18,  4.34s/entry]\u001B[A\n",
      "Processing mushroom.sv-tst.v1.jsonl:  88%|████████▊ | 130/147 [08:14<01:07,  3.96s/entry]\u001B[A\n",
      "Processing mushroom.sv-tst.v1.jsonl:  89%|████████▉ | 131/147 [08:17<00:56,  3.56s/entry]\u001B[A\n",
      "Processing mushroom.sv-tst.v1.jsonl:  90%|████████▉ | 132/147 [08:20<00:52,  3.52s/entry]\u001B[A\n",
      "Processing mushroom.sv-tst.v1.jsonl:  90%|█████████ | 133/147 [08:24<00:49,  3.51s/entry]\u001B[A\n",
      "Processing mushroom.sv-tst.v1.jsonl:  91%|█████████ | 134/147 [08:26<00:40,  3.10s/entry]\u001B[A"
     ]
    },
    {
     "name": "stdout",
     "output_type": "stream",
     "text": [
      "No valid JSON found in content: []\n",
      "Error processing entry tst-sv-137: list index out of range\n"
     ]
    },
    {
     "name": "stderr",
     "output_type": "stream",
     "text": [
      "\n",
      "Processing mushroom.sv-tst.v1.jsonl:  92%|█████████▏| 135/147 [08:39<01:12,  6.07s/entry]\u001B[A\n",
      "Processing mushroom.sv-tst.v1.jsonl:  93%|█████████▎| 136/147 [08:42<00:57,  5.22s/entry]\u001B[A\n",
      "Processing mushroom.sv-tst.v1.jsonl:  93%|█████████▎| 137/147 [08:46<00:48,  4.85s/entry]\u001B[A\n",
      "Processing mushroom.sv-tst.v1.jsonl:  94%|█████████▍| 138/147 [08:50<00:40,  4.48s/entry]\u001B[A\n",
      "Processing mushroom.sv-tst.v1.jsonl:  95%|█████████▍| 139/147 [08:52<00:32,  4.01s/entry]\u001B[A\n",
      "Processing mushroom.sv-tst.v1.jsonl:  95%|█████████▌| 140/147 [08:56<00:26,  3.83s/entry]\u001B[A\n",
      "Processing mushroom.sv-tst.v1.jsonl:  96%|█████████▌| 141/147 [08:58<00:20,  3.44s/entry]\u001B[A\n",
      "Processing mushroom.sv-tst.v1.jsonl:  97%|█████████▋| 142/147 [09:02<00:17,  3.48s/entry]\u001B[A\n",
      "Processing mushroom.sv-tst.v1.jsonl:  97%|█████████▋| 143/147 [09:05<00:13,  3.28s/entry]\u001B[A\n",
      "Processing mushroom.sv-tst.v1.jsonl:  98%|█████████▊| 144/147 [09:07<00:08,  2.95s/entry]\u001B[A\n",
      "Processing mushroom.sv-tst.v1.jsonl:  99%|█████████▊| 145/147 [09:13<00:07,  3.86s/entry]\u001B[A\n",
      "Processing mushroom.sv-tst.v1.jsonl:  99%|█████████▉| 146/147 [09:23<00:05,  5.75s/entry]\u001B[A\n",
      "Processing mushroom.sv-tst.v1.jsonl: 100%|██████████| 147/147 [09:26<00:00,  4.80s/entry]\u001B[A\n",
      "Processing Files:  86%|████████▌ | 12/14 [2:03:00<18:52, 566.24s/file]                   \u001B[A"
     ]
    },
    {
     "name": "stdout",
     "output_type": "stream",
     "text": [
      "Processed and saved: data/test_detect_gpt4_m2/mushroom.sv-tst.v1.jsonl\n"
     ]
    },
    {
     "name": "stderr",
     "output_type": "stream",
     "text": [
      "\n",
      "Processing mushroom.fi-tst.v1.jsonl:   0%|          | 0/150 [00:00<?, ?entry/s]\u001B[A\n",
      "Processing mushroom.fi-tst.v1.jsonl:   1%|          | 1/150 [00:06<15:48,  6.37s/entry]\u001B[A\n",
      "Processing mushroom.fi-tst.v1.jsonl:   1%|▏         | 2/150 [00:09<10:31,  4.26s/entry]\u001B[A\n",
      "Processing mushroom.fi-tst.v1.jsonl:   2%|▏         | 3/150 [00:10<07:22,  3.01s/entry]\u001B[A"
     ]
    },
    {
     "name": "stdout",
     "output_type": "stream",
     "text": [
      "No valid JSON found in content: []\n",
      "\n",
      "Error processing entry tst-fi-3: list index out of range\n"
     ]
    },
    {
     "name": "stderr",
     "output_type": "stream",
     "text": [
      "\n",
      "Processing mushroom.fi-tst.v1.jsonl:   3%|▎         | 4/150 [00:18<12:07,  4.98s/entry]\u001B[A\n",
      "Processing mushroom.fi-tst.v1.jsonl:   3%|▎         | 5/150 [00:23<12:15,  5.07s/entry]\u001B[A\n",
      "Processing mushroom.fi-tst.v1.jsonl:   4%|▍         | 6/150 [00:30<13:12,  5.50s/entry]\u001B[A\n",
      "Processing mushroom.fi-tst.v1.jsonl:   5%|▍         | 7/150 [00:33<10:59,  4.62s/entry]\u001B[A\n",
      "Processing mushroom.fi-tst.v1.jsonl:   5%|▌         | 8/150 [00:37<10:41,  4.51s/entry]\u001B[A\n",
      "Processing mushroom.fi-tst.v1.jsonl:   6%|▌         | 9/150 [00:42<10:47,  4.59s/entry]\u001B[A\n",
      "Processing mushroom.fi-tst.v1.jsonl:   7%|▋         | 10/150 [00:47<11:35,  4.97s/entry]\u001B[A\n",
      "Processing mushroom.fi-tst.v1.jsonl:   7%|▋         | 11/150 [00:50<09:37,  4.16s/entry]\u001B[A\n",
      "Processing mushroom.fi-tst.v1.jsonl:   8%|▊         | 12/150 [00:55<10:18,  4.48s/entry]\u001B[A\n",
      "Processing mushroom.fi-tst.v1.jsonl:   9%|▊         | 13/150 [00:58<09:02,  3.96s/entry]\u001B[A\n",
      "Processing mushroom.fi-tst.v1.jsonl:   9%|▉         | 14/150 [01:01<08:40,  3.83s/entry]\u001B[A\n",
      "Processing mushroom.fi-tst.v1.jsonl:  10%|█         | 15/150 [01:05<08:52,  3.95s/entry]\u001B[A\n",
      "Processing mushroom.fi-tst.v1.jsonl:  11%|█         | 16/150 [01:08<08:06,  3.63s/entry]\u001B[A\n",
      "Processing mushroom.fi-tst.v1.jsonl:  11%|█▏        | 17/150 [01:15<10:15,  4.63s/entry]\u001B[A"
     ]
    },
    {
     "name": "stdout",
     "output_type": "stream",
     "text": [
      "Request failed: ('Connection aborted.', RemoteDisconnected('Remote end closed connection without response'))\n"
     ]
    },
    {
     "name": "stderr",
     "output_type": "stream",
     "text": [
      "\n",
      "Processing mushroom.fi-tst.v1.jsonl:  12%|█▏        | 18/150 [01:43<25:19, 11.51s/entry]\u001B[A"
     ]
    },
    {
     "name": "stdout",
     "output_type": "stream",
     "text": [
      "Request failed: ('Connection aborted.', RemoteDisconnected('Remote end closed connection without response'))\n"
     ]
    },
    {
     "name": "stderr",
     "output_type": "stream",
     "text": [
      "\n",
      "Processing mushroom.fi-tst.v1.jsonl:  13%|█▎        | 19/150 [02:05<31:50, 14.58s/entry]\u001B[A\n",
      "Processing mushroom.fi-tst.v1.jsonl:  13%|█▎        | 20/150 [02:06<23:15, 10.74s/entry]\u001B[A"
     ]
    },
    {
     "name": "stdout",
     "output_type": "stream",
     "text": [
      "No valid JSON found in content: []\n",
      "\n",
      "Error processing entry tst-fi-20: list index out of range\n"
     ]
    },
    {
     "name": "stderr",
     "output_type": "stream",
     "text": [
      "\n",
      "Processing mushroom.fi-tst.v1.jsonl:  14%|█▍        | 21/150 [02:12<19:34,  9.11s/entry]\u001B[A\n",
      "Processing mushroom.fi-tst.v1.jsonl:  15%|█▍        | 22/150 [02:17<17:14,  8.08s/entry]\u001B[A\n",
      "Processing mushroom.fi-tst.v1.jsonl:  15%|█▌        | 23/150 [02:20<13:33,  6.40s/entry]\u001B[A\n",
      "Processing mushroom.fi-tst.v1.jsonl:  16%|█▌        | 24/150 [02:25<12:37,  6.01s/entry]\u001B[A\n",
      "Processing mushroom.fi-tst.v1.jsonl:  17%|█▋        | 25/150 [02:29<11:25,  5.48s/entry]\u001B[A\n",
      "Processing mushroom.fi-tst.v1.jsonl:  17%|█▋        | 26/150 [02:33<10:24,  5.04s/entry]\u001B[A\n",
      "Processing mushroom.fi-tst.v1.jsonl:  18%|█▊        | 27/150 [02:43<13:24,  6.54s/entry]\u001B[A\n",
      "Processing mushroom.fi-tst.v1.jsonl:  19%|█▊        | 28/150 [02:47<11:22,  5.59s/entry]\u001B[A\n",
      "Processing mushroom.fi-tst.v1.jsonl:  19%|█▉        | 29/150 [02:53<11:39,  5.78s/entry]\u001B[A\n",
      "Processing mushroom.fi-tst.v1.jsonl:  20%|██        | 30/150 [02:57<10:28,  5.24s/entry]\u001B[A\n",
      "Processing mushroom.fi-tst.v1.jsonl:  21%|██        | 31/150 [03:00<09:00,  4.54s/entry]\u001B[A\n",
      "Processing mushroom.fi-tst.v1.jsonl:  21%|██▏       | 32/150 [03:12<13:47,  7.02s/entry]\u001B[A\n",
      "Processing mushroom.fi-tst.v1.jsonl:  22%|██▏       | 33/150 [03:16<11:31,  5.91s/entry]\u001B[A\n",
      "Processing mushroom.fi-tst.v1.jsonl:  23%|██▎       | 34/150 [03:25<13:17,  6.88s/entry]\u001B[A\n",
      "Processing mushroom.fi-tst.v1.jsonl:  23%|██▎       | 35/150 [03:30<12:00,  6.26s/entry]\u001B[A\n",
      "Processing mushroom.fi-tst.v1.jsonl:  24%|██▍       | 36/150 [03:33<10:06,  5.32s/entry]\u001B[A\n",
      "Processing mushroom.fi-tst.v1.jsonl:  25%|██▍       | 37/150 [03:36<08:41,  4.61s/entry]\u001B[A\n",
      "Processing mushroom.fi-tst.v1.jsonl:  25%|██▌       | 38/150 [03:38<07:16,  3.90s/entry]\u001B[A\n",
      "Processing mushroom.fi-tst.v1.jsonl:  26%|██▌       | 39/150 [03:43<07:53,  4.27s/entry]\u001B[A\n",
      "Processing mushroom.fi-tst.v1.jsonl:  27%|██▋       | 40/150 [03:49<08:31,  4.65s/entry]\u001B[A\n",
      "Processing mushroom.fi-tst.v1.jsonl:  27%|██▋       | 41/150 [04:00<11:46,  6.48s/entry]\u001B[A\n",
      "Processing mushroom.fi-tst.v1.jsonl:  28%|██▊       | 42/150 [04:04<10:29,  5.83s/entry]\u001B[A\n",
      "Processing mushroom.fi-tst.v1.jsonl:  29%|██▊       | 43/150 [04:11<11:12,  6.29s/entry]\u001B[A\n",
      "Processing mushroom.fi-tst.v1.jsonl:  29%|██▉       | 44/150 [04:18<11:09,  6.31s/entry]\u001B[A\n",
      "Processing mushroom.fi-tst.v1.jsonl:  30%|███       | 45/150 [04:26<12:14,  7.00s/entry]\u001B[A\n",
      "Processing mushroom.fi-tst.v1.jsonl:  31%|███       | 46/150 [04:31<11:02,  6.37s/entry]\u001B[A\n",
      "Processing mushroom.fi-tst.v1.jsonl:  31%|███▏      | 47/150 [04:33<08:52,  5.17s/entry]\u001B[A\n",
      "Processing mushroom.fi-tst.v1.jsonl:  32%|███▏      | 48/150 [04:39<08:53,  5.23s/entry]\u001B[A\n",
      "Processing mushroom.fi-tst.v1.jsonl:  33%|███▎      | 49/150 [04:40<06:54,  4.10s/entry]\u001B[A"
     ]
    },
    {
     "name": "stdout",
     "output_type": "stream",
     "text": [
      "No valid JSON found in content: []\n",
      "\n",
      "Error processing entry tst-fi-49: list index out of range\n"
     ]
    },
    {
     "name": "stderr",
     "output_type": "stream",
     "text": [
      "\n",
      "Processing mushroom.fi-tst.v1.jsonl:  33%|███▎      | 50/150 [04:46<07:26,  4.47s/entry]\u001B[A\n",
      "Processing mushroom.fi-tst.v1.jsonl:  34%|███▍      | 51/150 [04:49<06:49,  4.13s/entry]\u001B[A\n",
      "Processing mushroom.fi-tst.v1.jsonl:  35%|███▍      | 52/150 [04:55<07:49,  4.79s/entry]\u001B[A\n",
      "Processing mushroom.fi-tst.v1.jsonl:  35%|███▌      | 53/150 [04:58<06:58,  4.32s/entry]\u001B[A\n",
      "Processing mushroom.fi-tst.v1.jsonl:  36%|███▌      | 54/150 [05:04<07:15,  4.53s/entry]\u001B[A\n",
      "Processing mushroom.fi-tst.v1.jsonl:  37%|███▋      | 55/150 [05:06<06:08,  3.88s/entry]\u001B[A\n",
      "Processing mushroom.fi-tst.v1.jsonl:  37%|███▋      | 56/150 [05:11<06:38,  4.24s/entry]\u001B[A\n",
      "Processing mushroom.fi-tst.v1.jsonl:  38%|███▊      | 57/150 [05:22<09:31,  6.14s/entry]\u001B[A\n",
      "Processing mushroom.fi-tst.v1.jsonl:  39%|███▊      | 58/150 [05:28<09:28,  6.18s/entry]\u001B[A\n",
      "Processing mushroom.fi-tst.v1.jsonl:  39%|███▉      | 59/150 [05:33<08:50,  5.83s/entry]\u001B[A\n",
      "Processing mushroom.fi-tst.v1.jsonl:  40%|████      | 60/150 [05:45<11:43,  7.82s/entry]\u001B[A\n",
      "Processing mushroom.fi-tst.v1.jsonl:  41%|████      | 61/150 [05:49<09:36,  6.48s/entry]\u001B[A"
     ]
    },
    {
     "name": "stdout",
     "output_type": "stream",
     "text": [
      "No valid JSON found in content: []\n",
      "\n",
      "Error processing entry tst-fi-61: list index out of range\n"
     ]
    },
    {
     "name": "stderr",
     "output_type": "stream",
     "text": [
      "\n",
      "Processing mushroom.fi-tst.v1.jsonl:  41%|████▏     | 62/150 [06:01<11:53,  8.10s/entry]\u001B[A\n",
      "Processing mushroom.fi-tst.v1.jsonl:  42%|████▏     | 63/150 [06:05<10:18,  7.11s/entry]\u001B[A\n",
      "Processing mushroom.fi-tst.v1.jsonl:  43%|████▎     | 64/150 [06:08<08:25,  5.88s/entry]\u001B[A\n",
      "Processing mushroom.fi-tst.v1.jsonl:  43%|████▎     | 65/150 [06:13<07:48,  5.51s/entry]\u001B[A\n",
      "Processing mushroom.fi-tst.v1.jsonl:  44%|████▍     | 66/150 [06:15<06:20,  4.53s/entry]\u001B[A\n",
      "Processing mushroom.fi-tst.v1.jsonl:  45%|████▍     | 67/150 [06:19<05:59,  4.33s/entry]\u001B[A\n",
      "Processing mushroom.fi-tst.v1.jsonl:  45%|████▌     | 68/150 [06:21<04:58,  3.64s/entry]\u001B[A\n",
      "Processing mushroom.fi-tst.v1.jsonl:  46%|████▌     | 69/150 [06:26<05:20,  3.96s/entry]\u001B[A\n",
      "Processing mushroom.fi-tst.v1.jsonl:  47%|████▋     | 70/150 [06:34<06:52,  5.16s/entry]\u001B[A\n",
      "Processing mushroom.fi-tst.v1.jsonl:  47%|████▋     | 71/150 [06:40<07:08,  5.42s/entry]\u001B[A\n",
      "Processing mushroom.fi-tst.v1.jsonl:  48%|████▊     | 72/150 [06:44<06:35,  5.07s/entry]\u001B[A\n",
      "Processing mushroom.fi-tst.v1.jsonl:  49%|████▊     | 73/150 [06:47<05:30,  4.29s/entry]\u001B[A\n",
      "Processing mushroom.fi-tst.v1.jsonl:  49%|████▉     | 74/150 [06:49<04:37,  3.65s/entry]\u001B[A\n",
      "Processing mushroom.fi-tst.v1.jsonl:  50%|█████     | 75/150 [06:52<04:31,  3.62s/entry]\u001B[A\n",
      "Processing mushroom.fi-tst.v1.jsonl:  51%|█████     | 76/150 [06:56<04:37,  3.74s/entry]\u001B[A\n",
      "Processing mushroom.fi-tst.v1.jsonl:  51%|█████▏    | 77/150 [07:00<04:38,  3.81s/entry]\u001B[A\n",
      "Processing mushroom.fi-tst.v1.jsonl:  52%|█████▏    | 78/150 [07:05<05:02,  4.20s/entry]\u001B[A\n",
      "Processing mushroom.fi-tst.v1.jsonl:  53%|█████▎    | 79/150 [07:09<04:51,  4.10s/entry]\u001B[A\n",
      "Processing mushroom.fi-tst.v1.jsonl:  53%|█████▎    | 80/150 [07:12<04:15,  3.65s/entry]\u001B[A\n",
      "Processing mushroom.fi-tst.v1.jsonl:  54%|█████▍    | 81/150 [07:15<03:56,  3.42s/entry]\u001B[A\n",
      "Processing mushroom.fi-tst.v1.jsonl:  55%|█████▍    | 82/150 [07:20<04:25,  3.91s/entry]\u001B[A\n",
      "Processing mushroom.fi-tst.v1.jsonl:  55%|█████▌    | 83/150 [07:25<04:39,  4.17s/entry]\u001B[A\n",
      "Processing mushroom.fi-tst.v1.jsonl:  56%|█████▌    | 84/150 [07:31<05:15,  4.79s/entry]\u001B[A\n",
      "Processing mushroom.fi-tst.v1.jsonl:  57%|█████▋    | 85/150 [07:37<05:32,  5.12s/entry]\u001B[A\n",
      "Processing mushroom.fi-tst.v1.jsonl:  57%|█████▋    | 86/150 [07:41<05:05,  4.78s/entry]\u001B[A\n",
      "Processing mushroom.fi-tst.v1.jsonl:  58%|█████▊    | 87/150 [07:44<04:31,  4.31s/entry]\u001B[A\n",
      "Processing mushroom.fi-tst.v1.jsonl:  59%|█████▊    | 88/150 [07:46<03:44,  3.62s/entry]\u001B[A\n",
      "Processing mushroom.fi-tst.v1.jsonl:  59%|█████▉    | 89/150 [07:54<05:07,  5.04s/entry]\u001B[A\n",
      "Processing mushroom.fi-tst.v1.jsonl:  60%|██████    | 90/150 [08:03<06:09,  6.16s/entry]\u001B[A\n",
      "Processing mushroom.fi-tst.v1.jsonl:  61%|██████    | 91/150 [08:13<07:09,  7.29s/entry]\u001B[A\n",
      "Processing mushroom.fi-tst.v1.jsonl:  61%|██████▏   | 92/150 [08:25<08:26,  8.73s/entry]\u001B[A\n",
      "Processing mushroom.fi-tst.v1.jsonl:  62%|██████▏   | 93/150 [08:27<06:26,  6.78s/entry]\u001B[A\n",
      "Processing mushroom.fi-tst.v1.jsonl:  63%|██████▎   | 94/150 [08:31<05:26,  5.84s/entry]\u001B[A\n",
      "Processing mushroom.fi-tst.v1.jsonl:  63%|██████▎   | 95/150 [08:33<04:19,  4.72s/entry]\u001B[A\n",
      "Processing mushroom.fi-tst.v1.jsonl:  64%|██████▍   | 96/150 [08:38<04:26,  4.94s/entry]\u001B[A\n",
      "Processing mushroom.fi-tst.v1.jsonl:  65%|██████▍   | 97/150 [08:42<04:02,  4.58s/entry]\u001B[A"
     ]
    },
    {
     "name": "stdout",
     "output_type": "stream",
     "text": [
      "No valid JSON found in content: []\n",
      "\n",
      "Error processing entry tst-fi-97: list index out of range\n"
     ]
    },
    {
     "name": "stderr",
     "output_type": "stream",
     "text": [
      "\n",
      "Processing mushroom.fi-tst.v1.jsonl:  65%|██████▌   | 98/150 [08:45<03:32,  4.09s/entry]\u001B[A\n",
      "Processing mushroom.fi-tst.v1.jsonl:  66%|██████▌   | 99/150 [08:48<03:14,  3.81s/entry]\u001B[A\n",
      "Processing mushroom.fi-tst.v1.jsonl:  67%|██████▋   | 100/150 [08:51<03:00,  3.62s/entry]\u001B[A\n",
      "Processing mushroom.fi-tst.v1.jsonl:  67%|██████▋   | 101/150 [08:54<02:41,  3.29s/entry]\u001B[A\n",
      "Processing mushroom.fi-tst.v1.jsonl:  68%|██████▊   | 102/150 [08:56<02:12,  2.77s/entry]\u001B[A"
     ]
    },
    {
     "name": "stdout",
     "output_type": "stream",
     "text": [
      "No valid JSON found in content: []\n",
      "\n",
      "Error processing entry tst-fi-102: list index out of range\n"
     ]
    },
    {
     "name": "stderr",
     "output_type": "stream",
     "text": [
      "\n",
      "Processing mushroom.fi-tst.v1.jsonl:  69%|██████▊   | 103/150 [09:00<02:41,  3.43s/entry]\u001B[A\n",
      "Processing mushroom.fi-tst.v1.jsonl:  69%|██████▉   | 104/150 [09:04<02:39,  3.47s/entry]\u001B[A\n",
      "Processing mushroom.fi-tst.v1.jsonl:  70%|███████   | 105/150 [09:10<03:14,  4.32s/entry]\u001B[A"
     ]
    },
    {
     "name": "stdout",
     "output_type": "stream",
     "text": [
      "No valid JSON found in content: []\n",
      "\n",
      "Error processing entry tst-fi-105: list index out of range\n"
     ]
    },
    {
     "name": "stderr",
     "output_type": "stream",
     "text": [
      "\n",
      "Processing mushroom.fi-tst.v1.jsonl:  71%|███████   | 106/150 [09:14<03:05,  4.22s/entry]\u001B[A\n",
      "Processing mushroom.fi-tst.v1.jsonl:  71%|███████▏  | 107/150 [09:18<02:54,  4.06s/entry]\u001B[A\n",
      "Processing mushroom.fi-tst.v1.jsonl:  72%|███████▏  | 108/150 [09:22<02:45,  3.93s/entry]\u001B[A\n",
      "Processing mushroom.fi-tst.v1.jsonl:  73%|███████▎  | 109/150 [09:24<02:26,  3.58s/entry]\u001B[A\n",
      "Processing mushroom.fi-tst.v1.jsonl:  73%|███████▎  | 110/150 [09:27<02:16,  3.41s/entry]\u001B[A\n",
      "Processing mushroom.fi-tst.v1.jsonl:  74%|███████▍  | 111/150 [09:30<01:59,  3.06s/entry]\u001B[A\n",
      "Processing mushroom.fi-tst.v1.jsonl:  75%|███████▍  | 112/150 [09:32<01:49,  2.89s/entry]\u001B[A\n",
      "Processing mushroom.fi-tst.v1.jsonl:  75%|███████▌  | 113/150 [09:35<01:45,  2.86s/entry]\u001B[A"
     ]
    },
    {
     "name": "stdout",
     "output_type": "stream",
     "text": [
      "No valid JSON found in content: []\n",
      "\n",
      "Error processing entry tst-fi-113: list index out of range\n"
     ]
    },
    {
     "name": "stderr",
     "output_type": "stream",
     "text": [
      "\n",
      "Processing mushroom.fi-tst.v1.jsonl:  76%|███████▌  | 114/150 [09:38<01:41,  2.82s/entry]\u001B[A\n",
      "Processing mushroom.fi-tst.v1.jsonl:  77%|███████▋  | 115/150 [09:41<01:44,  2.98s/entry]\u001B[A\n",
      "Processing mushroom.fi-tst.v1.jsonl:  77%|███████▋  | 116/150 [09:49<02:30,  4.43s/entry]\u001B[A\n",
      "Processing mushroom.fi-tst.v1.jsonl:  78%|███████▊  | 117/150 [09:52<02:09,  3.93s/entry]\u001B[A\n",
      "Processing mushroom.fi-tst.v1.jsonl:  79%|███████▊  | 118/150 [09:58<02:26,  4.57s/entry]\u001B[A\n",
      "Processing mushroom.fi-tst.v1.jsonl:  79%|███████▉  | 119/150 [10:02<02:21,  4.55s/entry]\u001B[A\n",
      "Processing mushroom.fi-tst.v1.jsonl:  80%|████████  | 120/150 [10:05<01:59,  3.97s/entry]\u001B[A\n",
      "Processing mushroom.fi-tst.v1.jsonl:  81%|████████  | 121/150 [10:09<02:00,  4.15s/entry]\u001B[A\n",
      "Processing mushroom.fi-tst.v1.jsonl:  81%|████████▏ | 122/150 [10:15<02:10,  4.68s/entry]\u001B[A\n",
      "Processing mushroom.fi-tst.v1.jsonl:  82%|████████▏ | 123/150 [10:18<01:46,  3.96s/entry]\u001B[A\n",
      "Processing mushroom.fi-tst.v1.jsonl:  83%|████████▎ | 124/150 [10:24<02:00,  4.62s/entry]\u001B[A\n",
      "Processing mushroom.fi-tst.v1.jsonl:  83%|████████▎ | 125/150 [10:31<02:17,  5.49s/entry]\u001B[A\n",
      "Processing mushroom.fi-tst.v1.jsonl:  84%|████████▍ | 126/150 [10:34<01:51,  4.63s/entry]\u001B[A\n",
      "Processing mushroom.fi-tst.v1.jsonl:  85%|████████▍ | 127/150 [10:42<02:09,  5.62s/entry]\u001B[A\n",
      "Processing mushroom.fi-tst.v1.jsonl:  85%|████████▌ | 128/150 [10:46<01:57,  5.33s/entry]\u001B[A\n",
      "Processing mushroom.fi-tst.v1.jsonl:  86%|████████▌ | 129/150 [10:48<01:29,  4.24s/entry]\u001B[A"
     ]
    },
    {
     "name": "stdout",
     "output_type": "stream",
     "text": [
      "No valid JSON found in content: []\n",
      "Error processing entry tst-fi-129: list index out of range\n"
     ]
    },
    {
     "name": "stderr",
     "output_type": "stream",
     "text": [
      "\n",
      "Processing mushroom.fi-tst.v1.jsonl:  87%|████████▋ | 130/150 [10:54<01:36,  4.82s/entry]\u001B[A\n",
      "Processing mushroom.fi-tst.v1.jsonl:  87%|████████▋ | 131/150 [11:04<01:57,  6.21s/entry]\u001B[A\n",
      "Processing mushroom.fi-tst.v1.jsonl:  88%|████████▊ | 132/150 [11:07<01:34,  5.27s/entry]\u001B[A\n",
      "Processing mushroom.fi-tst.v1.jsonl:  89%|████████▊ | 133/150 [11:09<01:13,  4.33s/entry]\u001B[A\n",
      "Processing mushroom.fi-tst.v1.jsonl:  89%|████████▉ | 134/150 [11:11<00:55,  3.49s/entry]\u001B[A"
     ]
    },
    {
     "name": "stdout",
     "output_type": "stream",
     "text": [
      "No valid JSON found in content: []\n",
      "Error processing entry tst-fi-134: list index out of range\n"
     ]
    },
    {
     "name": "stderr",
     "output_type": "stream",
     "text": [
      "\n",
      "Processing mushroom.fi-tst.v1.jsonl:  90%|█████████ | 135/150 [11:14<00:51,  3.44s/entry]\u001B[A\n",
      "Processing mushroom.fi-tst.v1.jsonl:  91%|█████████ | 136/150 [11:17<00:47,  3.38s/entry]\u001B[A\n",
      "Processing mushroom.fi-tst.v1.jsonl:  91%|█████████▏| 137/150 [11:25<01:01,  4.71s/entry]\u001B[A\n",
      "Processing mushroom.fi-tst.v1.jsonl:  92%|█████████▏| 138/150 [11:30<00:56,  4.74s/entry]\u001B[A\n",
      "Processing mushroom.fi-tst.v1.jsonl:  93%|█████████▎| 139/150 [11:34<00:51,  4.70s/entry]\u001B[A\n",
      "Processing mushroom.fi-tst.v1.jsonl:  93%|█████████▎| 140/150 [11:37<00:40,  4.00s/entry]\u001B[A\n",
      "Processing mushroom.fi-tst.v1.jsonl:  94%|█████████▍| 141/150 [11:40<00:33,  3.68s/entry]\u001B[A\n",
      "Processing mushroom.fi-tst.v1.jsonl:  95%|█████████▍| 142/150 [11:45<00:33,  4.17s/entry]\u001B[A\n",
      "Processing mushroom.fi-tst.v1.jsonl:  95%|█████████▌| 143/150 [11:49<00:28,  4.14s/entry]\u001B[A\n",
      "Processing mushroom.fi-tst.v1.jsonl:  96%|█████████▌| 144/150 [11:55<00:28,  4.73s/entry]\u001B[A\n",
      "Processing mushroom.fi-tst.v1.jsonl:  97%|█████████▋| 145/150 [11:58<00:21,  4.30s/entry]\u001B[A\n",
      "Processing mushroom.fi-tst.v1.jsonl:  97%|█████████▋| 146/150 [12:02<00:16,  4.12s/entry]\u001B[A\n",
      "Processing mushroom.fi-tst.v1.jsonl:  98%|█████████▊| 147/150 [12:05<00:11,  3.79s/entry]\u001B[A\n",
      "Processing mushroom.fi-tst.v1.jsonl:  99%|█████████▊| 148/150 [12:09<00:07,  3.68s/entry]\u001B[A\n",
      "Processing mushroom.fi-tst.v1.jsonl:  99%|█████████▉| 149/150 [12:12<00:03,  3.64s/entry]\u001B[A\n",
      "Processing mushroom.fi-tst.v1.jsonl: 100%|██████████| 150/150 [12:17<00:00,  4.01s/entry]\u001B[A\n",
      "Processing Files:  93%|█████████▎| 13/14 [2:15:18<10:18, 618.12s/file]                   \u001B[A"
     ]
    },
    {
     "name": "stdout",
     "output_type": "stream",
     "text": [
      "Processed and saved: data/test_detect_gpt4_m2/mushroom.fi-tst.v1.jsonl\n"
     ]
    },
    {
     "name": "stderr",
     "output_type": "stream",
     "text": [
      "\n",
      "Processing mushroom.en-tst.v1.jsonl:   0%|          | 0/154 [00:00<?, ?entry/s]\u001B[A\n",
      "Processing mushroom.en-tst.v1.jsonl:   1%|          | 1/154 [00:03<08:35,  3.37s/entry]\u001B[A\n",
      "Processing mushroom.en-tst.v1.jsonl:   1%|▏         | 2/154 [00:05<06:25,  2.54s/entry]\u001B[A\n",
      "Processing mushroom.en-tst.v1.jsonl:   2%|▏         | 3/154 [00:08<07:27,  2.96s/entry]\u001B[A\n",
      "Processing mushroom.en-tst.v1.jsonl:   3%|▎         | 4/154 [00:11<06:41,  2.68s/entry]\u001B[A\n",
      "Processing mushroom.en-tst.v1.jsonl:   3%|▎         | 5/154 [00:15<08:06,  3.26s/entry]\u001B[A\n",
      "Processing mushroom.en-tst.v1.jsonl:   4%|▍         | 6/154 [00:18<07:39,  3.10s/entry]\u001B[A\n",
      "Processing mushroom.en-tst.v1.jsonl:   5%|▍         | 7/154 [00:21<07:46,  3.17s/entry]\u001B[A"
     ]
    },
    {
     "name": "stdout",
     "output_type": "stream",
     "text": [
      "No valid JSON found in content: []\n",
      "\n",
      "Error processing entry tst-en-7: list index out of range\n"
     ]
    },
    {
     "name": "stderr",
     "output_type": "stream",
     "text": [
      "\n",
      "Processing mushroom.en-tst.v1.jsonl:   5%|▌         | 8/154 [00:23<06:48,  2.80s/entry]\u001B[A"
     ]
    },
    {
     "name": "stdout",
     "output_type": "stream",
     "text": [
      "No valid JSON found in content: []\n",
      "Error processing entry tst-en-8: list index out of range\n"
     ]
    },
    {
     "name": "stderr",
     "output_type": "stream",
     "text": [
      "\n",
      "Processing mushroom.en-tst.v1.jsonl:   6%|▌         | 9/154 [00:25<06:16,  2.60s/entry]\u001B[A\n",
      "Processing mushroom.en-tst.v1.jsonl:   6%|▋         | 10/154 [00:28<06:45,  2.82s/entry]\u001B[A\n",
      "Processing mushroom.en-tst.v1.jsonl:   7%|▋         | 11/154 [00:35<09:26,  3.96s/entry]\u001B[A\n",
      "Processing mushroom.en-tst.v1.jsonl:   8%|▊         | 12/154 [00:39<09:22,  3.96s/entry]\u001B[A\n",
      "Processing mushroom.en-tst.v1.jsonl:   8%|▊         | 13/154 [00:42<08:25,  3.59s/entry]\u001B[A\n",
      "Processing mushroom.en-tst.v1.jsonl:   9%|▉         | 14/154 [00:47<09:40,  4.14s/entry]\u001B[A\n",
      "Processing mushroom.en-tst.v1.jsonl:  10%|▉         | 15/154 [00:51<09:41,  4.18s/entry]\u001B[A\n",
      "Processing mushroom.en-tst.v1.jsonl:  10%|█         | 16/154 [00:54<08:34,  3.73s/entry]\u001B[A\n",
      "Processing mushroom.en-tst.v1.jsonl:  11%|█         | 17/154 [00:56<07:17,  3.19s/entry]\u001B[A\n",
      "Processing mushroom.en-tst.v1.jsonl:  12%|█▏        | 18/154 [01:00<07:29,  3.30s/entry]\u001B[A\n",
      "Processing mushroom.en-tst.v1.jsonl:  12%|█▏        | 19/154 [01:02<06:53,  3.06s/entry]\u001B[A"
     ]
    },
    {
     "name": "stdout",
     "output_type": "stream",
     "text": [
      "No valid JSON found in content: []\n",
      "Error processing entry tst-en-19: list index out of range\n"
     ]
    },
    {
     "name": "stderr",
     "output_type": "stream",
     "text": [
      "\n",
      "Processing mushroom.en-tst.v1.jsonl:  13%|█▎        | 20/154 [01:07<07:51,  3.52s/entry]\u001B[A\n",
      "Processing mushroom.en-tst.v1.jsonl:  14%|█▎        | 21/154 [01:10<07:49,  3.53s/entry]\u001B[A\n",
      "Processing mushroom.en-tst.v1.jsonl:  14%|█▍        | 22/154 [01:13<07:12,  3.28s/entry]\u001B[A\n",
      "Processing mushroom.en-tst.v1.jsonl:  15%|█▍        | 23/154 [01:15<06:28,  2.96s/entry]\u001B[A\n",
      "Processing mushroom.en-tst.v1.jsonl:  16%|█▌        | 24/154 [01:18<06:14,  2.88s/entry]\u001B[A\n",
      "Processing mushroom.en-tst.v1.jsonl:  16%|█▌        | 25/154 [01:20<06:02,  2.81s/entry]\u001B[A\n",
      "Processing mushroom.en-tst.v1.jsonl:  17%|█▋        | 26/154 [01:23<05:47,  2.72s/entry]\u001B[A\n",
      "Processing mushroom.en-tst.v1.jsonl:  18%|█▊        | 27/154 [01:26<06:00,  2.84s/entry]\u001B[A\n",
      "Processing mushroom.en-tst.v1.jsonl:  18%|█▊        | 28/154 [01:28<05:35,  2.67s/entry]\u001B[A\n",
      "Processing mushroom.en-tst.v1.jsonl:  19%|█▉        | 29/154 [01:31<05:46,  2.77s/entry]\u001B[A\n",
      "Processing mushroom.en-tst.v1.jsonl:  19%|█▉        | 30/154 [01:35<06:16,  3.04s/entry]\u001B[A\n",
      "Processing mushroom.en-tst.v1.jsonl:  20%|██        | 31/154 [01:39<06:58,  3.41s/entry]\u001B[A\n",
      "Processing mushroom.en-tst.v1.jsonl:  21%|██        | 32/154 [01:41<06:12,  3.05s/entry]\u001B[A\n",
      "Processing mushroom.en-tst.v1.jsonl:  21%|██▏       | 33/154 [01:45<06:09,  3.05s/entry]\u001B[A\n",
      "Processing mushroom.en-tst.v1.jsonl:  22%|██▏       | 34/154 [01:47<05:28,  2.74s/entry]\u001B[A\n",
      "Processing mushroom.en-tst.v1.jsonl:  23%|██▎       | 35/154 [01:50<05:36,  2.83s/entry]\u001B[A\n",
      "Processing mushroom.en-tst.v1.jsonl:  23%|██▎       | 36/154 [01:51<04:48,  2.44s/entry]\u001B[A"
     ]
    },
    {
     "name": "stdout",
     "output_type": "stream",
     "text": [
      "No valid JSON found in content: []\n",
      "\n",
      "Error processing entry tst-en-36: list index out of range\n"
     ]
    },
    {
     "name": "stderr",
     "output_type": "stream",
     "text": [
      "\n",
      "Processing mushroom.en-tst.v1.jsonl:  24%|██▍       | 37/154 [01:54<04:49,  2.48s/entry]\u001B[A\n",
      "Processing mushroom.en-tst.v1.jsonl:  25%|██▍       | 38/154 [01:56<04:34,  2.37s/entry]\u001B[A\n",
      "Processing mushroom.en-tst.v1.jsonl:  25%|██▌       | 39/154 [01:59<04:54,  2.56s/entry]\u001B[A"
     ]
    },
    {
     "name": "stdout",
     "output_type": "stream",
     "text": [
      "No valid JSON found in content: ```json\n",
      "[]\n",
      "```\n",
      "Error processing entry tst-en-39: list index out of range\n"
     ]
    },
    {
     "name": "stderr",
     "output_type": "stream",
     "text": [
      "\n",
      "Processing mushroom.en-tst.v1.jsonl:  26%|██▌       | 40/154 [02:01<04:48,  2.53s/entry]\u001B[A\n",
      "Processing mushroom.en-tst.v1.jsonl:  27%|██▋       | 41/154 [02:04<04:55,  2.62s/entry]\u001B[A\n",
      "Processing mushroom.en-tst.v1.jsonl:  27%|██▋       | 42/154 [02:08<05:26,  2.91s/entry]\u001B[A\n",
      "Processing mushroom.en-tst.v1.jsonl:  28%|██▊       | 43/154 [02:10<05:05,  2.75s/entry]\u001B[A\n",
      "Processing mushroom.en-tst.v1.jsonl:  29%|██▊       | 44/154 [02:13<05:02,  2.75s/entry]\u001B[A\n",
      "Processing mushroom.en-tst.v1.jsonl:  29%|██▉       | 45/154 [02:17<05:52,  3.23s/entry]\u001B[A\n",
      "Processing mushroom.en-tst.v1.jsonl:  30%|██▉       | 46/154 [02:20<05:27,  3.03s/entry]\u001B[A\n",
      "Processing mushroom.en-tst.v1.jsonl:  31%|███       | 47/154 [02:22<05:02,  2.83s/entry]\u001B[A\n",
      "Processing mushroom.en-tst.v1.jsonl:  31%|███       | 48/154 [02:24<04:46,  2.70s/entry]\u001B[A\n",
      "Processing mushroom.en-tst.v1.jsonl:  32%|███▏      | 49/154 [02:28<05:04,  2.90s/entry]\u001B[A\n",
      "Processing mushroom.en-tst.v1.jsonl:  32%|███▏      | 50/154 [02:36<07:42,  4.45s/entry]\u001B[A\n",
      "Processing mushroom.en-tst.v1.jsonl:  33%|███▎      | 51/154 [02:39<06:43,  3.92s/entry]\u001B[A\n",
      "Processing mushroom.en-tst.v1.jsonl:  34%|███▍      | 52/154 [02:53<12:03,  7.09s/entry]\u001B[A\n",
      "Processing mushroom.en-tst.v1.jsonl:  34%|███▍      | 53/154 [03:02<13:00,  7.72s/entry]\u001B[A\n",
      "Processing mushroom.en-tst.v1.jsonl:  35%|███▌      | 54/154 [03:06<10:50,  6.51s/entry]\u001B[A\n",
      "Processing mushroom.en-tst.v1.jsonl:  36%|███▌      | 55/154 [03:12<10:20,  6.27s/entry]\u001B[A\n",
      "Processing mushroom.en-tst.v1.jsonl:  36%|███▋      | 56/154 [03:17<09:54,  6.06s/entry]\u001B[A\n",
      "Processing mushroom.en-tst.v1.jsonl:  37%|███▋      | 57/154 [03:24<10:01,  6.20s/entry]\u001B[A\n",
      "Processing mushroom.en-tst.v1.jsonl:  38%|███▊      | 58/154 [03:29<09:29,  5.94s/entry]\u001B[A\n",
      "Processing mushroom.en-tst.v1.jsonl:  38%|███▊      | 59/154 [03:32<08:01,  5.07s/entry]\u001B[A\n",
      "Processing mushroom.en-tst.v1.jsonl:  39%|███▉      | 60/154 [03:36<07:34,  4.83s/entry]\u001B[A\n",
      "Processing mushroom.en-tst.v1.jsonl:  40%|███▉      | 61/154 [03:40<06:48,  4.39s/entry]\u001B[A\n",
      "Processing mushroom.en-tst.v1.jsonl:  40%|████      | 62/154 [03:44<06:47,  4.43s/entry]\u001B[A\n",
      "Processing mushroom.en-tst.v1.jsonl:  41%|████      | 63/154 [03:49<06:43,  4.44s/entry]\u001B[A\n",
      "Processing mushroom.en-tst.v1.jsonl:  42%|████▏     | 64/154 [03:51<05:49,  3.89s/entry]\u001B[A\n",
      "Processing mushroom.en-tst.v1.jsonl:  42%|████▏     | 65/154 [03:54<05:18,  3.58s/entry]\u001B[A\n",
      "Processing mushroom.en-tst.v1.jsonl:  43%|████▎     | 66/154 [03:57<04:52,  3.33s/entry]\u001B[A\n",
      "Processing mushroom.en-tst.v1.jsonl:  44%|████▎     | 67/154 [04:02<05:26,  3.75s/entry]\u001B[A\n",
      "Processing mushroom.en-tst.v1.jsonl:  44%|████▍     | 68/154 [04:04<04:33,  3.18s/entry]\u001B[A"
     ]
    },
    {
     "name": "stdout",
     "output_type": "stream",
     "text": [
      "No valid JSON found in content: []\n",
      "\n",
      "Error processing entry tst-en-68: list index out of range\n"
     ]
    },
    {
     "name": "stderr",
     "output_type": "stream",
     "text": [
      "\n",
      "Processing mushroom.en-tst.v1.jsonl:  45%|████▍     | 69/154 [04:07<04:29,  3.17s/entry]\u001B[A\n",
      "Processing mushroom.en-tst.v1.jsonl:  45%|████▌     | 70/154 [04:11<05:03,  3.61s/entry]\u001B[A\n",
      "Processing mushroom.en-tst.v1.jsonl:  46%|████▌     | 71/154 [04:14<04:30,  3.26s/entry]\u001B[A\n",
      "Processing mushroom.en-tst.v1.jsonl:  47%|████▋     | 72/154 [04:17<04:27,  3.27s/entry]\u001B[A\n",
      "Processing mushroom.en-tst.v1.jsonl:  47%|████▋     | 73/154 [04:19<03:52,  2.87s/entry]\u001B[A\n",
      "Processing mushroom.en-tst.v1.jsonl:  48%|████▊     | 74/154 [04:24<04:34,  3.43s/entry]\u001B[A\n",
      "Processing mushroom.en-tst.v1.jsonl:  49%|████▊     | 75/154 [04:32<06:21,  4.83s/entry]\u001B[A\n",
      "Processing mushroom.en-tst.v1.jsonl:  49%|████▉     | 76/154 [04:38<06:41,  5.15s/entry]\u001B[A\n",
      "Processing mushroom.en-tst.v1.jsonl:  50%|█████     | 77/154 [04:40<05:37,  4.39s/entry]\u001B[A\n",
      "Processing mushroom.en-tst.v1.jsonl:  51%|█████     | 78/154 [04:44<05:24,  4.27s/entry]\u001B[A\n",
      "Processing mushroom.en-tst.v1.jsonl:  51%|█████▏    | 79/154 [04:47<04:47,  3.83s/entry]\u001B[A\n",
      "Processing mushroom.en-tst.v1.jsonl:  52%|█████▏    | 80/154 [04:49<04:06,  3.33s/entry]\u001B[A\n",
      "Processing mushroom.en-tst.v1.jsonl:  53%|█████▎    | 81/154 [04:53<04:17,  3.53s/entry]\u001B[A\n",
      "Processing mushroom.en-tst.v1.jsonl:  53%|█████▎    | 82/154 [04:55<03:43,  3.10s/entry]\u001B[A\n",
      "Processing mushroom.en-tst.v1.jsonl:  54%|█████▍    | 83/154 [04:59<03:55,  3.31s/entry]\u001B[A\n",
      "Processing mushroom.en-tst.v1.jsonl:  55%|█████▍    | 84/154 [05:04<04:13,  3.63s/entry]\u001B[A\n",
      "Processing mushroom.en-tst.v1.jsonl:  55%|█████▌    | 85/154 [05:06<03:54,  3.40s/entry]\u001B[A\n",
      "Processing mushroom.en-tst.v1.jsonl:  56%|█████▌    | 86/154 [05:09<03:24,  3.01s/entry]\u001B[A\n",
      "Processing mushroom.en-tst.v1.jsonl:  56%|█████▋    | 87/154 [05:15<04:27,  3.99s/entry]\u001B[A\n",
      "Processing mushroom.en-tst.v1.jsonl:  57%|█████▋    | 88/154 [05:19<04:33,  4.14s/entry]\u001B[A\n",
      "Processing mushroom.en-tst.v1.jsonl:  58%|█████▊    | 89/154 [05:24<04:33,  4.21s/entry]\u001B[A\n",
      "Processing mushroom.en-tst.v1.jsonl:  58%|█████▊    | 90/154 [05:29<04:53,  4.59s/entry]\u001B[A\n",
      "Processing mushroom.en-tst.v1.jsonl:  59%|█████▉    | 91/154 [05:31<04:05,  3.89s/entry]\u001B[A\n",
      "Processing mushroom.en-tst.v1.jsonl:  60%|█████▉    | 92/154 [05:34<03:44,  3.63s/entry]\u001B[A\n",
      "Processing mushroom.en-tst.v1.jsonl:  60%|██████    | 93/154 [05:41<04:33,  4.48s/entry]\u001B[A\n",
      "Processing mushroom.en-tst.v1.jsonl:  61%|██████    | 94/154 [05:45<04:18,  4.30s/entry]\u001B[A\n",
      "Processing mushroom.en-tst.v1.jsonl:  62%|██████▏   | 95/154 [05:51<04:51,  4.94s/entry]\u001B[A\n",
      "Processing mushroom.en-tst.v1.jsonl:  62%|██████▏   | 96/154 [05:53<03:54,  4.04s/entry]\u001B[A"
     ]
    },
    {
     "name": "stdout",
     "output_type": "stream",
     "text": [
      "No valid JSON found in content: []\n",
      "\n",
      "Error processing entry tst-en-96: list index out of range\n"
     ]
    },
    {
     "name": "stderr",
     "output_type": "stream",
     "text": [
      "\n",
      "Processing mushroom.en-tst.v1.jsonl:  63%|██████▎   | 97/154 [05:57<03:40,  3.87s/entry]\u001B[A\n",
      "Processing mushroom.en-tst.v1.jsonl:  64%|██████▎   | 98/154 [06:00<03:28,  3.73s/entry]\u001B[A\n",
      "Processing mushroom.en-tst.v1.jsonl:  64%|██████▍   | 99/154 [06:04<03:25,  3.74s/entry]\u001B[A\n",
      "Processing mushroom.en-tst.v1.jsonl:  65%|██████▍   | 100/154 [06:09<03:42,  4.12s/entry]\u001B[A\n",
      "Processing mushroom.en-tst.v1.jsonl:  66%|██████▌   | 101/154 [06:12<03:21,  3.81s/entry]\u001B[A\n",
      "Processing mushroom.en-tst.v1.jsonl:  66%|██████▌   | 102/154 [06:14<02:58,  3.44s/entry]\u001B[A\n",
      "Processing mushroom.en-tst.v1.jsonl:  67%|██████▋   | 103/154 [06:16<02:33,  3.01s/entry]\u001B[A\n",
      "Processing mushroom.en-tst.v1.jsonl:  68%|██████▊   | 104/154 [06:21<02:57,  3.55s/entry]\u001B[A\n",
      "Processing mushroom.en-tst.v1.jsonl:  68%|██████▊   | 105/154 [06:25<02:59,  3.67s/entry]\u001B[A\n",
      "Processing mushroom.en-tst.v1.jsonl:  69%|██████▉   | 106/154 [06:27<02:32,  3.18s/entry]\u001B[A\n",
      "Processing mushroom.en-tst.v1.jsonl:  69%|██████▉   | 107/154 [06:30<02:23,  3.05s/entry]\u001B[A\n",
      "Processing mushroom.en-tst.v1.jsonl:  70%|███████   | 108/154 [06:33<02:12,  2.89s/entry]\u001B[A\n",
      "Processing mushroom.en-tst.v1.jsonl:  71%|███████   | 109/154 [06:35<02:00,  2.68s/entry]\u001B[A\n",
      "Processing mushroom.en-tst.v1.jsonl:  71%|███████▏  | 110/154 [06:37<01:52,  2.56s/entry]\u001B[A"
     ]
    },
    {
     "name": "stdout",
     "output_type": "stream",
     "text": [
      "No valid JSON found in content: []\n",
      "Error processing entry tst-en-110: list index out of range\n"
     ]
    },
    {
     "name": "stderr",
     "output_type": "stream",
     "text": [
      "\n",
      "Processing mushroom.en-tst.v1.jsonl:  72%|███████▏  | 111/154 [06:39<01:44,  2.44s/entry]\u001B[A\n",
      "Processing mushroom.en-tst.v1.jsonl:  73%|███████▎  | 112/154 [06:43<01:56,  2.78s/entry]\u001B[A\n",
      "Processing mushroom.en-tst.v1.jsonl:  73%|███████▎  | 113/154 [06:45<01:45,  2.57s/entry]\u001B[A\n",
      "Processing mushroom.en-tst.v1.jsonl:  74%|███████▍  | 114/154 [06:47<01:38,  2.46s/entry]\u001B[A\n",
      "Processing mushroom.en-tst.v1.jsonl:  75%|███████▍  | 115/154 [06:50<01:47,  2.75s/entry]\u001B[A\n",
      "Processing mushroom.en-tst.v1.jsonl:  75%|███████▌  | 116/154 [06:53<01:43,  2.72s/entry]\u001B[A\n",
      "Processing mushroom.en-tst.v1.jsonl:  76%|███████▌  | 117/154 [06:56<01:43,  2.80s/entry]\u001B[A\n",
      "Processing mushroom.en-tst.v1.jsonl:  77%|███████▋  | 118/154 [06:58<01:32,  2.56s/entry]\u001B[A\n",
      "Processing mushroom.en-tst.v1.jsonl:  77%|███████▋  | 119/154 [07:01<01:29,  2.55s/entry]\u001B[A\n",
      "Processing mushroom.en-tst.v1.jsonl:  78%|███████▊  | 120/154 [07:04<01:36,  2.83s/entry]\u001B[A\n",
      "Processing mushroom.en-tst.v1.jsonl:  79%|███████▊  | 121/154 [07:07<01:33,  2.83s/entry]\u001B[A\n",
      "Processing mushroom.en-tst.v1.jsonl:  79%|███████▉  | 122/154 [07:10<01:29,  2.80s/entry]\u001B[A\n",
      "Processing mushroom.en-tst.v1.jsonl:  80%|███████▉  | 123/154 [07:12<01:20,  2.60s/entry]\u001B[A\n",
      "Processing mushroom.en-tst.v1.jsonl:  81%|████████  | 124/154 [07:14<01:12,  2.42s/entry]\u001B[A\n",
      "Processing mushroom.en-tst.v1.jsonl:  81%|████████  | 125/154 [07:17<01:16,  2.65s/entry]\u001B[A\n",
      "Processing mushroom.en-tst.v1.jsonl:  82%|████████▏ | 126/154 [07:20<01:18,  2.79s/entry]\u001B[A\n",
      "Processing mushroom.en-tst.v1.jsonl:  82%|████████▏ | 127/154 [07:22<01:07,  2.51s/entry]\u001B[A\n",
      "Processing mushroom.en-tst.v1.jsonl:  83%|████████▎ | 128/154 [07:26<01:13,  2.84s/entry]\u001B[A\n",
      "Processing mushroom.en-tst.v1.jsonl:  84%|████████▍ | 129/154 [07:28<01:07,  2.71s/entry]\u001B[A\n",
      "Processing mushroom.en-tst.v1.jsonl:  84%|████████▍ | 130/154 [07:33<01:20,  3.35s/entry]\u001B[A\n",
      "Processing mushroom.en-tst.v1.jsonl:  85%|████████▌ | 131/154 [07:36<01:13,  3.21s/entry]\u001B[A\n",
      "Processing mushroom.en-tst.v1.jsonl:  86%|████████▌ | 132/154 [07:38<01:02,  2.85s/entry]\u001B[A\n",
      "Processing mushroom.en-tst.v1.jsonl:  86%|████████▋ | 133/154 [07:40<00:59,  2.82s/entry]\u001B[A\n",
      "Processing mushroom.en-tst.v1.jsonl:  87%|████████▋ | 134/154 [07:43<00:54,  2.70s/entry]\u001B[A\n",
      "Processing mushroom.en-tst.v1.jsonl:  88%|████████▊ | 135/154 [07:45<00:46,  2.44s/entry]\u001B[A\n",
      "Processing mushroom.en-tst.v1.jsonl:  88%|████████▊ | 136/154 [07:57<01:39,  5.52s/entry]\u001B[A\n",
      "Processing mushroom.en-tst.v1.jsonl:  89%|████████▉ | 137/154 [07:59<01:15,  4.45s/entry]\u001B[A\n",
      "Processing mushroom.en-tst.v1.jsonl:  90%|████████▉ | 138/154 [08:02<01:02,  3.91s/entry]\u001B[A\n",
      "Processing mushroom.en-tst.v1.jsonl:  90%|█████████ | 139/154 [08:07<01:02,  4.17s/entry]\u001B[A\n",
      "Processing mushroom.en-tst.v1.jsonl:  91%|█████████ | 140/154 [08:10<00:52,  3.78s/entry]\u001B[A\n",
      "Processing mushroom.en-tst.v1.jsonl:  92%|█████████▏| 141/154 [08:15<00:54,  4.20s/entry]\u001B[A\n",
      "Processing mushroom.en-tst.v1.jsonl:  92%|█████████▏| 142/154 [08:17<00:42,  3.54s/entry]\u001B[A\n",
      "Processing mushroom.en-tst.v1.jsonl:  93%|█████████▎| 143/154 [08:19<00:35,  3.20s/entry]\u001B[A"
     ]
    },
    {
     "name": "stdout",
     "output_type": "stream",
     "text": [
      "No valid JSON found in content: []\n",
      "\n",
      "Error processing entry tst-en-143: list index out of range\n"
     ]
    },
    {
     "name": "stderr",
     "output_type": "stream",
     "text": [
      "\n",
      "Processing mushroom.en-tst.v1.jsonl:  94%|█████████▎| 144/154 [08:23<00:33,  3.35s/entry]\u001B[A\n",
      "Processing mushroom.en-tst.v1.jsonl:  94%|█████████▍| 145/154 [08:26<00:28,  3.14s/entry]\u001B[A\n",
      "Processing mushroom.en-tst.v1.jsonl:  95%|█████████▍| 146/154 [08:30<00:27,  3.41s/entry]\u001B[A\n",
      "Processing mushroom.en-tst.v1.jsonl:  95%|█████████▌| 147/154 [08:32<00:21,  3.10s/entry]\u001B[A\n",
      "Processing mushroom.en-tst.v1.jsonl:  96%|█████████▌| 148/154 [08:35<00:17,  2.95s/entry]\u001B[A\n",
      "Processing mushroom.en-tst.v1.jsonl:  97%|█████████▋| 149/154 [08:41<00:20,  4.07s/entry]\u001B[A\n",
      "Processing mushroom.en-tst.v1.jsonl:  97%|█████████▋| 150/154 [08:44<00:14,  3.54s/entry]\u001B[A\n",
      "Processing mushroom.en-tst.v1.jsonl:  98%|█████████▊| 151/154 [08:46<00:10,  3.34s/entry]\u001B[A\n",
      "Processing mushroom.en-tst.v1.jsonl:  99%|█████████▊| 152/154 [08:48<00:05,  2.92s/entry]\u001B[A\n",
      "Processing mushroom.en-tst.v1.jsonl:  99%|█████████▉| 153/154 [08:51<00:02,  2.68s/entry]\u001B[A\n",
      "Processing mushroom.en-tst.v1.jsonl: 100%|██████████| 154/154 [08:56<00:00,  3.51s/entry]\u001B[A\n",
      "Processing Files: 100%|██████████| 14/14 [2:24:14<00:00, 618.19s/file]                   \u001B[A"
     ]
    },
    {
     "name": "stdout",
     "output_type": "stream",
     "text": [
      "Processed and saved: data/test_detect_gpt4_m2/mushroom.en-tst.v1.jsonl\n"
     ]
    },
    {
     "name": "stderr",
     "output_type": "stream",
     "text": [
      "\n"
     ]
    }
   ],
   "execution_count": 24
  },
  {
   "cell_type": "markdown",
   "metadata": {
    "id": "9c63a069-8fff-4ea5-a228-533ef3d816ee"
   },
   "source": [
    "## Evaluation"
   ]
  },
  {
   "cell_type": "code",
   "metadata": {
    "id": "e0e962be-e202-4c29-9c62-31cdbe3565a6",
    "outputId": "57e5f246-e098-4cc8-a37e-591ff494f541",
    "ExecuteTime": {
     "end_time": "2025-01-23T05:27:28.901658Z",
     "start_time": "2025-01-23T05:27:28.892238Z"
    }
   },
   "source": [
    "import os\n",
    "\n",
    "def evaluate_iou_and_cor(val_dir, detect_dir, output_file):\n",
    "    \"\"\"\n",
    "    Evaluate IoU and Spearman correlation between the reference (val) and detected (detect) files.\n",
    "\n",
    "    :param val_dir: Directory containing the ground truth files (e.g., data/val/val/)\n",
    "    :param detect_dir: Directory containing the detected files (e.g., data/detect/)\n",
    "    :param output_file: Path to save the evaluation results (optional)\n",
    "    \"\"\"\n",
    "    # List all files in the validation directory\n",
    "    val_files = os.listdir(val_dir)\n",
    "    detect_files = os.listdir(detect_dir)\n",
    "\n",
    "    # Ensure that we are comparing the same files (same lang)\n",
    "    for val_file in val_files:\n",
    "        # Skip non-JSONL files\n",
    "        if not val_file.endswith('.jsonl'):\n",
    "            continue\n",
    "\n",
    "        # Remove the first 'val/' part from the file path to match the structure of detect directory\n",
    "        detect_file_name = val_file.replace('val/', '')  # Remove 'val/' from the file name\n",
    "\n",
    "        # Check if the corresponding detect file exists\n",
    "        detect_file_path = os.path.join(detect_dir, detect_file_name)\n",
    "\n",
    "        if not os.path.exists(detect_file_path):\n",
    "            print(f\"Warning: {detect_file_path} not found, skipping.\")\n",
    "            continue\n",
    "\n",
    "        # Load ground truth (val) and detected (detect) data\n",
    "        ref_dicts = load_jsonl_file_to_records(os.path.join(val_dir, val_file))\n",
    "        pred_dicts = load_jsonl_file_to_records(detect_file_path)\n",
    "\n",
    "        # Calculate IoU and Spearman correlation\n",
    "#        try:\n",
    "        ious, cors = main(ref_dicts, pred_dicts)\n",
    "#        except IndexError as e:\n",
    " #           print(f\"IndexError occurred for file: {val_file}, skipping this file. Error: {e}\")\n",
    "  #          continue\n",
    "\n",
    "        # Print or save the results\n",
    "        print(f\"Results for {val_file}:\")\n",
    "        print(f\"  Mean IoU: {ious.mean():.8f}\")\n",
    "        print(f\"  Mean Spearman Correlation: {cors.mean():.8f}\")\n",
    "\n",
    "        # Optionally, save the results to a file\n",
    "        if output_file:\n",
    "            with open(output_file, 'a', encoding='utf-8') as f:\n",
    "                f.write(f\"Results for {val_file}:\\n\")\n",
    "                f.write(f\"  Mean IoU: {ious.mean():.8f}\\n\")\n",
    "                f.write(f\"  Mean Spearman Correlation: {cors.mean():.8f}\\n\\n\")\n",
    "\n",
    "val_dir = 'data/val/val/'\n",
    "detect_dir = 'data/test_detect_gpt4_m2/'\n",
    "output_file = 'evaluation_results_gpt4.txt'\n",
    "evaluate_iou_and_cor(val_dir, detect_dir, output_file)"
   ],
   "outputs": [
    {
     "name": "stdout",
     "output_type": "stream",
     "text": [
      "Warning: data/test_detect_gpt4_m2/mushroom.ar-val.v2.jsonl not found, skipping.\n",
      "Warning: data/test_detect_gpt4_m2/mushroom.es-val.v2.jsonl not found, skipping.\n",
      "Warning: data/test_detect_gpt4_m2/mushroom.fr-val.v2.jsonl not found, skipping.\n",
      "Warning: data/test_detect_gpt4_m2/mushroom.de-val.v2.jsonl not found, skipping.\n",
      "Warning: data/test_detect_gpt4_m2/mushroom.it-val.v2.jsonl not found, skipping.\n",
      "Warning: data/test_detect_gpt4_m2/mushroom.hi-val.v2.jsonl not found, skipping.\n",
      "Warning: data/test_detect_gpt4_m2/mushroom.zh-val.v2.jsonl not found, skipping.\n",
      "Warning: data/test_detect_gpt4_m2/mushroom.en-val.v2.jsonl not found, skipping.\n",
      "Warning: data/test_detect_gpt4_m2/mushroom.fi-val.v2.jsonl not found, skipping.\n",
      "Warning: data/test_detect_gpt4_m2/mushroom.sv-val.v2.jsonl not found, skipping.\n"
     ]
    }
   ],
   "execution_count": 34
  },
  {
   "cell_type": "code",
   "metadata": {
    "ExecuteTime": {
     "end_time": "2025-01-23T04:37:24.591237Z",
     "start_time": "2025-01-23T04:37:24.589834Z"
    }
   },
   "source": [],
   "outputs": [],
   "execution_count": null
  }
 ],
 "metadata": {
  "colab": {
   "authorship_tag": "ABX9TyMlkfjMuu66aDP4kbsqjxHM",
   "provenance": []
  },
  "kernelspec": {
   "display_name": "Python 3 (ipykernel)",
   "language": "python",
   "name": "python3"
  },
  "language_info": {
   "codemirror_mode": {
    "name": "ipython",
    "version": 3
   },
   "file_extension": ".py",
   "mimetype": "text/x-python",
   "name": "python",
   "nbconvert_exporter": "python",
   "pygments_lexer": "ipython3",
   "version": "3.8.20"
  }
 },
 "nbformat": 4,
 "nbformat_minor": 4
}
