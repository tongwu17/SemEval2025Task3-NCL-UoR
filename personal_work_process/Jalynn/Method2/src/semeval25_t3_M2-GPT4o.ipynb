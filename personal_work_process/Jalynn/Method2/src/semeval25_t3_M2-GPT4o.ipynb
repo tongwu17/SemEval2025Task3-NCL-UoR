{
 "cells": [
  {
   "cell_type": "markdown",
   "metadata": {
    "id": "N5DW1dH2ylAz"
   },
   "source": [
    "# Hallucination Detection"
   ]
  },
  {
   "cell_type": "markdown",
   "metadata": {
    "id": "w26wYl8ar0z4"
   },
   "source": [
    "1. Extractor Keywords\n",
    "  1. Remove Stop Words:\n",
    "    1. Chinese (Zh): jieba\n",
    "    2. Arabic (Ar): Hugging Face (asafaya/bert-base-arabic)\n",
    "    3. Hindi (Hi): indic-nlp-library\n",
    "    4. Other Languages: spaCy model\n",
    "  2. Recognize NER Entities:\n",
    "    1. Hugging Face Models:\n",
    "      1. Arabic (Ar): asafaya/bert-base-arabic\n",
    "      2. Other Languages: FacebookAI/xlm-roberta-large-finetuned-conll03-english\n",
    "    2. For Unrecognized Content, Perform Tokenization (Extract Key Nouns if Possible):\n",
    "      1. Chinese (Zh): jieba (tfidf-keywords)\n",
    "      2. Hindi (Hi): indic_tokenize\n",
    "      3. Arabic (Ar): Hugging Face (asafaya/bert-base-arabic)\n",
    "      4. Other Languages: spaCy tokenize\n",
    "\n",
    "2. Acquire External Knowledge:\n",
    "  1. Use Baidu Translate API to translate all extracted key phrases into English as a fallback mechanism for retrieval.\n",
    "  2. Retrieval Rollback Mechanism:\n",
    "First, use the key phrases in the target language to search via the Wikipedia API.\n",
    "    1. If the search fails, use the translated English phrases for retrieval.\n",
    "Note: During retrieval, there might be errors due to Traditional Chinese redirects. These need to be cleared, and results in Traditional Chinese should be forcefully converted.\n",
    "  3. Extract the first 200 characters from the search results.\n",
    "  \n",
    "3. Use (model_input, model_output_text, context) to detect hallucination words and their probabilities via GPT-4o.\n",
    "\n",
    "4. Merge overlapping words and compute their probabilities using Exponentiation.\n",
    "\n",
    "5. Create Soft Labels: Identify hallucination word positions in the model_output_text and combine them with their computed probabilities."
   ]
  },
  {
   "cell_type": "code",
   "execution_count": 8,
   "metadata": {
    "id": "a9059ef3-3823-43d9-98af-6e00cb192ed8"
   },
   "outputs": [],
   "source": [
    "from openai import OpenAI\n",
    "import requests\n",
    "import httpx\n",
    "import json\n",
    "import pandas as pd\n",
    "from tqdm import tqdm\n",
    "import ast\n",
    "from scorer import recompute_hard_labels, load_jsonl_file_to_records, score_iou, score_cor, main\n",
    "import numpy as np\n",
    "from langdetect import detect, LangDetectException\n",
    "import re\n",
    "import os\n",
    "import glob\n",
    "import re"
   ]
  },
  {
   "cell_type": "code",
   "execution_count": 2,
   "metadata": {
    "id": "ae31781a-f87b-4c25-8193-394d3df3d9f3"
   },
   "outputs": [],
   "source": [
    "# set OpenAI API and proxies\n",
    "api_key = \"\"\n",
    "\n",
    "proxies = {\n",
    "    \"http\": \"http://127.0.0.1:10809\",\n",
    "    \"https\": \"http://127.0.0.1:10809\"\n",
    "}"
   ]
  },
  {
   "cell_type": "code",
   "execution_count": 3,
   "metadata": {
    "id": "3e2dda00-3efb-41d4-8a62-13fb8ce288df"
   },
   "outputs": [],
   "source": [
    "prompt_template = \"\"\"\n",
    "You are an AI model output evaluation expert, responsible for detecting hallucinated words in model output and assigning accurate probability scores to each hallucination.\n",
    "\n",
    "Below is the input information:\n",
    "- **Language**: {language} (e.g., en(English), ar(Arabic), es(Spanish), etc.)\n",
    "- **Question**: {question}\n",
    "- **Model Output**: {output}\n",
    "- **Background Knowledge** (if available): {context}\n",
    "\n",
    "### **Task**:\n",
    "Your task is to:\n",
    "1. **Identify hallucinated words or phrases** in the model output based on the question and background knowledge.\n",
    "   - A word or phrase is considered a hallucination if it:\n",
    "     - Contradicts the background knowledge.\n",
    "     - Is unverifiable or fabricated.\n",
    "     - Contains logical inconsistencies.\n",
    "2. **Assign a probability score** to each hallucinated word or phrase according to the following criteria:\n",
    "   - **Probability > 0.7**: Severe factual errors or contradictions.\n",
    "   - **Probability 0.5 - 0.7**: Unverifiable or speculative content.\n",
    "   - **Probability 0.3 - 0.5**: Minor inconsistencies or unverifiable details.\n",
    "   - **Probability 0.1 - 0.3**: Minor inaccuracies or vague ambiguities.\n",
    "   - **Do not label words with probability ≤ 0.1** (i.e., verifiable facts).\n",
    "\n",
    "### **Additional Instructions**:\n",
    "- Do **not** mark redundant or overly generic words (e.g., \"the\", \"a\", \"and\") as hallucinations unless they introduce factual errors.\n",
    "- Pay special attention to:\n",
    "  - **Numerical data** (e.g., dates, quantities, percentages).\n",
    "  - **Named entities** (e.g., people, organizations, locations).\n",
    "  - **Logical contradictions** (e.g., self-contradictions within the text).\n",
    "- If background knowledge is absent, base your judgment solely on internal consistency.\n",
    "\n",
    "### **Example**:\n",
    "#### Input:\n",
    "- **Question**: \"What year did Einstein win the Nobel Prize?\"\n",
    "- **Model Output**: \"Einstein won the Nobel Prize in Physics in 1922 for his discovery of the photoelectric effect.\"\n",
    "- **Background Knowledge**: \"Einstein won the Nobel Prize in Physics in 1921.\"\n",
    "\n",
    "#### Output:\n",
    "[\n",
    "    {{\"word\": \"1922\", \"prob\": 0.9}}\n",
    "]\n",
    "\n",
    "### **Output Format**:\n",
    "Return the result as a JSON array:\n",
    "[\n",
    "    {{\"word\": <example_word>, \"prob\": <probability>}},\n",
    "    {{\"word\": <another_word>, \"prob\": <probability>}}\n",
    "]\n",
    "\n",
    "### Important:\n",
    "- Provide precise word-level annotations.\n",
    "- Do not include any text or explanations outside the JSON array.\n",
    "\"\"\"\n"
   ]
  },
  {
   "cell_type": "code",
   "execution_count": 24,
   "metadata": {
    "id": "a1f1b5a7-5cae-4720-bb34-8a0ac6726511"
   },
   "outputs": [],
   "source": [
    "def evaluate_with_selfcheck(question, output, context=\"\", language=\"en\", n=5, retries=3):\n",
    "\n",
    "    if context is None:\n",
    "        context = \"\"\n",
    "\n",
    "    language = language.lower()\n",
    "\n",
    "    prompt = prompt_template.format(question=question, output=output, context=context, language=language)\n",
    "\n",
    "    for attempt in range(retries):\n",
    "        try:\n",
    "            response = requests.post(\n",
    "                \"https://api.openai.com/v1/chat/completions\",\n",
    "                headers={\n",
    "                    \"Authorization\": f\"Bearer {api_key}\",\n",
    "                    \"Content-Type\": \"application/json\"\n",
    "                },\n",
    "                json={\n",
    "                    \"model\": \"gpt-4o\",\n",
    "                    \"messages\": [{\"role\": \"user\", \"content\": prompt}],\n",
    "                    \"n\": n\n",
    "                },\n",
    "                proxies=proxies\n",
    "            )\n",
    "\n",
    "            if response.status_code == 200:\n",
    "                content = response.json()[\"choices\"][0][\"message\"][\"content\"]\n",
    "                \n",
    "                # Step 1: Extract JSON content using regex\n",
    "                json_matches = re.findall(r'\\[\\s*\\{.*?\\}\\s*\\]', content, re.DOTALL)\n",
    "\n",
    "                if not json_matches:\n",
    "                    print(f\"No valid JSON found in content: {content}\")\n",
    "                    return []\n",
    "\n",
    "                # Step 2: Parse the first matched JSON\n",
    "                json_content = json_matches[0].strip()  # Remove leading/trailing whitespace\n",
    "                try:\n",
    "                    json_data = json.loads(json_content)\n",
    "                    return json_data\n",
    "                except json.JSONDecodeError as e:\n",
    "                    print(f\"Failed to parse JSON content: {json_content}. Error: {e}\")\n",
    "                    return []\n",
    "            else:\n",
    "                print(f\"Request failed with status code: {response.status_code}\")\n",
    "                print(f\"Response: {response.text}\")\n",
    "                return []\n",
    "\n",
    "        except requests.exceptions.RequestException as e:\n",
    "            print(f\"Request failed: {e}\")\n",
    "            return []\n",
    "\n",
    "    print(\"Retry limit exceeded, returning empty result\")\n",
    "    return []"
   ]
  },
  {
   "cell_type": "code",
   "execution_count": 28,
   "metadata": {
    "id": "724b9954-9519-4991-9346-4c178e035888"
   },
   "outputs": [],
   "source": [
    "# Locate word positions in the original text\n",
    "def locate_word_positions(words_with_probs, model_output_text):\n",
    "    ranges = []\n",
    "    for item in words_with_probs:\n",
    "        word = item[\"word\"]\n",
    "        prob = item[\"prob\"]\n",
    "        start_idx = model_output_text.find(word)\n",
    "        while start_idx != -1:\n",
    "            end_idx = start_idx + len(word)\n",
    "            ranges.append((start_idx, end_idx, prob))\n",
    "            start_idx = model_output_text.find(word, end_idx)\n",
    "    return ranges\n",
    "\n",
    "# Merge overlapping ranges\n",
    "def merge_ranges(ranges):\n",
    "    if not ranges:\n",
    "        return []\n",
    "    # Sort ranges by start position\n",
    "    ranges.sort(key=lambda x: x[0])\n",
    "    merged = [ranges[0]]\n",
    "    for current in ranges[1:]:\n",
    "        last = merged[-1]\n",
    "        if current[0] <= last[1]:  # Overlapping\n",
    "            new_end = max(last[1], current[1])\n",
    "            new_prob = (last[2] + current[2]) / 2  # Average probabilities\n",
    "            merged[-1] = (last[0], new_end, new_prob)\n",
    "        else:\n",
    "            merged.append(current)\n",
    "    return merged\n",
    "\n",
    "# Compute average probabilities with enhanced overlap weighting\n",
    "def compute_average_probability_v3(merged_ranges, all_ranges):\n",
    "    avg_probs = []\n",
    "    for m_start, m_end, _ in merged_ranges:\n",
    "        total_prob = 0\n",
    "        total_overlap_weight = 0\n",
    "\n",
    "        for r_start, r_end, prob in all_ranges:\n",
    "            # Calculate overlap length\n",
    "            overlap_start = max(m_start, r_start)\n",
    "            overlap_end = min(m_end, r_end)\n",
    "            overlap_length = max(0, overlap_end - overlap_start)\n",
    "\n",
    "            # Add weighted contribution (consider overlap frequency)\n",
    "            if overlap_length > 0:\n",
    "                weight = overlap_length  # Base weight is overlap length\n",
    "                total_prob += prob * weight\n",
    "                total_overlap_weight += weight\n",
    "\n",
    "        # Adjust probability by total weight (with enhancement factor)\n",
    "        if total_overlap_weight > 0:\n",
    "            final_prob = (total_prob / total_overlap_weight) ** 1.2  # Enhancing frequent overlaps\n",
    "        else:\n",
    "            final_prob = 0  # No overlap, probability is zero\n",
    "\n",
    "        avg_probs.append(final_prob)\n",
    "    return avg_probs\n",
    "\n",
    "# Main function to process hallucination detection\n",
    "def process_hallucination_detection(question, model_output_text, context, language):\n",
    "    # Call GPT model to get hallucinated words and probabilities\n",
    "    hallucination_results = evaluate_with_selfcheck(question, model_output_text, context, language)\n",
    "\n",
    "    # Ensure hallucination_results is a list\n",
    "    if not isinstance(hallucination_results, list):\n",
    "        print(f\"Hallucination results is not a list: {hallucination_results}\")\n",
    "        return []\n",
    "\n",
    "    # Filter out hallucinations with probability <= 0.1\n",
    "    hallucinations = [item for item in hallucination_results if isinstance(item, dict) and item.get(\"prob\", 0) > 0.1]\n",
    "\n",
    "    # Locate hallucination positions in the model output text\n",
    "    hallucination_ranges = locate_word_positions(hallucinations, model_output_text)\n",
    "    # print(\"Hallucination Ranges:\", hallucination_ranges)\n",
    "\n",
    "    # Merge overlapping ranges\n",
    "    merged_ranges = merge_ranges(hallucination_ranges)\n",
    "    # print(\"Merged Ranges:\", merged_ranges)\n",
    "\n",
    "    # Compute final probabilities for merged ranges\n",
    "    final_probabilities = compute_average_probability_v3(merged_ranges, hallucination_ranges)\n",
    "\n",
    "    # Prepare final output\n",
    "    result = []\n",
    "    for i, (start, end, _) in enumerate(merged_ranges):\n",
    "        result.append({\n",
    "            \"start\": start,\n",
    "            \"end\": end,\n",
    "            \"prob\": final_probabilities[i]\n",
    "        })\n",
    "    return result"
   ]
  },
  {
   "cell_type": "code",
   "execution_count": 29,
   "metadata": {
    "id": "9533e57e-f1f0-4ba3-8c8e-36717a126456"
   },
   "outputs": [],
   "source": [
    "def process_dataset(input_folder, output_folder):\n",
    "    os.makedirs(output_folder, exist_ok=True)\n",
    "    input_files = glob.glob(os.path.join(input_folder, \"*.jsonl\"))\n",
    "\n",
    "    with tqdm(total=len(input_files), desc=\"Processing Files\", unit=\"file\") as file_progress:\n",
    "        for file_path in input_files:\n",
    "            with open(file_path, 'r', encoding='utf-8') as f:\n",
    "                data = [json.loads(line) for line in f]\n",
    "\n",
    "            output_data = []\n",
    "\n",
    "            with tqdm(total=len(data), desc=f\"Processing {os.path.basename(file_path)}\", unit=\"entry\", leave=False) as entry_progress:\n",
    "                for entry in data:\n",
    "                    try:\n",
    "                        question = entry.get(\"model_input\", \"\")\n",
    "                        model_output_text = entry.get(\"model_output_text\", \"\")\n",
    "                        context = entry.get(\"wikipedia_context\", \"\")\n",
    "                        language = entry.get(\"lang\", \"\").lower()\n",
    "\n",
    "                        soft_labels = process_hallucination_detection(\n",
    "                            question, model_output_text, context, language\n",
    "                        )\n",
    "                        hard_labels = recompute_hard_labels(soft_labels)\n",
    "\n",
    "                        output_entry = {\n",
    "                            \"id\": entry.get(\"id\"),\n",
    "                            \"lang\": entry.get(\"lang\"),\n",
    "                            \"model_input\": entry.get(\"model_input\"),\n",
    "                            \"model_output_text\": entry.get(\"model_output_text\"),\n",
    "                            \"model_id\": entry.get(\"model_id\"),\n",
    "                            \"soft_labels\": soft_labels,\n",
    "                            \"hard_labels\": hard_labels,\n",
    "                            \"model_output_logits\": entry.get(\"model_output_logits\"),\n",
    "                            \"model_output_tokens\": entry.get(\"model_output_tokens\")\n",
    "                        }\n",
    "\n",
    "                        output_data.append(output_entry)\n",
    "\n",
    "                    except Exception as e:\n",
    "                        print(f\"Error processing entry {entry.get('id')}: {e}\")\n",
    "\n",
    "                    entry_progress.update(1)\n",
    "\n",
    "            output_file = os.path.join(output_folder, os.path.basename(file_path))\n",
    "            with open(output_file, 'w', encoding='utf-8') as f:\n",
    "                for item in output_data:\n",
    "                    f.write(json.dumps(item, ensure_ascii=False) + '\\n')\n",
    "\n",
    "            file_progress.update(1)\n",
    "            print(f\"Processed and saved: {output_file}\")"
   ]
  },
  {
   "cell_type": "code",
   "execution_count": 32,
   "metadata": {
    "id": "9b3bc93a-a6f0-45b5-8048-931fc24a9e45",
    "outputId": "e445706d-3837-48d8-d746-cea5fac77555",
    "scrolled": true
   },
   "outputs": [
    {
     "name": "stderr",
     "output_type": "stream",
     "text": [
      "Processing Files:   0%|          | 0/14 [00:00<?, ?file/s]\n",
      "Processing mushroom.ar-tst.v1.jsonl:   0%|          | 0/150 [00:00<?, ?entry/s]\u001B[A\n",
      "Processing mushroom.ar-tst.v1.jsonl:   1%|          | 1/150 [00:08<20:51,  8.40s/entry]\u001B[A\n",
      "Processing mushroom.ar-tst.v1.jsonl:   1%|▏         | 2/150 [00:12<14:04,  5.70s/entry]\u001B[A\n",
      "Processing mushroom.ar-tst.v1.jsonl:   2%|▏         | 3/150 [00:17<14:00,  5.72s/entry]\u001B[A\n",
      "Processing mushroom.ar-tst.v1.jsonl:   3%|▎         | 4/150 [00:20<11:00,  4.52s/entry]\u001B[A\n",
      "Processing mushroom.ar-tst.v1.jsonl:   3%|▎         | 5/150 [00:26<11:56,  4.94s/entry]\u001B[A\n",
      "Processing mushroom.ar-tst.v1.jsonl:   4%|▍         | 6/150 [00:30<11:23,  4.75s/entry]\u001B[A\n",
      "Processing mushroom.ar-tst.v1.jsonl:   5%|▍         | 7/150 [00:35<11:13,  4.71s/entry]\u001B[A\n",
      "Processing mushroom.ar-tst.v1.jsonl:   5%|▌         | 8/150 [00:42<13:06,  5.54s/entry]\u001B[A\n",
      "Processing mushroom.ar-tst.v1.jsonl:   6%|▌         | 9/150 [00:45<11:00,  4.69s/entry]\u001B[A\n",
      "Processing mushroom.ar-tst.v1.jsonl:   7%|▋         | 10/150 [00:48<09:34,  4.10s/entry]\u001B[A\n",
      "Processing mushroom.ar-tst.v1.jsonl:   7%|▋         | 11/150 [00:51<09:01,  3.89s/entry]\u001B[A\n",
      "Processing mushroom.ar-tst.v1.jsonl:   8%|▊         | 12/150 [00:54<08:29,  3.69s/entry]\u001B[A\n",
      "Processing mushroom.ar-tst.v1.jsonl:   9%|▊         | 13/150 [01:01<10:20,  4.53s/entry]\u001B[A\n",
      "Processing mushroom.ar-tst.v1.jsonl:   9%|▉         | 14/150 [01:04<09:10,  4.05s/entry]\u001B[A\n",
      "Processing mushroom.ar-tst.v1.jsonl:  10%|█         | 15/150 [01:08<09:05,  4.04s/entry]\u001B[A\n",
      "Processing mushroom.ar-tst.v1.jsonl:  11%|█         | 16/150 [01:12<09:13,  4.13s/entry]\u001B[A\n",
      "Processing mushroom.ar-tst.v1.jsonl:  11%|█▏        | 17/150 [01:15<08:26,  3.81s/entry]\u001B[A\n",
      "Processing mushroom.ar-tst.v1.jsonl:  12%|█▏        | 18/150 [01:18<07:52,  3.58s/entry]\u001B[A\n",
      "Processing mushroom.ar-tst.v1.jsonl:  13%|█▎        | 19/150 [01:21<07:05,  3.25s/entry]\u001B[A\n",
      "Processing mushroom.ar-tst.v1.jsonl:  13%|█▎        | 20/150 [01:23<06:40,  3.08s/entry]\u001B[A\n",
      "Processing mushroom.ar-tst.v1.jsonl:  14%|█▍        | 21/150 [01:38<14:06,  6.56s/entry]\u001B[A\n",
      "Processing mushroom.ar-tst.v1.jsonl:  15%|█▍        | 22/150 [01:43<12:38,  5.92s/entry]\u001B[A\n",
      "Processing mushroom.ar-tst.v1.jsonl:  15%|█▌        | 23/150 [01:46<10:54,  5.16s/entry]\u001B[A\n",
      "Processing mushroom.ar-tst.v1.jsonl:  16%|█▌        | 24/150 [01:50<10:07,  4.82s/entry]\u001B[A\n",
      "Processing mushroom.ar-tst.v1.jsonl:  17%|█▋        | 25/150 [01:53<08:42,  4.18s/entry]\u001B[A\n",
      "Processing mushroom.ar-tst.v1.jsonl:  17%|█▋        | 26/150 [01:59<09:52,  4.78s/entry]\u001B[A\n",
      "Processing mushroom.ar-tst.v1.jsonl:  18%|█▊        | 27/150 [02:05<10:23,  5.07s/entry]\u001B[A\n",
      "Processing mushroom.ar-tst.v1.jsonl:  19%|█▊        | 28/150 [02:08<09:07,  4.49s/entry]\u001B[A\n",
      "Processing mushroom.ar-tst.v1.jsonl:  19%|█▉        | 29/150 [02:16<11:35,  5.74s/entry]\u001B[A\n",
      "Processing mushroom.ar-tst.v1.jsonl:  20%|██        | 30/150 [02:19<09:55,  4.96s/entry]\u001B[A\n",
      "Processing mushroom.ar-tst.v1.jsonl:  21%|██        | 31/150 [02:24<09:49,  4.95s/entry]\u001B[A\n",
      "Processing mushroom.ar-tst.v1.jsonl:  21%|██▏       | 32/150 [02:28<09:06,  4.63s/entry]\u001B[A\n",
      "Processing mushroom.ar-tst.v1.jsonl:  22%|██▏       | 33/150 [02:31<07:47,  3.99s/entry]\u001B[A\n",
      "Processing mushroom.ar-tst.v1.jsonl:  23%|██▎       | 34/150 [02:39<10:16,  5.31s/entry]\u001B[A\n",
      "Processing mushroom.ar-tst.v1.jsonl:  23%|██▎       | 35/150 [02:43<09:30,  4.96s/entry]\u001B[A\n",
      "Processing mushroom.ar-tst.v1.jsonl:  24%|██▍       | 36/150 [02:52<11:23,  6.00s/entry]\u001B[A\n",
      "Processing mushroom.ar-tst.v1.jsonl:  25%|██▍       | 37/150 [02:59<11:53,  6.32s/entry]\u001B[A\n",
      "Processing mushroom.ar-tst.v1.jsonl:  25%|██▌       | 38/150 [03:02<10:17,  5.52s/entry]\u001B[A\n",
      "Processing mushroom.ar-tst.v1.jsonl:  26%|██▌       | 39/150 [03:08<10:07,  5.47s/entry]\u001B[A\n",
      "Processing mushroom.ar-tst.v1.jsonl:  27%|██▋       | 40/150 [03:10<08:19,  4.54s/entry]\u001B[A\n",
      "Processing mushroom.ar-tst.v1.jsonl:  27%|██▋       | 41/150 [03:16<08:48,  4.85s/entry]\u001B[A\n",
      "Processing mushroom.ar-tst.v1.jsonl:  28%|██▊       | 42/150 [03:20<08:28,  4.71s/entry]\u001B[A\n",
      "Processing mushroom.ar-tst.v1.jsonl:  29%|██▊       | 43/150 [03:23<07:17,  4.09s/entry]\u001B[A\n",
      "Processing mushroom.ar-tst.v1.jsonl:  29%|██▉       | 44/150 [03:27<07:24,  4.19s/entry]\u001B[A\n",
      "Processing mushroom.ar-tst.v1.jsonl:  30%|███       | 45/150 [03:30<06:21,  3.63s/entry]\u001B[A\n",
      "Processing mushroom.ar-tst.v1.jsonl:  31%|███       | 46/150 [03:33<06:04,  3.50s/entry]\u001B[A\n",
      "Processing mushroom.ar-tst.v1.jsonl:  31%|███▏      | 47/150 [03:36<06:08,  3.58s/entry]\u001B[A\n",
      "Processing mushroom.ar-tst.v1.jsonl:  32%|███▏      | 48/150 [03:39<05:45,  3.39s/entry]\u001B[A\n",
      "Processing mushroom.ar-tst.v1.jsonl:  33%|███▎      | 49/150 [03:44<06:17,  3.74s/entry]\u001B[A\n",
      "Processing mushroom.ar-tst.v1.jsonl:  33%|███▎      | 50/150 [03:51<08:03,  4.83s/entry]\u001B[A\n",
      "Processing mushroom.ar-tst.v1.jsonl:  34%|███▍      | 51/150 [03:54<06:44,  4.09s/entry]\u001B[A\n",
      "Processing mushroom.ar-tst.v1.jsonl:  35%|███▍      | 52/150 [03:57<06:13,  3.81s/entry]\u001B[A\n",
      "Processing mushroom.ar-tst.v1.jsonl:  35%|███▌      | 53/150 [04:00<05:59,  3.71s/entry]\u001B[A\n",
      "Processing mushroom.ar-tst.v1.jsonl:  36%|███▌      | 54/150 [04:03<05:12,  3.26s/entry]\u001B[A"
     ]
    },
    {
     "name": "stdout",
     "output_type": "stream",
     "text": [
      "No valid JSON found in content: ```json\n",
      "[]\n",
      "```\n"
     ]
    },
    {
     "name": "stderr",
     "output_type": "stream",
     "text": [
      "\n",
      "Processing mushroom.ar-tst.v1.jsonl:  37%|███▋      | 55/150 [04:06<05:03,  3.20s/entry]\u001B[A\n",
      "Processing mushroom.ar-tst.v1.jsonl:  37%|███▋      | 56/150 [04:08<04:46,  3.05s/entry]\u001B[A\n",
      "Processing mushroom.ar-tst.v1.jsonl:  38%|███▊      | 57/150 [04:13<05:18,  3.43s/entry]\u001B[A\n",
      "Processing mushroom.ar-tst.v1.jsonl:  39%|███▊      | 58/150 [04:20<07:08,  4.65s/entry]\u001B[A\n",
      "Processing mushroom.ar-tst.v1.jsonl:  39%|███▉      | 59/150 [04:25<07:00,  4.62s/entry]\u001B[A\n",
      "Processing mushroom.ar-tst.v1.jsonl:  40%|████      | 60/150 [04:29<06:39,  4.44s/entry]\u001B[A\n",
      "Processing mushroom.ar-tst.v1.jsonl:  41%|████      | 61/150 [04:31<05:32,  3.73s/entry]\u001B[A\n",
      "Processing mushroom.ar-tst.v1.jsonl:  41%|████▏     | 62/150 [04:35<05:39,  3.85s/entry]\u001B[A\n",
      "Processing mushroom.ar-tst.v1.jsonl:  42%|████▏     | 63/150 [04:39<05:41,  3.92s/entry]\u001B[A\n",
      "Processing mushroom.ar-tst.v1.jsonl:  43%|████▎     | 64/150 [04:48<07:53,  5.51s/entry]\u001B[A\n",
      "Processing mushroom.ar-tst.v1.jsonl:  43%|████▎     | 65/150 [04:51<06:50,  4.83s/entry]\u001B[A\n",
      "Processing mushroom.ar-tst.v1.jsonl:  44%|████▍     | 66/150 [04:54<05:57,  4.25s/entry]\u001B[A\n",
      "Processing mushroom.ar-tst.v1.jsonl:  45%|████▍     | 67/150 [04:58<05:46,  4.17s/entry]\u001B[A\n",
      "Processing mushroom.ar-tst.v1.jsonl:  45%|████▌     | 68/150 [05:01<05:11,  3.79s/entry]\u001B[A\n",
      "Processing mushroom.ar-tst.v1.jsonl:  46%|████▌     | 69/150 [05:05<05:00,  3.71s/entry]\u001B[A\n",
      "Processing mushroom.ar-tst.v1.jsonl:  47%|████▋     | 70/150 [05:09<05:01,  3.77s/entry]\u001B[A\n",
      "Processing mushroom.ar-tst.v1.jsonl:  47%|████▋     | 71/150 [05:13<04:59,  3.79s/entry]\u001B[A\n",
      "Processing mushroom.ar-tst.v1.jsonl:  48%|████▊     | 72/150 [05:15<04:21,  3.35s/entry]\u001B[A\n",
      "Processing mushroom.ar-tst.v1.jsonl:  49%|████▊     | 73/150 [05:20<05:04,  3.95s/entry]\u001B[A\n",
      "Processing mushroom.ar-tst.v1.jsonl:  49%|████▉     | 74/150 [05:24<04:54,  3.87s/entry]\u001B[A\n",
      "Processing mushroom.ar-tst.v1.jsonl:  50%|█████     | 75/150 [05:29<05:11,  4.16s/entry]\u001B[A\n",
      "Processing mushroom.ar-tst.v1.jsonl:  51%|█████     | 76/150 [05:31<04:30,  3.66s/entry]\u001B[A\n",
      "Processing mushroom.ar-tst.v1.jsonl:  51%|█████▏    | 77/150 [05:34<03:58,  3.27s/entry]\u001B[A\n",
      "Processing mushroom.ar-tst.v1.jsonl:  52%|█████▏    | 78/150 [05:36<03:35,  2.99s/entry]\u001B[A\n",
      "Processing mushroom.ar-tst.v1.jsonl:  53%|█████▎    | 79/150 [05:40<03:51,  3.26s/entry]\u001B[A\n",
      "Processing mushroom.ar-tst.v1.jsonl:  53%|█████▎    | 80/150 [05:43<03:54,  3.35s/entry]\u001B[A\n",
      "Processing mushroom.ar-tst.v1.jsonl:  54%|█████▍    | 81/150 [05:48<04:18,  3.75s/entry]\u001B[A\n",
      "Processing mushroom.ar-tst.v1.jsonl:  55%|█████▍    | 82/150 [05:52<04:18,  3.80s/entry]\u001B[A\n",
      "Processing mushroom.ar-tst.v1.jsonl:  55%|█████▌    | 83/150 [05:56<04:18,  3.86s/entry]\u001B[A\n",
      "Processing mushroom.ar-tst.v1.jsonl:  56%|█████▌    | 84/150 [06:00<04:13,  3.84s/entry]\u001B[A\n",
      "Processing mushroom.ar-tst.v1.jsonl:  57%|█████▋    | 85/150 [06:05<04:31,  4.17s/entry]\u001B[A\n",
      "Processing mushroom.ar-tst.v1.jsonl:  57%|█████▋    | 86/150 [06:12<05:33,  5.21s/entry]\u001B[A\n",
      "Processing mushroom.ar-tst.v1.jsonl:  58%|█████▊    | 87/150 [06:15<04:33,  4.34s/entry]\u001B[A\n",
      "Processing mushroom.ar-tst.v1.jsonl:  59%|█████▊    | 88/150 [06:25<06:27,  6.26s/entry]\u001B[A\n",
      "Processing mushroom.ar-tst.v1.jsonl:  59%|█████▉    | 89/150 [06:32<06:32,  6.43s/entry]\u001B[A\n",
      "Processing mushroom.ar-tst.v1.jsonl:  60%|██████    | 90/150 [06:53<10:47, 10.80s/entry]\u001B[A\n",
      "Processing mushroom.ar-tst.v1.jsonl:  61%|██████    | 91/150 [06:57<08:24,  8.55s/entry]\u001B[A\n",
      "Processing mushroom.ar-tst.v1.jsonl:  61%|██████▏   | 92/150 [07:02<07:17,  7.54s/entry]\u001B[A\n",
      "Processing mushroom.ar-tst.v1.jsonl:  62%|██████▏   | 93/150 [07:05<05:50,  6.15s/entry]\u001B[A"
     ]
    },
    {
     "name": "stdout",
     "output_type": "stream",
     "text": [
      "No valid JSON found in content: ```json\n",
      "[]\n",
      "```\n"
     ]
    },
    {
     "name": "stderr",
     "output_type": "stream",
     "text": [
      "\n",
      "Processing mushroom.ar-tst.v1.jsonl:  63%|██████▎   | 94/150 [07:08<05:01,  5.38s/entry]\u001B[A\n",
      "Processing mushroom.ar-tst.v1.jsonl:  63%|██████▎   | 95/150 [07:13<04:54,  5.35s/entry]\u001B[A\n",
      "Processing mushroom.ar-tst.v1.jsonl:  64%|██████▍   | 96/150 [07:17<04:19,  4.81s/entry]\u001B[A\n",
      "Processing mushroom.ar-tst.v1.jsonl:  65%|██████▍   | 97/150 [07:21<03:57,  4.48s/entry]\u001B[A\n",
      "Processing mushroom.ar-tst.v1.jsonl:  65%|██████▌   | 98/150 [07:25<03:48,  4.40s/entry]\u001B[A\n",
      "Processing mushroom.ar-tst.v1.jsonl:  66%|██████▌   | 99/150 [07:31<04:05,  4.81s/entry]\u001B[A\n",
      "Processing mushroom.ar-tst.v1.jsonl:  67%|██████▋   | 100/150 [07:36<04:09,  5.00s/entry]\u001B[A\n",
      "Processing mushroom.ar-tst.v1.jsonl:  67%|██████▋   | 101/150 [07:40<03:47,  4.64s/entry]\u001B[A\n",
      "Processing mushroom.ar-tst.v1.jsonl:  68%|██████▊   | 102/150 [07:46<03:58,  4.97s/entry]\u001B[A\n",
      "Processing mushroom.ar-tst.v1.jsonl:  69%|██████▊   | 103/150 [07:52<04:10,  5.34s/entry]\u001B[A\n",
      "Processing mushroom.ar-tst.v1.jsonl:  69%|██████▉   | 104/150 [07:54<03:26,  4.48s/entry]\u001B[A\n",
      "Processing mushroom.ar-tst.v1.jsonl:  70%|███████   | 105/150 [07:57<02:56,  3.93s/entry]\u001B[A\n",
      "Processing mushroom.ar-tst.v1.jsonl:  71%|███████   | 106/150 [08:00<02:37,  3.58s/entry]\u001B[A\n",
      "Processing mushroom.ar-tst.v1.jsonl:  71%|███████▏  | 107/150 [08:04<02:37,  3.67s/entry]\u001B[A\n",
      "Processing mushroom.ar-tst.v1.jsonl:  72%|███████▏  | 108/150 [08:07<02:33,  3.65s/entry]\u001B[A\n",
      "Processing mushroom.ar-tst.v1.jsonl:  73%|███████▎  | 109/150 [08:13<02:51,  4.18s/entry]\u001B[A\n",
      "Processing mushroom.ar-tst.v1.jsonl:  73%|███████▎  | 110/150 [08:16<02:40,  4.02s/entry]\u001B[A\n",
      "Processing mushroom.ar-tst.v1.jsonl:  74%|███████▍  | 111/150 [08:19<02:25,  3.72s/entry]\u001B[A\n",
      "Processing mushroom.ar-tst.v1.jsonl:  75%|███████▍  | 112/150 [08:23<02:25,  3.83s/entry]\u001B[A\n",
      "Processing mushroom.ar-tst.v1.jsonl:  75%|███████▌  | 113/150 [08:27<02:17,  3.71s/entry]\u001B[A\n",
      "Processing mushroom.ar-tst.v1.jsonl:  76%|███████▌  | 114/150 [08:32<02:24,  4.03s/entry]\u001B[A\n",
      "Processing mushroom.ar-tst.v1.jsonl:  77%|███████▋  | 115/150 [08:38<02:43,  4.67s/entry]\u001B[A\n",
      "Processing mushroom.ar-tst.v1.jsonl:  77%|███████▋  | 116/150 [08:41<02:27,  4.35s/entry]\u001B[A\n",
      "Processing mushroom.ar-tst.v1.jsonl:  78%|███████▊  | 117/150 [08:47<02:37,  4.78s/entry]\u001B[A\n",
      "Processing mushroom.ar-tst.v1.jsonl:  79%|███████▊  | 118/150 [08:50<02:14,  4.20s/entry]\u001B[A\n",
      "Processing mushroom.ar-tst.v1.jsonl:  79%|███████▉  | 119/150 [08:53<02:01,  3.91s/entry]\u001B[A\n",
      "Processing mushroom.ar-tst.v1.jsonl:  80%|████████  | 120/150 [08:59<02:11,  4.37s/entry]\u001B[A\n",
      "Processing mushroom.ar-tst.v1.jsonl:  81%|████████  | 121/150 [09:11<03:12,  6.65s/entry]\u001B[A\n",
      "Processing mushroom.ar-tst.v1.jsonl:  81%|████████▏ | 122/150 [09:15<02:45,  5.91s/entry]\u001B[A\n",
      "Processing mushroom.ar-tst.v1.jsonl:  82%|████████▏ | 123/150 [09:17<02:08,  4.76s/entry]\u001B[A\n",
      "Processing mushroom.ar-tst.v1.jsonl:  83%|████████▎ | 124/150 [09:20<01:54,  4.39s/entry]\u001B[A\n",
      "Processing mushroom.ar-tst.v1.jsonl:  83%|████████▎ | 125/150 [09:24<01:44,  4.19s/entry]\u001B[A\n",
      "Processing mushroom.ar-tst.v1.jsonl:  84%|████████▍ | 126/150 [09:30<01:49,  4.56s/entry]\u001B[A\n",
      "Processing mushroom.ar-tst.v1.jsonl:  85%|████████▍ | 127/150 [09:33<01:37,  4.22s/entry]\u001B[A\n",
      "Processing mushroom.ar-tst.v1.jsonl:  85%|████████▌ | 128/150 [09:37<01:28,  4.03s/entry]\u001B[A\n",
      "Processing mushroom.ar-tst.v1.jsonl:  86%|████████▌ | 129/150 [09:39<01:15,  3.58s/entry]\u001B[A\n",
      "Processing mushroom.ar-tst.v1.jsonl:  87%|████████▋ | 130/150 [09:45<01:24,  4.22s/entry]\u001B[A\n",
      "Processing mushroom.ar-tst.v1.jsonl:  87%|████████▋ | 131/150 [09:49<01:20,  4.22s/entry]\u001B[A\n",
      "Processing mushroom.ar-tst.v1.jsonl:  88%|████████▊ | 132/150 [09:52<01:06,  3.71s/entry]\u001B[A\n",
      "Processing mushroom.ar-tst.v1.jsonl:  89%|████████▊ | 133/150 [09:55<01:03,  3.75s/entry]\u001B[A\n",
      "Processing mushroom.ar-tst.v1.jsonl:  89%|████████▉ | 134/150 [09:58<00:54,  3.43s/entry]\u001B[A\n",
      "Processing mushroom.ar-tst.v1.jsonl:  90%|█████████ | 135/150 [10:02<00:53,  3.55s/entry]\u001B[A\n",
      "Processing mushroom.ar-tst.v1.jsonl:  91%|█████████ | 136/150 [10:05<00:45,  3.27s/entry]\u001B[A\n",
      "Processing mushroom.ar-tst.v1.jsonl:  91%|█████████▏| 137/150 [10:09<00:46,  3.56s/entry]\u001B[A\n",
      "Processing mushroom.ar-tst.v1.jsonl:  92%|█████████▏| 138/150 [10:18<01:04,  5.35s/entry]\u001B[A\n",
      "Processing mushroom.ar-tst.v1.jsonl:  93%|█████████▎| 139/150 [10:24<00:59,  5.43s/entry]\u001B[A\n",
      "Processing mushroom.ar-tst.v1.jsonl:  93%|█████████▎| 140/150 [10:29<00:52,  5.28s/entry]\u001B[A\n",
      "Processing mushroom.ar-tst.v1.jsonl:  94%|█████████▍| 141/150 [10:32<00:41,  4.62s/entry]\u001B[A\n",
      "Processing mushroom.ar-tst.v1.jsonl:  95%|█████████▍| 142/150 [10:34<00:31,  3.96s/entry]\u001B[A\n",
      "Processing mushroom.ar-tst.v1.jsonl:  95%|█████████▌| 143/150 [10:38<00:26,  3.80s/entry]\u001B[A\n",
      "Processing mushroom.ar-tst.v1.jsonl:  96%|█████████▌| 144/150 [10:41<00:21,  3.55s/entry]\u001B[A\n",
      "Processing mushroom.ar-tst.v1.jsonl:  97%|█████████▋| 145/150 [10:44<00:18,  3.60s/entry]\u001B[A\n",
      "Processing mushroom.ar-tst.v1.jsonl:  97%|█████████▋| 146/150 [10:47<00:13,  3.34s/entry]\u001B[A\n",
      "Processing mushroom.ar-tst.v1.jsonl:  98%|█████████▊| 147/150 [10:51<00:09,  3.33s/entry]\u001B[A\n",
      "Processing mushroom.ar-tst.v1.jsonl:  99%|█████████▊| 148/150 [10:54<00:06,  3.28s/entry]\u001B[A\n",
      "Processing mushroom.ar-tst.v1.jsonl:  99%|█████████▉| 149/150 [10:58<00:03,  3.50s/entry]\u001B[A\n",
      "Processing mushroom.ar-tst.v1.jsonl: 100%|██████████| 150/150 [11:00<00:00,  3.16s/entry]\u001B[A\n",
      "Processing Files:   7%|▋         | 1/14 [11:00<2:23:07, 660.57s/file]                    \u001B[A"
     ]
    },
    {
     "name": "stdout",
     "output_type": "stream",
     "text": [
      "Processed and saved: ../data/test/detect_gpt4o_m2/mushroom.ar-tst.v1.jsonl\n"
     ]
    },
    {
     "name": "stderr",
     "output_type": "stream",
     "text": [
      "\n",
      "Processing mushroom.ca-tst.v1.jsonl:   0%|          | 0/100 [00:00<?, ?entry/s]\u001B[A\n",
      "Processing mushroom.ca-tst.v1.jsonl:   1%|          | 1/100 [00:02<04:22,  2.65s/entry]\u001B[A\n",
      "Processing mushroom.ca-tst.v1.jsonl:   2%|▏         | 2/100 [00:06<05:08,  3.15s/entry]\u001B[A\n",
      "Processing mushroom.ca-tst.v1.jsonl:   3%|▎         | 3/100 [00:12<07:46,  4.81s/entry]\u001B[A\n",
      "Processing mushroom.ca-tst.v1.jsonl:   4%|▍         | 4/100 [00:17<07:46,  4.86s/entry]\u001B[A"
     ]
    },
    {
     "name": "stdout",
     "output_type": "stream",
     "text": [
      "No valid JSON found in content: ```json\n",
      "[]\n",
      "```\n"
     ]
    },
    {
     "name": "stderr",
     "output_type": "stream",
     "text": [
      "\n",
      "Processing mushroom.ca-tst.v1.jsonl:   5%|▌         | 5/100 [00:21<07:05,  4.47s/entry]\u001B[A\n",
      "Processing mushroom.ca-tst.v1.jsonl:   6%|▌         | 6/100 [00:26<07:08,  4.56s/entry]\u001B[A\n",
      "Processing mushroom.ca-tst.v1.jsonl:   7%|▋         | 7/100 [00:29<06:23,  4.13s/entry]\u001B[A\n",
      "Processing mushroom.ca-tst.v1.jsonl:   8%|▊         | 8/100 [00:32<05:45,  3.75s/entry]\u001B[A\n",
      "Processing mushroom.ca-tst.v1.jsonl:   9%|▉         | 9/100 [00:34<05:01,  3.31s/entry]\u001B[A\n",
      "Processing mushroom.ca-tst.v1.jsonl:  10%|█         | 10/100 [00:37<04:31,  3.02s/entry]\u001B[A\n",
      "Processing mushroom.ca-tst.v1.jsonl:  11%|█         | 11/100 [00:40<04:34,  3.09s/entry]\u001B[A\n",
      "Processing mushroom.ca-tst.v1.jsonl:  12%|█▏        | 12/100 [00:45<05:13,  3.56s/entry]\u001B[A\n",
      "Processing mushroom.ca-tst.v1.jsonl:  13%|█▎        | 13/100 [00:48<05:08,  3.55s/entry]\u001B[A\n",
      "Processing mushroom.ca-tst.v1.jsonl:  14%|█▍        | 14/100 [00:55<06:26,  4.50s/entry]\u001B[A\n",
      "Processing mushroom.ca-tst.v1.jsonl:  15%|█▌        | 15/100 [01:00<06:29,  4.58s/entry]\u001B[A\n",
      "Processing mushroom.ca-tst.v1.jsonl:  16%|█▌        | 16/100 [01:02<05:21,  3.83s/entry]\u001B[A"
     ]
    },
    {
     "name": "stdout",
     "output_type": "stream",
     "text": [
      "No valid JSON found in content: ```json\n",
      "[]\n",
      "```\n"
     ]
    },
    {
     "name": "stderr",
     "output_type": "stream",
     "text": [
      "\n",
      "Processing mushroom.ca-tst.v1.jsonl:  17%|█▋        | 17/100 [01:06<05:21,  3.87s/entry]\u001B[A\n",
      "Processing mushroom.ca-tst.v1.jsonl:  18%|█▊        | 18/100 [01:09<05:00,  3.66s/entry]\u001B[A\n",
      "Processing mushroom.ca-tst.v1.jsonl:  19%|█▉        | 19/100 [01:11<04:19,  3.21s/entry]\u001B[A"
     ]
    },
    {
     "name": "stdout",
     "output_type": "stream",
     "text": [
      "No valid JSON found in content: ```json\n",
      "[]\n",
      "```\n"
     ]
    },
    {
     "name": "stderr",
     "output_type": "stream",
     "text": [
      "\n",
      "Processing mushroom.ca-tst.v1.jsonl:  20%|██        | 20/100 [01:13<03:47,  2.85s/entry]\u001B[A\n",
      "Processing mushroom.ca-tst.v1.jsonl:  21%|██        | 21/100 [01:16<03:38,  2.77s/entry]\u001B[A\n",
      "Processing mushroom.ca-tst.v1.jsonl:  22%|██▏       | 22/100 [01:22<05:02,  3.87s/entry]\u001B[A\n",
      "Processing mushroom.ca-tst.v1.jsonl:  23%|██▎       | 23/100 [01:25<04:34,  3.56s/entry]\u001B[A\n",
      "Processing mushroom.ca-tst.v1.jsonl:  24%|██▍       | 24/100 [01:27<04:00,  3.16s/entry]\u001B[A\n",
      "Processing mushroom.ca-tst.v1.jsonl:  25%|██▌       | 25/100 [01:31<04:06,  3.29s/entry]\u001B[A\n",
      "Processing mushroom.ca-tst.v1.jsonl:  26%|██▌       | 26/100 [01:35<04:29,  3.64s/entry]\u001B[A\n",
      "Processing mushroom.ca-tst.v1.jsonl:  27%|██▋       | 27/100 [01:38<04:11,  3.44s/entry]\u001B[A\n",
      "Processing mushroom.ca-tst.v1.jsonl:  28%|██▊       | 28/100 [01:42<04:19,  3.61s/entry]\u001B[A\n",
      "Processing mushroom.ca-tst.v1.jsonl:  29%|██▉       | 29/100 [01:45<04:08,  3.50s/entry]\u001B[A\n",
      "Processing mushroom.ca-tst.v1.jsonl:  30%|███       | 30/100 [01:47<03:31,  3.02s/entry]\u001B[A"
     ]
    },
    {
     "name": "stdout",
     "output_type": "stream",
     "text": [
      "No valid JSON found in content: ```json\n",
      "[]\n",
      "```\n"
     ]
    },
    {
     "name": "stderr",
     "output_type": "stream",
     "text": [
      "\n",
      "Processing mushroom.ca-tst.v1.jsonl:  31%|███       | 31/100 [01:50<03:26,  2.99s/entry]\u001B[A\n",
      "Processing mushroom.ca-tst.v1.jsonl:  32%|███▏      | 32/100 [01:55<03:50,  3.38s/entry]\u001B[A\n",
      "Processing mushroom.ca-tst.v1.jsonl:  33%|███▎      | 33/100 [02:00<04:29,  4.03s/entry]\u001B[A\n",
      "Processing mushroom.ca-tst.v1.jsonl:  34%|███▍      | 34/100 [02:03<04:13,  3.84s/entry]\u001B[A"
     ]
    },
    {
     "name": "stdout",
     "output_type": "stream",
     "text": [
      "No valid JSON found in content: []\n"
     ]
    },
    {
     "name": "stderr",
     "output_type": "stream",
     "text": [
      "\n",
      "Processing mushroom.ca-tst.v1.jsonl:  35%|███▌      | 35/100 [02:06<03:49,  3.54s/entry]\u001B[A\n",
      "Processing mushroom.ca-tst.v1.jsonl:  36%|███▌      | 36/100 [02:09<03:37,  3.40s/entry]\u001B[A"
     ]
    },
    {
     "name": "stdout",
     "output_type": "stream",
     "text": [
      "No valid JSON found in content: ```json\n",
      "[]\n",
      "```\n"
     ]
    },
    {
     "name": "stderr",
     "output_type": "stream",
     "text": [
      "\n",
      "Processing mushroom.ca-tst.v1.jsonl:  37%|███▋      | 37/100 [02:14<03:58,  3.79s/entry]\u001B[A\n",
      "Processing mushroom.ca-tst.v1.jsonl:  38%|███▊      | 38/100 [02:16<03:21,  3.25s/entry]\u001B[A"
     ]
    },
    {
     "name": "stdout",
     "output_type": "stream",
     "text": [
      "No valid JSON found in content: ```json\n",
      "[]\n",
      "```\n"
     ]
    },
    {
     "name": "stderr",
     "output_type": "stream",
     "text": [
      "\n",
      "Processing mushroom.ca-tst.v1.jsonl:  39%|███▉      | 39/100 [02:20<03:30,  3.45s/entry]\u001B[A\n",
      "Processing mushroom.ca-tst.v1.jsonl:  40%|████      | 40/100 [02:23<03:23,  3.39s/entry]\u001B[A\n",
      "Processing mushroom.ca-tst.v1.jsonl:  41%|████      | 41/100 [02:32<04:58,  5.07s/entry]\u001B[A\n",
      "Processing mushroom.ca-tst.v1.jsonl:  42%|████▏     | 42/100 [02:37<04:57,  5.12s/entry]\u001B[A\n",
      "Processing mushroom.ca-tst.v1.jsonl:  43%|████▎     | 43/100 [02:40<04:11,  4.42s/entry]\u001B[A\n",
      "Processing mushroom.ca-tst.v1.jsonl:  44%|████▍     | 44/100 [02:44<03:50,  4.11s/entry]\u001B[A\n",
      "Processing mushroom.ca-tst.v1.jsonl:  45%|████▌     | 45/100 [02:46<03:18,  3.61s/entry]\u001B[A"
     ]
    },
    {
     "name": "stdout",
     "output_type": "stream",
     "text": [
      "Failed to parse JSON content: [\n",
      "    {\"word\": \"1969\", \"prob\": 0.8\"},\n",
      "    {\"word\": \"Estats Units\", \"prob\": 0.6\"}\n",
      "]. Error: Expecting ',' delimiter: line 2 column 33 (char 34)\n"
     ]
    },
    {
     "name": "stderr",
     "output_type": "stream",
     "text": [
      "\n",
      "Processing mushroom.ca-tst.v1.jsonl:  46%|████▌     | 46/100 [02:51<03:33,  3.96s/entry]\u001B[A\n",
      "Processing mushroom.ca-tst.v1.jsonl:  47%|████▋     | 47/100 [03:05<06:08,  6.96s/entry]\u001B[A"
     ]
    },
    {
     "name": "stdout",
     "output_type": "stream",
     "text": [
      "No valid JSON found in content: ```json\n",
      "[\n",
      "    {\"word\": \"1952\", \"prob\": 0.9},\n",
      "    {\"word\": \"John von Neumann\", \"prob\": 0.7},\n",
      "    {\"word\": \"matemàtic\", \"prob\": 0.7\n"
     ]
    },
    {
     "name": "stderr",
     "output_type": "stream",
     "text": [
      "\n",
      "Processing mushroom.ca-tst.v1.jsonl:  48%|████▊     | 48/100 [03:08<05:10,  5.97s/entry]\u001B[A\n",
      "Processing mushroom.ca-tst.v1.jsonl:  49%|████▉     | 49/100 [03:11<04:16,  5.03s/entry]\u001B[A\n",
      "Processing mushroom.ca-tst.v1.jsonl:  50%|█████     | 50/100 [03:14<03:39,  4.40s/entry]\u001B[A\n",
      "Processing mushroom.ca-tst.v1.jsonl:  51%|█████     | 51/100 [03:19<03:47,  4.65s/entry]\u001B[A\n",
      "Processing mushroom.ca-tst.v1.jsonl:  52%|█████▏    | 52/100 [03:23<03:32,  4.42s/entry]\u001B[A\n",
      "Processing mushroom.ca-tst.v1.jsonl:  53%|█████▎    | 53/100 [03:31<04:14,  5.42s/entry]\u001B[A"
     ]
    },
    {
     "name": "stdout",
     "output_type": "stream",
     "text": [
      "No valid JSON found in content: ```json\n",
      "[]\n",
      "```\n"
     ]
    },
    {
     "name": "stderr",
     "output_type": "stream",
     "text": [
      "\n",
      "Processing mushroom.ca-tst.v1.jsonl:  54%|█████▍    | 54/100 [03:34<03:32,  4.62s/entry]\u001B[A\n",
      "Processing mushroom.ca-tst.v1.jsonl:  55%|█████▌    | 55/100 [03:36<02:59,  3.98s/entry]\u001B[A\n",
      "Processing mushroom.ca-tst.v1.jsonl:  56%|█████▌    | 56/100 [03:41<03:03,  4.17s/entry]\u001B[A\n",
      "Processing mushroom.ca-tst.v1.jsonl:  57%|█████▋    | 57/100 [03:45<03:01,  4.21s/entry]\u001B[A\n",
      "Processing mushroom.ca-tst.v1.jsonl:  58%|█████▊    | 58/100 [03:49<02:51,  4.08s/entry]\u001B[A\n",
      "Processing mushroom.ca-tst.v1.jsonl:  59%|█████▉    | 59/100 [03:55<03:11,  4.67s/entry]\u001B[A\n",
      "Processing mushroom.ca-tst.v1.jsonl:  60%|██████    | 60/100 [04:00<03:12,  4.80s/entry]\u001B[A\n",
      "Processing mushroom.ca-tst.v1.jsonl:  61%|██████    | 61/100 [04:07<03:35,  5.51s/entry]\u001B[A\n",
      "Processing mushroom.ca-tst.v1.jsonl:  62%|██████▏   | 62/100 [04:14<03:41,  5.82s/entry]\u001B[A\n",
      "Processing mushroom.ca-tst.v1.jsonl:  63%|██████▎   | 63/100 [04:20<03:37,  5.89s/entry]\u001B[A\n",
      "Processing mushroom.ca-tst.v1.jsonl:  64%|██████▍   | 64/100 [04:24<03:14,  5.41s/entry]\u001B[A\n",
      "Processing mushroom.ca-tst.v1.jsonl:  65%|██████▌   | 65/100 [04:27<02:44,  4.69s/entry]\u001B[A\n",
      "Processing mushroom.ca-tst.v1.jsonl:  66%|██████▌   | 66/100 [04:30<02:14,  3.97s/entry]\u001B[A"
     ]
    },
    {
     "name": "stdout",
     "output_type": "stream",
     "text": [
      "No valid JSON found in content: []\n"
     ]
    },
    {
     "name": "stderr",
     "output_type": "stream",
     "text": [
      "\n",
      "Processing mushroom.ca-tst.v1.jsonl:  67%|██████▋   | 67/100 [04:35<02:21,  4.29s/entry]\u001B[A\n",
      "Processing mushroom.ca-tst.v1.jsonl:  68%|██████▊   | 68/100 [04:37<01:57,  3.67s/entry]\u001B[A\n",
      "Processing mushroom.ca-tst.v1.jsonl:  69%|██████▉   | 69/100 [04:39<01:41,  3.27s/entry]\u001B[A\n",
      "Processing mushroom.ca-tst.v1.jsonl:  70%|███████   | 70/100 [04:49<02:35,  5.17s/entry]\u001B[A\n",
      "Processing mushroom.ca-tst.v1.jsonl:  71%|███████   | 71/100 [04:54<02:30,  5.18s/entry]\u001B[A\n",
      "Processing mushroom.ca-tst.v1.jsonl:  72%|███████▏  | 72/100 [04:57<02:07,  4.54s/entry]\u001B[A\n",
      "Processing mushroom.ca-tst.v1.jsonl:  73%|███████▎  | 73/100 [05:03<02:17,  5.08s/entry]\u001B[A\n",
      "Processing mushroom.ca-tst.v1.jsonl:  74%|███████▍  | 74/100 [05:05<01:48,  4.18s/entry]\u001B[A"
     ]
    },
    {
     "name": "stdout",
     "output_type": "stream",
     "text": [
      "No valid JSON found in content: ```json\n",
      "[]\n",
      "```\n"
     ]
    },
    {
     "name": "stderr",
     "output_type": "stream",
     "text": [
      "\n",
      "Processing mushroom.ca-tst.v1.jsonl:  75%|███████▌  | 75/100 [05:09<01:41,  4.07s/entry]\u001B[A\n",
      "Processing mushroom.ca-tst.v1.jsonl:  76%|███████▌  | 76/100 [05:11<01:23,  3.49s/entry]\u001B[A\n",
      "Processing mushroom.ca-tst.v1.jsonl:  77%|███████▋  | 77/100 [05:15<01:20,  3.49s/entry]\u001B[A\n",
      "Processing mushroom.ca-tst.v1.jsonl:  78%|███████▊  | 78/100 [05:27<02:16,  6.21s/entry]\u001B[A\n",
      "Processing mushroom.ca-tst.v1.jsonl:  79%|███████▉  | 79/100 [05:34<02:13,  6.36s/entry]\u001B[A"
     ]
    },
    {
     "name": "stdout",
     "output_type": "stream",
     "text": [
      "No valid JSON found in content: ```json\n",
      "[]\n",
      "```\n"
     ]
    },
    {
     "name": "stderr",
     "output_type": "stream",
     "text": [
      "\n",
      "Processing mushroom.ca-tst.v1.jsonl:  80%|████████  | 80/100 [05:36<01:41,  5.08s/entry]\u001B[A\n",
      "Processing mushroom.ca-tst.v1.jsonl:  81%|████████  | 81/100 [05:40<01:31,  4.84s/entry]\u001B[A\n",
      "Processing mushroom.ca-tst.v1.jsonl:  82%|████████▏ | 82/100 [05:46<01:32,  5.12s/entry]\u001B[A\n",
      "Processing mushroom.ca-tst.v1.jsonl:  83%|████████▎ | 83/100 [05:50<01:21,  4.77s/entry]\u001B[A\n",
      "Processing mushroom.ca-tst.v1.jsonl:  84%|████████▍ | 84/100 [05:53<01:06,  4.13s/entry]\u001B[A\n",
      "Processing mushroom.ca-tst.v1.jsonl:  85%|████████▌ | 85/100 [05:57<01:03,  4.24s/entry]\u001B[A"
     ]
    },
    {
     "name": "stdout",
     "output_type": "stream",
     "text": [
      "No valid JSON found in content: ```json\n",
      "[]\n",
      "```\n"
     ]
    },
    {
     "name": "stderr",
     "output_type": "stream",
     "text": [
      "\n",
      "Processing mushroom.ca-tst.v1.jsonl:  86%|████████▌ | 86/100 [06:05<01:12,  5.18s/entry]\u001B[A\n",
      "Processing mushroom.ca-tst.v1.jsonl:  87%|████████▋ | 87/100 [06:10<01:05,  5.07s/entry]\u001B[A\n",
      "Processing mushroom.ca-tst.v1.jsonl:  88%|████████▊ | 88/100 [06:13<00:54,  4.56s/entry]\u001B[A\n",
      "Processing mushroom.ca-tst.v1.jsonl:  89%|████████▉ | 89/100 [06:18<00:50,  4.63s/entry]\u001B[A\n",
      "Processing mushroom.ca-tst.v1.jsonl:  90%|█████████ | 90/100 [06:21<00:42,  4.23s/entry]\u001B[A\n",
      "Processing mushroom.ca-tst.v1.jsonl:  91%|█████████ | 91/100 [06:23<00:32,  3.59s/entry]\u001B[A\n",
      "Processing mushroom.ca-tst.v1.jsonl:  92%|█████████▏| 92/100 [06:30<00:36,  4.52s/entry]\u001B[A\n",
      "Processing mushroom.ca-tst.v1.jsonl:  93%|█████████▎| 93/100 [06:35<00:32,  4.59s/entry]\u001B[A\n",
      "Processing mushroom.ca-tst.v1.jsonl:  94%|█████████▍| 94/100 [06:38<00:25,  4.24s/entry]\u001B[A\n",
      "Processing mushroom.ca-tst.v1.jsonl:  95%|█████████▌| 95/100 [06:41<00:19,  4.00s/entry]\u001B[A"
     ]
    },
    {
     "name": "stdout",
     "output_type": "stream",
     "text": [
      "No valid JSON found in content: ```json\n",
      "[]\n",
      "```\n"
     ]
    },
    {
     "name": "stderr",
     "output_type": "stream",
     "text": [
      "\n",
      "Processing mushroom.ca-tst.v1.jsonl:  96%|█████████▌| 96/100 [06:45<00:15,  3.89s/entry]\u001B[A\n",
      "Processing mushroom.ca-tst.v1.jsonl:  97%|█████████▋| 97/100 [06:47<00:10,  3.43s/entry]\u001B[A\n",
      "Processing mushroom.ca-tst.v1.jsonl:  98%|█████████▊| 98/100 [06:53<00:07,  3.98s/entry]\u001B[A\n",
      "Processing mushroom.ca-tst.v1.jsonl:  99%|█████████▉| 99/100 [06:56<00:03,  3.94s/entry]\u001B[A\n",
      "Processing mushroom.ca-tst.v1.jsonl: 100%|██████████| 100/100 [07:01<00:00,  4.24s/entry]\u001B[A\n",
      "Processing Files:  14%|█▍        | 2/14 [18:02<1:44:02, 520.21s/file]                    \u001B[A"
     ]
    },
    {
     "name": "stdout",
     "output_type": "stream",
     "text": [
      "No valid JSON found in content: ```json\n",
      "[]\n",
      "```\n",
      "Processed and saved: ../data/test/detect_gpt4o_m2/mushroom.ca-tst.v1.jsonl\n"
     ]
    },
    {
     "name": "stderr",
     "output_type": "stream",
     "text": [
      "\n",
      "Processing mushroom.cs-tst.v1.jsonl:   0%|          | 0/100 [00:00<?, ?entry/s]\u001B[A\n",
      "Processing mushroom.cs-tst.v1.jsonl:   1%|          | 1/100 [00:04<07:55,  4.81s/entry]\u001B[A\n",
      "Processing mushroom.cs-tst.v1.jsonl:   2%|▏         | 2/100 [00:18<16:23, 10.04s/entry]\u001B[A\n",
      "Processing mushroom.cs-tst.v1.jsonl:   3%|▎         | 3/100 [00:22<12:00,  7.43s/entry]\u001B[A\n",
      "Processing mushroom.cs-tst.v1.jsonl:   4%|▍         | 4/100 [00:24<08:33,  5.34s/entry]\u001B[A"
     ]
    },
    {
     "name": "stdout",
     "output_type": "stream",
     "text": [
      "No valid JSON found in content: ```json\n",
      "[]\n",
      "```\n"
     ]
    },
    {
     "name": "stderr",
     "output_type": "stream",
     "text": [
      "\n",
      "Processing mushroom.cs-tst.v1.jsonl:   5%|▌         | 5/100 [00:29<07:47,  4.92s/entry]\u001B[A\n",
      "Processing mushroom.cs-tst.v1.jsonl:   6%|▌         | 6/100 [00:36<08:47,  5.62s/entry]\u001B[A\n",
      "Processing mushroom.cs-tst.v1.jsonl:   7%|▋         | 7/100 [00:41<08:27,  5.46s/entry]\u001B[A\n",
      "Processing mushroom.cs-tst.v1.jsonl:   8%|▊         | 8/100 [00:45<07:33,  4.93s/entry]\u001B[A\n",
      "Processing mushroom.cs-tst.v1.jsonl:   9%|▉         | 9/100 [00:48<06:59,  4.61s/entry]\u001B[A\n",
      "Processing mushroom.cs-tst.v1.jsonl:  10%|█         | 10/100 [00:54<07:12,  4.80s/entry]\u001B[A\n",
      "Processing mushroom.cs-tst.v1.jsonl:  11%|█         | 11/100 [00:58<07:02,  4.75s/entry]\u001B[A\n",
      "Processing mushroom.cs-tst.v1.jsonl:  12%|█▏        | 12/100 [01:01<05:58,  4.08s/entry]\u001B[A"
     ]
    },
    {
     "name": "stdout",
     "output_type": "stream",
     "text": [
      "No valid JSON found in content: ```json\n",
      "[]\n",
      "```\n"
     ]
    },
    {
     "name": "stderr",
     "output_type": "stream",
     "text": [
      "\n",
      "Processing mushroom.cs-tst.v1.jsonl:  13%|█▎        | 13/100 [01:04<05:25,  3.74s/entry]\u001B[A\n",
      "Processing mushroom.cs-tst.v1.jsonl:  14%|█▍        | 14/100 [01:07<05:09,  3.60s/entry]\u001B[A\n",
      "Processing mushroom.cs-tst.v1.jsonl:  15%|█▌        | 15/100 [01:11<05:20,  3.77s/entry]\u001B[A\n",
      "Processing mushroom.cs-tst.v1.jsonl:  16%|█▌        | 16/100 [01:42<16:32, 11.82s/entry]\u001B[A\n",
      "Processing mushroom.cs-tst.v1.jsonl:  17%|█▋        | 17/100 [01:46<13:20,  9.65s/entry]\u001B[A\n",
      "Processing mushroom.cs-tst.v1.jsonl:  18%|█▊        | 18/100 [01:50<10:43,  7.85s/entry]\u001B[A\n",
      "Processing mushroom.cs-tst.v1.jsonl:  19%|█▉        | 19/100 [01:53<08:42,  6.46s/entry]\u001B[A\n",
      "Processing mushroom.cs-tst.v1.jsonl:  20%|██        | 20/100 [01:58<07:46,  5.83s/entry]\u001B[A\n",
      "Processing mushroom.cs-tst.v1.jsonl:  21%|██        | 21/100 [02:00<06:21,  4.82s/entry]\u001B[A\n",
      "Processing mushroom.cs-tst.v1.jsonl:  22%|██▏       | 22/100 [02:05<06:07,  4.71s/entry]\u001B[A\n",
      "Processing mushroom.cs-tst.v1.jsonl:  23%|██▎       | 23/100 [02:08<05:25,  4.23s/entry]\u001B[A"
     ]
    },
    {
     "name": "stdout",
     "output_type": "stream",
     "text": [
      "No valid JSON found in content: ```json\n",
      "[]\n",
      "```\n"
     ]
    },
    {
     "name": "stderr",
     "output_type": "stream",
     "text": [
      "\n",
      "Processing mushroom.cs-tst.v1.jsonl:  24%|██▍       | 24/100 [02:14<06:03,  4.78s/entry]\u001B[A\n",
      "Processing mushroom.cs-tst.v1.jsonl:  25%|██▌       | 25/100 [02:20<06:40,  5.33s/entry]\u001B[A\n",
      "Processing mushroom.cs-tst.v1.jsonl:  26%|██▌       | 26/100 [02:28<07:30,  6.08s/entry]\u001B[A\n",
      "Processing mushroom.cs-tst.v1.jsonl:  27%|██▋       | 27/100 [02:43<10:26,  8.58s/entry]\u001B[A\n",
      "Processing mushroom.cs-tst.v1.jsonl:  28%|██▊       | 28/100 [02:47<08:47,  7.33s/entry]\u001B[A\n",
      "Processing mushroom.cs-tst.v1.jsonl:  29%|██▉       | 29/100 [02:53<08:05,  6.84s/entry]\u001B[A\n",
      "Processing mushroom.cs-tst.v1.jsonl:  30%|███       | 30/100 [03:14<12:57, 11.10s/entry]\u001B[A\n",
      "Processing mushroom.cs-tst.v1.jsonl:  31%|███       | 31/100 [03:17<10:00,  8.70s/entry]\u001B[A"
     ]
    },
    {
     "name": "stdout",
     "output_type": "stream",
     "text": [
      "No valid JSON found in content: ```json\n",
      "[]\n",
      "```\n"
     ]
    },
    {
     "name": "stderr",
     "output_type": "stream",
     "text": [
      "\n",
      "Processing mushroom.cs-tst.v1.jsonl:  32%|███▏      | 32/100 [03:24<09:23,  8.29s/entry]\u001B[A\n",
      "Processing mushroom.cs-tst.v1.jsonl:  33%|███▎      | 33/100 [03:29<08:07,  7.27s/entry]\u001B[A\n",
      "Processing mushroom.cs-tst.v1.jsonl:  34%|███▍      | 34/100 [03:33<07:00,  6.38s/entry]\u001B[A\n",
      "Processing mushroom.cs-tst.v1.jsonl:  35%|███▌      | 35/100 [03:43<08:02,  7.43s/entry]\u001B[A\n",
      "Processing mushroom.cs-tst.v1.jsonl:  36%|███▌      | 36/100 [03:46<06:34,  6.17s/entry]\u001B[A\n",
      "Processing mushroom.cs-tst.v1.jsonl:  37%|███▋      | 37/100 [03:49<05:21,  5.10s/entry]\u001B[A\n",
      "Processing mushroom.cs-tst.v1.jsonl:  38%|███▊      | 38/100 [03:54<05:14,  5.07s/entry]\u001B[A\n",
      "Processing mushroom.cs-tst.v1.jsonl:  39%|███▉      | 39/100 [03:59<05:00,  4.93s/entry]\u001B[A"
     ]
    },
    {
     "name": "stdout",
     "output_type": "stream",
     "text": [
      "No valid JSON found in content: ```json\n",
      "[]\n",
      "```\n"
     ]
    },
    {
     "name": "stderr",
     "output_type": "stream",
     "text": [
      "\n",
      "Processing mushroom.cs-tst.v1.jsonl:  40%|████      | 40/100 [04:06<05:38,  5.65s/entry]\u001B[A\n",
      "Processing mushroom.cs-tst.v1.jsonl:  41%|████      | 41/100 [04:10<05:05,  5.18s/entry]\u001B[A\n",
      "Processing mushroom.cs-tst.v1.jsonl:  42%|████▏     | 42/100 [04:17<05:32,  5.73s/entry]\u001B[A\n",
      "Processing mushroom.cs-tst.v1.jsonl:  43%|████▎     | 43/100 [04:22<05:12,  5.48s/entry]\u001B[A\n",
      "Processing mushroom.cs-tst.v1.jsonl:  44%|████▍     | 44/100 [04:25<04:28,  4.80s/entry]\u001B[A\n",
      "Processing mushroom.cs-tst.v1.jsonl:  45%|████▌     | 45/100 [04:27<03:39,  3.99s/entry]\u001B[A"
     ]
    },
    {
     "name": "stdout",
     "output_type": "stream",
     "text": [
      "No valid JSON found in content: ```json\n",
      "[]\n",
      "```\n"
     ]
    },
    {
     "name": "stderr",
     "output_type": "stream",
     "text": [
      "\n",
      "Processing mushroom.cs-tst.v1.jsonl:  46%|████▌     | 46/100 [04:33<04:09,  4.62s/entry]\u001B[A\n",
      "Processing mushroom.cs-tst.v1.jsonl:  47%|████▋     | 47/100 [04:37<03:43,  4.21s/entry]\u001B[A\n",
      "Processing mushroom.cs-tst.v1.jsonl:  48%|████▊     | 48/100 [04:41<03:47,  4.38s/entry]\u001B[A\n",
      "Processing mushroom.cs-tst.v1.jsonl:  49%|████▉     | 49/100 [04:51<04:56,  5.81s/entry]\u001B[A\n",
      "Processing mushroom.cs-tst.v1.jsonl:  50%|█████     | 50/100 [05:08<07:46,  9.33s/entry]\u001B[A\n",
      "Processing mushroom.cs-tst.v1.jsonl:  51%|█████     | 51/100 [05:19<07:53,  9.66s/entry]\u001B[A\n",
      "Processing mushroom.cs-tst.v1.jsonl:  52%|█████▏    | 52/100 [05:22<06:13,  7.78s/entry]\u001B[A\n",
      "Processing mushroom.cs-tst.v1.jsonl:  53%|█████▎    | 53/100 [05:29<05:50,  7.46s/entry]\u001B[A\n",
      "Processing mushroom.cs-tst.v1.jsonl:  54%|█████▍    | 54/100 [05:33<04:56,  6.44s/entry]\u001B[A\n",
      "Processing mushroom.cs-tst.v1.jsonl:  55%|█████▌    | 55/100 [05:37<04:14,  5.67s/entry]\u001B[A\n",
      "Processing mushroom.cs-tst.v1.jsonl:  56%|█████▌    | 56/100 [05:46<04:58,  6.77s/entry]\u001B[A\n",
      "Processing mushroom.cs-tst.v1.jsonl:  57%|█████▋    | 57/100 [05:49<04:07,  5.75s/entry]\u001B[A\n",
      "Processing mushroom.cs-tst.v1.jsonl:  58%|█████▊    | 58/100 [06:04<05:57,  8.50s/entry]\u001B[A\n",
      "Processing mushroom.cs-tst.v1.jsonl:  59%|█████▉    | 59/100 [06:12<05:44,  8.40s/entry]\u001B[A\n",
      "Processing mushroom.cs-tst.v1.jsonl:  60%|██████    | 60/100 [06:19<05:17,  7.93s/entry]\u001B[A\n",
      "Processing mushroom.cs-tst.v1.jsonl:  61%|██████    | 61/100 [06:24<04:31,  6.97s/entry]\u001B[A\n",
      "Processing mushroom.cs-tst.v1.jsonl:  62%|██████▏   | 62/100 [06:28<03:53,  6.14s/entry]\u001B[A\n",
      "Processing mushroom.cs-tst.v1.jsonl:  63%|██████▎   | 63/100 [06:33<03:31,  5.71s/entry]\u001B[A\n",
      "Processing mushroom.cs-tst.v1.jsonl:  64%|██████▍   | 64/100 [06:38<03:22,  5.63s/entry]\u001B[A\n",
      "Processing mushroom.cs-tst.v1.jsonl:  65%|██████▌   | 65/100 [06:41<02:45,  4.74s/entry]\u001B[A"
     ]
    },
    {
     "name": "stdout",
     "output_type": "stream",
     "text": [
      "No valid JSON found in content: ```json\n",
      "[]\n",
      "```\n"
     ]
    },
    {
     "name": "stderr",
     "output_type": "stream",
     "text": [
      "\n",
      "Processing mushroom.cs-tst.v1.jsonl:  66%|██████▌   | 66/100 [06:43<02:12,  3.90s/entry]\u001B[A"
     ]
    },
    {
     "name": "stdout",
     "output_type": "stream",
     "text": [
      "No valid JSON found in content: ```json\n",
      "[]\n",
      "```\n"
     ]
    },
    {
     "name": "stderr",
     "output_type": "stream",
     "text": [
      "\n",
      "Processing mushroom.cs-tst.v1.jsonl:  67%|██████▋   | 67/100 [06:45<01:51,  3.37s/entry]\u001B[A"
     ]
    },
    {
     "name": "stdout",
     "output_type": "stream",
     "text": [
      "No valid JSON found in content: ```json\n",
      "[]\n",
      "```\n"
     ]
    },
    {
     "name": "stderr",
     "output_type": "stream",
     "text": [
      "\n",
      "Processing mushroom.cs-tst.v1.jsonl:  68%|██████▊   | 68/100 [06:49<01:50,  3.47s/entry]\u001B[A\n",
      "Processing mushroom.cs-tst.v1.jsonl:  69%|██████▉   | 69/100 [06:53<01:58,  3.81s/entry]\u001B[A\n",
      "Processing mushroom.cs-tst.v1.jsonl:  70%|███████   | 70/100 [07:00<02:16,  4.54s/entry]\u001B[A\n",
      "Processing mushroom.cs-tst.v1.jsonl:  71%|███████   | 71/100 [07:05<02:18,  4.78s/entry]\u001B[A\n",
      "Processing mushroom.cs-tst.v1.jsonl:  72%|███████▏  | 72/100 [07:11<02:26,  5.25s/entry]\u001B[A\n",
      "Processing mushroom.cs-tst.v1.jsonl:  73%|███████▎  | 73/100 [07:18<02:30,  5.56s/entry]\u001B[A\n",
      "Processing mushroom.cs-tst.v1.jsonl:  74%|███████▍  | 74/100 [07:21<02:11,  5.05s/entry]\u001B[A\n",
      "Processing mushroom.cs-tst.v1.jsonl:  75%|███████▌  | 75/100 [07:24<01:51,  4.44s/entry]\u001B[A\n",
      "Processing mushroom.cs-tst.v1.jsonl:  76%|███████▌  | 76/100 [07:26<01:29,  3.72s/entry]\u001B[A"
     ]
    },
    {
     "name": "stdout",
     "output_type": "stream",
     "text": [
      "No valid JSON found in content: ```json\n",
      "[]\n",
      "```\n"
     ]
    },
    {
     "name": "stderr",
     "output_type": "stream",
     "text": [
      "\n",
      "Processing mushroom.cs-tst.v1.jsonl:  77%|███████▋  | 77/100 [07:31<01:32,  4.04s/entry]\u001B[A\n",
      "Processing mushroom.cs-tst.v1.jsonl:  78%|███████▊  | 78/100 [07:41<02:08,  5.83s/entry]\u001B[A\n",
      "Processing mushroom.cs-tst.v1.jsonl:  79%|███████▉  | 79/100 [07:44<01:41,  4.86s/entry]\u001B[A\n",
      "Processing mushroom.cs-tst.v1.jsonl:  80%|████████  | 80/100 [07:50<01:47,  5.38s/entry]\u001B[A\n",
      "Processing mushroom.cs-tst.v1.jsonl:  81%|████████  | 81/100 [07:58<01:54,  6.02s/entry]\u001B[A\n",
      "Processing mushroom.cs-tst.v1.jsonl:  82%|████████▏ | 82/100 [08:01<01:30,  5.01s/entry]\u001B[A\n",
      "Processing mushroom.cs-tst.v1.jsonl:  83%|████████▎ | 83/100 [08:11<01:51,  6.53s/entry]\u001B[A\n",
      "Processing mushroom.cs-tst.v1.jsonl:  84%|████████▍ | 84/100 [08:13<01:24,  5.30s/entry]\u001B[A"
     ]
    },
    {
     "name": "stdout",
     "output_type": "stream",
     "text": [
      "No valid JSON found in content: ```json\n",
      "[]\n",
      "```\n"
     ]
    },
    {
     "name": "stderr",
     "output_type": "stream",
     "text": [
      "\n",
      "Processing mushroom.cs-tst.v1.jsonl:  85%|████████▌ | 85/100 [08:18<01:16,  5.08s/entry]\u001B[A\n",
      "Processing mushroom.cs-tst.v1.jsonl:  86%|████████▌ | 86/100 [08:22<01:08,  4.93s/entry]\u001B[A"
     ]
    },
    {
     "name": "stdout",
     "output_type": "stream",
     "text": [
      "No valid JSON found in content: ```json\n",
      "[]\n",
      "```\n"
     ]
    },
    {
     "name": "stderr",
     "output_type": "stream",
     "text": [
      "\n",
      "Processing mushroom.cs-tst.v1.jsonl:  87%|████████▋ | 87/100 [08:29<01:10,  5.44s/entry]\u001B[A\n",
      "Processing mushroom.cs-tst.v1.jsonl:  88%|████████▊ | 88/100 [08:35<01:06,  5.53s/entry]\u001B[A\n",
      "Processing mushroom.cs-tst.v1.jsonl:  89%|████████▉ | 89/100 [08:36<00:48,  4.37s/entry]\u001B[A"
     ]
    },
    {
     "name": "stdout",
     "output_type": "stream",
     "text": [
      "No valid JSON found in content: ```json\n",
      "[]\n",
      "```\n"
     ]
    },
    {
     "name": "stderr",
     "output_type": "stream",
     "text": [
      "\n",
      "Processing mushroom.cs-tst.v1.jsonl:  90%|█████████ | 90/100 [08:41<00:44,  4.47s/entry]\u001B[A\n",
      "Processing mushroom.cs-tst.v1.jsonl:  91%|█████████ | 91/100 [08:47<00:43,  4.86s/entry]\u001B[A\n",
      "Processing mushroom.cs-tst.v1.jsonl:  92%|█████████▏| 92/100 [09:15<01:34, 11.83s/entry]\u001B[A\n",
      "Processing mushroom.cs-tst.v1.jsonl:  93%|█████████▎| 93/100 [09:18<01:03,  9.11s/entry]\u001B[A\n",
      "Processing mushroom.cs-tst.v1.jsonl:  94%|█████████▍| 94/100 [09:20<00:43,  7.18s/entry]\u001B[A\n",
      "Processing mushroom.cs-tst.v1.jsonl:  95%|█████████▌| 95/100 [09:23<00:28,  5.79s/entry]\u001B[A\n",
      "Processing mushroom.cs-tst.v1.jsonl:  96%|█████████▌| 96/100 [09:30<00:24,  6.14s/entry]\u001B[A"
     ]
    },
    {
     "name": "stdout",
     "output_type": "stream",
     "text": [
      "No valid JSON found in content: []\n"
     ]
    },
    {
     "name": "stderr",
     "output_type": "stream",
     "text": [
      "\n",
      "Processing mushroom.cs-tst.v1.jsonl:  97%|█████████▋| 97/100 [09:35<00:17,  5.91s/entry]\u001B[A\n",
      "Processing mushroom.cs-tst.v1.jsonl:  98%|█████████▊| 98/100 [09:40<00:11,  5.72s/entry]\u001B[A\n",
      "Processing mushroom.cs-tst.v1.jsonl:  99%|█████████▉| 99/100 [09:46<00:05,  5.59s/entry]\u001B[A\n",
      "Processing mushroom.cs-tst.v1.jsonl: 100%|██████████| 100/100 [09:51<00:00,  5.42s/entry]\u001B[A\n",
      "Processing Files:  21%|██▏       | 3/14 [27:53<1:41:19, 552.66s/file]                    \u001B[A"
     ]
    },
    {
     "name": "stdout",
     "output_type": "stream",
     "text": [
      "Processed and saved: ../data/test/detect_gpt4o_m2/mushroom.cs-tst.v1.jsonl\n"
     ]
    },
    {
     "name": "stderr",
     "output_type": "stream",
     "text": [
      "\n",
      "Processing mushroom.de-tst.v1.jsonl:   0%|          | 0/150 [00:00<?, ?entry/s]\u001B[A\n",
      "Processing mushroom.de-tst.v1.jsonl:   1%|          | 1/150 [00:07<18:26,  7.42s/entry]\u001B[A\n",
      "Processing mushroom.de-tst.v1.jsonl:   1%|▏         | 2/150 [00:14<17:36,  7.14s/entry]\u001B[A\n",
      "Processing mushroom.de-tst.v1.jsonl:   2%|▏         | 3/150 [00:16<12:22,  5.05s/entry]\u001B[A\n",
      "Processing mushroom.de-tst.v1.jsonl:   3%|▎         | 4/150 [00:25<16:06,  6.62s/entry]\u001B[A\n",
      "Processing mushroom.de-tst.v1.jsonl:   3%|▎         | 5/150 [00:28<12:29,  5.17s/entry]\u001B[A\n",
      "Processing mushroom.de-tst.v1.jsonl:   4%|▍         | 6/150 [00:31<10:14,  4.27s/entry]\u001B[A\n",
      "Processing mushroom.de-tst.v1.jsonl:   5%|▍         | 7/150 [00:34<09:41,  4.06s/entry]\u001B[A\n",
      "Processing mushroom.de-tst.v1.jsonl:   5%|▌         | 8/150 [00:36<07:50,  3.32s/entry]\u001B[A"
     ]
    },
    {
     "name": "stdout",
     "output_type": "stream",
     "text": [
      "Request failed: HTTPSConnectionPool(host='api.openai.com', port=443): Max retries exceeded with url: /v1/chat/completions (Caused by ProxyError('Unable to connect to proxy', ConnectionResetError(10054, '远程主机强迫关闭了一个现有的连接。', None, 10054, None)))\n"
     ]
    },
    {
     "name": "stderr",
     "output_type": "stream",
     "text": [
      "\n",
      "Processing mushroom.de-tst.v1.jsonl:   6%|▌         | 9/150 [00:38<06:50,  2.91s/entry]\u001B[A"
     ]
    },
    {
     "name": "stdout",
     "output_type": "stream",
     "text": [
      "Request failed: HTTPSConnectionPool(host='api.openai.com', port=443): Max retries exceeded with url: /v1/chat/completions (Caused by ProxyError('Unable to connect to proxy', NewConnectionError('<urllib3.connection.HTTPSConnection object at 0x0000019E21A4D880>: Failed to establish a new connection: [WinError 10061] 由于目标计算机积极拒绝，无法连接。')))\n"
     ]
    },
    {
     "name": "stderr",
     "output_type": "stream",
     "text": [
      "\n",
      "Processing mushroom.de-tst.v1.jsonl:   7%|▋         | 10/150 [00:43<08:39,  3.71s/entry]\u001B[A\n",
      "Processing mushroom.de-tst.v1.jsonl:   7%|▋         | 11/150 [00:47<08:39,  3.74s/entry]\u001B[A\n",
      "Processing mushroom.de-tst.v1.jsonl:   8%|▊         | 12/150 [00:51<08:18,  3.61s/entry]\u001B[A\n",
      "Processing mushroom.de-tst.v1.jsonl:   9%|▊         | 13/150 [00:56<09:31,  4.17s/entry]\u001B[A\n",
      "Processing mushroom.de-tst.v1.jsonl:   9%|▉         | 14/150 [01:00<09:26,  4.17s/entry]\u001B[A\n",
      "Processing mushroom.de-tst.v1.jsonl:  10%|█         | 15/150 [01:03<08:23,  3.73s/entry]\u001B[A\n",
      "Processing mushroom.de-tst.v1.jsonl:  11%|█         | 16/150 [01:11<11:11,  5.01s/entry]\u001B[A\n",
      "Processing mushroom.de-tst.v1.jsonl:  11%|█▏        | 17/150 [01:18<12:37,  5.70s/entry]\u001B[A\n",
      "Processing mushroom.de-tst.v1.jsonl:  12%|█▏        | 18/150 [01:21<10:55,  4.97s/entry]\u001B[A\n",
      "Processing mushroom.de-tst.v1.jsonl:  13%|█▎        | 19/150 [01:32<14:14,  6.52s/entry]\u001B[A\n",
      "Processing mushroom.de-tst.v1.jsonl:  13%|█▎        | 20/150 [01:35<11:52,  5.48s/entry]\u001B[A\n",
      "Processing mushroom.de-tst.v1.jsonl:  14%|█▍        | 21/150 [01:43<13:50,  6.44s/entry]\u001B[A\n",
      "Processing mushroom.de-tst.v1.jsonl:  15%|█▍        | 22/150 [01:47<12:08,  5.69s/entry]\u001B[A\n",
      "Processing mushroom.de-tst.v1.jsonl:  15%|█▌        | 23/150 [01:51<11:03,  5.22s/entry]\u001B[A\n",
      "Processing mushroom.de-tst.v1.jsonl:  16%|█▌        | 24/150 [01:55<10:03,  4.79s/entry]\u001B[A\n",
      "Processing mushroom.de-tst.v1.jsonl:  17%|█▋        | 25/150 [01:59<09:17,  4.46s/entry]\u001B[A\n",
      "Processing mushroom.de-tst.v1.jsonl:  17%|█▋        | 26/150 [02:02<08:11,  3.96s/entry]\u001B[A\n",
      "Processing mushroom.de-tst.v1.jsonl:  18%|█▊        | 27/150 [02:06<08:28,  4.13s/entry]\u001B[A\n",
      "Processing mushroom.de-tst.v1.jsonl:  19%|█▊        | 28/150 [02:10<07:59,  3.93s/entry]\u001B[A"
     ]
    },
    {
     "name": "stdout",
     "output_type": "stream",
     "text": [
      "Failed to parse JSON content: [\n",
      "    {\"word\": \"1.000\", \"prob\": 0.8\"}\n",
      "]. Error: Expecting ',' delimiter: line 2 column 34 (char 35)\n"
     ]
    },
    {
     "name": "stderr",
     "output_type": "stream",
     "text": [
      "\n",
      "Processing mushroom.de-tst.v1.jsonl:  19%|█▉        | 29/150 [02:14<08:18,  4.12s/entry]\u001B[A\n",
      "Processing mushroom.de-tst.v1.jsonl:  20%|██        | 30/150 [02:17<07:36,  3.81s/entry]\u001B[A\n",
      "Processing mushroom.de-tst.v1.jsonl:  21%|██        | 31/150 [02:21<07:32,  3.80s/entry]\u001B[A\n",
      "Processing mushroom.de-tst.v1.jsonl:  21%|██▏       | 32/150 [02:25<07:25,  3.78s/entry]\u001B[A"
     ]
    },
    {
     "name": "stdout",
     "output_type": "stream",
     "text": [
      "No valid JSON found in content: ```json\n",
      "[]\n",
      "```\n"
     ]
    },
    {
     "name": "stderr",
     "output_type": "stream",
     "text": [
      "\n",
      "Processing mushroom.de-tst.v1.jsonl:  22%|██▏       | 33/150 [02:27<06:35,  3.38s/entry]\u001B[A\n",
      "Processing mushroom.de-tst.v1.jsonl:  23%|██▎       | 34/150 [02:32<07:27,  3.86s/entry]\u001B[A\n",
      "Processing mushroom.de-tst.v1.jsonl:  23%|██▎       | 35/150 [02:38<08:40,  4.53s/entry]\u001B[A\n",
      "Processing mushroom.de-tst.v1.jsonl:  24%|██▍       | 36/150 [02:41<07:17,  3.83s/entry]\u001B[A\n",
      "Processing mushroom.de-tst.v1.jsonl:  25%|██▍       | 37/150 [02:47<08:57,  4.76s/entry]\u001B[A\n",
      "Processing mushroom.de-tst.v1.jsonl:  25%|██▌       | 38/150 [02:50<07:26,  3.98s/entry]\u001B[A\n",
      "Processing mushroom.de-tst.v1.jsonl:  26%|██▌       | 39/150 [02:53<06:50,  3.70s/entry]\u001B[A\n",
      "Processing mushroom.de-tst.v1.jsonl:  27%|██▋       | 40/150 [02:59<08:12,  4.47s/entry]\u001B[A\n",
      "Processing mushroom.de-tst.v1.jsonl:  27%|██▋       | 41/150 [03:17<15:25,  8.49s/entry]\u001B[A\n",
      "Processing mushroom.de-tst.v1.jsonl:  28%|██▊       | 42/150 [03:27<15:59,  8.88s/entry]\u001B[A\n",
      "Processing mushroom.de-tst.v1.jsonl:  29%|██▊       | 43/150 [03:31<13:15,  7.43s/entry]\u001B[A\n",
      "Processing mushroom.de-tst.v1.jsonl:  29%|██▉       | 44/150 [03:43<15:53,  8.99s/entry]\u001B[A\n",
      "Processing mushroom.de-tst.v1.jsonl:  30%|███       | 45/150 [03:48<13:33,  7.75s/entry]\u001B[A\n",
      "Processing mushroom.de-tst.v1.jsonl:  31%|███       | 46/150 [04:03<16:56,  9.78s/entry]\u001B[A\n",
      "Processing mushroom.de-tst.v1.jsonl:  31%|███▏      | 47/150 [04:06<13:39,  7.95s/entry]\u001B[A\n",
      "Processing mushroom.de-tst.v1.jsonl:  32%|███▏      | 48/150 [04:09<10:49,  6.37s/entry]\u001B[A\n",
      "Processing mushroom.de-tst.v1.jsonl:  33%|███▎      | 49/150 [04:15<10:26,  6.20s/entry]\u001B[A\n",
      "Processing mushroom.de-tst.v1.jsonl:  33%|███▎      | 50/150 [04:22<11:03,  6.63s/entry]\u001B[A\n",
      "Processing mushroom.de-tst.v1.jsonl:  34%|███▍      | 51/150 [04:27<10:03,  6.10s/entry]\u001B[A\n",
      "Processing mushroom.de-tst.v1.jsonl:  35%|███▍      | 52/150 [04:35<10:37,  6.50s/entry]\u001B[A\n",
      "Processing mushroom.de-tst.v1.jsonl:  35%|███▌      | 53/150 [04:37<08:19,  5.15s/entry]\u001B[A\n",
      "Processing mushroom.de-tst.v1.jsonl:  36%|███▌      | 54/150 [04:43<08:33,  5.34s/entry]\u001B[A\n",
      "Processing mushroom.de-tst.v1.jsonl:  37%|███▋      | 55/150 [04:47<08:09,  5.16s/entry]\u001B[A\n",
      "Processing mushroom.de-tst.v1.jsonl:  37%|███▋      | 56/150 [04:51<07:28,  4.77s/entry]\u001B[A\n",
      "Processing mushroom.de-tst.v1.jsonl:  38%|███▊      | 57/150 [04:55<06:59,  4.51s/entry]\u001B[A\n",
      "Processing mushroom.de-tst.v1.jsonl:  39%|███▊      | 58/150 [04:58<06:18,  4.11s/entry]\u001B[A\n",
      "Processing mushroom.de-tst.v1.jsonl:  39%|███▉      | 59/150 [05:08<08:56,  5.89s/entry]\u001B[A\n",
      "Processing mushroom.de-tst.v1.jsonl:  40%|████      | 60/150 [05:11<07:14,  4.83s/entry]\u001B[A\n",
      "Processing mushroom.de-tst.v1.jsonl:  41%|████      | 61/150 [05:13<05:59,  4.04s/entry]\u001B[A\n",
      "Processing mushroom.de-tst.v1.jsonl:  41%|████▏     | 62/150 [05:16<05:25,  3.70s/entry]\u001B[A\n",
      "Processing mushroom.de-tst.v1.jsonl:  42%|████▏     | 63/150 [05:20<05:39,  3.91s/entry]\u001B[A\n",
      "Processing mushroom.de-tst.v1.jsonl:  43%|████▎     | 64/150 [05:23<05:19,  3.72s/entry]\u001B[A\n",
      "Processing mushroom.de-tst.v1.jsonl:  43%|████▎     | 65/150 [05:37<09:19,  6.58s/entry]\u001B[A\n",
      "Processing mushroom.de-tst.v1.jsonl:  44%|████▍     | 66/150 [05:39<07:20,  5.25s/entry]\u001B[A"
     ]
    },
    {
     "name": "stdout",
     "output_type": "stream",
     "text": [
      "No valid JSON found in content: ```json\n",
      "[]\n",
      "```\n"
     ]
    },
    {
     "name": "stderr",
     "output_type": "stream",
     "text": [
      "\n",
      "Processing mushroom.de-tst.v1.jsonl:  45%|████▍     | 67/150 [05:41<06:09,  4.45s/entry]\u001B[A\n",
      "Processing mushroom.de-tst.v1.jsonl:  45%|████▌     | 68/150 [05:45<05:42,  4.18s/entry]\u001B[A\n",
      "Processing mushroom.de-tst.v1.jsonl:  46%|████▌     | 69/150 [05:50<06:04,  4.50s/entry]\u001B[A\n",
      "Processing mushroom.de-tst.v1.jsonl:  47%|████▋     | 70/150 [05:53<05:23,  4.05s/entry]\u001B[A\n",
      "Processing mushroom.de-tst.v1.jsonl:  47%|████▋     | 71/150 [05:55<04:33,  3.46s/entry]\u001B[A\n",
      "Processing mushroom.de-tst.v1.jsonl:  48%|████▊     | 72/150 [06:08<08:13,  6.33s/entry]\u001B[A\n",
      "Processing mushroom.de-tst.v1.jsonl:  49%|████▊     | 73/150 [06:12<07:09,  5.57s/entry]\u001B[A\n",
      "Processing mushroom.de-tst.v1.jsonl:  49%|████▉     | 74/150 [06:15<06:03,  4.78s/entry]\u001B[A\n",
      "Processing mushroom.de-tst.v1.jsonl:  50%|█████     | 75/150 [06:19<05:31,  4.42s/entry]\u001B[A\n",
      "Processing mushroom.de-tst.v1.jsonl:  51%|█████     | 76/150 [06:21<04:37,  3.75s/entry]\u001B[A\n",
      "Processing mushroom.de-tst.v1.jsonl:  51%|█████▏    | 77/150 [06:24<04:14,  3.48s/entry]\u001B[A\n",
      "Processing mushroom.de-tst.v1.jsonl:  52%|█████▏    | 78/150 [06:27<03:57,  3.29s/entry]\u001B[A\n",
      "Processing mushroom.de-tst.v1.jsonl:  53%|█████▎    | 79/150 [06:30<04:04,  3.44s/entry]\u001B[A\n",
      "Processing mushroom.de-tst.v1.jsonl:  53%|█████▎    | 80/150 [06:33<03:50,  3.30s/entry]\u001B[A\n",
      "Processing mushroom.de-tst.v1.jsonl:  54%|█████▍    | 81/150 [06:36<03:37,  3.15s/entry]\u001B[A\n",
      "Processing mushroom.de-tst.v1.jsonl:  55%|█████▍    | 82/150 [06:44<05:14,  4.63s/entry]\u001B[A\n",
      "Processing mushroom.de-tst.v1.jsonl:  55%|█████▌    | 83/150 [06:46<04:24,  3.94s/entry]\u001B[A\n",
      "Processing mushroom.de-tst.v1.jsonl:  56%|█████▌    | 84/150 [06:50<04:13,  3.85s/entry]\u001B[A\n",
      "Processing mushroom.de-tst.v1.jsonl:  57%|█████▋    | 85/150 [06:54<04:14,  3.91s/entry]\u001B[A\n",
      "Processing mushroom.de-tst.v1.jsonl:  57%|█████▋    | 86/150 [06:59<04:20,  4.07s/entry]\u001B[A\n",
      "Processing mushroom.de-tst.v1.jsonl:  58%|█████▊    | 87/150 [07:01<03:45,  3.58s/entry]\u001B[A\n",
      "Processing mushroom.de-tst.v1.jsonl:  59%|█████▊    | 88/150 [07:04<03:25,  3.32s/entry]\u001B[A\n",
      "Processing mushroom.de-tst.v1.jsonl:  59%|█████▉    | 89/150 [07:08<03:40,  3.62s/entry]\u001B[A\n",
      "Processing mushroom.de-tst.v1.jsonl:  60%|██████    | 90/150 [07:13<03:54,  3.90s/entry]\u001B[A\n",
      "Processing mushroom.de-tst.v1.jsonl:  61%|██████    | 91/150 [07:15<03:17,  3.34s/entry]\u001B[A\n",
      "Processing mushroom.de-tst.v1.jsonl:  61%|██████▏   | 92/150 [07:17<02:51,  2.96s/entry]\u001B[A\n",
      "Processing mushroom.de-tst.v1.jsonl:  62%|██████▏   | 93/150 [07:23<03:53,  4.09s/entry]\u001B[A\n",
      "Processing mushroom.de-tst.v1.jsonl:  63%|██████▎   | 94/150 [07:27<03:43,  4.00s/entry]\u001B[A\n",
      "Processing mushroom.de-tst.v1.jsonl:  63%|██████▎   | 95/150 [07:30<03:14,  3.53s/entry]\u001B[A\n",
      "Processing mushroom.de-tst.v1.jsonl:  64%|██████▍   | 96/150 [07:34<03:21,  3.73s/entry]\u001B[A\n",
      "Processing mushroom.de-tst.v1.jsonl:  65%|██████▍   | 97/150 [07:37<03:12,  3.63s/entry]\u001B[A\n",
      "Processing mushroom.de-tst.v1.jsonl:  65%|██████▌   | 98/150 [07:41<03:06,  3.59s/entry]\u001B[A\n",
      "Processing mushroom.de-tst.v1.jsonl:  66%|██████▌   | 99/150 [07:42<02:33,  3.00s/entry]\u001B[A"
     ]
    },
    {
     "name": "stdout",
     "output_type": "stream",
     "text": [
      "No valid JSON found in content: ```json\n",
      "[]\n",
      "```\n"
     ]
    },
    {
     "name": "stderr",
     "output_type": "stream",
     "text": [
      "\n",
      "Processing mushroom.de-tst.v1.jsonl:  67%|██████▋   | 100/150 [07:47<02:58,  3.57s/entry]\u001B[A\n",
      "Processing mushroom.de-tst.v1.jsonl:  67%|██████▋   | 101/150 [07:52<03:17,  4.02s/entry]\u001B[A\n",
      "Processing mushroom.de-tst.v1.jsonl:  68%|██████▊   | 102/150 [07:58<03:39,  4.58s/entry]\u001B[A\n",
      "Processing mushroom.de-tst.v1.jsonl:  69%|██████▊   | 103/150 [08:00<02:59,  3.82s/entry]\u001B[A\n",
      "Processing mushroom.de-tst.v1.jsonl:  69%|██████▉   | 104/150 [08:04<02:49,  3.68s/entry]\u001B[A\n",
      "Processing mushroom.de-tst.v1.jsonl:  70%|███████   | 105/150 [08:08<02:49,  3.76s/entry]\u001B[A\n",
      "Processing mushroom.de-tst.v1.jsonl:  71%|███████   | 106/150 [08:16<03:52,  5.27s/entry]\u001B[A\n",
      "Processing mushroom.de-tst.v1.jsonl:  71%|███████▏  | 107/150 [08:20<03:23,  4.74s/entry]\u001B[A\n",
      "Processing mushroom.de-tst.v1.jsonl:  72%|███████▏  | 108/150 [08:33<05:02,  7.20s/entry]\u001B[A\n",
      "Processing mushroom.de-tst.v1.jsonl:  73%|███████▎  | 109/150 [08:36<04:02,  5.91s/entry]\u001B[A\n",
      "Processing mushroom.de-tst.v1.jsonl:  73%|███████▎  | 110/150 [08:40<03:36,  5.40s/entry]\u001B[A\n",
      "Processing mushroom.de-tst.v1.jsonl:  74%|███████▍  | 111/150 [08:43<03:08,  4.83s/entry]\u001B[A\n",
      "Processing mushroom.de-tst.v1.jsonl:  75%|███████▍  | 112/150 [08:49<03:09,  4.98s/entry]\u001B[A\n",
      "Processing mushroom.de-tst.v1.jsonl:  75%|███████▌  | 113/150 [08:53<02:51,  4.63s/entry]\u001B[A\n",
      "Processing mushroom.de-tst.v1.jsonl:  76%|███████▌  | 114/150 [08:57<02:42,  4.50s/entry]\u001B[A\n",
      "Processing mushroom.de-tst.v1.jsonl:  77%|███████▋  | 115/150 [09:00<02:20,  4.00s/entry]\u001B[A\n",
      "Processing mushroom.de-tst.v1.jsonl:  77%|███████▋  | 116/150 [09:13<03:50,  6.78s/entry]\u001B[A\n",
      "Processing mushroom.de-tst.v1.jsonl:  78%|███████▊  | 117/150 [09:20<03:48,  6.91s/entry]\u001B[A\n",
      "Processing mushroom.de-tst.v1.jsonl:  79%|███████▊  | 118/150 [09:27<03:45,  7.04s/entry]\u001B[A\n",
      "Processing mushroom.de-tst.v1.jsonl:  79%|███████▉  | 119/150 [09:32<03:10,  6.15s/entry]\u001B[A\n",
      "Processing mushroom.de-tst.v1.jsonl:  80%|████████  | 120/150 [09:34<02:33,  5.11s/entry]\u001B[A\n",
      "Processing mushroom.de-tst.v1.jsonl:  81%|████████  | 121/150 [09:37<02:11,  4.53s/entry]\u001B[A\n",
      "Processing mushroom.de-tst.v1.jsonl:  81%|████████▏ | 122/150 [09:40<01:54,  4.09s/entry]\u001B[A\n",
      "Processing mushroom.de-tst.v1.jsonl:  82%|████████▏ | 123/150 [09:47<02:10,  4.82s/entry]\u001B[A\n",
      "Processing mushroom.de-tst.v1.jsonl:  83%|████████▎ | 124/150 [09:51<02:01,  4.67s/entry]\u001B[A\n",
      "Processing mushroom.de-tst.v1.jsonl:  83%|████████▎ | 125/150 [09:55<01:50,  4.42s/entry]\u001B[A\n",
      "Processing mushroom.de-tst.v1.jsonl:  84%|████████▍ | 126/150 [10:00<01:48,  4.52s/entry]\u001B[A\n",
      "Processing mushroom.de-tst.v1.jsonl:  85%|████████▍ | 127/150 [10:02<01:29,  3.88s/entry]\u001B[A\n",
      "Processing mushroom.de-tst.v1.jsonl:  85%|████████▌ | 128/150 [10:06<01:27,  3.99s/entry]\u001B[A\n",
      "Processing mushroom.de-tst.v1.jsonl:  86%|████████▌ | 129/150 [10:11<01:24,  4.04s/entry]\u001B[A\n",
      "Processing mushroom.de-tst.v1.jsonl:  87%|████████▋ | 130/150 [10:13<01:10,  3.52s/entry]\u001B[A\n",
      "Processing mushroom.de-tst.v1.jsonl:  87%|████████▋ | 131/150 [10:15<01:01,  3.21s/entry]\u001B[A\n",
      "Processing mushroom.de-tst.v1.jsonl:  88%|████████▊ | 132/150 [10:21<01:08,  3.80s/entry]\u001B[A\n",
      "Processing mushroom.de-tst.v1.jsonl:  89%|████████▊ | 133/150 [10:26<01:10,  4.17s/entry]\u001B[A\n",
      "Processing mushroom.de-tst.v1.jsonl:  89%|████████▉ | 134/150 [10:29<01:04,  4.02s/entry]\u001B[A\n",
      "Processing mushroom.de-tst.v1.jsonl:  90%|█████████ | 135/150 [10:35<01:06,  4.45s/entry]\u001B[A\n",
      "Processing mushroom.de-tst.v1.jsonl:  91%|█████████ | 136/150 [10:39<01:02,  4.48s/entry]\u001B[A\n",
      "Processing mushroom.de-tst.v1.jsonl:  91%|█████████▏| 137/150 [10:43<00:53,  4.13s/entry]\u001B[A\n",
      "Processing mushroom.de-tst.v1.jsonl:  92%|█████████▏| 138/150 [10:46<00:45,  3.75s/entry]\u001B[A\n",
      "Processing mushroom.de-tst.v1.jsonl:  93%|█████████▎| 139/150 [10:50<00:42,  3.87s/entry]\u001B[A\n",
      "Processing mushroom.de-tst.v1.jsonl:  93%|█████████▎| 140/150 [10:53<00:36,  3.69s/entry]\u001B[A\n",
      "Processing mushroom.de-tst.v1.jsonl:  94%|█████████▍| 141/150 [10:57<00:33,  3.76s/entry]\u001B[A\n",
      "Processing mushroom.de-tst.v1.jsonl:  95%|█████████▍| 142/150 [11:02<00:32,  4.02s/entry]\u001B[A\n",
      "Processing mushroom.de-tst.v1.jsonl:  95%|█████████▌| 143/150 [11:05<00:26,  3.75s/entry]\u001B[A\n",
      "Processing mushroom.de-tst.v1.jsonl:  96%|█████████▌| 144/150 [11:13<00:30,  5.04s/entry]\u001B[A\n",
      "Processing mushroom.de-tst.v1.jsonl:  97%|█████████▋| 145/150 [11:17<00:23,  4.69s/entry]\u001B[A\n",
      "Processing mushroom.de-tst.v1.jsonl:  97%|█████████▋| 146/150 [11:20<00:16,  4.23s/entry]\u001B[A\n",
      "Processing mushroom.de-tst.v1.jsonl:  98%|█████████▊| 147/150 [11:23<00:12,  4.05s/entry]\u001B[A\n",
      "Processing mushroom.de-tst.v1.jsonl:  99%|█████████▊| 148/150 [11:27<00:07,  3.83s/entry]\u001B[A\n",
      "Processing mushroom.de-tst.v1.jsonl:  99%|█████████▉| 149/150 [11:32<00:04,  4.18s/entry]\u001B[A\n",
      "Processing mushroom.de-tst.v1.jsonl: 100%|██████████| 150/150 [11:38<00:00,  4.98s/entry]\u001B[A\n",
      "Processing Files:  29%|██▊       | 4/14 [39:32<1:41:44, 610.44s/file]                    \u001B[A"
     ]
    },
    {
     "name": "stdout",
     "output_type": "stream",
     "text": [
      "Processed and saved: ../data/test/detect_gpt4o_m2/mushroom.de-tst.v1.jsonl\n"
     ]
    },
    {
     "name": "stderr",
     "output_type": "stream",
     "text": [
      "\n",
      "Processing mushroom.en-tst.v1.jsonl:   0%|          | 0/154 [00:00<?, ?entry/s]\u001B[A\n",
      "Processing mushroom.en-tst.v1.jsonl:   1%|          | 1/154 [00:03<09:50,  3.86s/entry]\u001B[A\n",
      "Processing mushroom.en-tst.v1.jsonl:   1%|▏         | 2/154 [00:07<09:21,  3.69s/entry]\u001B[A\n",
      "Processing mushroom.en-tst.v1.jsonl:   2%|▏         | 3/154 [00:11<09:11,  3.65s/entry]\u001B[A\n",
      "Processing mushroom.en-tst.v1.jsonl:   3%|▎         | 4/154 [00:13<08:22,  3.35s/entry]\u001B[A\n",
      "Processing mushroom.en-tst.v1.jsonl:   3%|▎         | 5/154 [00:18<09:03,  3.64s/entry]\u001B[A\n",
      "Processing mushroom.en-tst.v1.jsonl:   4%|▍         | 6/154 [00:22<09:24,  3.82s/entry]\u001B[A\n",
      "Processing mushroom.en-tst.v1.jsonl:   5%|▍         | 7/154 [00:25<09:14,  3.78s/entry]\u001B[A\n",
      "Processing mushroom.en-tst.v1.jsonl:   5%|▌         | 8/154 [00:30<09:37,  3.95s/entry]\u001B[A"
     ]
    },
    {
     "name": "stdout",
     "output_type": "stream",
     "text": [
      "Failed to parse JSON content: [\n",
      "    {\"word\": \"2000\", \"prob\": 0.9\"},\n",
      "    {\"word\": \"Sydney\", \"prob\": 0.8},\n",
      "    {\"word\": \"Australia\", \"prob\": 0.8}\n",
      "]. Error: Expecting ',' delimiter: line 2 column 33 (char 34)\n"
     ]
    },
    {
     "name": "stderr",
     "output_type": "stream",
     "text": [
      "\n",
      "Processing mushroom.en-tst.v1.jsonl:   6%|▌         | 9/154 [00:32<08:18,  3.44s/entry]\u001B[A\n",
      "Processing mushroom.en-tst.v1.jsonl:   6%|▋         | 10/154 [00:35<07:32,  3.14s/entry]\u001B[A\n",
      "Processing mushroom.en-tst.v1.jsonl:   7%|▋         | 11/154 [00:41<09:36,  4.03s/entry]\u001B[A\n",
      "Processing mushroom.en-tst.v1.jsonl:   8%|▊         | 12/154 [00:44<08:59,  3.80s/entry]\u001B[A\n",
      "Processing mushroom.en-tst.v1.jsonl:   8%|▊         | 13/154 [00:47<08:47,  3.74s/entry]\u001B[A\n",
      "Processing mushroom.en-tst.v1.jsonl:   9%|▉         | 14/154 [00:58<13:35,  5.83s/entry]\u001B[A\n",
      "Processing mushroom.en-tst.v1.jsonl:  10%|▉         | 15/154 [01:05<14:00,  6.05s/entry]\u001B[A\n",
      "Processing mushroom.en-tst.v1.jsonl:  10%|█         | 16/154 [01:08<11:57,  5.20s/entry]\u001B[A\n",
      "Processing mushroom.en-tst.v1.jsonl:  11%|█         | 17/154 [01:12<10:46,  4.72s/entry]\u001B[A\n",
      "Processing mushroom.en-tst.v1.jsonl:  12%|█▏        | 18/154 [01:15<09:53,  4.36s/entry]\u001B[A\n",
      "Processing mushroom.en-tst.v1.jsonl:  12%|█▏        | 19/154 [01:18<08:42,  3.87s/entry]\u001B[A"
     ]
    },
    {
     "name": "stdout",
     "output_type": "stream",
     "text": [
      "No valid JSON found in content: ```json\n",
      "[]\n",
      "```\n"
     ]
    },
    {
     "name": "stderr",
     "output_type": "stream",
     "text": [
      "\n",
      "Processing mushroom.en-tst.v1.jsonl:  13%|█▎        | 20/154 [01:20<07:40,  3.44s/entry]\u001B[A\n",
      "Processing mushroom.en-tst.v1.jsonl:  14%|█▎        | 21/154 [01:27<10:00,  4.51s/entry]\u001B[A\n",
      "Processing mushroom.en-tst.v1.jsonl:  14%|█▍        | 22/154 [01:31<09:28,  4.31s/entry]\u001B[A\n",
      "Processing mushroom.en-tst.v1.jsonl:  15%|█▍        | 23/154 [01:33<08:10,  3.75s/entry]\u001B[A\n",
      "Processing mushroom.en-tst.v1.jsonl:  16%|█▌        | 24/154 [01:37<07:41,  3.55s/entry]\u001B[A\n",
      "Processing mushroom.en-tst.v1.jsonl:  16%|█▌        | 25/154 [01:40<07:31,  3.50s/entry]\u001B[A\n",
      "Processing mushroom.en-tst.v1.jsonl:  17%|█▋        | 26/154 [01:44<07:40,  3.60s/entry]\u001B[A\n",
      "Processing mushroom.en-tst.v1.jsonl:  18%|█▊        | 27/154 [01:49<08:41,  4.10s/entry]\u001B[A\n",
      "Processing mushroom.en-tst.v1.jsonl:  18%|█▊        | 28/154 [01:51<07:32,  3.59s/entry]\u001B[A\n",
      "Processing mushroom.en-tst.v1.jsonl:  19%|█▉        | 29/154 [01:55<07:31,  3.61s/entry]\u001B[A\n",
      "Processing mushroom.en-tst.v1.jsonl:  19%|█▉        | 30/154 [01:59<07:30,  3.64s/entry]\u001B[A\n",
      "Processing mushroom.en-tst.v1.jsonl:  20%|██        | 31/154 [02:02<07:18,  3.57s/entry]\u001B[A\n",
      "Processing mushroom.en-tst.v1.jsonl:  21%|██        | 32/154 [02:05<06:40,  3.28s/entry]\u001B[A\n",
      "Processing mushroom.en-tst.v1.jsonl:  21%|██▏       | 33/154 [02:09<07:20,  3.64s/entry]\u001B[A\n",
      "Processing mushroom.en-tst.v1.jsonl:  22%|██▏       | 34/154 [02:12<06:30,  3.25s/entry]\u001B[A\n",
      "Processing mushroom.en-tst.v1.jsonl:  23%|██▎       | 35/154 [02:14<06:08,  3.10s/entry]\u001B[A\n",
      "Processing mushroom.en-tst.v1.jsonl:  23%|██▎       | 36/154 [02:17<05:37,  2.86s/entry]\u001B[A"
     ]
    },
    {
     "name": "stdout",
     "output_type": "stream",
     "text": [
      "No valid JSON found in content: ```json\n",
      "[]\n",
      "```\n"
     ]
    },
    {
     "name": "stderr",
     "output_type": "stream",
     "text": [
      "\n",
      "Processing mushroom.en-tst.v1.jsonl:  24%|██▍       | 37/154 [02:19<05:27,  2.80s/entry]\u001B[A\n",
      "Processing mushroom.en-tst.v1.jsonl:  25%|██▍       | 38/154 [02:22<05:32,  2.87s/entry]\u001B[A\n",
      "Processing mushroom.en-tst.v1.jsonl:  25%|██▌       | 39/154 [02:26<05:41,  2.97s/entry]\u001B[A\n",
      "Processing mushroom.en-tst.v1.jsonl:  26%|██▌       | 40/154 [02:29<05:51,  3.09s/entry]\u001B[A\n",
      "Processing mushroom.en-tst.v1.jsonl:  27%|██▋       | 41/154 [02:32<05:44,  3.05s/entry]\u001B[A\n",
      "Processing mushroom.en-tst.v1.jsonl:  27%|██▋       | 42/154 [02:38<07:21,  3.94s/entry]\u001B[A\n",
      "Processing mushroom.en-tst.v1.jsonl:  28%|██▊       | 43/154 [02:41<06:38,  3.59s/entry]\u001B[A\n",
      "Processing mushroom.en-tst.v1.jsonl:  29%|██▊       | 44/154 [02:44<06:26,  3.51s/entry]\u001B[A\n",
      "Processing mushroom.en-tst.v1.jsonl:  29%|██▉       | 45/154 [02:52<08:47,  4.84s/entry]\u001B[A\n",
      "Processing mushroom.en-tst.v1.jsonl:  30%|██▉       | 46/154 [02:56<08:03,  4.47s/entry]\u001B[A\n",
      "Processing mushroom.en-tst.v1.jsonl:  31%|███       | 47/154 [03:00<07:43,  4.34s/entry]\u001B[A\n",
      "Processing mushroom.en-tst.v1.jsonl:  31%|███       | 48/154 [03:03<07:22,  4.18s/entry]\u001B[A\n",
      "Processing mushroom.en-tst.v1.jsonl:  32%|███▏      | 49/154 [03:09<08:14,  4.71s/entry]\u001B[A\n",
      "Processing mushroom.en-tst.v1.jsonl:  32%|███▏      | 50/154 [03:18<10:24,  6.00s/entry]\u001B[A\n",
      "Processing mushroom.en-tst.v1.jsonl:  33%|███▎      | 51/154 [03:22<09:04,  5.29s/entry]\u001B[A\n",
      "Processing mushroom.en-tst.v1.jsonl:  34%|███▍      | 52/154 [03:27<08:35,  5.05s/entry]\u001B[A\n",
      "Processing mushroom.en-tst.v1.jsonl:  34%|███▍      | 53/154 [03:33<08:59,  5.34s/entry]\u001B[A\n",
      "Processing mushroom.en-tst.v1.jsonl:  35%|███▌      | 54/154 [03:39<09:38,  5.79s/entry]\u001B[A\n",
      "Processing mushroom.en-tst.v1.jsonl:  36%|███▌      | 55/154 [03:47<10:35,  6.42s/entry]\u001B[A\n",
      "Processing mushroom.en-tst.v1.jsonl:  36%|███▋      | 56/154 [03:51<09:23,  5.75s/entry]\u001B[A\n",
      "Processing mushroom.en-tst.v1.jsonl:  37%|███▋      | 57/154 [03:56<08:31,  5.28s/entry]\u001B[A\n",
      "Processing mushroom.en-tst.v1.jsonl:  38%|███▊      | 58/154 [04:01<08:39,  5.41s/entry]\u001B[A\n",
      "Processing mushroom.en-tst.v1.jsonl:  38%|███▊      | 59/154 [04:07<08:33,  5.41s/entry]\u001B[A\n",
      "Processing mushroom.en-tst.v1.jsonl:  39%|███▉      | 60/154 [04:10<07:29,  4.79s/entry]\u001B[A\n",
      "Processing mushroom.en-tst.v1.jsonl:  40%|███▉      | 61/154 [04:14<06:48,  4.39s/entry]\u001B[A\n",
      "Processing mushroom.en-tst.v1.jsonl:  40%|████      | 62/154 [04:20<07:28,  4.87s/entry]\u001B[A\n",
      "Processing mushroom.en-tst.v1.jsonl:  41%|████      | 63/154 [04:24<07:24,  4.88s/entry]\u001B[A\n",
      "Processing mushroom.en-tst.v1.jsonl:  42%|████▏     | 64/154 [04:29<07:09,  4.77s/entry]\u001B[A\n",
      "Processing mushroom.en-tst.v1.jsonl:  42%|████▏     | 65/154 [04:34<07:18,  4.92s/entry]\u001B[A\n",
      "Processing mushroom.en-tst.v1.jsonl:  43%|████▎     | 66/154 [04:38<06:45,  4.61s/entry]\u001B[A\n",
      "Processing mushroom.en-tst.v1.jsonl:  44%|████▎     | 67/154 [04:43<06:54,  4.76s/entry]\u001B[A\n",
      "Processing mushroom.en-tst.v1.jsonl:  44%|████▍     | 68/154 [04:50<07:29,  5.22s/entry]\u001B[A\n",
      "Processing mushroom.en-tst.v1.jsonl:  45%|████▍     | 69/154 [04:52<06:17,  4.44s/entry]\u001B[A\n",
      "Processing mushroom.en-tst.v1.jsonl:  45%|████▌     | 70/154 [04:59<07:17,  5.21s/entry]\u001B[A\n",
      "Processing mushroom.en-tst.v1.jsonl:  46%|████▌     | 71/154 [05:03<06:41,  4.84s/entry]\u001B[A\n",
      "Processing mushroom.en-tst.v1.jsonl:  47%|████▋     | 72/154 [05:08<06:36,  4.84s/entry]\u001B[A\n",
      "Processing mushroom.en-tst.v1.jsonl:  47%|████▋     | 73/154 [05:11<05:43,  4.24s/entry]\u001B[A\n",
      "Processing mushroom.en-tst.v1.jsonl:  48%|████▊     | 74/154 [05:16<06:01,  4.52s/entry]\u001B[A\n",
      "Processing mushroom.en-tst.v1.jsonl:  49%|████▊     | 75/154 [05:24<07:26,  5.66s/entry]\u001B[A\n",
      "Processing mushroom.en-tst.v1.jsonl:  49%|████▉     | 76/154 [05:28<06:41,  5.14s/entry]\u001B[A\n",
      "Processing mushroom.en-tst.v1.jsonl:  50%|█████     | 77/154 [05:32<06:13,  4.85s/entry]\u001B[A\n",
      "Processing mushroom.en-tst.v1.jsonl:  51%|█████     | 78/154 [05:37<06:03,  4.78s/entry]\u001B[A\n",
      "Processing mushroom.en-tst.v1.jsonl:  51%|█████▏    | 79/154 [05:43<06:27,  5.16s/entry]\u001B[A\n",
      "Processing mushroom.en-tst.v1.jsonl:  52%|█████▏    | 80/154 [05:47<06:04,  4.92s/entry]\u001B[A\n",
      "Processing mushroom.en-tst.v1.jsonl:  53%|█████▎    | 81/154 [05:52<05:41,  4.67s/entry]\u001B[A\n",
      "Processing mushroom.en-tst.v1.jsonl:  53%|█████▎    | 82/154 [05:54<04:40,  3.89s/entry]\u001B[A\n",
      "Processing mushroom.en-tst.v1.jsonl:  54%|█████▍    | 83/154 [05:58<04:45,  4.02s/entry]\u001B[A\n",
      "Processing mushroom.en-tst.v1.jsonl:  55%|█████▍    | 84/154 [06:03<05:06,  4.37s/entry]\u001B[A\n",
      "Processing mushroom.en-tst.v1.jsonl:  55%|█████▌    | 85/154 [06:07<04:42,  4.09s/entry]\u001B[A\n",
      "Processing mushroom.en-tst.v1.jsonl:  56%|█████▌    | 86/154 [06:09<04:07,  3.64s/entry]\u001B[A\n",
      "Processing mushroom.en-tst.v1.jsonl:  56%|█████▋    | 87/154 [06:15<04:49,  4.32s/entry]\u001B[A\n",
      "Processing mushroom.en-tst.v1.jsonl:  57%|█████▋    | 88/154 [06:20<04:52,  4.44s/entry]\u001B[A\n",
      "Processing mushroom.en-tst.v1.jsonl:  58%|█████▊    | 89/154 [06:24<04:51,  4.48s/entry]\u001B[A\n",
      "Processing mushroom.en-tst.v1.jsonl:  58%|█████▊    | 90/154 [06:31<05:35,  5.25s/entry]\u001B[A\n",
      "Processing mushroom.en-tst.v1.jsonl:  59%|█████▉    | 91/154 [06:34<04:41,  4.47s/entry]\u001B[A\n",
      "Processing mushroom.en-tst.v1.jsonl:  60%|█████▉    | 92/154 [06:38<04:24,  4.26s/entry]\u001B[A\n",
      "Processing mushroom.en-tst.v1.jsonl:  60%|██████    | 93/154 [06:42<04:17,  4.22s/entry]\u001B[A\n",
      "Processing mushroom.en-tst.v1.jsonl:  61%|██████    | 94/154 [06:51<05:43,  5.72s/entry]\u001B[A\n",
      "Processing mushroom.en-tst.v1.jsonl:  62%|██████▏   | 95/154 [06:58<05:52,  5.97s/entry]\u001B[A\n",
      "Processing mushroom.en-tst.v1.jsonl:  62%|██████▏   | 96/154 [07:02<05:15,  5.44s/entry]\u001B[A\n",
      "Processing mushroom.en-tst.v1.jsonl:  63%|██████▎   | 97/154 [07:18<08:14,  8.68s/entry]\u001B[A\n",
      "Processing mushroom.en-tst.v1.jsonl:  64%|██████▎   | 98/154 [07:22<06:47,  7.27s/entry]\u001B[A\n",
      "Processing mushroom.en-tst.v1.jsonl:  64%|██████▍   | 99/154 [07:26<05:42,  6.23s/entry]\u001B[A\n",
      "Processing mushroom.en-tst.v1.jsonl:  65%|██████▍   | 100/154 [07:34<06:10,  6.85s/entry]\u001B[A\n",
      "Processing mushroom.en-tst.v1.jsonl:  66%|██████▌   | 101/154 [07:38<05:08,  5.82s/entry]\u001B[A"
     ]
    },
    {
     "name": "stdout",
     "output_type": "stream",
     "text": [
      "No valid JSON found in content: ```json\n",
      "[]\n",
      "```\n"
     ]
    },
    {
     "name": "stderr",
     "output_type": "stream",
     "text": [
      "\n",
      "Processing mushroom.en-tst.v1.jsonl:  66%|██████▌   | 102/154 [07:44<05:06,  5.90s/entry]\u001B[A\n",
      "Processing mushroom.en-tst.v1.jsonl:  67%|██████▋   | 103/154 [07:47<04:13,  4.97s/entry]\u001B[A\n",
      "Processing mushroom.en-tst.v1.jsonl:  68%|██████▊   | 104/154 [07:51<03:54,  4.69s/entry]\u001B[A\n",
      "Processing mushroom.en-tst.v1.jsonl:  68%|██████▊   | 105/154 [07:56<03:53,  4.77s/entry]\u001B[A\n",
      "Processing mushroom.en-tst.v1.jsonl:  69%|██████▉   | 106/154 [07:59<03:26,  4.31s/entry]\u001B[A\n",
      "Processing mushroom.en-tst.v1.jsonl:  69%|██████▉   | 107/154 [08:02<03:10,  4.06s/entry]\u001B[A\n",
      "Processing mushroom.en-tst.v1.jsonl:  70%|███████   | 108/154 [08:06<03:02,  3.97s/entry]\u001B[A\n",
      "Processing mushroom.en-tst.v1.jsonl:  71%|███████   | 109/154 [08:09<02:45,  3.67s/entry]\u001B[A\n",
      "Processing mushroom.en-tst.v1.jsonl:  71%|███████▏  | 110/154 [08:14<02:54,  3.96s/entry]\u001B[A\n",
      "Processing mushroom.en-tst.v1.jsonl:  72%|███████▏  | 111/154 [08:16<02:36,  3.63s/entry]\u001B[A\n",
      "Processing mushroom.en-tst.v1.jsonl:  73%|███████▎  | 112/154 [08:21<02:44,  3.93s/entry]\u001B[A\n",
      "Processing mushroom.en-tst.v1.jsonl:  73%|███████▎  | 113/154 [08:25<02:43,  3.99s/entry]\u001B[A\n",
      "Processing mushroom.en-tst.v1.jsonl:  74%|███████▍  | 114/154 [08:28<02:26,  3.66s/entry]\u001B[A\n",
      "Processing mushroom.en-tst.v1.jsonl:  75%|███████▍  | 115/154 [08:31<02:13,  3.42s/entry]\u001B[A\n",
      "Processing mushroom.en-tst.v1.jsonl:  75%|███████▌  | 116/154 [08:34<02:08,  3.37s/entry]\u001B[A\n",
      "Processing mushroom.en-tst.v1.jsonl:  76%|███████▌  | 117/154 [08:39<02:15,  3.66s/entry]\u001B[A\n",
      "Processing mushroom.en-tst.v1.jsonl:  77%|███████▋  | 118/154 [08:41<01:56,  3.23s/entry]\u001B[A\n",
      "Processing mushroom.en-tst.v1.jsonl:  77%|███████▋  | 119/154 [08:45<02:04,  3.55s/entry]\u001B[A\n",
      "Processing mushroom.en-tst.v1.jsonl:  78%|███████▊  | 120/154 [08:48<01:57,  3.46s/entry]\u001B[A\n",
      "Processing mushroom.en-tst.v1.jsonl:  79%|███████▊  | 121/154 [08:53<02:06,  3.83s/entry]\u001B[A\n",
      "Processing mushroom.en-tst.v1.jsonl:  79%|███████▉  | 122/154 [08:56<01:57,  3.66s/entry]\u001B[A\n",
      "Processing mushroom.en-tst.v1.jsonl:  80%|███████▉  | 123/154 [08:59<01:45,  3.41s/entry]\u001B[A\n",
      "Processing mushroom.en-tst.v1.jsonl:  81%|████████  | 124/154 [09:05<02:00,  4.00s/entry]\u001B[A\n",
      "Processing mushroom.en-tst.v1.jsonl:  81%|████████  | 125/154 [09:13<02:34,  5.32s/entry]\u001B[A\n",
      "Processing mushroom.en-tst.v1.jsonl:  82%|████████▏ | 126/154 [09:15<02:05,  4.47s/entry]\u001B[A\n",
      "Processing mushroom.en-tst.v1.jsonl:  82%|████████▏ | 127/154 [09:20<01:58,  4.40s/entry]\u001B[A\n",
      "Processing mushroom.en-tst.v1.jsonl:  83%|████████▎ | 128/154 [09:26<02:07,  4.90s/entry]\u001B[A\n",
      "Processing mushroom.en-tst.v1.jsonl:  84%|████████▍ | 129/154 [09:29<01:51,  4.44s/entry]\u001B[A\n",
      "Processing mushroom.en-tst.v1.jsonl:  84%|████████▍ | 130/154 [09:33<01:43,  4.33s/entry]\u001B[A\n",
      "Processing mushroom.en-tst.v1.jsonl:  85%|████████▌ | 131/154 [09:43<02:17,  5.98s/entry]\u001B[A\n",
      "Processing mushroom.en-tst.v1.jsonl:  86%|████████▌ | 132/154 [09:46<01:52,  5.11s/entry]\u001B[A\n",
      "Processing mushroom.en-tst.v1.jsonl:  86%|████████▋ | 133/154 [09:49<01:31,  4.35s/entry]\u001B[A\n",
      "Processing mushroom.en-tst.v1.jsonl:  87%|████████▋ | 134/154 [09:52<01:20,  4.03s/entry]\u001B[A\n",
      "Processing mushroom.en-tst.v1.jsonl:  88%|████████▊ | 135/154 [09:55<01:10,  3.71s/entry]\u001B[A\n",
      "Processing mushroom.en-tst.v1.jsonl:  88%|████████▊ | 136/154 [10:17<02:45,  9.20s/entry]\u001B[A\n",
      "Processing mushroom.en-tst.v1.jsonl:  89%|████████▉ | 137/154 [10:20<02:04,  7.35s/entry]\u001B[A\n",
      "Processing mushroom.en-tst.v1.jsonl:  90%|████████▉ | 138/154 [10:23<01:38,  6.13s/entry]\u001B[A\n",
      "Processing mushroom.en-tst.v1.jsonl:  90%|█████████ | 139/154 [10:31<01:41,  6.76s/entry]\u001B[A\n",
      "Processing mushroom.en-tst.v1.jsonl:  91%|█████████ | 140/154 [10:34<01:17,  5.52s/entry]\u001B[A\n",
      "Processing mushroom.en-tst.v1.jsonl:  92%|█████████▏| 141/154 [10:39<01:08,  5.30s/entry]\u001B[A\n",
      "Processing mushroom.en-tst.v1.jsonl:  92%|█████████▏| 142/154 [10:41<00:52,  4.41s/entry]\u001B[A\n",
      "Processing mushroom.en-tst.v1.jsonl:  93%|█████████▎| 143/154 [10:43<00:41,  3.73s/entry]\u001B[A"
     ]
    },
    {
     "name": "stdout",
     "output_type": "stream",
     "text": [
      "No valid JSON found in content: ```json\n",
      "[]\n",
      "```\n"
     ]
    },
    {
     "name": "stderr",
     "output_type": "stream",
     "text": [
      "\n",
      "Processing mushroom.en-tst.v1.jsonl:  94%|█████████▎| 144/154 [10:47<00:37,  3.75s/entry]\u001B[A\n",
      "Processing mushroom.en-tst.v1.jsonl:  94%|█████████▍| 145/154 [10:50<00:31,  3.49s/entry]\u001B[A\n",
      "Processing mushroom.en-tst.v1.jsonl:  95%|█████████▍| 146/154 [10:56<00:33,  4.21s/entry]\u001B[A\n",
      "Processing mushroom.en-tst.v1.jsonl:  95%|█████████▌| 147/154 [10:59<00:27,  3.91s/entry]\u001B[A\n",
      "Processing mushroom.en-tst.v1.jsonl:  96%|█████████▌| 148/154 [11:04<00:24,  4.10s/entry]\u001B[A\n",
      "Processing mushroom.en-tst.v1.jsonl:  97%|█████████▋| 149/154 [11:10<00:23,  4.69s/entry]\u001B[A\n",
      "Processing mushroom.en-tst.v1.jsonl:  97%|█████████▋| 150/154 [11:12<00:16,  4.01s/entry]\u001B[A\n",
      "Processing mushroom.en-tst.v1.jsonl:  98%|█████████▊| 151/154 [11:16<00:11,  3.83s/entry]\u001B[A\n",
      "Processing mushroom.en-tst.v1.jsonl:  99%|█████████▊| 152/154 [11:18<00:06,  3.45s/entry]\u001B[A\n",
      "Processing mushroom.en-tst.v1.jsonl:  99%|█████████▉| 153/154 [11:21<00:03,  3.15s/entry]\u001B[A\n",
      "Processing mushroom.en-tst.v1.jsonl: 100%|██████████| 154/154 [11:27<00:00,  4.05s/entry]\u001B[A\n",
      "Processing Files:  36%|███▌      | 5/14 [51:00<1:35:43, 638.13s/file]                    \u001B[A"
     ]
    },
    {
     "name": "stdout",
     "output_type": "stream",
     "text": [
      "Processed and saved: ../data/test/detect_gpt4o_m2/mushroom.en-tst.v1.jsonl\n"
     ]
    },
    {
     "name": "stderr",
     "output_type": "stream",
     "text": [
      "\n",
      "Processing mushroom.es-tst.v1.jsonl:   0%|          | 0/152 [00:00<?, ?entry/s]\u001B[A\n",
      "Processing mushroom.es-tst.v1.jsonl:   1%|          | 1/152 [00:04<11:48,  4.69s/entry]\u001B[A\n",
      "Processing mushroom.es-tst.v1.jsonl:   1%|▏         | 2/152 [00:11<14:07,  5.65s/entry]\u001B[A\n",
      "Processing mushroom.es-tst.v1.jsonl:   2%|▏         | 3/152 [00:15<12:28,  5.02s/entry]\u001B[A\n",
      "Processing mushroom.es-tst.v1.jsonl:   3%|▎         | 4/152 [00:18<10:40,  4.33s/entry]\u001B[A\n",
      "Processing mushroom.es-tst.v1.jsonl:   3%|▎         | 5/152 [00:33<19:41,  8.04s/entry]\u001B[A\n",
      "Processing mushroom.es-tst.v1.jsonl:   4%|▍         | 6/152 [00:36<15:29,  6.36s/entry]\u001B[A\n",
      "Processing mushroom.es-tst.v1.jsonl:   5%|▍         | 7/152 [00:39<13:16,  5.49s/entry]\u001B[A\n",
      "Processing mushroom.es-tst.v1.jsonl:   5%|▌         | 8/152 [00:48<15:34,  6.49s/entry]\u001B[A\n",
      "Processing mushroom.es-tst.v1.jsonl:   6%|▌         | 9/152 [01:00<19:50,  8.33s/entry]\u001B[A\n",
      "Processing mushroom.es-tst.v1.jsonl:   7%|▋         | 10/152 [01:03<15:39,  6.62s/entry]\u001B[A\n",
      "Processing mushroom.es-tst.v1.jsonl:   7%|▋         | 11/152 [01:13<17:45,  7.56s/entry]\u001B[A\n",
      "Processing mushroom.es-tst.v1.jsonl:   8%|▊         | 12/152 [01:18<15:46,  6.76s/entry]\u001B[A\n",
      "Processing mushroom.es-tst.v1.jsonl:   9%|▊         | 13/152 [01:24<15:18,  6.61s/entry]\u001B[A\n",
      "Processing mushroom.es-tst.v1.jsonl:   9%|▉         | 14/152 [01:28<13:23,  5.82s/entry]\u001B[A\n",
      "Processing mushroom.es-tst.v1.jsonl:  10%|▉         | 15/152 [01:30<10:46,  4.72s/entry]\u001B[A\n",
      "Processing mushroom.es-tst.v1.jsonl:  11%|█         | 16/152 [01:34<10:16,  4.54s/entry]\u001B[A\n",
      "Processing mushroom.es-tst.v1.jsonl:  11%|█         | 17/152 [01:36<08:26,  3.75s/entry]\u001B[A\n",
      "Processing mushroom.es-tst.v1.jsonl:  12%|█▏        | 18/152 [01:45<11:28,  5.14s/entry]\u001B[A\n",
      "Processing mushroom.es-tst.v1.jsonl:  12%|█▎        | 19/152 [01:51<12:11,  5.50s/entry]\u001B[A\n",
      "Processing mushroom.es-tst.v1.jsonl:  13%|█▎        | 20/152 [01:55<10:58,  4.99s/entry]\u001B[A\n",
      "Processing mushroom.es-tst.v1.jsonl:  14%|█▍        | 21/152 [01:59<10:23,  4.76s/entry]\u001B[A\n",
      "Processing mushroom.es-tst.v1.jsonl:  14%|█▍        | 22/152 [02:02<08:53,  4.11s/entry]\u001B[A\n",
      "Processing mushroom.es-tst.v1.jsonl:  15%|█▌        | 23/152 [02:05<08:26,  3.93s/entry]\u001B[A\n",
      "Processing mushroom.es-tst.v1.jsonl:  16%|█▌        | 24/152 [02:13<11:09,  5.23s/entry]\u001B[A\n",
      "Processing mushroom.es-tst.v1.jsonl:  16%|█▋        | 25/152 [02:18<10:33,  4.99s/entry]\u001B[A\n",
      "Processing mushroom.es-tst.v1.jsonl:  17%|█▋        | 26/152 [02:25<11:58,  5.70s/entry]\u001B[A\n",
      "Processing mushroom.es-tst.v1.jsonl:  18%|█▊        | 27/152 [02:32<12:42,  6.10s/entry]\u001B[A\n",
      "Processing mushroom.es-tst.v1.jsonl:  18%|█▊        | 28/152 [02:36<11:17,  5.46s/entry]\u001B[A\n",
      "Processing mushroom.es-tst.v1.jsonl:  19%|█▉        | 29/152 [02:40<10:02,  4.90s/entry]\u001B[A\n",
      "Processing mushroom.es-tst.v1.jsonl:  20%|█▉        | 30/152 [02:43<08:39,  4.26s/entry]\u001B[A\n",
      "Processing mushroom.es-tst.v1.jsonl:  20%|██        | 31/152 [02:47<08:34,  4.25s/entry]\u001B[A\n",
      "Processing mushroom.es-tst.v1.jsonl:  21%|██        | 32/152 [02:54<10:29,  5.24s/entry]\u001B[A\n",
      "Processing mushroom.es-tst.v1.jsonl:  22%|██▏       | 33/152 [02:58<09:39,  4.87s/entry]\u001B[A\n",
      "Processing mushroom.es-tst.v1.jsonl:  22%|██▏       | 34/152 [03:02<09:01,  4.59s/entry]\u001B[A\n",
      "Processing mushroom.es-tst.v1.jsonl:  23%|██▎       | 35/152 [03:06<08:08,  4.18s/entry]\u001B[A\n",
      "Processing mushroom.es-tst.v1.jsonl:  24%|██▎       | 36/152 [03:11<08:33,  4.42s/entry]\u001B[A\n",
      "Processing mushroom.es-tst.v1.jsonl:  24%|██▍       | 37/152 [03:15<08:32,  4.45s/entry]\u001B[A\n",
      "Processing mushroom.es-tst.v1.jsonl:  25%|██▌       | 38/152 [03:21<09:20,  4.92s/entry]\u001B[A\n",
      "Processing mushroom.es-tst.v1.jsonl:  26%|██▌       | 39/152 [03:24<07:56,  4.21s/entry]\u001B[A\n",
      "Processing mushroom.es-tst.v1.jsonl:  26%|██▋       | 40/152 [03:28<08:04,  4.32s/entry]\u001B[A\n",
      "Processing mushroom.es-tst.v1.jsonl:  27%|██▋       | 41/152 [03:31<07:25,  4.01s/entry]\u001B[A\n",
      "Processing mushroom.es-tst.v1.jsonl:  28%|██▊       | 42/152 [03:35<07:07,  3.88s/entry]\u001B[A\n",
      "Processing mushroom.es-tst.v1.jsonl:  28%|██▊       | 43/152 [03:40<07:26,  4.10s/entry]\u001B[A\n",
      "Processing mushroom.es-tst.v1.jsonl:  29%|██▉       | 44/152 [03:43<06:46,  3.76s/entry]\u001B[A\n",
      "Processing mushroom.es-tst.v1.jsonl:  30%|██▉       | 45/152 [03:47<07:01,  3.94s/entry]\u001B[A\n",
      "Processing mushroom.es-tst.v1.jsonl:  30%|███       | 46/152 [03:55<08:55,  5.06s/entry]\u001B[A\n",
      "Processing mushroom.es-tst.v1.jsonl:  31%|███       | 47/152 [03:57<07:38,  4.37s/entry]\u001B[A\n",
      "Processing mushroom.es-tst.v1.jsonl:  32%|███▏      | 48/152 [04:05<09:23,  5.42s/entry]\u001B[A\n",
      "Processing mushroom.es-tst.v1.jsonl:  32%|███▏      | 49/152 [04:10<08:50,  5.15s/entry]\u001B[A\n",
      "Processing mushroom.es-tst.v1.jsonl:  33%|███▎      | 50/152 [04:20<11:30,  6.77s/entry]\u001B[A\n",
      "Processing mushroom.es-tst.v1.jsonl:  34%|███▎      | 51/152 [04:24<09:34,  5.69s/entry]\u001B[A"
     ]
    },
    {
     "name": "stdout",
     "output_type": "stream",
     "text": [
      "No valid JSON found in content: ```json\n",
      "[]\n",
      "```\n"
     ]
    },
    {
     "name": "stderr",
     "output_type": "stream",
     "text": [
      "\n",
      "Processing mushroom.es-tst.v1.jsonl:  34%|███▍      | 52/152 [04:29<09:28,  5.68s/entry]\u001B[A\n",
      "Processing mushroom.es-tst.v1.jsonl:  35%|███▍      | 53/152 [04:33<08:16,  5.01s/entry]\u001B[A\n",
      "Processing mushroom.es-tst.v1.jsonl:  36%|███▌      | 54/152 [04:38<08:15,  5.05s/entry]\u001B[A\n",
      "Processing mushroom.es-tst.v1.jsonl:  36%|███▌      | 55/152 [04:47<09:57,  6.16s/entry]\u001B[A\n",
      "Processing mushroom.es-tst.v1.jsonl:  37%|███▋      | 56/152 [04:50<08:32,  5.34s/entry]\u001B[A\n",
      "Processing mushroom.es-tst.v1.jsonl:  38%|███▊      | 57/152 [04:55<08:08,  5.14s/entry]\u001B[A\n",
      "Processing mushroom.es-tst.v1.jsonl:  38%|███▊      | 58/152 [05:01<08:44,  5.58s/entry]\u001B[A\n",
      "Processing mushroom.es-tst.v1.jsonl:  39%|███▉      | 59/152 [05:08<09:22,  6.05s/entry]\u001B[A\n",
      "Processing mushroom.es-tst.v1.jsonl:  39%|███▉      | 60/152 [05:12<07:56,  5.18s/entry]\u001B[A\n",
      "Processing mushroom.es-tst.v1.jsonl:  40%|████      | 61/152 [05:14<06:49,  4.50s/entry]\u001B[A\n",
      "Processing mushroom.es-tst.v1.jsonl:  41%|████      | 62/152 [05:22<07:56,  5.29s/entry]\u001B[A\n",
      "Processing mushroom.es-tst.v1.jsonl:  41%|████▏     | 63/152 [05:43<15:11, 10.24s/entry]\u001B[A\n",
      "Processing mushroom.es-tst.v1.jsonl:  42%|████▏     | 64/152 [05:46<11:52,  8.09s/entry]\u001B[A\n",
      "Processing mushroom.es-tst.v1.jsonl:  43%|████▎     | 65/152 [05:49<09:25,  6.50s/entry]\u001B[A\n",
      "Processing mushroom.es-tst.v1.jsonl:  43%|████▎     | 66/152 [05:52<07:54,  5.52s/entry]\u001B[A\n",
      "Processing mushroom.es-tst.v1.jsonl:  44%|████▍     | 67/152 [05:56<06:58,  4.92s/entry]\u001B[A\n",
      "Processing mushroom.es-tst.v1.jsonl:  45%|████▍     | 68/152 [06:02<07:25,  5.30s/entry]\u001B[A\n",
      "Processing mushroom.es-tst.v1.jsonl:  45%|████▌     | 69/152 [06:06<06:38,  4.80s/entry]\u001B[A\n",
      "Processing mushroom.es-tst.v1.jsonl:  46%|████▌     | 70/152 [06:09<05:53,  4.32s/entry]\u001B[A\n",
      "Processing mushroom.es-tst.v1.jsonl:  47%|████▋     | 71/152 [06:15<06:18,  4.67s/entry]\u001B[A\n",
      "Processing mushroom.es-tst.v1.jsonl:  47%|████▋     | 72/152 [06:20<06:23,  4.79s/entry]\u001B[A"
     ]
    },
    {
     "name": "stdout",
     "output_type": "stream",
     "text": [
      "No valid JSON found in content: ```json\n",
      "[]\n",
      "```\n"
     ]
    },
    {
     "name": "stderr",
     "output_type": "stream",
     "text": [
      "\n",
      "Processing mushroom.es-tst.v1.jsonl:  48%|████▊     | 73/152 [06:26<06:47,  5.16s/entry]\u001B[A\n",
      "Processing mushroom.es-tst.v1.jsonl:  49%|████▊     | 74/152 [06:35<08:25,  6.48s/entry]\u001B[A\n",
      "Processing mushroom.es-tst.v1.jsonl:  49%|████▉     | 75/152 [06:44<09:20,  7.27s/entry]\u001B[A\n",
      "Processing mushroom.es-tst.v1.jsonl:  50%|█████     | 76/152 [06:47<07:33,  5.96s/entry]\u001B[A\n",
      "Processing mushroom.es-tst.v1.jsonl:  51%|█████     | 77/152 [06:52<07:04,  5.66s/entry]\u001B[A\n",
      "Processing mushroom.es-tst.v1.jsonl:  51%|█████▏    | 78/152 [06:55<06:03,  4.91s/entry]\u001B[A\n",
      "Processing mushroom.es-tst.v1.jsonl:  52%|█████▏    | 79/152 [07:00<05:51,  4.82s/entry]\u001B[A\n",
      "Processing mushroom.es-tst.v1.jsonl:  53%|█████▎    | 80/152 [07:06<06:04,  5.07s/entry]\u001B[A\n",
      "Processing mushroom.es-tst.v1.jsonl:  53%|█████▎    | 81/152 [07:12<06:19,  5.35s/entry]\u001B[A\n",
      "Processing mushroom.es-tst.v1.jsonl:  54%|█████▍    | 82/152 [07:15<05:27,  4.68s/entry]\u001B[A\n",
      "Processing mushroom.es-tst.v1.jsonl:  55%|█████▍    | 83/152 [07:21<05:46,  5.02s/entry]\u001B[A\n",
      "Processing mushroom.es-tst.v1.jsonl:  55%|█████▌    | 84/152 [07:25<05:25,  4.79s/entry]\u001B[A\n",
      "Processing mushroom.es-tst.v1.jsonl:  56%|█████▌    | 85/152 [07:31<05:47,  5.19s/entry]\u001B[A\n",
      "Processing mushroom.es-tst.v1.jsonl:  57%|█████▋    | 86/152 [07:37<06:06,  5.55s/entry]\u001B[A\n",
      "Processing mushroom.es-tst.v1.jsonl:  57%|█████▋    | 87/152 [07:41<05:18,  4.91s/entry]\u001B[A"
     ]
    },
    {
     "name": "stdout",
     "output_type": "stream",
     "text": [
      "No valid JSON found in content: ```json\n",
      "[]\n",
      "```\n"
     ]
    },
    {
     "name": "stderr",
     "output_type": "stream",
     "text": [
      "\n",
      "Processing mushroom.es-tst.v1.jsonl:  58%|█████▊    | 88/152 [07:52<07:21,  6.90s/entry]\u001B[A\n",
      "Processing mushroom.es-tst.v1.jsonl:  59%|█████▊    | 89/152 [07:56<06:14,  5.94s/entry]\u001B[A\n",
      "Processing mushroom.es-tst.v1.jsonl:  59%|█████▉    | 90/152 [08:02<06:01,  5.84s/entry]\u001B[A\n",
      "Processing mushroom.es-tst.v1.jsonl:  60%|█████▉    | 91/152 [08:06<05:31,  5.43s/entry]\u001B[A\n",
      "Processing mushroom.es-tst.v1.jsonl:  61%|██████    | 92/152 [08:23<08:53,  8.89s/entry]\u001B[A\n",
      "Processing mushroom.es-tst.v1.jsonl:  61%|██████    | 93/152 [08:37<10:20, 10.51s/entry]\u001B[A\n",
      "Processing mushroom.es-tst.v1.jsonl:  62%|██████▏   | 94/152 [08:43<08:48,  9.11s/entry]\u001B[A\n",
      "Processing mushroom.es-tst.v1.jsonl:  62%|██████▎   | 95/152 [08:49<07:39,  8.06s/entry]\u001B[A\n",
      "Processing mushroom.es-tst.v1.jsonl:  63%|██████▎   | 96/152 [08:53<06:27,  6.92s/entry]\u001B[A\n",
      "Processing mushroom.es-tst.v1.jsonl:  64%|██████▍   | 97/152 [08:56<05:23,  5.88s/entry]\u001B[A\n",
      "Processing mushroom.es-tst.v1.jsonl:  64%|██████▍   | 98/152 [08:59<04:28,  4.97s/entry]\u001B[A\n",
      "Processing mushroom.es-tst.v1.jsonl:  65%|██████▌   | 99/152 [09:07<05:14,  5.92s/entry]\u001B[A\n",
      "Processing mushroom.es-tst.v1.jsonl:  66%|██████▌   | 100/152 [09:11<04:30,  5.20s/entry]\u001B[A"
     ]
    },
    {
     "name": "stdout",
     "output_type": "stream",
     "text": [
      "No valid JSON found in content: ```json\n",
      "[]\n",
      "```\n"
     ]
    },
    {
     "name": "stderr",
     "output_type": "stream",
     "text": [
      "\n",
      "Processing mushroom.es-tst.v1.jsonl:  66%|██████▋   | 101/152 [09:15<04:14,  4.99s/entry]\u001B[A\n",
      "Processing mushroom.es-tst.v1.jsonl:  67%|██████▋   | 102/152 [09:20<04:09,  5.00s/entry]\u001B[A\n",
      "Processing mushroom.es-tst.v1.jsonl:  68%|██████▊   | 103/152 [09:25<04:02,  4.95s/entry]\u001B[A\n",
      "Processing mushroom.es-tst.v1.jsonl:  68%|██████▊   | 104/152 [09:28<03:19,  4.16s/entry]\u001B[A"
     ]
    },
    {
     "name": "stdout",
     "output_type": "stream",
     "text": [
      "No valid JSON found in content: []\n"
     ]
    },
    {
     "name": "stderr",
     "output_type": "stream",
     "text": [
      "\n",
      "Processing mushroom.es-tst.v1.jsonl:  69%|██████▉   | 105/152 [09:30<02:52,  3.67s/entry]\u001B[A\n",
      "Processing mushroom.es-tst.v1.jsonl:  70%|██████▉   | 106/152 [09:35<03:07,  4.07s/entry]\u001B[A\n",
      "Processing mushroom.es-tst.v1.jsonl:  70%|███████   | 107/152 [09:53<06:08,  8.18s/entry]\u001B[A\n",
      "Processing mushroom.es-tst.v1.jsonl:  71%|███████   | 108/152 [09:57<05:12,  7.10s/entry]\u001B[A\n",
      "Processing mushroom.es-tst.v1.jsonl:  72%|███████▏  | 109/152 [10:00<04:04,  5.69s/entry]\u001B[A\n",
      "Processing mushroom.es-tst.v1.jsonl:  72%|███████▏  | 110/152 [10:04<03:41,  5.28s/entry]\u001B[A\n",
      "Processing mushroom.es-tst.v1.jsonl:  73%|███████▎  | 111/152 [10:13<04:16,  6.27s/entry]\u001B[A\n",
      "Processing mushroom.es-tst.v1.jsonl:  74%|███████▎  | 112/152 [10:17<03:40,  5.52s/entry]\u001B[A\n",
      "Processing mushroom.es-tst.v1.jsonl:  74%|███████▍  | 113/152 [10:24<03:59,  6.15s/entry]\u001B[A\n",
      "Processing mushroom.es-tst.v1.jsonl:  75%|███████▌  | 114/152 [10:30<03:49,  6.03s/entry]\u001B[A\n",
      "Processing mushroom.es-tst.v1.jsonl:  76%|███████▌  | 115/152 [10:33<03:10,  5.14s/entry]\u001B[A\n",
      "Processing mushroom.es-tst.v1.jsonl:  76%|███████▋  | 116/152 [10:38<03:02,  5.06s/entry]\u001B[A\n",
      "Processing mushroom.es-tst.v1.jsonl:  77%|███████▋  | 117/152 [10:40<02:30,  4.30s/entry]\u001B[A\n",
      "Processing mushroom.es-tst.v1.jsonl:  78%|███████▊  | 118/152 [10:44<02:15,  3.98s/entry]\u001B[A\n",
      "Processing mushroom.es-tst.v1.jsonl:  78%|███████▊  | 119/152 [10:47<02:04,  3.77s/entry]\u001B[A\n",
      "Processing mushroom.es-tst.v1.jsonl:  79%|███████▉  | 120/152 [10:51<02:04,  3.88s/entry]\u001B[A\n",
      "Processing mushroom.es-tst.v1.jsonl:  80%|███████▉  | 121/152 [10:53<01:42,  3.31s/entry]\u001B[A"
     ]
    },
    {
     "name": "stdout",
     "output_type": "stream",
     "text": [
      "No valid JSON found in content: ```json\n",
      "[]\n",
      "```\n"
     ]
    },
    {
     "name": "stderr",
     "output_type": "stream",
     "text": [
      "\n",
      "Processing mushroom.es-tst.v1.jsonl:  80%|████████  | 122/152 [10:56<01:37,  3.26s/entry]\u001B[A\n",
      "Processing mushroom.es-tst.v1.jsonl:  81%|████████  | 123/152 [10:58<01:22,  2.85s/entry]\u001B[A"
     ]
    },
    {
     "name": "stdout",
     "output_type": "stream",
     "text": [
      "No valid JSON found in content: ```json\n",
      "[]\n",
      "```\n"
     ]
    },
    {
     "name": "stderr",
     "output_type": "stream",
     "text": [
      "\n",
      "Processing mushroom.es-tst.v1.jsonl:  82%|████████▏ | 124/152 [11:05<01:56,  4.17s/entry]\u001B[A\n",
      "Processing mushroom.es-tst.v1.jsonl:  82%|████████▏ | 125/152 [11:09<01:52,  4.17s/entry]\u001B[A\n",
      "Processing mushroom.es-tst.v1.jsonl:  83%|████████▎ | 126/152 [11:14<01:54,  4.39s/entry]\u001B[A\n",
      "Processing mushroom.es-tst.v1.jsonl:  84%|████████▎ | 127/152 [11:19<01:49,  4.39s/entry]\u001B[A\n",
      "Processing mushroom.es-tst.v1.jsonl:  84%|████████▍ | 128/152 [11:22<01:33,  3.91s/entry]\u001B[A\n",
      "Processing mushroom.es-tst.v1.jsonl:  85%|████████▍ | 129/152 [11:24<01:22,  3.59s/entry]\u001B[A\n",
      "Processing mushroom.es-tst.v1.jsonl:  86%|████████▌ | 130/152 [11:29<01:27,  3.99s/entry]\u001B[A\n",
      "Processing mushroom.es-tst.v1.jsonl:  86%|████████▌ | 131/152 [11:33<01:23,  3.96s/entry]\u001B[A\n",
      "Processing mushroom.es-tst.v1.jsonl:  87%|████████▋ | 132/152 [11:36<01:14,  3.73s/entry]\u001B[A\n",
      "Processing mushroom.es-tst.v1.jsonl:  88%|████████▊ | 133/152 [11:39<01:06,  3.48s/entry]\u001B[A\n",
      "Processing mushroom.es-tst.v1.jsonl:  88%|████████▊ | 134/152 [11:42<00:58,  3.23s/entry]\u001B[A\n",
      "Processing mushroom.es-tst.v1.jsonl:  89%|████████▉ | 135/152 [11:48<01:06,  3.92s/entry]\u001B[A\n",
      "Processing mushroom.es-tst.v1.jsonl:  89%|████████▉ | 136/152 [11:51<01:01,  3.87s/entry]\u001B[A\n",
      "Processing mushroom.es-tst.v1.jsonl:  90%|█████████ | 137/152 [11:58<01:08,  4.60s/entry]\u001B[A\n",
      "Processing mushroom.es-tst.v1.jsonl:  91%|█████████ | 138/152 [12:01<01:00,  4.35s/entry]\u001B[A\n",
      "Processing mushroom.es-tst.v1.jsonl:  91%|█████████▏| 139/152 [12:10<01:12,  5.56s/entry]\u001B[A\n",
      "Processing mushroom.es-tst.v1.jsonl:  92%|█████████▏| 140/152 [12:19<01:21,  6.83s/entry]\u001B[A\n",
      "Processing mushroom.es-tst.v1.jsonl:  93%|█████████▎| 141/152 [12:27<01:17,  7.05s/entry]\u001B[A\n",
      "Processing mushroom.es-tst.v1.jsonl:  93%|█████████▎| 142/152 [12:37<01:18,  7.82s/entry]\u001B[A\n",
      "Processing mushroom.es-tst.v1.jsonl:  94%|█████████▍| 143/152 [12:41<01:01,  6.80s/entry]\u001B[A\n",
      "Processing mushroom.es-tst.v1.jsonl:  95%|█████████▍| 144/152 [12:45<00:46,  5.86s/entry]\u001B[A\n",
      "Processing mushroom.es-tst.v1.jsonl:  95%|█████████▌| 145/152 [12:50<00:40,  5.75s/entry]\u001B[A\n",
      "Processing mushroom.es-tst.v1.jsonl:  96%|█████████▌| 146/152 [12:55<00:32,  5.42s/entry]\u001B[A\n",
      "Processing mushroom.es-tst.v1.jsonl:  97%|█████████▋| 147/152 [13:02<00:29,  5.83s/entry]\u001B[A\n",
      "Processing mushroom.es-tst.v1.jsonl:  97%|█████████▋| 148/152 [13:05<00:20,  5.15s/entry]\u001B[A\n",
      "Processing mushroom.es-tst.v1.jsonl:  98%|█████████▊| 149/152 [13:11<00:15,  5.23s/entry]\u001B[A\n",
      "Processing mushroom.es-tst.v1.jsonl:  99%|█████████▊| 150/152 [13:13<00:08,  4.46s/entry]\u001B[A"
     ]
    },
    {
     "name": "stdout",
     "output_type": "stream",
     "text": [
      "No valid JSON found in content: ```json\n",
      "[]\n",
      "```\n"
     ]
    },
    {
     "name": "stderr",
     "output_type": "stream",
     "text": [
      "\n",
      "Processing mushroom.es-tst.v1.jsonl:  99%|█████████▉| 151/152 [13:17<00:04,  4.15s/entry]\u001B[A\n",
      "Processing mushroom.es-tst.v1.jsonl: 100%|██████████| 152/152 [13:23<00:00,  4.64s/entry]\u001B[A\n",
      "Processing Files:  43%|████▎     | 6/14 [1:04:23<1:32:33, 694.20s/file]                  \u001B[A"
     ]
    },
    {
     "name": "stdout",
     "output_type": "stream",
     "text": [
      "Processed and saved: ../data/test/detect_gpt4o_m2/mushroom.es-tst.v1.jsonl\n"
     ]
    },
    {
     "name": "stderr",
     "output_type": "stream",
     "text": [
      "\n",
      "Processing mushroom.eu-tst.v1.jsonl:   0%|          | 0/99 [00:00<?, ?entry/s]\u001B[A\n",
      "Processing mushroom.eu-tst.v1.jsonl:   1%|          | 1/99 [00:02<04:48,  2.95s/entry]\u001B[A\n",
      "Processing mushroom.eu-tst.v1.jsonl:   2%|▏         | 2/99 [00:06<05:22,  3.32s/entry]\u001B[A\n",
      "Processing mushroom.eu-tst.v1.jsonl:   3%|▎         | 3/99 [00:11<06:20,  3.97s/entry]\u001B[A\n",
      "Processing mushroom.eu-tst.v1.jsonl:   4%|▍         | 4/99 [00:16<06:46,  4.28s/entry]\u001B[A\n",
      "Processing mushroom.eu-tst.v1.jsonl:   5%|▌         | 5/99 [00:19<06:03,  3.86s/entry]\u001B[A\n",
      "Processing mushroom.eu-tst.v1.jsonl:   6%|▌         | 6/99 [00:21<05:23,  3.48s/entry]\u001B[A\n",
      "Processing mushroom.eu-tst.v1.jsonl:   7%|▋         | 7/99 [00:27<06:11,  4.03s/entry]\u001B[A\n",
      "Processing mushroom.eu-tst.v1.jsonl:   8%|▊         | 8/99 [00:29<05:29,  3.63s/entry]\u001B[A\n",
      "Processing mushroom.eu-tst.v1.jsonl:   9%|▉         | 9/99 [00:32<05:05,  3.40s/entry]\u001B[A\n",
      "Processing mushroom.eu-tst.v1.jsonl:  10%|█         | 10/99 [00:34<04:24,  2.97s/entry]\u001B[A\n",
      "Processing mushroom.eu-tst.v1.jsonl:  11%|█         | 11/99 [00:37<04:11,  2.86s/entry]\u001B[A\n",
      "Processing mushroom.eu-tst.v1.jsonl:  12%|█▏        | 12/99 [00:39<03:45,  2.59s/entry]\u001B[A"
     ]
    },
    {
     "name": "stdout",
     "output_type": "stream",
     "text": [
      "No valid JSON found in content: ```json\n",
      "[]\n",
      "```\n"
     ]
    },
    {
     "name": "stderr",
     "output_type": "stream",
     "text": [
      "\n",
      "Processing mushroom.eu-tst.v1.jsonl:  13%|█▎        | 13/99 [00:44<04:45,  3.32s/entry]\u001B[A\n",
      "Processing mushroom.eu-tst.v1.jsonl:  14%|█▍        | 14/99 [00:47<04:29,  3.17s/entry]\u001B[A\n",
      "Processing mushroom.eu-tst.v1.jsonl:  15%|█▌        | 15/99 [00:51<04:49,  3.45s/entry]\u001B[A\n",
      "Processing mushroom.eu-tst.v1.jsonl:  16%|█▌        | 16/99 [00:54<04:43,  3.42s/entry]\u001B[A\n",
      "Processing mushroom.eu-tst.v1.jsonl:  17%|█▋        | 17/99 [00:57<04:38,  3.39s/entry]\u001B[A\n",
      "Processing mushroom.eu-tst.v1.jsonl:  18%|█▊        | 18/99 [01:00<04:20,  3.22s/entry]\u001B[A\n",
      "Processing mushroom.eu-tst.v1.jsonl:  19%|█▉        | 19/99 [01:04<04:31,  3.40s/entry]\u001B[A\n",
      "Processing mushroom.eu-tst.v1.jsonl:  20%|██        | 20/99 [01:08<04:33,  3.47s/entry]\u001B[A\n",
      "Processing mushroom.eu-tst.v1.jsonl:  21%|██        | 21/99 [01:10<04:03,  3.13s/entry]\u001B[A\n",
      "Processing mushroom.eu-tst.v1.jsonl:  22%|██▏       | 22/99 [01:14<04:13,  3.30s/entry]\u001B[A\n",
      "Processing mushroom.eu-tst.v1.jsonl:  23%|██▎       | 23/99 [01:17<04:08,  3.28s/entry]\u001B[A\n",
      "Processing mushroom.eu-tst.v1.jsonl:  24%|██▍       | 24/99 [01:22<04:50,  3.87s/entry]\u001B[A\n",
      "Processing mushroom.eu-tst.v1.jsonl:  25%|██▌       | 25/99 [01:25<04:33,  3.70s/entry]\u001B[A\n",
      "Processing mushroom.eu-tst.v1.jsonl:  26%|██▋       | 26/99 [01:29<04:31,  3.72s/entry]\u001B[A\n",
      "Processing mushroom.eu-tst.v1.jsonl:  27%|██▋       | 27/99 [01:35<05:11,  4.33s/entry]\u001B[A\n",
      "Processing mushroom.eu-tst.v1.jsonl:  28%|██▊       | 28/99 [01:38<04:33,  3.86s/entry]\u001B[A\n",
      "Processing mushroom.eu-tst.v1.jsonl:  29%|██▉       | 29/99 [01:42<04:32,  3.89s/entry]\u001B[A\n",
      "Processing mushroom.eu-tst.v1.jsonl:  30%|███       | 30/99 [01:47<04:54,  4.28s/entry]\u001B[A\n",
      "Processing mushroom.eu-tst.v1.jsonl:  31%|███▏      | 31/99 [01:54<05:39,  5.00s/entry]\u001B[A\n",
      "Processing mushroom.eu-tst.v1.jsonl:  32%|███▏      | 32/99 [01:59<05:45,  5.16s/entry]\u001B[A\n",
      "Processing mushroom.eu-tst.v1.jsonl:  33%|███▎      | 33/99 [02:04<05:39,  5.15s/entry]\u001B[A\n",
      "Processing mushroom.eu-tst.v1.jsonl:  34%|███▍      | 34/99 [02:08<05:12,  4.81s/entry]\u001B[A\n",
      "Processing mushroom.eu-tst.v1.jsonl:  35%|███▌      | 35/99 [02:11<04:24,  4.13s/entry]\u001B[A\n",
      "Processing mushroom.eu-tst.v1.jsonl:  36%|███▋      | 36/99 [02:14<04:00,  3.82s/entry]\u001B[A\n",
      "Processing mushroom.eu-tst.v1.jsonl:  37%|███▋      | 37/99 [02:17<03:45,  3.64s/entry]\u001B[A\n",
      "Processing mushroom.eu-tst.v1.jsonl:  38%|███▊      | 38/99 [02:21<03:50,  3.78s/entry]\u001B[A\n",
      "Processing mushroom.eu-tst.v1.jsonl:  39%|███▉      | 39/99 [02:24<03:23,  3.40s/entry]\u001B[A\n",
      "Processing mushroom.eu-tst.v1.jsonl:  40%|████      | 40/99 [02:28<03:43,  3.79s/entry]\u001B[A\n",
      "Processing mushroom.eu-tst.v1.jsonl:  41%|████▏     | 41/99 [02:35<04:31,  4.68s/entry]\u001B[A\n",
      "Processing mushroom.eu-tst.v1.jsonl:  42%|████▏     | 42/99 [02:38<04:02,  4.26s/entry]\u001B[A\n",
      "Processing mushroom.eu-tst.v1.jsonl:  43%|████▎     | 43/99 [02:44<04:17,  4.60s/entry]\u001B[A\n",
      "Processing mushroom.eu-tst.v1.jsonl:  44%|████▍     | 44/99 [02:46<03:35,  3.92s/entry]\u001B[A\n",
      "Processing mushroom.eu-tst.v1.jsonl:  45%|████▌     | 45/99 [02:49<03:06,  3.46s/entry]\u001B[A\n",
      "Processing mushroom.eu-tst.v1.jsonl:  46%|████▋     | 46/99 [02:51<02:41,  3.05s/entry]\u001B[A\n",
      "Processing mushroom.eu-tst.v1.jsonl:  47%|████▋     | 47/99 [02:54<02:43,  3.15s/entry]\u001B[A\n",
      "Processing mushroom.eu-tst.v1.jsonl:  48%|████▊     | 48/99 [03:05<04:37,  5.44s/entry]\u001B[A\n",
      "Processing mushroom.eu-tst.v1.jsonl:  49%|████▉     | 49/99 [03:12<05:03,  6.07s/entry]\u001B[A\n",
      "Processing mushroom.eu-tst.v1.jsonl:  51%|█████     | 50/99 [03:27<07:05,  8.69s/entry]\u001B[A\n",
      "Processing mushroom.eu-tst.v1.jsonl:  52%|█████▏    | 51/99 [03:39<07:36,  9.51s/entry]\u001B[A\n",
      "Processing mushroom.eu-tst.v1.jsonl:  53%|█████▎    | 52/99 [03:46<06:58,  8.91s/entry]\u001B[A\n",
      "Processing mushroom.eu-tst.v1.jsonl:  54%|█████▎    | 53/99 [03:58<07:25,  9.68s/entry]\u001B[A\n",
      "Processing mushroom.eu-tst.v1.jsonl:  55%|█████▍    | 54/99 [04:07<07:08,  9.52s/entry]\u001B[A\n",
      "Processing mushroom.eu-tst.v1.jsonl:  56%|█████▌    | 55/99 [04:09<05:26,  7.42s/entry]\u001B[A\n",
      "Processing mushroom.eu-tst.v1.jsonl:  57%|█████▋    | 56/99 [04:13<04:28,  6.25s/entry]\u001B[A\n",
      "Processing mushroom.eu-tst.v1.jsonl:  58%|█████▊    | 57/99 [04:21<04:52,  6.96s/entry]\u001B[A\n",
      "Processing mushroom.eu-tst.v1.jsonl:  59%|█████▊    | 58/99 [04:24<03:58,  5.81s/entry]\u001B[A"
     ]
    },
    {
     "name": "stdout",
     "output_type": "stream",
     "text": [
      "Failed to parse JSON content: [\n",
      "    {\"word\": \"Bi\", \"prob\": 0.9\"}\n",
      "]. Error: Expecting ',' delimiter: line 2 column 31 (char 32)\n"
     ]
    },
    {
     "name": "stderr",
     "output_type": "stream",
     "text": [
      "\n",
      "Processing mushroom.eu-tst.v1.jsonl:  60%|█████▉    | 59/99 [04:27<03:07,  4.69s/entry]\u001B[A"
     ]
    },
    {
     "name": "stdout",
     "output_type": "stream",
     "text": [
      "No valid JSON found in content: ```json\n",
      "[]\n",
      "```\n"
     ]
    },
    {
     "name": "stderr",
     "output_type": "stream",
     "text": [
      "\n",
      "Processing mushroom.eu-tst.v1.jsonl:  61%|██████    | 60/99 [04:30<02:52,  4.43s/entry]\u001B[A\n",
      "Processing mushroom.eu-tst.v1.jsonl:  62%|██████▏   | 61/99 [04:33<02:30,  3.96s/entry]\u001B[A\n",
      "Processing mushroom.eu-tst.v1.jsonl:  63%|██████▎   | 62/99 [04:38<02:35,  4.20s/entry]\u001B[A\n",
      "Processing mushroom.eu-tst.v1.jsonl:  64%|██████▎   | 63/99 [04:41<02:15,  3.77s/entry]\u001B[A\n",
      "Processing mushroom.eu-tst.v1.jsonl:  65%|██████▍   | 64/99 [04:45<02:17,  3.94s/entry]\u001B[A\n",
      "Processing mushroom.eu-tst.v1.jsonl:  66%|██████▌   | 65/99 [04:50<02:26,  4.30s/entry]\u001B[A\n",
      "Processing mushroom.eu-tst.v1.jsonl:  67%|██████▋   | 66/99 [04:56<02:36,  4.74s/entry]\u001B[A\n",
      "Processing mushroom.eu-tst.v1.jsonl:  68%|██████▊   | 67/99 [05:00<02:28,  4.65s/entry]\u001B[A\n",
      "Processing mushroom.eu-tst.v1.jsonl:  69%|██████▊   | 68/99 [05:05<02:21,  4.58s/entry]\u001B[A\n",
      "Processing mushroom.eu-tst.v1.jsonl:  70%|██████▉   | 69/99 [05:08<01:59,  4.00s/entry]\u001B[A\n",
      "Processing mushroom.eu-tst.v1.jsonl:  71%|███████   | 70/99 [05:11<01:48,  3.73s/entry]\u001B[A\n",
      "Processing mushroom.eu-tst.v1.jsonl:  72%|███████▏  | 71/99 [05:14<01:40,  3.61s/entry]\u001B[A"
     ]
    },
    {
     "name": "stdout",
     "output_type": "stream",
     "text": [
      "No valid JSON found in content: ```json\n",
      "[]\n",
      "```\n"
     ]
    },
    {
     "name": "stderr",
     "output_type": "stream",
     "text": [
      "\n",
      "Processing mushroom.eu-tst.v1.jsonl:  73%|███████▎  | 72/99 [05:19<01:49,  4.06s/entry]\u001B[A\n",
      "Processing mushroom.eu-tst.v1.jsonl:  74%|███████▎  | 73/99 [05:22<01:34,  3.63s/entry]\u001B[A\n",
      "Processing mushroom.eu-tst.v1.jsonl:  75%|███████▍  | 74/99 [05:29<01:59,  4.77s/entry]\u001B[A\n",
      "Processing mushroom.eu-tst.v1.jsonl:  76%|███████▌  | 75/99 [05:34<01:56,  4.84s/entry]\u001B[A\n",
      "Processing mushroom.eu-tst.v1.jsonl:  77%|███████▋  | 76/99 [05:42<02:15,  5.89s/entry]\u001B[A\n",
      "Processing mushroom.eu-tst.v1.jsonl:  78%|███████▊  | 77/99 [05:46<01:52,  5.11s/entry]\u001B[A"
     ]
    },
    {
     "name": "stdout",
     "output_type": "stream",
     "text": [
      "No valid JSON found in content: ```json\n",
      "[]\n",
      "```\n"
     ]
    },
    {
     "name": "stderr",
     "output_type": "stream",
     "text": [
      "\n",
      "Processing mushroom.eu-tst.v1.jsonl:  79%|███████▉  | 78/99 [06:12<03:57, 11.31s/entry]\u001B[A\n",
      "Processing mushroom.eu-tst.v1.jsonl:  80%|███████▉  | 79/99 [06:21<03:36, 10.84s/entry]\u001B[A\n",
      "Processing mushroom.eu-tst.v1.jsonl:  81%|████████  | 80/99 [06:24<02:41,  8.53s/entry]\u001B[A\n",
      "Processing mushroom.eu-tst.v1.jsonl:  82%|████████▏ | 81/99 [06:28<02:06,  7.01s/entry]\u001B[A\n",
      "Processing mushroom.eu-tst.v1.jsonl:  83%|████████▎ | 82/99 [06:30<01:35,  5.60s/entry]\u001B[A\n",
      "Processing mushroom.eu-tst.v1.jsonl:  84%|████████▍ | 83/99 [06:34<01:20,  5.03s/entry]\u001B[A\n",
      "Processing mushroom.eu-tst.v1.jsonl:  85%|████████▍ | 84/99 [06:40<01:19,  5.33s/entry]\u001B[A\n",
      "Processing mushroom.eu-tst.v1.jsonl:  86%|████████▌ | 85/99 [06:45<01:12,  5.17s/entry]\u001B[A\n",
      "Processing mushroom.eu-tst.v1.jsonl:  87%|████████▋ | 86/99 [06:49<01:02,  4.78s/entry]\u001B[A\n",
      "Processing mushroom.eu-tst.v1.jsonl:  88%|████████▊ | 87/99 [06:54<00:59,  4.96s/entry]\u001B[A\n",
      "Processing mushroom.eu-tst.v1.jsonl:  89%|████████▉ | 88/99 [07:00<00:56,  5.18s/entry]\u001B[A\n",
      "Processing mushroom.eu-tst.v1.jsonl:  90%|████████▉ | 89/99 [07:03<00:46,  4.65s/entry]\u001B[A\n",
      "Processing mushroom.eu-tst.v1.jsonl:  91%|█████████ | 90/99 [07:08<00:42,  4.68s/entry]\u001B[A\n",
      "Processing mushroom.eu-tst.v1.jsonl:  92%|█████████▏| 91/99 [07:10<00:32,  4.01s/entry]\u001B[A\n",
      "Processing mushroom.eu-tst.v1.jsonl:  93%|█████████▎| 92/99 [07:18<00:35,  5.09s/entry]\u001B[A\n",
      "Processing mushroom.eu-tst.v1.jsonl:  94%|█████████▍| 93/99 [07:25<00:34,  5.71s/entry]\u001B[A\n",
      "Processing mushroom.eu-tst.v1.jsonl:  95%|█████████▍| 94/99 [07:31<00:28,  5.77s/entry]\u001B[A\n",
      "Processing mushroom.eu-tst.v1.jsonl:  96%|█████████▌| 95/99 [07:38<00:24,  6.05s/entry]\u001B[A\n",
      "Processing mushroom.eu-tst.v1.jsonl:  97%|█████████▋| 96/99 [07:42<00:16,  5.50s/entry]\u001B[A\n",
      "Processing mushroom.eu-tst.v1.jsonl:  98%|█████████▊| 97/99 [07:45<00:09,  4.93s/entry]\u001B[A\n",
      "Processing mushroom.eu-tst.v1.jsonl:  99%|█████████▉| 98/99 [07:50<00:04,  4.68s/entry]\u001B[A\n",
      "Processing mushroom.eu-tst.v1.jsonl: 100%|██████████| 99/99 [09:18<00:00, 29.74s/entry]\u001B[A\n",
      "Processing Files:  50%|█████     | 7/14 [1:13:41<1:15:48, 649.77s/file]                \u001B[A"
     ]
    },
    {
     "name": "stdout",
     "output_type": "stream",
     "text": [
      "Request failed: HTTPSConnectionPool(host='api.openai.com', port=443): Max retries exceeded with url: /v1/chat/completions (Caused by ProxyError('Unable to connect to proxy', RemoteDisconnected('Remote end closed connection without response')))\n",
      "Processed and saved: ../data/test/detect_gpt4o_m2/mushroom.eu-tst.v1.jsonl\n"
     ]
    },
    {
     "name": "stderr",
     "output_type": "stream",
     "text": [
      "\n",
      "Processing mushroom.fa-tst.v1.jsonl:   0%|          | 0/100 [00:00<?, ?entry/s]\u001B[A\n",
      "Processing mushroom.fa-tst.v1.jsonl:   1%|          | 1/100 [00:07<11:39,  7.07s/entry]\u001B[A\n",
      "Processing mushroom.fa-tst.v1.jsonl:   2%|▏         | 2/100 [00:11<08:45,  5.36s/entry]\u001B[A\n",
      "Processing mushroom.fa-tst.v1.jsonl:   3%|▎         | 3/100 [00:14<07:05,  4.39s/entry]\u001B[A\n",
      "Processing mushroom.fa-tst.v1.jsonl:   4%|▍         | 4/100 [00:23<09:42,  6.07s/entry]\u001B[A"
     ]
    },
    {
     "name": "stdout",
     "output_type": "stream",
     "text": [
      "Request failed: HTTPSConnectionPool(host='api.openai.com', port=443): Max retries exceeded with url: /v1/chat/completions (Caused by SSLError(SSLZeroReturnError(6, 'TLS/SSL connection has been closed (EOF) (_ssl.c:1149)')))\n"
     ]
    },
    {
     "name": "stderr",
     "output_type": "stream",
     "text": [
      "\n",
      "Processing mushroom.fa-tst.v1.jsonl:   5%|▌         | 5/100 [00:30<10:30,  6.64s/entry]\u001B[A\n",
      "Processing mushroom.fa-tst.v1.jsonl:   6%|▌         | 6/100 [00:36<10:11,  6.50s/entry]\u001B[A\n",
      "Processing mushroom.fa-tst.v1.jsonl:   7%|▋         | 7/100 [00:41<09:00,  5.81s/entry]\u001B[A\n",
      "Processing mushroom.fa-tst.v1.jsonl:   8%|▊         | 8/100 [01:03<16:52, 11.01s/entry]\u001B[A"
     ]
    },
    {
     "name": "stdout",
     "output_type": "stream",
     "text": [
      "Request failed: HTTPSConnectionPool(host='api.openai.com', port=443): Max retries exceeded with url: /v1/chat/completions (Caused by ProxyError('Unable to connect to proxy', RemoteDisconnected('Remote end closed connection without response')))\n"
     ]
    },
    {
     "name": "stderr",
     "output_type": "stream",
     "text": [
      "\n",
      "Processing mushroom.fa-tst.v1.jsonl:   9%|▉         | 9/100 [01:07<13:33,  8.94s/entry]\u001B[A\n",
      "Processing mushroom.fa-tst.v1.jsonl:  10%|█         | 10/100 [01:10<10:27,  6.97s/entry]\u001B[A\n",
      "Processing mushroom.fa-tst.v1.jsonl:  11%|█         | 11/100 [01:13<08:39,  5.84s/entry]\u001B[A\n",
      "Processing mushroom.fa-tst.v1.jsonl:  12%|█▏        | 12/100 [01:16<07:14,  4.94s/entry]\u001B[A\n",
      "Processing mushroom.fa-tst.v1.jsonl:  13%|█▎        | 13/100 [01:22<07:34,  5.23s/entry]\u001B[A\n",
      "Processing mushroom.fa-tst.v1.jsonl:  14%|█▍        | 14/100 [01:25<06:36,  4.61s/entry]\u001B[A\n",
      "Processing mushroom.fa-tst.v1.jsonl:  15%|█▌        | 15/100 [01:36<09:06,  6.43s/entry]\u001B[A\n",
      "Processing mushroom.fa-tst.v1.jsonl:  16%|█▌        | 16/100 [01:39<07:27,  5.33s/entry]\u001B[A\n",
      "Processing mushroom.fa-tst.v1.jsonl:  17%|█▋        | 17/100 [01:46<08:07,  5.87s/entry]\u001B[A\n",
      "Processing mushroom.fa-tst.v1.jsonl:  18%|█▊        | 18/100 [01:49<06:53,  5.05s/entry]\u001B[A\n",
      "Processing mushroom.fa-tst.v1.jsonl:  19%|█▉        | 19/100 [01:52<06:08,  4.55s/entry]\u001B[A\n",
      "Processing mushroom.fa-tst.v1.jsonl:  20%|██        | 20/100 [01:55<05:28,  4.10s/entry]\u001B[A\n",
      "Processing mushroom.fa-tst.v1.jsonl:  21%|██        | 21/100 [02:03<07:00,  5.32s/entry]\u001B[A\n",
      "Processing mushroom.fa-tst.v1.jsonl:  22%|██▏       | 22/100 [02:06<05:57,  4.59s/entry]\u001B[A\n",
      "Processing mushroom.fa-tst.v1.jsonl:  23%|██▎       | 23/100 [02:09<04:58,  3.88s/entry]\u001B[A\n",
      "Processing mushroom.fa-tst.v1.jsonl:  24%|██▍       | 24/100 [02:11<04:17,  3.39s/entry]\u001B[A\n",
      "Processing mushroom.fa-tst.v1.jsonl:  25%|██▌       | 25/100 [02:13<03:38,  2.91s/entry]\u001B[A"
     ]
    },
    {
     "name": "stdout",
     "output_type": "stream",
     "text": [
      "No valid JSON found in content: ```json\n",
      "[]\n",
      "```\n"
     ]
    },
    {
     "name": "stderr",
     "output_type": "stream",
     "text": [
      "\n",
      "Processing mushroom.fa-tst.v1.jsonl:  26%|██▌       | 26/100 [02:16<03:51,  3.13s/entry]\u001B[A\n",
      "Processing mushroom.fa-tst.v1.jsonl:  27%|██▋       | 27/100 [02:19<03:35,  2.95s/entry]\u001B[A\n",
      "Processing mushroom.fa-tst.v1.jsonl:  28%|██▊       | 28/100 [02:21<03:17,  2.75s/entry]\u001B[A\n",
      "Processing mushroom.fa-tst.v1.jsonl:  29%|██▉       | 29/100 [02:23<03:05,  2.61s/entry]\u001B[A\n",
      "Processing mushroom.fa-tst.v1.jsonl:  30%|███       | 30/100 [02:27<03:25,  2.93s/entry]\u001B[A\n",
      "Processing mushroom.fa-tst.v1.jsonl:  31%|███       | 31/100 [02:30<03:24,  2.97s/entry]\u001B[A\n",
      "Processing mushroom.fa-tst.v1.jsonl:  32%|███▏      | 32/100 [02:34<03:44,  3.31s/entry]\u001B[A\n",
      "Processing mushroom.fa-tst.v1.jsonl:  33%|███▎      | 33/100 [02:38<03:45,  3.36s/entry]\u001B[A\n",
      "Processing mushroom.fa-tst.v1.jsonl:  34%|███▍      | 34/100 [03:11<13:32, 12.31s/entry]\u001B[A\n",
      "Processing mushroom.fa-tst.v1.jsonl:  35%|███▌      | 35/100 [03:13<10:03,  9.29s/entry]\u001B[A\n",
      "Processing mushroom.fa-tst.v1.jsonl:  36%|███▌      | 36/100 [03:16<07:42,  7.22s/entry]\u001B[A\n",
      "Processing mushroom.fa-tst.v1.jsonl:  37%|███▋      | 37/100 [03:22<07:29,  7.14s/entry]\u001B[A\n",
      "Processing mushroom.fa-tst.v1.jsonl:  38%|███▊      | 38/100 [03:31<07:45,  7.51s/entry]\u001B[A\n",
      "Processing mushroom.fa-tst.v1.jsonl:  39%|███▉      | 39/100 [03:33<06:00,  5.91s/entry]\u001B[A\n",
      "Processing mushroom.fa-tst.v1.jsonl:  40%|████      | 40/100 [03:36<05:02,  5.04s/entry]\u001B[A\n",
      "Processing mushroom.fa-tst.v1.jsonl:  41%|████      | 41/100 [03:48<07:02,  7.17s/entry]\u001B[A\n",
      "Processing mushroom.fa-tst.v1.jsonl:  42%|████▏     | 42/100 [03:51<05:45,  5.96s/entry]\u001B[A\n",
      "Processing mushroom.fa-tst.v1.jsonl:  43%|████▎     | 43/100 [03:54<04:45,  5.00s/entry]\u001B[A\n",
      "Processing mushroom.fa-tst.v1.jsonl:  44%|████▍     | 44/100 [03:57<03:58,  4.25s/entry]\u001B[A\n",
      "Processing mushroom.fa-tst.v1.jsonl:  45%|████▌     | 45/100 [04:01<03:48,  4.16s/entry]\u001B[A\n",
      "Processing mushroom.fa-tst.v1.jsonl:  46%|████▌     | 46/100 [04:03<03:24,  3.79s/entry]\u001B[A\n",
      "Processing mushroom.fa-tst.v1.jsonl:  47%|████▋     | 47/100 [04:06<02:57,  3.34s/entry]\u001B[A"
     ]
    },
    {
     "name": "stdout",
     "output_type": "stream",
     "text": [
      "No valid JSON found in content: ```json\n",
      "[]\n",
      "```\n"
     ]
    },
    {
     "name": "stderr",
     "output_type": "stream",
     "text": [
      "\n",
      "Processing mushroom.fa-tst.v1.jsonl:  48%|████▊     | 48/100 [04:09<02:53,  3.33s/entry]\u001B[A\n",
      "Processing mushroom.fa-tst.v1.jsonl:  49%|████▉     | 49/100 [04:13<02:53,  3.40s/entry]\u001B[A"
     ]
    },
    {
     "name": "stdout",
     "output_type": "stream",
     "text": [
      "No valid JSON found in content: ```json\n",
      "[]\n",
      "```\n"
     ]
    },
    {
     "name": "stderr",
     "output_type": "stream",
     "text": [
      "\n",
      "Processing mushroom.fa-tst.v1.jsonl:  50%|█████     | 50/100 [04:17<02:58,  3.56s/entry]\u001B[A\n",
      "Processing mushroom.fa-tst.v1.jsonl:  51%|█████     | 51/100 [04:20<02:50,  3.47s/entry]\u001B[A\n",
      "Processing mushroom.fa-tst.v1.jsonl:  52%|█████▏    | 52/100 [04:23<02:46,  3.46s/entry]\u001B[A\n",
      "Processing mushroom.fa-tst.v1.jsonl:  53%|█████▎    | 53/100 [04:30<03:27,  4.41s/entry]\u001B[A\n",
      "Processing mushroom.fa-tst.v1.jsonl:  54%|█████▍    | 54/100 [04:34<03:12,  4.19s/entry]\u001B[A\n",
      "Processing mushroom.fa-tst.v1.jsonl:  55%|█████▌    | 55/100 [04:41<03:54,  5.22s/entry]\u001B[A\n",
      "Processing mushroom.fa-tst.v1.jsonl:  56%|█████▌    | 56/100 [05:19<11:01, 15.03s/entry]\u001B[A"
     ]
    },
    {
     "name": "stdout",
     "output_type": "stream",
     "text": [
      "Request failed: HTTPSConnectionPool(host='api.openai.com', port=443): Max retries exceeded with url: /v1/chat/completions (Caused by ProxyError('Unable to connect to proxy', RemoteDisconnected('Remote end closed connection without response')))\n"
     ]
    },
    {
     "name": "stderr",
     "output_type": "stream",
     "text": [
      "\n",
      "Processing mushroom.fa-tst.v1.jsonl:  57%|█████▋    | 57/100 [05:22<08:05, 11.29s/entry]\u001B[A\n",
      "Processing mushroom.fa-tst.v1.jsonl:  58%|█████▊    | 58/100 [05:26<06:24,  9.14s/entry]\u001B[A\n",
      "Processing mushroom.fa-tst.v1.jsonl:  59%|█████▉    | 59/100 [05:29<05:03,  7.40s/entry]\u001B[A\n",
      "Processing mushroom.fa-tst.v1.jsonl:  60%|██████    | 60/100 [06:53<20:17, 30.43s/entry]\u001B[A"
     ]
    },
    {
     "name": "stdout",
     "output_type": "stream",
     "text": [
      "Request failed: HTTPSConnectionPool(host='api.openai.com', port=443): Max retries exceeded with url: /v1/chat/completions (Caused by SSLError(SSLZeroReturnError(6, 'TLS/SSL connection has been closed (EOF) (_ssl.c:1149)')))\n"
     ]
    },
    {
     "name": "stderr",
     "output_type": "stream",
     "text": [
      "\n",
      "Processing mushroom.fa-tst.v1.jsonl:  61%|██████    | 61/100 [06:56<14:22, 22.12s/entry]\u001B[A\n",
      "Processing mushroom.fa-tst.v1.jsonl:  62%|██████▏   | 62/100 [07:00<10:35, 16.71s/entry]\u001B[A\n",
      "Processing mushroom.fa-tst.v1.jsonl:  63%|██████▎   | 63/100 [07:09<08:49, 14.32s/entry]\u001B[A"
     ]
    },
    {
     "name": "stdout",
     "output_type": "stream",
     "text": [
      "Request failed: HTTPSConnectionPool(host='api.openai.com', port=443): Max retries exceeded with url: /v1/chat/completions (Caused by SSLError(SSLZeroReturnError(6, 'TLS/SSL connection has been closed (EOF) (_ssl.c:1149)')))\n"
     ]
    },
    {
     "name": "stderr",
     "output_type": "stream",
     "text": [
      "\n",
      "Processing mushroom.fa-tst.v1.jsonl:  64%|██████▍   | 64/100 [07:12<06:37, 11.05s/entry]\u001B[A\n",
      "Processing mushroom.fa-tst.v1.jsonl:  65%|██████▌   | 65/100 [07:15<04:55,  8.46s/entry]\u001B[A\n",
      "Processing mushroom.fa-tst.v1.jsonl:  66%|██████▌   | 66/100 [07:17<03:43,  6.57s/entry]\u001B[A\n",
      "Processing mushroom.fa-tst.v1.jsonl:  67%|██████▋   | 67/100 [07:20<03:02,  5.54s/entry]\u001B[A\n",
      "Processing mushroom.fa-tst.v1.jsonl:  68%|██████▊   | 68/100 [07:23<02:37,  4.92s/entry]\u001B[A\n",
      "Processing mushroom.fa-tst.v1.jsonl:  69%|██████▉   | 69/100 [07:45<05:04,  9.82s/entry]\u001B[A\n",
      "Processing mushroom.fa-tst.v1.jsonl:  70%|███████   | 70/100 [07:49<04:04,  8.15s/entry]\u001B[A\n",
      "Processing mushroom.fa-tst.v1.jsonl:  71%|███████   | 71/100 [07:52<03:09,  6.52s/entry]\u001B[A\n",
      "Processing mushroom.fa-tst.v1.jsonl:  72%|███████▏  | 72/100 [07:54<02:25,  5.18s/entry]\u001B[A\n",
      "Processing mushroom.fa-tst.v1.jsonl:  73%|███████▎  | 73/100 [07:59<02:18,  5.11s/entry]\u001B[A\n",
      "Processing mushroom.fa-tst.v1.jsonl:  74%|███████▍  | 74/100 [08:05<02:20,  5.39s/entry]\u001B[A\n",
      "Processing mushroom.fa-tst.v1.jsonl:  75%|███████▌  | 75/100 [08:08<01:59,  4.78s/entry]\u001B[A\n",
      "Processing mushroom.fa-tst.v1.jsonl:  76%|███████▌  | 76/100 [08:11<01:38,  4.12s/entry]\u001B[A\n",
      "Processing mushroom.fa-tst.v1.jsonl:  77%|███████▋  | 77/100 [08:13<01:20,  3.50s/entry]\u001B[A\n",
      "Processing mushroom.fa-tst.v1.jsonl:  78%|███████▊  | 78/100 [08:16<01:14,  3.37s/entry]\u001B[A\n",
      "Processing mushroom.fa-tst.v1.jsonl:  79%|███████▉  | 79/100 [08:19<01:10,  3.38s/entry]\u001B[A\n",
      "Processing mushroom.fa-tst.v1.jsonl:  80%|████████  | 80/100 [08:24<01:13,  3.70s/entry]\u001B[A\n",
      "Processing mushroom.fa-tst.v1.jsonl:  81%|████████  | 81/100 [08:27<01:05,  3.46s/entry]\u001B[A\n",
      "Processing mushroom.fa-tst.v1.jsonl:  82%|████████▏ | 82/100 [08:34<01:22,  4.57s/entry]\u001B[A\n",
      "Processing mushroom.fa-tst.v1.jsonl:  83%|████████▎ | 83/100 [08:36<01:06,  3.89s/entry]\u001B[A\n",
      "Processing mushroom.fa-tst.v1.jsonl:  84%|████████▍ | 84/100 [08:44<01:21,  5.07s/entry]\u001B[A\n",
      "Processing mushroom.fa-tst.v1.jsonl:  85%|████████▌ | 85/100 [08:47<01:06,  4.46s/entry]\u001B[A\n",
      "Processing mushroom.fa-tst.v1.jsonl:  86%|████████▌ | 86/100 [08:49<00:53,  3.82s/entry]\u001B[A\n",
      "Processing mushroom.fa-tst.v1.jsonl:  87%|████████▋ | 87/100 [08:52<00:45,  3.48s/entry]\u001B[A\n",
      "Processing mushroom.fa-tst.v1.jsonl:  88%|████████▊ | 88/100 [08:55<00:39,  3.32s/entry]\u001B[A\n",
      "Processing mushroom.fa-tst.v1.jsonl:  89%|████████▉ | 89/100 [08:58<00:34,  3.13s/entry]\u001B[A\n",
      "Processing mushroom.fa-tst.v1.jsonl:  90%|█████████ | 90/100 [09:00<00:28,  2.86s/entry]\u001B[A\n",
      "Processing mushroom.fa-tst.v1.jsonl:  91%|█████████ | 91/100 [09:02<00:24,  2.72s/entry]\u001B[A\n",
      "Processing mushroom.fa-tst.v1.jsonl:  92%|█████████▏| 92/100 [09:05<00:22,  2.87s/entry]\u001B[A\n",
      "Processing mushroom.fa-tst.v1.jsonl:  93%|█████████▎| 93/100 [11:43<05:45, 49.29s/entry]\u001B[A"
     ]
    },
    {
     "name": "stdout",
     "output_type": "stream",
     "text": [
      "Request failed: HTTPSConnectionPool(host='api.openai.com', port=443): Max retries exceeded with url: /v1/chat/completions (Caused by SSLError(SSLZeroReturnError(6, 'TLS/SSL connection has been closed (EOF) (_ssl.c:1149)')))\n"
     ]
    },
    {
     "name": "stderr",
     "output_type": "stream",
     "text": [
      "\n",
      "Processing mushroom.fa-tst.v1.jsonl:  94%|█████████▍| 94/100 [11:51<03:42, 37.05s/entry]\u001B[A"
     ]
    },
    {
     "name": "stdout",
     "output_type": "stream",
     "text": [
      "Request failed: HTTPSConnectionPool(host='api.openai.com', port=443): Max retries exceeded with url: /v1/chat/completions (Caused by SSLError(SSLZeroReturnError(6, 'TLS/SSL connection has been closed (EOF) (_ssl.c:1149)')))\n"
     ]
    },
    {
     "name": "stderr",
     "output_type": "stream",
     "text": [
      "\n",
      "Processing mushroom.fa-tst.v1.jsonl:  95%|█████████▌| 95/100 [11:55<02:14, 26.90s/entry]\u001B[A\n",
      "Processing mushroom.fa-tst.v1.jsonl:  96%|█████████▌| 96/100 [12:04<01:26, 21.60s/entry]\u001B[A\n",
      "Processing mushroom.fa-tst.v1.jsonl:  97%|█████████▋| 97/100 [12:07<00:48, 16.07s/entry]\u001B[A\n",
      "Processing mushroom.fa-tst.v1.jsonl:  98%|█████████▊| 98/100 [12:10<00:24, 12.11s/entry]\u001B[A\n",
      "Processing mushroom.fa-tst.v1.jsonl:  99%|█████████▉| 99/100 [12:13<00:09,  9.26s/entry]\u001B[A\n",
      "Processing mushroom.fa-tst.v1.jsonl: 100%|██████████| 100/100 [12:15<00:00,  7.07s/entry]\u001B[A\n",
      "Processing Files:  57%|█████▋    | 8/14 [1:25:56<1:07:41, 676.92s/file]                  \u001B[A"
     ]
    },
    {
     "name": "stdout",
     "output_type": "stream",
     "text": [
      "No valid JSON found in content: ```json\n",
      "[]\n",
      "```\n",
      "Processed and saved: ../data/test/detect_gpt4o_m2/mushroom.fa-tst.v1.jsonl\n"
     ]
    },
    {
     "name": "stderr",
     "output_type": "stream",
     "text": [
      "\n",
      "Processing mushroom.fi-tst.v1.jsonl:   0%|          | 0/150 [00:00<?, ?entry/s]\u001B[A\n",
      "Processing mushroom.fi-tst.v1.jsonl:   1%|          | 1/150 [00:03<08:54,  3.58s/entry]\u001B[A\n",
      "Processing mushroom.fi-tst.v1.jsonl:   1%|▏         | 2/150 [00:11<15:06,  6.13s/entry]\u001B[A\n",
      "Processing mushroom.fi-tst.v1.jsonl:   2%|▏         | 3/150 [00:14<11:32,  4.71s/entry]\u001B[A"
     ]
    },
    {
     "name": "stdout",
     "output_type": "stream",
     "text": [
      "No valid JSON found in content: ```json\n",
      "[]\n",
      "```\n"
     ]
    },
    {
     "name": "stderr",
     "output_type": "stream",
     "text": [
      "\n",
      "Processing mushroom.fi-tst.v1.jsonl:   3%|▎         | 4/150 [00:21<13:10,  5.42s/entry]\u001B[A\n",
      "Processing mushroom.fi-tst.v1.jsonl:   3%|▎         | 5/150 [00:26<13:25,  5.56s/entry]\u001B[A\n",
      "Processing mushroom.fi-tst.v1.jsonl:   4%|▍         | 6/150 [00:30<12:08,  5.06s/entry]\u001B[A\n",
      "Processing mushroom.fi-tst.v1.jsonl:   5%|▍         | 7/150 [00:40<15:31,  6.51s/entry]\u001B[A\n",
      "Processing mushroom.fi-tst.v1.jsonl:   5%|▌         | 8/150 [00:46<14:59,  6.33s/entry]\u001B[A\n",
      "Processing mushroom.fi-tst.v1.jsonl:   6%|▌         | 9/150 [00:51<13:38,  5.81s/entry]\u001B[A\n",
      "Processing mushroom.fi-tst.v1.jsonl:   7%|▋         | 10/150 [00:53<11:20,  4.86s/entry]\u001B[A\n",
      "Processing mushroom.fi-tst.v1.jsonl:   7%|▋         | 11/150 [00:56<09:39,  4.17s/entry]\u001B[A\n",
      "Processing mushroom.fi-tst.v1.jsonl:   8%|▊         | 12/150 [01:01<10:18,  4.48s/entry]\u001B[A\n",
      "Processing mushroom.fi-tst.v1.jsonl:   9%|▊         | 13/150 [01:05<09:58,  4.37s/entry]\u001B[A\n",
      "Processing mushroom.fi-tst.v1.jsonl:   9%|▉         | 14/150 [01:29<23:00, 10.15s/entry]\u001B[A"
     ]
    },
    {
     "name": "stdout",
     "output_type": "stream",
     "text": [
      "Request failed: HTTPSConnectionPool(host='api.openai.com', port=443): Max retries exceeded with url: /v1/chat/completions (Caused by ProxyError('Unable to connect to proxy', RemoteDisconnected('Remote end closed connection without response')))\n"
     ]
    },
    {
     "name": "stderr",
     "output_type": "stream",
     "text": [
      "\n",
      "Processing mushroom.fi-tst.v1.jsonl:  10%|█         | 15/150 [01:32<18:22,  8.17s/entry]\u001B[A\n",
      "Processing mushroom.fi-tst.v1.jsonl:  11%|█         | 16/150 [02:19<43:51, 19.64s/entry]\u001B[A"
     ]
    },
    {
     "name": "stdout",
     "output_type": "stream",
     "text": [
      "Request failed: HTTPSConnectionPool(host='api.openai.com', port=443): Max retries exceeded with url: /v1/chat/completions (Caused by SSLError(SSLZeroReturnError(6, 'TLS/SSL connection has been closed (EOF) (_ssl.c:1149)')))\n"
     ]
    },
    {
     "name": "stderr",
     "output_type": "stream",
     "text": [
      "\n",
      "Processing mushroom.fi-tst.v1.jsonl:  11%|█▏        | 17/150 [02:24<34:21, 15.50s/entry]\u001B[A\n",
      "Processing mushroom.fi-tst.v1.jsonl:  12%|█▏        | 18/150 [02:31<28:04, 12.76s/entry]\u001B[A\n",
      "Processing mushroom.fi-tst.v1.jsonl:  13%|█▎        | 19/150 [02:39<24:53, 11.40s/entry]\u001B[A\n",
      "Processing mushroom.fi-tst.v1.jsonl:  13%|█▎        | 20/150 [02:41<18:23,  8.49s/entry]\u001B[A"
     ]
    },
    {
     "name": "stdout",
     "output_type": "stream",
     "text": [
      "No valid JSON found in content: ```json\n",
      "[]\n",
      "```\n"
     ]
    },
    {
     "name": "stderr",
     "output_type": "stream",
     "text": [
      "\n",
      "Processing mushroom.fi-tst.v1.jsonl:  14%|█▍        | 21/150 [02:47<16:42,  7.77s/entry]\u001B[A\n",
      "Processing mushroom.fi-tst.v1.jsonl:  15%|█▍        | 22/150 [02:53<15:25,  7.23s/entry]\u001B[A\n",
      "Processing mushroom.fi-tst.v1.jsonl:  15%|█▌        | 23/150 [02:55<12:16,  5.80s/entry]\u001B[A\n",
      "Processing mushroom.fi-tst.v1.jsonl:  16%|█▌        | 24/150 [03:01<11:51,  5.65s/entry]\u001B[A\n",
      "Processing mushroom.fi-tst.v1.jsonl:  17%|█▋        | 25/150 [03:18<19:02,  9.14s/entry]\u001B[A\n",
      "Processing mushroom.fi-tst.v1.jsonl:  17%|█▋        | 26/150 [03:22<15:44,  7.62s/entry]\u001B[A\n",
      "Processing mushroom.fi-tst.v1.jsonl:  18%|█▊        | 27/150 [03:34<18:35,  9.07s/entry]\u001B[A\n",
      "Processing mushroom.fi-tst.v1.jsonl:  19%|█▊        | 28/150 [03:37<14:24,  7.09s/entry]\u001B[A\n",
      "Processing mushroom.fi-tst.v1.jsonl:  19%|█▉        | 29/150 [03:43<13:35,  6.74s/entry]\u001B[A\n",
      "Processing mushroom.fi-tst.v1.jsonl:  20%|██        | 30/150 [03:49<13:01,  6.51s/entry]\u001B[A\n",
      "Processing mushroom.fi-tst.v1.jsonl:  21%|██        | 31/150 [04:09<21:01, 10.60s/entry]\u001B[A\n",
      "Processing mushroom.fi-tst.v1.jsonl:  21%|██▏       | 32/150 [04:16<18:38,  9.48s/entry]\u001B[A\n",
      "Processing mushroom.fi-tst.v1.jsonl:  22%|██▏       | 33/150 [04:20<15:30,  7.96s/entry]\u001B[A\n",
      "Processing mushroom.fi-tst.v1.jsonl:  23%|██▎       | 34/150 [04:25<13:27,  6.96s/entry]\u001B[A\n",
      "Processing mushroom.fi-tst.v1.jsonl:  23%|██▎       | 35/150 [04:32<13:37,  7.11s/entry]\u001B[A\n",
      "Processing mushroom.fi-tst.v1.jsonl:  24%|██▍       | 36/150 [04:36<11:48,  6.21s/entry]\u001B[A\n",
      "Processing mushroom.fi-tst.v1.jsonl:  25%|██▍       | 37/150 [04:43<11:51,  6.29s/entry]\u001B[A\n",
      "Processing mushroom.fi-tst.v1.jsonl:  25%|██▌       | 38/150 [04:45<09:35,  5.14s/entry]\u001B[A"
     ]
    },
    {
     "name": "stdout",
     "output_type": "stream",
     "text": [
      "No valid JSON found in content: ```json\n",
      "[]\n",
      "```\n"
     ]
    },
    {
     "name": "stderr",
     "output_type": "stream",
     "text": [
      "\n",
      "Processing mushroom.fi-tst.v1.jsonl:  26%|██▌       | 39/150 [04:54<11:33,  6.25s/entry]\u001B[A\n",
      "Processing mushroom.fi-tst.v1.jsonl:  27%|██▋       | 40/150 [05:03<13:06,  7.15s/entry]\u001B[A\n",
      "Processing mushroom.fi-tst.v1.jsonl:  27%|██▋       | 41/150 [05:12<13:57,  7.69s/entry]\u001B[A\n",
      "Processing mushroom.fi-tst.v1.jsonl:  28%|██▊       | 42/150 [05:16<11:49,  6.57s/entry]\u001B[A\n",
      "Processing mushroom.fi-tst.v1.jsonl:  29%|██▊       | 43/150 [08:38<1:55:59, 65.04s/entry]\u001B[A"
     ]
    },
    {
     "name": "stdout",
     "output_type": "stream",
     "text": [
      "Request failed: HTTPSConnectionPool(host='api.openai.com', port=443): Max retries exceeded with url: /v1/chat/completions (Caused by SSLError(SSLZeroReturnError(6, 'TLS/SSL connection has been closed (EOF) (_ssl.c:1149)')))\n"
     ]
    },
    {
     "name": "stderr",
     "output_type": "stream",
     "text": [
      "\n",
      "Processing mushroom.fi-tst.v1.jsonl:  29%|██▉       | 44/150 [08:43<1:23:11, 47.09s/entry]\u001B[A\n",
      "Processing mushroom.fi-tst.v1.jsonl:  30%|███       | 45/150 [08:51<1:02:07, 35.50s/entry]\u001B[A\n",
      "Processing mushroom.fi-tst.v1.jsonl:  31%|███       | 46/150 [08:56<45:21, 26.17s/entry]  \u001B[A\n",
      "Processing mushroom.fi-tst.v1.jsonl:  31%|███▏      | 47/150 [09:02<34:34, 20.14s/entry]\u001B[A\n",
      "Processing mushroom.fi-tst.v1.jsonl:  32%|███▏      | 48/150 [09:13<29:32, 17.38s/entry]\u001B[A\n",
      "Processing mushroom.fi-tst.v1.jsonl:  33%|███▎      | 49/150 [09:17<22:37, 13.44s/entry]\u001B[A"
     ]
    },
    {
     "name": "stdout",
     "output_type": "stream",
     "text": [
      "No valid JSON found in content: ```json\n",
      "[]\n",
      "```\n"
     ]
    },
    {
     "name": "stderr",
     "output_type": "stream",
     "text": [
      "\n",
      "Processing mushroom.fi-tst.v1.jsonl:  33%|███▎      | 50/150 [09:26<20:18, 12.18s/entry]\u001B[A\n",
      "Processing mushroom.fi-tst.v1.jsonl:  34%|███▍      | 51/150 [09:31<16:19,  9.90s/entry]\u001B[A\n",
      "Processing mushroom.fi-tst.v1.jsonl:  35%|███▍      | 52/150 [09:35<13:22,  8.19s/entry]\u001B[A\n",
      "Processing mushroom.fi-tst.v1.jsonl:  35%|███▌      | 53/150 [09:40<11:48,  7.30s/entry]\u001B[A\n",
      "Processing mushroom.fi-tst.v1.jsonl:  36%|███▌      | 54/150 [09:52<13:40,  8.55s/entry]\u001B[A\n",
      "Processing mushroom.fi-tst.v1.jsonl:  37%|███▋      | 55/150 [09:56<11:20,  7.16s/entry]\u001B[A\n",
      "Processing mushroom.fi-tst.v1.jsonl:  37%|███▋      | 56/150 [10:05<12:02,  7.69s/entry]\u001B[A\n",
      "Processing mushroom.fi-tst.v1.jsonl:  38%|███▊      | 57/150 [10:16<13:37,  8.79s/entry]\u001B[A\n",
      "Processing mushroom.fi-tst.v1.jsonl:  39%|███▊      | 58/150 [10:49<24:44, 16.13s/entry]\u001B[A"
     ]
    },
    {
     "name": "stdout",
     "output_type": "stream",
     "text": [
      "Request failed: HTTPSConnectionPool(host='api.openai.com', port=443): Max retries exceeded with url: /v1/chat/completions (Caused by SSLError(SSLZeroReturnError(6, 'TLS/SSL connection has been closed (EOF) (_ssl.c:1149)')))\n"
     ]
    },
    {
     "name": "stderr",
     "output_type": "stream",
     "text": [
      "\n",
      "Processing mushroom.fi-tst.v1.jsonl:  39%|███▉      | 59/150 [10:56<19:59, 13.18s/entry]\u001B[A\n",
      "Processing mushroom.fi-tst.v1.jsonl:  40%|████      | 60/150 [11:14<22:10, 14.79s/entry]\u001B[A\n",
      "Processing mushroom.fi-tst.v1.jsonl:  41%|████      | 61/150 [11:17<16:46, 11.31s/entry]\u001B[A\n",
      "Processing mushroom.fi-tst.v1.jsonl:  41%|████▏     | 62/150 [11:25<14:48, 10.10s/entry]\u001B[A\n",
      "Processing mushroom.fi-tst.v1.jsonl:  42%|████▏     | 63/150 [11:30<12:27,  8.60s/entry]\u001B[A\n",
      "Processing mushroom.fi-tst.v1.jsonl:  43%|████▎     | 64/150 [11:38<12:17,  8.58s/entry]\u001B[A"
     ]
    },
    {
     "name": "stdout",
     "output_type": "stream",
     "text": [
      "Request failed: HTTPSConnectionPool(host='api.openai.com', port=443): Max retries exceeded with url: /v1/chat/completions (Caused by SSLError(SSLZeroReturnError(6, 'TLS/SSL connection has been closed (EOF) (_ssl.c:1149)')))\n"
     ]
    },
    {
     "name": "stderr",
     "output_type": "stream",
     "text": [
      "\n",
      "Processing mushroom.fi-tst.v1.jsonl:  43%|████▎     | 65/150 [11:46<12:00,  8.48s/entry]\u001B[A\n",
      "Processing mushroom.fi-tst.v1.jsonl:  44%|████▍     | 66/150 [11:49<09:26,  6.74s/entry]\u001B[A\n",
      "Processing mushroom.fi-tst.v1.jsonl:  45%|████▍     | 67/150 [11:52<07:49,  5.66s/entry]\u001B[A\n",
      "Processing mushroom.fi-tst.v1.jsonl:  45%|████▌     | 68/150 [12:00<08:27,  6.19s/entry]\u001B[A\n",
      "Processing mushroom.fi-tst.v1.jsonl:  46%|████▌     | 69/150 [12:08<09:07,  6.75s/entry]\u001B[A\n",
      "Processing mushroom.fi-tst.v1.jsonl:  47%|████▋     | 70/150 [12:38<18:15, 13.69s/entry]\u001B[A"
     ]
    },
    {
     "name": "stdout",
     "output_type": "stream",
     "text": [
      "Request failed: HTTPSConnectionPool(host='api.openai.com', port=443): Max retries exceeded with url: /v1/chat/completions (Caused by ProxyError('Unable to connect to proxy', RemoteDisconnected('Remote end closed connection without response')))\n"
     ]
    },
    {
     "name": "stderr",
     "output_type": "stream",
     "text": [
      "\n",
      "Processing mushroom.fi-tst.v1.jsonl:  47%|████▋     | 71/150 [12:44<15:03, 11.43s/entry]\u001B[A\n",
      "Processing mushroom.fi-tst.v1.jsonl:  48%|████▊     | 72/150 [12:51<13:17, 10.22s/entry]\u001B[A\n",
      "Processing mushroom.fi-tst.v1.jsonl:  49%|████▊     | 73/150 [12:55<10:38,  8.29s/entry]\u001B[A\n",
      "Processing mushroom.fi-tst.v1.jsonl:  49%|████▉     | 74/150 [13:03<10:27,  8.26s/entry]\u001B[A\n",
      "Processing mushroom.fi-tst.v1.jsonl:  50%|█████     | 75/150 [13:07<08:40,  6.94s/entry]\u001B[A\n",
      "Processing mushroom.fi-tst.v1.jsonl:  51%|█████     | 76/150 [13:16<09:29,  7.69s/entry]\u001B[A\n",
      "Processing mushroom.fi-tst.v1.jsonl:  51%|█████▏    | 77/150 [13:22<08:44,  7.19s/entry]\u001B[A\n",
      "Processing mushroom.fi-tst.v1.jsonl:  52%|█████▏    | 78/150 [13:32<09:29,  7.91s/entry]\u001B[A\n",
      "Processing mushroom.fi-tst.v1.jsonl:  53%|█████▎    | 79/150 [13:42<10:07,  8.55s/entry]\u001B[A\n",
      "Processing mushroom.fi-tst.v1.jsonl:  53%|█████▎    | 80/150 [13:48<09:07,  7.83s/entry]\u001B[A\n",
      "Processing mushroom.fi-tst.v1.jsonl:  54%|█████▍    | 81/150 [13:52<07:40,  6.68s/entry]\u001B[A\n",
      "Processing mushroom.fi-tst.v1.jsonl:  55%|█████▍    | 82/150 [16:10<52:01, 45.91s/entry]\u001B[A"
     ]
    },
    {
     "name": "stdout",
     "output_type": "stream",
     "text": [
      "Request failed: HTTPSConnectionPool(host='api.openai.com', port=443): Max retries exceeded with url: /v1/chat/completions (Caused by ProxyError('Unable to connect to proxy', RemoteDisconnected('Remote end closed connection without response')))\n"
     ]
    },
    {
     "name": "stderr",
     "output_type": "stream",
     "text": [
      "\n",
      "Processing mushroom.fi-tst.v1.jsonl:  55%|█████▌    | 83/150 [16:15<37:43, 33.78s/entry]\u001B[A\n",
      "Processing mushroom.fi-tst.v1.jsonl:  56%|█████▌    | 84/150 [16:22<28:10, 25.61s/entry]\u001B[A\n",
      "Processing mushroom.fi-tst.v1.jsonl:  57%|█████▋    | 85/150 [16:53<29:42, 27.42s/entry]\u001B[A\n",
      "Processing mushroom.fi-tst.v1.jsonl:  57%|█████▋    | 86/150 [16:59<22:13, 20.83s/entry]\u001B[A\n",
      "Processing mushroom.fi-tst.v1.jsonl:  58%|█████▊    | 87/150 [20:53<1:28:58, 84.73s/entry]\u001B[A"
     ]
    },
    {
     "name": "stdout",
     "output_type": "stream",
     "text": [
      "Request failed: HTTPSConnectionPool(host='api.openai.com', port=443): Max retries exceeded with url: /v1/chat/completions (Caused by SSLError(SSLZeroReturnError(6, 'TLS/SSL connection has been closed (EOF) (_ssl.c:1149)')))\n"
     ]
    },
    {
     "name": "stderr",
     "output_type": "stream",
     "text": [
      "\n",
      "Processing mushroom.fi-tst.v1.jsonl:  59%|█████▊    | 88/150 [20:55<1:02:00, 60.00s/entry]\u001B[A\n",
      "Processing mushroom.fi-tst.v1.jsonl:  59%|█████▉    | 89/150 [20:59<43:56, 43.22s/entry]  \u001B[A\n",
      "Processing mushroom.fi-tst.v1.jsonl:  60%|██████    | 90/150 [21:06<32:17, 32.29s/entry]\u001B[A\n",
      "Processing mushroom.fi-tst.v1.jsonl:  61%|██████    | 91/150 [21:10<23:35, 23.99s/entry]\u001B[A\n",
      "Processing mushroom.fi-tst.v1.jsonl:  61%|██████▏   | 92/150 [21:19<18:49, 19.47s/entry]\u001B[A\n",
      "Processing mushroom.fi-tst.v1.jsonl:  62%|██████▏   | 93/150 [21:23<14:05, 14.84s/entry]\u001B[A\n",
      "Processing mushroom.fi-tst.v1.jsonl:  63%|██████▎   | 94/150 [21:28<11:00, 11.80s/entry]\u001B[A\n",
      "Processing mushroom.fi-tst.v1.jsonl:  63%|██████▎   | 95/150 [21:33<08:53,  9.70s/entry]\u001B[A\n",
      "Processing mushroom.fi-tst.v1.jsonl:  64%|██████▍   | 96/150 [21:37<07:05,  7.88s/entry]\u001B[A\n",
      "Processing mushroom.fi-tst.v1.jsonl:  65%|██████▍   | 97/150 [21:42<06:15,  7.08s/entry]\u001B[A\n",
      "Processing mushroom.fi-tst.v1.jsonl:  65%|██████▌   | 98/150 [21:46<05:25,  6.25s/entry]\u001B[A\n",
      "Processing mushroom.fi-tst.v1.jsonl:  66%|██████▌   | 99/150 [21:50<04:43,  5.55s/entry]\u001B[A\n",
      "Processing mushroom.fi-tst.v1.jsonl:  67%|██████▋   | 100/150 [21:53<03:53,  4.66s/entry]\u001B[A\n",
      "Processing mushroom.fi-tst.v1.jsonl:  67%|██████▋   | 101/150 [21:56<03:29,  4.28s/entry]\u001B[A\n",
      "Processing mushroom.fi-tst.v1.jsonl:  68%|██████▊   | 102/150 [23:19<22:23, 27.98s/entry]\u001B[A"
     ]
    },
    {
     "name": "stdout",
     "output_type": "stream",
     "text": [
      "Request failed: Response ended prematurely\n"
     ]
    },
    {
     "name": "stderr",
     "output_type": "stream",
     "text": [
      "\n",
      "Processing mushroom.fi-tst.v1.jsonl:  69%|██████▊   | 103/150 [23:26<16:52, 21.54s/entry]\u001B[A\n",
      "Processing mushroom.fi-tst.v1.jsonl:  69%|██████▉   | 104/150 [23:31<12:44, 16.63s/entry]\u001B[A\n",
      "Processing mushroom.fi-tst.v1.jsonl:  70%|███████   | 105/150 [23:36<09:48, 13.08s/entry]\u001B[A\n",
      "Processing mushroom.fi-tst.v1.jsonl:  71%|███████   | 106/150 [23:40<07:44, 10.55s/entry]\u001B[A\n",
      "Processing mushroom.fi-tst.v1.jsonl:  71%|███████▏  | 107/150 [23:43<05:52,  8.19s/entry]\u001B[A\n",
      "Processing mushroom.fi-tst.v1.jsonl:  72%|███████▏  | 108/150 [24:00<07:29, 10.70s/entry]\u001B[A\n",
      "Processing mushroom.fi-tst.v1.jsonl:  73%|███████▎  | 109/150 [24:02<05:40,  8.31s/entry]\u001B[A\n",
      "Processing mushroom.fi-tst.v1.jsonl:  73%|███████▎  | 110/150 [24:08<05:04,  7.61s/entry]\u001B[A\n",
      "Processing mushroom.fi-tst.v1.jsonl:  74%|███████▍  | 111/150 [24:18<05:16,  8.12s/entry]\u001B[A\n",
      "Processing mushroom.fi-tst.v1.jsonl:  75%|███████▍  | 112/150 [24:21<04:12,  6.64s/entry]\u001B[A\n",
      "Processing mushroom.fi-tst.v1.jsonl:  75%|███████▌  | 113/150 [24:31<04:48,  7.79s/entry]\u001B[A\n",
      "Processing mushroom.fi-tst.v1.jsonl:  76%|███████▌  | 114/150 [27:44<38:00, 63.36s/entry]\u001B[A"
     ]
    },
    {
     "name": "stdout",
     "output_type": "stream",
     "text": [
      "Request failed: HTTPSConnectionPool(host='api.openai.com', port=443): Max retries exceeded with url: /v1/chat/completions (Caused by SSLError(SSLZeroReturnError(6, 'TLS/SSL connection has been closed (EOF) (_ssl.c:1149)')))\n"
     ]
    },
    {
     "name": "stderr",
     "output_type": "stream",
     "text": [
      "\n",
      "Processing mushroom.fi-tst.v1.jsonl:  77%|███████▋  | 115/150 [27:50<26:52, 46.06s/entry]\u001B[A\n",
      "Processing mushroom.fi-tst.v1.jsonl:  77%|███████▋  | 116/150 [27:56<19:15, 33.99s/entry]\u001B[A\n",
      "Processing mushroom.fi-tst.v1.jsonl:  78%|███████▊  | 117/150 [28:00<13:44, 24.99s/entry]\u001B[A\n",
      "Processing mushroom.fi-tst.v1.jsonl:  79%|███████▊  | 118/150 [28:06<10:18, 19.34s/entry]\u001B[A\n",
      "Processing mushroom.fi-tst.v1.jsonl:  79%|███████▉  | 119/150 [28:10<07:39, 14.84s/entry]\u001B[A\n",
      "Processing mushroom.fi-tst.v1.jsonl:  80%|████████  | 120/150 [28:19<06:29, 12.97s/entry]\u001B[A\n",
      "Processing mushroom.fi-tst.v1.jsonl:  81%|████████  | 121/150 [28:30<05:55, 12.26s/entry]\u001B[A\n",
      "Processing mushroom.fi-tst.v1.jsonl:  81%|████████▏ | 122/150 [28:34<04:38,  9.93s/entry]\u001B[A\n",
      "Processing mushroom.fi-tst.v1.jsonl:  82%|████████▏ | 123/150 [29:40<12:05, 26.89s/entry]\u001B[A"
     ]
    },
    {
     "name": "stdout",
     "output_type": "stream",
     "text": [
      "Request failed: HTTPSConnectionPool(host='api.openai.com', port=443): Max retries exceeded with url: /v1/chat/completions (Caused by SSLError(SSLZeroReturnError(6, 'TLS/SSL connection has been closed (EOF) (_ssl.c:1149)')))\n"
     ]
    },
    {
     "name": "stderr",
     "output_type": "stream",
     "text": [
      "\n",
      "Processing mushroom.fi-tst.v1.jsonl:  83%|████████▎ | 124/150 [29:48<09:07, 21.07s/entry]\u001B[A\n",
      "Processing mushroom.fi-tst.v1.jsonl:  83%|████████▎ | 125/150 [29:52<06:41, 16.04s/entry]\u001B[A\n",
      "Processing mushroom.fi-tst.v1.jsonl:  84%|████████▍ | 126/150 [29:57<05:02, 12.60s/entry]\u001B[A\n",
      "Processing mushroom.fi-tst.v1.jsonl:  85%|████████▍ | 127/150 [30:09<04:43, 12.32s/entry]\u001B[A\n",
      "Processing mushroom.fi-tst.v1.jsonl:  85%|████████▌ | 128/150 [30:12<03:31,  9.61s/entry]\u001B[A\n",
      "Processing mushroom.fi-tst.v1.jsonl:  86%|████████▌ | 129/150 [30:15<02:39,  7.58s/entry]\u001B[A\n",
      "Processing mushroom.fi-tst.v1.jsonl:  87%|████████▋ | 130/150 [30:48<05:05, 15.27s/entry]\u001B[A"
     ]
    },
    {
     "name": "stdout",
     "output_type": "stream",
     "text": [
      "Request failed: HTTPSConnectionPool(host='api.openai.com', port=443): Max retries exceeded with url: /v1/chat/completions (Caused by SSLError(SSLZeroReturnError(6, 'TLS/SSL connection has been closed (EOF) (_ssl.c:1149)')))\n"
     ]
    },
    {
     "name": "stderr",
     "output_type": "stream",
     "text": [
      "\n",
      "Processing mushroom.fi-tst.v1.jsonl:  87%|████████▋ | 131/150 [30:55<04:02, 12.75s/entry]\u001B[A\n",
      "Processing mushroom.fi-tst.v1.jsonl:  88%|████████▊ | 132/150 [34:13<20:33, 68.53s/entry]\u001B[A"
     ]
    },
    {
     "name": "stdout",
     "output_type": "stream",
     "text": [
      "Request failed: HTTPSConnectionPool(host='api.openai.com', port=443): Max retries exceeded with url: /v1/chat/completions (Caused by SSLError(SSLZeroReturnError(6, 'TLS/SSL connection has been closed (EOF) (_ssl.c:1149)')))\n"
     ]
    },
    {
     "name": "stderr",
     "output_type": "stream",
     "text": [
      "\n",
      "Processing mushroom.fi-tst.v1.jsonl:  89%|████████▊ | 133/150 [34:17<13:52, 48.95s/entry]\u001B[A\n",
      "Processing mushroom.fi-tst.v1.jsonl:  89%|████████▉ | 134/150 [34:20<09:24, 35.27s/entry]\u001B[A"
     ]
    },
    {
     "name": "stdout",
     "output_type": "stream",
     "text": [
      "No valid JSON found in content: []\n"
     ]
    },
    {
     "name": "stderr",
     "output_type": "stream",
     "text": [
      "\n",
      "Processing mushroom.fi-tst.v1.jsonl:  90%|█████████ | 135/150 [34:23<06:25, 25.69s/entry]\u001B[A\n",
      "Processing mushroom.fi-tst.v1.jsonl:  91%|█████████ | 136/150 [34:29<04:33, 19.57s/entry]\u001B[A\n",
      "Processing mushroom.fi-tst.v1.jsonl:  91%|█████████▏| 137/150 [34:33<03:16, 15.13s/entry]\u001B[A\n",
      "Processing mushroom.fi-tst.v1.jsonl:  92%|█████████▏| 138/150 [34:40<02:29, 12.50s/entry]\u001B[A\n",
      "Processing mushroom.fi-tst.v1.jsonl:  93%|█████████▎| 139/150 [35:13<03:25, 18.66s/entry]\u001B[A"
     ]
    },
    {
     "name": "stdout",
     "output_type": "stream",
     "text": [
      "Request failed: HTTPSConnectionPool(host='api.openai.com', port=443): Max retries exceeded with url: /v1/chat/completions (Caused by SSLError(SSLZeroReturnError(6, 'TLS/SSL connection has been closed (EOF) (_ssl.c:1149)')))\n"
     ]
    },
    {
     "name": "stderr",
     "output_type": "stream",
     "text": [
      "\n",
      "Processing mushroom.fi-tst.v1.jsonl:  93%|█████████▎| 140/150 [38:29<12:00, 72.05s/entry]\u001B[A"
     ]
    },
    {
     "name": "stdout",
     "output_type": "stream",
     "text": [
      "Request failed: HTTPSConnectionPool(host='api.openai.com', port=443): Max retries exceeded with url: /v1/chat/completions (Caused by ProxyError('Unable to connect to proxy', RemoteDisconnected('Remote end closed connection without response')))\n"
     ]
    },
    {
     "name": "stderr",
     "output_type": "stream",
     "text": [
      "\n",
      "Processing mushroom.fi-tst.v1.jsonl:  94%|█████████▍| 141/150 [38:45<08:17, 55.24s/entry]\u001B[A\n",
      "Processing mushroom.fi-tst.v1.jsonl:  95%|█████████▍| 142/150 [38:48<05:14, 39.32s/entry]\u001B[A"
     ]
    },
    {
     "name": "stdout",
     "output_type": "stream",
     "text": [
      "No valid JSON found in content: ```json\n",
      "[]\n",
      "```\n"
     ]
    },
    {
     "name": "stderr",
     "output_type": "stream",
     "text": [
      "\n",
      "Processing mushroom.fi-tst.v1.jsonl:  95%|█████████▌| 143/150 [38:53<03:24, 29.16s/entry]\u001B[A\n",
      "Processing mushroom.fi-tst.v1.jsonl:  96%|█████████▌| 144/150 [39:02<02:18, 23.15s/entry]\u001B[A\n",
      "Processing mushroom.fi-tst.v1.jsonl:  97%|█████████▋| 145/150 [39:07<01:28, 17.76s/entry]\u001B[A\n",
      "Processing mushroom.fi-tst.v1.jsonl:  97%|█████████▋| 146/150 [39:16<00:59, 14.87s/entry]\u001B[A\n",
      "Processing mushroom.fi-tst.v1.jsonl:  98%|█████████▊| 147/150 [39:19<00:34, 11.35s/entry]\u001B[A\n",
      "Processing mushroom.fi-tst.v1.jsonl:  99%|█████████▊| 148/150 [39:27<00:21, 10.53s/entry]\u001B[A"
     ]
    },
    {
     "name": "stdout",
     "output_type": "stream",
     "text": [
      "Request failed: HTTPSConnectionPool(host='api.openai.com', port=443): Max retries exceeded with url: /v1/chat/completions (Caused by SSLError(SSLZeroReturnError(6, 'TLS/SSL connection has been closed (EOF) (_ssl.c:1149)')))\n"
     ]
    },
    {
     "name": "stderr",
     "output_type": "stream",
     "text": [
      "\n",
      "Processing mushroom.fi-tst.v1.jsonl:  99%|█████████▉| 149/150 [39:32<00:08,  8.71s/entry]\u001B[A\n",
      "Processing mushroom.fi-tst.v1.jsonl: 100%|██████████| 150/150 [39:37<00:00,  7.59s/entry]\u001B[A\n",
      "Processing Files:  64%|██████▍   | 9/14 [2:05:33<1:40:42, 1208.48s/file]                 \u001B[A"
     ]
    },
    {
     "name": "stdout",
     "output_type": "stream",
     "text": [
      "Processed and saved: ../data/test/detect_gpt4o_m2/mushroom.fi-tst.v1.jsonl\n"
     ]
    },
    {
     "name": "stderr",
     "output_type": "stream",
     "text": [
      "\n",
      "Processing mushroom.fr-tst.v1.jsonl:   0%|          | 0/150 [00:00<?, ?entry/s]\u001B[A\n",
      "Processing mushroom.fr-tst.v1.jsonl:   1%|          | 1/150 [00:07<18:24,  7.42s/entry]\u001B[A\n",
      "Processing mushroom.fr-tst.v1.jsonl:   1%|▏         | 2/150 [00:12<14:22,  5.83s/entry]\u001B[A\n",
      "Processing mushroom.fr-tst.v1.jsonl:   2%|▏         | 3/150 [00:34<32:36, 13.31s/entry]\u001B[A"
     ]
    },
    {
     "name": "stdout",
     "output_type": "stream",
     "text": [
      "Request failed: HTTPSConnectionPool(host='api.openai.com', port=443): Max retries exceeded with url: /v1/chat/completions (Caused by ProxyError('Unable to connect to proxy', RemoteDisconnected('Remote end closed connection without response')))\n"
     ]
    },
    {
     "name": "stderr",
     "output_type": "stream",
     "text": [
      "\n",
      "Processing mushroom.fr-tst.v1.jsonl:   3%|▎         | 4/150 [00:44<29:16, 12.03s/entry]\u001B[A\n",
      "Processing mushroom.fr-tst.v1.jsonl:   3%|▎         | 5/150 [00:52<25:47, 10.67s/entry]\u001B[A\n",
      "Processing mushroom.fr-tst.v1.jsonl:   4%|▍         | 6/150 [00:56<19:52,  8.28s/entry]\u001B[A\n",
      "Processing mushroom.fr-tst.v1.jsonl:   5%|▍         | 7/150 [00:59<15:52,  6.66s/entry]\u001B[A\n",
      "Processing mushroom.fr-tst.v1.jsonl:   5%|▌         | 8/150 [04:08<2:32:42, 64.53s/entry]\u001B[A"
     ]
    },
    {
     "name": "stdout",
     "output_type": "stream",
     "text": [
      "Request failed: HTTPSConnectionPool(host='api.openai.com', port=443): Max retries exceeded with url: /v1/chat/completions (Caused by SSLError(SSLZeroReturnError(6, 'TLS/SSL connection has been closed (EOF) (_ssl.c:1149)')))\n"
     ]
    },
    {
     "name": "stderr",
     "output_type": "stream",
     "text": [
      "\n",
      "Processing mushroom.fr-tst.v1.jsonl:   6%|▌         | 9/150 [07:20<4:05:39, 104.54s/entry]\u001B[A"
     ]
    },
    {
     "name": "stdout",
     "output_type": "stream",
     "text": [
      "Request failed: HTTPSConnectionPool(host='api.openai.com', port=443): Max retries exceeded with url: /v1/chat/completions (Caused by SSLError(SSLZeroReturnError(6, 'TLS/SSL connection has been closed (EOF) (_ssl.c:1149)')))\n"
     ]
    },
    {
     "name": "stderr",
     "output_type": "stream",
     "text": [
      "\n",
      "Processing mushroom.fr-tst.v1.jsonl:   7%|▋         | 10/150 [07:24<2:51:17, 73.41s/entry]\u001B[A\n",
      "Processing mushroom.fr-tst.v1.jsonl:   7%|▋         | 11/150 [07:36<2:06:26, 54.58s/entry]\u001B[A\n",
      "Processing mushroom.fr-tst.v1.jsonl:   8%|▊         | 12/150 [07:39<1:29:25, 38.88s/entry]\u001B[A\n",
      "Processing mushroom.fr-tst.v1.jsonl:   9%|▊         | 13/150 [07:43<1:04:49, 28.39s/entry]\u001B[A\n",
      "Processing mushroom.fr-tst.v1.jsonl:   9%|▉         | 14/150 [07:49<49:10, 21.69s/entry]  \u001B[A\n",
      "Processing mushroom.fr-tst.v1.jsonl:  10%|█         | 15/150 [07:55<37:54, 16.85s/entry]\u001B[A\n",
      "Processing mushroom.fr-tst.v1.jsonl:  11%|█         | 16/150 [08:01<30:29, 13.65s/entry]\u001B[A\n",
      "Processing mushroom.fr-tst.v1.jsonl:  11%|█▏        | 17/150 [08:06<24:49, 11.20s/entry]\u001B[A\n",
      "Processing mushroom.fr-tst.v1.jsonl:  12%|█▏        | 18/150 [08:10<19:26,  8.84s/entry]\u001B[A\n",
      "Processing mushroom.fr-tst.v1.jsonl:  13%|█▎        | 19/150 [08:14<16:16,  7.45s/entry]\u001B[A\n",
      "Processing mushroom.fr-tst.v1.jsonl:  13%|█▎        | 20/150 [08:18<14:08,  6.53s/entry]\u001B[A\n",
      "Processing mushroom.fr-tst.v1.jsonl:  14%|█▍        | 21/150 [08:23<12:41,  5.90s/entry]\u001B[A\n",
      "Processing mushroom.fr-tst.v1.jsonl:  15%|█▍        | 22/150 [08:29<12:47,  6.00s/entry]\u001B[A\n",
      "Processing mushroom.fr-tst.v1.jsonl:  15%|█▌        | 23/150 [08:32<10:54,  5.16s/entry]\u001B[A"
     ]
    },
    {
     "name": "stdout",
     "output_type": "stream",
     "text": [
      "Failed to parse JSON content: [\n",
      "    {\"word\": \"550\", \"prob\": 0.8\"}\n",
      "]. Error: Expecting ',' delimiter: line 2 column 32 (char 33)\n"
     ]
    },
    {
     "name": "stderr",
     "output_type": "stream",
     "text": [
      "\n",
      "Processing mushroom.fr-tst.v1.jsonl:  16%|█▌        | 24/150 [08:38<10:58,  5.23s/entry]\u001B[A\n",
      "Processing mushroom.fr-tst.v1.jsonl:  17%|█▋        | 25/150 [08:43<10:51,  5.22s/entry]\u001B[A\n",
      "Processing mushroom.fr-tst.v1.jsonl:  17%|█▋        | 26/150 [08:46<09:35,  4.64s/entry]\u001B[A\n",
      "Processing mushroom.fr-tst.v1.jsonl:  18%|█▊        | 27/150 [08:51<09:40,  4.72s/entry]\u001B[A\n",
      "Processing mushroom.fr-tst.v1.jsonl:  19%|█▊        | 28/150 [08:58<10:53,  5.36s/entry]\u001B[A\n",
      "Processing mushroom.fr-tst.v1.jsonl:  19%|█▉        | 29/150 [09:01<09:27,  4.69s/entry]\u001B[A"
     ]
    },
    {
     "name": "stdout",
     "output_type": "stream",
     "text": [
      "Failed to parse JSON content: [\n",
      "    {\"word\": \"5\", \"prob\": 0.7\"},\n",
      "    {\"word\": \"000\", \"prob\": 0.7\"}\n",
      "]. Error: Expecting ',' delimiter: line 2 column 30 (char 31)\n"
     ]
    },
    {
     "name": "stderr",
     "output_type": "stream",
     "text": [
      "\n",
      "Processing mushroom.fr-tst.v1.jsonl:  20%|██        | 30/150 [09:04<08:06,  4.05s/entry]\u001B[A\n",
      "Processing mushroom.fr-tst.v1.jsonl:  21%|██        | 31/150 [09:26<18:50,  9.50s/entry]\u001B[A\n",
      "Processing mushroom.fr-tst.v1.jsonl:  21%|██▏       | 32/150 [09:29<15:12,  7.73s/entry]\u001B[A\n",
      "Processing mushroom.fr-tst.v1.jsonl:  22%|██▏       | 33/150 [09:33<12:42,  6.52s/entry]\u001B[A"
     ]
    },
    {
     "name": "stdout",
     "output_type": "stream",
     "text": [
      "Failed to parse JSON content: [\n",
      "    {\"word\": \"n'a\", \"prob\": 0.9},\n",
      "    {\"word\": \"pas\", \"prob\": 0.9\"},\n",
      "    {\"word\": \"remporté\", \"prob\": 0.9}\n",
      "]. Error: Expecting ',' delimiter: line 3 column 32 (char 67)\n"
     ]
    },
    {
     "name": "stderr",
     "output_type": "stream",
     "text": [
      "\n",
      "Processing mushroom.fr-tst.v1.jsonl:  23%|██▎       | 34/150 [09:35<10:06,  5.23s/entry]\u001B[A\n",
      "Processing mushroom.fr-tst.v1.jsonl:  23%|██▎       | 35/150 [09:38<08:40,  4.53s/entry]\u001B[A\n",
      "Processing mushroom.fr-tst.v1.jsonl:  24%|██▍       | 36/150 [09:41<07:48,  4.11s/entry]\u001B[A\n",
      "Processing mushroom.fr-tst.v1.jsonl:  25%|██▍       | 37/150 [09:45<07:38,  4.05s/entry]\u001B[A\n",
      "Processing mushroom.fr-tst.v1.jsonl:  25%|██▌       | 38/150 [09:50<07:54,  4.23s/entry]\u001B[A\n",
      "Processing mushroom.fr-tst.v1.jsonl:  26%|██▌       | 39/150 [09:54<07:40,  4.14s/entry]\u001B[A\n",
      "Processing mushroom.fr-tst.v1.jsonl:  27%|██▋       | 40/150 [10:02<09:40,  5.28s/entry]\u001B[A\n",
      "Processing mushroom.fr-tst.v1.jsonl:  27%|██▋       | 41/150 [10:07<09:42,  5.34s/entry]\u001B[A\n",
      "Processing mushroom.fr-tst.v1.jsonl:  28%|██▊       | 42/150 [10:29<18:20, 10.19s/entry]\u001B[A\n",
      "Processing mushroom.fr-tst.v1.jsonl:  29%|██▊       | 43/150 [10:37<17:07,  9.60s/entry]\u001B[A\n",
      "Processing mushroom.fr-tst.v1.jsonl:  29%|██▉       | 44/150 [10:45<15:57,  9.03s/entry]\u001B[A\n",
      "Processing mushroom.fr-tst.v1.jsonl:  30%|███       | 45/150 [10:48<12:40,  7.24s/entry]\u001B[A\n",
      "Processing mushroom.fr-tst.v1.jsonl:  31%|███       | 46/150 [10:56<12:57,  7.48s/entry]\u001B[A\n",
      "Processing mushroom.fr-tst.v1.jsonl:  31%|███▏      | 47/150 [11:00<11:18,  6.59s/entry]\u001B[A\n",
      "Processing mushroom.fr-tst.v1.jsonl:  32%|███▏      | 48/150 [11:05<10:25,  6.14s/entry]\u001B[A\n",
      "Processing mushroom.fr-tst.v1.jsonl:  33%|███▎      | 49/150 [11:14<11:40,  6.94s/entry]\u001B[A\n",
      "Processing mushroom.fr-tst.v1.jsonl:  33%|███▎      | 50/150 [11:19<10:22,  6.22s/entry]\u001B[A\n",
      "Processing mushroom.fr-tst.v1.jsonl:  34%|███▍      | 51/150 [11:21<08:29,  5.15s/entry]\u001B[A\n",
      "Processing mushroom.fr-tst.v1.jsonl:  35%|███▍      | 52/150 [11:36<12:58,  7.95s/entry]\u001B[A\n",
      "Processing mushroom.fr-tst.v1.jsonl:  35%|███▌      | 53/150 [11:40<10:56,  6.77s/entry]\u001B[A\n",
      "Processing mushroom.fr-tst.v1.jsonl:  36%|███▌      | 54/150 [11:42<08:45,  5.48s/entry]\u001B[A\n",
      "Processing mushroom.fr-tst.v1.jsonl:  37%|███▋      | 55/150 [11:47<08:30,  5.37s/entry]\u001B[A\n",
      "Processing mushroom.fr-tst.v1.jsonl:  37%|███▋      | 56/150 [11:55<09:21,  5.97s/entry]\u001B[A\n",
      "Processing mushroom.fr-tst.v1.jsonl:  38%|███▊      | 57/150 [12:00<08:52,  5.72s/entry]\u001B[A\n",
      "Processing mushroom.fr-tst.v1.jsonl:  39%|███▊      | 58/150 [12:08<09:40,  6.31s/entry]\u001B[A\n",
      "Processing mushroom.fr-tst.v1.jsonl:  39%|███▉      | 59/150 [12:12<08:45,  5.78s/entry]\u001B[A\n",
      "Processing mushroom.fr-tst.v1.jsonl:  40%|████      | 60/150 [12:20<09:40,  6.46s/entry]\u001B[A\n",
      "Processing mushroom.fr-tst.v1.jsonl:  41%|████      | 61/150 [12:27<09:28,  6.39s/entry]\u001B[A\n",
      "Processing mushroom.fr-tst.v1.jsonl:  41%|████▏     | 62/150 [12:36<10:39,  7.26s/entry]\u001B[A\n",
      "Processing mushroom.fr-tst.v1.jsonl:  42%|████▏     | 63/150 [12:38<08:22,  5.77s/entry]\u001B[A\n",
      "Processing mushroom.fr-tst.v1.jsonl:  43%|████▎     | 64/150 [12:43<07:48,  5.44s/entry]\u001B[A\n",
      "Processing mushroom.fr-tst.v1.jsonl:  43%|████▎     | 65/150 [12:48<07:38,  5.40s/entry]\u001B[A\n",
      "Processing mushroom.fr-tst.v1.jsonl:  44%|████▍     | 66/150 [12:56<08:31,  6.09s/entry]\u001B[A\n",
      "Processing mushroom.fr-tst.v1.jsonl:  45%|████▍     | 67/150 [13:04<09:07,  6.59s/entry]\u001B[A\n",
      "Processing mushroom.fr-tst.v1.jsonl:  45%|████▌     | 68/150 [13:10<09:09,  6.70s/entry]\u001B[A\n",
      "Processing mushroom.fr-tst.v1.jsonl:  46%|████▌     | 69/150 [13:15<08:16,  6.13s/entry]\u001B[A\n",
      "Processing mushroom.fr-tst.v1.jsonl:  47%|████▋     | 70/150 [13:19<07:01,  5.27s/entry]\u001B[A\n",
      "Processing mushroom.fr-tst.v1.jsonl:  47%|████▋     | 71/150 [13:21<05:48,  4.41s/entry]\u001B[A\n",
      "Processing mushroom.fr-tst.v1.jsonl:  48%|████▊     | 72/150 [13:23<04:56,  3.80s/entry]\u001B[A\n",
      "Processing mushroom.fr-tst.v1.jsonl:  49%|████▊     | 73/150 [13:26<04:33,  3.55s/entry]\u001B[A\n",
      "Processing mushroom.fr-tst.v1.jsonl:  49%|████▉     | 74/150 [13:30<04:34,  3.61s/entry]\u001B[A\n",
      "Processing mushroom.fr-tst.v1.jsonl:  50%|█████     | 75/150 [13:37<05:39,  4.53s/entry]\u001B[A\n",
      "Processing mushroom.fr-tst.v1.jsonl:  51%|█████     | 76/150 [13:41<05:19,  4.32s/entry]\u001B[A\n",
      "Processing mushroom.fr-tst.v1.jsonl:  51%|█████▏    | 77/150 [13:46<05:33,  4.57s/entry]\u001B[A\n",
      "Processing mushroom.fr-tst.v1.jsonl:  52%|█████▏    | 78/150 [13:50<05:33,  4.63s/entry]\u001B[A\n",
      "Processing mushroom.fr-tst.v1.jsonl:  53%|█████▎    | 79/150 [14:01<07:27,  6.30s/entry]\u001B[A\n",
      "Processing mushroom.fr-tst.v1.jsonl:  53%|█████▎    | 80/150 [14:09<08:13,  7.05s/entry]\u001B[A\n",
      "Processing mushroom.fr-tst.v1.jsonl:  54%|█████▍    | 81/150 [14:16<07:46,  6.76s/entry]\u001B[A\n",
      "Processing mushroom.fr-tst.v1.jsonl:  55%|█████▍    | 82/150 [14:21<07:20,  6.48s/entry]\u001B[A\n",
      "Processing mushroom.fr-tst.v1.jsonl:  55%|█████▌    | 83/150 [14:26<06:29,  5.81s/entry]\u001B[A\n",
      "Processing mushroom.fr-tst.v1.jsonl:  56%|█████▌    | 84/150 [14:29<05:26,  4.95s/entry]\u001B[A"
     ]
    },
    {
     "name": "stdout",
     "output_type": "stream",
     "text": [
      "No valid JSON found in content: ```json\n",
      "[]\n",
      "```\n"
     ]
    },
    {
     "name": "stderr",
     "output_type": "stream",
     "text": [
      "\n",
      "Processing mushroom.fr-tst.v1.jsonl:  57%|█████▋    | 85/150 [14:37<06:37,  6.11s/entry]\u001B[A\n",
      "Processing mushroom.fr-tst.v1.jsonl:  57%|█████▋    | 86/150 [14:40<05:16,  4.94s/entry]\u001B[A\n",
      "Processing mushroom.fr-tst.v1.jsonl:  58%|█████▊    | 87/150 [14:46<05:37,  5.35s/entry]\u001B[A\n",
      "Processing mushroom.fr-tst.v1.jsonl:  59%|█████▊    | 88/150 [15:00<08:14,  7.98s/entry]\u001B[A\n",
      "Processing mushroom.fr-tst.v1.jsonl:  59%|█████▉    | 89/150 [15:07<07:43,  7.60s/entry]\u001B[A\n",
      "Processing mushroom.fr-tst.v1.jsonl:  60%|██████    | 90/150 [15:11<06:44,  6.74s/entry]\u001B[A\n",
      "Processing mushroom.fr-tst.v1.jsonl:  61%|██████    | 91/150 [15:15<05:37,  5.72s/entry]\u001B[A\n",
      "Processing mushroom.fr-tst.v1.jsonl:  61%|██████▏   | 92/150 [15:28<07:34,  7.83s/entry]\u001B[A\n",
      "Processing mushroom.fr-tst.v1.jsonl:  62%|██████▏   | 93/150 [15:33<06:49,  7.18s/entry]\u001B[A\n",
      "Processing mushroom.fr-tst.v1.jsonl:  63%|██████▎   | 94/150 [15:36<05:35,  5.98s/entry]\u001B[A\n",
      "Processing mushroom.fr-tst.v1.jsonl:  63%|██████▎   | 95/150 [15:40<04:57,  5.41s/entry]\u001B[A\n",
      "Processing mushroom.fr-tst.v1.jsonl:  64%|██████▍   | 96/150 [15:45<04:40,  5.19s/entry]\u001B[A\n",
      "Processing mushroom.fr-tst.v1.jsonl:  65%|██████▍   | 97/150 [15:48<03:57,  4.48s/entry]\u001B[A\n",
      "Processing mushroom.fr-tst.v1.jsonl:  65%|██████▌   | 98/150 [15:50<03:21,  3.88s/entry]\u001B[A\n",
      "Processing mushroom.fr-tst.v1.jsonl:  66%|██████▌   | 99/150 [15:57<03:59,  4.70s/entry]\u001B[A\n",
      "Processing mushroom.fr-tst.v1.jsonl:  67%|██████▋   | 100/150 [16:03<04:07,  4.95s/entry]\u001B[A\n",
      "Processing mushroom.fr-tst.v1.jsonl:  67%|██████▋   | 101/150 [16:06<03:36,  4.42s/entry]\u001B[A\n",
      "Processing mushroom.fr-tst.v1.jsonl:  68%|██████▊   | 102/150 [16:09<03:21,  4.19s/entry]\u001B[A\n",
      "Processing mushroom.fr-tst.v1.jsonl:  69%|██████▊   | 103/150 [16:14<03:26,  4.39s/entry]\u001B[A\n",
      "Processing mushroom.fr-tst.v1.jsonl:  69%|██████▉   | 104/150 [16:16<02:48,  3.67s/entry]\u001B[A\n",
      "Processing mushroom.fr-tst.v1.jsonl:  70%|███████   | 105/150 [16:23<03:31,  4.71s/entry]\u001B[A\n",
      "Processing mushroom.fr-tst.v1.jsonl:  71%|███████   | 106/150 [16:26<02:58,  4.07s/entry]\u001B[A\n",
      "Processing mushroom.fr-tst.v1.jsonl:  71%|███████▏  | 107/150 [16:45<06:02,  8.43s/entry]\u001B[A\n",
      "Processing mushroom.fr-tst.v1.jsonl:  72%|███████▏  | 108/150 [16:47<04:43,  6.75s/entry]\u001B[A\n",
      "Processing mushroom.fr-tst.v1.jsonl:  73%|███████▎  | 109/150 [17:11<08:09, 11.93s/entry]\u001B[A\n",
      "Processing mushroom.fr-tst.v1.jsonl:  73%|███████▎  | 110/150 [17:16<06:26,  9.67s/entry]\u001B[A\n",
      "Processing mushroom.fr-tst.v1.jsonl:  74%|███████▍  | 111/150 [17:21<05:24,  8.32s/entry]\u001B[A\n",
      "Processing mushroom.fr-tst.v1.jsonl:  75%|███████▍  | 112/150 [17:25<04:28,  7.06s/entry]\u001B[A\n",
      "Processing mushroom.fr-tst.v1.jsonl:  75%|███████▌  | 113/150 [17:27<03:28,  5.64s/entry]\u001B[A\n",
      "Processing mushroom.fr-tst.v1.jsonl:  76%|███████▌  | 114/150 [17:30<02:49,  4.71s/entry]\u001B[A\n",
      "Processing mushroom.fr-tst.v1.jsonl:  77%|███████▋  | 115/150 [17:34<02:41,  4.61s/entry]\u001B[A\n",
      "Processing mushroom.fr-tst.v1.jsonl:  77%|███████▋  | 116/150 [17:47<03:59,  7.05s/entry]\u001B[A\n",
      "Processing mushroom.fr-tst.v1.jsonl:  78%|███████▊  | 117/150 [17:50<03:08,  5.70s/entry]\u001B[A\n",
      "Processing mushroom.fr-tst.v1.jsonl:  79%|███████▊  | 118/150 [17:54<02:49,  5.29s/entry]\u001B[A\n",
      "Processing mushroom.fr-tst.v1.jsonl:  79%|███████▉  | 119/150 [18:03<03:13,  6.25s/entry]\u001B[A\n",
      "Processing mushroom.fr-tst.v1.jsonl:  80%|████████  | 120/150 [18:05<02:34,  5.16s/entry]\u001B[A\n",
      "Processing mushroom.fr-tst.v1.jsonl:  81%|████████  | 121/150 [18:25<04:35,  9.49s/entry]\u001B[A\n",
      "Processing mushroom.fr-tst.v1.jsonl:  81%|████████▏ | 122/150 [18:34<04:27,  9.57s/entry]\u001B[A\n",
      "Processing mushroom.fr-tst.v1.jsonl:  82%|████████▏ | 123/150 [18:38<03:29,  7.75s/entry]\u001B[A\n",
      "Processing mushroom.fr-tst.v1.jsonl:  83%|████████▎ | 124/150 [18:42<02:51,  6.61s/entry]\u001B[A\n",
      "Processing mushroom.fr-tst.v1.jsonl:  83%|████████▎ | 125/150 [18:46<02:25,  5.84s/entry]\u001B[A\n",
      "Processing mushroom.fr-tst.v1.jsonl:  84%|████████▍ | 126/150 [18:50<02:07,  5.33s/entry]\u001B[A\n",
      "Processing mushroom.fr-tst.v1.jsonl:  85%|████████▍ | 127/150 [19:02<02:44,  7.15s/entry]\u001B[A\n",
      "Processing mushroom.fr-tst.v1.jsonl:  85%|████████▌ | 128/150 [19:05<02:15,  6.15s/entry]\u001B[A\n",
      "Processing mushroom.fr-tst.v1.jsonl:  86%|████████▌ | 129/150 [19:14<02:24,  6.89s/entry]\u001B[A\n",
      "Processing mushroom.fr-tst.v1.jsonl:  87%|████████▋ | 130/150 [19:18<02:00,  6.01s/entry]\u001B[A\n",
      "Processing mushroom.fr-tst.v1.jsonl:  87%|████████▋ | 131/150 [19:23<01:46,  5.60s/entry]\u001B[A\n",
      "Processing mushroom.fr-tst.v1.jsonl:  88%|████████▊ | 132/150 [19:30<01:49,  6.10s/entry]\u001B[A\n",
      "Processing mushroom.fr-tst.v1.jsonl:  89%|████████▊ | 133/150 [19:35<01:38,  5.78s/entry]\u001B[A\n",
      "Processing mushroom.fr-tst.v1.jsonl:  89%|████████▉ | 134/150 [19:41<01:32,  5.76s/entry]\u001B[A\n",
      "Processing mushroom.fr-tst.v1.jsonl:  90%|█████████ | 135/150 [19:50<01:44,  6.96s/entry]\u001B[A\n",
      "Processing mushroom.fr-tst.v1.jsonl:  91%|█████████ | 136/150 [19:53<01:19,  5.68s/entry]\u001B[A\n",
      "Processing mushroom.fr-tst.v1.jsonl:  91%|█████████▏| 137/150 [19:56<01:04,  4.94s/entry]\u001B[A\n",
      "Processing mushroom.fr-tst.v1.jsonl:  92%|█████████▏| 138/150 [19:59<00:53,  4.44s/entry]\u001B[A\n",
      "Processing mushroom.fr-tst.v1.jsonl:  93%|█████████▎| 139/150 [20:08<01:00,  5.52s/entry]\u001B[A\n",
      "Processing mushroom.fr-tst.v1.jsonl:  93%|█████████▎| 140/150 [20:10<00:47,  4.75s/entry]\u001B[A\n",
      "Processing mushroom.fr-tst.v1.jsonl:  94%|█████████▍| 141/150 [20:14<00:38,  4.25s/entry]\u001B[A\n",
      "Processing mushroom.fr-tst.v1.jsonl:  95%|█████████▍| 142/150 [20:16<00:30,  3.82s/entry]\u001B[A\n",
      "Processing mushroom.fr-tst.v1.jsonl:  95%|█████████▌| 143/150 [20:19<00:25,  3.57s/entry]\u001B[A\n",
      "Processing mushroom.fr-tst.v1.jsonl:  96%|█████████▌| 144/150 [20:23<00:21,  3.58s/entry]\u001B[A\n",
      "Processing mushroom.fr-tst.v1.jsonl:  97%|█████████▋| 145/150 [20:26<00:16,  3.39s/entry]\u001B[A\n",
      "Processing mushroom.fr-tst.v1.jsonl:  97%|█████████▋| 146/150 [20:30<00:13,  3.49s/entry]\u001B[A\n",
      "Processing mushroom.fr-tst.v1.jsonl:  98%|█████████▊| 147/150 [20:36<00:12,  4.23s/entry]\u001B[A\n",
      "Processing mushroom.fr-tst.v1.jsonl:  99%|█████████▊| 148/150 [20:38<00:07,  3.61s/entry]\u001B[A"
     ]
    },
    {
     "name": "stdout",
     "output_type": "stream",
     "text": [
      "No valid JSON found in content: ```json\n",
      "[]\n",
      "```\n"
     ]
    },
    {
     "name": "stderr",
     "output_type": "stream",
     "text": [
      "\n",
      "Processing mushroom.fr-tst.v1.jsonl:  99%|█████████▉| 149/150 [20:45<00:04,  4.64s/entry]\u001B[A\n",
      "Processing mushroom.fr-tst.v1.jsonl: 100%|██████████| 150/150 [20:51<00:00,  5.05s/entry]\u001B[A\n",
      "Processing Files:  71%|███████▏  | 10/14 [2:26:25<1:21:26, 1221.71s/file]                \u001B[A"
     ]
    },
    {
     "name": "stdout",
     "output_type": "stream",
     "text": [
      "Processed and saved: ../data/test/detect_gpt4o_m2/mushroom.fr-tst.v1.jsonl\n"
     ]
    },
    {
     "name": "stderr",
     "output_type": "stream",
     "text": [
      "\n",
      "Processing mushroom.hi-tst.v1.jsonl:   0%|          | 0/150 [00:00<?, ?entry/s]\u001B[A\n",
      "Processing mushroom.hi-tst.v1.jsonl:   1%|          | 1/150 [00:04<10:15,  4.13s/entry]\u001B[A\n",
      "Processing mushroom.hi-tst.v1.jsonl:   1%|▏         | 2/150 [00:08<10:15,  4.16s/entry]\u001B[A"
     ]
    },
    {
     "name": "stdout",
     "output_type": "stream",
     "text": [
      "Failed to parse JSON content: [\n",
      "    {\"word\": \"कोई\", \"prob\": 0.8\"},\n",
      "    {\"word\": \"नहीं\", \"prob\": 0.8\"}\n",
      "]. Error: Expecting ',' delimiter: line 2 column 32 (char 33)\n"
     ]
    },
    {
     "name": "stderr",
     "output_type": "stream",
     "text": [
      "\n",
      "Processing mushroom.hi-tst.v1.jsonl:   2%|▏         | 3/150 [01:15<1:20:11, 32.73s/entry]\u001B[A"
     ]
    },
    {
     "name": "stdout",
     "output_type": "stream",
     "text": [
      "Request failed: HTTPSConnectionPool(host='api.openai.com', port=443): Max retries exceeded with url: /v1/chat/completions (Caused by ProxyError('Unable to connect to proxy', RemoteDisconnected('Remote end closed connection without response')))\n"
     ]
    },
    {
     "name": "stderr",
     "output_type": "stream",
     "text": [
      "\n",
      "Processing mushroom.hi-tst.v1.jsonl:   3%|▎         | 4/150 [01:17<50:33, 20.77s/entry]  \u001B[A\n",
      "Processing mushroom.hi-tst.v1.jsonl:   3%|▎         | 5/150 [01:21<35:21, 14.63s/entry]\u001B[A\n",
      "Processing mushroom.hi-tst.v1.jsonl:   4%|▍         | 6/150 [01:36<35:46, 14.90s/entry]\u001B[A\n",
      "Processing mushroom.hi-tst.v1.jsonl:   5%|▍         | 7/150 [01:39<26:08, 10.97s/entry]\u001B[A\n",
      "Processing mushroom.hi-tst.v1.jsonl:   5%|▌         | 8/150 [01:42<19:53,  8.40s/entry]\u001B[A\n",
      "Processing mushroom.hi-tst.v1.jsonl:   6%|▌         | 9/150 [01:49<18:55,  8.05s/entry]\u001B[A\n",
      "Processing mushroom.hi-tst.v1.jsonl:   7%|▋         | 10/150 [01:51<14:34,  6.25s/entry]\u001B[A\n",
      "Processing mushroom.hi-tst.v1.jsonl:   7%|▋         | 11/150 [01:54<11:52,  5.13s/entry]\u001B[A\n",
      "Processing mushroom.hi-tst.v1.jsonl:   8%|▊         | 12/150 [01:58<10:41,  4.65s/entry]\u001B[A\n",
      "Processing mushroom.hi-tst.v1.jsonl:   9%|▊         | 13/150 [02:00<08:55,  3.91s/entry]\u001B[A\n",
      "Processing mushroom.hi-tst.v1.jsonl:   9%|▉         | 14/150 [02:06<10:12,  4.50s/entry]\u001B[A\n",
      "Processing mushroom.hi-tst.v1.jsonl:  10%|█         | 15/150 [02:10<09:54,  4.40s/entry]\u001B[A"
     ]
    },
    {
     "name": "stdout",
     "output_type": "stream",
     "text": [
      "Failed to parse JSON content: [\n",
      "    {\"word\": \"जगदीप धनखड़\", \"prob\": 0.7\"},\n",
      "    {\"word\": \"हिंदी\", \"prob\": 0.5}\n",
      "]. Error: Expecting ',' delimiter: line 2 column 40 (char 41)\n"
     ]
    },
    {
     "name": "stderr",
     "output_type": "stream",
     "text": [
      "\n",
      "Processing mushroom.hi-tst.v1.jsonl:  11%|█         | 16/150 [02:14<09:26,  4.23s/entry]\u001B[A\n",
      "Processing mushroom.hi-tst.v1.jsonl:  11%|█▏        | 17/150 [02:17<09:05,  4.10s/entry]\u001B[A\n",
      "Processing mushroom.hi-tst.v1.jsonl:  12%|█▏        | 18/150 [02:21<08:37,  3.92s/entry]\u001B[A\n",
      "Processing mushroom.hi-tst.v1.jsonl:  13%|█▎        | 19/150 [02:27<09:57,  4.56s/entry]\u001B[A\n",
      "Processing mushroom.hi-tst.v1.jsonl:  13%|█▎        | 20/150 [02:28<07:45,  3.58s/entry]\u001B[A"
     ]
    },
    {
     "name": "stdout",
     "output_type": "stream",
     "text": [
      "Request failed: ('Connection aborted.', ConnectionResetError(10054, '远程主机强迫关闭了一个现有的连接。', None, 10054, None))\n"
     ]
    },
    {
     "name": "stderr",
     "output_type": "stream",
     "text": [
      "\n",
      "Processing mushroom.hi-tst.v1.jsonl:  14%|█▍        | 21/150 [02:30<06:41,  3.11s/entry]\u001B[A"
     ]
    },
    {
     "name": "stdout",
     "output_type": "stream",
     "text": [
      "Request failed: HTTPSConnectionPool(host='api.openai.com', port=443): Max retries exceeded with url: /v1/chat/completions (Caused by ProxyError('Unable to connect to proxy', NewConnectionError('<urllib3.connection.HTTPSConnection object at 0x0000019E21A4D310>: Failed to establish a new connection: [WinError 10061] 由于目标计算机积极拒绝，无法连接。')))\n"
     ]
    },
    {
     "name": "stderr",
     "output_type": "stream",
     "text": [
      "\n",
      "Processing mushroom.hi-tst.v1.jsonl:  15%|█▍        | 22/150 [02:35<07:52,  3.69s/entry]\u001B[A\n",
      "Processing mushroom.hi-tst.v1.jsonl:  15%|█▌        | 23/150 [02:38<07:12,  3.40s/entry]\u001B[A\n",
      "Processing mushroom.hi-tst.v1.jsonl:  16%|█▌        | 24/150 [02:40<06:26,  3.07s/entry]\u001B[A\n",
      "Processing mushroom.hi-tst.v1.jsonl:  17%|█▋        | 25/150 [02:45<07:14,  3.47s/entry]\u001B[A\n",
      "Processing mushroom.hi-tst.v1.jsonl:  17%|█▋        | 26/150 [02:51<08:37,  4.17s/entry]\u001B[A\n",
      "Processing mushroom.hi-tst.v1.jsonl:  18%|█▊        | 27/150 [02:53<07:31,  3.67s/entry]\u001B[A\n",
      "Processing mushroom.hi-tst.v1.jsonl:  19%|█▊        | 28/150 [02:56<07:04,  3.48s/entry]\u001B[A\n",
      "Processing mushroom.hi-tst.v1.jsonl:  19%|█▉        | 29/150 [03:01<07:54,  3.92s/entry]\u001B[A\n",
      "Processing mushroom.hi-tst.v1.jsonl:  20%|██        | 30/150 [03:04<07:28,  3.73s/entry]\u001B[A\n",
      "Processing mushroom.hi-tst.v1.jsonl:  21%|██        | 31/150 [03:06<06:21,  3.21s/entry]\u001B[A"
     ]
    },
    {
     "name": "stdout",
     "output_type": "stream",
     "text": [
      "No valid JSON found in content: ```json\n",
      "[]\n",
      "```\n"
     ]
    },
    {
     "name": "stderr",
     "output_type": "stream",
     "text": [
      "\n",
      "Processing mushroom.hi-tst.v1.jsonl:  21%|██▏       | 32/150 [03:10<06:29,  3.30s/entry]\u001B[A\n",
      "Processing mushroom.hi-tst.v1.jsonl:  22%|██▏       | 33/150 [03:17<08:30,  4.36s/entry]\u001B[A\n",
      "Processing mushroom.hi-tst.v1.jsonl:  23%|██▎       | 34/150 [03:21<08:15,  4.27s/entry]\u001B[A\n",
      "Processing mushroom.hi-tst.v1.jsonl:  23%|██▎       | 35/150 [03:24<07:21,  3.84s/entry]\u001B[A\n",
      "Processing mushroom.hi-tst.v1.jsonl:  24%|██▍       | 36/150 [03:29<08:15,  4.35s/entry]\u001B[A\n",
      "Processing mushroom.hi-tst.v1.jsonl:  25%|██▍       | 37/150 [03:33<07:53,  4.19s/entry]\u001B[A\n",
      "Processing mushroom.hi-tst.v1.jsonl:  25%|██▌       | 38/150 [03:37<07:29,  4.01s/entry]\u001B[A\n",
      "Processing mushroom.hi-tst.v1.jsonl:  26%|██▌       | 39/150 [03:47<10:44,  5.81s/entry]\u001B[A\n",
      "Processing mushroom.hi-tst.v1.jsonl:  27%|██▋       | 40/150 [03:53<10:52,  5.93s/entry]\u001B[A\n",
      "Processing mushroom.hi-tst.v1.jsonl:  27%|██▋       | 41/150 [04:02<12:45,  7.03s/entry]\u001B[A\n",
      "Processing mushroom.hi-tst.v1.jsonl:  28%|██▊       | 42/150 [04:10<12:57,  7.20s/entry]\u001B[A"
     ]
    },
    {
     "name": "stdout",
     "output_type": "stream",
     "text": [
      "Failed to parse JSON content: [\n",
      "    {\"word\": \"चौदह\", \"prob\": 0.9\"}\n",
      "]. Error: Expecting ',' delimiter: line 2 column 33 (char 34)\n"
     ]
    },
    {
     "name": "stderr",
     "output_type": "stream",
     "text": [
      "\n",
      "Processing mushroom.hi-tst.v1.jsonl:  29%|██▊       | 43/150 [04:14<10:55,  6.12s/entry]\u001B[A\n",
      "Processing mushroom.hi-tst.v1.jsonl:  29%|██▉       | 44/150 [04:47<25:23, 14.37s/entry]\u001B[A\n",
      "Processing mushroom.hi-tst.v1.jsonl:  30%|███       | 45/150 [04:52<20:15, 11.58s/entry]\u001B[A\n",
      "Processing mushroom.hi-tst.v1.jsonl:  31%|███       | 46/150 [05:00<18:15, 10.53s/entry]\u001B[A\n",
      "Processing mushroom.hi-tst.v1.jsonl:  31%|███▏      | 47/150 [05:03<14:12,  8.28s/entry]\u001B[A"
     ]
    },
    {
     "name": "stdout",
     "output_type": "stream",
     "text": [
      "Failed to parse JSON content: [\n",
      "    {\"word\": \"मछली\", \"prob\": 0.8\"}\n",
      "]. Error: Expecting ',' delimiter: line 2 column 33 (char 34)\n"
     ]
    },
    {
     "name": "stderr",
     "output_type": "stream",
     "text": [
      "\n",
      "Processing mushroom.hi-tst.v1.jsonl:  32%|███▏      | 48/150 [05:11<13:58,  8.22s/entry]\u001B[A\n",
      "Processing mushroom.hi-tst.v1.jsonl:  33%|███▎      | 49/150 [05:14<11:02,  6.56s/entry]\u001B[A\n",
      "Processing mushroom.hi-tst.v1.jsonl:  33%|███▎      | 50/150 [05:20<10:30,  6.30s/entry]\u001B[A\n",
      "Processing mushroom.hi-tst.v1.jsonl:  34%|███▍      | 51/150 [05:23<09:02,  5.48s/entry]\u001B[A\n",
      "Processing mushroom.hi-tst.v1.jsonl:  35%|███▍      | 52/150 [05:28<08:16,  5.07s/entry]\u001B[A\n",
      "Processing mushroom.hi-tst.v1.jsonl:  35%|███▌      | 53/150 [05:31<07:31,  4.65s/entry]\u001B[A\n",
      "Processing mushroom.hi-tst.v1.jsonl:  36%|███▌      | 54/150 [05:37<08:11,  5.12s/entry]\u001B[A\n",
      "Processing mushroom.hi-tst.v1.jsonl:  37%|███▋      | 55/150 [05:42<07:40,  4.85s/entry]\u001B[A\n",
      "Processing mushroom.hi-tst.v1.jsonl:  37%|███▋      | 56/150 [05:44<06:21,  4.06s/entry]\u001B[A\n",
      "Processing mushroom.hi-tst.v1.jsonl:  38%|███▊      | 57/150 [05:46<05:35,  3.61s/entry]\u001B[A\n",
      "Processing mushroom.hi-tst.v1.jsonl:  39%|███▊      | 58/150 [05:58<09:25,  6.15s/entry]\u001B[A\n",
      "Processing mushroom.hi-tst.v1.jsonl:  39%|███▉      | 59/150 [06:05<09:29,  6.26s/entry]\u001B[A\n",
      "Processing mushroom.hi-tst.v1.jsonl:  40%|████      | 60/150 [06:08<07:53,  5.26s/entry]\u001B[A\n",
      "Processing mushroom.hi-tst.v1.jsonl:  41%|████      | 61/150 [06:12<07:08,  4.82s/entry]\u001B[A\n",
      "Processing mushroom.hi-tst.v1.jsonl:  41%|████▏     | 62/150 [06:20<08:42,  5.94s/entry]\u001B[A\n",
      "Processing mushroom.hi-tst.v1.jsonl:  42%|████▏     | 63/150 [06:24<07:32,  5.20s/entry]\u001B[A\n",
      "Processing mushroom.hi-tst.v1.jsonl:  43%|████▎     | 64/150 [06:29<07:17,  5.09s/entry]\u001B[A\n",
      "Processing mushroom.hi-tst.v1.jsonl:  43%|████▎     | 65/150 [06:31<06:00,  4.24s/entry]\u001B[A\n",
      "Processing mushroom.hi-tst.v1.jsonl:  44%|████▍     | 66/150 [06:34<05:25,  3.87s/entry]\u001B[A\n",
      "Processing mushroom.hi-tst.v1.jsonl:  45%|████▍     | 67/150 [06:41<06:39,  4.81s/entry]\u001B[A\n",
      "Processing mushroom.hi-tst.v1.jsonl:  45%|████▌     | 68/150 [06:48<07:27,  5.46s/entry]\u001B[A\n",
      "Processing mushroom.hi-tst.v1.jsonl:  46%|████▌     | 69/150 [06:52<06:52,  5.09s/entry]\u001B[A\n",
      "Processing mushroom.hi-tst.v1.jsonl:  47%|████▋     | 70/150 [06:55<05:52,  4.40s/entry]\u001B[A\n",
      "Processing mushroom.hi-tst.v1.jsonl:  47%|████▋     | 71/150 [07:00<05:59,  4.55s/entry]\u001B[A\n",
      "Processing mushroom.hi-tst.v1.jsonl:  48%|████▊     | 72/150 [07:09<07:52,  6.05s/entry]\u001B[A\n",
      "Processing mushroom.hi-tst.v1.jsonl:  49%|████▊     | 73/150 [07:14<07:17,  5.68s/entry]\u001B[A\n",
      "Processing mushroom.hi-tst.v1.jsonl:  49%|████▉     | 74/150 [07:17<06:09,  4.87s/entry]\u001B[A\n",
      "Processing mushroom.hi-tst.v1.jsonl:  50%|█████     | 75/150 [07:21<05:33,  4.44s/entry]\u001B[A\n",
      "Processing mushroom.hi-tst.v1.jsonl:  51%|█████     | 76/150 [07:25<05:34,  4.52s/entry]\u001B[A\n",
      "Processing mushroom.hi-tst.v1.jsonl:  51%|█████▏    | 77/150 [07:28<04:41,  3.85s/entry]\u001B[A\n",
      "Processing mushroom.hi-tst.v1.jsonl:  52%|█████▏    | 78/150 [07:30<04:07,  3.44s/entry]\u001B[A\n",
      "Processing mushroom.hi-tst.v1.jsonl:  53%|█████▎    | 79/150 [07:33<04:03,  3.43s/entry]\u001B[A\n",
      "Processing mushroom.hi-tst.v1.jsonl:  53%|█████▎    | 80/150 [07:38<04:19,  3.71s/entry]\u001B[A\n",
      "Processing mushroom.hi-tst.v1.jsonl:  54%|█████▍    | 81/150 [07:41<04:04,  3.54s/entry]\u001B[A\n",
      "Processing mushroom.hi-tst.v1.jsonl:  55%|█████▍    | 82/150 [07:45<04:18,  3.80s/entry]\u001B[A\n",
      "Processing mushroom.hi-tst.v1.jsonl:  55%|█████▌    | 83/150 [07:49<04:14,  3.80s/entry]\u001B[A\n",
      "Processing mushroom.hi-tst.v1.jsonl:  56%|█████▌    | 84/150 [07:53<04:06,  3.73s/entry]\u001B[A"
     ]
    },
    {
     "name": "stdout",
     "output_type": "stream",
     "text": [
      "No valid JSON found in content: ```json\n",
      "[]\n",
      "```\n"
     ]
    },
    {
     "name": "stderr",
     "output_type": "stream",
     "text": [
      "\n",
      "Processing mushroom.hi-tst.v1.jsonl:  57%|█████▋    | 85/150 [07:58<04:38,  4.29s/entry]\u001B[A\n",
      "Processing mushroom.hi-tst.v1.jsonl:  57%|█████▋    | 86/150 [08:01<04:12,  3.94s/entry]\u001B[A\n",
      "Processing mushroom.hi-tst.v1.jsonl:  58%|█████▊    | 87/150 [08:05<04:07,  3.93s/entry]\u001B[A\n",
      "Processing mushroom.hi-tst.v1.jsonl:  59%|█████▊    | 88/150 [08:09<03:51,  3.73s/entry]\u001B[A"
     ]
    },
    {
     "name": "stdout",
     "output_type": "stream",
     "text": [
      "No valid JSON found in content: ```json\n",
      "[]\n",
      "```\n"
     ]
    },
    {
     "name": "stderr",
     "output_type": "stream",
     "text": [
      "\n",
      "Processing mushroom.hi-tst.v1.jsonl:  59%|█████▉    | 89/150 [08:12<03:48,  3.74s/entry]\u001B[A\n",
      "Processing mushroom.hi-tst.v1.jsonl:  60%|██████    | 90/150 [08:17<03:53,  3.90s/entry]\u001B[A\n",
      "Processing mushroom.hi-tst.v1.jsonl:  61%|██████    | 91/150 [08:20<03:46,  3.84s/entry]\u001B[A\n",
      "Processing mushroom.hi-tst.v1.jsonl:  61%|██████▏   | 92/150 [08:26<04:09,  4.30s/entry]\u001B[A"
     ]
    },
    {
     "name": "stdout",
     "output_type": "stream",
     "text": [
      "Failed to parse JSON content: [\n",
      "    {\"word\": \"नहीं\", \"prob\": 0.9\"}\n",
      "]. Error: Expecting ',' delimiter: line 2 column 33 (char 34)\n"
     ]
    },
    {
     "name": "stderr",
     "output_type": "stream",
     "text": [
      "\n",
      "Processing mushroom.hi-tst.v1.jsonl:  62%|██████▏   | 93/150 [08:35<05:34,  5.88s/entry]\u001B[A\n",
      "Processing mushroom.hi-tst.v1.jsonl:  63%|██████▎   | 94/150 [08:39<04:55,  5.27s/entry]\u001B[A\n",
      "Processing mushroom.hi-tst.v1.jsonl:  63%|██████▎   | 95/150 [08:43<04:19,  4.72s/entry]\u001B[A\n",
      "Processing mushroom.hi-tst.v1.jsonl:  64%|██████▍   | 96/150 [08:45<03:40,  4.08s/entry]\u001B[A"
     ]
    },
    {
     "name": "stdout",
     "output_type": "stream",
     "text": [
      "Failed to parse JSON content: [\n",
      "    {\"word\": \"१०\", \"prob\": 0.9\"}\n",
      "]. Error: Expecting ',' delimiter: line 2 column 31 (char 32)\n"
     ]
    },
    {
     "name": "stderr",
     "output_type": "stream",
     "text": [
      "\n",
      "Processing mushroom.hi-tst.v1.jsonl:  65%|██████▍   | 97/150 [08:48<03:10,  3.60s/entry]\u001B[A\n",
      "Processing mushroom.hi-tst.v1.jsonl:  65%|██████▌   | 98/150 [08:50<02:53,  3.33s/entry]\u001B[A\n",
      "Processing mushroom.hi-tst.v1.jsonl:  66%|██████▌   | 99/150 [08:54<02:56,  3.46s/entry]\u001B[A\n",
      "Processing mushroom.hi-tst.v1.jsonl:  67%|██████▋   | 100/150 [08:57<02:50,  3.41s/entry]\u001B[A\n",
      "Processing mushroom.hi-tst.v1.jsonl:  67%|██████▋   | 101/150 [09:04<03:35,  4.41s/entry]\u001B[A\n",
      "Processing mushroom.hi-tst.v1.jsonl:  68%|██████▊   | 102/150 [09:07<03:16,  4.08s/entry]\u001B[A\n",
      "Processing mushroom.hi-tst.v1.jsonl:  69%|██████▊   | 103/150 [09:11<03:02,  3.89s/entry]\u001B[A\n",
      "Processing mushroom.hi-tst.v1.jsonl:  69%|██████▉   | 104/150 [09:19<04:00,  5.22s/entry]\u001B[A\n",
      "Processing mushroom.hi-tst.v1.jsonl:  70%|███████   | 105/150 [09:25<04:05,  5.46s/entry]\u001B[A\n",
      "Processing mushroom.hi-tst.v1.jsonl:  71%|███████   | 106/150 [09:29<03:32,  4.83s/entry]\u001B[A\n",
      "Processing mushroom.hi-tst.v1.jsonl:  71%|███████▏  | 107/150 [09:32<03:07,  4.37s/entry]\u001B[A\n",
      "Processing mushroom.hi-tst.v1.jsonl:  72%|███████▏  | 108/150 [09:34<02:35,  3.70s/entry]\u001B[A\n",
      "Processing mushroom.hi-tst.v1.jsonl:  73%|███████▎  | 109/150 [09:36<02:15,  3.30s/entry]\u001B[A\n",
      "Processing mushroom.hi-tst.v1.jsonl:  73%|███████▎  | 110/150 [09:41<02:31,  3.79s/entry]\u001B[A\n",
      "Processing mushroom.hi-tst.v1.jsonl:  74%|███████▍  | 111/150 [09:45<02:28,  3.81s/entry]\u001B[A\n",
      "Processing mushroom.hi-tst.v1.jsonl:  75%|███████▍  | 112/150 [09:48<02:19,  3.67s/entry]\u001B[A\n",
      "Processing mushroom.hi-tst.v1.jsonl:  75%|███████▌  | 113/150 [09:51<02:03,  3.33s/entry]\u001B[A\n",
      "Processing mushroom.hi-tst.v1.jsonl:  76%|███████▌  | 114/150 [09:54<01:56,  3.23s/entry]\u001B[A\n",
      "Processing mushroom.hi-tst.v1.jsonl:  77%|███████▋  | 115/150 [09:58<01:58,  3.40s/entry]\u001B[A\n",
      "Processing mushroom.hi-tst.v1.jsonl:  77%|███████▋  | 116/150 [10:02<02:06,  3.71s/entry]\u001B[A\n",
      "Processing mushroom.hi-tst.v1.jsonl:  78%|███████▊  | 117/150 [10:05<01:48,  3.29s/entry]\u001B[A\n",
      "Processing mushroom.hi-tst.v1.jsonl:  79%|███████▊  | 118/150 [10:10<02:02,  3.83s/entry]\u001B[A\n",
      "Processing mushroom.hi-tst.v1.jsonl:  79%|███████▉  | 119/150 [10:13<01:56,  3.75s/entry]\u001B[A\n",
      "Processing mushroom.hi-tst.v1.jsonl:  80%|████████  | 120/150 [10:16<01:40,  3.36s/entry]\u001B[A\n",
      "Processing mushroom.hi-tst.v1.jsonl:  81%|████████  | 121/150 [11:21<10:36, 21.95s/entry]\u001B[A"
     ]
    },
    {
     "name": "stdout",
     "output_type": "stream",
     "text": [
      "Request failed: HTTPSConnectionPool(host='api.openai.com', port=443): Max retries exceeded with url: /v1/chat/completions (Caused by SSLError(SSLZeroReturnError(6, 'TLS/SSL connection has been closed (EOF) (_ssl.c:1149)')))\n"
     ]
    },
    {
     "name": "stderr",
     "output_type": "stream",
     "text": [
      "\n",
      "Processing mushroom.hi-tst.v1.jsonl:  81%|████████▏ | 122/150 [11:25<07:45, 16.63s/entry]\u001B[A\n",
      "Processing mushroom.hi-tst.v1.jsonl:  82%|████████▏ | 123/150 [11:28<05:33, 12.36s/entry]\u001B[A\n",
      "Processing mushroom.hi-tst.v1.jsonl:  83%|████████▎ | 124/150 [11:32<04:18,  9.96s/entry]\u001B[A\n",
      "Processing mushroom.hi-tst.v1.jsonl:  83%|████████▎ | 125/150 [11:35<03:20,  8.03s/entry]\u001B[A\n",
      "Processing mushroom.hi-tst.v1.jsonl:  84%|████████▍ | 126/150 [11:38<02:36,  6.51s/entry]\u001B[A\n",
      "Processing mushroom.hi-tst.v1.jsonl:  85%|████████▍ | 127/150 [11:41<02:00,  5.22s/entry]\u001B[A\n",
      "Processing mushroom.hi-tst.v1.jsonl:  85%|████████▌ | 128/150 [11:43<01:38,  4.46s/entry]\u001B[A\n",
      "Processing mushroom.hi-tst.v1.jsonl:  86%|████████▌ | 129/150 [11:47<01:26,  4.11s/entry]\u001B[A\n",
      "Processing mushroom.hi-tst.v1.jsonl:  87%|████████▋ | 130/150 [11:50<01:16,  3.85s/entry]\u001B[A\n",
      "Processing mushroom.hi-tst.v1.jsonl:  87%|████████▋ | 131/150 [11:57<01:34,  4.98s/entry]\u001B[A\n",
      "Processing mushroom.hi-tst.v1.jsonl:  88%|████████▊ | 132/150 [12:02<01:27,  4.84s/entry]\u001B[A\n",
      "Processing mushroom.hi-tst.v1.jsonl:  89%|████████▊ | 133/150 [12:07<01:20,  4.76s/entry]\u001B[A\n",
      "Processing mushroom.hi-tst.v1.jsonl:  89%|████████▉ | 134/150 [12:11<01:15,  4.71s/entry]\u001B[A\n",
      "Processing mushroom.hi-tst.v1.jsonl:  90%|█████████ | 135/150 [12:15<01:08,  4.58s/entry]\u001B[A\n",
      "Processing mushroom.hi-tst.v1.jsonl:  91%|█████████ | 136/150 [12:19<00:59,  4.23s/entry]\u001B[A\n",
      "Processing mushroom.hi-tst.v1.jsonl:  91%|█████████▏| 137/150 [12:26<01:05,  5.08s/entry]\u001B[A\n",
      "Processing mushroom.hi-tst.v1.jsonl:  92%|█████████▏| 138/150 [12:28<00:51,  4.29s/entry]\u001B[A\n",
      "Processing mushroom.hi-tst.v1.jsonl:  93%|█████████▎| 139/150 [12:39<01:09,  6.34s/entry]\u001B[A\n",
      "Processing mushroom.hi-tst.v1.jsonl:  93%|█████████▎| 140/150 [12:42<00:53,  5.33s/entry]\u001B[A\n",
      "Processing mushroom.hi-tst.v1.jsonl:  94%|█████████▍| 141/150 [12:45<00:39,  4.36s/entry]\u001B[A\n",
      "Processing mushroom.hi-tst.v1.jsonl:  95%|█████████▍| 142/150 [12:48<00:31,  3.95s/entry]\u001B[A\n",
      "Processing mushroom.hi-tst.v1.jsonl:  95%|█████████▌| 143/150 [12:51<00:25,  3.66s/entry]\u001B[A"
     ]
    },
    {
     "name": "stdout",
     "output_type": "stream",
     "text": [
      "Failed to parse JSON content: [\n",
      "    {\"word\": \"एक\", \"prob\": 0.8\"}\n",
      "]. Error: Expecting ',' delimiter: line 2 column 31 (char 32)\n"
     ]
    },
    {
     "name": "stderr",
     "output_type": "stream",
     "text": [
      "\n",
      "Processing mushroom.hi-tst.v1.jsonl:  96%|█████████▌| 144/150 [12:55<00:23,  3.91s/entry]\u001B[A\n",
      "Processing mushroom.hi-tst.v1.jsonl:  97%|█████████▋| 145/150 [13:00<00:20,  4.09s/entry]\u001B[A\n",
      "Processing mushroom.hi-tst.v1.jsonl:  97%|█████████▋| 146/150 [13:05<00:18,  4.54s/entry]\u001B[A\n",
      "Processing mushroom.hi-tst.v1.jsonl:  98%|█████████▊| 147/150 [13:08<00:11,  3.95s/entry]\u001B[A\n",
      "Processing mushroom.hi-tst.v1.jsonl:  99%|█████████▊| 148/150 [13:12<00:07,  3.96s/entry]\u001B[A\n",
      "Processing mushroom.hi-tst.v1.jsonl:  99%|█████████▉| 149/150 [13:15<00:03,  3.90s/entry]\u001B[A\n",
      "Processing mushroom.hi-tst.v1.jsonl: 100%|██████████| 150/150 [13:21<00:00,  4.44s/entry]\u001B[A\n",
      "Processing Files:  79%|███████▊  | 11/14 [2:39:46<54:39, 1093.15s/file]                  \u001B[A"
     ]
    },
    {
     "name": "stdout",
     "output_type": "stream",
     "text": [
      "Processed and saved: ../data/test/detect_gpt4o_m2/mushroom.hi-tst.v1.jsonl\n"
     ]
    },
    {
     "name": "stderr",
     "output_type": "stream",
     "text": [
      "\n",
      "Processing mushroom.it-tst.v1.jsonl:   0%|          | 0/150 [00:00<?, ?entry/s]\u001B[A\n",
      "Processing mushroom.it-tst.v1.jsonl:   1%|          | 1/150 [00:03<09:01,  3.64s/entry]\u001B[A\n",
      "Processing mushroom.it-tst.v1.jsonl:   1%|▏         | 2/150 [00:07<09:02,  3.67s/entry]\u001B[A"
     ]
    },
    {
     "name": "stdout",
     "output_type": "stream",
     "text": [
      "No valid JSON found in content: ```json\n",
      "[]\n",
      "```\n"
     ]
    },
    {
     "name": "stderr",
     "output_type": "stream",
     "text": [
      "\n",
      "Processing mushroom.it-tst.v1.jsonl:   2%|▏         | 3/150 [00:11<09:05,  3.71s/entry]\u001B[A\n",
      "Processing mushroom.it-tst.v1.jsonl:   3%|▎         | 4/150 [00:13<07:21,  3.03s/entry]\u001B[A\n",
      "Processing mushroom.it-tst.v1.jsonl:   3%|▎         | 5/150 [00:18<09:29,  3.93s/entry]\u001B[A\n",
      "Processing mushroom.it-tst.v1.jsonl:   4%|▍         | 6/150 [00:21<08:36,  3.59s/entry]\u001B[A\n",
      "Processing mushroom.it-tst.v1.jsonl:   5%|▍         | 7/150 [00:23<07:20,  3.08s/entry]\u001B[A\n",
      "Processing mushroom.it-tst.v1.jsonl:   5%|▌         | 8/150 [00:26<07:10,  3.03s/entry]\u001B[A\n",
      "Processing mushroom.it-tst.v1.jsonl:   6%|▌         | 9/150 [00:30<08:04,  3.44s/entry]\u001B[A\n",
      "Processing mushroom.it-tst.v1.jsonl:   7%|▋         | 10/150 [00:34<08:06,  3.47s/entry]\u001B[A\n",
      "Processing mushroom.it-tst.v1.jsonl:   7%|▋         | 11/150 [00:41<10:32,  4.55s/entry]\u001B[A\n",
      "Processing mushroom.it-tst.v1.jsonl:   8%|▊         | 12/150 [00:44<09:14,  4.02s/entry]\u001B[A\n",
      "Processing mushroom.it-tst.v1.jsonl:   9%|▊         | 13/150 [00:47<08:26,  3.69s/entry]\u001B[A\n",
      "Processing mushroom.it-tst.v1.jsonl:   9%|▉         | 14/150 [00:51<08:33,  3.77s/entry]\u001B[A\n",
      "Processing mushroom.it-tst.v1.jsonl:  10%|█         | 15/150 [00:55<08:41,  3.86s/entry]\u001B[A\n",
      "Processing mushroom.it-tst.v1.jsonl:  11%|█         | 16/150 [00:57<07:29,  3.35s/entry]\u001B[A\n",
      "Processing mushroom.it-tst.v1.jsonl:  11%|█▏        | 17/150 [00:59<06:45,  3.05s/entry]\u001B[A\n",
      "Processing mushroom.it-tst.v1.jsonl:  12%|█▏        | 18/150 [01:04<07:41,  3.49s/entry]\u001B[A\n",
      "Processing mushroom.it-tst.v1.jsonl:  13%|█▎        | 19/150 [01:07<07:20,  3.37s/entry]\u001B[A\n",
      "Processing mushroom.it-tst.v1.jsonl:  13%|█▎        | 20/150 [01:12<08:44,  4.03s/entry]\u001B[A\n",
      "Processing mushroom.it-tst.v1.jsonl:  14%|█▍        | 21/150 [01:18<09:33,  4.45s/entry]\u001B[A\n",
      "Processing mushroom.it-tst.v1.jsonl:  15%|█▍        | 22/150 [01:25<11:03,  5.18s/entry]\u001B[A\n",
      "Processing mushroom.it-tst.v1.jsonl:  15%|█▌        | 23/150 [01:29<10:14,  4.84s/entry]\u001B[A\n",
      "Processing mushroom.it-tst.v1.jsonl:  16%|█▌        | 24/150 [01:32<09:08,  4.35s/entry]\u001B[A\n",
      "Processing mushroom.it-tst.v1.jsonl:  17%|█▋        | 25/150 [01:36<08:42,  4.18s/entry]\u001B[A\n",
      "Processing mushroom.it-tst.v1.jsonl:  17%|█▋        | 26/150 [01:39<08:10,  3.95s/entry]\u001B[A\n",
      "Processing mushroom.it-tst.v1.jsonl:  18%|█▊        | 27/150 [01:43<07:50,  3.82s/entry]\u001B[A\n",
      "Processing mushroom.it-tst.v1.jsonl:  19%|█▊        | 28/150 [01:46<07:27,  3.67s/entry]\u001B[A\n",
      "Processing mushroom.it-tst.v1.jsonl:  19%|█▉        | 29/150 [01:53<09:33,  4.74s/entry]\u001B[A\n",
      "Processing mushroom.it-tst.v1.jsonl:  20%|██        | 30/150 [01:59<10:00,  5.00s/entry]\u001B[A\n",
      "Processing mushroom.it-tst.v1.jsonl:  21%|██        | 31/150 [02:04<10:02,  5.06s/entry]\u001B[A\n",
      "Processing mushroom.it-tst.v1.jsonl:  21%|██▏       | 32/150 [02:07<08:45,  4.45s/entry]\u001B[A\n",
      "Processing mushroom.it-tst.v1.jsonl:  22%|██▏       | 33/150 [02:12<08:53,  4.56s/entry]\u001B[A\n",
      "Processing mushroom.it-tst.v1.jsonl:  23%|██▎       | 34/150 [02:17<09:23,  4.86s/entry]\u001B[A\n",
      "Processing mushroom.it-tst.v1.jsonl:  23%|██▎       | 35/150 [02:20<07:59,  4.17s/entry]\u001B[A\n",
      "Processing mushroom.it-tst.v1.jsonl:  24%|██▍       | 36/150 [02:22<06:58,  3.67s/entry]\u001B[A\n",
      "Processing mushroom.it-tst.v1.jsonl:  25%|██▍       | 37/150 [02:31<09:33,  5.07s/entry]\u001B[A\n",
      "Processing mushroom.it-tst.v1.jsonl:  25%|██▌       | 38/150 [02:35<09:09,  4.90s/entry]\u001B[A\n",
      "Processing mushroom.it-tst.v1.jsonl:  26%|██▌       | 39/150 [02:38<07:59,  4.32s/entry]\u001B[A\n",
      "Processing mushroom.it-tst.v1.jsonl:  27%|██▋       | 40/150 [02:41<07:18,  3.99s/entry]\u001B[A\n",
      "Processing mushroom.it-tst.v1.jsonl:  27%|██▋       | 41/150 [02:45<07:14,  3.98s/entry]\u001B[A\n",
      "Processing mushroom.it-tst.v1.jsonl:  28%|██▊       | 42/150 [02:57<11:26,  6.36s/entry]\u001B[A\n",
      "Processing mushroom.it-tst.v1.jsonl:  29%|██▊       | 43/150 [03:00<09:38,  5.40s/entry]\u001B[A\n",
      "Processing mushroom.it-tst.v1.jsonl:  29%|██▉       | 44/150 [03:03<08:09,  4.62s/entry]\u001B[A\n",
      "Processing mushroom.it-tst.v1.jsonl:  30%|███       | 45/150 [03:06<07:13,  4.13s/entry]\u001B[A\n",
      "Processing mushroom.it-tst.v1.jsonl:  31%|███       | 46/150 [03:12<07:48,  4.51s/entry]\u001B[A\n",
      "Processing mushroom.it-tst.v1.jsonl:  31%|███▏      | 47/150 [03:14<06:29,  3.78s/entry]\u001B[A\n",
      "Processing mushroom.it-tst.v1.jsonl:  32%|███▏      | 48/150 [03:16<05:53,  3.46s/entry]\u001B[A\n",
      "Processing mushroom.it-tst.v1.jsonl:  33%|███▎      | 49/150 [03:19<05:34,  3.31s/entry]\u001B[A\n",
      "Processing mushroom.it-tst.v1.jsonl:  33%|███▎      | 50/150 [03:22<05:02,  3.03s/entry]\u001B[A\n",
      "Processing mushroom.it-tst.v1.jsonl:  34%|███▍      | 51/150 [03:28<06:44,  4.09s/entry]\u001B[A\n",
      "Processing mushroom.it-tst.v1.jsonl:  35%|███▍      | 52/150 [03:34<07:26,  4.56s/entry]\u001B[A\n",
      "Processing mushroom.it-tst.v1.jsonl:  35%|███▌      | 53/150 [03:36<06:19,  3.91s/entry]\u001B[A\n",
      "Processing mushroom.it-tst.v1.jsonl:  36%|███▌      | 54/150 [03:41<06:40,  4.17s/entry]\u001B[A\n",
      "Processing mushroom.it-tst.v1.jsonl:  37%|███▋      | 55/150 [03:46<07:00,  4.43s/entry]\u001B[A\n",
      "Processing mushroom.it-tst.v1.jsonl:  37%|███▋      | 56/150 [03:48<05:50,  3.73s/entry]\u001B[A\n",
      "Processing mushroom.it-tst.v1.jsonl:  38%|███▊      | 57/150 [03:52<05:42,  3.68s/entry]\u001B[A\n",
      "Processing mushroom.it-tst.v1.jsonl:  39%|███▊      | 58/150 [03:54<04:51,  3.17s/entry]\u001B[A"
     ]
    },
    {
     "name": "stdout",
     "output_type": "stream",
     "text": [
      "No valid JSON found in content: ```json\n",
      "[]\n",
      "```\n"
     ]
    },
    {
     "name": "stderr",
     "output_type": "stream",
     "text": [
      "\n",
      "Processing mushroom.it-tst.v1.jsonl:  39%|███▉      | 59/150 [03:59<05:34,  3.67s/entry]\u001B[A\n",
      "Processing mushroom.it-tst.v1.jsonl:  40%|████      | 60/150 [04:02<05:29,  3.67s/entry]\u001B[A\n",
      "Processing mushroom.it-tst.v1.jsonl:  41%|████      | 61/150 [04:10<07:06,  4.80s/entry]\u001B[A\n",
      "Processing mushroom.it-tst.v1.jsonl:  41%|████▏     | 62/150 [04:18<08:25,  5.75s/entry]\u001B[A\n",
      "Processing mushroom.it-tst.v1.jsonl:  42%|████▏     | 63/150 [04:21<07:25,  5.12s/entry]\u001B[A\n",
      "Processing mushroom.it-tst.v1.jsonl:  43%|████▎     | 64/150 [04:28<07:49,  5.45s/entry]\u001B[A\n",
      "Processing mushroom.it-tst.v1.jsonl:  43%|████▎     | 65/150 [04:39<10:25,  7.36s/entry]\u001B[A\n",
      "Processing mushroom.it-tst.v1.jsonl:  44%|████▍     | 66/150 [04:44<09:17,  6.64s/entry]\u001B[A\n",
      "Processing mushroom.it-tst.v1.jsonl:  45%|████▍     | 67/150 [04:47<07:32,  5.45s/entry]\u001B[A\n",
      "Processing mushroom.it-tst.v1.jsonl:  45%|████▌     | 68/150 [04:49<06:11,  4.53s/entry]\u001B[A\n",
      "Processing mushroom.it-tst.v1.jsonl:  46%|████▌     | 69/150 [04:52<05:30,  4.08s/entry]\u001B[A\n",
      "Processing mushroom.it-tst.v1.jsonl:  47%|████▋     | 70/150 [04:57<05:26,  4.08s/entry]\u001B[A\n",
      "Processing mushroom.it-tst.v1.jsonl:  47%|████▋     | 71/150 [05:04<06:45,  5.13s/entry]\u001B[A\n",
      "Processing mushroom.it-tst.v1.jsonl:  48%|████▊     | 72/150 [05:09<06:24,  4.93s/entry]\u001B[A\n",
      "Processing mushroom.it-tst.v1.jsonl:  49%|████▊     | 73/150 [05:12<05:48,  4.53s/entry]\u001B[A\n",
      "Processing mushroom.it-tst.v1.jsonl:  49%|████▉     | 74/150 [05:18<06:16,  4.96s/entry]\u001B[A\n",
      "Processing mushroom.it-tst.v1.jsonl:  50%|█████     | 75/150 [05:22<05:48,  4.64s/entry]\u001B[A\n",
      "Processing mushroom.it-tst.v1.jsonl:  51%|█████     | 76/150 [05:26<05:26,  4.41s/entry]\u001B[A\n",
      "Processing mushroom.it-tst.v1.jsonl:  51%|█████▏    | 77/150 [05:30<05:17,  4.35s/entry]\u001B[A\n",
      "Processing mushroom.it-tst.v1.jsonl:  52%|█████▏    | 78/150 [05:34<05:07,  4.28s/entry]\u001B[A\n",
      "Processing mushroom.it-tst.v1.jsonl:  53%|█████▎    | 79/150 [05:36<04:20,  3.67s/entry]\u001B[A\n",
      "Processing mushroom.it-tst.v1.jsonl:  53%|█████▎    | 80/150 [05:41<04:30,  3.86s/entry]\u001B[A\n",
      "Processing mushroom.it-tst.v1.jsonl:  54%|█████▍    | 81/150 [05:45<04:39,  4.06s/entry]\u001B[A\n",
      "Processing mushroom.it-tst.v1.jsonl:  55%|█████▍    | 82/150 [05:53<05:59,  5.29s/entry]\u001B[A\n",
      "Processing mushroom.it-tst.v1.jsonl:  55%|█████▌    | 83/150 [05:56<05:07,  4.58s/entry]\u001B[A\n",
      "Processing mushroom.it-tst.v1.jsonl:  56%|█████▌    | 84/150 [06:03<05:35,  5.08s/entry]\u001B[A\n",
      "Processing mushroom.it-tst.v1.jsonl:  57%|█████▋    | 85/150 [06:06<04:50,  4.47s/entry]\u001B[A\n",
      "Processing mushroom.it-tst.v1.jsonl:  57%|█████▋    | 86/150 [06:12<05:21,  5.03s/entry]\u001B[A\n",
      "Processing mushroom.it-tst.v1.jsonl:  58%|█████▊    | 87/150 [06:15<04:43,  4.51s/entry]\u001B[A\n",
      "Processing mushroom.it-tst.v1.jsonl:  59%|█████▊    | 88/150 [06:18<03:58,  3.85s/entry]\u001B[A\n",
      "Processing mushroom.it-tst.v1.jsonl:  59%|█████▉    | 89/150 [06:20<03:36,  3.55s/entry]\u001B[A\n",
      "Processing mushroom.it-tst.v1.jsonl:  60%|██████    | 90/150 [06:25<03:50,  3.85s/entry]\u001B[A\n",
      "Processing mushroom.it-tst.v1.jsonl:  61%|██████    | 91/150 [06:27<03:20,  3.40s/entry]\u001B[A\n",
      "Processing mushroom.it-tst.v1.jsonl:  61%|██████▏   | 92/150 [06:31<03:16,  3.40s/entry]\u001B[A\n",
      "Processing mushroom.it-tst.v1.jsonl:  62%|██████▏   | 93/150 [06:33<02:59,  3.15s/entry]\u001B[A\n",
      "Processing mushroom.it-tst.v1.jsonl:  63%|██████▎   | 94/150 [06:39<03:34,  3.84s/entry]\u001B[A\n",
      "Processing mushroom.it-tst.v1.jsonl:  63%|██████▎   | 95/150 [06:42<03:22,  3.69s/entry]\u001B[A\n",
      "Processing mushroom.it-tst.v1.jsonl:  64%|██████▍   | 96/150 [07:00<07:07,  7.91s/entry]\u001B[A\n",
      "Processing mushroom.it-tst.v1.jsonl:  65%|██████▍   | 97/150 [07:06<06:34,  7.45s/entry]\u001B[A\n",
      "Processing mushroom.it-tst.v1.jsonl:  65%|██████▌   | 98/150 [07:09<05:19,  6.15s/entry]\u001B[A\n",
      "Processing mushroom.it-tst.v1.jsonl:  66%|██████▌   | 99/150 [07:16<05:27,  6.42s/entry]\u001B[A\n",
      "Processing mushroom.it-tst.v1.jsonl:  67%|██████▋   | 100/150 [07:21<04:56,  5.94s/entry]\u001B[A\n",
      "Processing mushroom.it-tst.v1.jsonl:  67%|██████▋   | 101/150 [07:24<03:56,  4.84s/entry]\u001B[A\n",
      "Processing mushroom.it-tst.v1.jsonl:  68%|██████▊   | 102/150 [07:30<04:18,  5.38s/entry]\u001B[A\n",
      "Processing mushroom.it-tst.v1.jsonl:  69%|██████▊   | 103/150 [07:33<03:37,  4.62s/entry]\u001B[A\n",
      "Processing mushroom.it-tst.v1.jsonl:  69%|██████▉   | 104/150 [07:36<03:07,  4.07s/entry]\u001B[A\n",
      "Processing mushroom.it-tst.v1.jsonl:  70%|███████   | 105/150 [07:40<02:59,  3.98s/entry]\u001B[A\n",
      "Processing mushroom.it-tst.v1.jsonl:  71%|███████   | 106/150 [07:47<03:45,  5.12s/entry]\u001B[A\n",
      "Processing mushroom.it-tst.v1.jsonl:  71%|███████▏  | 107/150 [07:53<03:51,  5.39s/entry]\u001B[A\n",
      "Processing mushroom.it-tst.v1.jsonl:  72%|███████▏  | 108/150 [07:57<03:26,  4.92s/entry]\u001B[A\n",
      "Processing mushroom.it-tst.v1.jsonl:  73%|███████▎  | 109/150 [08:01<03:08,  4.60s/entry]\u001B[A\n",
      "Processing mushroom.it-tst.v1.jsonl:  73%|███████▎  | 110/150 [08:05<02:51,  4.28s/entry]\u001B[A\n",
      "Processing mushroom.it-tst.v1.jsonl:  74%|███████▍  | 111/150 [08:12<03:21,  5.17s/entry]\u001B[A\n",
      "Processing mushroom.it-tst.v1.jsonl:  75%|███████▍  | 112/150 [08:24<04:34,  7.21s/entry]\u001B[A\n",
      "Processing mushroom.it-tst.v1.jsonl:  75%|███████▌  | 113/150 [08:30<04:16,  6.93s/entry]\u001B[A\n",
      "Processing mushroom.it-tst.v1.jsonl:  76%|███████▌  | 114/150 [08:41<04:54,  8.18s/entry]\u001B[A\n",
      "Processing mushroom.it-tst.v1.jsonl:  77%|███████▋  | 115/150 [08:44<03:54,  6.69s/entry]\u001B[A\n",
      "Processing mushroom.it-tst.v1.jsonl:  77%|███████▋  | 116/150 [08:47<03:02,  5.37s/entry]\u001B[A"
     ]
    },
    {
     "name": "stdout",
     "output_type": "stream",
     "text": [
      "Failed to parse JSON content: [\n",
      "    {\"word\": \"249\", \"prob\": 0.7\"},\n",
      "    {\"word\": \"Arsenal\", \"prob\": 0.7}\n",
      "]. Error: Expecting ',' delimiter: line 2 column 32 (char 33)\n"
     ]
    },
    {
     "name": "stderr",
     "output_type": "stream",
     "text": [
      "\n",
      "Processing mushroom.it-tst.v1.jsonl:  78%|███████▊  | 117/150 [08:51<02:50,  5.17s/entry]\u001B[A\n",
      "Processing mushroom.it-tst.v1.jsonl:  79%|███████▊  | 118/150 [09:02<03:40,  6.88s/entry]\u001B[A\n",
      "Processing mushroom.it-tst.v1.jsonl:  79%|███████▉  | 119/150 [09:14<04:22,  8.46s/entry]\u001B[A\n",
      "Processing mushroom.it-tst.v1.jsonl:  80%|████████  | 120/150 [09:17<03:19,  6.65s/entry]\u001B[A\n",
      "Processing mushroom.it-tst.v1.jsonl:  81%|████████  | 121/150 [09:20<02:46,  5.75s/entry]\u001B[A\n",
      "Processing mushroom.it-tst.v1.jsonl:  81%|████████▏ | 122/150 [09:23<02:15,  4.84s/entry]\u001B[A\n",
      "Processing mushroom.it-tst.v1.jsonl:  82%|████████▏ | 123/150 [09:27<02:06,  4.67s/entry]\u001B[A\n",
      "Processing mushroom.it-tst.v1.jsonl:  83%|████████▎ | 124/150 [09:30<01:44,  4.04s/entry]\u001B[A\n",
      "Processing mushroom.it-tst.v1.jsonl:  83%|████████▎ | 125/150 [09:32<01:26,  3.47s/entry]\u001B[A\n",
      "Processing mushroom.it-tst.v1.jsonl:  84%|████████▍ | 126/150 [09:37<01:33,  3.89s/entry]\u001B[A\n",
      "Processing mushroom.it-tst.v1.jsonl:  85%|████████▍ | 127/150 [09:42<01:36,  4.19s/entry]\u001B[A\n",
      "Processing mushroom.it-tst.v1.jsonl:  85%|████████▌ | 128/150 [09:45<01:22,  3.75s/entry]\u001B[A\n",
      "Processing mushroom.it-tst.v1.jsonl:  86%|████████▌ | 129/150 [09:48<01:14,  3.55s/entry]\u001B[A\n",
      "Processing mushroom.it-tst.v1.jsonl:  87%|████████▋ | 130/150 [09:53<01:19,  3.95s/entry]\u001B[A\n",
      "Processing mushroom.it-tst.v1.jsonl:  87%|████████▋ | 131/150 [09:55<01:06,  3.52s/entry]\u001B[A\n",
      "Processing mushroom.it-tst.v1.jsonl:  88%|████████▊ | 132/150 [09:57<00:56,  3.15s/entry]\u001B[A\n",
      "Processing mushroom.it-tst.v1.jsonl:  89%|████████▊ | 133/150 [10:01<00:56,  3.32s/entry]\u001B[A\n",
      "Processing mushroom.it-tst.v1.jsonl:  89%|████████▉ | 134/150 [10:03<00:46,  2.94s/entry]\u001B[A\n",
      "Processing mushroom.it-tst.v1.jsonl:  90%|█████████ | 135/150 [10:06<00:42,  2.85s/entry]\u001B[A\n",
      "Processing mushroom.it-tst.v1.jsonl:  91%|█████████ | 136/150 [10:10<00:46,  3.33s/entry]\u001B[A\n",
      "Processing mushroom.it-tst.v1.jsonl:  91%|█████████▏| 137/150 [10:16<00:51,  3.92s/entry]\u001B[A\n",
      "Processing mushroom.it-tst.v1.jsonl:  92%|█████████▏| 138/150 [10:23<01:00,  5.05s/entry]\u001B[A\n",
      "Processing mushroom.it-tst.v1.jsonl:  93%|█████████▎| 139/150 [10:27<00:51,  4.64s/entry]\u001B[A\n",
      "Processing mushroom.it-tst.v1.jsonl:  93%|█████████▎| 140/150 [10:36<00:58,  5.86s/entry]\u001B[A\n",
      "Processing mushroom.it-tst.v1.jsonl:  94%|█████████▍| 141/150 [10:38<00:43,  4.88s/entry]\u001B[A\n",
      "Processing mushroom.it-tst.v1.jsonl:  95%|█████████▍| 142/150 [10:41<00:34,  4.36s/entry]\u001B[A\n",
      "Processing mushroom.it-tst.v1.jsonl:  95%|█████████▌| 143/150 [10:45<00:27,  3.99s/entry]\u001B[A"
     ]
    },
    {
     "name": "stdout",
     "output_type": "stream",
     "text": [
      "No valid JSON found in content: ```json\n",
      "[]\n",
      "```\n"
     ]
    },
    {
     "name": "stderr",
     "output_type": "stream",
     "text": [
      "\n",
      "Processing mushroom.it-tst.v1.jsonl:  96%|█████████▌| 144/150 [10:51<00:27,  4.60s/entry]\u001B[A\n",
      "Processing mushroom.it-tst.v1.jsonl:  97%|█████████▋| 145/150 [10:54<00:20,  4.19s/entry]\u001B[A\n",
      "Processing mushroom.it-tst.v1.jsonl:  97%|█████████▋| 146/150 [10:59<00:17,  4.40s/entry]\u001B[A"
     ]
    },
    {
     "name": "stdout",
     "output_type": "stream",
     "text": [
      "Failed to parse JSON content: [\n",
      "    {\"word\": \"tre\", \"prob\": 0.8\"}\n",
      "]. Error: Expecting ',' delimiter: line 2 column 32 (char 33)\n"
     ]
    },
    {
     "name": "stderr",
     "output_type": "stream",
     "text": [
      "\n",
      "Processing mushroom.it-tst.v1.jsonl:  98%|█████████▊| 147/150 [11:02<00:12,  4.05s/entry]\u001B[A\n",
      "Processing mushroom.it-tst.v1.jsonl:  99%|█████████▊| 148/150 [11:07<00:08,  4.30s/entry]\u001B[A\n",
      "Processing mushroom.it-tst.v1.jsonl:  99%|█████████▉| 149/150 [11:10<00:04,  4.11s/entry]\u001B[A\n",
      "Processing mushroom.it-tst.v1.jsonl: 100%|██████████| 150/150 [11:22<00:00,  6.37s/entry]\u001B[A\n",
      "Processing Files:  86%|████████▌ | 12/14 [2:51:09<32:16, 968.26s/file]                   \u001B[A"
     ]
    },
    {
     "name": "stdout",
     "output_type": "stream",
     "text": [
      "Processed and saved: ../data/test/detect_gpt4o_m2/mushroom.it-tst.v1.jsonl\n"
     ]
    },
    {
     "name": "stderr",
     "output_type": "stream",
     "text": [
      "\n",
      "Processing mushroom.sv-tst.v1.jsonl:   0%|          | 0/147 [00:00<?, ?entry/s]\u001B[A\n",
      "Processing mushroom.sv-tst.v1.jsonl:   1%|          | 1/147 [00:03<07:47,  3.20s/entry]\u001B[A\n",
      "Processing mushroom.sv-tst.v1.jsonl:   1%|▏         | 2/147 [00:06<07:55,  3.28s/entry]\u001B[A\n",
      "Processing mushroom.sv-tst.v1.jsonl:   2%|▏         | 3/147 [01:05<1:09:16, 28.87s/entry]\u001B[A\n",
      "Processing mushroom.sv-tst.v1.jsonl:   3%|▎         | 4/147 [01:10<46:14, 19.40s/entry]  \u001B[A\n",
      "Processing mushroom.sv-tst.v1.jsonl:   3%|▎         | 5/147 [01:18<35:51, 15.15s/entry]\u001B[A\n",
      "Processing mushroom.sv-tst.v1.jsonl:   4%|▍         | 6/147 [01:21<25:50, 11.00s/entry]\u001B[A\n",
      "Processing mushroom.sv-tst.v1.jsonl:   5%|▍         | 7/147 [01:24<19:21,  8.30s/entry]\u001B[A\n",
      "Processing mushroom.sv-tst.v1.jsonl:   5%|▌         | 8/147 [01:27<15:48,  6.82s/entry]\u001B[A\n",
      "Processing mushroom.sv-tst.v1.jsonl:   6%|▌         | 9/147 [01:31<13:32,  5.89s/entry]\u001B[A\n",
      "Processing mushroom.sv-tst.v1.jsonl:   7%|▋         | 10/147 [01:40<15:38,  6.85s/entry]\u001B[A\n",
      "Processing mushroom.sv-tst.v1.jsonl:   7%|▋         | 11/147 [01:47<15:52,  7.01s/entry]\u001B[A\n",
      "Processing mushroom.sv-tst.v1.jsonl:   8%|▊         | 12/147 [01:53<14:40,  6.53s/entry]\u001B[A\n",
      "Processing mushroom.sv-tst.v1.jsonl:   9%|▉         | 13/147 [01:56<12:20,  5.53s/entry]\u001B[A\n",
      "Processing mushroom.sv-tst.v1.jsonl:  10%|▉         | 14/147 [01:59<10:14,  4.62s/entry]\u001B[A\n",
      "Processing mushroom.sv-tst.v1.jsonl:  10%|█         | 15/147 [02:01<08:39,  3.93s/entry]\u001B[A\n",
      "Processing mushroom.sv-tst.v1.jsonl:  11%|█         | 16/147 [02:08<10:22,  4.75s/entry]\u001B[A\n",
      "Processing mushroom.sv-tst.v1.jsonl:  12%|█▏        | 17/147 [02:22<16:25,  7.58s/entry]\u001B[A\n",
      "Processing mushroom.sv-tst.v1.jsonl:  12%|█▏        | 18/147 [02:27<14:41,  6.83s/entry]\u001B[A\n",
      "Processing mushroom.sv-tst.v1.jsonl:  13%|█▎        | 19/147 [02:33<14:04,  6.60s/entry]\u001B[A\n",
      "Processing mushroom.sv-tst.v1.jsonl:  14%|█▎        | 20/147 [02:38<12:46,  6.04s/entry]\u001B[A\n",
      "Processing mushroom.sv-tst.v1.jsonl:  14%|█▍        | 21/147 [02:42<11:50,  5.64s/entry]\u001B[A\n",
      "Processing mushroom.sv-tst.v1.jsonl:  15%|█▍        | 22/147 [02:49<12:19,  5.92s/entry]\u001B[A\n",
      "Processing mushroom.sv-tst.v1.jsonl:  16%|█▌        | 23/147 [03:00<15:09,  7.34s/entry]\u001B[A\n",
      "Processing mushroom.sv-tst.v1.jsonl:  16%|█▋        | 24/147 [03:20<22:59, 11.22s/entry]\u001B[A\n",
      "Processing mushroom.sv-tst.v1.jsonl:  17%|█▋        | 25/147 [03:26<20:01,  9.85s/entry]\u001B[A\n",
      "Processing mushroom.sv-tst.v1.jsonl:  18%|█▊        | 26/147 [03:33<17:53,  8.87s/entry]\u001B[A\n",
      "Processing mushroom.sv-tst.v1.jsonl:  18%|█▊        | 27/147 [03:38<15:13,  7.61s/entry]\u001B[A\n",
      "Processing mushroom.sv-tst.v1.jsonl:  19%|█▉        | 28/147 [03:41<12:40,  6.39s/entry]\u001B[A\n",
      "Processing mushroom.sv-tst.v1.jsonl:  20%|█▉        | 29/147 [03:47<12:02,  6.13s/entry]\u001B[A\n",
      "Processing mushroom.sv-tst.v1.jsonl:  20%|██        | 30/147 [03:49<09:55,  5.09s/entry]\u001B[A\n",
      "Processing mushroom.sv-tst.v1.jsonl:  21%|██        | 31/147 [03:55<10:03,  5.21s/entry]\u001B[A\n",
      "Processing mushroom.sv-tst.v1.jsonl:  22%|██▏       | 32/147 [04:10<15:53,  8.29s/entry]\u001B[A\n",
      "Processing mushroom.sv-tst.v1.jsonl:  22%|██▏       | 33/147 [04:15<13:49,  7.28s/entry]\u001B[A\n",
      "Processing mushroom.sv-tst.v1.jsonl:  23%|██▎       | 34/147 [04:22<13:14,  7.03s/entry]\u001B[A\n",
      "Processing mushroom.sv-tst.v1.jsonl:  24%|██▍       | 35/147 [04:27<12:10,  6.52s/entry]\u001B[A\n",
      "Processing mushroom.sv-tst.v1.jsonl:  24%|██▍       | 36/147 [04:33<11:29,  6.21s/entry]\u001B[A\n",
      "Processing mushroom.sv-tst.v1.jsonl:  25%|██▌       | 37/147 [04:42<12:54,  7.04s/entry]\u001B[A\n",
      "Processing mushroom.sv-tst.v1.jsonl:  26%|██▌       | 38/147 [04:45<10:33,  5.81s/entry]\u001B[A\n",
      "Processing mushroom.sv-tst.v1.jsonl:  27%|██▋       | 39/147 [04:53<11:42,  6.50s/entry]\u001B[A\n",
      "Processing mushroom.sv-tst.v1.jsonl:  27%|██▋       | 40/147 [05:00<11:51,  6.65s/entry]\u001B[A\n",
      "Processing mushroom.sv-tst.v1.jsonl:  28%|██▊       | 41/147 [05:03<09:57,  5.64s/entry]\u001B[A\n",
      "Processing mushroom.sv-tst.v1.jsonl:  29%|██▊       | 42/147 [05:09<09:54,  5.66s/entry]\u001B[A\n",
      "Processing mushroom.sv-tst.v1.jsonl:  29%|██▉       | 43/147 [05:12<08:23,  4.84s/entry]\u001B[A\n",
      "Processing mushroom.sv-tst.v1.jsonl:  30%|██▉       | 44/147 [05:18<09:19,  5.43s/entry]\u001B[A\n",
      "Processing mushroom.sv-tst.v1.jsonl:  31%|███       | 45/147 [05:26<10:08,  5.96s/entry]\u001B[A\n",
      "Processing mushroom.sv-tst.v1.jsonl:  31%|███▏      | 46/147 [05:29<08:35,  5.10s/entry]\u001B[A\n",
      "Processing mushroom.sv-tst.v1.jsonl:  32%|███▏      | 47/147 [05:34<08:48,  5.29s/entry]\u001B[A\n",
      "Processing mushroom.sv-tst.v1.jsonl:  33%|███▎      | 48/147 [05:38<08:00,  4.86s/entry]\u001B[A\n",
      "Processing mushroom.sv-tst.v1.jsonl:  33%|███▎      | 49/147 [05:41<07:02,  4.31s/entry]\u001B[A\n",
      "Processing mushroom.sv-tst.v1.jsonl:  34%|███▍      | 50/147 [05:47<07:52,  4.87s/entry]\u001B[A\n",
      "Processing mushroom.sv-tst.v1.jsonl:  35%|███▍      | 51/147 [05:51<07:01,  4.39s/entry]\u001B[A\n",
      "Processing mushroom.sv-tst.v1.jsonl:  35%|███▌      | 52/147 [05:54<06:27,  4.08s/entry]\u001B[A\n",
      "Processing mushroom.sv-tst.v1.jsonl:  36%|███▌      | 53/147 [05:59<06:42,  4.29s/entry]\u001B[A\n",
      "Processing mushroom.sv-tst.v1.jsonl:  37%|███▋      | 54/147 [06:03<06:31,  4.21s/entry]\u001B[A\n",
      "Processing mushroom.sv-tst.v1.jsonl:  37%|███▋      | 55/147 [06:05<05:35,  3.65s/entry]\u001B[A\n",
      "Processing mushroom.sv-tst.v1.jsonl:  38%|███▊      | 56/147 [06:09<05:29,  3.62s/entry]\u001B[A\n",
      "Processing mushroom.sv-tst.v1.jsonl:  39%|███▉      | 57/147 [06:21<09:09,  6.10s/entry]\u001B[A\n",
      "Processing mushroom.sv-tst.v1.jsonl:  39%|███▉      | 58/147 [06:29<10:10,  6.86s/entry]\u001B[A\n",
      "Processing mushroom.sv-tst.v1.jsonl:  40%|████      | 59/147 [06:37<10:18,  7.03s/entry]\u001B[A\n",
      "Processing mushroom.sv-tst.v1.jsonl:  41%|████      | 60/147 [06:43<09:49,  6.77s/entry]\u001B[A\n",
      "Processing mushroom.sv-tst.v1.jsonl:  41%|████▏     | 61/147 [06:52<10:38,  7.42s/entry]\u001B[A\n",
      "Processing mushroom.sv-tst.v1.jsonl:  42%|████▏     | 62/147 [06:58<09:47,  6.91s/entry]\u001B[A\n",
      "Processing mushroom.sv-tst.v1.jsonl:  43%|████▎     | 63/147 [07:04<09:29,  6.78s/entry]\u001B[A\n",
      "Processing mushroom.sv-tst.v1.jsonl:  44%|████▎     | 64/147 [07:10<09:10,  6.64s/entry]\u001B[A\n",
      "Processing mushroom.sv-tst.v1.jsonl:  44%|████▍     | 65/147 [07:14<07:49,  5.73s/entry]\u001B[A\n",
      "Processing mushroom.sv-tst.v1.jsonl:  45%|████▍     | 66/147 [07:22<08:40,  6.42s/entry]\u001B[A\n",
      "Processing mushroom.sv-tst.v1.jsonl:  46%|████▌     | 67/147 [07:31<09:27,  7.09s/entry]\u001B[A\n",
      "Processing mushroom.sv-tst.v1.jsonl:  46%|████▋     | 68/147 [07:38<09:19,  7.09s/entry]\u001B[A\n",
      "Processing mushroom.sv-tst.v1.jsonl:  47%|████▋     | 69/147 [07:45<09:21,  7.20s/entry]\u001B[A\n",
      "Processing mushroom.sv-tst.v1.jsonl:  48%|████▊     | 70/147 [07:48<07:43,  6.02s/entry]\u001B[A\n",
      "Processing mushroom.sv-tst.v1.jsonl:  48%|████▊     | 71/147 [07:52<06:35,  5.21s/entry]\u001B[A\n",
      "Processing mushroom.sv-tst.v1.jsonl:  49%|████▉     | 72/147 [08:03<08:49,  7.06s/entry]\u001B[A\n",
      "Processing mushroom.sv-tst.v1.jsonl:  50%|████▉     | 73/147 [08:12<09:13,  7.48s/entry]\u001B[A\n",
      "Processing mushroom.sv-tst.v1.jsonl:  50%|█████     | 74/147 [08:17<08:27,  6.95s/entry]\u001B[A\n",
      "Processing mushroom.sv-tst.v1.jsonl:  51%|█████     | 75/147 [08:23<07:53,  6.58s/entry]\u001B[A\n",
      "Processing mushroom.sv-tst.v1.jsonl:  52%|█████▏    | 76/147 [08:48<14:12, 12.01s/entry]\u001B[A\n",
      "Processing mushroom.sv-tst.v1.jsonl:  52%|█████▏    | 77/147 [08:54<12:08, 10.41s/entry]\u001B[A\n",
      "Processing mushroom.sv-tst.v1.jsonl:  53%|█████▎    | 78/147 [08:58<09:41,  8.43s/entry]\u001B[A\n",
      "Processing mushroom.sv-tst.v1.jsonl:  54%|█████▎    | 79/147 [09:02<07:52,  6.95s/entry]\u001B[A\n",
      "Processing mushroom.sv-tst.v1.jsonl:  54%|█████▍    | 80/147 [09:15<09:48,  8.78s/entry]\u001B[A\n",
      "Processing mushroom.sv-tst.v1.jsonl:  55%|█████▌    | 81/147 [09:20<08:36,  7.82s/entry]\u001B[A\n",
      "Processing mushroom.sv-tst.v1.jsonl:  56%|█████▌    | 82/147 [09:24<07:17,  6.72s/entry]\u001B[A\n",
      "Processing mushroom.sv-tst.v1.jsonl:  56%|█████▋    | 83/147 [09:33<07:49,  7.34s/entry]\u001B[A\n",
      "Processing mushroom.sv-tst.v1.jsonl:  57%|█████▋    | 84/147 [09:38<06:51,  6.53s/entry]\u001B[A\n",
      "Processing mushroom.sv-tst.v1.jsonl:  58%|█████▊    | 85/147 [09:45<06:52,  6.65s/entry]\u001B[A\n",
      "Processing mushroom.sv-tst.v1.jsonl:  59%|█████▊    | 86/147 [09:49<06:03,  5.96s/entry]\u001B[A\n",
      "Processing mushroom.sv-tst.v1.jsonl:  59%|█████▉    | 87/147 [09:54<05:36,  5.60s/entry]\u001B[A\n",
      "Processing mushroom.sv-tst.v1.jsonl:  60%|█████▉    | 88/147 [09:58<05:04,  5.16s/entry]\u001B[A\n",
      "Processing mushroom.sv-tst.v1.jsonl:  61%|██████    | 89/147 [10:03<04:51,  5.03s/entry]\u001B[A\n",
      "Processing mushroom.sv-tst.v1.jsonl:  61%|██████    | 90/147 [10:07<04:32,  4.78s/entry]\u001B[A\n",
      "Processing mushroom.sv-tst.v1.jsonl:  62%|██████▏   | 91/147 [10:14<05:04,  5.44s/entry]\u001B[A\n",
      "Processing mushroom.sv-tst.v1.jsonl:  63%|██████▎   | 92/147 [10:25<06:23,  6.98s/entry]\u001B[A\n",
      "Processing mushroom.sv-tst.v1.jsonl:  63%|██████▎   | 93/147 [10:28<05:24,  6.01s/entry]\u001B[A\n",
      "Processing mushroom.sv-tst.v1.jsonl:  64%|██████▍   | 94/147 [10:31<04:30,  5.10s/entry]\u001B[A\n",
      "Processing mushroom.sv-tst.v1.jsonl:  65%|██████▍   | 95/147 [10:34<03:53,  4.49s/entry]\u001B[A\n",
      "Processing mushroom.sv-tst.v1.jsonl:  65%|██████▌   | 96/147 [10:37<03:16,  3.86s/entry]\u001B[A\n",
      "Processing mushroom.sv-tst.v1.jsonl:  66%|██████▌   | 97/147 [10:44<04:09,  4.98s/entry]\u001B[A\n",
      "Processing mushroom.sv-tst.v1.jsonl:  67%|██████▋   | 98/147 [10:51<04:25,  5.43s/entry]\u001B[A\n",
      "Processing mushroom.sv-tst.v1.jsonl:  67%|██████▋   | 99/147 [11:06<06:40,  8.34s/entry]\u001B[A\n",
      "Processing mushroom.sv-tst.v1.jsonl:  68%|██████▊   | 100/147 [11:15<06:35,  8.42s/entry]\u001B[A\n",
      "Processing mushroom.sv-tst.v1.jsonl:  69%|██████▊   | 101/147 [11:22<06:08,  8.01s/entry]\u001B[A\n",
      "Processing mushroom.sv-tst.v1.jsonl:  69%|██████▉   | 102/147 [11:26<05:06,  6.82s/entry]\u001B[A\n",
      "Processing mushroom.sv-tst.v1.jsonl:  70%|███████   | 103/147 [11:35<05:29,  7.48s/entry]\u001B[A\n",
      "Processing mushroom.sv-tst.v1.jsonl:  71%|███████   | 104/147 [11:44<05:47,  8.09s/entry]\u001B[A\n",
      "Processing mushroom.sv-tst.v1.jsonl:  71%|███████▏  | 105/147 [11:48<04:45,  6.80s/entry]\u001B[A\n",
      "Processing mushroom.sv-tst.v1.jsonl:  72%|███████▏  | 106/147 [11:53<04:12,  6.16s/entry]\u001B[A\n",
      "Processing mushroom.sv-tst.v1.jsonl:  73%|███████▎  | 107/147 [12:07<05:46,  8.66s/entry]\u001B[A\n",
      "Processing mushroom.sv-tst.v1.jsonl:  73%|███████▎  | 108/147 [12:14<05:14,  8.06s/entry]\u001B[A\n",
      "Processing mushroom.sv-tst.v1.jsonl:  74%|███████▍  | 109/147 [12:17<04:12,  6.64s/entry]\u001B[A\n",
      "Processing mushroom.sv-tst.v1.jsonl:  75%|███████▍  | 110/147 [12:22<03:42,  6.01s/entry]\u001B[A"
     ]
    },
    {
     "name": "stdout",
     "output_type": "stream",
     "text": [
      "No valid JSON found in content: ```json\n",
      "[]\n",
      "```\n"
     ]
    },
    {
     "name": "stderr",
     "output_type": "stream",
     "text": [
      "\n",
      "Processing mushroom.sv-tst.v1.jsonl:  76%|███████▌  | 111/147 [12:27<03:31,  5.89s/entry]\u001B[A\n",
      "Processing mushroom.sv-tst.v1.jsonl:  76%|███████▌  | 112/147 [12:31<03:00,  5.16s/entry]\u001B[A\n",
      "Processing mushroom.sv-tst.v1.jsonl:  77%|███████▋  | 113/147 [12:34<02:34,  4.55s/entry]\u001B[A\n",
      "Processing mushroom.sv-tst.v1.jsonl:  78%|███████▊  | 114/147 [12:36<02:07,  3.86s/entry]\u001B[A\n",
      "Processing mushroom.sv-tst.v1.jsonl:  78%|███████▊  | 115/147 [12:44<02:42,  5.08s/entry]\u001B[A\n",
      "Processing mushroom.sv-tst.v1.jsonl:  79%|███████▉  | 116/147 [12:46<02:09,  4.18s/entry]\u001B[A\n",
      "Processing mushroom.sv-tst.v1.jsonl:  80%|███████▉  | 117/147 [12:52<02:19,  4.64s/entry]\u001B[A\n",
      "Processing mushroom.sv-tst.v1.jsonl:  80%|████████  | 118/147 [12:58<02:32,  5.26s/entry]\u001B[A\n",
      "Processing mushroom.sv-tst.v1.jsonl:  81%|████████  | 119/147 [13:03<02:24,  5.14s/entry]\u001B[A\n",
      "Processing mushroom.sv-tst.v1.jsonl:  82%|████████▏ | 120/147 [13:07<02:10,  4.84s/entry]\u001B[A\n",
      "Processing mushroom.sv-tst.v1.jsonl:  82%|████████▏ | 121/147 [13:21<03:10,  7.32s/entry]\u001B[A\n",
      "Processing mushroom.sv-tst.v1.jsonl:  83%|████████▎ | 122/147 [13:25<02:42,  6.51s/entry]\u001B[A\n",
      "Processing mushroom.sv-tst.v1.jsonl:  84%|████████▎ | 123/147 [13:29<02:15,  5.67s/entry]\u001B[A"
     ]
    },
    {
     "name": "stdout",
     "output_type": "stream",
     "text": [
      "Failed to parse JSON content: [\n",
      "    {\"word\": \"Walt Disney\", \"prob\": 0.9},\n",
      "    {\"word\": \"Snow White och de sju dvärgarna\", \"prob\": 0.9\"},\n",
      "    {\"word\": \"1937\", \"prob\": 0.9}\n",
      "]. Error: Expecting ',' delimiter: line 3 column 60 (char 103)\n"
     ]
    },
    {
     "name": "stderr",
     "output_type": "stream",
     "text": [
      "\n",
      "Processing mushroom.sv-tst.v1.jsonl:  84%|████████▍ | 124/147 [13:37<02:30,  6.52s/entry]\u001B[A\n",
      "Processing mushroom.sv-tst.v1.jsonl:  85%|████████▌ | 125/147 [13:47<02:46,  7.55s/entry]\u001B[A\n",
      "Processing mushroom.sv-tst.v1.jsonl:  86%|████████▌ | 126/147 [13:54<02:35,  7.41s/entry]\u001B[A\n",
      "Processing mushroom.sv-tst.v1.jsonl:  86%|████████▋ | 127/147 [14:05<02:49,  8.48s/entry]\u001B[A\n",
      "Processing mushroom.sv-tst.v1.jsonl:  87%|████████▋ | 128/147 [14:15<02:46,  8.77s/entry]\u001B[A\n",
      "Processing mushroom.sv-tst.v1.jsonl:  88%|████████▊ | 129/147 [14:20<02:16,  7.60s/entry]\u001B[A\n",
      "Processing mushroom.sv-tst.v1.jsonl:  88%|████████▊ | 130/147 [14:23<01:46,  6.27s/entry]\u001B[A\n",
      "Processing mushroom.sv-tst.v1.jsonl:  89%|████████▉ | 131/147 [14:25<01:20,  5.03s/entry]\u001B[A\n",
      "Processing mushroom.sv-tst.v1.jsonl:  90%|████████▉ | 132/147 [14:29<01:09,  4.66s/entry]\u001B[A\n",
      "Processing mushroom.sv-tst.v1.jsonl:  90%|█████████ | 133/147 [14:32<00:57,  4.11s/entry]\u001B[A\n",
      "Processing mushroom.sv-tst.v1.jsonl:  91%|█████████ | 134/147 [14:34<00:45,  3.50s/entry]\u001B[A\n",
      "Processing mushroom.sv-tst.v1.jsonl:  92%|█████████▏| 135/147 [14:45<01:09,  5.83s/entry]\u001B[A\n",
      "Processing mushroom.sv-tst.v1.jsonl:  93%|█████████▎| 136/147 [14:51<01:03,  5.81s/entry]\u001B[A\n",
      "Processing mushroom.sv-tst.v1.jsonl:  93%|█████████▎| 137/147 [14:55<00:52,  5.25s/entry]\u001B[A\n",
      "Processing mushroom.sv-tst.v1.jsonl:  94%|█████████▍| 138/147 [15:03<00:55,  6.13s/entry]\u001B[A\n",
      "Processing mushroom.sv-tst.v1.jsonl:  95%|█████████▍| 139/147 [15:07<00:43,  5.42s/entry]\u001B[A\n",
      "Processing mushroom.sv-tst.v1.jsonl:  95%|█████████▌| 140/147 [15:11<00:34,  4.98s/entry]\u001B[A\n",
      "Processing mushroom.sv-tst.v1.jsonl:  96%|█████████▌| 141/147 [15:17<00:32,  5.36s/entry]\u001B[A\n",
      "Processing mushroom.sv-tst.v1.jsonl:  97%|█████████▋| 142/147 [15:23<00:27,  5.56s/entry]\u001B[A\n",
      "Processing mushroom.sv-tst.v1.jsonl:  97%|█████████▋| 143/147 [15:28<00:21,  5.33s/entry]\u001B[A\n",
      "Processing mushroom.sv-tst.v1.jsonl:  98%|█████████▊| 144/147 [15:31<00:14,  4.87s/entry]\u001B[A\n",
      "Processing mushroom.sv-tst.v1.jsonl:  99%|█████████▊| 145/147 [15:38<00:10,  5.29s/entry]\u001B[A\n",
      "Processing mushroom.sv-tst.v1.jsonl:  99%|█████████▉| 146/147 [15:44<00:05,  5.44s/entry]\u001B[A\n",
      "Processing mushroom.sv-tst.v1.jsonl: 100%|██████████| 147/147 [15:53<00:00,  6.67s/entry]\u001B[A\n",
      "Processing Files:  93%|█████████▎| 13/14 [3:07:02<16:03, 963.82s/file]                   \u001B[A"
     ]
    },
    {
     "name": "stdout",
     "output_type": "stream",
     "text": [
      "Processed and saved: ../data/test/detect_gpt4o_m2/mushroom.sv-tst.v1.jsonl\n"
     ]
    },
    {
     "name": "stderr",
     "output_type": "stream",
     "text": [
      "\n",
      "Processing mushroom.zh-tst.v1.jsonl:   0%|          | 0/150 [00:00<?, ?entry/s]\u001B[A\n",
      "Processing mushroom.zh-tst.v1.jsonl:   1%|          | 1/150 [00:05<13:27,  5.42s/entry]\u001B[A\n",
      "Processing mushroom.zh-tst.v1.jsonl:   1%|▏         | 2/150 [00:16<21:56,  8.89s/entry]\u001B[A\n",
      "Processing mushroom.zh-tst.v1.jsonl:   2%|▏         | 3/150 [00:22<18:23,  7.51s/entry]\u001B[A\n",
      "Processing mushroom.zh-tst.v1.jsonl:   3%|▎         | 4/150 [00:36<24:02,  9.88s/entry]\u001B[A\n",
      "Processing mushroom.zh-tst.v1.jsonl:   3%|▎         | 5/150 [00:48<25:48, 10.68s/entry]\u001B[A\n",
      "Processing mushroom.zh-tst.v1.jsonl:   4%|▍         | 6/150 [00:56<23:24,  9.75s/entry]\u001B[A\n",
      "Processing mushroom.zh-tst.v1.jsonl:   5%|▍         | 7/150 [01:02<20:15,  8.50s/entry]\u001B[A\n",
      "Processing mushroom.zh-tst.v1.jsonl:   5%|▌         | 8/150 [01:19<27:10, 11.48s/entry]\u001B[A\n",
      "Processing mushroom.zh-tst.v1.jsonl:   6%|▌         | 9/150 [01:26<23:27,  9.98s/entry]\u001B[A\n",
      "Processing mushroom.zh-tst.v1.jsonl:   7%|▋         | 10/150 [01:30<18:34,  7.96s/entry]\u001B[A\n",
      "Processing mushroom.zh-tst.v1.jsonl:   7%|▋         | 11/150 [01:33<15:17,  6.60s/entry]\u001B[A\n",
      "Processing mushroom.zh-tst.v1.jsonl:   8%|▊         | 12/150 [01:53<24:47, 10.78s/entry]\u001B[A\n",
      "Processing mushroom.zh-tst.v1.jsonl:   9%|▊         | 13/150 [02:01<22:31,  9.87s/entry]\u001B[A\n",
      "Processing mushroom.zh-tst.v1.jsonl:   9%|▉         | 14/150 [02:13<24:01, 10.60s/entry]\u001B[A\n",
      "Processing mushroom.zh-tst.v1.jsonl:  10%|█         | 15/150 [02:26<25:28, 11.32s/entry]\u001B[A\n",
      "Processing mushroom.zh-tst.v1.jsonl:  11%|█         | 16/150 [02:31<20:55,  9.37s/entry]\u001B[A\n",
      "Processing mushroom.zh-tst.v1.jsonl:  11%|█▏        | 17/150 [02:41<20:47,  9.38s/entry]\u001B[A\n",
      "Processing mushroom.zh-tst.v1.jsonl:  12%|█▏        | 18/150 [02:45<17:29,  7.95s/entry]\u001B[A\n",
      "Processing mushroom.zh-tst.v1.jsonl:  13%|█▎        | 19/150 [02:58<20:07,  9.22s/entry]\u001B[A\n",
      "Processing mushroom.zh-tst.v1.jsonl:  13%|█▎        | 20/150 [03:01<16:18,  7.53s/entry]\u001B[A"
     ]
    },
    {
     "name": "stdout",
     "output_type": "stream",
     "text": [
      "No valid JSON found in content: ```json\n",
      "[]\n",
      "```\n"
     ]
    },
    {
     "name": "stderr",
     "output_type": "stream",
     "text": [
      "\n",
      "Processing mushroom.zh-tst.v1.jsonl:  14%|█▍        | 21/150 [03:12<18:02,  8.39s/entry]\u001B[A\n",
      "Processing mushroom.zh-tst.v1.jsonl:  15%|█▍        | 22/150 [03:14<14:24,  6.75s/entry]\u001B[A\n",
      "Processing mushroom.zh-tst.v1.jsonl:  15%|█▌        | 23/150 [03:22<15:02,  7.10s/entry]\u001B[A\n",
      "Processing mushroom.zh-tst.v1.jsonl:  16%|█▌        | 24/150 [03:28<13:53,  6.62s/entry]\u001B[A\n",
      "Processing mushroom.zh-tst.v1.jsonl:  17%|█▋        | 25/150 [03:35<13:54,  6.68s/entry]\u001B[A\n",
      "Processing mushroom.zh-tst.v1.jsonl:  17%|█▋        | 26/150 [03:40<13:13,  6.40s/entry]\u001B[A\n",
      "Processing mushroom.zh-tst.v1.jsonl:  18%|█▊        | 27/150 [03:46<12:43,  6.21s/entry]\u001B[A\n",
      "Processing mushroom.zh-tst.v1.jsonl:  19%|█▊        | 28/150 [03:54<13:32,  6.66s/entry]\u001B[A\n",
      "Processing mushroom.zh-tst.v1.jsonl:  19%|█▉        | 29/150 [04:00<13:16,  6.58s/entry]\u001B[A\n",
      "Processing mushroom.zh-tst.v1.jsonl:  20%|██        | 30/150 [04:07<13:24,  6.71s/entry]\u001B[A\n",
      "Processing mushroom.zh-tst.v1.jsonl:  21%|██        | 31/150 [04:21<17:44,  8.95s/entry]\u001B[A\n",
      "Processing mushroom.zh-tst.v1.jsonl:  21%|██▏       | 32/150 [04:36<20:51, 10.61s/entry]\u001B[A\n",
      "Processing mushroom.zh-tst.v1.jsonl:  22%|██▏       | 33/150 [04:41<17:41,  9.07s/entry]\u001B[A\n",
      "Processing mushroom.zh-tst.v1.jsonl:  23%|██▎       | 34/150 [04:46<14:58,  7.74s/entry]\u001B[A\n",
      "Processing mushroom.zh-tst.v1.jsonl:  23%|██▎       | 35/150 [04:55<15:38,  8.16s/entry]\u001B[A\n",
      "Processing mushroom.zh-tst.v1.jsonl:  24%|██▍       | 36/150 [04:59<12:53,  6.79s/entry]\u001B[A\n",
      "Processing mushroom.zh-tst.v1.jsonl:  25%|██▍       | 37/150 [05:04<12:02,  6.39s/entry]\u001B[A\n",
      "Processing mushroom.zh-tst.v1.jsonl:  25%|██▌       | 38/150 [05:16<14:42,  7.88s/entry]\u001B[A\n",
      "Processing mushroom.zh-tst.v1.jsonl:  26%|██▌       | 39/150 [05:26<16:09,  8.74s/entry]\u001B[A\n",
      "Processing mushroom.zh-tst.v1.jsonl:  27%|██▋       | 40/150 [05:30<13:07,  7.16s/entry]\u001B[A\n",
      "Processing mushroom.zh-tst.v1.jsonl:  27%|██▋       | 41/150 [05:46<17:46,  9.79s/entry]\u001B[A\n",
      "Processing mushroom.zh-tst.v1.jsonl:  28%|██▊       | 42/150 [05:54<16:52,  9.38s/entry]\u001B[A\n",
      "Processing mushroom.zh-tst.v1.jsonl:  29%|██▊       | 43/150 [06:01<15:24,  8.64s/entry]\u001B[A\n",
      "Processing mushroom.zh-tst.v1.jsonl:  29%|██▉       | 44/150 [06:10<15:27,  8.75s/entry]\u001B[A\n",
      "Processing mushroom.zh-tst.v1.jsonl:  30%|███       | 45/150 [06:16<13:57,  7.97s/entry]\u001B[A\n",
      "Processing mushroom.zh-tst.v1.jsonl:  31%|███       | 46/150 [06:21<12:08,  7.01s/entry]\u001B[A\n",
      "Processing mushroom.zh-tst.v1.jsonl:  31%|███▏      | 47/150 [06:36<16:16,  9.48s/entry]\u001B[A\n",
      "Processing mushroom.zh-tst.v1.jsonl:  32%|███▏      | 48/150 [06:43<14:35,  8.58s/entry]\u001B[A\n",
      "Processing mushroom.zh-tst.v1.jsonl:  33%|███▎      | 49/150 [06:53<15:11,  9.02s/entry]\u001B[A\n",
      "Processing mushroom.zh-tst.v1.jsonl:  33%|███▎      | 50/150 [07:01<14:38,  8.79s/entry]\u001B[A\n",
      "Processing mushroom.zh-tst.v1.jsonl:  34%|███▍      | 51/150 [07:09<14:05,  8.54s/entry]\u001B[A\n",
      "Processing mushroom.zh-tst.v1.jsonl:  35%|███▍      | 52/150 [07:37<23:23, 14.32s/entry]\u001B[A\n",
      "Processing mushroom.zh-tst.v1.jsonl:  35%|███▌      | 53/150 [07:40<17:42, 10.95s/entry]\u001B[A\n",
      "Processing mushroom.zh-tst.v1.jsonl:  36%|███▌      | 54/150 [07:46<15:07,  9.45s/entry]\u001B[A\n",
      "Processing mushroom.zh-tst.v1.jsonl:  37%|███▋      | 55/150 [07:52<13:19,  8.42s/entry]\u001B[A\n",
      "Processing mushroom.zh-tst.v1.jsonl:  37%|███▋      | 56/150 [07:57<11:35,  7.39s/entry]\u001B[A\n",
      "Processing mushroom.zh-tst.v1.jsonl:  38%|███▊      | 57/150 [08:29<22:56, 14.80s/entry]\u001B[A\n",
      "Processing mushroom.zh-tst.v1.jsonl:  39%|███▊      | 58/150 [08:35<18:43, 12.21s/entry]\u001B[A\n",
      "Processing mushroom.zh-tst.v1.jsonl:  39%|███▉      | 59/150 [08:40<15:14, 10.05s/entry]\u001B[A\n",
      "Processing mushroom.zh-tst.v1.jsonl:  40%|████      | 60/150 [08:44<12:20,  8.23s/entry]\u001B[A\n",
      "Processing mushroom.zh-tst.v1.jsonl:  41%|████      | 61/150 [08:54<12:52,  8.68s/entry]\u001B[A\n",
      "Processing mushroom.zh-tst.v1.jsonl:  41%|████▏     | 62/150 [09:10<16:12, 11.05s/entry]\u001B[A\n",
      "Processing mushroom.zh-tst.v1.jsonl:  42%|████▏     | 63/150 [09:16<13:48,  9.52s/entry]\u001B[A\n",
      "Processing mushroom.zh-tst.v1.jsonl:  43%|████▎     | 64/150 [09:27<14:16,  9.96s/entry]\u001B[A\n",
      "Processing mushroom.zh-tst.v1.jsonl:  43%|████▎     | 65/150 [09:39<14:38, 10.34s/entry]\u001B[A\n",
      "Processing mushroom.zh-tst.v1.jsonl:  44%|████▍     | 66/150 [09:49<14:29, 10.35s/entry]\u001B[A\n",
      "Processing mushroom.zh-tst.v1.jsonl:  45%|████▍     | 67/150 [09:55<12:22,  8.94s/entry]\u001B[A\n",
      "Processing mushroom.zh-tst.v1.jsonl:  45%|████▌     | 68/150 [10:00<10:36,  7.77s/entry]\u001B[A\n",
      "Processing mushroom.zh-tst.v1.jsonl:  46%|████▌     | 69/150 [10:08<10:35,  7.84s/entry]\u001B[A\n",
      "Processing mushroom.zh-tst.v1.jsonl:  47%|████▋     | 70/150 [10:15<10:05,  7.57s/entry]\u001B[A\n",
      "Processing mushroom.zh-tst.v1.jsonl:  47%|████▋     | 71/150 [10:22<09:53,  7.51s/entry]\u001B[A\n",
      "Processing mushroom.zh-tst.v1.jsonl:  48%|████▊     | 72/150 [10:38<13:03, 10.04s/entry]\u001B[A\n",
      "Processing mushroom.zh-tst.v1.jsonl:  49%|████▊     | 73/150 [10:43<11:10,  8.71s/entry]\u001B[A\n",
      "Processing mushroom.zh-tst.v1.jsonl:  49%|████▉     | 74/150 [10:46<08:44,  6.90s/entry]\u001B[A\n",
      "Processing mushroom.zh-tst.v1.jsonl:  50%|█████     | 75/150 [10:57<10:03,  8.05s/entry]\u001B[A\n",
      "Processing mushroom.zh-tst.v1.jsonl:  51%|█████     | 76/150 [11:11<12:16,  9.95s/entry]\u001B[A\n",
      "Processing mushroom.zh-tst.v1.jsonl:  51%|█████▏    | 77/150 [11:31<15:43, 12.93s/entry]\u001B[A\n",
      "Processing mushroom.zh-tst.v1.jsonl:  52%|█████▏    | 78/150 [11:38<13:23, 11.15s/entry]\u001B[A\n",
      "Processing mushroom.zh-tst.v1.jsonl:  53%|█████▎    | 79/150 [11:47<12:15, 10.35s/entry]\u001B[A\n",
      "Processing mushroom.zh-tst.v1.jsonl:  53%|█████▎    | 80/150 [11:54<11:03,  9.48s/entry]\u001B[A\n",
      "Processing mushroom.zh-tst.v1.jsonl:  54%|█████▍    | 81/150 [12:05<11:21,  9.87s/entry]\u001B[A\n",
      "Processing mushroom.zh-tst.v1.jsonl:  55%|█████▍    | 82/150 [12:10<09:43,  8.58s/entry]\u001B[A\n",
      "Processing mushroom.zh-tst.v1.jsonl:  55%|█████▌    | 83/150 [12:18<09:24,  8.42s/entry]\u001B[A\n",
      "Processing mushroom.zh-tst.v1.jsonl:  56%|█████▌    | 84/150 [12:32<10:52,  9.88s/entry]\u001B[A\n",
      "Processing mushroom.zh-tst.v1.jsonl:  57%|█████▋    | 85/150 [12:44<11:20, 10.46s/entry]\u001B[A\n",
      "Processing mushroom.zh-tst.v1.jsonl:  57%|█████▋    | 86/150 [12:51<10:15,  9.61s/entry]\u001B[A\n",
      "Processing mushroom.zh-tst.v1.jsonl:  58%|█████▊    | 87/150 [12:55<08:13,  7.83s/entry]\u001B[A\n",
      "Processing mushroom.zh-tst.v1.jsonl:  59%|█████▊    | 88/150 [13:04<08:24,  8.14s/entry]\u001B[A\n",
      "Processing mushroom.zh-tst.v1.jsonl:  59%|█████▉    | 89/150 [13:11<08:05,  7.97s/entry]\u001B[A\n",
      "Processing mushroom.zh-tst.v1.jsonl:  60%|██████    | 90/150 [13:20<08:07,  8.13s/entry]\u001B[A\n",
      "Processing mushroom.zh-tst.v1.jsonl:  61%|██████    | 91/150 [13:36<10:21, 10.54s/entry]\u001B[A\n",
      "Processing mushroom.zh-tst.v1.jsonl:  61%|██████▏   | 92/150 [13:45<09:47, 10.13s/entry]\u001B[A\n",
      "Processing mushroom.zh-tst.v1.jsonl:  62%|██████▏   | 93/150 [13:52<08:45,  9.22s/entry]\u001B[A\n",
      "Processing mushroom.zh-tst.v1.jsonl:  63%|██████▎   | 94/150 [14:03<08:58,  9.62s/entry]\u001B[A\n",
      "Processing mushroom.zh-tst.v1.jsonl:  63%|██████▎   | 95/150 [14:12<08:45,  9.56s/entry]\u001B[A\n",
      "Processing mushroom.zh-tst.v1.jsonl:  64%|██████▍   | 96/150 [14:16<07:08,  7.94s/entry]\u001B[A\n",
      "Processing mushroom.zh-tst.v1.jsonl:  65%|██████▍   | 97/150 [14:20<05:59,  6.78s/entry]\u001B[A\n",
      "Processing mushroom.zh-tst.v1.jsonl:  65%|██████▌   | 98/150 [14:39<08:58, 10.35s/entry]\u001B[A\n",
      "Processing mushroom.zh-tst.v1.jsonl:  66%|██████▌   | 99/150 [14:52<09:28, 11.14s/entry]\u001B[A\n",
      "Processing mushroom.zh-tst.v1.jsonl:  67%|██████▋   | 100/150 [15:07<10:12, 12.24s/entry]\u001B[A\n",
      "Processing mushroom.zh-tst.v1.jsonl:  67%|██████▋   | 101/150 [15:22<10:47, 13.22s/entry]\u001B[A\n",
      "Processing mushroom.zh-tst.v1.jsonl:  68%|██████▊   | 102/150 [15:28<08:44, 10.93s/entry]\u001B[A\n",
      "Processing mushroom.zh-tst.v1.jsonl:  69%|██████▊   | 103/150 [15:36<07:54, 10.10s/entry]\u001B[A\n",
      "Processing mushroom.zh-tst.v1.jsonl:  69%|██████▉   | 104/150 [15:48<08:03, 10.52s/entry]\u001B[A\n",
      "Processing mushroom.zh-tst.v1.jsonl:  70%|███████   | 105/150 [15:54<06:55,  9.24s/entry]\u001B[A\n",
      "Processing mushroom.zh-tst.v1.jsonl:  71%|███████   | 106/150 [16:00<06:06,  8.34s/entry]\u001B[A\n",
      "Processing mushroom.zh-tst.v1.jsonl:  71%|███████▏  | 107/150 [16:12<06:47,  9.47s/entry]\u001B[A\n",
      "Processing mushroom.zh-tst.v1.jsonl:  72%|███████▏  | 108/150 [16:21<06:29,  9.28s/entry]\u001B[A\n",
      "Processing mushroom.zh-tst.v1.jsonl:  73%|███████▎  | 109/150 [16:28<05:50,  8.56s/entry]\u001B[A\n",
      "Processing mushroom.zh-tst.v1.jsonl:  73%|███████▎  | 110/150 [16:39<06:06,  9.17s/entry]\u001B[A\n",
      "Processing mushroom.zh-tst.v1.jsonl:  74%|███████▍  | 111/150 [16:47<05:51,  9.01s/entry]\u001B[A\n",
      "Processing mushroom.zh-tst.v1.jsonl:  75%|███████▍  | 112/150 [16:52<04:56,  7.80s/entry]\u001B[A\n",
      "Processing mushroom.zh-tst.v1.jsonl:  75%|███████▌  | 113/150 [16:59<04:34,  7.43s/entry]\u001B[A\n",
      "Processing mushroom.zh-tst.v1.jsonl:  76%|███████▌  | 114/150 [17:27<08:17, 13.81s/entry]\u001B[A\n",
      "Processing mushroom.zh-tst.v1.jsonl:  77%|███████▋  | 115/150 [17:34<06:46, 11.62s/entry]\u001B[A\n",
      "Processing mushroom.zh-tst.v1.jsonl:  77%|███████▋  | 116/150 [17:40<05:34,  9.84s/entry]\u001B[A\n",
      "Processing mushroom.zh-tst.v1.jsonl:  78%|███████▊  | 117/150 [17:47<04:56,  8.98s/entry]\u001B[A\n",
      "Processing mushroom.zh-tst.v1.jsonl:  79%|███████▊  | 118/150 [18:02<05:46, 10.82s/entry]\u001B[A\n",
      "Processing mushroom.zh-tst.v1.jsonl:  79%|███████▉  | 119/150 [18:12<05:27, 10.55s/entry]\u001B[A\n",
      "Processing mushroom.zh-tst.v1.jsonl:  80%|████████  | 120/150 [18:17<04:29,  8.97s/entry]\u001B[A\n",
      "Processing mushroom.zh-tst.v1.jsonl:  81%|████████  | 121/150 [18:24<04:05,  8.48s/entry]\u001B[A\n",
      "Processing mushroom.zh-tst.v1.jsonl:  81%|████████▏ | 122/150 [18:30<03:35,  7.71s/entry]\u001B[A\n",
      "Processing mushroom.zh-tst.v1.jsonl:  82%|████████▏ | 123/150 [18:46<04:29,  9.99s/entry]\u001B[A\n",
      "Processing mushroom.zh-tst.v1.jsonl:  83%|████████▎ | 124/150 [19:02<05:08, 11.87s/entry]\u001B[A\n",
      "Processing mushroom.zh-tst.v1.jsonl:  83%|████████▎ | 125/150 [19:12<04:47, 11.50s/entry]\u001B[A\n",
      "Processing mushroom.zh-tst.v1.jsonl:  84%|████████▍ | 126/150 [19:20<04:06, 10.26s/entry]\u001B[A\n",
      "Processing mushroom.zh-tst.v1.jsonl:  85%|████████▍ | 127/150 [19:27<03:37,  9.47s/entry]\u001B[A\n",
      "Processing mushroom.zh-tst.v1.jsonl:  85%|████████▌ | 128/150 [19:32<02:58,  8.12s/entry]\u001B[A\n",
      "Processing mushroom.zh-tst.v1.jsonl:  86%|████████▌ | 129/150 [19:36<02:22,  6.80s/entry]\u001B[A\n",
      "Processing mushroom.zh-tst.v1.jsonl:  87%|████████▋ | 130/150 [19:40<01:58,  5.90s/entry]\u001B[A\n",
      "Processing mushroom.zh-tst.v1.jsonl:  87%|████████▋ | 131/150 [19:48<02:05,  6.61s/entry]\u001B[A\n",
      "Processing mushroom.zh-tst.v1.jsonl:  88%|████████▊ | 132/150 [19:58<02:17,  7.65s/entry]\u001B[A\n",
      "Processing mushroom.zh-tst.v1.jsonl:  89%|████████▊ | 133/150 [20:04<01:59,  7.05s/entry]\u001B[A\n",
      "Processing mushroom.zh-tst.v1.jsonl:  89%|████████▉ | 134/150 [20:24<02:53, 10.87s/entry]\u001B[A\n",
      "Processing mushroom.zh-tst.v1.jsonl:  90%|█████████ | 135/150 [20:33<02:35, 10.36s/entry]\u001B[A\n",
      "Processing mushroom.zh-tst.v1.jsonl:  91%|█████████ | 136/150 [20:46<02:35, 11.12s/entry]\u001B[A\n",
      "Processing mushroom.zh-tst.v1.jsonl:  91%|█████████▏| 137/150 [20:49<01:55,  8.90s/entry]\u001B[A\n",
      "Processing mushroom.zh-tst.v1.jsonl:  92%|█████████▏| 138/150 [20:54<01:29,  7.48s/entry]\u001B[A\n",
      "Processing mushroom.zh-tst.v1.jsonl:  93%|█████████▎| 139/150 [20:58<01:13,  6.65s/entry]\u001B[A\n",
      "Processing mushroom.zh-tst.v1.jsonl:  93%|█████████▎| 140/150 [21:09<01:17,  7.80s/entry]\u001B[A\n",
      "Processing mushroom.zh-tst.v1.jsonl:  94%|█████████▍| 141/150 [21:35<01:59, 13.30s/entry]\u001B[A\n",
      "Processing mushroom.zh-tst.v1.jsonl:  95%|█████████▍| 142/150 [21:40<01:27, 10.91s/entry]\u001B[A\n",
      "Processing mushroom.zh-tst.v1.jsonl:  95%|█████████▌| 143/150 [22:01<01:36, 13.76s/entry]\u001B[A\n",
      "Processing mushroom.zh-tst.v1.jsonl:  96%|█████████▌| 144/150 [22:06<01:07, 11.26s/entry]\u001B[A\n",
      "Processing mushroom.zh-tst.v1.jsonl:  97%|█████████▋| 145/150 [22:12<00:48,  9.76s/entry]\u001B[A\n",
      "Processing mushroom.zh-tst.v1.jsonl:  97%|█████████▋| 146/150 [22:19<00:34,  8.74s/entry]\u001B[A\n",
      "Processing mushroom.zh-tst.v1.jsonl:  98%|█████████▊| 147/150 [22:25<00:24,  8.05s/entry]\u001B[A\n",
      "Processing mushroom.zh-tst.v1.jsonl:  99%|█████████▊| 148/150 [22:30<00:14,  7.06s/entry]\u001B[A\n",
      "Processing mushroom.zh-tst.v1.jsonl:  99%|█████████▉| 149/150 [22:36<00:06,  6.75s/entry]\u001B[A\n",
      "Processing mushroom.zh-tst.v1.jsonl: 100%|██████████| 150/150 [22:53<00:00,  9.90s/entry]\u001B[A\n",
      "Processing Files: 100%|██████████| 14/14 [3:29:56<00:00, 899.76s/file]                   \u001B[A"
     ]
    },
    {
     "name": "stdout",
     "output_type": "stream",
     "text": [
      "Processed and saved: ../data/test/detect_gpt4o_m2/mushroom.zh-tst.v1.jsonl\n"
     ]
    },
    {
     "name": "stderr",
     "output_type": "stream",
     "text": [
      "\n"
     ]
    }
   ],
   "source": [
    "input_folder = \"../data/test/exknowledge_m2/\"\n",
    "output_folder = \"../data/test/detect_gpt4o_m2/\"\n",
    "\n",
    "process_dataset(input_folder, output_folder)"
   ]
  },
  {
   "cell_type": "markdown",
   "metadata": {
    "id": "9c63a069-8fff-4ea5-a228-533ef3d816ee"
   },
   "source": [
    "## Evaluation"
   ]
  },
  {
   "cell_type": "code",
   "execution_count": 31,
   "metadata": {
    "id": "e0e962be-e202-4c29-9c62-31cdbe3565a6",
    "outputId": "57e5f246-e098-4cc8-a37e-591ff494f541"
   },
   "outputs": [
    {
     "name": "stdout",
     "output_type": "stream",
     "text": [
      "Results for mushroom.ar-val.v2.jsonl:\n",
      "  Mean IoU: 0.61005286\n",
      "  Mean Spearman Correlation: 0.63970936\n",
      "Results for mushroom.de-val.v2.jsonl:\n",
      "  Mean IoU: 0.52240065\n",
      "  Mean Spearman Correlation: 0.57634424\n",
      "Results for mushroom.en-val.v2.jsonl:\n",
      "  Mean IoU: 0.38307033\n",
      "  Mean Spearman Correlation: 0.46006836\n",
      "Results for mushroom.es-val.v2.jsonl:\n",
      "  Mean IoU: 0.48728646\n",
      "  Mean Spearman Correlation: 0.40366676\n",
      "Results for mushroom.fi-val.v2.jsonl:\n",
      "  Mean IoU: 0.40861202\n",
      "  Mean Spearman Correlation: 0.50685979\n",
      "Results for mushroom.fr-val.v2.jsonl:\n",
      "  Mean IoU: 0.33776171\n",
      "  Mean Spearman Correlation: 0.46011749\n",
      "Results for mushroom.hi-val.v2.jsonl:\n",
      "  Mean IoU: 0.55180719\n",
      "  Mean Spearman Correlation: 0.63237819\n",
      "Results for mushroom.it-val.v2.jsonl:\n",
      "  Mean IoU: 0.51044690\n",
      "  Mean Spearman Correlation: 0.64184836\n",
      "Results for mushroom.sv-val.v2.jsonl:\n",
      "  Mean IoU: 0.45791854\n",
      "  Mean Spearman Correlation: 0.45444692\n",
      "Results for mushroom.zh-val.v2.jsonl:\n",
      "  Mean IoU: 0.21900529\n",
      "  Mean Spearman Correlation: 0.25576142\n"
     ]
    }
   ],
   "source": [
    "def evaluate_iou_and_cor(val_dir, detect_dir, output_file):\n",
    "    \"\"\"\n",
    "    Evaluate IoU and Spearman correlation between the reference (val) and detected (detect) files.\n",
    "\n",
    "    :param val_dir: Directory containing the ground truth files (e.g., data/val/val/)\n",
    "    :param detect_dir: Directory containing the detected files (e.g., data/detect/)\n",
    "    :param output_file: Path to save the evaluation results (optional)\n",
    "    \"\"\"\n",
    "    # List all files in the validation directory\n",
    "    val_files = os.listdir(val_dir)\n",
    "    detect_files = os.listdir(detect_dir)\n",
    "\n",
    "    # Ensure that we are comparing the same files (same lang)\n",
    "    for val_file in val_files:\n",
    "        # Skip non-JSONL files\n",
    "        if not val_file.endswith('.jsonl'):\n",
    "            continue\n",
    "\n",
    "        # Remove the first 'val/' part from the file path to match the structure of detect directory\n",
    "        detect_file_name = val_file.replace('val/', '')  # Remove 'val/' from the file name\n",
    "\n",
    "        # Check if the corresponding detect file exists\n",
    "        detect_file_path = os.path.join(detect_dir, detect_file_name)\n",
    "\n",
    "        if not os.path.exists(detect_file_path):\n",
    "            print(f\"Warning: {detect_file_path} not found, skipping.\")\n",
    "            continue\n",
    "\n",
    "        # Load ground truth (val) and detected (detect) data\n",
    "        ref_dicts = load_jsonl_file_to_records(os.path.join(val_dir, val_file))\n",
    "        pred_dicts = load_jsonl_file_to_records(detect_file_path)\n",
    "\n",
    "        # Calculate IoU and Spearman correlation\n",
    "#        try:\n",
    "        ious, cors = main(ref_dicts, pred_dicts)\n",
    "#        except IndexError as e:\n",
    " #           print(f\"IndexError occurred for file: {val_file}, skipping this file. Error: {e}\")\n",
    "  #          continue\n",
    "\n",
    "        # Print or save the results\n",
    "        print(f\"Results for {val_file}:\")\n",
    "        print(f\"  Mean IoU: {ious.mean():.8f}\")\n",
    "        print(f\"  Mean Spearman Correlation: {cors.mean():.8f}\")\n",
    "\n",
    "        # Optionally, save the results to a file\n",
    "        if output_file:\n",
    "            with open(output_file, 'a', encoding='utf-8') as f:\n",
    "                f.write(f\"Results for {val_file}:\\n\")\n",
    "                f.write(f\"  Mean IoU: {ious.mean():.8f}\\n\")\n",
    "                f.write(f\"  Mean Spearman Correlation: {cors.mean():.8f}\\n\\n\")\n",
    "\n",
    "val_dir = '../data/val/val/'\n",
    "detect_dir = '../data/detect_val/detect_gpt4o_m2/'\n",
    "output_file = 'evaluation_results_gpt4o.txt'\n",
    "evaluate_iou_and_cor(val_dir, detect_dir, output_file)"
   ]
  },
  {
   "cell_type": "code",
   "execution_count": null,
   "metadata": {},
   "outputs": [],
   "source": []
  }
 ],
 "metadata": {
  "colab": {
   "authorship_tag": "ABX9TyMlkfjMuu66aDP4kbsqjxHM",
   "provenance": []
  },
  "kernelspec": {
   "display_name": "Python 3 (ipykernel)",
   "language": "python",
   "name": "python3"
  },
  "language_info": {
   "codemirror_mode": {
    "name": "ipython",
    "version": 3
   },
   "file_extension": ".py",
   "mimetype": "text/x-python",
   "name": "python",
   "nbconvert_exporter": "python",
   "pygments_lexer": "ipython3",
   "version": "3.8.20"
  }
 },
 "nbformat": 4,
 "nbformat_minor": 4
}
